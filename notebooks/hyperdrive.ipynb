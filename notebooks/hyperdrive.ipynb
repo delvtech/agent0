{
  "cells": [
    {
      "attachments": {},
      "cell_type": "markdown",
      "metadata": {
        "colab_type": "text",
        "id": "view-in-github"
      },
      "source": [
        "<a href=\"https://colab.research.google.com/github/delvtech/elf-simulations/blob/4536bb486b7ce857840996448dbb479adb1c5c14/examples/notebooks/hyperdrive.ipynb\" target=\"_parent\"><img src=\"https://colab.research.google.com/assets/colab-badge.svg\" alt=\"Open In Colab\"/></a>"
      ]
    },
    {
      "attachments": {},
      "cell_type": "markdown",
      "metadata": {},
      "source": [
        "## Hyperdrive Simulation\n",
        "We use the following setup:\n",
        "- 90 day term\n",
        "- 200 agents, 100 randomly open and close longs, the other 100 randomly open and close shorts\n",
        "- agents are initialized with 1 million of capital, trading 10% of their budget per trade\n",
        "- they trade at random intervals calibrated to be roughly twice per term (1 open 1 close)\n",
        "- there is one Liquidity Provider which deposits 500 million of liquidity\n",
        "\n",
        "For details on the simulation framework, please see our <a href=\"https://elfpy.delv.tech/\">simulation documentation</a>"
      ]
    },
    {
      "cell_type": "markdown",
      "metadata": {
        "id": "EITUXDh8Rtif"
      },
      "source": [
        "### Install repo requirements & import packages"
      ]
    },
    {
      "cell_type": "code",
      "execution_count": null,
      "metadata": {
        "id": "fb7TjkLw4bHR"
      },
      "outputs": [],
      "source": [
        "# test: skip-cell\n",
        "try: # install repo only if running on google colab\n",
        "    import google.colab # check if running in Google Colaboratory\n",
        "    !pip install -r https://raw.githubusercontent.com/delvtech/elf-simulations/main/requirements.txt\n",
        "    !pip install git+https://github.com/delvtech/elf-simulations.git@4536bb486b7ce857840996448dbb479adb1c5c14\n",
        "except:\n",
        "    print(\"running locally & trusting that you have the dependencies installed\")"
      ]
    },
    {
      "cell_type": "code",
      "execution_count": null,
      "metadata": {
        "id": "efreB4W-4u1q"
      },
      "outputs": [],
      "source": [
        "from __future__ import annotations\n",
        "\n",
        "import numpy as np\n",
        "from numpy.random._generator import Generator\n",
        "import matplotlib.pyplot as plt\n",
        "import pandas as pd\n",
        "\n",
        "from elfpy.agents.agent import Agent\n",
        "from elfpy.utils import sim_utils\n",
        "from elfpy.simulators import Config\n",
        "from elfpy.utils.outputs import get_gridspec_subplots\n",
        "\n",
        "import elfpy.markets.hyperdrive.hyperdrive_actions as hyperdrive_actions\n",
        "import elfpy.utils.outputs as output_utils\n",
        "import elfpy.utils.post_processing as post_processing\n",
        "import elfpy.agents.policies.random_agent as random_agent"
      ]
    },
    {
      "cell_type": "markdown",
      "metadata": {
        "id": "MMgaUflvLPnq"
      },
      "source": [
        "### Setup experiment parameters"
      ]
    },
    {
      "cell_type": "code",
      "execution_count": null,
      "metadata": {
        "id": "_PY2dAov5nxy"
      },
      "outputs": [],
      "source": [
        "config = Config()\n",
        "\n",
        "config.title = \"Hyperdrive demo\"\n",
        "config.pricing_model_name = \"Hyperdrive\" # can be yieldspace or hyperdrive\n",
        "\n",
        "config.num_trading_days = 90 # Number of simulated trading days\n",
        "config.num_blocks_per_day = 10 # Blocks in a given day (7200 means ~12 sec per block)\n",
        "config.num_position_days = 45\n",
        "config.curve_fee_multiple = 0.10 # fee multiple applied to the price slippage (1-p) collected on trades\n",
        "config.flat_fee_multiple = 0.005 # 5 bps\n",
        "\n",
        "num_agents = 100 # int specifying how many agents you want to simulate\n",
        "agent_budget = 1_000_000 # max money an agent can spend\n",
        "trade_chance = 2 / (config.num_trading_days * config.num_blocks_per_day) # on a given block, an agent will trade with probability `trade_chance`\n",
        "\n",
        "config.target_fixed_apr = 0.01 # target fixed APR of the initial market after the LP\n",
        "config.target_liquidity = 500_000_000 # target total liquidity of the initial market, before any trades\n",
        "\n",
        "config.log_level = output_utils.text_to_log_level(\"WARNING\") # Logging level, should be in [\"DEBUG\", \"INFO\", \"WARNING\"]\n",
        "config.log_filename = \"hyperdrive\" # Output filename for logging"
      ]
    },
    {
      "cell_type": "markdown",
      "metadata": {
        "id": "gMKQLsMiLd-_"
      },
      "source": [
        "### Setup agents"
      ]
    },
    {
      "cell_type": "code",
      "execution_count": null,
      "metadata": {
        "id": "kroJESetLW3l"
      },
      "outputs": [],
      "source": [
        "class RandomAgent(random_agent.Policy):\n",
        "    \"\"\"Agent that randomly opens or closes longs or shorts\n",
        "\n",
        "    Customized from the policy in that one can force the agent to only open longs or shorts\n",
        "    \"\"\"\n",
        "\n",
        "    def __init__(self, rng: Generator, trade_chance: float, wallet_address: int, budget: int = 10_000) -> None:\n",
        "        \"\"\"Add custom stuff then call basic policy init\"\"\"\n",
        "        self.trade_long = True  # default to allow easy overriding\n",
        "        self.trade_short = True  # default to allow easy overriding\n",
        "        super().__init__(rng, trade_chance, wallet_address, budget)\n",
        "    \n",
        "\n",
        "    def get_available_actions(\n",
        "        self,\n",
        "        disallowed_actions: \"list[hyperdrive_actions.MarketActionType] | None\" = None,\n",
        "    ) -> \"list[hyperdrive_actions.MarketActionType]\":\n",
        "        \"\"\"Get all available actions, excluding those listed in disallowed_actions\"\"\"\n",
        "        # override disallowed_actions\n",
        "        disallowed_actions = []\n",
        "        if not self.trade_long: # disallow longs\n",
        "            disallowed_actions += [\n",
        "                hyperdrive_actions.MarketActionType.OPEN_LONG,\n",
        "                hyperdrive_actions.MarketActionType.CLOSE_LONG\n",
        "            ]\n",
        "        if not self.trade_short: # disallow shorts\n",
        "            disallowed_actions += [\n",
        "                hyperdrive_actions.MarketActionType.OPEN_SHORT,\n",
        "                hyperdrive_actions.MarketActionType.CLOSE_SHORT\n",
        "            ]\n",
        "        # compile a list of all actions\n",
        "        all_available_actions = [\n",
        "            hyperdrive_actions.MarketActionType.OPEN_LONG,\n",
        "            hyperdrive_actions.MarketActionType.OPEN_SHORT,\n",
        "        ]\n",
        "        if self.wallet.longs:  # if the agent has open longs\n",
        "            all_available_actions.append(hyperdrive_actions.MarketActionType.CLOSE_LONG)\n",
        "        if self.wallet.shorts:  # if the agent has open shorts\n",
        "            all_available_actions.append(hyperdrive_actions.MarketActionType.CLOSE_SHORT)\n",
        "        # downselect from all actions to only include allowed actions\n",
        "        return [action for action in all_available_actions if action not in disallowed_actions]\n",
        "\n",
        "def get_example_agents(rng: Generator, budget: int, new_agents: int, existing_agents: int = 0, direction: str = None) -> list[Agent]:\n",
        "    \"\"\"Instantiate a set of custom agents\"\"\"\n",
        "    agents = []\n",
        "    for address in range(existing_agents, existing_agents + new_agents):\n",
        "        agent = RandomAgent(\n",
        "            rng=rng,\n",
        "            trade_chance=trade_chance,\n",
        "            wallet_address=address,\n",
        "            budget=budget,\n",
        "        )\n",
        "        if direction is not None:\n",
        "            if direction == \"short\":\n",
        "                agent.trade_long = False\n",
        "            elif direction == \"long\":\n",
        "                agent.trade_short = False\n",
        "        agent.log_status_report()\n",
        "        agents += [agent]\n",
        "    return agents"
      ]
    },
    {
      "attachments": {},
      "cell_type": "markdown",
      "metadata": {
        "id": "vedqHoVLLtKq"
      },
      "source": [
        "\n",
        "### Define variable apr process"
      ]
    },
    {
      "cell_type": "code",
      "execution_count": null,
      "metadata": {
        "id": "fqS3ean1LqNm"
      },
      "outputs": [],
      "source": [
        "def DSR_historical(num_dates=90):\n",
        "    try:\n",
        "        dsr = pd.read_csv('https://s3-sim-repo-0.s3.us-east-2.amazonaws.com/Data/HIST_DSR_D.csv', index_col=0, infer_datetime_format=True)\n",
        "        dsr.index = pd.to_datetime(dsr.index)\n",
        "        dsr = dsr.resample('D').mean()\n",
        "        min_date = dsr.index.min()\n",
        "        max_date = dsr.index.max()\n",
        "        date_range = max_date - min_date\n",
        "        new_date_range = min_date + date_range * np.linspace(0, 1, num_dates)\n",
        "        dsr_new = dsr.reindex(new_date_range, method='ffill')\n",
        "        dsr_new = dsr_new.reset_index(drop=True)\n",
        "        return dsr_new[\"DAI_SAV_RATE\"].to_list()\n",
        "    except Exception:\n",
        "        return [0.01]*config.num_trading_days\n",
        "\n",
        "# Define the variable apr\n",
        "config.variable_apr = DSR_historical(num_dates=config.num_trading_days)\n",
        "config.freeze() # type: ignore"
      ]
    },
    {
      "cell_type": "markdown",
      "metadata": {
        "id": "zKf-kSthMJSa"
      },
      "source": [
        "### Setup simulation objects"
      ]
    },
    {
      "cell_type": "code",
      "execution_count": null,
      "metadata": {
        "id": "xpagOoPAMJvv"
      },
      "outputs": [],
      "source": [
        "# define root logging parameters\n",
        "log_utils.setup_logging(log_filename=config.log_filename, log_level=config.log_level)\n",
        "\n",
        "# get an instantiated simulator object\n",
        "simulator = sim_utils.get_simulator(config)"
      ]
    },
    {
      "cell_type": "markdown",
      "metadata": {
        "id": "s7MvElrkMY4M"
      },
      "source": [
        "### Run the simulation"
      ]
    },
    {
      "cell_type": "code",
      "execution_count": null,
      "metadata": {
        "id": "YEeRha47MX8I"
      },
      "outputs": [],
      "source": [
        "# add the random agents\n",
        "short_agents = get_example_agents(\n",
        "    rng=simulator.rng,\n",
        "    budget=agent_budget,\n",
        "    new_agents=num_agents//2,\n",
        "    existing_agents=1,\n",
        "    direction=\"short\"\n",
        ")\n",
        "long_agents = get_example_agents(\n",
        "    rng=simulator.rng,\n",
        "    budget=agent_budget,\n",
        "    new_agents=num_agents//2,\n",
        "    existing_agents=1 + len(short_agents),\n",
        "    direction=\"long\"\n",
        ")\n",
        "simulator.add_agents(short_agents + long_agents)\n",
        "print(f\"Simulator has {len(simulator.agents)} agents\")\n",
        "\n",
        "# run the simulation\n",
        "simulator.run_simulation()"
      ]
    },
    {
      "cell_type": "code",
      "execution_count": null,
      "metadata": {},
      "outputs": [],
      "source": [
        "# convert simulation state to a pandas dataframe\n",
        "trades = post_processing.compute_derived_variables(simulator)\n",
        "for col in trades:\n",
        "    if col.startswith(\"agent\"):\n",
        "        divisor = 1e6 # 1 million divisor for everyone\n",
        "        trades[col] = trades[col] / divisor"
      ]
    },
    {
      "cell_type": "markdown",
      "metadata": {
        "id": "N7sOn6dYPJos"
      },
      "source": [
        "### Plot simulation results"
      ]
    },
    {
      "attachments": {},
      "cell_type": "markdown",
      "metadata": {},
      "source": [
        "This shows the evolution of interest rates over time. The \"variable\" APR represents a theoretical underlying variable rate. Here we've mocked it up to have the same pattern as the MakerDao DAI Saving Rate over its whole history, but condensed to a 90 day period for this simulation. The fixed rate is initialized at 1% and appears to remain unchanged."
      ]
    },
    {
      "cell_type": "code",
      "execution_count": null,
      "metadata": {
        "id": "hfwElUKJPQyC"
      },
      "outputs": [],
      "source": [
        "trades_agg = trades.groupby(\"day\").agg(\n",
        "    {\n",
        "        \"variable_apr\": [\"mean\"],\n",
        "        \"fixed_apr\": [\"mean\"],\n",
        "        \"delta_base_abs\": [\"sum\"],\n",
        "        \"agent_0_pnl\": [\"mean\"],\n",
        "    }\n",
        ")\n",
        "trades_agg.columns = [\"_\".join(col).strip() for col in trades_agg.columns.values]\n",
        "trades_agg = trades_agg.reset_index()\n",
        "ax = get_gridspec_subplots()[1][0]\n",
        "plt.gcf().set_size_inches(6,5)\n",
        "ax = trades_agg.iloc[0:].plot(x=\"day\", y=\"variable_apr_mean\", ax=ax, label=\"variable\", c='blue')\n",
        "ax = trades_agg.iloc[0:].plot(x=\"day\", y=\"fixed_apr_mean\", ax=ax, label=\"fixed\", c='black')\n",
        "ax.set_title(\"Interest rates over time\")\n",
        "ax.set_xlabel(\"Day\")\n",
        "ax.set_ylabel(\"APR\")\n",
        "ax.legend()\n",
        "\n",
        "xtick_step = 10\n",
        "ax.set_xticks([0]+[x for x in range(9, simulator.config.num_trading_days + 1, xtick_step)])\n",
        "ax.set_xticklabels(['1']+[str(x+1) for x in range(9, simulator.config.num_trading_days + 1, xtick_step)])\n",
        "\n",
        "ylim = ax.get_ylim()\n",
        "ax.set_ylim(0, ylim[1])\n",
        "ax.set_yticks([i for i in np.arange(ylim[0], ylim[1], 0.01)])\n",
        "ax.set_yticklabels([f\"{(i):.0%}\" for i in ax.get_yticks()]);"
      ]
    },
    {
      "attachments": {},
      "cell_type": "markdown",
      "metadata": {},
      "source": [
        "It may look like the black line isn't moving at all, until the end. But let's zoom in!\n",
        "\n",
        "This is a function of two things: random agents being too dumb to concertedly move the rate, as well as the model parameters not being optimized for this scenario."
      ]
    },
    {
      "cell_type": "code",
      "execution_count": null,
      "metadata": {},
      "outputs": [],
      "source": [
        "fig = output_utils.plot_fixed_apr(trades, exclude_first_day=True, exclude_last_day = True)\n",
        "fig.set_size_inches(6,5)\n",
        "ax = plt.gca()\n",
        "ax.properties()['children'][0].set_color('black')\n",
        "ax.set_yticklabels([f\"{(i/100):.3%}\" for i in ax.get_yticks()])\n",
        "ax.set_ylabel(\"APR\")\n",
        "\n",
        "xtick_step = 10\n",
        "ax.set_xticks([0]+[x for x in range(9, simulator.config.num_trading_days + 1, xtick_step)])\n",
        "ax.set_xticklabels(['1']+[str(x+1) for x in range(9, simulator.config.num_trading_days + 1, xtick_step)]);"
      ]
    },
    {
      "attachments": {},
      "cell_type": "markdown",
      "metadata": {},
      "source": [
        "These random agents are unable to pick smart entry points. Due to trading on coinflips only, they slowdly bleed fees out of their starting position, which in this case reduces from 1.0 million down to 0.999, a loss of $1k."
      ]
    },
    {
      "cell_type": "code",
      "execution_count": null,
      "metadata": {},
      "outputs": [],
      "source": [
        "def get_pnl_excluding_agent_0_no_mock_with_day(trades_df: pd.DataFrame) -> pd.DataFrame:\n",
        "    \"\"\"Returns Profit and Loss Column for every agent except for agent 0 from post-processing\"\"\"\n",
        "    cols_to_return = ['day']+[col for col in trades_df if col.startswith(\"agent\") and col.endswith(\"pnl_no_mock\")]\n",
        "    cols_to_return.remove(\"agent_0_pnl_no_mock\")\n",
        "    return trades_df[cols_to_return]\n",
        "\n",
        "def plot_pnl(pnl, ax, label):\n",
        "    # ax.plot(pnl.iloc[1:,:], linestyle='-', linewidth=0.5, alpha=0.5)\n",
        "    # separate first half of agents, which are set to trade short\n",
        "    # from second half of agents, which are set to trade long\n",
        "    columns = pnl.columns.to_list()\n",
        "    n = len(columns) // 2 # int\n",
        "    short_pnl = pnl.loc[1:, columns[:n]].mean(axis=1)\n",
        "    long_pnl = pnl.loc[1:, columns[n:]].mean(axis=1)\n",
        "    ax.plot(short_pnl, c='red', label=f\"Short {label}, final value={short_pnl[len(short_pnl)-1]:.5f}\", linewidth=2)\n",
        "    ax.plot(long_pnl, c='black', label=f\"Long {label}, final_value={long_pnl[len(long_pnl)-1]:.5f}\", linewidth=2)\n",
        "    # grey area where day is last day\n",
        "    ax.set_ylabel('PNL in millions')\n",
        "    # ax.axvspan(last_day, len(short_pnl), color='grey', alpha=0.2, label=\"Last day\")\n",
        "    ax.legend()\n",
        "\n",
        "fig, ax = plt.subplots(1, 1, figsize=(6, 5), sharex=True, gridspec_kw={'wspace': 0.0, 'hspace': 0.0})\n",
        "first_trade_that_is_on_last_day = min(trades.index[trades.day == max(trades.day)])\n",
        "# data_mock = post_processing.get_pnl_excluding_agent_0(trades)\n",
        "# plot_pnl(pnl=data_mock.iloc[:-1, :], ax=ax, label='Mock')\n",
        "data_no_mock = get_pnl_excluding_agent_0_no_mock_with_day(trades).groupby('day').mean()\n",
        "plot_pnl(pnl=data_no_mock.iloc[:-1, :], ax=ax, label='Realized Market Value')\n",
        "\n",
        "xtick_step = 10\n",
        "ax.set_xticks([0] + list(range(9, simulator.config.num_trading_days + 1, xtick_step)))\n",
        "ax.set_xticklabels(['1']+[str(x+1) for x in range(9, simulator.config.num_trading_days + 1, xtick_step)])\n",
        "\n",
        "plt.gca().set_xlabel(\"Day\")\n",
        "plt.gca().set_title('Trader PNL over time');\n",
        "# display(data_no_mock)"
      ]
    },
    {
      "attachments": {},
      "cell_type": "markdown",
      "metadata": {},
      "source": [
        "This plot shows being a Liquidity Provider (LP) is a profitable position, in this scenario where agents are trading randomly."
      ]
    },
    {
      "cell_type": "code",
      "execution_count": null,
      "metadata": {},
      "outputs": [],
      "source": [
        "fig, ax = plt.subplots(2,1,figsize=(6, 10))\n",
        "exclude_last_day = True\n",
        "num_agents = 1\n",
        "start_idx = 0\n",
        "first_trade_that_is_on_last_day = min(trades_agg.index[trades_agg.day == max(trades_agg.day)])\n",
        "end_idx = first_trade_that_is_on_last_day - 1 if exclude_last_day is True else len(trades_agg)\n",
        "ax[0].plot(trades_agg.loc[start_idx:end_idx,\"day\"], trades_agg.loc[start_idx:end_idx,\"agent_0_pnl_mean\"], label=f\"mean = {trades_agg.loc[end_idx,'agent_0_pnl_mean']:.3f}\")\n",
        "ax[0].set_title(\"LP PNL Over Time\")\n",
        "ax[0].set_ylabel(\"PNL\")\n",
        "ax[0].set_xlabel(\"Day\")\n",
        "data = trades.loc[0:first_trade_that_is_on_last_day-1,\"agent_0_pnl\"]\n",
        "xtick_step = 10\n",
        "ax[0].set_xticks([0] + list(range(9, simulator.config.num_trading_days + 1, xtick_step)))\n",
        "ax[0].set_xticklabels(['1']+[str(x+1) for x in range(9, simulator.config.num_trading_days + 1, xtick_step)])\n",
        "ax[0].legend({f\"final value = {data.values[len(data)-1]:,.3f}\"})\n",
        "ax[0].set_ylabel(\"PnL in millions\")\n",
        "\n",
        "exclude_first_trade = True\n",
        "exclude_last_trade = True\n",
        "start_idx = 1 if exclude_first_trade else 0\n",
        "end_idx = first_trade_that_is_on_last_day - 1 if exclude_last_trade is True else None\n",
        "ax[1].bar(trades_agg.loc[start_idx:end_idx,\"day\"], trades_agg.loc[start_idx:end_idx,\"delta_base_abs_sum\"], label=f\"mean = {trades_agg.loc[end_idx,'delta_base_abs_sum']:.3f}\")\n",
        "ax[1].set_title(\"Market Volume\")\n",
        "ax[1].set_ylabel(\"Base\")\n",
        "ax[1].set_xlabel(\"Day\")\n",
        "xtick_step = 10\n",
        "ax[1].set_xticks([0] + list(range(9, simulator.config.num_trading_days + 1, xtick_step)))\n",
        "ax[1].set_xticklabels(['1']+[str(x+1) for x in range(9, simulator.config.num_trading_days + 1, xtick_step)])\n",
        "ylim = ax[1].get_ylim()\n",
        "ax[1].set_ylim(0, ylim[1]);"
      ]
    },
    {
      "attachments": {},
      "cell_type": "markdown",
      "metadata": {},
      "source": [
        "## We are constantly updating our research. Stay tuned for more!"
      ]
    },
    {
      "attachments": {},
      "cell_type": "markdown",
      "metadata": {},
      "source": [
        "TODO:\n",
        "- parameter optimization\n",
        "- smart agents\n",
        "- multiple simulation trial runs to evaluate LP profitability\n",
        "- simulate Aave, Compound, MakerDao, etc."
      ]
    }
  ],
  "metadata": {
    "colab": {
      "include_colab_link": true,
      "private_outputs": true,
      "provenance": []
    },
    "kernelspec": {
      "display_name": "elf-env",
      "language": "python",
      "name": "python3"
    },
    "language_info": {
      "codemirror_mode": {
        "name": "ipython",
        "version": 3
      },
      "file_extension": ".py",
      "mimetype": "text/x-python",
      "name": "python",
      "nbconvert_exporter": "python",
      "pygments_lexer": "ipython3",
      "version": "3.10.12"
    },
    "vscode": {
      "interpreter": {
        "hash": "e0b3e7cfdbb0701533a1bd673e72a5f0b8ba7990b124dd57bd4db430b23dce81"
      }
    }
  },
  "nbformat": 4,
  "nbformat_minor": 0
}
