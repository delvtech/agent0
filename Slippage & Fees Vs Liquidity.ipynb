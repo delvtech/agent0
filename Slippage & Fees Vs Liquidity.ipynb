{
 "cells": [
  {
   "cell_type": "code",
   "execution_count": null,
   "metadata": {},
   "outputs": [],
   "source": [
    "\n",
    "def calc_x_reserves(APY,y_reserves,days_until_maturity,time_stretch):\n",
    "    t=days_until_maturity/(365*time_stretch)\n",
    "    T=days_until_maturity/365\n",
    "    return y_reserves*(-(2/((1-T*APY/100)**(1/t)-1))-2)\n",
    "\n",
    "def calc_liquidity(target_liquidity, market_price, apy, days_until_maturity, time_stretch):\n",
    "  y_reserves = target_liquidity/market_price\n",
    "  t=days_until_maturity/(365*time_stretch)\n",
    "  liquidity = 0\n",
    "\n",
    "  # dirty hack to ensure that we dont overshoot the target liquidity\n",
    "  while True:\n",
    "      x_reserves = calc_x_reserves(apy,y_reserves,days_until_maturity,time_stretch)\n",
    "      total_supply=x_reserves + y_reserves\n",
    "      liquidity=x_reserves*market_price+y_reserves*market_price*calc_spot_price(x_reserves,y_reserves,total_supply,t)\n",
    "      if liquidity > target_liquidity:\n",
    "          y_reserves-=100\n",
    "      else:\n",
    "          break\n",
    "  return (x_reserves,y_reserves)\n",
    "\n",
    "def calc_time_stretch(apy):\n",
    "  return 3.09396 /( 0.02789 * apy)\n",
    "\n",
    "def calc_spot_price(x_reserves,y_reserves,total_supply,t):\n",
    "    return 1/pow((y_reserves+total_supply)/x_reserves,t)\n",
    "\n",
    "def calc_apy(price,days_until_maturity):\n",
    "  T=days_until_maturity/365\n",
    "  return (1-price)/T * 100\n",
    "\n",
    "def calc_out_given_in(in_,in_reserves,out_reserves,token_out,g,t):\n",
    "    k=pow(in_reserves,1-t) + pow(out_reserves,1-t)\n",
    "    without_fee = out_reserves - pow(k-pow(in_reserves+in_,1-t),1/(1-t))\n",
    "    if token_out == \"base\":\n",
    "        fee =  (in_-without_fee)*g\n",
    "        with_fee = without_fee-fee\n",
    "    elif token_out == \"pt\":\n",
    "        fee =  (without_fee-in_)*g\n",
    "        with_fee = without_fee-fee\n",
    "    return (with_fee,without_fee,fee)\n"
   ]
  },
  {
   "cell_type": "code",
   "execution_count": null,
   "metadata": {},
   "outputs": [],
   "source": [
    "###############################\n",
    "# USER INPUTS\n",
    "target_liquidty = 50000000  # total pool liquidity (USD)\n",
    "trade_value = 500000 # (USD)\n",
    "APY = 10 # Fixed Rate APY of PT\n",
    "days_until_maturity = 90\n",
    "#############################\n",
    "\n",
    "market_price = 1 # 1 DAI = 1 USD\n",
    "time_stretch = calc_time_stretch(APY)\n",
    "t=days_until_maturity/(365*time_stretch)\n",
    "amount=trade_value/market_price\n",
    "fee=0.1\n",
    "(x_reserves, y_reserves) = calc_liquidity(target_liquidty, market_price, APY, days_until_maturity, time_stretch)\n",
    "print(\"initial reserves: {:,.2f} DAI & {:,.2f} PT\".format(x_reserves,y_reserves))\n",
    "total_supply=x_reserves+y_reserves\n",
    "spot_price=1/calc_spot_price(x_reserves,y_reserves,total_supply,t)\n",
    "print(\"spot price: {:}\".format(spot_price))\n",
    "print(\"initial apy: {:,.2f}\".format(calc_apy(1/spot_price,days_until_maturity)))\n",
    "(with_fee,without_fee,fee)=calc_out_given_in(amount,x_reserves,y_reserves+total_supply,\"pt\",fee,t)\n",
    "without_slippage_or_fee = spot_price * amount\n",
    "slippage = abs(without_slippage_or_fee-without_fee)\n",
    "print(\"\\nTrade: {:,.2f} DAI\".format(amount))\n",
    "print(\"Output without fees and without slippage: {:,.2f} PTs\".format(without_slippage_or_fee))\n",
    "print(\"Slippage: {:,.2f} PTs\".format(slippage))\n",
    "print(\"Total fee: {:,.2f} PTs\".format(fee))\n",
    "print(\"Actual Output: {:,.2f} PTs\".format(with_fee))\n",
    "print(\"Resulting APY: \" + str(calc_apy(amount/with_fee,days_until_maturity)))"
   ]
  }
 ],
 "metadata": {
  "kernelspec": {
   "display_name": "Python 3.9.6 64-bit",
   "language": "python",
   "name": "python3"
  },
  "language_info": {
   "codemirror_mode": {
    "name": "ipython",
    "version": 3
   },
   "file_extension": ".py",
   "mimetype": "text/x-python",
   "name": "python",
   "nbconvert_exporter": "python",
   "pygments_lexer": "ipython3",
   "version": "3.9.6"
  },
  "vscode": {
   "interpreter": {
    "hash": "31f2aee4e71d21fbe5cf8b01ff0e069b9275f58929596ceb00d14d90e3e16cd6"
   }
  }
 },
 "nbformat": 4,
 "nbformat_minor": 2
}
