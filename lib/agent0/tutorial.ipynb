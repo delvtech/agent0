{
 "cells": [
  {
   "cell_type": "markdown",
   "metadata": {},
   "source": [
    "# Interactive Hyperdrive Tutorial\n"
   ]
  },
  {
   "cell_type": "markdown",
   "metadata": {},
   "source": [
    "Agent0 provide a self contained Hyperdrive simulator using Interactive Hyperdrive. It works by managing a local Anvil\n",
    "instance with an interactive and customizable Hyperdrive deployment, a data collection service, and a dashboard server\n",
    "showing useful information for analysis.\n",
    "\n",
    "To start, follow the installation instructions outlined [here](README.md) for interactive hyperdrive.\n"
   ]
  },
  {
   "cell_type": "markdown",
   "metadata": {},
   "source": [
    "## Simulating trades using Interactive Hyperdrive\n",
    "\n",
    "The following code initializes a local interactive hyperdrive with\n",
    "(1) a local chain,\n",
    "(2) a deployed hyperdrive pool on the local chain, and\n",
    "(3) a funded agent attached to the pool ready to trade.\n"
   ]
  },
  {
   "cell_type": "code",
   "execution_count": 1,
   "metadata": {},
   "outputs": [],
   "source": [
    "import datetime\n",
    "from fixedpointmath import FixedPoint\n",
    "from agent0.hyperdrive.interactive import ILocalHyperdrive, ILocalChain\n",
    "\n",
    "chain = ILocalChain()\n",
    "interactive_hyperdrive = ILocalHyperdrive(chain)\n",
    "hyperdrive_agent0 = interactive_hyperdrive.init_agent(base=FixedPoint(100_000))"
   ]
  },
  {
   "cell_type": "markdown",
   "metadata": {},
   "source": [
    "After initializing, we can use the `hyperdrive_agent0` object to simulate trades on the deployed pool.\n"
   ]
  },
  {
   "cell_type": "code",
   "execution_count": 2,
   "metadata": {},
   "outputs": [],
   "source": [
    "open_long_event = hyperdrive_agent0.open_long(base=FixedPoint(100))\n",
    "open_short_event = hyperdrive_agent0.open_short(bonds=FixedPoint(100))\n",
    "add_liquidity_event = hyperdrive_agent0.add_liquidity(base=FixedPoint(100))"
   ]
  },
  {
   "cell_type": "markdown",
   "metadata": {},
   "source": [
    "The output of these trades represents the corresponding emitted event from Hyperdrive. For example, the open long event\n",
    "is shown below. See\n",
    "[here](https://agent0.readthedocs.io/en/latest/autoapi/agent0/hyperdrive/interactive/event_types/index.html) for\n",
    "documentation on the output event types.\n"
   ]
  },
  {
   "cell_type": "code",
   "execution_count": 3,
   "metadata": {},
   "outputs": [
    {
     "data": {
      "text/plain": [
       "OpenLong(trader='0x3201bDe1FA3Ac90FffF7bBD0b4F8f69dfBCd9c5b', asset_id=452312848583266388373324160190187140051835877600158453279131187532620414256, maturity_time=1709751600, base_amount=FixedPoint(\"100.0\"), vault_share_amount=FixedPoint(\"99.999994292237768785\"), as_base=True, bond_amount=FixedPoint(\"100.094931446539240406\"))"
      ]
     },
     "execution_count": 3,
     "metadata": {},
     "output_type": "execute_result"
    }
   ],
   "source": [
    "open_long_event"
   ]
  },
  {
   "cell_type": "markdown",
   "metadata": {},
   "source": [
    "We can use Interactive Hyperdrive to simulate advancing time and closing a position. For example, we can simulate\n",
    "closing the long after a day.\n"
   ]
  },
  {
   "cell_type": "code",
   "execution_count": 4,
   "metadata": {},
   "outputs": [],
   "source": [
    "# Advance time for a day\n",
    "chain.advance_time(datetime.timedelta(days=1))\n",
    "close_long_event = hyperdrive_agent0.close_long(\n",
    "    maturity_time=open_long_event.maturity_time,\n",
    "    bonds=open_long_event.bond_amount,\n",
    ")"
   ]
  },
  {
   "cell_type": "markdown",
   "metadata": {},
   "source": [
    "## Analyzing Hyperdrive\n",
    "\n",
    "Interactive hyperdrive provides a fully managed data service that collects information from the chain, as\n",
    "well as providing an interactive dashboard to view information on the pool. Running the dashboard within Interactive\n",
    "Hyperdrive brings up a webpage that shows you basic information of the trades made on the pool, as well as information\n",
    "on a specific agent, including the value of the portfolio.\n"
   ]
  },
  {
   "cell_type": "code",
   "execution_count": 5,
   "metadata": {},
   "outputs": [],
   "source": [
    "interactive_hyperdrive.run_dashboard()"
   ]
  },
  {
   "cell_type": "markdown",
   "metadata": {},
   "source": [
    "For customized analysis, Interactive Hyperdrive exposes the underlying data itself. See the `get_*` functions defined in\n",
    "interactive hyperdrive\n",
    "[here](https://agent0.readthedocs.io/en/latest/autoapi/agent0/hyperdrive/interactive/interactive_hyperdrive/index.html)\n",
    "for more information.\n"
   ]
  },
  {
   "cell_type": "markdown",
   "metadata": {},
   "source": [
    "## Trading policies\n",
    "\n",
    "Agent0 introduces the concept of a policy, which defines trading behavior of an agent based\n",
    "on a set of rules. Agent0 provides a set of policies ready to use out of the box. For example,\n",
    "the code below details a policy that makes random trades.\n"
   ]
  },
  {
   "cell_type": "code",
   "execution_count": 6,
   "metadata": {},
   "outputs": [
    {
     "name": "stdout",
     "output_type": "stream",
     "text": [
      "  A simple demonstration agent that chooses its actions randomly.\n",
      "  It can take 7 actions: open/close longs and shorts, add/remove liquidity, and redeem withdraw shares.\n",
      "  Trade size is randomly drawn from a normal distribution with mean of 10% of budget and standard deviation of 1% of budget.\n",
      "  A close action picks a random open position of the given type (long or short) and attempts to close its entire size.\n",
      "  Withdrawals of liquidity and redemption of withdrawal shares is sized the same as an open position: N(0.1, 0.01) * budget.\n"
     ]
    }
   ],
   "source": [
    "from agent0.hyperdrive.policies import PolicyZoo\n",
    "\n",
    "print(PolicyZoo.random.description())"
   ]
  },
  {
   "cell_type": "markdown",
   "metadata": {},
   "source": [
    "We can attach a policy when initializing an agent and execute the underlying policy using\n",
    "interactive hyperdrive. The output is then a list of output events corresponding with the\n",
    "list of actions the policy took in that step. In the example below, we create a random agent\n",
    "and execute one iteration of the policy, then printing out the trade the random agent made.\n"
   ]
  },
  {
   "cell_type": "code",
   "execution_count": 7,
   "metadata": {},
   "outputs": [
    {
     "data": {
      "text/plain": [
       "[OpenShort(trader='0xd5e58e7Cb404D367D4d7ADC0aA75Ce9E8B176EbA', asset_id=904625697166532776746648320380374280103671755200316906558262375063531163312, maturity_time=1709838000, base_amount=FixedPoint(\"0.165666458544196791\"), vault_share_amount=FixedPoint(\"0.165643736102816493\"), as_base=True, base_proceeds=FixedPoint(\"112.75489145076531133\"), bond_amount=FixedPoint(\"112.879252612892491776\"))]"
      ]
     },
     "execution_count": 7,
     "metadata": {},
     "output_type": "execute_result"
    }
   ],
   "source": [
    "random_agent = interactive_hyperdrive.init_agent(\n",
    "    base=FixedPoint(1_000),\n",
    "    policy=PolicyZoo.random,\n",
    "    policy_config=PolicyZoo.random.Config(rng_seed=123),\n",
    ")\n",
    "random_agent.execute_policy_action()"
   ]
  },
  {
   "cell_type": "markdown",
   "metadata": {},
   "source": [
    "See\n",
    "[here](https://agent0.readthedocs.io/en/latest/autoapi/agent0/hyperdrive/policies/index.html#)\n",
    "for a list and description of all implemented policies.\n"
   ]
  },
  {
   "cell_type": "markdown",
   "metadata": {},
   "source": [
    "### Custom Policies\n",
    "\n",
    "Agent0 also provides an interface to write a custom policy. In this tutorial, we'll write a\n",
    "policy that simply opens a long if the fixed rate is above a threshold.\n",
    "Similarly to existing policies, this policy can then be attached to interactive hyperdrive to\n",
    "simulate the policy within the simulator.\n",
    "\n",
    "We'll start by defining the class that subclasses from the base policy and define a custom policy\n",
    "configuration that defines the threshold. We need to overwrite the `action` method in the\n",
    "policy, which defines what actions the policy takes. In the example below, the agent will simply\n",
    "open a single long for `open_long_amount` when the fixed rate reaches the `fixed_rate_threshold`,\n",
    "and close the long at maturity.\n"
   ]
  },
  {
   "cell_type": "code",
   "execution_count": 8,
   "metadata": {},
   "outputs": [],
   "source": [
    "# Relevant imports\n",
    "from agent0.hyperdrive.policies import HyperdriveBasePolicy\n",
    "from dataclasses import dataclass\n",
    "from ethpy.hyperdrive import HyperdriveReadInterface\n",
    "from agent0.hyperdrive import HyperdriveWallet\n",
    "from agent0.hyperdrive.agent import open_long_trade, close_long_trade"
   ]
  },
  {
   "cell_type": "code",
   "execution_count": 9,
   "metadata": {},
   "outputs": [],
   "source": [
    "class OpenLongPolicy(HyperdriveBasePolicy):\n",
    "    @dataclass(kw_only=True)\n",
    "    class Config(HyperdriveBasePolicy.Config):\n",
    "        fixed_rate_threshold: FixedPoint\n",
    "        open_long_amount: FixedPoint\n",
    "\n",
    "    def action(self, interface: HyperdriveReadInterface, wallet: HyperdriveWallet):\n",
    "        # Defines if the bot is done trading. We expect this bot to run continuously,\n",
    "        # so this is always false.\n",
    "        done_trading = False\n",
    "        # If no longs in wallet, we check our fixed rate threshold and open the long if threshold reached.\n",
    "        if len(wallet.longs) == 0:\n",
    "            if interface.calc_fixed_rate() > self.config.fixed_rate_threshold:\n",
    "                return [open_long_trade(self.config.open_long_amount)], done_trading\n",
    "        # If there are longs in the wallet, we check for maturity and close them if maturity reached.\n",
    "        else:\n",
    "            for maturity_time, long in wallet.longs.items():\n",
    "                if interface.get_block_timestamp(interface.get_current_block()) >= maturity_time:\n",
    "                    return [close_long_trade(long.balance, maturity_time)], done_trading\n",
    "        # We don't do any trades otherwise.\n",
    "        return [], done_trading"
   ]
  },
  {
   "cell_type": "markdown",
   "metadata": {},
   "source": [
    "### Running the trading policy in Interactive Hyperdrive\n",
    "\n",
    "We can test our new policy using interactive hyperdrive before running it on an actual chain. We can do this by\n",
    "attaching our new policy to a new agent, while passing in a fixed rate threshold of 6%.\n"
   ]
  },
  {
   "cell_type": "code",
   "execution_count": 10,
   "metadata": {},
   "outputs": [],
   "source": [
    "policy_agent = interactive_hyperdrive.init_agent(\n",
    "    base=FixedPoint(1_000_000),\n",
    "    policy=OpenLongPolicy,\n",
    "    policy_config=OpenLongPolicy.Config(\n",
    "        fixed_rate_threshold=FixedPoint(0.06),\n",
    "        open_long_amount=FixedPoint(100_000),\n",
    "    ),\n",
    ")"
   ]
  },
  {
   "cell_type": "markdown",
   "metadata": {},
   "source": [
    "Lets take a look at the fixed rate after the set of trades we've made. We can see below that the current fixed rate sits\n",
    "right around 5%.\n"
   ]
  },
  {
   "cell_type": "code",
   "execution_count": 11,
   "metadata": {},
   "outputs": [
    {
     "data": {
      "text/html": [
       "<div>\n",
       "<style scoped>\n",
       "    .dataframe tbody tr th:only-of-type {\n",
       "        vertical-align: middle;\n",
       "    }\n",
       "\n",
       "    .dataframe tbody tr th {\n",
       "        vertical-align: top;\n",
       "    }\n",
       "\n",
       "    .dataframe thead th {\n",
       "        text-align: right;\n",
       "    }\n",
       "</style>\n",
       "<table border=\"1\" class=\"dataframe\">\n",
       "  <thead>\n",
       "    <tr style=\"text-align: right;\">\n",
       "      <th></th>\n",
       "      <th>block_number</th>\n",
       "      <th>timestamp</th>\n",
       "      <th>fixed_rate</th>\n",
       "    </tr>\n",
       "  </thead>\n",
       "  <tbody>\n",
       "    <tr>\n",
       "      <th>0</th>\n",
       "      <td>20</td>\n",
       "      <td>2024-02-28 19:53:23</td>\n",
       "      <td>0.049999999999999996</td>\n",
       "    </tr>\n",
       "    <tr>\n",
       "      <th>1</th>\n",
       "      <td>21</td>\n",
       "      <td>2024-02-28 19:53:35</td>\n",
       "      <td>0.049999999999999996</td>\n",
       "    </tr>\n",
       "    <tr>\n",
       "      <th>2</th>\n",
       "      <td>22</td>\n",
       "      <td>2024-02-28 19:53:47</td>\n",
       "      <td>0.049999999999999996</td>\n",
       "    </tr>\n",
       "    <tr>\n",
       "      <th>3</th>\n",
       "      <td>23</td>\n",
       "      <td>2024-02-28 19:53:59</td>\n",
       "      <td>0.049999939182593864</td>\n",
       "    </tr>\n",
       "    <tr>\n",
       "      <th>4</th>\n",
       "      <td>24</td>\n",
       "      <td>2024-02-28 19:54:11</td>\n",
       "      <td>0.049999999941555074</td>\n",
       "    </tr>\n",
       "    <tr>\n",
       "      <th>5</th>\n",
       "      <td>25</td>\n",
       "      <td>2024-02-28 19:54:23</td>\n",
       "      <td>0.049999999941555074</td>\n",
       "    </tr>\n",
       "    <tr>\n",
       "      <th>6</th>\n",
       "      <td>73</td>\n",
       "      <td>2024-02-29 19:54:35</td>\n",
       "      <td>0.049999999941555074</td>\n",
       "    </tr>\n",
       "    <tr>\n",
       "      <th>7</th>\n",
       "      <td>74</td>\n",
       "      <td>2024-02-29 19:54:47</td>\n",
       "      <td>0.050000052064673868</td>\n",
       "    </tr>\n",
       "    <tr>\n",
       "      <th>8</th>\n",
       "      <td>75</td>\n",
       "      <td>2024-02-29 19:54:59</td>\n",
       "      <td>0.050000052064673868</td>\n",
       "    </tr>\n",
       "    <tr>\n",
       "      <th>9</th>\n",
       "      <td>76</td>\n",
       "      <td>2024-02-29 19:55:11</td>\n",
       "      <td>0.050000052064673868</td>\n",
       "    </tr>\n",
       "    <tr>\n",
       "      <th>10</th>\n",
       "      <td>77</td>\n",
       "      <td>2024-02-29 19:55:23</td>\n",
       "      <td>0.050000120641907064</td>\n",
       "    </tr>\n",
       "    <tr>\n",
       "      <th>11</th>\n",
       "      <td>78</td>\n",
       "      <td>2024-02-29 19:55:35</td>\n",
       "      <td>0.050000120641907064</td>\n",
       "    </tr>\n",
       "  </tbody>\n",
       "</table>\n",
       "</div>"
      ],
      "text/plain": [
       "    block_number           timestamp            fixed_rate\n",
       "0             20 2024-02-28 19:53:23  0.049999999999999996\n",
       "1             21 2024-02-28 19:53:35  0.049999999999999996\n",
       "2             22 2024-02-28 19:53:47  0.049999999999999996\n",
       "3             23 2024-02-28 19:53:59  0.049999939182593864\n",
       "4             24 2024-02-28 19:54:11  0.049999999941555074\n",
       "5             25 2024-02-28 19:54:23  0.049999999941555074\n",
       "6             73 2024-02-29 19:54:35  0.049999999941555074\n",
       "7             74 2024-02-29 19:54:47  0.050000052064673868\n",
       "8             75 2024-02-29 19:54:59  0.050000052064673868\n",
       "9             76 2024-02-29 19:55:11  0.050000052064673868\n",
       "10            77 2024-02-29 19:55:23  0.050000120641907064\n",
       "11            78 2024-02-29 19:55:35  0.050000120641907064"
      ]
     },
     "execution_count": 11,
     "metadata": {},
     "output_type": "execute_result"
    }
   ],
   "source": [
    "interactive_hyperdrive.get_pool_state()[[\"block_number\", \"timestamp\", \"fixed_rate\"]]"
   ]
  },
  {
   "cell_type": "markdown",
   "metadata": {},
   "source": [
    "We can now execute our new agent's policy. Since the fixed rate is below the threshold, we expect the agent to not make\n",
    "any trades, denoted by the output of `execute_policy_action` being an empty list.\n"
   ]
  },
  {
   "cell_type": "code",
   "execution_count": 12,
   "metadata": {},
   "outputs": [
    {
     "data": {
      "text/plain": [
       "[]"
      ]
     },
     "execution_count": 12,
     "metadata": {},
     "output_type": "execute_result"
    }
   ],
   "source": [
    "policy_agent.execute_policy_action()"
   ]
  },
  {
   "cell_type": "markdown",
   "metadata": {},
   "source": [
    "Let's make a trade to push the fixed rate to be 6%.\n"
   ]
  },
  {
   "cell_type": "code",
   "execution_count": 13,
   "metadata": {},
   "outputs": [
    {
     "data": {
      "text/html": [
       "<div>\n",
       "<style scoped>\n",
       "    .dataframe tbody tr th:only-of-type {\n",
       "        vertical-align: middle;\n",
       "    }\n",
       "\n",
       "    .dataframe tbody tr th {\n",
       "        vertical-align: top;\n",
       "    }\n",
       "\n",
       "    .dataframe thead th {\n",
       "        text-align: right;\n",
       "    }\n",
       "</style>\n",
       "<table border=\"1\" class=\"dataframe\">\n",
       "  <thead>\n",
       "    <tr style=\"text-align: right;\">\n",
       "      <th></th>\n",
       "      <th>block_number</th>\n",
       "      <th>timestamp</th>\n",
       "      <th>fixed_rate</th>\n",
       "    </tr>\n",
       "  </thead>\n",
       "  <tbody>\n",
       "    <tr>\n",
       "      <th>0</th>\n",
       "      <td>20</td>\n",
       "      <td>2024-02-28 19:53:23</td>\n",
       "      <td>0.049999999999999996</td>\n",
       "    </tr>\n",
       "    <tr>\n",
       "      <th>1</th>\n",
       "      <td>21</td>\n",
       "      <td>2024-02-28 19:53:35</td>\n",
       "      <td>0.049999999999999996</td>\n",
       "    </tr>\n",
       "    <tr>\n",
       "      <th>2</th>\n",
       "      <td>22</td>\n",
       "      <td>2024-02-28 19:53:47</td>\n",
       "      <td>0.049999999999999996</td>\n",
       "    </tr>\n",
       "    <tr>\n",
       "      <th>3</th>\n",
       "      <td>23</td>\n",
       "      <td>2024-02-28 19:53:59</td>\n",
       "      <td>0.049999939182593864</td>\n",
       "    </tr>\n",
       "    <tr>\n",
       "      <th>4</th>\n",
       "      <td>24</td>\n",
       "      <td>2024-02-28 19:54:11</td>\n",
       "      <td>0.049999999941555074</td>\n",
       "    </tr>\n",
       "    <tr>\n",
       "      <th>5</th>\n",
       "      <td>25</td>\n",
       "      <td>2024-02-28 19:54:23</td>\n",
       "      <td>0.049999999941555074</td>\n",
       "    </tr>\n",
       "    <tr>\n",
       "      <th>6</th>\n",
       "      <td>73</td>\n",
       "      <td>2024-02-29 19:54:35</td>\n",
       "      <td>0.049999999941555074</td>\n",
       "    </tr>\n",
       "    <tr>\n",
       "      <th>7</th>\n",
       "      <td>74</td>\n",
       "      <td>2024-02-29 19:54:47</td>\n",
       "      <td>0.050000052064673868</td>\n",
       "    </tr>\n",
       "    <tr>\n",
       "      <th>8</th>\n",
       "      <td>75</td>\n",
       "      <td>2024-02-29 19:54:59</td>\n",
       "      <td>0.050000052064673868</td>\n",
       "    </tr>\n",
       "    <tr>\n",
       "      <th>9</th>\n",
       "      <td>76</td>\n",
       "      <td>2024-02-29 19:55:11</td>\n",
       "      <td>0.050000052064673868</td>\n",
       "    </tr>\n",
       "    <tr>\n",
       "      <th>10</th>\n",
       "      <td>77</td>\n",
       "      <td>2024-02-29 19:55:23</td>\n",
       "      <td>0.050000120641907064</td>\n",
       "    </tr>\n",
       "    <tr>\n",
       "      <th>11</th>\n",
       "      <td>78</td>\n",
       "      <td>2024-02-29 19:55:35</td>\n",
       "      <td>0.050000120641907064</td>\n",
       "    </tr>\n",
       "    <tr>\n",
       "      <th>12</th>\n",
       "      <td>79</td>\n",
       "      <td>2024-02-29 19:55:47</td>\n",
       "      <td>0.050000120641907064</td>\n",
       "    </tr>\n",
       "    <tr>\n",
       "      <th>13</th>\n",
       "      <td>80</td>\n",
       "      <td>2024-02-29 19:55:59</td>\n",
       "      <td>0.063106209172164256</td>\n",
       "    </tr>\n",
       "  </tbody>\n",
       "</table>\n",
       "</div>"
      ],
      "text/plain": [
       "    block_number           timestamp            fixed_rate\n",
       "0             20 2024-02-28 19:53:23  0.049999999999999996\n",
       "1             21 2024-02-28 19:53:35  0.049999999999999996\n",
       "2             22 2024-02-28 19:53:47  0.049999999999999996\n",
       "3             23 2024-02-28 19:53:59  0.049999939182593864\n",
       "4             24 2024-02-28 19:54:11  0.049999999941555074\n",
       "5             25 2024-02-28 19:54:23  0.049999999941555074\n",
       "6             73 2024-02-29 19:54:35  0.049999999941555074\n",
       "7             74 2024-02-29 19:54:47  0.050000052064673868\n",
       "8             75 2024-02-29 19:54:59  0.050000052064673868\n",
       "9             76 2024-02-29 19:55:11  0.050000052064673868\n",
       "10            77 2024-02-29 19:55:23  0.050000120641907064\n",
       "11            78 2024-02-29 19:55:35  0.050000120641907064\n",
       "12            79 2024-02-29 19:55:47  0.050000120641907064\n",
       "13            80 2024-02-29 19:55:59  0.063106209172164256"
      ]
     },
     "execution_count": 13,
     "metadata": {},
     "output_type": "execute_result"
    }
   ],
   "source": [
    "policy_agent.open_short(bonds=FixedPoint(20_000_000))\n",
    "interactive_hyperdrive.get_pool_state()[[\"block_number\", \"timestamp\", \"fixed_rate\"]]"
   ]
  },
  {
   "cell_type": "markdown",
   "metadata": {},
   "source": [
    "Once again, let's execute our policy and view the output. We can see that our policy opened a new long because the\n",
    "fixed rate is above 6%.\n"
   ]
  },
  {
   "cell_type": "code",
   "execution_count": 14,
   "metadata": {},
   "outputs": [
    {
     "data": {
      "text/plain": [
       "[OpenLong(trader='0xa3E519b323da5e3161661CF6e8fe3590b2939087', asset_id=452312848583266388373324160190187140051835877600158453279131187532620500656, maturity_time=1709838000, base_amount=FixedPoint(\"100000.0\"), vault_share_amount=FixedPoint(\"99986.276614078975487391\"), as_base=True, bond_amount=FixedPoint(\"100119.747042597701290677\"))]"
      ]
     },
     "execution_count": 14,
     "metadata": {},
     "output_type": "execute_result"
    }
   ],
   "source": [
    "policy_agent.execute_policy_action()"
   ]
  },
  {
   "cell_type": "markdown",
   "metadata": {},
   "source": [
    "## Connecting to a remote chain\n",
    "\n",
    "Along with a fully managed simulator, interactive hyperdrive also provides an interface for connecting to any existing remote chain and deployed hyperdrive pool. We can use this interface to make trades or execute any policy on the deployed hyperdrive pool.\n",
    "\n",
    "In this tutorial, we'll use the Anvil node and Hyperdrive pool being hosted by the `ILocalChain`\n",
    "and `ILocalHyperdrive` objects, but we can simply replace the corresponding configurations with any valid RPC and contract addresses.\n"
   ]
  },
  {
   "cell_type": "code",
   "execution_count": 15,
   "metadata": {},
   "outputs": [],
   "source": [
    "from agent0.hyperdrive.interactive import IChain, IHyperdrive\n",
    "\n",
    "# Get the RPC address and the hyperdrive contract addresses to connect to from the managed\n",
    "# interactive hyperdrive objects.\n",
    "rpc_uri = chain.rpc_uri\n",
    "hyperdrive_addresses = interactive_hyperdrive.get_hyperdrive_addresses()\n",
    "\n",
    "# We can specify other parameters as such.\n",
    "# rpc_uri = \"<rpc_uri>\"\n",
    "# TODO not all of these are strictly required, we may just need erc4626_hyperdrive.\n",
    "# hyperdrive_addresses = IHyperdrive.Addresses(\n",
    "#     base_token = \"0x<base_token_contract_address>\",\n",
    "#     erc4626_hyperdrive = \"0x<hyperdrive_contract_address>\",\n",
    "#     factory = \"0x<hyperdrive_factory_contract_address>\",\n",
    "#     steth_hyperdrive=\"0x<steth_hyperdrive_contract_address>\",\n",
    "# )\n",
    "\n",
    "# Connect to the remote chain and hyperdrive objects.\n",
    "remote_chain = IChain(rpc_uri)\n",
    "remote_hyperdrive = IHyperdrive(remote_chain, hyperdrive_addresses)"
   ]
  },
  {
   "cell_type": "markdown",
   "metadata": {},
   "source": [
    "We now need to initialize an agent by providing a private key to a wallet. In this tutorial,\n",
    "we'll simply use a random private key to initialize a new wallet, then fund the agent using\n",
    "the provided `add_funds` method.\n",
    "\n",
    "<div class=\"alert alert-block alert-info\"> \n",
    "NOTE:: The `add_funds` method calls the `anvil_setBalance` to fund Eth and `mint` on the base\n",
    "token contract to fund the wallet, which is only possible due to the remote chain and base token\n",
    "contract supporting such calls. It's up to the user to ensure the wallet associated with the\n",
    "private key is funded when running on a non-test chain.\n",
    "</div>\n",
    "\n",
    "<div class=\"alert alert-block alert-danger\"> \n",
    "WARNING:: This tutorial generates a random private key and funds this wallet. In practice, the private\n",
    "key should be passed into the script via an environment variable secret, and limit access\n",
    "to the generated agent object to only the owner of the private key.\n",
    "</div>\n",
    "\n",
    "In addition, we also attach our custom agent as well to allow the agent to execute the policy we wrote eariler.\n"
   ]
  },
  {
   "cell_type": "code",
   "execution_count": 16,
   "metadata": {},
   "outputs": [],
   "source": [
    "from agent0.base.make_key import make_private_key\n",
    "\n",
    "remote_agent = remote_hyperdrive.init_agent(\n",
    "    private_key=make_private_key(),\n",
    "    policy=OpenLongPolicy,\n",
    "    policy_config=OpenLongPolicy.Config(\n",
    "        fixed_rate_threshold=FixedPoint(0.06),\n",
    "        open_long_amount=FixedPoint(100_000),\n",
    "    ),\n",
    ")\n",
    "# Add funds to the agent\n",
    "remote_agent.add_funds(base=FixedPoint(1_000_000), eth=FixedPoint(100))\n",
    "# Give the hyperdrive contract max approval to withdrawal funds from the remote agent\n",
    "# TODO need to add setting a custom approval amount\n",
    "remote_agent.set_max_approval()"
   ]
  },
  {
   "cell_type": "code",
   "execution_count": 17,
   "metadata": {},
   "outputs": [
    {
     "data": {
      "text/plain": [
       "HyperdriveWallet(address=HexBytes('0x3d94768938124747e471475d35d799cdc5fb01ff'), balance=Quantity(amount=FixedPoint(\"1000000.0\"), unit=<TokenType.BASE: 'base'>), lp_tokens=FixedPoint(\"0.0\"), withdraw_shares=FixedPoint(\"0.0\"), longs={1709838000: Long(balance=FixedPoint(\"100119.747042597701290677\"), maturity_time=1709838000)}, shorts={1709751600: Short(balance=FixedPoint(\"100.0\"), maturity_time=1709751600), 1709838000: Short(balance=FixedPoint(\"20000112.879252612892491776\"), maturity_time=1709838000)})"
      ]
     },
     "execution_count": 17,
     "metadata": {},
     "output_type": "execute_result"
    }
   ],
   "source": [
    "remote_agent.wallet"
   ]
  },
  {
   "cell_type": "markdown",
   "metadata": {},
   "source": [
    "This agent is now able to make trades on the remote chain, as well as executing the underlying policy\n"
   ]
  },
  {
   "cell_type": "code",
   "execution_count": null,
   "metadata": {},
   "outputs": [],
   "source": [
    "remote_agent.open_short(bonds=FixedPoint(200))"
   ]
  },
  {
   "cell_type": "code",
   "execution_count": null,
   "metadata": {},
   "outputs": [],
   "source": [
    "remote_agent.execute_policy_action()"
   ]
  },
  {
   "cell_type": "markdown",
   "metadata": {},
   "source": [
    "We can take a look at the agent's wallet, and we find that the wallet contains both the short we\n",
    "opened manually, and the long we opened using the policy both exist in the wallet.\n"
   ]
  },
  {
   "cell_type": "code",
   "execution_count": null,
   "metadata": {},
   "outputs": [],
   "source": [
    "remote_agent.wallet"
   ]
  },
  {
   "cell_type": "markdown",
   "metadata": {},
   "source": [
    "## Cleanup\n",
    "\n",
    "Recall that the local chain created at the beginning of this tutorial produces resources under\n",
    "the hood that need to be cleaned up. The call below releases all the resources used by\n",
    "interactive hyperdrive.\n"
   ]
  },
  {
   "cell_type": "code",
   "execution_count": null,
   "metadata": {},
   "outputs": [],
   "source": [
    "chain.cleanup()"
   ]
  },
  {
   "cell_type": "code",
   "execution_count": null,
   "metadata": {},
   "outputs": [],
   "source": []
  }
 ],
 "metadata": {
  "kernelspec": {
   "display_name": ".venv",
   "language": "python",
   "name": "python3"
  },
  "language_info": {
   "codemirror_mode": {
    "name": "ipython",
    "version": 3
   },
   "file_extension": ".py",
   "mimetype": "text/x-python",
   "name": "python",
   "nbconvert_exporter": "python",
   "pygments_lexer": "ipython3",
   "version": "3.10.11"
  }
 },
 "nbformat": 4,
 "nbformat_minor": 2
}
