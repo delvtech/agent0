{
 "cells": [
  {
   "cell_type": "markdown",
   "metadata": {},
   "source": [
    "# Interactive Hyperdrive Tutorial\n"
   ]
  },
  {
   "cell_type": "markdown",
   "metadata": {},
   "source": [
    "Agent0 provide a self contained Hyperdrive simulator using Interactive Hyperdrive. It works by managing a local Anvil\n",
    "instance with an interactive and customizable Hyperdrive deployment, a data collection service, and a dashboard server\n",
    "showing useful information for analysis.\n",
    "\n",
    "To start, follow the installation instructions outlined [here](README.md) for interactive hyperdrive.\n"
   ]
  },
  {
   "cell_type": "markdown",
   "metadata": {},
   "source": [
    "## Simulating trades using Interactive Hyperdrive\n",
    "\n",
    "The following code initializes an interactive hyperdrive with (1) a local chain, (2) a deployed hyperdrive pool, and\n",
    "(3) a funded agent attached to the pool ready to trade.\n"
   ]
  },
  {
   "cell_type": "code",
   "execution_count": 1,
   "metadata": {},
   "outputs": [],
   "source": [
    "from fixedpointmath import FixedPoint\n",
    "from agent0.hyperdrive.interactive import InteractiveHyperdrive, LocalChain\n",
    "\n",
    "chain = LocalChain()\n",
    "interactive_hyperdrive = InteractiveHyperdrive(chain)\n",
    "hyperdrive_agent0 = interactive_hyperdrive.init_agent(base=FixedPoint(100_000))"
   ]
  },
  {
   "cell_type": "markdown",
   "metadata": {},
   "source": [
    "After initializing, we can use the `hyperdrive_agent` object to simulate trades on the deployed pool.\n"
   ]
  },
  {
   "cell_type": "code",
   "execution_count": 2,
   "metadata": {},
   "outputs": [],
   "source": [
    "open_long_event = hyperdrive_agent0.open_long(base=FixedPoint(100))\n",
    "open_short_event = hyperdrive_agent0.open_short(bonds=FixedPoint(100))\n",
    "add_liquidity_event = hyperdrive_agent0.add_liquidity(base=FixedPoint(100))"
   ]
  },
  {
   "cell_type": "markdown",
   "metadata": {},
   "source": [
    "The output of these trades represents the corresponding emitted event from Hyperdrive. For example, the open long event\n",
    "is shown below. See\n",
    "[here](https://agent0.readthedocs.io/en/latest/autoapi/agent0/hyperdrive/interactive/event_types/index.html) for\n",
    "documentation on the output event types.\n"
   ]
  },
  {
   "cell_type": "code",
   "execution_count": 3,
   "metadata": {},
   "outputs": [
    {
     "data": {
      "text/plain": [
       "OpenLong(trader='0xc98cf7Def51c730916860Ec1eC2dAA8a638Df767', asset_id=452312848583266388373324160190187140051835877600158453279131187532619741056, maturity_time=1709078400, base_amount=FixedPoint(\"100.0\"), vault_share_price=FixedPoint(\"1.00000005707762557\"), bond_amount=FixedPoint(\"100.094931446539240406\"))"
      ]
     },
     "execution_count": 3,
     "metadata": {},
     "output_type": "execute_result"
    }
   ],
   "source": [
    "open_long_event"
   ]
  },
  {
   "cell_type": "markdown",
   "metadata": {},
   "source": [
    "We can use Interactive Hyperdrive to simulate advancing time and closing a position. For example, we can simulate\n",
    "closing the long after a day.\n"
   ]
  },
  {
   "cell_type": "code",
   "execution_count": 4,
   "metadata": {},
   "outputs": [],
   "source": [
    "# Advance time for a day\n",
    "chain.advance_time(60 * 60 * 24)\n",
    "close_long_event = hyperdrive_agent0.close_long(\n",
    "    maturity_time=open_long_event.maturity_time,\n",
    "    bonds=open_long_event.bond_amount,\n",
    ")"
   ]
  },
  {
   "cell_type": "markdown",
   "metadata": {},
   "source": [
    "## Analyzing Hyperdrive\n",
    "\n",
    "Interactive hyperdrive provides a fully managed data service that collects information from the chain, as\n",
    "well as providing an interactive dashboard to view information on the pool. Running the dashboard within Interactive\n",
    "Hyperdrive brings up a webpage that shows you basic information of the trades made on the pool, as well as information\n",
    "on a specific agent, including the value of the portfolio.\n"
   ]
  },
  {
   "cell_type": "code",
   "execution_count": 5,
   "metadata": {},
   "outputs": [],
   "source": [
    "interactive_hyperdrive.run_dashboard()"
   ]
  },
  {
   "cell_type": "markdown",
   "metadata": {},
   "source": [
    "For customized analysis, Interactive Hyperdrive exposes the underlying data itself. See the `get_*` functions defined in\n",
    "interactive hyperdrive\n",
    "[here](https://agent0.readthedocs.io/en/latest/autoapi/agent0/hyperdrive/interactive/interactive_hyperdrive/index.html)\n",
    "for more information.\n"
   ]
  },
  {
   "cell_type": "markdown",
   "metadata": {},
   "source": [
    "## Trading policy\n",
    "\n",
    "Agent0 introduces an interface to write a policy, which allows a user to define a set of rules for trading on a\n",
    "deployed hyperdrive pool. In this tutorial, we'll write a policy that simply opens a long if the fixed rate is above a\n",
    "threshold. This policy can then be attached to interactive hyperdrive to simulate the policy within the simulator, or\n",
    "executed on a separate chain.\n",
    "\n",
    "We'll start by defining the class that subclasses from the base policy and define a custom policy\n",
    "configuration that defines the threshold. We need to overwrite the `action` method in the policy, which defines what\n",
    "actions the policy takes. In the example below, the agent will simply open a single long for `open_long_amount` when\n",
    "the fixed rate reaches the `fixed_rate_threshold`, and close the long at maturity.\n"
   ]
  },
  {
   "cell_type": "code",
   "execution_count": 6,
   "metadata": {},
   "outputs": [],
   "source": [
    "# Relevant imports\n",
    "from agent0.hyperdrive.policies import HyperdriveBasePolicy\n",
    "from dataclasses import dataclass\n",
    "from ethpy.hyperdrive import HyperdriveReadInterface\n",
    "from agent0.hyperdrive import HyperdriveWallet\n",
    "from agent0.hyperdrive.agent import open_long_trade, close_long_trade"
   ]
  },
  {
   "cell_type": "code",
   "execution_count": 7,
   "metadata": {},
   "outputs": [],
   "source": [
    "class OpenLongPolicy(HyperdriveBasePolicy):\n",
    "    @dataclass(kw_only=True)\n",
    "    class Config(HyperdriveBasePolicy.Config):\n",
    "        fixed_rate_threshold: FixedPoint\n",
    "        open_long_amount: FixedPoint\n",
    "\n",
    "    def action(self, interface: HyperdriveReadInterface, wallet: HyperdriveWallet):\n",
    "        # Defines if the bot is done trading. We expect this bot to run continuously,\n",
    "        # so this is always false.\n",
    "        done_trading = False\n",
    "        # If no longs in wallet, we check our fixed rate threshold and open the long if threshold reached.\n",
    "        if len(wallet.longs) == 0:\n",
    "            if interface.calc_fixed_rate() > self.config.fixed_rate_threshold:\n",
    "                return [open_long_trade(self.config.open_long_amount)], done_trading\n",
    "        # If there are longs in the wallet, we check for maturity and close them if maturity reached.\n",
    "        else:\n",
    "            for maturity_time, long in wallet.longs.items():\n",
    "                if interface.get_block_timestamp(interface.get_current_block()) >= maturity_time:\n",
    "                    return [close_long_trade(long.balance, maturity_time)], done_trading\n",
    "        # We don't do any trades otherwise.\n",
    "        return [], done_trading"
   ]
  },
  {
   "cell_type": "markdown",
   "metadata": {},
   "source": [
    "### Running the trading policy in Interactive Hyperdrive\n",
    "\n",
    "We can test our new policy using interactive hyperdrive before running it on an actual chain. We can do this by\n",
    "attaching our new policy to a new agent, while passing in a fixed rate threshold of 6%.\n"
   ]
  },
  {
   "cell_type": "code",
   "execution_count": 8,
   "metadata": {},
   "outputs": [],
   "source": [
    "policy_agent = interactive_hyperdrive.init_agent(\n",
    "    base=FixedPoint(1_000_000),\n",
    "    policy=OpenLongPolicy,\n",
    "    policy_config=OpenLongPolicy.Config(\n",
    "        fixed_rate_threshold=FixedPoint(0.06),\n",
    "        open_long_amount=FixedPoint(100_000),\n",
    "    ),\n",
    ")"
   ]
  },
  {
   "cell_type": "markdown",
   "metadata": {},
   "source": [
    "Lets take a look at the fixed rate after the set of trades we've made. We can see below that the current fixed rate sits\n",
    "right around 5%.\n"
   ]
  },
  {
   "cell_type": "code",
   "execution_count": 9,
   "metadata": {},
   "outputs": [
    {
     "data": {
      "text/html": [
       "<div>\n",
       "<style scoped>\n",
       "    .dataframe tbody tr th:only-of-type {\n",
       "        vertical-align: middle;\n",
       "    }\n",
       "\n",
       "    .dataframe tbody tr th {\n",
       "        vertical-align: top;\n",
       "    }\n",
       "\n",
       "    .dataframe thead th {\n",
       "        text-align: right;\n",
       "    }\n",
       "</style>\n",
       "<table border=\"1\" class=\"dataframe\">\n",
       "  <thead>\n",
       "    <tr style=\"text-align: right;\">\n",
       "      <th></th>\n",
       "      <th>block_number</th>\n",
       "      <th>timestamp</th>\n",
       "      <th>fixed_rate</th>\n",
       "    </tr>\n",
       "  </thead>\n",
       "  <tbody>\n",
       "    <tr>\n",
       "      <th>0</th>\n",
       "      <td>20</td>\n",
       "      <td>2024-02-21 00:35:10</td>\n",
       "      <td>0.049999999999999996</td>\n",
       "    </tr>\n",
       "    <tr>\n",
       "      <th>1</th>\n",
       "      <td>21</td>\n",
       "      <td>2024-02-21 00:35:22</td>\n",
       "      <td>0.049999999999999996</td>\n",
       "    </tr>\n",
       "    <tr>\n",
       "      <th>2</th>\n",
       "      <td>22</td>\n",
       "      <td>2024-02-21 00:35:34</td>\n",
       "      <td>0.049999999999999996</td>\n",
       "    </tr>\n",
       "    <tr>\n",
       "      <th>3</th>\n",
       "      <td>23</td>\n",
       "      <td>2024-02-21 00:35:46</td>\n",
       "      <td>0.049999939182593864</td>\n",
       "    </tr>\n",
       "    <tr>\n",
       "      <th>4</th>\n",
       "      <td>24</td>\n",
       "      <td>2024-02-21 00:35:58</td>\n",
       "      <td>0.049999999941555074</td>\n",
       "    </tr>\n",
       "    <tr>\n",
       "      <th>5</th>\n",
       "      <td>25</td>\n",
       "      <td>2024-02-21 00:36:10</td>\n",
       "      <td>0.049999999941555074</td>\n",
       "    </tr>\n",
       "    <tr>\n",
       "      <th>6</th>\n",
       "      <td>73</td>\n",
       "      <td>2024-02-22 00:36:22</td>\n",
       "      <td>0.049999999941555074</td>\n",
       "    </tr>\n",
       "    <tr>\n",
       "      <th>7</th>\n",
       "      <td>74</td>\n",
       "      <td>2024-02-22 00:36:34</td>\n",
       "      <td>0.050000052064673868</td>\n",
       "    </tr>\n",
       "    <tr>\n",
       "      <th>8</th>\n",
       "      <td>75</td>\n",
       "      <td>2024-02-22 00:36:46</td>\n",
       "      <td>0.050000052064673868</td>\n",
       "    </tr>\n",
       "  </tbody>\n",
       "</table>\n",
       "</div>"
      ],
      "text/plain": [
       "   block_number           timestamp            fixed_rate\n",
       "0            20 2024-02-21 00:35:10  0.049999999999999996\n",
       "1            21 2024-02-21 00:35:22  0.049999999999999996\n",
       "2            22 2024-02-21 00:35:34  0.049999999999999996\n",
       "3            23 2024-02-21 00:35:46  0.049999939182593864\n",
       "4            24 2024-02-21 00:35:58  0.049999999941555074\n",
       "5            25 2024-02-21 00:36:10  0.049999999941555074\n",
       "6            73 2024-02-22 00:36:22  0.049999999941555074\n",
       "7            74 2024-02-22 00:36:34  0.050000052064673868\n",
       "8            75 2024-02-22 00:36:46  0.050000052064673868"
      ]
     },
     "execution_count": 9,
     "metadata": {},
     "output_type": "execute_result"
    }
   ],
   "source": [
    "interactive_hyperdrive.get_pool_state()[[\"block_number\", \"timestamp\", \"fixed_rate\"]]"
   ]
  },
  {
   "cell_type": "markdown",
   "metadata": {},
   "source": [
    "We can now execute our new agent's policy. Since the fixed rate is below the threshold, we expect the agent to not make\n",
    "any trades, denoted by the output of `execute_policy_action` being an empty list.\n"
   ]
  },
  {
   "cell_type": "code",
   "execution_count": 10,
   "metadata": {},
   "outputs": [
    {
     "data": {
      "text/plain": [
       "[]"
      ]
     },
     "execution_count": 10,
     "metadata": {},
     "output_type": "execute_result"
    }
   ],
   "source": [
    "policy_agent.execute_policy_action()"
   ]
  },
  {
   "cell_type": "markdown",
   "metadata": {},
   "source": [
    "Let's make a trade to push the fixed rate to be 6%.\n"
   ]
  },
  {
   "cell_type": "code",
   "execution_count": 11,
   "metadata": {},
   "outputs": [
    {
     "data": {
      "text/html": [
       "<div>\n",
       "<style scoped>\n",
       "    .dataframe tbody tr th:only-of-type {\n",
       "        vertical-align: middle;\n",
       "    }\n",
       "\n",
       "    .dataframe tbody tr th {\n",
       "        vertical-align: top;\n",
       "    }\n",
       "\n",
       "    .dataframe thead th {\n",
       "        text-align: right;\n",
       "    }\n",
       "</style>\n",
       "<table border=\"1\" class=\"dataframe\">\n",
       "  <thead>\n",
       "    <tr style=\"text-align: right;\">\n",
       "      <th></th>\n",
       "      <th>block_number</th>\n",
       "      <th>timestamp</th>\n",
       "      <th>fixed_rate</th>\n",
       "    </tr>\n",
       "  </thead>\n",
       "  <tbody>\n",
       "    <tr>\n",
       "      <th>0</th>\n",
       "      <td>20</td>\n",
       "      <td>2024-02-21 00:35:10</td>\n",
       "      <td>0.049999999999999996</td>\n",
       "    </tr>\n",
       "    <tr>\n",
       "      <th>1</th>\n",
       "      <td>21</td>\n",
       "      <td>2024-02-21 00:35:22</td>\n",
       "      <td>0.049999999999999996</td>\n",
       "    </tr>\n",
       "    <tr>\n",
       "      <th>2</th>\n",
       "      <td>22</td>\n",
       "      <td>2024-02-21 00:35:34</td>\n",
       "      <td>0.049999999999999996</td>\n",
       "    </tr>\n",
       "    <tr>\n",
       "      <th>3</th>\n",
       "      <td>23</td>\n",
       "      <td>2024-02-21 00:35:46</td>\n",
       "      <td>0.049999939182593864</td>\n",
       "    </tr>\n",
       "    <tr>\n",
       "      <th>4</th>\n",
       "      <td>24</td>\n",
       "      <td>2024-02-21 00:35:58</td>\n",
       "      <td>0.049999999941555074</td>\n",
       "    </tr>\n",
       "    <tr>\n",
       "      <th>5</th>\n",
       "      <td>25</td>\n",
       "      <td>2024-02-21 00:36:10</td>\n",
       "      <td>0.049999999941555074</td>\n",
       "    </tr>\n",
       "    <tr>\n",
       "      <th>6</th>\n",
       "      <td>73</td>\n",
       "      <td>2024-02-22 00:36:22</td>\n",
       "      <td>0.049999999941555074</td>\n",
       "    </tr>\n",
       "    <tr>\n",
       "      <th>7</th>\n",
       "      <td>74</td>\n",
       "      <td>2024-02-22 00:36:34</td>\n",
       "      <td>0.050000052064673868</td>\n",
       "    </tr>\n",
       "    <tr>\n",
       "      <th>8</th>\n",
       "      <td>75</td>\n",
       "      <td>2024-02-22 00:36:46</td>\n",
       "      <td>0.050000052064673868</td>\n",
       "    </tr>\n",
       "    <tr>\n",
       "      <th>9</th>\n",
       "      <td>76</td>\n",
       "      <td>2024-02-22 00:36:58</td>\n",
       "      <td>0.050000052064673868</td>\n",
       "    </tr>\n",
       "    <tr>\n",
       "      <th>10</th>\n",
       "      <td>77</td>\n",
       "      <td>2024-02-22 00:37:10</td>\n",
       "      <td>0.063106129484519397</td>\n",
       "    </tr>\n",
       "  </tbody>\n",
       "</table>\n",
       "</div>"
      ],
      "text/plain": [
       "    block_number           timestamp            fixed_rate\n",
       "0             20 2024-02-21 00:35:10  0.049999999999999996\n",
       "1             21 2024-02-21 00:35:22  0.049999999999999996\n",
       "2             22 2024-02-21 00:35:34  0.049999999999999996\n",
       "3             23 2024-02-21 00:35:46  0.049999939182593864\n",
       "4             24 2024-02-21 00:35:58  0.049999999941555074\n",
       "5             25 2024-02-21 00:36:10  0.049999999941555074\n",
       "6             73 2024-02-22 00:36:22  0.049999999941555074\n",
       "7             74 2024-02-22 00:36:34  0.050000052064673868\n",
       "8             75 2024-02-22 00:36:46  0.050000052064673868\n",
       "9             76 2024-02-22 00:36:58  0.050000052064673868\n",
       "10            77 2024-02-22 00:37:10  0.063106129484519397"
      ]
     },
     "execution_count": 11,
     "metadata": {},
     "output_type": "execute_result"
    }
   ],
   "source": [
    "policy_agent.open_short(bonds=FixedPoint(20_000_000))\n",
    "interactive_hyperdrive.get_pool_state()[[\"block_number\", \"timestamp\", \"fixed_rate\"]]"
   ]
  },
  {
   "cell_type": "markdown",
   "metadata": {},
   "source": [
    "Once again, let's execute our policy and view the output. We can see that our policy opened a new long because the\n",
    "fixed rate is above 6%.\n"
   ]
  },
  {
   "cell_type": "code",
   "execution_count": 12,
   "metadata": {},
   "outputs": [
    {
     "data": {
      "text/plain": [
       "[OpenLong(trader='0xa2548377f006E05AE481d7B3F6eFd6729aC0F5ED', asset_id=452312848583266388373324160190187140051835877600158453279131187532619827456, maturity_time=1709164800, base_amount=FixedPoint(\"100000.0\"), vault_share_price=FixedPoint(\"1.000137195609470888\"), bond_amount=FixedPoint(\"100119.746891368919969584\"))]"
      ]
     },
     "execution_count": 12,
     "metadata": {},
     "output_type": "execute_result"
    }
   ],
   "source": [
    "policy_agent.execute_policy_action()"
   ]
  },
  {
   "cell_type": "markdown",
   "metadata": {},
   "source": [
    "### Running policy on existing chain\n",
    "\n",
    "The policy we implemented here can be used on a separate chain with Hyperdrive deployed. See the [readme](README.md) and the [custom policy example](examples/custom_agent.py) for details on how to execute custom policies on existing chains.\n"
   ]
  }
 ],
 "metadata": {
  "kernelspec": {
   "display_name": ".venv",
   "language": "python",
   "name": "python3"
  },
  "language_info": {
   "codemirror_mode": {
    "name": "ipython",
    "version": 3
   },
   "file_extension": ".py",
   "mimetype": "text/x-python",
   "name": "python",
   "nbconvert_exporter": "python",
   "pygments_lexer": "ipython3",
   "version": "3.10.11"
  }
 },
 "nbformat": 4,
 "nbformat_minor": 2
}
