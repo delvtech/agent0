{
 "cells": [
  {
   "cell_type": "code",
   "execution_count": 38,
   "metadata": {},
   "outputs": [],
   "source": [
    "import sys  \n",
    "sys.path.insert(0, './scripts')\n",
    "from PricingModels import *\n",
    "\n",
    "def calc_tokens_out_for_lp_in(lp_in, x_reserves, y_reserves, total_supply):\n",
    "    # solve for y_needed: lp_out = ((x_reserves / y_reserves) * y_needed * total_supply)/x_reserves\n",
    "    y_needed = (lp_in * x_reserves)/((x_reserves / y_reserves) * total_supply)\n",
    "    # solve for x_needed: x_reserves/y_reserves = x_needed/y_needed\n",
    "    x_needed = (x_reserves/y_reserves)*y_needed\n",
    "    return (x_needed,y_needed)\n",
    "\n",
    "def calc_token_out_for_lp_in(lp_in, x_reserves, y_reserves, total_supply,token_out,g,t):\n",
    "    y_out = (lp_in * x_reserves)/((x_reserves / y_reserves) * total_supply)\n",
    "    x_out = (x_reserves/y_reserves)*y_out\n",
    "    if token_out == \"base\":\n",
    "      (without_fee_or_slippage,with_fee,without_fee,fee) = Element_Pricing_Model.calc_out_given_in(y_out,y_reserves+total_supply,x_reserves,token_out,g,t)\n",
    "      x_out += with_fee\n",
    "      return x_out\n",
    "    elif token_out == \"fyt\":\n",
    "      (without_fee_or_slippage,with_fee,without_fee,fee) = Element_Pricing_Model.calc_out_given_in(x_out,x_reserves,y_reserves+total_supply,token_out,g,t)\n",
    "      y_out += with_fee\n",
    "      return y_out\n",
    "\n"
   ]
  },
  {
   "cell_type": "code",
   "execution_count": 39,
   "metadata": {},
   "outputs": [
    {
     "name": "stdout",
     "output_type": "stream",
     "text": [
      "swap lp token for base\n",
      "unit price before: 0.9472633457290816\n",
      "x_out: 28.55392173899459\n",
      "unit price after: 0.9116309500371222\n",
      "delta: 0.03563239569195931\n"
     ]
    }
   ],
   "source": [
    "x_reserves = 50\n",
    "y_reserves = 100\n",
    "total_supply = 50\n",
    "lp_in = 10\n",
    "g=.1\n",
    "t=90/(365*5)\n",
    "\n",
    "print(\"swap lp token for base\")\n",
    "fyt_unit_price_before = Element_Pricing_Model.fyt_price(x_reserves,y_reserves,total_supply,t)\n",
    "print(\"unit price before: {:}\".format(fyt_unit_price_before))\n",
    "x_out = calc_token_out_for_lp_in(lp_in,x_reserves,y_reserves,total_supply,\"base\",g,t)\n",
    "print(\"x_out: {:}\".format(x_out))\n",
    "total_supply -= lp_in\n",
    "x_reserves -= x_out\n",
    "fyt_unit_price_after = Element_Pricing_Model.fyt_price(x_reserves,y_reserves,total_supply,t)\n",
    "print(\"unit price after: {:}\".format(fyt_unit_price_after))\n",
    "print(\"delta: {:}\".format(fyt_unit_price_before-fyt_unit_price_after))"
   ]
  },
  {
   "cell_type": "code",
   "execution_count": 40,
   "metadata": {},
   "outputs": [
    {
     "name": "stdout",
     "output_type": "stream",
     "text": [
      "swap lp token for fyt\n",
      "unit price before: 0.9472633457290816\n",
      "y_out: 30.440486043570797\n",
      "unit price after: 0.9620537524954927\n",
      "delta: 0.01479040676641119\n"
     ]
    }
   ],
   "source": [
    "x_reserves = 50\n",
    "y_reserves = 100\n",
    "total_supply = 50\n",
    "lp_in = 10\n",
    "g=.1\n",
    "t=90/(365*5)\n",
    "\n",
    "print(\"swap lp token for fyt\")\n",
    "fyt_unit_price_before = Element_Pricing_Model.fyt_price(x_reserves,y_reserves,total_supply,t)\n",
    "print(\"unit price before: {:}\".format(fyt_unit_price_before))\n",
    "y_out = calc_token_out_for_lp_in(lp_in,x_reserves,y_reserves,total_supply,\"fyt\",g,t)\n",
    "print(\"y_out: {:}\".format(y_out))\n",
    "total_supply -= lp_in\n",
    "y_reserves -= y_out\n",
    "\n",
    "fyt_unit_price_after = Element_Pricing_Model.fyt_price(x_reserves,y_reserves,total_supply,t)\n",
    "print(\"unit price after: {:}\".format(fyt_unit_price_after))\n",
    "print(\"delta: {:}\".format(fyt_unit_price_after-fyt_unit_price_before))"
   ]
  },
  {
   "cell_type": "code",
   "execution_count": 45,
   "metadata": {},
   "outputs": [
    {
     "name": "stdout",
     "output_type": "stream",
     "text": [
      "swap lp token for fyt and base\n",
      "unit price before: 0.9663950241317364\n",
      "(x_needed,y_needed): 10.0 , 10.0\n",
      "unit price after: 0.9663950241317364\n",
      "delta: 0.0\n"
     ]
    }
   ],
   "source": [
    "x_reserves = 100\n",
    "y_reserves = 100\n",
    "total_supply = 100\n",
    "lp_in = 10\n",
    "g=.1\n",
    "t=90/(365*5)\n",
    "\n",
    "print(\"swap lp token for fyt and base\")\n",
    "fyt_unit_price_before = Element_Pricing_Model.fyt_price(x_reserves,y_reserves,total_supply,t)\n",
    "print(\"unit price before: {:}\".format(fyt_unit_price_before))\n",
    "(x_needed,y_needed) = calc_tokens_out_for_lp_in(lp_in,x_reserves,y_reserves,total_supply)\n",
    "print(\"(x_needed,y_needed): {:} , {:}\".format(x_needed,y_needed))\n",
    "\n",
    "total_supply -= lp_in\n",
    "x_reserves -= x_needed\n",
    "y_reserves -= y_needed\n",
    "fyt_unit_price_after = Element_Pricing_Model.fyt_price(x_reserves,y_reserves,total_supply,t)\n",
    "print(\"unit price after: {:}\".format(fyt_unit_price_after))\n",
    "print(\"delta: {:}\".format(fyt_unit_price_after-fyt_unit_price_before))"
   ]
  },
  {
   "cell_type": "code",
   "execution_count": 54,
   "metadata": {},
   "outputs": [
    {
     "name": "stdout",
     "output_type": "stream",
     "text": [
      "rate: 0.13628684657684687\n",
      "rate: 0.16509906352585338\n"
     ]
    }
   ],
   "source": [
    "x_reserves = 100\n",
    "y_reserves = 100\n",
    "total_supply = 100\n",
    "amount=10\n",
    "g=.1\n",
    "t=90/(365*5)\n",
    "T=90/365\n",
    "\n",
    "fyt_unit_price = Element_Pricing_Model.fyt_price(x_reserves,y_reserves,total_supply,t)\n",
    "print(\"rate: {:}\".format((1-fyt_unit_price)/T))\n",
    "(without_fee_or_slippage,with_fee,without_fee,fee)=Element_Pricing_Model.calc_out_given_in(amount,y_reserves+total_supply,x_reserves,\"base\",g,t)\n",
    "x_reserves-=with_fee\n",
    "y_reserves+=amount\n",
    "fyt_unit_price = Element_Pricing_Model.fyt_price(x_reserves,y_reserves,total_supply,t)\n",
    "print(\"rate: {:}\".format((1-fyt_unit_price)/T))"
   ]
  },
  {
   "cell_type": "code",
   "execution_count": 55,
   "metadata": {},
   "outputs": [
    {
     "name": "stdout",
     "output_type": "stream",
     "text": [
      "rate: 0.13628684657684687\n",
      "rate: 0.16517790117778453\n"
     ]
    }
   ],
   "source": [
    "x_reserves = 100\n",
    "y_reserves = 100\n",
    "total_supply = 100\n",
    "amount=10\n",
    "g=.1\n",
    "t=90/(365*5)\n",
    "T=90/365\n",
    "\n",
    "fyt_unit_price = Element_Pricing_Model.fyt_price(x_reserves,y_reserves,total_supply,t)\n",
    "print(\"rate: {:}\".format((1-fyt_unit_price)/T))\n",
    "(without_fee_or_slippage,with_fee,without_fee,fee)=Element_Pricing_Model.calc_out_given_in(amount,y_reserves+total_supply,x_reserves,\"base\",g,t)\n",
    "x_reserves-=without_fee\n",
    "y_reserves+=amount\n",
    "fyt_unit_price = Element_Pricing_Model.fyt_price(x_reserves,y_reserves,total_supply,t)\n",
    "print(\"rate: {:}\".format((1-fyt_unit_price)/T))"
   ]
  },
  {
   "cell_type": "code",
   "execution_count": null,
   "metadata": {},
   "outputs": [],
   "source": []
  }
 ],
 "metadata": {
  "kernelspec": {
   "display_name": "Python 3.10.1 64-bit",
   "language": "python",
   "name": "python3"
  },
  "language_info": {
   "codemirror_mode": {
    "name": "ipython",
    "version": 3
   },
   "file_extension": ".py",
   "mimetype": "text/x-python",
   "name": "python",
   "nbconvert_exporter": "python",
   "pygments_lexer": "ipython3",
   "version": "3.10.1"
  },
  "vscode": {
   "interpreter": {
    "hash": "369f2c481f4da34e4445cda3fffd2e751bd1c4d706f27375911949ba6bb62e1c"
   }
  }
 },
 "nbformat": 4,
 "nbformat_minor": 4
}
