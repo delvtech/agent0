{
 "cells": [
  {
   "cell_type": "markdown",
   "metadata": {},
   "source": [
    "# Apeworx Setup"
   ]
  },
  {
   "cell_type": "code",
   "execution_count": null,
   "metadata": {},
   "outputs": [],
   "source": [
    "from ape import accounts, chain, Contract, networks, project\n",
    "from pathlib import Path\n",
    "import pandas as pd\n",
    "import matplotlib.pyplot as plt"
   ]
  },
  {
   "cell_type": "code",
   "execution_count": null,
   "metadata": {},
   "outputs": [],
   "source": [
    "networks.parse_network_choice('ethereum:local:foundry').__enter__()"
   ]
  },
  {
   "cell_type": "code",
   "execution_count": null,
   "metadata": {},
   "outputs": [],
   "source": [
    "project_root = Path.cwd().parent\n",
    "\n",
    "# Initialize Project Compilation\n",
    "project.contracts\n",
    "hyperdrive_user = accounts.test_accounts.generate_test_account()\n",
    "\n",
    "# Give user 1 eth balance\n",
    "hyperdrive_user.balance += int(1e18)\n",
    "\n",
    "# Instantiate Contract Instances\n",
    "base_ERC20 = project.IERC20Mint.at(\"0x5fbdb2315678afecb367f032d93f642f64180aa3\")\n",
    "hyperdrive = project.IHyperdrive.at(\"0x9fe46736679d2d9a65f0992f2272de9f3c7fa6e0\")\n",
    "\n",
    "# get current block\n",
    "current_block = chain.blocks[-1].number\n",
    "print(current_block)\n",
    "pool_info = [hyperdrive.getPoolInfo().__dict__]\n",
    "pool_info[0][\"block_number_\"] = current_block\n",
    "\n",
    "def open_longs():\n",
    "    # with notation avoids passing in sender each time\n",
    "    with accounts.use_sender(hyperdrive_user):\n",
    "        # Mint 1 million DAI\n",
    "        base_ERC20.mint(int(1e24))\n",
    "\n",
    "        # Approve ERC20 usage by contract\n",
    "        base_ERC20.approve(hyperdrive, int(1e24))\n",
    "\n",
    "        pool_info = hyperdrive.getPoolInfo().__dict__\n",
    "\n",
    "        # Open Long on 10,000 DAI\n",
    "        tx_receipt = hyperdrive.openLong(int(1e21), int(1e21), hyperdrive_user, False)\n",
    "        pt_balance = tx_receipt.return_value\n",
    "        \n",
    "        print(\"user input %s base\" %(int(1e21)))\n",
    "        print(\"user received %s PTs\" %(pt_balance))\n",
    "        \n",
    "        current_block = chain.blocks[-1]\n",
    "        pool_info[\"block_number_\"] = current_block.number\n",
    "\n",
    "        return pool_info\n",
    "\n",
    "\n",
    "for x in range(50):        \n",
    "    pool_info += [open_longs()]\n",
    "\n"
   ]
  },
  {
   "cell_type": "code",
   "execution_count": null,
   "metadata": {},
   "outputs": [],
   "source": [
    "df = pd.DataFrame(pool_info)\n",
    "\n",
    "plt.figure(1)\n",
    "plt.plot(df['block_number_'], df['shareReserves_'], label='Share Reserves')\n",
    "plt.plot(df['block_number_'], df['bondReserves_'], label='Bond Reserves')\n",
    "plt.plot(df['block_number_'], df['lpTotalSupply'], label='LP Supply')\n",
    "plt.xlabel('Block Number')\n",
    "plt.ylabel('Reserves & Supply')\n",
    "plt.title('Local Longs Opened Consecutively')\n",
    "plt.legend()\n",
    "plt.show()\n"
   ]
  },
  {
   "cell_type": "code",
   "execution_count": null,
   "metadata": {},
   "outputs": [],
   "source": []
  }
 ],
 "metadata": {
  "kernelspec": {
   "display_name": "Python 3",
   "language": "python",
   "name": "python3"
  },
  "language_info": {
   "codemirror_mode": {
    "name": "ipython",
    "version": 3
   },
   "file_extension": ".py",
   "mimetype": "text/x-python",
   "name": "python",
   "nbconvert_exporter": "python",
   "pygments_lexer": "ipython3",
   "version": "3.8.16"
  },
  "vscode": {
   "interpreter": {
    "hash": "b693f92758614481f4be07b99263f847ed7e304f7d4380d4d1becf7c14656bbb"
   }
  }
 },
 "nbformat": 4,
 "nbformat_minor": 2
}
