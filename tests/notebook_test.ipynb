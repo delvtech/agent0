{
 "cells": [
  {
   "cell_type": "code",
   "execution_count": 1,
   "metadata": {},
   "outputs": [],
   "source": [
    "import test_trade"
   ]
  },
  {
   "cell_type": "code",
   "execution_count": 2,
   "metadata": {},
   "outputs": [],
   "source": [
    "# create object\n",
    "based = test_trade.BaseTradeTest()\n"
   ]
  },
  {
   "cell_type": "code",
   "execution_count": 3,
   "metadata": {},
   "outputs": [],
   "source": [
    "# run a test\n",
    "override_dict = {\n",
    "    \"num_blocks_per_day\": int(24 * 60 * 60 / 12),  # 12 second block time\n",
    "    # \"num_blocks_per_day\": 1,  # 1 block a day keeps the MEV away!\n",
    "}"
   ]
  },
  {
   "cell_type": "code",
   "execution_count": 4,
   "metadata": {},
   "outputs": [
    {
     "name": "stdout",
     "output_type": "stream",
     "text": [
      "PricingModel.calc_base_asset_reserves:\n",
      "base_asset_reserves: 4920672.362165306\n",
      "PricingModel.calc_liquidity: \n",
      "base_asset_reserves=4960019.021423776, token_asset_reserves=5040151.216252362, scaling_factor=1.0079961957152448, spot_price_from_apy=0.9999662236967037, total_supply=10,000,000(10,000,000 USD), apy=0.05000000000010429\n",
      "has_opened_long: False, can_open_long: True max_long: 1000.0 position_list: [] sum(positions)=0\n",
      "\n",
      "-----\n",
      "initial market values:\n",
      "share_reserves = 4960019.021423776\n",
      "bond_reserves = 5040151.216252362\n",
      "target_liquidity = 10000000.0\n",
      "total market liquidity = 10000170.237676138\n",
      "fee_percent = 0.1\n",
      "share_price = 1.031508939370492\n",
      "init_share_price = 1.031508939370492\n",
      "init_time_stretch = 22.186877016851916\n",
      "-----\n",
      "\n",
      "t=\u001b[95m0\u001b[0m reserves=[x=\u001b[94m4960119.021423776\u001b[0m,y=\u001b[94m5040050.120772988\u001b[0m]\n",
      " action: {'action_type': 'open_long', 'trade_amount': 100, 'mint_time': 0, 'time_remaining': 0.2465753424657534, 'stretched_time_remaining': 0.011113566919691694}\n",
      " result: {'base_in_wallet': -100, 'base_in_protocol': [0, 0], 'token_in_wallet': [0, 101.09547937492223], 'token_in_protocol': [0, 0], 'fee': [0, 0.12172156741527161]}\n",
      "  time=0 last_update_spend=0 budget=1000 base_in_wallet=1000\n",
      "  weighted_average_spend=0 added 0 deltaT=0 delta₡=0\n",
      " hello, human. this 🤖 now has base_in_wallet = ₡\u001b[92m900\u001b[0m token_in_wallet = ₡\u001b[92m101.09547937492223\u001b[0m of your puny currencies\n",
      "t=\u001b[95m0.2500000000032493\u001b[0m reserves=[x=\u001b[94m4960018.13278005\u001b[0m,y=\u001b[94m5040151.009416712\u001b[0m]\n",
      " action: {'action_type': 'close_long', 'trade_amount': 100.88864372504881, 'mint_time': 0, 'time_remaining': 0.0, 'stretched_time_remaining': 0.0}\n",
      " result: {'base_in_wallet': 100.88864372540561, 'base_in_protocol': [0, 0], 'token_in_wallet': [0, -100.88864372504881], 'token_in_protocol': [0, 0], 'fee': [0, 0.0]}\n",
      "  time=0.2500000000032493 last_update_spend=0 budget=1000 base_in_wallet=900\n",
      "  weighted_average_spend=25.000000000324928 added 25.000000000324928 deltaT=0.2500000000032493 delta₡=100\n",
      " hello, human. this 🤖 now has base_in_wallet = ₡\u001b[92m1000.8886437254056\u001b[0m token_in_wallet = ₡\u001b[92m0.20683564987342606\u001b[0m of your puny currencies\n",
      "t=\u001b[95m0.2500003805207531\u001b[0m reserves=[x=\u001b[94m4960118.13278005\u001b[0m,y=\u001b[94m5040049.874487464\u001b[0m]\n",
      " action: {'action_type': 'open_long', 'trade_amount': 100, 'mint_time': 0.2500003805207531, 'time_remaining': 0.2465753424657534, 'stretched_time_remaining': 0.011113566919691694}\n",
      " result: {'base_in_wallet': -100, 'base_in_protocol': [0.2500003805207531, 0], 'token_in_wallet': [0.2500003805207531, 101.1349292484791], 'token_in_protocol': [0.2500003805207531, 0], 'fee': [0.2500003805207531, 0.12610474287262807]}\n",
      "  time=0.2500003805207531 last_update_spend=0.2500000000032493 budget=1000 base_in_wallet=1000.8886437254056\n",
      "  weighted_average_spend=24.999999662180436 added -3.381444921447322e-07 deltaT=3.8051750378409466e-07 delta₡=-0.8886437254055863\n",
      " hello, human. this 🤖 now has base_in_wallet = ₡\u001b[92m900.8886437254056\u001b[0m token_in_wallet = ₡\u001b[92m101.34176489835252\u001b[0m of your puny currencies\n",
      "  time=0.493150304403782 last_update_spend=0.2500003805207531 budget=1000 base_in_wallet=900.8886437254056\n",
      "  weighted_average_spend=49.09891839629183 added 24.098918734111393 deltaT=0.24314992388302892 delta₡=99.11135627459441\n",
      "SIM_END t=\u001b[95m0.493150304403782\u001b[0m reserves=[x=\u001b[94m4960118.13278005\u001b[0m,y=\u001b[94m5040049.874487464\u001b[0m]\n",
      " user result 😱 = ₡\u001b[91m1000.9683845301563\u001b[0m from 900.8886437254056 base and 101.34176489835252 tokens at p=0.9875468510453947\n",
      " over 0.493150304403782 years that's an APR of \u001b[92m1.97%\u001b[0m on ₡99.5617724613439 weighted average spend\n",
      "CPU times: total: 6.47 s\n",
      "Wall time: 6.5 s\n"
     ]
    }
   ],
   "source": [
    "%time based.run_base_trade_test(policy=\"single_long\", additional_overrides=override_dict)"
   ]
  },
  {
   "cell_type": "code",
   "execution_count": null,
   "metadata": {},
   "outputs": [],
   "source": []
  }
 ],
 "metadata": {
  "kernelspec": {
   "display_name": "Python 3.10.6 64-bit",
   "language": "python",
   "name": "python3"
  },
  "language_info": {
   "codemirror_mode": {
    "name": "ipython",
    "version": 3
   },
   "file_extension": ".py",
   "mimetype": "text/x-python",
   "name": "python",
   "nbconvert_exporter": "python",
   "pygments_lexer": "ipython3",
   "version": "3.10.6"
  },
  "orig_nbformat": 4,
  "vscode": {
   "interpreter": {
    "hash": "369f2c481f4da34e4445cda3fffd2e751bd1c4d706f27375911949ba6bb62e1c"
   }
  }
 },
 "nbformat": 4,
 "nbformat_minor": 2
}
