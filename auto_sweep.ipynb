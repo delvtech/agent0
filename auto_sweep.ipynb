{
  "cells": [
    {
      "cell_type": "markdown",
      "metadata": {
        "id": "QhRy2ybG7IV8"
      },
      "source": [
        "# Automatic parameter sweeping & result visualizaiton\n",
        "This notebook demonstrates our ability to sweep over a set of parameters for markets and pricing models. The final results are displayed via a [parallel coordinates plot](https://arxiv.org/abs/1705.00368), which illustrates how each parameter influences a final metric, such as net fees earned."
      ]
    },
    {
      "cell_type": "code",
      "execution_count": null,
      "metadata": {
        "id": "mqlJoF75Dv4G"
      },
      "outputs": [],
      "source": [
        "import os, sys\n",
        "\n",
        "#if os.path.exists('analysis'):\n",
        "#    os.system('rm -rf analysis')\n",
        "#!git clone https://github.com/element-fi/analysis.git && cd analysis && git fetch && git checkout consistency_test && cd ..\n",
        "#\n",
        "#sys.path.insert(1, os.getcwd())"
      ]
    },
    {
      "cell_type": "code",
      "execution_count": null,
      "metadata": {
        "id": "vm63VvwRD1aU"
      },
      "outputs": [],
      "source": [
        "import time\n",
        "\n",
        "import numpy as np\n",
        "import pandas as pd\n",
        "import plotly.graph_objects as go\n",
        "\n",
        "from sim import YieldSimulator, ElementPricingModel, Market, YieldSpacev2PricingModel, YieldSpacev2MinFeePricingModel"
      ]
    },
    {
      "cell_type": "code",
      "execution_count": null,
      "metadata": {
        "id": "NFDMIANFD2Vh"
      },
      "outputs": [],
      "source": [
        "seed = 1234\n",
        "rng = np.random.default_rng(seed)\n",
        "\n",
        "config = {\n",
        "    'min_fee': 0.,\n",
        "    'max_fee': 0.5,\n",
        "    't_min': 0.001,\n",
        "    't_max': 1.0,\n",
        "    'base_asset_price': 55000., # aka market price\n",
        "    'min_target_liquidity': 100000.,\n",
        "    'max_target_liquidity': 10000000.,\n",
        "    'min_target_volume': 2e5,\n",
        "    'max_target_volume': 6e5,\n",
        "    'min_pool_apy': 0.5,\n",
        "    'max_pool_apy': 20.0,\n",
        "    'min_vault_age': 0.,\n",
        "    'max_vault_age': 2.,\n",
        "    'min_vault_apy': 0.,\n",
        "    'max_vault_apy': 10.,\n",
        "    'precision': None,\n",
        "    'pricing_model_name': 'YieldSpacev2',\n",
        "    'tokens': ['base', 'fyt'],\n",
        "    'trade_direction': 'out',\n",
        "    'days_until_maturity': 90,\n",
        "    'num_trading_days': 50, # should be <= days_until_maturity\n",
        "    'rng': rng, # random number generator\n",
        "    'verbose': False,\n",
        "}"
      ]
    },
    {
      "cell_type": "code",
      "execution_count": null,
      "metadata": {
        "id": "TuYjZab4D5i_"
      },
      "outputs": [],
      "source": [
        "start_time = time.time()\n",
        "num_runs = 0\n",
        "\n",
        "simulator = YieldSimulator(**config)\n",
        "simulator.set_random_variables()\n",
        "\n",
        "pricing_models = ['Element', 'YieldSpacev2', 'YieldSpacev2MinFee']\n",
        "vault_ages = [0.1, 0.3, 0.5]\n",
        "init_pool_apys = [1, 5, 20]\n",
        "vault_apys = [[i,]*config['num_trading_days'] for i in [3, 5, 9]] # multiple constant vault apy\n",
        "\n",
        "for pricing_model in pricing_models:\n",
        "    for vault_age in vault_ages:\n",
        "        for vault_apy in vault_apys:\n",
        "            for init_pool_apy in init_pool_apys:\n",
        "                override_dict = {\n",
        "                    'pricing_model_name': pricing_model,\n",
        "                    'vault_apy': vault_apy,\n",
        "                    'init_vault_age': vault_age,\n",
        "                    'init_pool_apy': init_pool_apy,\n",
        "                }\n",
        "                simulator.run_simulation(override_dict)\n",
        "                num_runs += 1\n",
        "\n",
        "end_time = time.time()\n",
        "print(f'Total time for {num_runs} runs was {end_time-start_time:.3f} seconds; which is {(end_time-start_time)/num_runs:.3f} seconds per run')"
      ]
    },
    {
      "cell_type": "code",
      "execution_count": null,
      "metadata": {
        "id": "58cnhm1Bv9KG"
      },
      "outputs": [],
      "source": [
        "# construct simulation dataframe output\n",
        "trades = pd.DataFrame.from_dict(simulator.analysis_dict)\n",
        "\n",
        "# calculate derived variables across runs\n",
        "trades['time_diff'] = trades.time_until_end.diff()\n",
        "trades['time_diff_shift'] = trades.time_until_end.shift(-1).diff()\n",
        "trades.loc[len(trades) - 1, 'time_diff_shift'] = 1\n",
        "trades['fee_in_usd'] = trades.fee * trades.base_asset_price\n",
        "trades['fee_in_bps'] = trades.fee / trades.out_without_fee * 100 * 100\n",
        "x_liquidity_usd = trades.x_reserves * trades.base_asset_price\n",
        "y_liquidity_usd = trades.y_reserves * trades.base_asset_price * trades.spot_price\n",
        "trades['total_liquidity_usd'] = x_liquidity_usd + y_liquidity_usd\n",
        "trades['trade_volume_usd'] = trades.out_with_fee * trades.base_asset_price\n",
        "model_numbers = []\n",
        "for name in trades['model_name']:\n",
        "    if name == 'Element':\n",
        "        model_numbers.append(0)\n",
        "    elif name == 'YieldSpacev2':\n",
        "        model_numbers.append(1)\n",
        "    elif name == 'YieldSpacev2MinFee':\n",
        "        model_numbers.append(2)\n",
        "trades['model_number'] = model_numbers\n",
        "\n",
        "# pr is the percent change in spot price since day 1\n",
        "trades['pr'] = trades.loc[:, 'spot_price'] - trades.loc[0, 'spot_price'] # this is APR (does not include compounding)\n",
        "# pu takes that percent change and normalizes it to be equal to init_price_per_share at the beginning, so you can compare its progression vs. price_per_share\n",
        "trades['pu'] = (trades.loc[:, 'pr'] + 1) * trades.loc[:, 'init_price_per_share'] # this is APR (does not include compounding)\n",
        "\n",
        "# create explicit column that increments per trade\n",
        "trades = trades.reset_index().rename(columns = {'index': 'trade_number'})\n",
        "\n",
        "\n",
        "preserved_columns = [\n",
        "    'day',\n",
        "    'model_name',\n",
        "    'model_number',\n",
        "    'init_vault_age',\n",
        "    'pu',\n",
        "]\n",
        "trades_reduced = trades.groupby(preserved_columns).agg({\n",
        "    'trade_volume_usd': ['sum'],\n",
        "    'fee_in_usd': ['mean', 'sum'],\n",
        "    'fee_in_bps': ['mean', 'sum'],\n",
        "    'pool_apy': ['mean'],\n",
        "    'vault_apy': ['mean'],\n",
        "})\n",
        "trades_reduced.columns = ['_'.join(col).strip() for col in trades_reduced.columns.values]\n",
        "trades_reduced = trades_reduced.reset_index()\n",
        "#trades_reduced['spot_price_growth'] = (trades_reduced.groupby(['day'])['pu'].apply(pd.Series.pct_change) + 1)\n",
        "#trades_reduced['spot_price_growth_sum'] = trades_reduced.groupby(['day']).agg({'spot_price_growth':['sum']})\n",
        "\n",
        "trades_reduced"
      ]
    },
    {
      "cell_type": "code",
      "execution_count": null,
      "metadata": {
        "id": "nBi1I1DX1aDa"
      },
      "outputs": [],
      "source": [
        "fig = go.Figure(data=\n",
        "    go.Parcoords(\n",
        "        line = dict(color = trades_reduced.fee_in_usd_sum,\n",
        "                   #colorscale = 'Electric',\n",
        "                   colorscale = 'viridis',\n",
        "                   #colorscale = 'tealrose',\n",
        "                   showscale = True,\n",
        "                   cmin = trades_reduced.fee_in_usd_sum.min(),\n",
        "                   cmax = trades_reduced.fee_in_usd_sum.max()),\n",
        "        dimensions = list([\n",
        "            dict(tickvals = [0, 1, 2],\n",
        "                 ticktext = ['Element', 'YieldSpacev2', 'YieldSpacev2MinFee'],\n",
        "                 label = 'Model Type',\n",
        "                 values = trades_reduced.model_number),\n",
        "            dict(range = [trades_reduced.init_vault_age.min(), trades_reduced.init_vault_age.max()],\n",
        "                 #tickvals = list(range(trades_reduced.init_vault_age.min(), trades_reduced.init_vault_age.max()+2, 5)),\n",
        "                 label = 'Initial Vault Age',\n",
        "                 values = trades_reduced.init_vault_age),\n",
        "            dict(range = [trades_reduced.vault_apy_mean.min(), trades_reduced.vault_apy_mean.max()],\n",
        "                 label = \"Vault APY\",\n",
        "                 values = trades_reduced.vault_apy_mean),\n",
        "            dict(range = [trades_reduced.pool_apy_mean.min(), trades_reduced.pool_apy_mean.max()],\n",
        "                 label = 'Mean Pool APY',\n",
        "                 values = trades_reduced.pool_apy_mean),\n",
        "            dict(range = [trades_reduced.fee_in_usd_sum.min(), trades_reduced.fee_in_usd_sum.max()],\n",
        "                 label = 'Fee (USD)',\n",
        "                 values = trades_reduced.fee_in_usd_sum),\n",
        "        ])\n",
        "    )\n",
        ")\n",
        "\n",
        "fig.show()"
      ]
    }
  ],
  "metadata": {
    "colab": {
      "collapsed_sections": [],
      "private_outputs": true,
      "provenance": []
    },
    "kernelspec": {
      "display_name": "Python 3",
      "name": "python3"
    },
    "language_info": {
      "name": "python"
    }
  },
  "nbformat": 4,
  "nbformat_minor": 0
}
