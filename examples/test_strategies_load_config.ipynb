{
 "cells": [
  {
   "cell_type": "code",
   "execution_count": 1,
   "metadata": {},
   "outputs": [],
   "source": [
    "import os, sys\n",
    "import numpy as np\n",
    "parent_dir = os.path.join(os.getcwd(), os.pardir)\n",
    "sys.path.insert(1, os.path.join(parent_dir, \"src\"))"
   ]
  },
  {
   "cell_type": "code",
   "execution_count": 2,
   "metadata": {},
   "outputs": [],
   "source": [
    "from elfpy.utils.parse_json import parse_trade, parse_action, parse\n",
    "import json"
   ]
  },
  {
   "cell_type": "code",
   "execution_count": 3,
   "metadata": {},
   "outputs": [
    {
     "name": "stdout",
     "output_type": "stream",
     "text": [
      "loaded default_config.pkl\n"
     ]
    }
   ],
   "source": [
    "from elfpy.simulators import YieldSimulator\n",
    "from elfpy.pricing_models import ElementPricingModel\n",
    "import elfpy.utils.config as config\n",
    "\n",
    "# load default config\n",
    "default_config = config.load()\n",
    "rng = default_config[\"rng\"]\n",
    "\n",
    "simulator = YieldSimulator(**default_config)\n",
    "simulator.set_random_variables()\n",
    "market = simulator.market"
   ]
  },
  {
   "cell_type": "code",
   "execution_count": 4,
   "metadata": {},
   "outputs": [
    {
     "name": "stdout",
     "output_type": "stream",
     "text": [
      "../src/elfpy/strategies\\simple1.py\n",
      "{\n",
      "    \"type\": \"simple_trader\",\n",
      "    \"budget\": 1000,\n",
      "    \"trade\": {\n",
      "        \"buy\": {\n",
      "            \"amount\": 100,\n",
      "            \"direction\": \"in\"\n",
      "        }\n",
      "    }\n",
      "}\n",
      "{'type': 'simple_trader', 'budget': 1000, 'trade': {'buy': {'amount': 100, 'direction': 'in'}}}\n"
     ]
    }
   ],
   "source": [
    "# assign directory\n",
    "directory = '../src/elfpy/strategies'\n",
    "\n",
    "for filename in os.scandir(directory):\n",
    "    if filename.is_file():\n",
    "        print(filename.path)\n",
    "        s = open(filename.path).read()\n",
    "        print(s)\n",
    "        l = json.loads(s)\n",
    "        print(l)"
   ]
  },
  {
   "cell_type": "code",
   "execution_count": 5,
   "metadata": {},
   "outputs": [
    {
     "name": "stdout",
     "output_type": "stream",
     "text": [
      "type: simple_trader\n",
      "budget: 1000\n",
      "trade:\n",
      " buy:\n",
      "  amount: 100\n",
      "  direction: in\n"
     ]
    }
   ],
   "source": [
    "def parse_dict(d,prefix=''):\n",
    "    for (k,v) in d.items():\n",
    "        if isinstance(v, dict):\n",
    "            print(f\"{prefix}{k}:\")\n",
    "            parse_dict(v,f\"{prefix} \")\n",
    "        else:\n",
    "            print(f\"{prefix}{k}: {v}\")\n",
    "parse_dict(l)"
   ]
  },
  {
   "cell_type": "code",
   "execution_count": 6,
   "metadata": {},
   "outputs": [
    {
     "name": "stdout",
     "output_type": "stream",
     "text": [
      "{'buy': {'amount': 100, 'direction': 'in'}}\n",
      "{'amount': 100, 'direction': 'in'}\n"
     ]
    }
   ],
   "source": [
    "print(l[\"trade\"])\n",
    "print(l[\"trade\"][\"buy\"])"
   ]
  },
  {
   "cell_type": "code",
   "execution_count": 8,
   "metadata": {},
   "outputs": [
    {
     "name": "stdout",
     "output_type": "stream",
     "text": [
      "action_spec: {'buy': {'amount': 100, 'direction': 'in'}}\n"
     ]
    },
    {
     "ename": "ValueError",
     "evalue": "parse_json: ERROR: action_spec must be [\"buy\", \"sell\", \"none\"], not {'buy': {'amount': 100, 'direction': 'in'}}",
     "output_type": "error",
     "traceback": [
      "\u001b[1;31m---------------------------------------------------------------------------\u001b[0m",
      "\u001b[1;31mValueError\u001b[0m                                Traceback (most recent call last)",
      "Cell \u001b[1;32mIn [8], line 1\u001b[0m\n\u001b[1;32m----> 1\u001b[0m parse_trade(l[\u001b[39m\"\u001b[39;49m\u001b[39mtrade\u001b[39;49m\u001b[39m\"\u001b[39;49m],market,rng)\n",
      "File \u001b[1;32md:\\code\\elfpy\\examples\\..\\src\\elfpy\\utils\\parse_json.py:99\u001b[0m, in \u001b[0;36mparse_trade\u001b[1;34m(trade_spec, market, rng)\u001b[0m\n\u001b[0;32m     97\u001b[0m         action \u001b[39m=\u001b[39m parse_action(trade_spec[\u001b[39m\"\u001b[39m\u001b[39mconditional\u001b[39m\u001b[39m\"\u001b[39m][\u001b[39m\"\u001b[39m\u001b[39melse\u001b[39m\u001b[39m\"\u001b[39m], rng)\n\u001b[0;32m     98\u001b[0m \u001b[39melse\u001b[39;00m:\n\u001b[1;32m---> 99\u001b[0m     action \u001b[39m=\u001b[39m parse_action(trade_spec, rng)\n\u001b[0;32m    100\u001b[0m \u001b[39mreturn\u001b[39;00m action\n",
      "File \u001b[1;32md:\\code\\elfpy\\examples\\..\\src\\elfpy\\utils\\parse_json.py:117\u001b[0m, in \u001b[0;36mparse_action\u001b[1;34m(action_spec, rng)\u001b[0m\n\u001b[0;32m    115\u001b[0m     amount \u001b[39m=\u001b[39m parse_trade_amount(action_spec[\u001b[39m\"\u001b[39m\u001b[39msell\u001b[39m\u001b[39m\"\u001b[39m], rng)\n\u001b[0;32m    116\u001b[0m \u001b[39melse\u001b[39;00m:\n\u001b[1;32m--> 117\u001b[0m     \u001b[39mraise\u001b[39;00m \u001b[39mValueError\u001b[39;00m(\n\u001b[0;32m    118\u001b[0m         \u001b[39mf\u001b[39m\u001b[39m'\u001b[39m\u001b[39mparse_json: ERROR: action_spec must be [\u001b[39m\u001b[39m\"\u001b[39m\u001b[39mbuy\u001b[39m\u001b[39m\"\u001b[39m\u001b[39m, \u001b[39m\u001b[39m\"\u001b[39m\u001b[39msell\u001b[39m\u001b[39m\"\u001b[39m\u001b[39m, \u001b[39m\u001b[39m\"\u001b[39m\u001b[39mnone\u001b[39m\u001b[39m\"\u001b[39m\u001b[39m], not \u001b[39m\u001b[39m{\u001b[39;00maction_spec\u001b[39m}\u001b[39;00m\u001b[39m'\u001b[39m)\n\u001b[0;32m    119\u001b[0m \u001b[39mreturn\u001b[39;00m (token_in, token_out, amount)\n",
      "\u001b[1;31mValueError\u001b[0m: parse_json: ERROR: action_spec must be [\"buy\", \"sell\", \"none\"], not {'buy': {'amount': 100, 'direction': 'in'}}"
     ]
    }
   ],
   "source": [
    "parse(l[\"trade\"],market,rng)"
   ]
  },
  {
   "cell_type": "code",
   "execution_count": null,
   "metadata": {},
   "outputs": [
    {
     "ename": "ValueError",
     "evalue": "parse_json: ERROR: action_spec must be [\"buy\", \"sell\", \"none\"], not {\n    \"type\": \"simple_trader\",\n    \"budget\": 1000,\n    \"trade\": {\n        \"buy\": {\n            \"amount\": 100,\n            \"direction\": \"in\"\n        }\n    }\n}",
     "output_type": "error",
     "traceback": [
      "\u001b[1;31m---------------------------------------------------------------------------\u001b[0m",
      "\u001b[1;31mValueError\u001b[0m                                Traceback (most recent call last)",
      "Cell \u001b[1;32mIn [6], line 1\u001b[0m\n\u001b[1;32m----> 1\u001b[0m parse_trade(s,market,rng)\n",
      "File \u001b[1;32md:\\code\\elfpy\\examples\\..\\src\\elfpy\\utils\\parse_json.py:99\u001b[0m, in \u001b[0;36mparse_trade\u001b[1;34m(trade_spec, market, rng)\u001b[0m\n\u001b[0;32m     97\u001b[0m         action \u001b[39m=\u001b[39m parse_action(trade_spec[\u001b[39m\"\u001b[39m\u001b[39mconditional\u001b[39m\u001b[39m\"\u001b[39m][\u001b[39m\"\u001b[39m\u001b[39melse\u001b[39m\u001b[39m\"\u001b[39m], rng)\n\u001b[0;32m     98\u001b[0m \u001b[39melse\u001b[39;00m:\n\u001b[1;32m---> 99\u001b[0m     action \u001b[39m=\u001b[39m parse_action(trade_spec, rng)\n\u001b[0;32m    100\u001b[0m \u001b[39mreturn\u001b[39;00m action\n",
      "File \u001b[1;32md:\\code\\elfpy\\examples\\..\\src\\elfpy\\utils\\parse_json.py:116\u001b[0m, in \u001b[0;36mparse_action\u001b[1;34m(action_spec, rng)\u001b[0m\n\u001b[0;32m    114\u001b[0m     amount \u001b[39m=\u001b[39m parse_trade_amount(action_spec[\u001b[39m\"\u001b[39m\u001b[39msell\u001b[39m\u001b[39m\"\u001b[39m], rng)\n\u001b[0;32m    115\u001b[0m \u001b[39melse\u001b[39;00m:\n\u001b[1;32m--> 116\u001b[0m     \u001b[39mraise\u001b[39;00m \u001b[39mValueError\u001b[39;00m(\n\u001b[0;32m    117\u001b[0m         \u001b[39mf\u001b[39m\u001b[39m'\u001b[39m\u001b[39mparse_json: ERROR: action_spec must be [\u001b[39m\u001b[39m\"\u001b[39m\u001b[39mbuy\u001b[39m\u001b[39m\"\u001b[39m\u001b[39m, \u001b[39m\u001b[39m\"\u001b[39m\u001b[39msell\u001b[39m\u001b[39m\"\u001b[39m\u001b[39m, \u001b[39m\u001b[39m\"\u001b[39m\u001b[39mnone\u001b[39m\u001b[39m\"\u001b[39m\u001b[39m], not \u001b[39m\u001b[39m{\u001b[39;00maction_spec\u001b[39m}\u001b[39;00m\u001b[39m'\u001b[39m)\n\u001b[0;32m    118\u001b[0m \u001b[39mreturn\u001b[39;00m (token_in, token_out, amount)\n",
      "\u001b[1;31mValueError\u001b[0m: parse_json: ERROR: action_spec must be [\"buy\", \"sell\", \"none\"], not {\n    \"type\": \"simple_trader\",\n    \"budget\": 1000,\n    \"trade\": {\n        \"buy\": {\n            \"amount\": 100,\n            \"direction\": \"in\"\n        }\n    }\n}"
     ]
    }
   ],
   "source": [
    "parse_trade(s,market,rng)"
   ]
  },
  {
   "cell_type": "code",
   "execution_count": null,
   "metadata": {},
   "outputs": [],
   "source": [
    "parse_trade(l,market,rng)"
   ]
  }
 ],
 "metadata": {
  "kernelspec": {
   "display_name": "Python 3.10.6 64-bit",
   "language": "python",
   "name": "python3"
  },
  "language_info": {
   "codemirror_mode": {
    "name": "ipython",
    "version": 3
   },
   "file_extension": ".py",
   "mimetype": "text/x-python",
   "name": "python",
   "nbconvert_exporter": "python",
   "pygments_lexer": "ipython3",
   "version": "3.10.6"
  },
  "orig_nbformat": 4,
  "vscode": {
   "interpreter": {
    "hash": "369f2c481f4da34e4445cda3fffd2e751bd1c4d706f27375911949ba6bb62e1c"
   }
  }
 },
 "nbformat": 4,
 "nbformat_minor": 2
}
