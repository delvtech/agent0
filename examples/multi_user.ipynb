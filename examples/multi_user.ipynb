{
  "cells": [
    {
      "cell_type": "code",
      "execution_count": 1,
      "metadata": {
        "id": "4pmDE-zGf_CO"
      },
      "outputs": [],
      "source": [
        "import os\n",
        "import time\n",
        "\n",
        "import numpy as np\n",
        "import pandas as pd\n",
        "import matplotlib.pyplot as plt\n",
        "\n",
        "from elfpy.simulators import YieldSimulator\n",
        "from elfpy.utils.data import format_trades"
      ]
    },
    {
      "cell_type": "code",
      "execution_count": 2,
      "metadata": {},
      "outputs": [],
      "source": [
        "# make folder if it doesn't exit\n",
        "out_dir = os.path.join(os.pardir, 'outputs')\n",
        "if not os.path.exists(out_dir):\n",
        "    os.makedirs(out_dir)"
      ]
    },
    {
      "cell_type": "code",
      "execution_count": 3,
      "metadata": {
        "id": "tfTl4-SGBCi9"
      },
      "outputs": [],
      "source": [
        "from collections import UserString\n",
        "\n",
        "\n",
        "pd.set_option(\"float_format\",'{:,.6f}'.format)\n",
        "\n",
        "random_seed = 3\n",
        "simulator_rng = np.random.default_rng(random_seed)\n",
        "config = {\n",
        "    \"min_fee\": 0.1, # decimal that assigns fee_percent\n",
        "    \"max_fee\": 0.5, # decimal that assigns fee_percent\n",
        "    \"min_target_liquidity\": 1e6, # in USD\n",
        "    \"max_target_liquidity\": 10e6, # in USD\n",
        "    \"min_target_volume\": 0.001, # fraction of pool liquidity\n",
        "    \"max_target_volume\": 0.01, # fration of pool liquidity\n",
        "    \"min_pool_apy\": 0.02, # as a decimal\n",
        "    \"max_pool_apy\": 0.9, # as a decimal\n",
        "    \"min_vault_age\": 0, # fraction of a year\n",
        "    \"max_vault_age\": 1, # fraction of a year\n",
        "    \"min_vault_apy\": 0.001, # as a decimal\n",
        "    \"max_vault_apy\": 0.9, # as a decimal\n",
        "    \"base_asset_price\": 2.5e3, # aka market price\n",
        "    \"pool_duration\": 180, # in days\n",
        "    \"num_trading_days\": 180, # should be <= pool_duration\n",
        "    \"floor_fee\": 0, # minimum fee percentage (bps)\n",
        "    \"tokens\": [\"base\", \"fyt\"],\n",
        "    \"trade_direction\": \"out\",\n",
        "    \"precision\": None,\n",
        "    \"pricing_model_name\": \"Element\",\n",
        "    \"rng\": simulator_rng,\n",
        "    \"verbose\": False,\n",
        "}\n",
        "\n",
        "rnd_user_config = {\n",
        "    \"type\": \"random\",\n",
        "    \"init_budget\": 1e5,\n",
        "}\n",
        "\n",
        "lp_user_config = {\n",
        "    \"type\": \"liquidity_provider\",\n",
        "    \"init_budget\": 1e6,\n",
        "}\n",
        "\n",
        "users = [lp_user_config] + [rnd_user_config,]*3\n",
        "\n",
        "config[\"users\"] = users"
      ]
    },
    {
      "cell_type": "code",
      "execution_count": 4,
      "metadata": {
        "id": "V3HM2goD3WJF"
      },
      "outputs": [
        {
          "name": "stdout",
          "output_type": "stream",
          "text": [
            "Total time for 1 runs was 0.019 seconds; which is 0.019 seconds per run\n"
          ]
        }
      ],
      "source": [
        "start_time = time.time()\n",
        "num_runs = 0\n",
        "\n",
        "simulator = YieldSimulator(**config)\n",
        "simulator.set_random_variables()\n",
        "simulator.run_simulation()\n",
        "num_runs += 1\n",
        "\n",
        "end_time = time.time()\n",
        "print(f'Total time for {num_runs} runs was {end_time-start_time:.3f} seconds; which is {(end_time-start_time)/num_runs:.3f} seconds per run')"
      ]
    }
  ],
  "metadata": {
    "colab": {
      "collapsed_sections": [],
      "name": "yield_sims.ipynb",
      "private_outputs": true,
      "provenance": []
    },
    "gpuClass": "standard",
    "kernelspec": {
      "display_name": "Python 3.10.4 64-bit",
      "language": "python",
      "name": "python3"
    },
    "language_info": {
      "codemirror_mode": {
        "name": "ipython",
        "version": 3
      },
      "file_extension": ".py",
      "mimetype": "text/x-python",
      "name": "python",
      "nbconvert_exporter": "python",
      "pygments_lexer": "ipython3",
      "version": "3.10.6"
    },
    "vscode": {
      "interpreter": {
        "hash": "916dbcbb3f70747c44a77c7bcd40155683ae19c65e1c03b4aa3499c5328201f1"
      }
    }
  },
  "nbformat": 4,
  "nbformat_minor": 0
}
