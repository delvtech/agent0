{
 "cells": [
  {
   "cell_type": "code",
   "execution_count": 1,
   "metadata": {},
   "outputs": [],
   "source": [
    "import os, sys\n",
    "import numpy as np\n",
    "parent_dir = os.path.join(os.getcwd(), os.pardir)\n",
    "sys.path.insert(1, os.path.join(parent_dir, \"src\"))"
   ]
  },
  {
   "cell_type": "code",
   "execution_count": 2,
   "metadata": {},
   "outputs": [],
   "source": [
    "from elfpy.utils.parse_json import parse_trade, parse_action, parse\n",
    "import json"
   ]
  },
  {
   "cell_type": "code",
   "execution_count": 3,
   "metadata": {},
   "outputs": [
    {
     "name": "stdout",
     "output_type": "stream",
     "text": [
      "loaded default_config.pkl\n"
     ]
    }
   ],
   "source": [
    "from elfpy.simulators import YieldSimulator\n",
    "from elfpy.pricing_models import ElementPricingModel\n",
    "\n",
    "random_seed = 3\n",
    "simulator_rng = np.random.default_rng(random_seed)\n",
    "config = {\n",
    "    \"min_fee\": 0.1, # decimal that assigns fee_percent\n",
    "    \"max_fee\": 0.5, # decimal that assigns fee_percent\n",
    "    \"min_target_liquidity\": 1e6, # in USD\n",
    "    \"max_target_liquidity\": 10e6, # in USD\n",
    "    \"min_target_volume\": 0.001, # fraction of pool liquidity\n",
    "    \"max_target_volume\": 0.01, # fration of pool liquidity\n",
    "    \"min_pool_apy\": 0.02, # as a decimal\n",
    "    \"max_pool_apy\": 0.9, # as a decimal\n",
    "    \"pool_apy_target_range\": [0.15,0.20], # as a decimal\n",
    "    \"pool_apy_target_range_convergence_speed\": 0.52, # as a share of trades that move in convergence direction\n",
    "    \"min_vault_age\": 0, # fraction of a year\n",
    "    \"max_vault_age\": 1, # fraction of a year\n",
    "    \"min_vault_apy\": 0.001, # as a decimal\n",
    "    \"max_vault_apy\": 0.9, # as a decimal\n",
    "    \"base_asset_price\": 2.5e3, # aka market price\n",
    "    \"pool_duration\": 180, # in days\n",
    "    \"num_trading_days\": 180, # should be <= pool_duration\n",
    "    \"floor_fee\": 0, # minimum fee percentage (bps)\n",
    "    \"tokens\": [\"base\", \"fyt\"],\n",
    "    \"trade_direction\": \"out\",\n",
    "    \"precision\": None,\n",
    "    \"rng\": simulator_rng,\n",
    "    \"verbose\": False,\n",
    "    \"pricing_model_name\": 'YieldSpacev2',\n",
    "    \"user_type\": \"WeightedRandom\",\n",
    "}\n",
    "\n",
    "simulator = YieldSimulator(**config)\n",
    "simulator.set_random_variables()\n",
    "market = simulator.market"
   ]
  },
  {
   "cell_type": "code",
   "execution_count": 4,
   "metadata": {},
   "outputs": [
    {
     "name": "stdout",
     "output_type": "stream",
     "text": [
      "../src/elfpy/strategies\\simple1.py\n",
      "{\n",
      "    \"type\": \"simple_trader\",\n",
      "    \"budget\": 1000,\n",
      "    \"trade\": {\n",
      "        \"buy\": {\n",
      "            \"amount\": 100,\n",
      "            \"direction\": \"in\"\n",
      "        }\n",
      "    }\n",
      "}\n",
      "{'type': 'simple_trader', 'budget': 1000, 'trade': {'buy': {'amount': 100, 'direction': 'in'}}}\n"
     ]
    }
   ],
   "source": [
    "# assign directory\n",
    "directory = '../src/elfpy/strategies'\n",
    "\n",
    "for filename in os.scandir(directory):\n",
    "    if filename.is_file():\n",
    "        print(filename.path)\n",
    "        s = open(filename.path).read()\n",
    "        print(s)\n",
    "        l = json.loads(s)\n",
    "        print(l)"
   ]
  },
  {
   "cell_type": "code",
   "execution_count": 11,
   "metadata": {},
   "outputs": [
    {
     "name": "stdout",
     "output_type": "stream",
     "text": [
      "type: simple_trader <class 'str'>\n",
      "budget: 1000 <class 'int'>\n",
      "trade:\n",
      " buy:\n",
      "  amount: 100 <class 'int'>\n",
      "  direction: in <class 'str'>\n",
      "just the trade key, which is the trade_spec:\n",
      "buy:\n",
      " amount: 100 <class 'int'>\n",
      " direction: in <class 'str'>\n"
     ]
    }
   ],
   "source": [
    "def parse_dict(d,prefix=''):\n",
    "    for (k,v) in d.items():\n",
    "        if isinstance(v, dict):\n",
    "            print(f\"{prefix}{k}:\")\n",
    "            parse_dict(v,f\"{prefix} \")\n",
    "        else:\n",
    "            print(f\"{prefix}{k}: {v} {type(v)}\")\n",
    "parse_dict(l)\n",
    "print('just the trade key, which is the trade_spec:')\n",
    "parse_dict(l[\"trade\"])"
   ]
  },
  {
   "cell_type": "code",
   "execution_count": 6,
   "metadata": {},
   "outputs": [
    {
     "data": {
      "text/plain": [
       "{'amount': 100, 'direction': 'in'}"
      ]
     },
     "execution_count": 6,
     "metadata": {},
     "output_type": "execute_result"
    }
   ],
   "source": [
    "policy = l[\"trade\"]\n",
    "root = list(policy)[0]\n",
    "policy[root]"
   ]
  },
  {
   "cell_type": "code",
   "execution_count": 7,
   "metadata": {},
   "outputs": [
    {
     "name": "stdout",
     "output_type": "stream",
     "text": [
      "action_spec: {'buy': {'amount': 100, 'direction': 'in'}}\n",
      "('base', 'pt', 100)\n"
     ]
    }
   ],
   "source": [
    "from elfpy.user import User\n",
    "policy = l\n",
    "user = User(policy, rng)\n",
    "t = user.get_trade(market)\n",
    "print(t)"
   ]
  },
  {
   "cell_type": "code",
   "execution_count": 9,
   "metadata": {},
   "outputs": [
    {
     "ename": "ValueError",
     "evalue": "Unrecognized operation buy",
     "output_type": "error",
     "traceback": [
      "\u001b[1;31m---------------------------------------------------------------------------\u001b[0m",
      "\u001b[1;31mValueError\u001b[0m                                Traceback (most recent call last)",
      "Cell \u001b[1;32mIn [9], line 1\u001b[0m\n\u001b[1;32m----> 1\u001b[0m parse(l[\u001b[39m\"\u001b[39;49m\u001b[39mtrade\u001b[39;49m\u001b[39m\"\u001b[39;49m],market,rng)\n",
      "File \u001b[1;32md:\\code\\elfpy\\examples\\..\\src\\elfpy\\utils\\parse_json.py:157\u001b[0m, in \u001b[0;36mparse\u001b[1;34m(tests, market, rng)\u001b[0m\n\u001b[0;32m    154\u001b[0m     \u001b[39mreturn\u001b[39;00m values\n\u001b[0;32m    156\u001b[0m \u001b[39mif\u001b[39;00m operator \u001b[39mnot\u001b[39;00m \u001b[39min\u001b[39;00m operations:\n\u001b[1;32m--> 157\u001b[0m     \u001b[39mraise\u001b[39;00m \u001b[39mValueError\u001b[39;00m(\u001b[39mf\u001b[39m\u001b[39m\"\u001b[39m\u001b[39mUnrecognized operation \u001b[39m\u001b[39m{\u001b[39;00moperator\u001b[39m}\u001b[39;00m\u001b[39m\"\u001b[39m)\n\u001b[0;32m    159\u001b[0m \u001b[39mreturn\u001b[39;00m operations[operator](\u001b[39m*\u001b[39mvalues)\n",
      "\u001b[1;31mValueError\u001b[0m: Unrecognized operation buy"
     ]
    }
   ],
   "source": [
    "parse(l[\"trade\"],market,rng)"
   ]
  },
  {
   "cell_type": "code",
   "execution_count": null,
   "metadata": {},
   "outputs": [],
   "source": []
  }
 ],
 "metadata": {
  "kernelspec": {
   "display_name": "Python 3.10.6 64-bit",
   "language": "python",
   "name": "python3"
  },
  "language_info": {
   "codemirror_mode": {
    "name": "ipython",
    "version": 3
   },
   "file_extension": ".py",
   "mimetype": "text/x-python",
   "name": "python",
   "nbconvert_exporter": "python",
   "pygments_lexer": "ipython3",
   "version": "3.10.6"
  },
  "orig_nbformat": 4,
  "vscode": {
   "interpreter": {
    "hash": "369f2c481f4da34e4445cda3fffd2e751bd1c4d706f27375911949ba6bb62e1c"
   }
  }
 },
 "nbformat": 4,
 "nbformat_minor": 2
}
