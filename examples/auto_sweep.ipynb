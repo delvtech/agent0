{
  "cells": [
    {
      "cell_type": "markdown",
      "metadata": {
        "id": "QhRy2ybG7IV8"
      },
      "source": [
        "# Automatic parameter sweeping & result visualizaiton\n",
        "This notebook demonstrates our ability to sweep over a set of parameters for markets and pricing models. The final results are displayed via a [parallel coordinates plot](https://arxiv.org/abs/1705.00368), which illustrates how each parameter influences a final metric, such as net fees earned."
      ]
    },
    {
      "cell_type": "code",
      "execution_count": null,
      "metadata": {
        "id": "mqlJoF75Dv4G"
      },
      "outputs": [],
      "source": [
        "import os, sys\n",
        "\n",
        "#if os.path.exists('analysis'):\n",
        "#    os.system('rm -rf analysis')\n",
        "#!git clone https://github.com/element-fi/analysis.git && cd analysis && git fetch && git checkout consistency_test && cd ..\n",
        "#\n",
        "parent_dir = os.path.join(os.getcwd(), os.pardir)\n",
        "sys.path.insert(1, os.path.join(parent_dir, \"src\"))"
      ]
    },
    {
      "cell_type": "code",
      "execution_count": null,
      "metadata": {
        "id": "vm63VvwRD1aU"
      },
      "outputs": [],
      "source": [
        "import time\n",
        "\n",
        "import numpy as np\n",
        "import pandas as pd\n",
        "import itertools\n",
        "import plotly.graph_objects as go\n",
        "\n",
        "from elfpy.simulators import YieldSimulator\n",
        "from elfpy.utils.data import format_trades"
      ]
    },
    {
      "cell_type": "code",
      "execution_count": null,
      "metadata": {
        "id": "NFDMIANFD2Vh"
      },
      "outputs": [],
      "source": [
        "seed = 1234\n",
        "rng = np.random.default_rng(seed)\n",
        "\n",
        "config = {\n",
        "    'min_fee': 0.,\n",
        "    'max_fee': 0.5,\n",
        "    'floor_fee': 0,\n",
        "    't_min': 0.001,\n",
        "    't_max': 1.0,\n",
        "    'base_asset_price': 55000., # aka market price\n",
        "    'min_target_liquidity': 100000.,\n",
        "    'max_target_liquidity': 10000000.,\n",
        "    'min_target_volume': 2e5,\n",
        "    'max_target_volume': 6e5,\n",
        "    'min_pool_apy': 0.5,\n",
        "    'max_pool_apy': 20.0,\n",
        "    'min_vault_age': 0.,\n",
        "    'max_vault_age': 2.,\n",
        "    'min_vault_apy': 0.,\n",
        "    'max_vault_apy': 10.,\n",
        "    'precision': None,\n",
        "    'pricing_model_name': 'YieldSpacev2',\n",
        "    'tokens': ['base', 'fyt'],\n",
        "    'trade_direction': 'out',\n",
        "    'pool_duration': 90,\n",
        "    'num_trading_days': 50, # should be <= days_until_maturity\n",
        "    'rng': rng, # random number generator\n",
        "    'verbose': False,\n",
        "}"
      ]
    },
    {
      "cell_type": "code",
      "execution_count": null,
      "metadata": {
        "id": "TuYjZab4D5i_"
      },
      "outputs": [],
      "source": [
        "start_time = time.time()\n",
        "num_runs = 0\n",
        "\n",
        "simulator = YieldSimulator(**config)\n",
        "simulator.set_random_variables()\n",
        "\n",
        "pricing_models = ['Element', 'YieldSpacev2']\n",
        "floor_fees = [0, 5]\n",
        "vault_ages = [0.1, 0.3, 0.5]\n",
        "init_pool_apys = [1, 5, 20]\n",
        "vault_apys = [[i,]*config['num_trading_days'] for i in [3, 5, 9]] # multiple constant vault apy\n",
        "\n",
        "for (\n",
        "    pricing_model,\n",
        "    vault_age,\n",
        "    vault_apy,\n",
        "    init_pool_apy,\n",
        "    floor_fee\n",
        ") in itertools.product(\n",
        "    pricing_models,\n",
        "    vault_ages,\n",
        "    vault_apys,\n",
        "    init_pool_apys,\n",
        "    floor_fees\n",
        "):\n",
        "    if pricing_model == 'Element' and floor_fee > 0:\n",
        "        pass\n",
        "    override_dict = {\n",
        "        'pricing_model_name': pricing_model,\n",
        "        'vault_apy': vault_apy,\n",
        "        'init_vault_age': vault_age,\n",
        "        'init_pool_apy': init_pool_apy,\n",
        "        'floor_fee': floor_fee\n",
        "    }\n",
        "    simulator.run_simulation(override_dict)\n",
        "    num_runs += 1\n",
        "\n",
        "end_time = time.time()\n",
        "print(f'Total time for {num_runs} runs was {end_time-start_time:.3f} seconds; which is {(end_time-start_time)/num_runs:.3f} seconds per run')"
      ]
    },
    {
      "cell_type": "code",
      "execution_count": null,
      "metadata": {
        "id": "58cnhm1Bv9KG"
      },
      "outputs": [],
      "source": [
        "[trades, df_fees_volume] = format_trades(simulator.analysis_dict)\n",
        "model_numbers = []\n",
        "for name in trades['model_name']:\n",
        "    if name == 'Element':\n",
        "        model_numbers.append(0)\n",
        "    elif name == 'YieldSpacev2':\n",
        "        model_numbers.append(1)\n",
        "    elif name == 'YieldSpacev2MinFee':\n",
        "        model_numbers.append(2)\n",
        "trades['model_number'] = model_numbers\n",
        "\n",
        "preserved_columns = [\n",
        "    'day',\n",
        "    'model_name',\n",
        "    'model_number',\n",
        "    'init_vault_age',\n",
        "    'pu',\n",
        "]\n",
        "trades_reduced = trades.groupby(preserved_columns).agg({\n",
        "    'trade_volume_usd': ['sum'],\n",
        "    'fee_in_usd': ['mean', 'sum'],\n",
        "    'fee_in_bps': ['mean', 'sum'],\n",
        "    'pool_apy': ['mean'],\n",
        "    'vault_apy': ['mean'],\n",
        "})\n",
        "trades_reduced.columns = ['_'.join(col).strip() for col in trades_reduced.columns.values]\n",
        "trades_reduced = trades_reduced.reset_index()\n",
        "#trades_reduced['spot_price_growth'] = (trades_reduced.groupby(['day'])['pu'].apply(pd.Series.pct_change) + 1)\n",
        "#trades_reduced['spot_price_growth_sum'] = trades_reduced.groupby(['day']).agg({'spot_price_growth':['sum']})\n",
        "\n",
        "trades_reduced"
      ]
    },
    {
      "cell_type": "code",
      "execution_count": null,
      "metadata": {
        "id": "nBi1I1DX1aDa"
      },
      "outputs": [],
      "source": [
        "fig = go.Figure(data=\n",
        "    go.Parcoords(\n",
        "        line = dict(color = trades_reduced.fee_in_usd_sum,\n",
        "                   #colorscale = 'Electric',\n",
        "                   colorscale = 'viridis',\n",
        "                   #colorscale = 'tealrose',\n",
        "                   showscale = True,\n",
        "                   cmin = trades_reduced.fee_in_usd_sum.min(),\n",
        "                   cmax = trades_reduced.fee_in_usd_sum.max()),\n",
        "        dimensions = list([\n",
        "            dict(tickvals = [0, 1, 2],\n",
        "                 ticktext = ['Element', 'YieldSpacev2', 'YieldSpacev2MinFee'],\n",
        "                 label = 'Model Type',\n",
        "                 values = trades_reduced.model_number),\n",
        "            dict(range = [trades_reduced.init_vault_age.min(), trades_reduced.init_vault_age.max()],\n",
        "                 #tickvals = list(range(trades_reduced.init_vault_age.min(), trades_reduced.init_vault_age.max()+2, 5)),\n",
        "                 label = 'Initial Vault Age',\n",
        "                 values = trades_reduced.init_vault_age),\n",
        "            dict(range = [trades_reduced.vault_apy_mean.min(), trades_reduced.vault_apy_mean.max()],\n",
        "                 label = \"Vault APY\",\n",
        "                 values = trades_reduced.vault_apy_mean),\n",
        "            dict(range = [trades_reduced.pool_apy_mean.min(), trades_reduced.pool_apy_mean.max()],\n",
        "                 label = 'Mean Pool APY',\n",
        "                 values = trades_reduced.pool_apy_mean),\n",
        "            dict(range = [trades_reduced.fee_in_usd_sum.min(), trades_reduced.fee_in_usd_sum.max()],\n",
        "                 label = 'Fee (USD)',\n",
        "                 values = trades_reduced.fee_in_usd_sum),\n",
        "        ])\n",
        "    )\n",
        ")\n",
        "\n",
        "fig.show()"
      ]
    }
  ],
  "metadata": {
    "colab": {
      "collapsed_sections": [],
      "private_outputs": true,
      "provenance": []
    },
    "kernelspec": {
      "display_name": "Python 3.9.6 64-bit",
      "language": "python",
      "name": "python3"
    },
    "language_info": {
      "codemirror_mode": {
        "name": "ipython",
        "version": 3
      },
      "file_extension": ".py",
      "mimetype": "text/x-python",
      "name": "python",
      "nbconvert_exporter": "python",
      "pygments_lexer": "ipython3",
      "version": "3.9.6"
    },
    "vscode": {
      "interpreter": {
        "hash": "31f2aee4e71d21fbe5cf8b01ff0e069b9275f58929596ceb00d14d90e3e16cd6"
      }
    }
  },
  "nbformat": 4,
  "nbformat_minor": 0
}
