{
 "cells": [
  {
   "cell_type": "code",
   "execution_count": null,
   "metadata": {},
   "outputs": [],
   "source": [
    "import numpy as np\n",
    "import time, os, numbers\n",
    "import pandas as pd\n",
    "import matplotlib.pyplot as plt\n",
    "import sys  \n",
    "#import seaborn as sns\n",
    "#sns.set()\n",
    "sys.path.insert(0, './scripts')\n",
    "from sim import ElementPricingModel, Market, YieldSpacev2PricingModel"
   ]
  },
  {
   "cell_type": "code",
   "execution_count": null,
   "metadata": {},
   "outputs": [],
   "source": [
    "token_price = 3\n",
    "token_supply = 1*1e7\n",
    "market_value = token_price * token_supply\n",
    "growth_rate = 0.5 # 50% annualized growth rate\n",
    "funding_need = market_value/1 # 6 million per year ($200k/yr for 30 staff or $100k/yr for 60 staff)\n",
    "\n",
    "columns = ['token_price', 'token_supply', 'market_value', 'growth_rate', 'new_tokens', 'funding_acquired', 'old_token_price', 'new_token_price']\n",
    "df = pd.DataFrame(data=[[token_price, token_supply, market_value, growth_rate, np.nan, np.nan, 0, 0]]\n",
    "    ,columns=columns)\n",
    "for t in range(1,11):\n",
    "    growth_rate = growth_rate*0.8\n",
    "    market_value = market_value * (1 + growth_rate)\n",
    "    old_token_price = market_value/token_supply\n",
    "    new_tokens = funding_need/old_token_price\n",
    "    funding_acquired = 0\n",
    "    token_price = old_token_price\n",
    "    # print('{} tokens needed, price from {}→{} diff={}'.format(new_tokens,token_price,market_value/(token_supply+new_tokens),funding_need - funding_acquired))\n",
    "    while funding_acquired - funding_need < -1:\n",
    "        token_price = market_value/(token_supply+new_tokens)\n",
    "        new_tokens = funding_need/token_price # update tokens being printed\n",
    "        funding_acquired = token_price * new_tokens\n",
    "        print('{} tokens needed, price from {}→{} diff={}'.format(new_tokens,old_token_price,market_value/(token_supply+new_tokens),funding_acquired - funding_need))\n",
    "    token_supply += new_tokens\n",
    "    df = pd.concat([df,pd.DataFrame(data=[[token_price, token_supply, market_value, growth_rate, new_tokens, funding_acquired, old_token_price, token_price]], columns=columns, index=[t])])\n",
    "display(df.style.format({'token_supply': '{:,.0f}', 'market_value': '{:,.0f}', 'growth_rate': '{:,.0%}', 'new_tokens': '{:,.0f}', 'funding_acquired': '{:,.0f}'}))"
   ]
  },
  {
   "cell_type": "code",
   "execution_count": null,
   "metadata": {},
   "outputs": [],
   "source": [
    "numPlots = 2\n",
    "fig, ax = plt.subplots(ncols=1, nrows=numPlots,gridspec_kw = {'wspace':0, 'hspace':0.1, 'height_ratios':np.ones(numPlots)}, sharex=True)\n",
    "fig.patch.set_facecolor('white')   # set fig background color to white\n",
    "\n",
    "currentPlot = 0\n",
    "df.plot(use_index=True, y=['funding_acquired','new_tokens'], figsize=(10,5*numPlots), ax=ax[currentPlot]\\\n",
    "    , title='Have to print more to fund same amount of ${:,.0f} million...'.format(funding_need/1e6))\n",
    "ax[currentPlot].grid(visible=True,linestyle='--', linewidth='1', color='grey',which='both', alpha=0.5)\n",
    "# display(token_price)\n",
    "# display(np.ceil(token_price))\n",
    "# display(np.arange(0,np.ceil(token_price)+1,1))\n",
    "ax[currentPlot].set_yticks(np.arange(0,np.ceil(new_tokens/1e7)*1e7+1e7,1e7))\n",
    "\n",
    "currentPlot = 1\n",
    "df.plot(use_index=True, y='token_price', figsize=(10,5*numPlots), ax=ax[currentPlot], title='... that causes number go down')\n",
    "ax[currentPlot].grid(visible=True,linestyle='--', linewidth='1', color='grey',which='both', alpha=0.5)\n",
    "\n",
    "#for final plot\n",
    "ax[currentPlot].set_xlabel('Time (years)')\n",
    "plt.xticks(df.index)\n",
    "plt.show()"
   ]
  }
 ],
 "metadata": {
  "kernelspec": {
   "display_name": "Python 3.9.6 64-bit",
   "language": "python",
   "name": "python3"
  },
  "language_info": {
   "codemirror_mode": {
    "name": "ipython",
    "version": 3
   },
   "file_extension": ".py",
   "mimetype": "text/x-python",
   "name": "python",
   "nbconvert_exporter": "python",
   "pygments_lexer": "ipython3",
   "version": "3.9.6"
  },
  "orig_nbformat": 4,
  "vscode": {
   "interpreter": {
    "hash": "31f2aee4e71d21fbe5cf8b01ff0e069b9275f58929596ceb00d14d90e3e16cd6"
   }
  }
 },
 "nbformat": 4,
 "nbformat_minor": 2
}
