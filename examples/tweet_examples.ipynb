{
 "cells": [
  {
   "cell_type": "code",
   "execution_count": null,
   "metadata": {},
   "outputs": [],
   "source": [
    "from dotenv import load_dotenv\n",
    "\n",
    "load_dotenv(\".env\")"
   ]
  },
  {
   "cell_type": "code",
   "execution_count": null,
   "metadata": {},
   "outputs": [],
   "source": [
    "from agent0 import Chain, Hyperdrive\n",
    "import os\n",
    "\n",
    "# PRIVATE_KEY = \"0xPRIVATE_KEY\"\n",
    "# RPC_URI = \"https://sepolia.rpc.url\"\n",
    "\n",
    "PRIVATE_KEY = os.getenv(\"PRIVATE_KEY\")\n",
    "RPC_URI = os.getenv(\"RPC_URI\")\n",
    "\n",
    "# Address of Hyperdrive Sepolia registry\n",
    "REGISTRY_ADDRESS = \"0x4ba58147e50e57e71177cfedb1fac0303f216104\"\n",
    "\n",
    "## View open positions in all pools\n",
    "chain = Chain(RPC_URI)\n",
    "agent = chain.init_agent(private_key=PRIVATE_KEY)\n",
    "agent.get_positions(registry_address=REGISTRY_ADDRESS)"
   ]
  },
  {
   "cell_type": "code",
   "execution_count": null,
   "metadata": {},
   "outputs": [],
   "source": []
  }
 ],
 "metadata": {
  "kernelspec": {
   "display_name": ".venv",
   "language": "python",
   "name": "python3"
  },
  "language_info": {
   "name": "python",
   "version": "3.10.11"
  }
 },
 "nbformat": 4,
 "nbformat_minor": 2
}
