{
 "cells": [
  {
   "cell_type": "code",
   "execution_count": null,
   "metadata": {},
   "outputs": [],
   "source": [
    "from dotenv import load_dotenv\n",
    "\n",
    "load_dotenv(\".env\")"
   ]
  },
  {
   "cell_type": "markdown",
   "metadata": {},
   "source": [
    "## Query all your positions\n"
   ]
  },
  {
   "cell_type": "code",
   "execution_count": null,
   "metadata": {},
   "outputs": [],
   "source": [
    "from agent0 import Chain, Hyperdrive\n",
    "import os\n",
    "\n",
    "# PUBLIC_ADDRESS = \"0xPUBLIC_ADDRESS\"\n",
    "# RPC_URI = \"https://sepolia.rpc.url\"\n",
    "PUBLIC_ADDRESS = os.getenv(\"PUBLIC_ADDRESS\")\n",
    "RPC_URI = os.getenv(\"RPC_URI\")\n",
    "\n",
    "# Address of Hyperdrive Sepolia registry\n",
    "REGISTRY_ADDRESS = \"0x4ba58147e50e57e71177cfedb1fac0303f216104\"\n",
    "\n",
    "## View open and closed positions in all pools\n",
    "chain = Chain(RPC_URI)\n",
    "agent = chain.init_agent(public_address=PUBLIC_ADDRESS)\n",
    "registered_pools = Hyperdrive.get_hyperdrive_pools_from_registry(\n",
    "    chain,\n",
    "    registry_address=REGISTRY_ADDRESS,\n",
    ")\n",
    "agent.get_positions(pool_filter=registered_pools, show_closed_positions=True)"
   ]
  },
  {
   "cell_type": "markdown",
   "metadata": {},
   "source": [
    "## Automate withdrawing funds from matured positions\n"
   ]
  },
  {
   "cell_type": "code",
   "execution_count": null,
   "metadata": {},
   "outputs": [],
   "source": [
    "PRIVATE_KEY = os.getenv(\"PRIVATE_KEY\")\n",
    "\n",
    "# Initialize agent with private key for transactions\n",
    "agent = chain.init_agent(private_key=PRIVATE_KEY)\n",
    "for pool in registered_pools:\n",
    "    # Close all mature longs\n",
    "    for long in agent.get_longs(pool=pool):\n",
    "        if long.maturity_time > chain.block_time():\n",
    "            print(f\"Close long-{long.maturity_time} on {pool.name}\")\n",
    "            agent.close_long(maturity_time=long.maturity_time, bonds=long.balance, pool=pool)\n",
    "    # Close all mature shorts\n",
    "    for short in agent.get_shorts(pool=pool):\n",
    "        if short.maturity_time > chain.block_time():\n",
    "            print(f\"Close short-{short.maturity_time} on {pool.name}\")\n",
    "            agent.close_short(maturity_time=short.maturity_time, bonds=short.balance, pool=pool)"
   ]
  },
  {
   "cell_type": "markdown",
   "metadata": {},
   "source": []
  }
 ],
 "metadata": {
  "kernelspec": {
   "display_name": ".venv",
   "language": "python",
   "name": "python3"
  },
  "language_info": {
   "codemirror_mode": {
    "name": "ipython",
    "version": 3
   },
   "file_extension": ".py",
   "mimetype": "text/x-python",
   "name": "python",
   "nbconvert_exporter": "python",
   "pygments_lexer": "ipython3",
   "version": "3.10.11"
  }
 },
 "nbformat": 4,
 "nbformat_minor": 2
}
