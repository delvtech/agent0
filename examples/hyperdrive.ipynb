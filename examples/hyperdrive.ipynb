{
 "cells": [
  {
   "cell_type": "code",
   "execution_count": null,
   "metadata": {},
   "outputs": [],
   "source": [
    "import numpy as np\n",
    "import pandas as pd\n",
    "import matplotlib.pyplot as plt\n",
    "\n",
    "from elfpy.simulators import YieldSimulator\n",
    "from elfpy.pricing_models import YieldSpacev2PricingModel\n",
    "from elfpy.utils.data import format_trades"
   ]
  },
  {
   "cell_type": "code",
   "execution_count": null,
   "metadata": {},
   "outputs": [],
   "source": [
    "pd.set_option(\"float_format\",'{:,.0f}'.format)\n",
    "target_liquidity_usd = 10*1000 # $10k\n",
    "market_price = 1\n",
    "apy = 5\n",
    "days_remaining = 365/2\n",
    "time_stretch = 22.58\n",
    "mdl = YieldSpacev2PricingModel(verbose=True)\n",
    "(base_asset_reserves, token_asset_reserves, total_liquidity) = mdl.calc_liquidity(target_liquidity_usd=target_liquidity_usd, \\\n",
    "    market_price=market_price, apy=apy, days_remaining=days_remaining, time_stretch=time_stretch)\n",
    "spot_price = mdl.calc_spot_price_from_apy(apy/100, mdl.norm_days(days_remaining))\n",
    "[base_asset_reserves_usd, token_asset_reserves_usd, total_liquidity_usd] = [x * market_price for x in [base_asset_reserves, token_asset_reserves, total_liquidity]]\n",
    "total_supply = base_asset_reserves + token_asset_reserves\n",
    "time_remaining = mdl.days_to_time_remaining(days_remaining, time_stretch)\n",
    "calc_apy = mdl.calc_apy_from_reserves(base_asset_reserves, token_asset_reserves, total_supply, time_remaining, time_stretch)\n",
    "calc_hpr = calc_apy * days_remaining / 365\n",
    "print(f\"input: target_liquidity_usd={target_liquidity_usd}, market_price={market_price}, apy={apy}, days_remaining={days_remaining}, time_stretch={time_stretch}\")\n",
    "# print(f\"spot price = {spot_price}\")\n",
    "# print('output in ETH terms:')\n",
    "# print(f\"base_asset_reserves: {base_asset_reserves}\\ntoken_asset_reserves: {token_asset_reserves}\\ntotal_liquidity: {total_liquidity}\")\n",
    "# print('output in USD terms:')\n",
    "print(f\"\\\n",
    "base_asset_reserves:  ${base_asset_reserves_usd:6,.0f}\\n\\\n",
    "token_asset_reserves: ${token_asset_reserves_usd*spot_price:6,.0f} ({token_asset_reserves_usd:,.0f} PTs at {spot_price:.4f})\\n\\\n",
    "total_liquidity:      ${total_liquidity_usd:6,.0f} ({base_asset_reserves_usd+token_asset_reserves_usd:,.2f} tokens, base + PT)\\n\\\n",
    "APR:                   {calc_apy:6,.4f}%\"\n",
    ")\n",
    "initial_price = spot_price\n",
    "initial_days_remaining = days_remaining\n",
    "initial_apy = calc_apy\n",
    "initial_hpr = calc_hpr\n",
    "initial_base_asset_reserves = base_asset_reserves\n",
    "initial_token_asset_reserves = token_asset_reserves"
   ]
  },
  {
   "cell_type": "code",
   "execution_count": null,
   "metadata": {},
   "outputs": [],
   "source": [
    "trade_in_usd = 1000\n",
    "token_out = 'fyt'\n",
    "token_in = 'fyt' if token_out == 'base' else 'base'\n",
    "in_ = trade_in_usd / market_price\n",
    "total_supply = base_asset_reserves + token_asset_reserves\n",
    "in_reserves = token_asset_reserves + total_supply if token_out == 'base' else base_asset_reserves\n",
    "out_reserves = base_asset_reserves if token_out == 'base' else token_asset_reserves + total_supply\n",
    "fee_percent = 0.1\n",
    "time_remaining = mdl.days_to_time_remaining(days_remaining, time_stretch)\n",
    "(without_fee_or_slippage, with_fee, without_fee, fee) = mdl.calc_out_given_in(in_=in_,in_reserves=in_reserves,out_reserves=out_reserves,token_out=token_out,fee_percent=fee_percent,time_remaining=time_remaining,share_price=1,init_share_price=1)\n",
    "[without_fee_or_slippage_usd, with_fee_usd, without_fee_usd, fee_usd] = [x * market_price for x in [without_fee_or_slippage, with_fee, without_fee, fee]]\n",
    "new_base_asset_reserves = base_asset_reserves - with_fee if token_out == 'base' else base_asset_reserves + in_\n",
    "new_token_asset_reserves = token_asset_reserves + in_ if token_out == 'base' else token_asset_reserves - with_fee\n",
    "new_total_supply = new_base_asset_reserves + new_token_asset_reserves\n",
    "new_spot_price = mdl.calc_spot_price_from_reserves(new_base_asset_reserves, new_token_asset_reserves, new_total_supply, time_remaining)\n",
    "new_total_liquidity = new_base_asset_reserves + new_token_asset_reserves * new_spot_price\n",
    "[new_base_asset_reserves_usd, new_token_asset_reserves_usd, new_total_liquidity_usd] = [x * market_price for x in [new_base_asset_reserves, new_token_asset_reserves, new_total_liquidity]]\n",
    "new_apy = mdl.calc_apy_from_reserves(new_base_asset_reserves, new_token_asset_reserves, new_total_supply, time_remaining, time_stretch)\n",
    "print(f\"trade:\\n\\\n",
    "  in:                       {in_*market_price:8,.2f} {token_in}\\n\\\n",
    "  without_fee_or_slippage:  {without_fee_or_slippage_usd:8,.2f} {token_out}\\n\\\n",
    "  without_fee:              {without_fee_usd:8,.2f} {token_out}\\n\\\n",
    "  slippage:                 {without_fee_or_slippage_usd-without_fee_usd:8,.2f} {token_out}\\n\\\n",
    "  fee:                      {fee_usd:8,.2f} {token_out} (fee applied to {fee_usd/fee_percent:,.2f})\\n\\\n",
    "  with_fee:                 {with_fee_usd:8,.2f} {token_out}\")\n",
    "print(f\"new reserves:\\n\\\n",
    "  base_asset_reserves:  ${new_base_asset_reserves_usd:6,.0f}\\n\\\n",
    "  token_asset_reserves: ${new_token_asset_reserves_usd*new_spot_price:6,.0f} ({new_token_asset_reserves_usd:,.0f} PTs at {new_spot_price:.4f})\\n\\\n",
    "  total_liquidity:      ${new_total_liquidity_usd:6,.0f} ({new_base_asset_reserves_usd+new_token_asset_reserves_usd:,.2f} tokens, base + PT)\\n\\\n",
    "  APR:                   {new_apy:6,.4f}%\")\n"
   ]
  },
  {
   "cell_type": "code",
   "execution_count": null,
   "metadata": {},
   "outputs": [],
   "source": [
    "spot_price = initial_price\n",
    "day_bump = -1/24\n",
    "days_remaining = initial_days_remaining\n",
    "base_asset_reserves = initial_base_asset_reserves + trade_in_usd / market_price\n",
    "# token_asset_reserves = token_asset_reserves - with_fee # using out amount from yieldspace trade above\n",
    "token_asset_reserves = initial_token_asset_reserves - trade_in_usd / market_price / spot_price # same result using no slippage or fee\n",
    "total_supply = new_base_asset_reserves + new_token_asset_reserves\n",
    "time_remaining = mdl.days_to_time_remaining(days_remaining, time_stretch)\n",
    "spot_price = mdl.calc_spot_price_from_reserves(new_base_asset_reserves, new_token_asset_reserves, total_supply, time_remaining)\n",
    "calc_apy = mdl.calc_apy_from_reserves(new_base_asset_reserves, new_token_asset_reserves, total_supply, time_remaining, time_stretch)\n",
    "calc_hpr = calc_apy * days_remaining / 365\n",
    "starting_apy = calc_apy\n",
    "starting_hpr = calc_hpr\n",
    "starting_price = spot_price\n",
    "print(f\"calc_apy: {calc_apy:6,.4f}%\")\n",
    "# while (spot_price > initial_price):\n",
    "while (calc_hpr < initial_hpr):\n",
    "    day_bump += 1/24\n",
    "    days_remaining = initial_days_remaining + day_bump\n",
    "    time_remaining = mdl.days_to_time_remaining(days_remaining, time_stretch)\n",
    "    spot_price = mdl.calc_spot_price_from_reserves(new_base_asset_reserves, new_token_asset_reserves, total_supply, time_remaining)\n",
    "    calc_apy = mdl.calc_apy_from_reserves(new_base_asset_reserves, new_token_asset_reserves, total_supply, time_remaining, time_stretch)\n",
    "    calc_hpr = calc_apy * days_remaining / 365\n",
    "    print(f\"day_bump: {day_bump}, price: {spot_price:6,.4f}, apy: {calc_apy:6,.4f}, reserves: x={new_base_asset_reserves:6,.0f} y={new_token_asset_reserves:6,.0f}\")\n",
    "    if day_bump>1e6 or day_bump<-1000:\n",
    "        break\n",
    "total_liquidity = new_base_asset_reserves + new_token_asset_reserves * spot_price\n",
    "apy = mdl.calc_apy_from_reserves(new_base_asset_reserves, new_token_asset_reserves, total_supply, time_remaining, time_stretch)\n",
    "[new_base_asset_reserves_usd, new_token_asset_reserves_usd, total_liquidity_usd] = [x * market_price for x in [new_base_asset_reserves, new_token_asset_reserves, total_liquidity]]"
   ]
  },
  {
   "cell_type": "code",
   "execution_count": null,
   "metadata": {},
   "outputs": [],
   "source": [
    "print(f\"day_bump: {day_bump}, days_remaining={days_remaining:,.0f}(years={days_remaining/365:.2f}), time_stretch={time_stretch}\")\n",
    "# print(f\"spot price = {spot_price}\")\n",
    "# print('output in ETH terms:')\n",
    "# print(f\"base_asset_reserves: {base_asset_reserves}\\ntoken_asset_reserves: {token_asset_reserves}\\ntotal_liquidity: {total_liquidity}\")\n",
    "# print('output in USD terms:')\n",
    "print(f\"\\\n",
    "base_asset_reserves:  ${new_base_asset_reserves:6,.0f}\\n\\\n",
    "token_asset_reserves: ${new_token_asset_reserves_usd*spot_price:6,.0f} ({new_token_asset_reserves_usd:,.0f} PTs at {spot_price:.4f})\\n\\\n",
    "total_liquidity:      ${total_liquidity_usd:6,.0f} ({new_base_asset_reserves_usd+new_token_asset_reserves_usd:,.2f} tokens, base + PT)\\n\\\n",
    "APR:                   {apy:6,.4f}% (initial={initial_apy:6,.4f}% post-swap={starting_apy:6,.4f}%)\\n\\\n",
    "HPR:                   {calc_hpr:6,.4f}% (initial={initial_hpr:6,.4f}% post-swap={starting_hpr:6,.4f}%)\\n\\\n",
    "price:                 {spot_price:6,.5f} (initial={initial_price:6,.5f} post-swap={starting_price:6,.5f})\"\n",
    ")\n",
    "print(f\"-log(original spot price)/log((new y reserves)/(new x reserves)): {-np.log(initial_price)/np.log((new_token_asset_reserves+total_liquidity_usd)/new_base_asset_reserves)}\")\n",
    "print(f\"                                                  *365*t_stretch: {-(np.log(initial_price)/np.log((new_token_asset_reserves+total_liquidity_usd)/new_base_asset_reserves))*(365)*time_stretch}\")"
   ]
  }
 ],
 "metadata": {
  "kernelspec": {
   "display_name": "Python 3.9.6 64-bit",
   "language": "python",
   "name": "python3"
  },
  "language_info": {
   "codemirror_mode": {
    "name": "ipython",
    "version": 3
   },
   "file_extension": ".py",
   "mimetype": "text/x-python",
   "name": "python",
   "nbconvert_exporter": "python",
   "pygments_lexer": "ipython3",
   "version": "3.9.6"
  },
  "vscode": {
   "interpreter": {
    "hash": "31f2aee4e71d21fbe5cf8b01ff0e069b9275f58929596ceb00d14d90e3e16cd6"
   }
  }
 },
 "nbformat": 4,
 "nbformat_minor": 2
}
