{
 "cells": [
  {
   "cell_type": "markdown",
   "metadata": {},
   "source": [
    "# Agent0 Tutorial\n"
   ]
  },
  {
   "cell_type": "markdown",
   "metadata": {},
   "source": [
    "Agent0 provides a self contained Hyperdrive simulator using Interactive Local Hyperdrive. It works by managing a local Anvil\n",
    "instance with an interactive and customizable Hyperdrive deployment, a data collection service, and a dashboard server\n",
    "showing useful information for analysis.\n",
    "\n",
    "To start, follow the installation instructions outlined [here](../INSTALL.md) for interactive hyperdrive.\n"
   ]
  },
  {
   "cell_type": "markdown",
   "metadata": {},
   "source": [
    "## Simulating trades using Interactive Hyperdrive\n",
    "\n",
    "The following code initializes a local interactive hyperdrive with\n",
    "(1) a local chain,\n",
    "(2) a deployed hyperdrive pool on the local chain, and\n",
    "(3) a funded agent attached to the pool ready to trade.\n"
   ]
  },
  {
   "cell_type": "code",
   "execution_count": 1,
   "metadata": {},
   "outputs": [
    {
     "name": "stdout",
     "output_type": "stream",
     "text": [
      "\n",
      "24-10-16 13:43:14: INFO: interface.py:88::interface::initialize_engine:\n",
      "Database agent0_db does not exist, creating\n",
      "\n",
      "24-10-16 13:43:14: WARNING: interface.py:93::interface::initialize_engine:\n",
      "No postgres connection, retrying\n",
      "\n",
      "24-10-16 13:43:15: INFO: interface.py:88::interface::initialize_engine:\n",
      "Database agent0_db does not exist, creating\n"
     ]
    }
   ],
   "source": [
    "import datetime\n",
    "from fixedpointmath import FixedPoint\n",
    "from agent0 import LocalHyperdrive, LocalChain\n",
    "\n",
    "chain = LocalChain()\n",
    "hyperdrive = LocalHyperdrive(chain)\n",
    "# Attach the pool to the agent to set as the agent's active pool.\n",
    "agent = chain.init_agent(base=FixedPoint(100_000), eth=FixedPoint(10), pool=hyperdrive)"
   ]
  },
  {
   "cell_type": "markdown",
   "metadata": {},
   "source": [
    "After initializing, we can use the `agent` object to simulate trades on the deployed pool.\n"
   ]
  },
  {
   "cell_type": "code",
   "execution_count": 2,
   "metadata": {},
   "outputs": [],
   "source": [
    "open_long_event = agent.open_long(base=FixedPoint(100))\n",
    "open_short_event = agent.open_short(bonds=FixedPoint(100))\n",
    "add_liquidity_event = agent.add_liquidity(base=FixedPoint(100))"
   ]
  },
  {
   "cell_type": "markdown",
   "metadata": {},
   "source": [
    "The output of these trades represents the corresponding emitted event from Hyperdrive. For example, the open long event\n",
    "is shown below.\n"
   ]
  },
  {
   "cell_type": "code",
   "execution_count": 3,
   "metadata": {},
   "outputs": [
    {
     "data": {
      "text/plain": [
       "OpenLongEventFP(log_index=7, transaction_index=0, transaction_hash=HexBytes('0x1af19a851985e88812ac9afcd240f9ed1aaa20008d2cc5bab05e7a0caebd221b'), address='0x3ba1f47C99Df9AfEca4BA39d97673989312c1275', block_hash=HexBytes('0x2b388778f6b0780b1a42c79d002696322d78da86bedb9e87c07da6649f055bfa'), block_number=24, args=OpenLongEventFP.OpenLongEventArgsFP(trader='0x8758142E0CD558959Ecadc0055055dc107A7fef2', asset_id=452312848583266388373324160190187140051835877600158453279131187532640376256, maturity_time=1729713600, amount=FixedPoint(\"100.0\"), vault_share_price=FixedPoint(\"1.00000005707762557\"), as_base=True, bond_amount=FixedPoint(\"100.094931273470295072\"), extra_data=b'\\xa0'), __name__='OpenLongEvent')"
      ]
     },
     "execution_count": 3,
     "metadata": {},
     "output_type": "execute_result"
    }
   ],
   "source": [
    "open_long_event"
   ]
  },
  {
   "cell_type": "markdown",
   "metadata": {},
   "source": [
    "We can use Interactive Hyperdrive to simulate advancing time and closing a position. For example, we can simulate\n",
    "closing the long after a day.\n"
   ]
  },
  {
   "cell_type": "code",
   "execution_count": 4,
   "metadata": {},
   "outputs": [],
   "source": [
    "# Advance time for a day\n",
    "chain.advance_time(datetime.timedelta(days=1))\n",
    "close_long_event = agent.close_long(\n",
    "    maturity_time=open_long_event.args.maturity_time,\n",
    "    bonds=open_long_event.args.bond_amount,\n",
    ")"
   ]
  },
  {
   "cell_type": "markdown",
   "metadata": {},
   "source": [
    "## Analyzing Hyperdrive\n",
    "\n",
    "Interactive hyperdrive provides a fully managed data service that collects information from the chain, as\n",
    "well as providing an interactive dashboard to view information on the pool. Running the dashboard within Interactive\n",
    "Hyperdrive brings up a webpage that shows you basic information of the trades made on the pool, as well as information\n",
    "on a specific agent, including the value of the portfolio. You can also view the dashboard directly in your Jupyter notebook.\n"
   ]
  },
  {
   "cell_type": "code",
   "execution_count": 5,
   "metadata": {},
   "outputs": [
    {
     "name": "stdout",
     "output_type": "stream",
     "text": [
      "\n",
      "  You can now view your Streamlit app in your browser.\n",
      "\n",
      "  URL: http://localhost:7777\n",
      "\n",
      "  For better performance, install the Watchdog module:\n",
      "\n",
      "  $ xcode-select --install\n",
      "  $ pip install watchdog\n",
      "            \n"
     ]
    },
    {
     "data": {
      "text/html": [
       "\n",
       "        <iframe\n",
       "            width=\"1000\"\n",
       "            height=\"800\"\n",
       "            src=\"http://localhost:7777\"\n",
       "            frameborder=\"0\"\n",
       "            allowfullscreen\n",
       "            \n",
       "        ></iframe>\n",
       "        "
      ],
      "text/plain": [
       "<IPython.lib.display.IFrame at 0x1069012d0>"
      ]
     },
     "metadata": {},
     "output_type": "display_data"
    }
   ],
   "source": [
    "dashboard = chain.get_dashboard_iframe()\n",
    "display(dashboard)"
   ]
  },
  {
   "cell_type": "markdown",
   "metadata": {},
   "source": [
    "For customized analysis, Agent0's simulated environment exposes the underlying data itself. For example, the table\n",
    "below shows the list of emitted events from the agent.\n"
   ]
  },
  {
   "cell_type": "code",
   "execution_count": 6,
   "metadata": {},
   "outputs": [
    {
     "data": {
      "text/html": [
       "<div>\n",
       "<style scoped>\n",
       "    .dataframe tbody tr th:only-of-type {\n",
       "        vertical-align: middle;\n",
       "    }\n",
       "\n",
       "    .dataframe tbody tr th {\n",
       "        vertical-align: top;\n",
       "    }\n",
       "\n",
       "    .dataframe thead th {\n",
       "        text-align: right;\n",
       "    }\n",
       "</style>\n",
       "<table border=\"1\" class=\"dataframe\">\n",
       "  <thead>\n",
       "    <tr style=\"text-align: right;\">\n",
       "      <th></th>\n",
       "      <th>hyperdrive_name</th>\n",
       "      <th>hyperdrive_address</th>\n",
       "      <th>transaction_hash</th>\n",
       "      <th>block_number</th>\n",
       "      <th>username</th>\n",
       "      <th>wallet_address</th>\n",
       "      <th>event_type</th>\n",
       "      <th>token_type</th>\n",
       "      <th>maturity_time</th>\n",
       "      <th>token_id</th>\n",
       "      <th>token_delta</th>\n",
       "      <th>base_delta</th>\n",
       "      <th>vault_share_delta</th>\n",
       "      <th>as_base</th>\n",
       "      <th>vault_share_price</th>\n",
       "    </tr>\n",
       "  </thead>\n",
       "  <tbody>\n",
       "    <tr>\n",
       "      <th>0</th>\n",
       "      <td>agent0_erc4626</td>\n",
       "      <td>0x3ba1f47C99Df9AfEca4BA39d97673989312c1275</td>\n",
       "      <td>1af19a851985e88812ac9afcd240f9ed1aaa20008d2cc5...</td>\n",
       "      <td>24</td>\n",
       "      <td>0x8758...fef2</td>\n",
       "      <td>0x8758142E0CD558959Ecadc0055055dc107A7fef2</td>\n",
       "      <td>OpenLong</td>\n",
       "      <td>LONG</td>\n",
       "      <td>1729713600</td>\n",
       "      <td>LONG-1729713600</td>\n",
       "      <td>100.094931273470295072</td>\n",
       "      <td>-100.000000000000000000</td>\n",
       "      <td>0E-18</td>\n",
       "      <td>True</td>\n",
       "      <td>1.000000057077625570</td>\n",
       "    </tr>\n",
       "    <tr>\n",
       "      <th>1</th>\n",
       "      <td>agent0_erc4626</td>\n",
       "      <td>0x3ba1f47C99Df9AfEca4BA39d97673989312c1275</td>\n",
       "      <td>94abb27db940cc75c997b33f989b3ac5940b518420a11a...</td>\n",
       "      <td>25</td>\n",
       "      <td>0x8758...fef2</td>\n",
       "      <td>0x8758142E0CD558959Ecadc0055055dc107A7fef2</td>\n",
       "      <td>OpenShort</td>\n",
       "      <td>SHORT</td>\n",
       "      <td>1729713600</td>\n",
       "      <td>SHORT-1729713600</td>\n",
       "      <td>100.000000000000000000</td>\n",
       "      <td>-0.097725446539902683</td>\n",
       "      <td>0E-18</td>\n",
       "      <td>True</td>\n",
       "      <td>1.000000076103501845</td>\n",
       "    </tr>\n",
       "    <tr>\n",
       "      <th>2</th>\n",
       "      <td>agent0_erc4626</td>\n",
       "      <td>0x3ba1f47C99Df9AfEca4BA39d97673989312c1275</td>\n",
       "      <td>fda63085b29c7ab8cd26eddf6c55b9c38b8228e46dabb9...</td>\n",
       "      <td>26</td>\n",
       "      <td>0x8758...fef2</td>\n",
       "      <td>0x8758142E0CD558959Ecadc0055055dc107A7fef2</td>\n",
       "      <td>AddLiquidity</td>\n",
       "      <td>LP</td>\n",
       "      <td>None</td>\n",
       "      <td>LP</td>\n",
       "      <td>99.999990485393589134</td>\n",
       "      <td>-100.000000000000000000</td>\n",
       "      <td>0E-18</td>\n",
       "      <td>True</td>\n",
       "      <td>1.000000095129378483</td>\n",
       "    </tr>\n",
       "    <tr>\n",
       "      <th>3</th>\n",
       "      <td>agent0_erc4626</td>\n",
       "      <td>0x3ba1f47C99Df9AfEca4BA39d97673989312c1275</td>\n",
       "      <td>91eecbbfbfd0db0301299447a58f4d0f6bae9bfb12a47e...</td>\n",
       "      <td>75</td>\n",
       "      <td>0x8758...fef2</td>\n",
       "      <td>0x8758142E0CD558959Ecadc0055055dc107A7fef2</td>\n",
       "      <td>CloseLong</td>\n",
       "      <td>LONG</td>\n",
       "      <td>1729713600</td>\n",
       "      <td>LONG-1729713600</td>\n",
       "      <td>-100.094931273470295072</td>\n",
       "      <td>100.011780706511699541</td>\n",
       "      <td>0E-18</td>\n",
       "      <td>True</td>\n",
       "      <td>1.000137119495533768</td>\n",
       "    </tr>\n",
       "  </tbody>\n",
       "</table>\n",
       "</div>"
      ],
      "text/plain": [
       "  hyperdrive_name                          hyperdrive_address  \\\n",
       "0  agent0_erc4626  0x3ba1f47C99Df9AfEca4BA39d97673989312c1275   \n",
       "1  agent0_erc4626  0x3ba1f47C99Df9AfEca4BA39d97673989312c1275   \n",
       "2  agent0_erc4626  0x3ba1f47C99Df9AfEca4BA39d97673989312c1275   \n",
       "3  agent0_erc4626  0x3ba1f47C99Df9AfEca4BA39d97673989312c1275   \n",
       "\n",
       "                                    transaction_hash  block_number  \\\n",
       "0  1af19a851985e88812ac9afcd240f9ed1aaa20008d2cc5...            24   \n",
       "1  94abb27db940cc75c997b33f989b3ac5940b518420a11a...            25   \n",
       "2  fda63085b29c7ab8cd26eddf6c55b9c38b8228e46dabb9...            26   \n",
       "3  91eecbbfbfd0db0301299447a58f4d0f6bae9bfb12a47e...            75   \n",
       "\n",
       "        username                              wallet_address    event_type  \\\n",
       "0  0x8758...fef2  0x8758142E0CD558959Ecadc0055055dc107A7fef2      OpenLong   \n",
       "1  0x8758...fef2  0x8758142E0CD558959Ecadc0055055dc107A7fef2     OpenShort   \n",
       "2  0x8758...fef2  0x8758142E0CD558959Ecadc0055055dc107A7fef2  AddLiquidity   \n",
       "3  0x8758...fef2  0x8758142E0CD558959Ecadc0055055dc107A7fef2     CloseLong   \n",
       "\n",
       "  token_type maturity_time          token_id              token_delta  \\\n",
       "0       LONG    1729713600   LONG-1729713600   100.094931273470295072   \n",
       "1      SHORT    1729713600  SHORT-1729713600   100.000000000000000000   \n",
       "2         LP          None                LP    99.999990485393589134   \n",
       "3       LONG    1729713600   LONG-1729713600  -100.094931273470295072   \n",
       "\n",
       "                base_delta vault_share_delta  as_base     vault_share_price  \n",
       "0  -100.000000000000000000             0E-18     True  1.000000057077625570  \n",
       "1    -0.097725446539902683             0E-18     True  1.000000076103501845  \n",
       "2  -100.000000000000000000             0E-18     True  1.000000095129378483  \n",
       "3   100.011780706511699541             0E-18     True  1.000137119495533768  "
      ]
     },
     "execution_count": 6,
     "metadata": {},
     "output_type": "execute_result"
    }
   ],
   "source": [
    "agent.get_trade_events()"
   ]
  },
  {
   "cell_type": "markdown",
   "metadata": {},
   "source": [
    "Additionally, we can query the database for the list of open and closed positions, with additional columns\n",
    "with the unrealized value (i.e., the value of an open position if it was to be closed at this time), the\n",
    "realized value (i.e., the value in base spent/received from trades on this position), and the PnL (i.e.,\n",
    "unrealized value + realized value).\n"
   ]
  },
  {
   "cell_type": "code",
   "execution_count": 7,
   "metadata": {},
   "outputs": [
    {
     "data": {
      "text/html": [
       "<div>\n",
       "<style scoped>\n",
       "    .dataframe tbody tr th:only-of-type {\n",
       "        vertical-align: middle;\n",
       "    }\n",
       "\n",
       "    .dataframe tbody tr th {\n",
       "        vertical-align: top;\n",
       "    }\n",
       "\n",
       "    .dataframe thead th {\n",
       "        text-align: right;\n",
       "    }\n",
       "</style>\n",
       "<table border=\"1\" class=\"dataframe\">\n",
       "  <thead>\n",
       "    <tr style=\"text-align: right;\">\n",
       "      <th></th>\n",
       "      <th>hyperdrive_name</th>\n",
       "      <th>hyperdrive_address</th>\n",
       "      <th>block_number</th>\n",
       "      <th>username</th>\n",
       "      <th>wallet_address</th>\n",
       "      <th>token_type</th>\n",
       "      <th>maturity_time</th>\n",
       "      <th>token_id</th>\n",
       "      <th>token_balance</th>\n",
       "      <th>unrealized_value</th>\n",
       "      <th>realized_value</th>\n",
       "      <th>pnl</th>\n",
       "      <th>last_balance_update_block</th>\n",
       "    </tr>\n",
       "  </thead>\n",
       "  <tbody>\n",
       "    <tr>\n",
       "      <th>0</th>\n",
       "      <td>agent0_erc4626</td>\n",
       "      <td>0x3ba1f47C99Df9AfEca4BA39d97673989312c1275</td>\n",
       "      <td>75</td>\n",
       "      <td>0x8758...fef2</td>\n",
       "      <td>0x8758142E0CD558959Ecadc0055055dc107A7fef2</td>\n",
       "      <td>LONG</td>\n",
       "      <td>1729713600</td>\n",
       "      <td>LONG-1729713600</td>\n",
       "      <td>0E-18</td>\n",
       "      <td>0E-18</td>\n",
       "      <td>0.011780706511699541</td>\n",
       "      <td>0.011780706511699541</td>\n",
       "      <td>75</td>\n",
       "    </tr>\n",
       "    <tr>\n",
       "      <th>1</th>\n",
       "      <td>agent0_erc4626</td>\n",
       "      <td>0x3ba1f47C99Df9AfEca4BA39d97673989312c1275</td>\n",
       "      <td>75</td>\n",
       "      <td>0x8758...fef2</td>\n",
       "      <td>0x8758142E0CD558959Ecadc0055055dc107A7fef2</td>\n",
       "      <td>LP</td>\n",
       "      <td>None</td>\n",
       "      <td>LP</td>\n",
       "      <td>99.999990485393589134</td>\n",
       "      <td>100.013702436088523469</td>\n",
       "      <td>-100.000000000000000000</td>\n",
       "      <td>0.013702436088523469</td>\n",
       "      <td>26</td>\n",
       "    </tr>\n",
       "    <tr>\n",
       "      <th>2</th>\n",
       "      <td>agent0_erc4626</td>\n",
       "      <td>0x3ba1f47C99Df9AfEca4BA39d97673989312c1275</td>\n",
       "      <td>75</td>\n",
       "      <td>0x8758...fef2</td>\n",
       "      <td>0x8758142E0CD558959Ecadc0055055dc107A7fef2</td>\n",
       "      <td>SHORT</td>\n",
       "      <td>1729713600</td>\n",
       "      <td>SHORT-1729713600</td>\n",
       "      <td>100.000000000000000000</td>\n",
       "      <td>0.095828204241126748</td>\n",
       "      <td>-0.097725446539902683</td>\n",
       "      <td>-0.001897242298775935</td>\n",
       "      <td>25</td>\n",
       "    </tr>\n",
       "  </tbody>\n",
       "</table>\n",
       "</div>"
      ],
      "text/plain": [
       "  hyperdrive_name                          hyperdrive_address  block_number  \\\n",
       "0  agent0_erc4626  0x3ba1f47C99Df9AfEca4BA39d97673989312c1275            75   \n",
       "1  agent0_erc4626  0x3ba1f47C99Df9AfEca4BA39d97673989312c1275            75   \n",
       "2  agent0_erc4626  0x3ba1f47C99Df9AfEca4BA39d97673989312c1275            75   \n",
       "\n",
       "        username                              wallet_address token_type  \\\n",
       "0  0x8758...fef2  0x8758142E0CD558959Ecadc0055055dc107A7fef2       LONG   \n",
       "1  0x8758...fef2  0x8758142E0CD558959Ecadc0055055dc107A7fef2         LP   \n",
       "2  0x8758...fef2  0x8758142E0CD558959Ecadc0055055dc107A7fef2      SHORT   \n",
       "\n",
       "  maturity_time          token_id           token_balance  \\\n",
       "0    1729713600   LONG-1729713600                   0E-18   \n",
       "1          None                LP   99.999990485393589134   \n",
       "2    1729713600  SHORT-1729713600  100.000000000000000000   \n",
       "\n",
       "         unrealized_value           realized_value                    pnl  \\\n",
       "0                   0E-18     0.011780706511699541   0.011780706511699541   \n",
       "1  100.013702436088523469  -100.000000000000000000   0.013702436088523469   \n",
       "2    0.095828204241126748    -0.097725446539902683  -0.001897242298775935   \n",
       "\n",
       "   last_balance_update_block  \n",
       "0                         75  \n",
       "1                         26  \n",
       "2                         25  "
      ]
     },
     "execution_count": 7,
     "metadata": {},
     "output_type": "execute_result"
    }
   ],
   "source": [
    "agent.get_positions(show_closed_positions=True)"
   ]
  },
  {
   "cell_type": "markdown",
   "metadata": {},
   "source": [
    "See the `get_*` functions defined in the\n",
    "[pool](https://agent0.readthedocs.io/en/latest/autoapi/agent0/core/hyperdrive/interactive/local_hyperdrive/index.html)\n",
    "and [agent](https://agent0.readthedocs.io/en/latest/autoapi/agent0/core/hyperdrive/interactive/local_hyperdrive_agent/index.html)\n",
    "for more information.\n"
   ]
  },
  {
   "cell_type": "markdown",
   "metadata": {},
   "source": [
    "## Trading policies\n",
    "\n",
    "Agent0 introduces agent policies, which allows an agent to make trades based on some defined behavior.\n",
    "Agent0 provides a set of ready-to-use policies. For example, the `random` policy simply makes random trades\n",
    "on the pool.\n"
   ]
  },
  {
   "cell_type": "code",
   "execution_count": 8,
   "metadata": {},
   "outputs": [
    {
     "name": "stdout",
     "output_type": "stream",
     "text": [
      "  A simple demonstration agent that chooses its actions randomly.\n",
      "  It can take 7 actions: open/close longs and shorts, add/remove liquidity, and redeem withdraw shares.\n",
      "  Trade size is randomly drawn from a normal distribution with mean of 10% of budget and standard deviation of 1% of budget.\n",
      "  A close action picks a random open position of the given type (long or short) and attempts to close its entire size.\n",
      "  Withdrawals of liquidity and redemption of withdrawal shares is sized the same as an open position: N(0.1, 0.01) * budget.\n"
     ]
    }
   ],
   "source": [
    "from agent0 import PolicyZoo\n",
    "\n",
    "print(PolicyZoo.random.description())"
   ]
  },
  {
   "cell_type": "markdown",
   "metadata": {},
   "source": [
    "We can set a policy for an agent and execute the policy using interactive hyperdrive.\n",
    "The output is then a list of output events corresponding with the list of actions the\n",
    "policy took in that step. In the example below, we set the random policy to the previously\n",
    "created agent and execute one iteration of the policy, then print out the trade the agent made.\n"
   ]
  },
  {
   "cell_type": "code",
   "execution_count": 9,
   "metadata": {},
   "outputs": [
    {
     "data": {
      "text/plain": [
       "[AddLiquidityEventFP(log_index=7, transaction_index=0, transaction_hash=HexBytes('0x40880e7d5909bf5a0e3f874c71ccd1b85b4bec86d17c5178292d75466f5c87d6'), address='0x3ba1f47C99Df9AfEca4BA39d97673989312c1275', block_hash=HexBytes('0x869484a06e7e3fe9a548ab5a6a67e2f592bbb0347d30971ab689945b7053a73a'), block_number=76, args=AddLiquidityEventFP.AddLiquidityEventArgsFP(provider='0x8758142E0CD558959Ecadc0055055dc107A7fef2', lp_amount=FixedPoint(\"11275.081386354898775218\"), amount=FixedPoint(\"11276.62763464994062336\"), vault_share_price=FixedPoint(\"1.000137138524017776\"), as_base=True, lp_share_price=FixedPoint(\"1.000137138548460724\"), extra_data=b'\\xa0'), __name__='AddLiquidityEvent')]"
      ]
     },
     "execution_count": 9,
     "metadata": {},
     "output_type": "execute_result"
    }
   ],
   "source": [
    "agent.set_active(policy=PolicyZoo.random, policy_config=PolicyZoo.random.Config(rng_seed=123))\n",
    "agent.execute_policy_action()"
   ]
  },
  {
   "cell_type": "markdown",
   "metadata": {},
   "source": [
    "See\n",
    "[here](https://agent0.readthedocs.io/en/latest/autoapi/agent0/hyperdrive/policies/index.html#)\n",
    "for a list and description of all implemented policies.\n"
   ]
  },
  {
   "cell_type": "markdown",
   "metadata": {},
   "source": [
    "### Custom Policies\n",
    "\n",
    "Agent0 also provides an interface to write a custom policy. In this tutorial, we'll write a\n",
    "policy that simply opens a long if the fixed rate is above a threshold.\n",
    "Similarly to existing policies, this policy can then be attached to interactive hyperdrive to\n",
    "simulate the policy within the simulator.\n",
    "\n",
    "We'll start by defining the class that subclasses from the base policy and define a custom policy\n",
    "configuration that defines the threshold. We need to overwrite the `action` method in the\n",
    "policy, which defines what actions the policy takes. In the example below, the agent will simply\n",
    "open a single long for `open_long_amount` when the fixed rate reaches the `fixed_rate_threshold`,\n",
    "and close the long at maturity.\n"
   ]
  },
  {
   "cell_type": "code",
   "execution_count": 10,
   "metadata": {},
   "outputs": [],
   "source": [
    "# Relevant imports\n",
    "from agent0 import HyperdriveBasePolicy, open_long_trade, close_long_trade\n",
    "from dataclasses import dataclass"
   ]
  },
  {
   "cell_type": "code",
   "execution_count": 11,
   "metadata": {},
   "outputs": [],
   "source": [
    "class OpenLongPolicy(HyperdriveBasePolicy):\n",
    "    @dataclass(kw_only=True)\n",
    "    class Config(HyperdriveBasePolicy.Config):\n",
    "        fixed_rate_threshold: FixedPoint\n",
    "        open_long_amount: FixedPoint\n",
    "\n",
    "    def action(self, interface, wallet):\n",
    "        # Defines if the bot is done trading. We expect this bot to run continuously,\n",
    "        # so this is always false.\n",
    "        done_trading = False\n",
    "        # If no longs in wallet, we check our fixed rate threshold and open the long if threshold reached.\n",
    "        if len(wallet.longs) == 0:\n",
    "            if interface.calc_spot_rate() > self.config.fixed_rate_threshold:\n",
    "                return [open_long_trade(self.config.open_long_amount)], done_trading\n",
    "        # If there are longs in the wallet, we check for maturity and close them if maturity reached.\n",
    "        else:\n",
    "            for maturity_time, long in wallet.longs.items():\n",
    "                if interface.get_block_timestamp(interface.get_current_block()) >= maturity_time:\n",
    "                    return [close_long_trade(long.balance, maturity_time)], done_trading\n",
    "        # We don't do any trades otherwise.\n",
    "        return [], done_trading"
   ]
  },
  {
   "cell_type": "markdown",
   "metadata": {},
   "source": [
    "See [here](custom_policy.py) for a more in depth example of writing a policy.\n"
   ]
  },
  {
   "cell_type": "markdown",
   "metadata": {},
   "source": [
    "### Running the trading policy in Interactive Hyperdrive\n",
    "\n",
    "We can test our new policy using interactive hyperdrive before running it on an actual chain. We can do this by\n",
    "either setting a new active policy with an existing agent, or initializing a new agent while setting the policy\n",
    "during initialization. We'll do the latter here. Note that we pass in the fixed rate threshold of 6% as a\n",
    "parameter to the policy.\n"
   ]
  },
  {
   "cell_type": "code",
   "execution_count": 12,
   "metadata": {},
   "outputs": [],
   "source": [
    "policy_agent = chain.init_agent(\n",
    "    base=FixedPoint(1_000_000),\n",
    "    eth=FixedPoint(10),\n",
    "    pool=hyperdrive,\n",
    "    policy=OpenLongPolicy,\n",
    "    policy_config=OpenLongPolicy.Config(\n",
    "        fixed_rate_threshold=FixedPoint(0.06),\n",
    "        open_long_amount=FixedPoint(100_000),\n",
    "    ),\n",
    ")"
   ]
  },
  {
   "cell_type": "markdown",
   "metadata": {},
   "source": [
    "Lets take a look at the fixed rate after the set of trades we've made. We can see below that the current fixed rate sits\n",
    "right around 5%.\n"
   ]
  },
  {
   "cell_type": "code",
   "execution_count": 13,
   "metadata": {},
   "outputs": [
    {
     "data": {
      "text/html": [
       "<div>\n",
       "<style scoped>\n",
       "    .dataframe tbody tr th:only-of-type {\n",
       "        vertical-align: middle;\n",
       "    }\n",
       "\n",
       "    .dataframe tbody tr th {\n",
       "        vertical-align: top;\n",
       "    }\n",
       "\n",
       "    .dataframe thead th {\n",
       "        text-align: right;\n",
       "    }\n",
       "</style>\n",
       "<table border=\"1\" class=\"dataframe\">\n",
       "  <thead>\n",
       "    <tr style=\"text-align: right;\">\n",
       "      <th></th>\n",
       "      <th>block_number</th>\n",
       "      <th>timestamp</th>\n",
       "      <th>fixed_rate</th>\n",
       "    </tr>\n",
       "  </thead>\n",
       "  <tbody>\n",
       "    <tr>\n",
       "      <th>0</th>\n",
       "      <td>21</td>\n",
       "      <td>2024-10-16 20:47:26</td>\n",
       "      <td>0.050000000000000000</td>\n",
       "    </tr>\n",
       "    <tr>\n",
       "      <th>1</th>\n",
       "      <td>22</td>\n",
       "      <td>2024-10-16 20:47:38</td>\n",
       "      <td>0.050000000000000000</td>\n",
       "    </tr>\n",
       "    <tr>\n",
       "      <th>2</th>\n",
       "      <td>23</td>\n",
       "      <td>2024-10-16 20:47:50</td>\n",
       "      <td>0.050000000000000000</td>\n",
       "    </tr>\n",
       "    <tr>\n",
       "      <th>3</th>\n",
       "      <td>24</td>\n",
       "      <td>2024-10-16 20:48:02</td>\n",
       "      <td>0.049999757141356994</td>\n",
       "    </tr>\n",
       "    <tr>\n",
       "      <th>4</th>\n",
       "      <td>25</td>\n",
       "      <td>2024-10-16 20:48:14</td>\n",
       "      <td>0.049999999766702777</td>\n",
       "    </tr>\n",
       "    <tr>\n",
       "      <th>5</th>\n",
       "      <td>26</td>\n",
       "      <td>2024-10-16 20:48:26</td>\n",
       "      <td>0.049999999766702777</td>\n",
       "    </tr>\n",
       "    <tr>\n",
       "      <th>6</th>\n",
       "      <td>74</td>\n",
       "      <td>2024-10-17 20:48:38</td>\n",
       "      <td>0.049999999766702777</td>\n",
       "    </tr>\n",
       "    <tr>\n",
       "      <th>7</th>\n",
       "      <td>75</td>\n",
       "      <td>2024-10-17 20:48:50</td>\n",
       "      <td>0.050000207907633608</td>\n",
       "    </tr>\n",
       "    <tr>\n",
       "      <th>8</th>\n",
       "      <td>76</td>\n",
       "      <td>2024-10-17 20:49:02</td>\n",
       "      <td>0.050000207907633608</td>\n",
       "    </tr>\n",
       "  </tbody>\n",
       "</table>\n",
       "</div>"
      ],
      "text/plain": [
       "   block_number           timestamp            fixed_rate\n",
       "0            21 2024-10-16 20:47:26  0.050000000000000000\n",
       "1            22 2024-10-16 20:47:38  0.050000000000000000\n",
       "2            23 2024-10-16 20:47:50  0.050000000000000000\n",
       "3            24 2024-10-16 20:48:02  0.049999757141356994\n",
       "4            25 2024-10-16 20:48:14  0.049999999766702777\n",
       "5            26 2024-10-16 20:48:26  0.049999999766702777\n",
       "6            74 2024-10-17 20:48:38  0.049999999766702777\n",
       "7            75 2024-10-17 20:48:50  0.050000207907633608\n",
       "8            76 2024-10-17 20:49:02  0.050000207907633608"
      ]
     },
     "execution_count": 13,
     "metadata": {},
     "output_type": "execute_result"
    }
   ],
   "source": [
    "hyperdrive.get_pool_info()[[\"block_number\", \"timestamp\", \"fixed_rate\"]]"
   ]
  },
  {
   "cell_type": "markdown",
   "metadata": {},
   "source": [
    "We can now execute our new agent's policy. Since the fixed rate is below the threshold, we expect the agent to not make\n",
    "any trades, denoted by the output of `execute_policy_action` being an empty list.\n"
   ]
  },
  {
   "cell_type": "code",
   "execution_count": 14,
   "metadata": {},
   "outputs": [
    {
     "data": {
      "text/plain": [
       "[]"
      ]
     },
     "execution_count": 14,
     "metadata": {},
     "output_type": "execute_result"
    }
   ],
   "source": [
    "policy_agent.execute_policy_action()"
   ]
  },
  {
   "cell_type": "markdown",
   "metadata": {},
   "source": [
    "Let's make a trade to push the fixed rate to be above 6%.\n"
   ]
  },
  {
   "cell_type": "code",
   "execution_count": 15,
   "metadata": {},
   "outputs": [
    {
     "data": {
      "text/html": [
       "<div>\n",
       "<style scoped>\n",
       "    .dataframe tbody tr th:only-of-type {\n",
       "        vertical-align: middle;\n",
       "    }\n",
       "\n",
       "    .dataframe tbody tr th {\n",
       "        vertical-align: top;\n",
       "    }\n",
       "\n",
       "    .dataframe thead th {\n",
       "        text-align: right;\n",
       "    }\n",
       "</style>\n",
       "<table border=\"1\" class=\"dataframe\">\n",
       "  <thead>\n",
       "    <tr style=\"text-align: right;\">\n",
       "      <th></th>\n",
       "      <th>block_number</th>\n",
       "      <th>timestamp</th>\n",
       "      <th>fixed_rate</th>\n",
       "    </tr>\n",
       "  </thead>\n",
       "  <tbody>\n",
       "    <tr>\n",
       "      <th>0</th>\n",
       "      <td>21</td>\n",
       "      <td>2024-10-16 20:47:26</td>\n",
       "      <td>0.050000000000000000</td>\n",
       "    </tr>\n",
       "    <tr>\n",
       "      <th>1</th>\n",
       "      <td>22</td>\n",
       "      <td>2024-10-16 20:47:38</td>\n",
       "      <td>0.050000000000000000</td>\n",
       "    </tr>\n",
       "    <tr>\n",
       "      <th>2</th>\n",
       "      <td>23</td>\n",
       "      <td>2024-10-16 20:47:50</td>\n",
       "      <td>0.050000000000000000</td>\n",
       "    </tr>\n",
       "    <tr>\n",
       "      <th>3</th>\n",
       "      <td>24</td>\n",
       "      <td>2024-10-16 20:48:02</td>\n",
       "      <td>0.049999757141356994</td>\n",
       "    </tr>\n",
       "    <tr>\n",
       "      <th>4</th>\n",
       "      <td>25</td>\n",
       "      <td>2024-10-16 20:48:14</td>\n",
       "      <td>0.049999999766702777</td>\n",
       "    </tr>\n",
       "    <tr>\n",
       "      <th>5</th>\n",
       "      <td>26</td>\n",
       "      <td>2024-10-16 20:48:26</td>\n",
       "      <td>0.049999999766702777</td>\n",
       "    </tr>\n",
       "    <tr>\n",
       "      <th>6</th>\n",
       "      <td>74</td>\n",
       "      <td>2024-10-17 20:48:38</td>\n",
       "      <td>0.049999999766702777</td>\n",
       "    </tr>\n",
       "    <tr>\n",
       "      <th>7</th>\n",
       "      <td>75</td>\n",
       "      <td>2024-10-17 20:48:50</td>\n",
       "      <td>0.050000207907633608</td>\n",
       "    </tr>\n",
       "    <tr>\n",
       "      <th>8</th>\n",
       "      <td>76</td>\n",
       "      <td>2024-10-17 20:49:02</td>\n",
       "      <td>0.050000207907633608</td>\n",
       "    </tr>\n",
       "    <tr>\n",
       "      <th>9</th>\n",
       "      <td>77</td>\n",
       "      <td>2024-10-17 20:49:14</td>\n",
       "      <td>0.050000207907633608</td>\n",
       "    </tr>\n",
       "    <tr>\n",
       "      <th>10</th>\n",
       "      <td>78</td>\n",
       "      <td>2024-10-17 20:49:26</td>\n",
       "      <td>0.050000207907633608</td>\n",
       "    </tr>\n",
       "    <tr>\n",
       "      <th>11</th>\n",
       "      <td>79</td>\n",
       "      <td>2024-10-17 20:49:38</td>\n",
       "      <td>0.133570744116566085</td>\n",
       "    </tr>\n",
       "  </tbody>\n",
       "</table>\n",
       "</div>"
      ],
      "text/plain": [
       "    block_number           timestamp            fixed_rate\n",
       "0             21 2024-10-16 20:47:26  0.050000000000000000\n",
       "1             22 2024-10-16 20:47:38  0.050000000000000000\n",
       "2             23 2024-10-16 20:47:50  0.050000000000000000\n",
       "3             24 2024-10-16 20:48:02  0.049999757141356994\n",
       "4             25 2024-10-16 20:48:14  0.049999999766702777\n",
       "5             26 2024-10-16 20:48:26  0.049999999766702777\n",
       "6             74 2024-10-17 20:48:38  0.049999999766702777\n",
       "7             75 2024-10-17 20:48:50  0.050000207907633608\n",
       "8             76 2024-10-17 20:49:02  0.050000207907633608\n",
       "9             77 2024-10-17 20:49:14  0.050000207907633608\n",
       "10            78 2024-10-17 20:49:26  0.050000207907633608\n",
       "11            79 2024-10-17 20:49:38  0.133570744116566085"
      ]
     },
     "execution_count": 15,
     "metadata": {},
     "output_type": "execute_result"
    }
   ],
   "source": [
    "policy_agent.open_short(bonds=FixedPoint(20_000_000))\n",
    "hyperdrive.get_pool_info()[[\"block_number\", \"timestamp\", \"fixed_rate\"]]"
   ]
  },
  {
   "cell_type": "markdown",
   "metadata": {},
   "source": [
    "Once again, let's execute our policy and view the output. We can see that our policy opened a new long because the\n",
    "fixed rate is above 6%.\n"
   ]
  },
  {
   "cell_type": "code",
   "execution_count": 16,
   "metadata": {},
   "outputs": [
    {
     "data": {
      "text/plain": [
       "[OpenLongEventFP(log_index=7, transaction_index=0, transaction_hash=HexBytes('0xede7f863f5f208cdea85b015c396089318bd656f1d9799eedbae29932639070b'), address='0x3ba1f47C99Df9AfEca4BA39d97673989312c1275', block_hash=HexBytes('0xd2bc6922e51e91d345868cfc618cdbd236bf3c2d6b4c6768ae33cca795484d15'), block_number=80, args=OpenLongEventFP.OpenLongEventArgsFP(trader='0xDBf02d26A6a7641144F23C84F9ecE53e2D157E44', asset_id=452312848583266388373324160190187140051835877600158453279131187532640462656, maturity_time=1729800000, amount=FixedPoint(\"100000.0\"), vault_share_price=FixedPoint(\"1.000137214637956344\"), as_base=True, bond_amount=FixedPoint(\"100252.699002323955738645\"), extra_data=b'\\xa0'), __name__='OpenLongEvent')]"
      ]
     },
     "execution_count": 16,
     "metadata": {},
     "output_type": "execute_result"
    }
   ],
   "source": [
    "policy_agent.execute_policy_action()"
   ]
  },
  {
   "cell_type": "markdown",
   "metadata": {},
   "source": [
    "## Connecting to a remote chain\n",
    "\n",
    "Along with a fully managed simulator, interactive hyperdrive also provides an interface for connecting to any existing remote chain and deployed hyperdrive pool. We can use this interface to make trades or execute any policy on the deployed hyperdrive pool.\n",
    "\n",
    "In this tutorial, we'll use the Anvil node and Hyperdrive pool being hosted by the `LocalChain`\n",
    "and `LocalHyperdrive` objects, but we can simply replace the corresponding configurations with any valid RPC and contract addresses.\n"
   ]
  },
  {
   "cell_type": "code",
   "execution_count": 17,
   "metadata": {},
   "outputs": [
    {
     "name": "stdout",
     "output_type": "stream",
     "text": [
      "\n",
      "24-10-16 13:43:20: INFO: interface.py:88::interface::initialize_engine:\n",
      "Database agent0_db does not exist, creating\n",
      "\n",
      "24-10-16 13:43:20: WARNING: interface.py:93::interface::initialize_engine:\n",
      "No postgres connection, retrying\n",
      "\n",
      "24-10-16 13:43:21: INFO: interface.py:88::interface::initialize_engine:\n",
      "Database agent0_db does not exist, creating\n"
     ]
    }
   ],
   "source": [
    "from agent0 import Chain, Hyperdrive\n",
    "\n",
    "# Get the RPC address and the hyperdrive contract addresses to connect to from the managed\n",
    "# interactive hyperdrive objects.\n",
    "rpc_uri = chain.rpc_uri\n",
    "hyperdrive_address = hyperdrive.hyperdrive_address\n",
    "\n",
    "# We can specify other parameters as such.\n",
    "# rpc_uri = \"<rpc_uri>\"\n",
    "# hyperdrive_address = \"0x<hyperdrive_address>\"\n",
    "\n",
    "# Connect to the remote chain and hyperdrive objects.\n",
    "# We need to set a different db port here to avoid port collisions with the local chain.\n",
    "remote_chain = Chain(rpc_uri, Chain.Config(db_port=1234))\n",
    "remote_hyperdrive = Hyperdrive(remote_chain, hyperdrive_address)"
   ]
  },
  {
   "cell_type": "markdown",
   "metadata": {},
   "source": [
    "We now need to initialize an agent by providing a private key to a wallet. In this tutorial,\n",
    "we'll simply use a random private key to initialize a new wallet, then fund the agent using\n",
    "the provided `add_funds` method.\n",
    "\n",
    "<div class=\"alert alert-block alert-info\"> \n",
    "NOTE:: The <code>add_funds</code> method calls the <code>anvil_setBalance</code> to fund Eth and \n",
    "<code>mint</code> on the base token contract to fund the wallet, which is only possible due to the \n",
    "remote chain and base token contract supporting such calls. It's up to the user to ensure the wallet \n",
    "associated with the private key is funded when running on a non-test chain.\n",
    "</div>\n",
    "\n",
    "<div class=\"alert alert-block alert-danger\"> \n",
    "WARNING:: This tutorial generates a random private key and funds this wallet. In practice, the private\n",
    "key should be passed into the script via an environment variable secret, and one should limit access\n",
    "to the generated agent object to only the owner of the private key.\n",
    "</div>\n",
    "\n",
    "We also attach our custom agent as well to allow the agent to execute the policy we wrote earlier.\n"
   ]
  },
  {
   "cell_type": "code",
   "execution_count": 18,
   "metadata": {},
   "outputs": [],
   "source": [
    "from agent0.core.base.make_key import make_private_key\n",
    "\n",
    "remote_agent = remote_chain.init_agent(\n",
    "    private_key=make_private_key(),\n",
    "    pool=remote_hyperdrive,\n",
    "    policy=OpenLongPolicy,\n",
    "    policy_config=OpenLongPolicy.Config(\n",
    "        fixed_rate_threshold=FixedPoint(0.06),\n",
    "        open_long_amount=FixedPoint(100_000),\n",
    "    ),\n",
    ")\n",
    "# Add funds to the agent\n",
    "remote_agent.add_funds(base=FixedPoint(1_000_000), eth=FixedPoint(100))\n",
    "# Give the hyperdrive contract max approval to withdrawal funds from the remote agent\n",
    "# TODO need to add setting a custom approval amount\n",
    "remote_agent.set_max_approval()"
   ]
  },
  {
   "cell_type": "markdown",
   "metadata": {},
   "source": [
    "This agent is now able to make trades on the remote chain, as well as executing the underlying policy\n"
   ]
  },
  {
   "cell_type": "code",
   "execution_count": 19,
   "metadata": {},
   "outputs": [
    {
     "data": {
      "text/plain": [
       "OpenShortEventFP(log_index=7, transaction_index=0, transaction_hash=HexBytes('0xa3415e3a7df4720cca5b9d4b6e2b4b6c3d2a2f20c996aa7cc422690629c3ad23'), address='0x3ba1f47C99Df9AfEca4BA39d97673989312c1275', block_hash=HexBytes('0xe55669f86f9776a29d3b0d93fdf9f25e3ba3895543206ba4801264e678ca880e'), block_number=83, args=OpenShortEventFP.OpenShortEventArgsFP(trader='0xa8702eb0Ca6DBA9b45030D7713689e0a2f7777C4', asset_id=904625697166532776746648320380374280103671755200316906558262375063551125312, maturity_time=1729800000, amount=FixedPoint(\"0.514471971450155471\"), vault_share_price=FixedPoint(\"1.0001372717234138\"), as_base=True, base_proceeds=FixedPoint(\"199.487485351529177335\"), bond_amount=FixedPoint(\"200.0\"), extra_data=b'\\xa0'), __name__='OpenShortEvent')"
      ]
     },
     "execution_count": 19,
     "metadata": {},
     "output_type": "execute_result"
    }
   ],
   "source": [
    "remote_agent.open_short(bonds=FixedPoint(200))"
   ]
  },
  {
   "cell_type": "code",
   "execution_count": 20,
   "metadata": {},
   "outputs": [
    {
     "data": {
      "text/plain": [
       "[OpenLongEventFP(log_index=7, transaction_index=0, transaction_hash=HexBytes('0x56c835414050d91dcdc6a8beaf4f9b7bdf7c0e49e046187436153fda52c0c67f'), address='0x3ba1f47C99Df9AfEca4BA39d97673989312c1275', block_hash=HexBytes('0xb4b0519475f49f98320ef9b79eed8de5fe7d2de7fb599593cf967580384755a8'), block_number=84, args=OpenLongEventFP.OpenLongEventArgsFP(trader='0xa8702eb0Ca6DBA9b45030D7713689e0a2f7777C4', asset_id=452312848583266388373324160190187140051835877600158453279131187532640462656, maturity_time=1729800000, amount=FixedPoint(\"100000.0\"), vault_share_price=FixedPoint(\"1.000137290751900705\"), as_base=True, bond_amount=FixedPoint(\"100250.937543966939989084\"), extra_data=b'\\xa0'), __name__='OpenLongEvent')]"
      ]
     },
     "execution_count": 20,
     "metadata": {},
     "output_type": "execute_result"
    }
   ],
   "source": [
    "remote_agent.execute_policy_action()"
   ]
  },
  {
   "cell_type": "markdown",
   "metadata": {},
   "source": [
    "We find that the wallet contains both the short we opened manually and the long we opened using\n",
    "the policy.\n"
   ]
  },
  {
   "cell_type": "code",
   "execution_count": 21,
   "metadata": {},
   "outputs": [
    {
     "data": {
      "text/html": [
       "<div>\n",
       "<style scoped>\n",
       "    .dataframe tbody tr th:only-of-type {\n",
       "        vertical-align: middle;\n",
       "    }\n",
       "\n",
       "    .dataframe tbody tr th {\n",
       "        vertical-align: top;\n",
       "    }\n",
       "\n",
       "    .dataframe thead th {\n",
       "        text-align: right;\n",
       "    }\n",
       "</style>\n",
       "<table border=\"1\" class=\"dataframe\">\n",
       "  <thead>\n",
       "    <tr style=\"text-align: right;\">\n",
       "      <th></th>\n",
       "      <th>hyperdrive_name</th>\n",
       "      <th>hyperdrive_address</th>\n",
       "      <th>block_number</th>\n",
       "      <th>username</th>\n",
       "      <th>wallet_address</th>\n",
       "      <th>token_type</th>\n",
       "      <th>maturity_time</th>\n",
       "      <th>token_id</th>\n",
       "      <th>token_balance</th>\n",
       "      <th>unrealized_value</th>\n",
       "      <th>realized_value</th>\n",
       "      <th>pnl</th>\n",
       "      <th>last_balance_update_block</th>\n",
       "    </tr>\n",
       "  </thead>\n",
       "  <tbody>\n",
       "    <tr>\n",
       "      <th>0</th>\n",
       "      <td>agent0_erc4626</td>\n",
       "      <td>0x3ba1f47C99Df9AfEca4BA39d97673989312c1275</td>\n",
       "      <td>84</td>\n",
       "      <td>0xa870...77C4</td>\n",
       "      <td>0xa8702eb0Ca6DBA9b45030D7713689e0a2f7777C4</td>\n",
       "      <td>LONG</td>\n",
       "      <td>1729800000</td>\n",
       "      <td>LONG-1729800000</td>\n",
       "      <td>100250.937543966939989084</td>\n",
       "      <td>99994.936809383935721323</td>\n",
       "      <td>-100000.000000000000000000</td>\n",
       "      <td>-5.063190616064278677</td>\n",
       "      <td>84</td>\n",
       "    </tr>\n",
       "    <tr>\n",
       "      <th>1</th>\n",
       "      <td>agent0_erc4626</td>\n",
       "      <td>0x3ba1f47C99Df9AfEca4BA39d97673989312c1275</td>\n",
       "      <td>84</td>\n",
       "      <td>0xa870...77C4</td>\n",
       "      <td>0xa8702eb0Ca6DBA9b45030D7713689e0a2f7777C4</td>\n",
       "      <td>SHORT</td>\n",
       "      <td>1729800000</td>\n",
       "      <td>SHORT-1729800000</td>\n",
       "      <td>200.000000000000000000</td>\n",
       "      <td>0.500846391827168509</td>\n",
       "      <td>-0.514471971450155471</td>\n",
       "      <td>-0.013625579622986962</td>\n",
       "      <td>83</td>\n",
       "    </tr>\n",
       "  </tbody>\n",
       "</table>\n",
       "</div>"
      ],
      "text/plain": [
       "  hyperdrive_name                          hyperdrive_address  block_number  \\\n",
       "0  agent0_erc4626  0x3ba1f47C99Df9AfEca4BA39d97673989312c1275            84   \n",
       "1  agent0_erc4626  0x3ba1f47C99Df9AfEca4BA39d97673989312c1275            84   \n",
       "\n",
       "        username                              wallet_address token_type  \\\n",
       "0  0xa870...77C4  0xa8702eb0Ca6DBA9b45030D7713689e0a2f7777C4       LONG   \n",
       "1  0xa870...77C4  0xa8702eb0Ca6DBA9b45030D7713689e0a2f7777C4      SHORT   \n",
       "\n",
       "  maturity_time          token_id              token_balance  \\\n",
       "0    1729800000   LONG-1729800000  100250.937543966939989084   \n",
       "1    1729800000  SHORT-1729800000     200.000000000000000000   \n",
       "\n",
       "           unrealized_value              realized_value  \\\n",
       "0  99994.936809383935721323  -100000.000000000000000000   \n",
       "1      0.500846391827168509       -0.514471971450155471   \n",
       "\n",
       "                     pnl  last_balance_update_block  \n",
       "0  -5.063190616064278677                         84  \n",
       "1  -0.013625579622986962                         83  "
      ]
     },
     "execution_count": 21,
     "metadata": {},
     "output_type": "execute_result"
    }
   ],
   "source": [
    "remote_agent.get_positions(pool_filter=remote_hyperdrive)"
   ]
  },
  {
   "cell_type": "markdown",
   "metadata": {},
   "source": [
    "## Cleanup\n",
    "\n",
    "Recall that the local chain created at the beginning of this tutorial produces resources under\n",
    "the hood that need to be cleaned up. The call below releases all the resources used by\n",
    "interactive hyperdrive.\n",
    "\n",
    "**Note**: This cell will terminate process for the database, local chain, and the dashboard running above.\n"
   ]
  },
  {
   "cell_type": "code",
   "execution_count": 22,
   "metadata": {},
   "outputs": [
    {
     "name": "stdout",
     "output_type": "stream",
     "text": [
      "  Stopping...\n"
     ]
    }
   ],
   "source": [
    "chain.cleanup()"
   ]
  },
  {
   "cell_type": "markdown",
   "metadata": {},
   "source": [
    "## Final words\n",
    "\n",
    "In conclusion, this tutorial showcases the interactive hyperdrive workflow. We first explored\n",
    "the simulation Hyperdrive environment and the analysis tools it provides. We then explored\n",
    "trading policies and wrote a quick example of a custom policy, and how they plug into the\n",
    "interactive hyperdrive ecosystem. Finally, we showed how to execute trades and policies\n",
    "on any remote hyperdrive deployment.\n",
    "\n",
    "Happy trading!\n"
   ]
  }
 ],
 "metadata": {
  "kernelspec": {
   "display_name": ".venv",
   "language": "python",
   "name": "python3"
  },
  "language_info": {
   "codemirror_mode": {
    "name": "ipython",
    "version": 3
   },
   "file_extension": ".py",
   "mimetype": "text/x-python",
   "name": "python",
   "nbconvert_exporter": "python",
   "pygments_lexer": "ipython3",
   "version": "3.10.14"
  }
 },
 "nbformat": 4,
 "nbformat_minor": 2
}
