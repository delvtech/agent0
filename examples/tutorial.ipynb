{
 "cells": [
  {
   "cell_type": "markdown",
   "metadata": {},
   "source": [
    "# Agent0 Tutorial\n"
   ]
  },
  {
   "cell_type": "markdown",
   "metadata": {},
   "source": [
    "Agent0 provides a self contained Hyperdrive simulator using Interactive Local Hyperdrive. It works by managing a local Anvil\n",
    "instance with an interactive and customizable Hyperdrive deployment, a data collection service, and a dashboard server\n",
    "showing useful information for analysis.\n",
    "\n",
    "To start, follow the installation instructions outlined [here](../INSTALL.md) for interactive hyperdrive.\n"
   ]
  },
  {
   "cell_type": "markdown",
   "metadata": {},
   "source": [
    "## Simulating trades using Interactive Hyperdrive\n",
    "\n",
    "The following code initializes a local interactive hyperdrive with\n",
    "(1) a local chain,\n",
    "(2) a deployed hyperdrive pool on the local chain, and\n",
    "(3) a funded agent attached to the pool ready to trade.\n"
   ]
  },
  {
   "cell_type": "code",
   "execution_count": 1,
   "metadata": {},
   "outputs": [
    {
     "name": "stdout",
     "output_type": "stream",
     "text": [
      "\n",
      "24-10-08 09:54:55: INFO: interface.py:88::interface::initialize_engine:\n",
      "Database agent0_db does not exist, creating\n",
      "\n",
      "24-10-08 09:54:55: WARNING: interface.py:93::interface::initialize_engine:\n",
      "No postgres connection, retrying\n",
      "\n",
      "24-10-08 09:54:56: INFO: interface.py:88::interface::initialize_engine:\n",
      "Database agent0_db does not exist, creating\n"
     ]
    }
   ],
   "source": [
    "import datetime\n",
    "from fixedpointmath import FixedPoint\n",
    "from agent0 import LocalHyperdrive, LocalChain\n",
    "\n",
    "chain = LocalChain()\n",
    "hyperdrive = LocalHyperdrive(chain)\n",
    "# Attach the pool to the agent to set as the agent's active pool.\n",
    "agent = chain.init_agent(base=FixedPoint(100_000), eth=FixedPoint(10), pool=hyperdrive)"
   ]
  },
  {
   "cell_type": "markdown",
   "metadata": {},
   "source": [
    "After initializing, we can use the `agent` object to simulate trades on the deployed pool.\n"
   ]
  },
  {
   "cell_type": "code",
   "execution_count": 2,
   "metadata": {},
   "outputs": [],
   "source": [
    "open_long_event = agent.open_long(base=FixedPoint(100))\n",
    "open_short_event = agent.open_short(bonds=FixedPoint(100))\n",
    "add_liquidity_event = agent.add_liquidity(base=FixedPoint(100))"
   ]
  },
  {
   "cell_type": "markdown",
   "metadata": {},
   "source": [
    "The output of these trades represents the corresponding emitted event from Hyperdrive. For example, the open long event\n",
    "is shown below. See [here](https://agent0.readthedocs.io/en/latest/autoapi/agent0/core/hyperdrive/interactive/event_types/index.html)\n",
    "for documentation on the output event types.\n"
   ]
  },
  {
   "cell_type": "code",
   "execution_count": 3,
   "metadata": {},
   "outputs": [
    {
     "data": {
      "text/plain": [
       "OpenLongEventFP(log_index=7, transaction_index=0, transaction_hash=HexBytes('0xffcb21c5c55b426f4959a3c341e57f52a6edb3aef8c959ed9dcf82fe8530bfd2'), address='0x9E6E98816575eb8f4DD1833beB28bA91CAf31978', block_hash=HexBytes('0xaeb988b548ddcec94a855c4b3ab48cb6f99171cd7d6cf02cf77f08feee8b6e79'), block_number=24, args=OpenLongEventFP.OpenLongEventArgsFP(trader='0x7FF4Cf57a4855CBE565A49951b517ADcFa1Cb6EC', asset_id=452312848583266388373324160190187140051835877600158453279131187532639670656, maturity_time=1729008000, amount=FixedPoint(\"100.0\"), vault_share_price=FixedPoint(\"1.00000005707762557\"), as_base=True, bond_amount=FixedPoint(\"100.094931273470295072\"), extra_data=b'\\xa0'), __name__='OpenLongEvent')"
      ]
     },
     "execution_count": 3,
     "metadata": {},
     "output_type": "execute_result"
    }
   ],
   "source": [
    "open_long_event"
   ]
  },
  {
   "cell_type": "markdown",
   "metadata": {},
   "source": [
    "We can use Interactive Hyperdrive to simulate advancing time and closing a position. For example, we can simulate\n",
    "closing the long after a day.\n"
   ]
  },
  {
   "cell_type": "code",
   "execution_count": 4,
   "metadata": {},
   "outputs": [],
   "source": [
    "# Advance time for a day\n",
    "chain.advance_time(datetime.timedelta(days=1))\n",
    "close_long_event = agent.close_long(\n",
    "    maturity_time=open_long_event.args.maturity_time,\n",
    "    bonds=open_long_event.args.bond_amount,\n",
    ")"
   ]
  },
  {
   "cell_type": "markdown",
   "metadata": {},
   "source": [
    "## Analyzing Hyperdrive\n",
    "\n",
    "Interactive hyperdrive provides a fully managed data service that collects information from the chain, as\n",
    "well as providing an interactive dashboard to view information on the pool. Running the dashboard within Interactive\n",
    "Hyperdrive brings up a webpage that shows you basic information of the trades made on the pool, as well as information\n",
    "on a specific agent, including the value of the portfolio. You can also view the dashboard directly in your Jupyter notebook.\n"
   ]
  },
  {
   "cell_type": "code",
   "execution_count": 5,
   "metadata": {},
   "outputs": [
    {
     "name": "stdout",
     "output_type": "stream",
     "text": [
      "\n",
      "  You can now view your Streamlit app in your browser.\n",
      "\n",
      "  URL: http://localhost:7777\n",
      "\n",
      "  For better performance, install the Watchdog module:\n",
      "\n",
      "  $ xcode-select --install\n",
      "  $ pip install watchdog\n",
      "            \n"
     ]
    },
    {
     "data": {
      "text/html": [
       "\n",
       "        <iframe\n",
       "            width=\"1000\"\n",
       "            height=\"800\"\n",
       "            src=\"http://localhost:7777\"\n",
       "            frameborder=\"0\"\n",
       "            allowfullscreen\n",
       "            \n",
       "        ></iframe>\n",
       "        "
      ],
      "text/plain": [
       "<IPython.lib.display.IFrame at 0x12942c6d0>"
      ]
     },
     "metadata": {},
     "output_type": "display_data"
    }
   ],
   "source": [
    "dashboard = chain.get_dashboard_iframe()\n",
    "display(dashboard)"
   ]
  },
  {
   "cell_type": "markdown",
   "metadata": {},
   "source": [
    "For customized analysis, Agent0's simulated environment exposes the underlying data itself. For example, the table\n",
    "below shows the list of emitted events from the agent.\n"
   ]
  },
  {
   "cell_type": "code",
   "execution_count": 6,
   "metadata": {},
   "outputs": [
    {
     "data": {
      "text/html": [
       "<div>\n",
       "<style scoped>\n",
       "    .dataframe tbody tr th:only-of-type {\n",
       "        vertical-align: middle;\n",
       "    }\n",
       "\n",
       "    .dataframe tbody tr th {\n",
       "        vertical-align: top;\n",
       "    }\n",
       "\n",
       "    .dataframe thead th {\n",
       "        text-align: right;\n",
       "    }\n",
       "</style>\n",
       "<table border=\"1\" class=\"dataframe\">\n",
       "  <thead>\n",
       "    <tr style=\"text-align: right;\">\n",
       "      <th></th>\n",
       "      <th>hyperdrive_name</th>\n",
       "      <th>hyperdrive_address</th>\n",
       "      <th>transaction_hash</th>\n",
       "      <th>block_number</th>\n",
       "      <th>username</th>\n",
       "      <th>wallet_address</th>\n",
       "      <th>event_type</th>\n",
       "      <th>token_type</th>\n",
       "      <th>maturity_time</th>\n",
       "      <th>token_id</th>\n",
       "      <th>token_delta</th>\n",
       "      <th>base_delta</th>\n",
       "      <th>vault_share_delta</th>\n",
       "      <th>as_base</th>\n",
       "      <th>vault_share_price</th>\n",
       "    </tr>\n",
       "  </thead>\n",
       "  <tbody>\n",
       "    <tr>\n",
       "      <th>0</th>\n",
       "      <td>agent0_erc4626</td>\n",
       "      <td>0x9E6E98816575eb8f4DD1833beB28bA91CAf31978</td>\n",
       "      <td>ffcb21c5c55b426f4959a3c341e57f52a6edb3aef8c959...</td>\n",
       "      <td>24</td>\n",
       "      <td>0x7FF4...b6EC</td>\n",
       "      <td>0x7FF4Cf57a4855CBE565A49951b517ADcFa1Cb6EC</td>\n",
       "      <td>OpenLong</td>\n",
       "      <td>LONG</td>\n",
       "      <td>1729008000</td>\n",
       "      <td>LONG-1729008000</td>\n",
       "      <td>100.094931273470295072</td>\n",
       "      <td>-100.000000000000000000</td>\n",
       "      <td>0E-18</td>\n",
       "      <td>True</td>\n",
       "      <td>1.000000057077625570</td>\n",
       "    </tr>\n",
       "    <tr>\n",
       "      <th>1</th>\n",
       "      <td>agent0_erc4626</td>\n",
       "      <td>0x9E6E98816575eb8f4DD1833beB28bA91CAf31978</td>\n",
       "      <td>7386e12a53e06cd8935427d48800a8d45c8a5a0ed2fd68...</td>\n",
       "      <td>25</td>\n",
       "      <td>0x7FF4...b6EC</td>\n",
       "      <td>0x7FF4Cf57a4855CBE565A49951b517ADcFa1Cb6EC</td>\n",
       "      <td>OpenShort</td>\n",
       "      <td>SHORT</td>\n",
       "      <td>1729008000</td>\n",
       "      <td>SHORT-1729008000</td>\n",
       "      <td>100.000000000000000000</td>\n",
       "      <td>-0.097725446539902683</td>\n",
       "      <td>0E-18</td>\n",
       "      <td>True</td>\n",
       "      <td>1.000000076103501845</td>\n",
       "    </tr>\n",
       "    <tr>\n",
       "      <th>2</th>\n",
       "      <td>agent0_erc4626</td>\n",
       "      <td>0x9E6E98816575eb8f4DD1833beB28bA91CAf31978</td>\n",
       "      <td>111456b34dda5454fe0ab9d35459d97cfc94a25724db76...</td>\n",
       "      <td>26</td>\n",
       "      <td>0x7FF4...b6EC</td>\n",
       "      <td>0x7FF4Cf57a4855CBE565A49951b517ADcFa1Cb6EC</td>\n",
       "      <td>AddLiquidity</td>\n",
       "      <td>LP</td>\n",
       "      <td>None</td>\n",
       "      <td>LP</td>\n",
       "      <td>99.999990485357640988</td>\n",
       "      <td>-100.000000000000000000</td>\n",
       "      <td>0E-18</td>\n",
       "      <td>True</td>\n",
       "      <td>1.000000095129378483</td>\n",
       "    </tr>\n",
       "    <tr>\n",
       "      <th>3</th>\n",
       "      <td>agent0_erc4626</td>\n",
       "      <td>0x9E6E98816575eb8f4DD1833beB28bA91CAf31978</td>\n",
       "      <td>4f3c61bd5dd4a8663403278420957e55969e31286f26dc...</td>\n",
       "      <td>75</td>\n",
       "      <td>0x7FF4...b6EC</td>\n",
       "      <td>0x7FF4Cf57a4855CBE565A49951b517ADcFa1Cb6EC</td>\n",
       "      <td>CloseLong</td>\n",
       "      <td>LONG</td>\n",
       "      <td>1729008000</td>\n",
       "      <td>LONG-1729008000</td>\n",
       "      <td>-100.094931273470295072</td>\n",
       "      <td>100.012351458545279946</td>\n",
       "      <td>0E-18</td>\n",
       "      <td>True</td>\n",
       "      <td>1.000137119495533768</td>\n",
       "    </tr>\n",
       "  </tbody>\n",
       "</table>\n",
       "</div>"
      ],
      "text/plain": [
       "  hyperdrive_name                          hyperdrive_address  \\\n",
       "0  agent0_erc4626  0x9E6E98816575eb8f4DD1833beB28bA91CAf31978   \n",
       "1  agent0_erc4626  0x9E6E98816575eb8f4DD1833beB28bA91CAf31978   \n",
       "2  agent0_erc4626  0x9E6E98816575eb8f4DD1833beB28bA91CAf31978   \n",
       "3  agent0_erc4626  0x9E6E98816575eb8f4DD1833beB28bA91CAf31978   \n",
       "\n",
       "                                    transaction_hash  block_number  \\\n",
       "0  ffcb21c5c55b426f4959a3c341e57f52a6edb3aef8c959...            24   \n",
       "1  7386e12a53e06cd8935427d48800a8d45c8a5a0ed2fd68...            25   \n",
       "2  111456b34dda5454fe0ab9d35459d97cfc94a25724db76...            26   \n",
       "3  4f3c61bd5dd4a8663403278420957e55969e31286f26dc...            75   \n",
       "\n",
       "        username                              wallet_address    event_type  \\\n",
       "0  0x7FF4...b6EC  0x7FF4Cf57a4855CBE565A49951b517ADcFa1Cb6EC      OpenLong   \n",
       "1  0x7FF4...b6EC  0x7FF4Cf57a4855CBE565A49951b517ADcFa1Cb6EC     OpenShort   \n",
       "2  0x7FF4...b6EC  0x7FF4Cf57a4855CBE565A49951b517ADcFa1Cb6EC  AddLiquidity   \n",
       "3  0x7FF4...b6EC  0x7FF4Cf57a4855CBE565A49951b517ADcFa1Cb6EC     CloseLong   \n",
       "\n",
       "  token_type maturity_time          token_id              token_delta  \\\n",
       "0       LONG    1729008000   LONG-1729008000   100.094931273470295072   \n",
       "1      SHORT    1729008000  SHORT-1729008000   100.000000000000000000   \n",
       "2         LP          None                LP    99.999990485357640988   \n",
       "3       LONG    1729008000   LONG-1729008000  -100.094931273470295072   \n",
       "\n",
       "                base_delta vault_share_delta  as_base     vault_share_price  \n",
       "0  -100.000000000000000000             0E-18     True  1.000000057077625570  \n",
       "1    -0.097725446539902683             0E-18     True  1.000000076103501845  \n",
       "2  -100.000000000000000000             0E-18     True  1.000000095129378483  \n",
       "3   100.012351458545279946             0E-18     True  1.000137119495533768  "
      ]
     },
     "execution_count": 6,
     "metadata": {},
     "output_type": "execute_result"
    }
   ],
   "source": [
    "agent.get_trade_events()"
   ]
  },
  {
   "cell_type": "markdown",
   "metadata": {},
   "source": [
    "Additionally, we can query the database for the list of open and closed positions, with additional columns\n",
    "with the unrealized value (i.e., the value of an open position if it was to be closed at this time), the\n",
    "realized value (i.e., the value in base spent/received from trades on this position), and the PnL (i.e.,\n",
    "unrealized value + realized value).\n"
   ]
  },
  {
   "cell_type": "code",
   "execution_count": 7,
   "metadata": {},
   "outputs": [
    {
     "data": {
      "text/html": [
       "<div>\n",
       "<style scoped>\n",
       "    .dataframe tbody tr th:only-of-type {\n",
       "        vertical-align: middle;\n",
       "    }\n",
       "\n",
       "    .dataframe tbody tr th {\n",
       "        vertical-align: top;\n",
       "    }\n",
       "\n",
       "    .dataframe thead th {\n",
       "        text-align: right;\n",
       "    }\n",
       "</style>\n",
       "<table border=\"1\" class=\"dataframe\">\n",
       "  <thead>\n",
       "    <tr style=\"text-align: right;\">\n",
       "      <th></th>\n",
       "      <th>hyperdrive_name</th>\n",
       "      <th>hyperdrive_address</th>\n",
       "      <th>block_number</th>\n",
       "      <th>username</th>\n",
       "      <th>wallet_address</th>\n",
       "      <th>token_type</th>\n",
       "      <th>maturity_time</th>\n",
       "      <th>token_id</th>\n",
       "      <th>token_balance</th>\n",
       "      <th>unrealized_value</th>\n",
       "      <th>realized_value</th>\n",
       "      <th>pnl</th>\n",
       "      <th>last_balance_update_block</th>\n",
       "    </tr>\n",
       "  </thead>\n",
       "  <tbody>\n",
       "    <tr>\n",
       "      <th>0</th>\n",
       "      <td>agent0_erc4626</td>\n",
       "      <td>0x9E6E98816575eb8f4DD1833beB28bA91CAf31978</td>\n",
       "      <td>75</td>\n",
       "      <td>0x7FF4...b6EC</td>\n",
       "      <td>0x7FF4Cf57a4855CBE565A49951b517ADcFa1Cb6EC</td>\n",
       "      <td>LONG</td>\n",
       "      <td>1729008000</td>\n",
       "      <td>LONG-1729008000</td>\n",
       "      <td>0E-18</td>\n",
       "      <td>0E-18</td>\n",
       "      <td>0.012351458545279946</td>\n",
       "      <td>0.012351458545279946</td>\n",
       "      <td>75</td>\n",
       "    </tr>\n",
       "    <tr>\n",
       "      <th>1</th>\n",
       "      <td>agent0_erc4626</td>\n",
       "      <td>0x9E6E98816575eb8f4DD1833beB28bA91CAf31978</td>\n",
       "      <td>75</td>\n",
       "      <td>0x7FF4...b6EC</td>\n",
       "      <td>0x7FF4Cf57a4855CBE565A49951b517ADcFa1Cb6EC</td>\n",
       "      <td>LP</td>\n",
       "      <td>None</td>\n",
       "      <td>LP</td>\n",
       "      <td>99.999990485357640988</td>\n",
       "      <td>100.013702436052047094</td>\n",
       "      <td>-100.000000000000000000</td>\n",
       "      <td>0.013702436052047094</td>\n",
       "      <td>26</td>\n",
       "    </tr>\n",
       "    <tr>\n",
       "      <th>2</th>\n",
       "      <td>agent0_erc4626</td>\n",
       "      <td>0x9E6E98816575eb8f4DD1833beB28bA91CAf31978</td>\n",
       "      <td>75</td>\n",
       "      <td>0x7FF4...b6EC</td>\n",
       "      <td>0x7FF4Cf57a4855CBE565A49951b517ADcFa1Cb6EC</td>\n",
       "      <td>SHORT</td>\n",
       "      <td>1729008000</td>\n",
       "      <td>SHORT-1729008000</td>\n",
       "      <td>100.000000000000000000</td>\n",
       "      <td>0.095257951295014859</td>\n",
       "      <td>-0.097725446539902683</td>\n",
       "      <td>-0.002467495244887824</td>\n",
       "      <td>25</td>\n",
       "    </tr>\n",
       "  </tbody>\n",
       "</table>\n",
       "</div>"
      ],
      "text/plain": [
       "  hyperdrive_name                          hyperdrive_address  block_number  \\\n",
       "0  agent0_erc4626  0x9E6E98816575eb8f4DD1833beB28bA91CAf31978            75   \n",
       "1  agent0_erc4626  0x9E6E98816575eb8f4DD1833beB28bA91CAf31978            75   \n",
       "2  agent0_erc4626  0x9E6E98816575eb8f4DD1833beB28bA91CAf31978            75   \n",
       "\n",
       "        username                              wallet_address token_type  \\\n",
       "0  0x7FF4...b6EC  0x7FF4Cf57a4855CBE565A49951b517ADcFa1Cb6EC       LONG   \n",
       "1  0x7FF4...b6EC  0x7FF4Cf57a4855CBE565A49951b517ADcFa1Cb6EC         LP   \n",
       "2  0x7FF4...b6EC  0x7FF4Cf57a4855CBE565A49951b517ADcFa1Cb6EC      SHORT   \n",
       "\n",
       "  maturity_time          token_id           token_balance  \\\n",
       "0    1729008000   LONG-1729008000                   0E-18   \n",
       "1          None                LP   99.999990485357640988   \n",
       "2    1729008000  SHORT-1729008000  100.000000000000000000   \n",
       "\n",
       "         unrealized_value           realized_value                    pnl  \\\n",
       "0                   0E-18     0.012351458545279946   0.012351458545279946   \n",
       "1  100.013702436052047094  -100.000000000000000000   0.013702436052047094   \n",
       "2    0.095257951295014859    -0.097725446539902683  -0.002467495244887824   \n",
       "\n",
       "   last_balance_update_block  \n",
       "0                         75  \n",
       "1                         26  \n",
       "2                         25  "
      ]
     },
     "execution_count": 7,
     "metadata": {},
     "output_type": "execute_result"
    }
   ],
   "source": [
    "agent.get_positions(show_closed_positions=True)"
   ]
  },
  {
   "cell_type": "markdown",
   "metadata": {},
   "source": [
    "See the `get_*` functions defined in the\n",
    "[pool](https://agent0.readthedocs.io/en/latest/autoapi/agent0/core/hyperdrive/interactive/local_hyperdrive/index.html)\n",
    "and [agent](https://agent0.readthedocs.io/en/latest/autoapi/agent0/core/hyperdrive/interactive/local_hyperdrive_agent/index.html)\n",
    "for more information.\n"
   ]
  },
  {
   "cell_type": "markdown",
   "metadata": {},
   "source": [
    "## Trading policies\n",
    "\n",
    "Agent0 introduces agent policies, which allows an agent to make trades based on some defined behavior.\n",
    "Agent0 provides a set of ready-to-use policies. For example, the `random` policy simply makes random trades\n",
    "on the pool.\n"
   ]
  },
  {
   "cell_type": "code",
   "execution_count": 8,
   "metadata": {},
   "outputs": [
    {
     "name": "stdout",
     "output_type": "stream",
     "text": [
      "  A simple demonstration agent that chooses its actions randomly.\n",
      "  It can take 7 actions: open/close longs and shorts, add/remove liquidity, and redeem withdraw shares.\n",
      "  Trade size is randomly drawn from a normal distribution with mean of 10% of budget and standard deviation of 1% of budget.\n",
      "  A close action picks a random open position of the given type (long or short) and attempts to close its entire size.\n",
      "  Withdrawals of liquidity and redemption of withdrawal shares is sized the same as an open position: N(0.1, 0.01) * budget.\n"
     ]
    }
   ],
   "source": [
    "from agent0 import PolicyZoo\n",
    "\n",
    "print(PolicyZoo.random.description())"
   ]
  },
  {
   "cell_type": "markdown",
   "metadata": {},
   "source": [
    "We can set a policy for an agent and execute the policy using interactive hyperdrive.\n",
    "The output is then a list of output events corresponding with the list of actions the\n",
    "policy took in that step. In the example below, we set the random policy to the previously\n",
    "created agent and execute one iteration of the policy, then print out the trade the agent made.\n"
   ]
  },
  {
   "cell_type": "code",
   "execution_count": 9,
   "metadata": {},
   "outputs": [
    {
     "data": {
      "text/plain": [
       "[AddLiquidityEventFP(log_index=7, transaction_index=0, transaction_hash=HexBytes('0xd80c55e9a0ac8a62322c7a029ae8f45417f9e708cf8543e3e884f012f95c9157'), address='0x9E6E98816575eb8f4DD1833beB28bA91CAf31978', block_hash=HexBytes('0x75191bf0d6726b2045a615d9a47864c2f2f5f3d2f57876b5df4ea475471f5cdc'), block_number=76, args=AddLiquidityEventFP.AddLiquidityEventArgsFP(provider='0x7FF4Cf57a4855CBE565A49951b517ADcFa1Cb6EC', lp_amount=FixedPoint(\"11275.081450772102970209\"), amount=FixedPoint(\"11276.627699076004052992\"), vault_share_price=FixedPoint(\"1.000137138524017776\"), as_base=True, lp_share_price=FixedPoint(\"1.000137138548455491\"), extra_data=b'\\xa0'), __name__='AddLiquidityEvent')]"
      ]
     },
     "execution_count": 9,
     "metadata": {},
     "output_type": "execute_result"
    }
   ],
   "source": [
    "agent.set_active(policy=PolicyZoo.random, policy_config=PolicyZoo.random.Config(rng_seed=123))\n",
    "agent.execute_policy_action()"
   ]
  },
  {
   "cell_type": "markdown",
   "metadata": {},
   "source": [
    "See\n",
    "[here](https://agent0.readthedocs.io/en/latest/autoapi/agent0/hyperdrive/policies/index.html#)\n",
    "for a list and description of all implemented policies.\n"
   ]
  },
  {
   "cell_type": "markdown",
   "metadata": {},
   "source": [
    "### Custom Policies\n",
    "\n",
    "Agent0 also provides an interface to write a custom policy. In this tutorial, we'll write a\n",
    "policy that simply opens a long if the fixed rate is above a threshold.\n",
    "Similarly to existing policies, this policy can then be attached to interactive hyperdrive to\n",
    "simulate the policy within the simulator.\n",
    "\n",
    "We'll start by defining the class that subclasses from the base policy and define a custom policy\n",
    "configuration that defines the threshold. We need to overwrite the `action` method in the\n",
    "policy, which defines what actions the policy takes. In the example below, the agent will simply\n",
    "open a single long for `open_long_amount` when the fixed rate reaches the `fixed_rate_threshold`,\n",
    "and close the long at maturity.\n"
   ]
  },
  {
   "cell_type": "code",
   "execution_count": 10,
   "metadata": {},
   "outputs": [],
   "source": [
    "# Relevant imports\n",
    "from agent0 import HyperdriveBasePolicy, open_long_trade, close_long_trade\n",
    "from dataclasses import dataclass"
   ]
  },
  {
   "cell_type": "code",
   "execution_count": 11,
   "metadata": {},
   "outputs": [],
   "source": [
    "class OpenLongPolicy(HyperdriveBasePolicy):\n",
    "    @dataclass(kw_only=True)\n",
    "    class Config(HyperdriveBasePolicy.Config):\n",
    "        fixed_rate_threshold: FixedPoint\n",
    "        open_long_amount: FixedPoint\n",
    "\n",
    "    def action(self, interface, wallet):\n",
    "        # Defines if the bot is done trading. We expect this bot to run continuously,\n",
    "        # so this is always false.\n",
    "        done_trading = False\n",
    "        # If no longs in wallet, we check our fixed rate threshold and open the long if threshold reached.\n",
    "        if len(wallet.longs) == 0:\n",
    "            if interface.calc_spot_rate() > self.config.fixed_rate_threshold:\n",
    "                return [open_long_trade(self.config.open_long_amount)], done_trading\n",
    "        # If there are longs in the wallet, we check for maturity and close them if maturity reached.\n",
    "        else:\n",
    "            for maturity_time, long in wallet.longs.items():\n",
    "                if interface.get_block_timestamp(interface.get_current_block()) >= maturity_time:\n",
    "                    return [close_long_trade(long.balance, maturity_time)], done_trading\n",
    "        # We don't do any trades otherwise.\n",
    "        return [], done_trading"
   ]
  },
  {
   "cell_type": "markdown",
   "metadata": {},
   "source": [
    "See [here](custom_policy.py) for a more in depth example of writing a policy.\n"
   ]
  },
  {
   "cell_type": "markdown",
   "metadata": {},
   "source": [
    "### Running the trading policy in Interactive Hyperdrive\n",
    "\n",
    "We can test our new policy using interactive hyperdrive before running it on an actual chain. We can do this by\n",
    "either setting a new active policy with an existing agent, or initializing a new agent while setting the policy\n",
    "during initialization. We'll do the latter here. Note that we pass in the fixed rate threshold of 6% as a\n",
    "parameter to the policy.\n"
   ]
  },
  {
   "cell_type": "code",
   "execution_count": 12,
   "metadata": {},
   "outputs": [],
   "source": [
    "policy_agent = chain.init_agent(\n",
    "    base=FixedPoint(1_000_000),\n",
    "    eth=FixedPoint(10),\n",
    "    pool=hyperdrive,\n",
    "    policy=OpenLongPolicy,\n",
    "    policy_config=OpenLongPolicy.Config(\n",
    "        fixed_rate_threshold=FixedPoint(0.06),\n",
    "        open_long_amount=FixedPoint(100_000),\n",
    "    ),\n",
    ")"
   ]
  },
  {
   "cell_type": "markdown",
   "metadata": {},
   "source": [
    "Lets take a look at the fixed rate after the set of trades we've made. We can see below that the current fixed rate sits\n",
    "right around 5%.\n"
   ]
  },
  {
   "cell_type": "code",
   "execution_count": 13,
   "metadata": {},
   "outputs": [
    {
     "data": {
      "text/html": [
       "<div>\n",
       "<style scoped>\n",
       "    .dataframe tbody tr th:only-of-type {\n",
       "        vertical-align: middle;\n",
       "    }\n",
       "\n",
       "    .dataframe tbody tr th {\n",
       "        vertical-align: top;\n",
       "    }\n",
       "\n",
       "    .dataframe thead th {\n",
       "        text-align: right;\n",
       "    }\n",
       "</style>\n",
       "<table border=\"1\" class=\"dataframe\">\n",
       "  <thead>\n",
       "    <tr style=\"text-align: right;\">\n",
       "      <th></th>\n",
       "      <th>block_number</th>\n",
       "      <th>timestamp</th>\n",
       "      <th>fixed_rate</th>\n",
       "    </tr>\n",
       "  </thead>\n",
       "  <tbody>\n",
       "    <tr>\n",
       "      <th>0</th>\n",
       "      <td>21</td>\n",
       "      <td>2024-10-08 16:59:07</td>\n",
       "      <td>0.050000000000000000</td>\n",
       "    </tr>\n",
       "    <tr>\n",
       "      <th>1</th>\n",
       "      <td>22</td>\n",
       "      <td>2024-10-08 16:59:19</td>\n",
       "      <td>0.050000000000000000</td>\n",
       "    </tr>\n",
       "    <tr>\n",
       "      <th>2</th>\n",
       "      <td>23</td>\n",
       "      <td>2024-10-08 16:59:31</td>\n",
       "      <td>0.050000000000000000</td>\n",
       "    </tr>\n",
       "    <tr>\n",
       "      <th>3</th>\n",
       "      <td>24</td>\n",
       "      <td>2024-10-08 16:59:43</td>\n",
       "      <td>0.049999757141356994</td>\n",
       "    </tr>\n",
       "    <tr>\n",
       "      <th>4</th>\n",
       "      <td>25</td>\n",
       "      <td>2024-10-08 16:59:55</td>\n",
       "      <td>0.049999999766702777</td>\n",
       "    </tr>\n",
       "    <tr>\n",
       "      <th>5</th>\n",
       "      <td>26</td>\n",
       "      <td>2024-10-08 17:00:07</td>\n",
       "      <td>0.049999999766702777</td>\n",
       "    </tr>\n",
       "    <tr>\n",
       "      <th>6</th>\n",
       "      <td>74</td>\n",
       "      <td>2024-10-09 17:00:19</td>\n",
       "      <td>0.049999999766702777</td>\n",
       "    </tr>\n",
       "    <tr>\n",
       "      <th>7</th>\n",
       "      <td>75</td>\n",
       "      <td>2024-10-09 17:00:31</td>\n",
       "      <td>0.050000206462208817</td>\n",
       "    </tr>\n",
       "    <tr>\n",
       "      <th>8</th>\n",
       "      <td>76</td>\n",
       "      <td>2024-10-09 17:00:43</td>\n",
       "      <td>0.050000206462208817</td>\n",
       "    </tr>\n",
       "  </tbody>\n",
       "</table>\n",
       "</div>"
      ],
      "text/plain": [
       "   block_number           timestamp            fixed_rate\n",
       "0            21 2024-10-08 16:59:07  0.050000000000000000\n",
       "1            22 2024-10-08 16:59:19  0.050000000000000000\n",
       "2            23 2024-10-08 16:59:31  0.050000000000000000\n",
       "3            24 2024-10-08 16:59:43  0.049999757141356994\n",
       "4            25 2024-10-08 16:59:55  0.049999999766702777\n",
       "5            26 2024-10-08 17:00:07  0.049999999766702777\n",
       "6            74 2024-10-09 17:00:19  0.049999999766702777\n",
       "7            75 2024-10-09 17:00:31  0.050000206462208817\n",
       "8            76 2024-10-09 17:00:43  0.050000206462208817"
      ]
     },
     "execution_count": 13,
     "metadata": {},
     "output_type": "execute_result"
    }
   ],
   "source": [
    "hyperdrive.get_pool_info()[[\"block_number\", \"timestamp\", \"fixed_rate\"]]"
   ]
  },
  {
   "cell_type": "markdown",
   "metadata": {},
   "source": [
    "We can now execute our new agent's policy. Since the fixed rate is below the threshold, we expect the agent to not make\n",
    "any trades, denoted by the output of `execute_policy_action` being an empty list.\n"
   ]
  },
  {
   "cell_type": "code",
   "execution_count": 14,
   "metadata": {},
   "outputs": [
    {
     "data": {
      "text/plain": [
       "[]"
      ]
     },
     "execution_count": 14,
     "metadata": {},
     "output_type": "execute_result"
    }
   ],
   "source": [
    "policy_agent.execute_policy_action()"
   ]
  },
  {
   "cell_type": "markdown",
   "metadata": {},
   "source": [
    "Let's make a trade to push the fixed rate to be above 6%.\n"
   ]
  },
  {
   "cell_type": "code",
   "execution_count": 15,
   "metadata": {},
   "outputs": [
    {
     "data": {
      "text/html": [
       "<div>\n",
       "<style scoped>\n",
       "    .dataframe tbody tr th:only-of-type {\n",
       "        vertical-align: middle;\n",
       "    }\n",
       "\n",
       "    .dataframe tbody tr th {\n",
       "        vertical-align: top;\n",
       "    }\n",
       "\n",
       "    .dataframe thead th {\n",
       "        text-align: right;\n",
       "    }\n",
       "</style>\n",
       "<table border=\"1\" class=\"dataframe\">\n",
       "  <thead>\n",
       "    <tr style=\"text-align: right;\">\n",
       "      <th></th>\n",
       "      <th>block_number</th>\n",
       "      <th>timestamp</th>\n",
       "      <th>fixed_rate</th>\n",
       "    </tr>\n",
       "  </thead>\n",
       "  <tbody>\n",
       "    <tr>\n",
       "      <th>0</th>\n",
       "      <td>21</td>\n",
       "      <td>2024-10-08 16:59:07</td>\n",
       "      <td>0.050000000000000000</td>\n",
       "    </tr>\n",
       "    <tr>\n",
       "      <th>1</th>\n",
       "      <td>22</td>\n",
       "      <td>2024-10-08 16:59:19</td>\n",
       "      <td>0.050000000000000000</td>\n",
       "    </tr>\n",
       "    <tr>\n",
       "      <th>2</th>\n",
       "      <td>23</td>\n",
       "      <td>2024-10-08 16:59:31</td>\n",
       "      <td>0.050000000000000000</td>\n",
       "    </tr>\n",
       "    <tr>\n",
       "      <th>3</th>\n",
       "      <td>24</td>\n",
       "      <td>2024-10-08 16:59:43</td>\n",
       "      <td>0.049999757141356994</td>\n",
       "    </tr>\n",
       "    <tr>\n",
       "      <th>4</th>\n",
       "      <td>25</td>\n",
       "      <td>2024-10-08 16:59:55</td>\n",
       "      <td>0.049999999766702777</td>\n",
       "    </tr>\n",
       "    <tr>\n",
       "      <th>5</th>\n",
       "      <td>26</td>\n",
       "      <td>2024-10-08 17:00:07</td>\n",
       "      <td>0.049999999766702777</td>\n",
       "    </tr>\n",
       "    <tr>\n",
       "      <th>6</th>\n",
       "      <td>74</td>\n",
       "      <td>2024-10-09 17:00:19</td>\n",
       "      <td>0.049999999766702777</td>\n",
       "    </tr>\n",
       "    <tr>\n",
       "      <th>7</th>\n",
       "      <td>75</td>\n",
       "      <td>2024-10-09 17:00:31</td>\n",
       "      <td>0.050000206462208817</td>\n",
       "    </tr>\n",
       "    <tr>\n",
       "      <th>8</th>\n",
       "      <td>76</td>\n",
       "      <td>2024-10-09 17:00:43</td>\n",
       "      <td>0.050000206462208817</td>\n",
       "    </tr>\n",
       "    <tr>\n",
       "      <th>9</th>\n",
       "      <td>77</td>\n",
       "      <td>2024-10-09 17:00:55</td>\n",
       "      <td>0.050000206462208817</td>\n",
       "    </tr>\n",
       "    <tr>\n",
       "      <th>10</th>\n",
       "      <td>78</td>\n",
       "      <td>2024-10-09 17:01:07</td>\n",
       "      <td>0.050000206462208817</td>\n",
       "    </tr>\n",
       "    <tr>\n",
       "      <th>11</th>\n",
       "      <td>79</td>\n",
       "      <td>2024-10-09 17:01:19</td>\n",
       "      <td>0.133570738488397626</td>\n",
       "    </tr>\n",
       "  </tbody>\n",
       "</table>\n",
       "</div>"
      ],
      "text/plain": [
       "    block_number           timestamp            fixed_rate\n",
       "0             21 2024-10-08 16:59:07  0.050000000000000000\n",
       "1             22 2024-10-08 16:59:19  0.050000000000000000\n",
       "2             23 2024-10-08 16:59:31  0.050000000000000000\n",
       "3             24 2024-10-08 16:59:43  0.049999757141356994\n",
       "4             25 2024-10-08 16:59:55  0.049999999766702777\n",
       "5             26 2024-10-08 17:00:07  0.049999999766702777\n",
       "6             74 2024-10-09 17:00:19  0.049999999766702777\n",
       "7             75 2024-10-09 17:00:31  0.050000206462208817\n",
       "8             76 2024-10-09 17:00:43  0.050000206462208817\n",
       "9             77 2024-10-09 17:00:55  0.050000206462208817\n",
       "10            78 2024-10-09 17:01:07  0.050000206462208817\n",
       "11            79 2024-10-09 17:01:19  0.133570738488397626"
      ]
     },
     "execution_count": 15,
     "metadata": {},
     "output_type": "execute_result"
    }
   ],
   "source": [
    "policy_agent.open_short(bonds=FixedPoint(20_000_000))\n",
    "hyperdrive.get_pool_info()[[\"block_number\", \"timestamp\", \"fixed_rate\"]]"
   ]
  },
  {
   "cell_type": "markdown",
   "metadata": {},
   "source": [
    "Once again, let's execute our policy and view the output. We can see that our policy opened a new long because the\n",
    "fixed rate is above 6%.\n"
   ]
  },
  {
   "cell_type": "code",
   "execution_count": 16,
   "metadata": {},
   "outputs": [
    {
     "data": {
      "text/plain": [
       "[OpenLongEventFP(log_index=7, transaction_index=0, transaction_hash=HexBytes('0xdd2bcd271454bd6ea48c5fbad750984a74788492a10eb75ec8573313a6ddaeb8'), address='0x9E6E98816575eb8f4DD1833beB28bA91CAf31978', block_hash=HexBytes('0x512a22df15d27f2b1f6ab9bc32e6918a9a5c190d05ee5593c9327dad92c50e64'), block_number=80, args=OpenLongEventFP.OpenLongEventArgsFP(trader='0x0D9e07b4cF5C3894B8980ef815af9D08F630d9A3', asset_id=452312848583266388373324160190187140051835877600158453279131187532639760656, maturity_time=1729098000, amount=FixedPoint(\"100000.0\"), vault_share_price=FixedPoint(\"1.000137214637956344\"), as_base=True, bond_amount=FixedPoint(\"100252.698991737375605802\"), extra_data=b'\\xa0'), __name__='OpenLongEvent')]"
      ]
     },
     "execution_count": 16,
     "metadata": {},
     "output_type": "execute_result"
    }
   ],
   "source": [
    "policy_agent.execute_policy_action()"
   ]
  },
  {
   "cell_type": "markdown",
   "metadata": {},
   "source": [
    "## Connecting to a remote chain\n",
    "\n",
    "Along with a fully managed simulator, interactive hyperdrive also provides an interface for connecting to any existing remote chain and deployed hyperdrive pool. We can use this interface to make trades or execute any policy on the deployed hyperdrive pool.\n",
    "\n",
    "In this tutorial, we'll use the Anvil node and Hyperdrive pool being hosted by the `LocalChain`\n",
    "and `LocalHyperdrive` objects, but we can simply replace the corresponding configurations with any valid RPC and contract addresses.\n"
   ]
  },
  {
   "cell_type": "code",
   "execution_count": 17,
   "metadata": {},
   "outputs": [
    {
     "name": "stdout",
     "output_type": "stream",
     "text": [
      "\n",
      "24-10-08 09:55:02: INFO: interface.py:88::interface::initialize_engine:\n",
      "Database agent0_db does not exist, creating\n",
      "\n",
      "24-10-08 09:55:02: WARNING: interface.py:93::interface::initialize_engine:\n",
      "No postgres connection, retrying\n",
      "\n",
      "24-10-08 09:55:03: INFO: interface.py:88::interface::initialize_engine:\n",
      "Database agent0_db does not exist, creating\n"
     ]
    }
   ],
   "source": [
    "from agent0 import Chain, Hyperdrive\n",
    "\n",
    "# Get the RPC address and the hyperdrive contract addresses to connect to from the managed\n",
    "# interactive hyperdrive objects.\n",
    "rpc_uri = chain.rpc_uri\n",
    "hyperdrive_address = hyperdrive.hyperdrive_address\n",
    "\n",
    "# We can specify other parameters as such.\n",
    "# rpc_uri = \"<rpc_uri>\"\n",
    "# hyperdrive_address = \"0x<hyperdrive_address>\"\n",
    "\n",
    "# Connect to the remote chain and hyperdrive objects.\n",
    "# We need to set a different db port here to avoid port collisions with the local chain.\n",
    "remote_chain = Chain(rpc_uri, Chain.Config(db_port=1234))\n",
    "remote_hyperdrive = Hyperdrive(remote_chain, hyperdrive_address)"
   ]
  },
  {
   "cell_type": "markdown",
   "metadata": {},
   "source": [
    "We now need to initialize an agent by providing a private key to a wallet. In this tutorial,\n",
    "we'll simply use a random private key to initialize a new wallet, then fund the agent using\n",
    "the provided `add_funds` method.\n",
    "\n",
    "<div class=\"alert alert-block alert-info\"> \n",
    "NOTE:: The <code>add_funds</code> method calls the <code>anvil_setBalance</code> to fund Eth and \n",
    "<code>mint</code> on the base token contract to fund the wallet, which is only possible due to the \n",
    "remote chain and base token contract supporting such calls. It's up to the user to ensure the wallet \n",
    "associated with the private key is funded when running on a non-test chain.\n",
    "</div>\n",
    "\n",
    "<div class=\"alert alert-block alert-danger\"> \n",
    "WARNING:: This tutorial generates a random private key and funds this wallet. In practice, the private\n",
    "key should be passed into the script via an environment variable secret, and one should limit access\n",
    "to the generated agent object to only the owner of the private key.\n",
    "</div>\n",
    "\n",
    "We also attach our custom agent as well to allow the agent to execute the policy we wrote earlier.\n"
   ]
  },
  {
   "cell_type": "code",
   "execution_count": 18,
   "metadata": {},
   "outputs": [],
   "source": [
    "from agent0.core.base.make_key import make_private_key\n",
    "\n",
    "remote_agent = remote_chain.init_agent(\n",
    "    private_key=make_private_key(),\n",
    "    pool=remote_hyperdrive,\n",
    "    policy=OpenLongPolicy,\n",
    "    policy_config=OpenLongPolicy.Config(\n",
    "        fixed_rate_threshold=FixedPoint(0.06),\n",
    "        open_long_amount=FixedPoint(100_000),\n",
    "    ),\n",
    ")\n",
    "# Add funds to the agent\n",
    "remote_agent.add_funds(base=FixedPoint(1_000_000), eth=FixedPoint(100))\n",
    "# Give the hyperdrive contract max approval to withdrawal funds from the remote agent\n",
    "# TODO need to add setting a custom approval amount\n",
    "remote_agent.set_max_approval()"
   ]
  },
  {
   "cell_type": "markdown",
   "metadata": {},
   "source": [
    "This agent is now able to make trades on the remote chain, as well as executing the underlying policy\n"
   ]
  },
  {
   "cell_type": "code",
   "execution_count": 19,
   "metadata": {},
   "outputs": [
    {
     "data": {
      "text/plain": [
       "OpenShortEventFP(log_index=7, transaction_index=0, transaction_hash=HexBytes('0xd17cfba16d6dbe8875c4016cc747476757b620e0ca5a33e7a1eeb0035fed4315'), address='0x9E6E98816575eb8f4DD1833beB28bA91CAf31978', block_hash=HexBytes('0xed4fbc608687ee4d73283c841a2011e2ae33c86aab932aff954fe2d473837096'), block_number=83, args=OpenShortEventFP.OpenShortEventArgsFP(trader='0xBc43B51b0A6F04f3DF1Ee283c257adF80b1be01A', asset_id=904625697166532776746648320380374280103671755200316906558262375063550423312, maturity_time=1729098000, amount=FixedPoint(\"0.514471950268344006\"), vault_share_price=FixedPoint(\"1.0001372717234138\"), as_base=True, base_proceeds=FixedPoint(\"199.4874853727109888\"), bond_amount=FixedPoint(\"200.0\"), extra_data=b'\\xa0'), __name__='OpenShortEvent')"
      ]
     },
     "execution_count": 19,
     "metadata": {},
     "output_type": "execute_result"
    }
   ],
   "source": [
    "remote_agent.open_short(bonds=FixedPoint(200))"
   ]
  },
  {
   "cell_type": "code",
   "execution_count": 20,
   "metadata": {},
   "outputs": [
    {
     "data": {
      "text/plain": [
       "[OpenLongEventFP(log_index=7, transaction_index=0, transaction_hash=HexBytes('0x2b18b696ac2249edb0ebf16b224dc8bd4e32bbc8f816abfc4c846540ae474dd5'), address='0x9E6E98816575eb8f4DD1833beB28bA91CAf31978', block_hash=HexBytes('0x56712c30fe1168f0bf2a9b19cfff0db9be5a0a61a955bd8d69b916c6245a17a3'), block_number=84, args=OpenLongEventFP.OpenLongEventArgsFP(trader='0xBc43B51b0A6F04f3DF1Ee283c257adF80b1be01A', asset_id=452312848583266388373324160190187140051835877600158453279131187532639760656, maturity_time=1729098000, amount=FixedPoint(\"100000.0\"), vault_share_price=FixedPoint(\"1.000137290751900705\"), as_base=True, bond_amount=FixedPoint(\"100250.937533571782014068\"), extra_data=b'\\xa0'), __name__='OpenLongEvent')]"
      ]
     },
     "execution_count": 20,
     "metadata": {},
     "output_type": "execute_result"
    }
   ],
   "source": [
    "remote_agent.execute_policy_action()"
   ]
  },
  {
   "cell_type": "markdown",
   "metadata": {},
   "source": [
    "We find that the wallet contains both the short we opened manually and the long we opened using\n",
    "the policy.\n"
   ]
  },
  {
   "cell_type": "code",
   "execution_count": 21,
   "metadata": {},
   "outputs": [
    {
     "data": {
      "text/html": [
       "<div>\n",
       "<style scoped>\n",
       "    .dataframe tbody tr th:only-of-type {\n",
       "        vertical-align: middle;\n",
       "    }\n",
       "\n",
       "    .dataframe tbody tr th {\n",
       "        vertical-align: top;\n",
       "    }\n",
       "\n",
       "    .dataframe thead th {\n",
       "        text-align: right;\n",
       "    }\n",
       "</style>\n",
       "<table border=\"1\" class=\"dataframe\">\n",
       "  <thead>\n",
       "    <tr style=\"text-align: right;\">\n",
       "      <th></th>\n",
       "      <th>hyperdrive_name</th>\n",
       "      <th>hyperdrive_address</th>\n",
       "      <th>block_number</th>\n",
       "      <th>username</th>\n",
       "      <th>wallet_address</th>\n",
       "      <th>token_type</th>\n",
       "      <th>maturity_time</th>\n",
       "      <th>token_id</th>\n",
       "      <th>token_balance</th>\n",
       "      <th>unrealized_value</th>\n",
       "      <th>realized_value</th>\n",
       "      <th>pnl</th>\n",
       "      <th>last_balance_update_block</th>\n",
       "    </tr>\n",
       "  </thead>\n",
       "  <tbody>\n",
       "    <tr>\n",
       "      <th>0</th>\n",
       "      <td>agent0_erc4626</td>\n",
       "      <td>0x9E6E98816575eb8f4DD1833beB28bA91CAf31978</td>\n",
       "      <td>84</td>\n",
       "      <td>0xBc43...e01A</td>\n",
       "      <td>0xBc43B51b0A6F04f3DF1Ee283c257adF80b1be01A</td>\n",
       "      <td>LONG</td>\n",
       "      <td>1729098000</td>\n",
       "      <td>LONG-1729098000</td>\n",
       "      <td>100250.937533571782014068</td>\n",
       "      <td>99994.936809593374470997</td>\n",
       "      <td>-100000.000000000000000000</td>\n",
       "      <td>-5.063190406625529003</td>\n",
       "      <td>84</td>\n",
       "    </tr>\n",
       "    <tr>\n",
       "      <th>1</th>\n",
       "      <td>agent0_erc4626</td>\n",
       "      <td>0x9E6E98816575eb8f4DD1833beB28bA91CAf31978</td>\n",
       "      <td>84</td>\n",
       "      <td>0xBc43...e01A</td>\n",
       "      <td>0xBc43B51b0A6F04f3DF1Ee283c257adF80b1be01A</td>\n",
       "      <td>SHORT</td>\n",
       "      <td>1729098000</td>\n",
       "      <td>SHORT-1729098000</td>\n",
       "      <td>200.000000000000000000</td>\n",
       "      <td>0.500846371238185472</td>\n",
       "      <td>-0.514471950268344006</td>\n",
       "      <td>-0.013625579030158534</td>\n",
       "      <td>83</td>\n",
       "    </tr>\n",
       "  </tbody>\n",
       "</table>\n",
       "</div>"
      ],
      "text/plain": [
       "  hyperdrive_name                          hyperdrive_address  block_number  \\\n",
       "0  agent0_erc4626  0x9E6E98816575eb8f4DD1833beB28bA91CAf31978            84   \n",
       "1  agent0_erc4626  0x9E6E98816575eb8f4DD1833beB28bA91CAf31978            84   \n",
       "\n",
       "        username                              wallet_address token_type  \\\n",
       "0  0xBc43...e01A  0xBc43B51b0A6F04f3DF1Ee283c257adF80b1be01A       LONG   \n",
       "1  0xBc43...e01A  0xBc43B51b0A6F04f3DF1Ee283c257adF80b1be01A      SHORT   \n",
       "\n",
       "  maturity_time          token_id              token_balance  \\\n",
       "0    1729098000   LONG-1729098000  100250.937533571782014068   \n",
       "1    1729098000  SHORT-1729098000     200.000000000000000000   \n",
       "\n",
       "           unrealized_value              realized_value  \\\n",
       "0  99994.936809593374470997  -100000.000000000000000000   \n",
       "1      0.500846371238185472       -0.514471950268344006   \n",
       "\n",
       "                     pnl  last_balance_update_block  \n",
       "0  -5.063190406625529003                         84  \n",
       "1  -0.013625579030158534                         83  "
      ]
     },
     "execution_count": 21,
     "metadata": {},
     "output_type": "execute_result"
    }
   ],
   "source": [
    "remote_agent.get_positions(pool_filter=remote_hyperdrive)"
   ]
  },
  {
   "cell_type": "markdown",
   "metadata": {},
   "source": [
    "## Cleanup\n",
    "\n",
    "Recall that the local chain created at the beginning of this tutorial produces resources under\n",
    "the hood that need to be cleaned up. The call below releases all the resources used by\n",
    "interactive hyperdrive.\n",
    "\n",
    "**Note**: This cell will terminate process for the database, local chain, and the dashboard running above.\n"
   ]
  },
  {
   "cell_type": "code",
   "execution_count": 22,
   "metadata": {},
   "outputs": [
    {
     "name": "stdout",
     "output_type": "stream",
     "text": [
      "  Stopping...\n"
     ]
    }
   ],
   "source": [
    "chain.cleanup()"
   ]
  },
  {
   "cell_type": "markdown",
   "metadata": {},
   "source": [
    "## Final words\n",
    "\n",
    "In conclusion, this tutorial showcases the interactive hyperdrive workflow. We first explored\n",
    "the simulation Hyperdrive environment and the analysis tools it provides. We then explored\n",
    "trading policies and wrote a quick example of a custom policy, and how they plug into the\n",
    "interactive hyperdrive ecosystem. Finally, we showed how to execute trades and policies\n",
    "on any remote hyperdrive deployment.\n",
    "\n",
    "Happy trading!\n"
   ]
  }
 ],
 "metadata": {
  "kernelspec": {
   "display_name": ".venv",
   "language": "python",
   "name": "python3"
  },
  "language_info": {
   "codemirror_mode": {
    "name": "ipython",
    "version": 3
   },
   "file_extension": ".py",
   "mimetype": "text/x-python",
   "name": "python",
   "nbconvert_exporter": "python",
   "pygments_lexer": "ipython3",
   "version": "3.10.14"
  }
 },
 "nbformat": 4,
 "nbformat_minor": 2
}
