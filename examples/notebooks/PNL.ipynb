{
  "cells": [
    {
      "attachments": {},
      "cell_type": "markdown",
      "metadata": {
        "colab_type": "text",
        "id": "view-in-github"
      },
      "source": [
        "<a href=\"https://colab.research.google.com/github/element-fi/elf-simulations/blob/main/examples/notebooks/PNL.ipynb\" target=\"_parent\"><img src=\"https://colab.research.google.com/assets/colab-badge.svg\" alt=\"Open In Colab\"/></a>"
      ]
    },
    {
      "cell_type": "markdown",
      "metadata": {
        "id": "EITUXDh8Rtif"
      },
      "source": [
        "### Install repo requirements & import packages"
      ]
    },
    {
      "cell_type": "code",
      "execution_count": null,
      "metadata": {
        "id": "fb7TjkLw4bHR"
      },
      "outputs": [],
      "source": [
        "try: # install dependencies only if running on google colab\n",
        "    import google.colab # check if running in colab\n",
        "    !pip install --upgrade pip\n",
        "    !pip install --upgrade notebook google-colab flask numba\n",
        "    !pip install -r https://raw.githubusercontent.com/element-fi/elf-simulations/requirements.txt \n",
        "    !pip install git+https://github.com/element-fi/elf-simulations.git\n",
        "except:\n",
        "    print(\"running locally, trust you have the dependencies installed\")"
      ]
    },
    {
      "cell_type": "code",
      "execution_count": null,
      "metadata": {
        "id": "efreB4W-4u1q"
      },
      "outputs": [],
      "source": [
        "from __future__ import annotations\n",
        "\n",
        "import logging\n",
        "\n",
        "import numpy as np\n",
        "from numpy.random._generator import Generator\n",
        "from scipy import special\n",
        "import matplotlib.pyplot as plt\n",
        "import pandas as pd\n",
        "\n",
        "from elfpy import DEFAULT_LOG_MAXBYTES\n",
        "from elfpy.types import MarketActionType, MarketAction, WEI\n",
        "from elfpy.simulators import Simulator\n",
        "from elfpy.agent import Agent\n",
        "from elfpy.markets import Market\n",
        "from elfpy.utils.config import Config\n",
        "from elfpy.utils import sim_utils\n",
        "import elfpy.utils.outputs as output_utils\n",
        "import elfpy.utils.parse_config as config_utils\n",
        "import elfpy.utils.post_processing as post_processing\n",
        "from elfpy.types import MarketState, StretchedTime\n",
        "from elfpy.utils.outputs import get_gridspec_subplots"
      ]
    },
    {
      "cell_type": "markdown",
      "metadata": {
        "id": "MMgaUflvLPnq"
      },
      "source": [
        "### Setup experiment parameters"
      ]
    },
    {
      "cell_type": "code",
      "execution_count": null,
      "metadata": {
        "id": "_PY2dAov5nxy"
      },
      "outputs": [],
      "source": [
        "log_filename = \"./hyperdrive_pnl.log\" # Output filename for logging\n",
        "\n",
        "log_level = \"WARNING\" # Logging level, should be in [\"DEBUG\", \"INFO\", \"WARNING\"]\n",
        "max_bytes = DEFAULT_LOG_MAXBYTES # Maximum log file output size, in bytes. More than 100 files will cause overwrites.\n",
        "pricing_model = \"Hyperdrive\" # can be yieldspace or hyperdrive\n",
        "\n",
        "num_trading_days = 90 # Number of simulated trading days\n",
        "num_position_days = num_trading_days/365\n",
        "blocks_per_day = 10 #7200 # Blocks in a given day (7200 means ~12 sec per block)\n",
        "trade_fee_percent = 0.10 # fee percent collected on trades\n",
        "redemption_fee_percent = 0.005 # 5 bps\n",
        "\n",
        "num_agents = 100 # int specifying how many agents you want to simulate\n",
        "agent_budget = 1_000_000 # max money an agent can spend\n",
        "trade_chance = 2/(num_trading_days*blocks_per_day) # on a given block, an agent will trade with probability `trade_chance`\n",
        "\n",
        "target_pool_apr = 0.01 # target pool APR of the initial market after the LP\n",
        "target_liquidity = 500_000_000 # target total liquidity of the initial market, before any trades\n",
        "\n",
        "vault_apr_init = 0.0 # Initial vault APR\n",
        "vault_apr_jump_size = 0.001 # Scale of the vault APR change (vault_apr (+/-)= jump_size)\n",
        "vault_jumps_per_year = 0#4 # The average number of jumps per year\n",
        "vault_apr_jump_direction = \"random_weighted\" # The direction of a rate change. Can be 'up', 'down', or 'random'.\n",
        "vault_apr_lower_bound = 0.01 # minimum allowable vault apr\n",
        "vault_apr_upper_bound = 0.01 # maximum allowable vault apr"
      ]
    },
    {
      "cell_type": "markdown",
      "metadata": {
        "id": "vGvo0aN5Mril"
      },
      "source": [
        "### Define experiemnt config dictionary"
      ]
    },
    {
      "cell_type": "code",
      "execution_count": null,
      "metadata": {
        "id": "kXoxQDzGMpzF"
      },
      "outputs": [],
      "source": [
        "config_dict = {\n",
        "    \"title\": \"Agent PNL demo\",\n",
        "    \"market\": {\n",
        "        \"vault_apr\": {\"type\": \"constant\", \"value\": 0.05}, # we will override this later\n",
        "        \"min_vault_age\": 0,\n",
        "        \"max_vault_age\": 1,\n",
        "        \"base_asset_price\": 1,\n",
        "    },\n",
        "    \"amm\": {\n",
        "        \"pricing_model_name\": pricing_model,\n",
        "        \"floor_fee\": 0,\n",
        "    },\n",
        "    \"simulator\": {\n",
        "        \"num_trading_days\": num_trading_days,\n",
        "        \"num_blocks_per_day\": blocks_per_day,\n",
        "        \"num_position_days\": num_position_days,\n",
        "        \"precision\": 64,\n",
        "        \"agent_policies\": [],\n",
        "        \"shuffle_users\": True,\n",
        "        \"init_lp\": False,\n",
        "        \"compound_vault_apr\": True,\n",
        "        \"random_seed\": 123,\n",
        "        \"logging_level\": log_level,\n",
        "    }\n",
        "}"
      ]
    },
    {
      "cell_type": "markdown",
      "metadata": {
        "id": "gMKQLsMiLd-_"
      },
      "source": [
        "### Setup agents"
      ]
    },
    {
      "cell_type": "code",
      "execution_count": null,
      "metadata": {
        "id": "kroJESetLW3l"
      },
      "outputs": [],
      "source": [
        "class RandomAgent(Agent):\n",
        "    \"\"\"\n",
        "    Agent that randomly opens or closes longs or shorts\n",
        "    \"\"\"\n",
        "\n",
        "    def __init__(self, rng: Generator, trade_chance: float, wallet_address: int, budget: int = 10_000) -> None:\n",
        "        \"\"\"Add custom stuff then call basic policy init\"\"\"\n",
        "        self.trade_long = True  # default to allow easy overriding\n",
        "        self.trade_short = True  # default to allow easy overriding\n",
        "        self.trade_chance = trade_chance\n",
        "        self.rng = rng\n",
        "        super().__init__(wallet_address, budget)\n",
        "\n",
        "    def action(self, market: Market) -> list[MarketAction]:\n",
        "        \"\"\"Implement a random user strategy\n",
        "\n",
        "        The agent performs one of four possible trades:\n",
        "            [OPEN_LONG, OPEN_SHORT, CLOSE_LONG, CLOSE_SHORT]\n",
        "            with the condition that close actions can only be performed after open actions\n",
        "\n",
        "        The amount opened and closed is random, within constraints given by agent budget & market reserve levels\n",
        "\n",
        "        Parameters\n",
        "        ----------\n",
        "        market : Market\n",
        "            the trading market\n",
        "\n",
        "        Returns\n",
        "        -------\n",
        "        action_list : list[MarketAction]\n",
        "        \"\"\"\n",
        "        gonna_trade = self.rng.choice([True, False], p=[self.trade_chance, 1-self.trade_chance])\n",
        "        if not gonna_trade:\n",
        "            return []\n",
        "        # User can always open a trade, and can close a trade if one is open\n",
        "        available_actions = []\n",
        "        if self.trade_long is True:\n",
        "            available_actions+=[MarketActionType.OPEN_LONG]\n",
        "        if self.trade_short is True:\n",
        "            available_actions+=[MarketActionType.OPEN_SHORT]\n",
        "        has_opened_short = bool(any((short.balance > 0 for short in self.wallet.shorts.values())))\n",
        "        if has_opened_short:\n",
        "            available_actions = [MarketActionType.CLOSE_SHORT]\n",
        "        has_opened_long = bool(any((long.balance > 0 for long in self.wallet.longs.values())))\n",
        "        if has_opened_long:\n",
        "            available_actions = [MarketActionType.CLOSE_LONG]\n",
        "        action_type = self.rng.choice(available_actions, size=1) # choose one random trade type\n",
        "        # trade amount is also randomly chosen\n",
        "        if action_type == MarketActionType.OPEN_SHORT:\n",
        "            random_normal = self.rng.normal(loc=self.budget * 0.1, scale=self.budget * 0.01)\n",
        "            max_short = self.get_max_short(market)\n",
        "            if max_short > WEI: # if max_short is greater than the minimum eth amount\n",
        "                trade_amount = np.maximum(WEI, np.minimum(max_short, random_normal)) # WEI <= trade_amount <= max_short\n",
        "                action_list = [\n",
        "                    self.create_agent_action(action_type=action_type, trade_amount=trade_amount, mint_time=market.time),\n",
        "                ]\n",
        "            else: # no short is possible\n",
        "                action_list = []\n",
        "        elif action_type == MarketActionType.OPEN_LONG:\n",
        "            random_normal = self.rng.normal(loc=self.budget * 0.1, scale=self.budget * 0.01)\n",
        "            max_long = self.get_max_long(market)\n",
        "            if max_long > WEI: # if max_long is greater than the minimum eth amount\n",
        "                trade_amount = np.maximum(WEI, np.minimum(max_long, random_normal))\n",
        "                action_list = [\n",
        "                    self.create_agent_action(action_type=action_type, trade_amount=trade_amount, mint_time=market.time),\n",
        "                ]\n",
        "            else:\n",
        "                action_list = []\n",
        "        elif action_type == MarketActionType.CLOSE_SHORT:\n",
        "            short_time = self.rng.choice(list(self.wallet.shorts))\n",
        "            trade_amount = self.wallet.shorts[short_time].balance # close the full trade\n",
        "            open_share_price = self.wallet.shorts[short_time].open_share_price\n",
        "            action_list = [\n",
        "                self.create_agent_action(action_type=action_type, trade_amount=trade_amount, mint_time=short_time, open_share_price=open_share_price),\n",
        "            ]\n",
        "        elif action_type == MarketActionType.CLOSE_LONG:\n",
        "            long_time = self.rng.choice(list(self.wallet.longs))\n",
        "            trade_amount = self.wallet.longs[long_time].balance # close the full trade\n",
        "            action_list = [\n",
        "                self.create_agent_action(action_type=action_type, trade_amount=trade_amount, mint_time=long_time),\n",
        "            ]\n",
        "        else:\n",
        "            action_list = []\n",
        "        return action_list\n",
        "\n",
        "\n",
        "class LPAgent(Agent):\n",
        "    \"\"\"\n",
        "    Adds a large LP\n",
        "    \"\"\"\n",
        "    def action(self, market: Market):\n",
        "        \"\"\"\n",
        "        implement user strategy\n",
        "        LP if you can, but only do it once\n",
        "        short if you can, but only do it once\n",
        "        \"\"\"\n",
        "        if self.wallet.lp_tokens > 0: # has already opened the lp\n",
        "            action_list = []\n",
        "        else:\n",
        "            action_list = [\n",
        "                self.create_agent_action(\n",
        "                    action_type=MarketActionType.ADD_LIQUIDITY, trade_amount=self.budget\n",
        "                ),\n",
        "            ]\n",
        "        return action_list\n",
        "\n",
        "def get_example_agents(rng: Generator, budget: float, new_agents: int, existing_agents: int = 0, direction: str = None) -> list[Agent]:\n",
        "    \"\"\"Instantiate a set of custom agents\"\"\"\n",
        "    agents = []\n",
        "    for address in range(existing_agents, existing_agents + new_agents):\n",
        "        agent = RandomAgent(\n",
        "            rng=rng,\n",
        "            trade_chance=trade_chance,\n",
        "            wallet_address=address,\n",
        "            budget=budget,\n",
        "        )\n",
        "        if direction is not None:\n",
        "            if direction == \"short\":\n",
        "                agent.trade_long = False\n",
        "            if direction == \"long\":\n",
        "                agent.trade_short = False\n",
        "        agent.log_status_report()\n",
        "        agents += [agent]\n",
        "    return agents"
      ]
    },
    {
      "cell_type": "markdown",
      "metadata": {
        "id": "vedqHoVLLtKq"
      },
      "source": [
        "\n",
        "### Define vault apr process"
      ]
    },
    {
      "cell_type": "code",
      "execution_count": null,
      "metadata": {
        "id": "fqS3ean1LqNm"
      },
      "outputs": [],
      "source": [
        "def homogeneous_poisson(\n",
        "    rng: Generator, rate: float, tmax: int, bin_size: int = 1\n",
        "    ) -> np.ndarray:\n",
        "    \"\"\"Generate samples from a homogeneous Poisson distribution\n",
        "\n",
        "    Attributes\n",
        "    ----------\n",
        "    rng: np.random.Generator\n",
        "        random number generator with preset seed\n",
        "    rate: float\n",
        "        number of events per time interval (units of 1/days)\n",
        "    tmax: float\n",
        "        total number of days (units of days; sets distribution support)\n",
        "    bin_size: float\n",
        "        resolution of the simulation\n",
        "    \"\"\"\n",
        "    nbins = np.floor(tmax/bin_size).astype(int)\n",
        "    prob_of_spike = rate * bin_size\n",
        "    events = (rng.random(nbins) < prob_of_spike).astype(int)\n",
        "    return events\n",
        "\n",
        "def event_generator(rng, n_trials, rate, tmax, bin_size):\n",
        "    \"\"\"Generate samples from the poisson distribution\"\"\"\n",
        "    for i in range(n_trials):\n",
        "        yield homogeneous_poisson(rng, rate, tmax, bin_size)\n",
        "\n",
        "def poisson_prob(k, lam):\n",
        "    \"\"\"https://en.wikipedia.org/wiki/Poisson_distribution\"\"\"\n",
        "    return lam**k/special.factorial(k)*np.exp(-lam)\n",
        "\n",
        "def vault_flip_probs(apr: float, min_apr: float=0.0, max_apr: float=1.0, num: int = 100):\n",
        "    \"\"\"\n",
        "    probability of going up is 1 when apr is min\n",
        "    probability of going down is 1 when apr is max\n",
        "    probability is 0.5 either way when apr is half way between max and min\n",
        "    \"\"\"\n",
        "    aprs = np.linspace(min_apr, max_apr, num)\n",
        "    get_index = lambda value, array : (np.abs(array - value)).argmin()\n",
        "    apr_index = get_index(apr, aprs) # return whatever value in aprs array that apr is closest to\n",
        "    up_probs = np.linspace(1, 0, num)\n",
        "    up_prob = up_probs[apr_index]\n",
        "    down_prob = 1 - up_prob\n",
        "    return (down_prob, up_prob)\n",
        "\n",
        "def poisson_vault_apr(\n",
        "    config: Config,\n",
        "    initial_apr: float,\n",
        "    jump_size: float,\n",
        "    vault_jumps_per_year: int,\n",
        "    direction: str,\n",
        "    lower_bound: float = 0.0,\n",
        "    upper_bound: float = 1.0,\n",
        "    num: int = 100\n",
        ") -> Generator:\n",
        "    # vault rate changes happen once every vault_jumps_per_year, on average\n",
        "    num_bins = 365\n",
        "    bin_size = 1\n",
        "    rate = vault_jumps_per_year / num_bins\n",
        "    tmax = num_bins\n",
        "    do_jump = homogeneous_poisson(config.simulator.rng, rate, tmax, bin_size)\n",
        "    vault_apr = np.array([initial_apr] * config.simulator.num_trading_days)\n",
        "    for day in range(1, config.simulator.num_trading_days):\n",
        "        if not do_jump[day]:\n",
        "            continue\n",
        "        if direction == \"up\":\n",
        "            sign = 1\n",
        "        elif direction == \"down\":\n",
        "            sign = -1\n",
        "        elif direction == \"random\":\n",
        "            sign = config.simulator.rng.choice([-1, 1], size=1).item() # flip a fair coin\n",
        "        elif direction == \"random_weighted\":\n",
        "            probs = vault_flip_probs(vault_apr[day], lower_bound, upper_bound, num)\n",
        "            sign = config.simulator.rng.choice([-1, 1], p=probs, size=1).item() # flip a weighted coin\n",
        "        else:\n",
        "            raise ValueError(f\"Direction must be 'up', 'down', 'weighted_random', or 'random'; not {direction}\")\n",
        "        step = sign * jump_size\n",
        "        apr = np.minimum(upper_bound, np.maximum(lower_bound, vault_apr[day] + step))\n",
        "        vault_apr[day:] = apr\n",
        "    for apr in vault_apr: # janky way to make this a generator\n",
        "        yield apr\n",
        "\n",
        "def DSR_historical(num_dates=90):\n",
        "    dsr = pd.read_csv('https://s3-sim-repo-0.s3.us-east-2.amazonaws.com/Data/HIST_DSR_D.csv', index_col=0, infer_datetime_format=True)\n",
        "    dsr.index = pd.to_datetime(dsr.index)\n",
        "    dsr = dsr.resample('D').mean()\n",
        "    min_date = dsr.index.min()\n",
        "    max_date = dsr.index.max()\n",
        "    date_range = max_date - min_date\n",
        "    new_date_range = min_date + date_range * np.linspace(0, 1, num_dates)\n",
        "    dsr_new = dsr.reindex(new_date_range, method='ffill')\n",
        "    dsr_new = dsr_new.reset_index(drop=True)\n",
        "    return dsr_new[\"DAI_SAV_RATE\"].to_list()"
      ]
    },
    {
      "cell_type": "markdown",
      "metadata": {
        "id": "QWWJEz8KL-Lf"
      },
      "source": [
        "### Setup experiment vault apr using parameters specified above"
      ]
    },
    {
      "cell_type": "code",
      "execution_count": null,
      "metadata": {
        "id": "JFvcZjvrLh8g"
      },
      "outputs": [],
      "source": [
        "# override_dict specifies overrides for the config AND the random variables\n",
        "override_dict = {\n",
        "    \"pricing_model_name\": pricing_model,\n",
        "    \"num_trading_days\": num_trading_days,\n",
        "    \"num_blocks_per_day\": blocks_per_day,\n",
        "    \"pricing_model_name\": pricing_model,\n",
        "    \"target_liquidity\": target_liquidity,\n",
        "    \"target_pool_apr\": target_pool_apr,\n",
        "    \"trade_fee_percent\": trade_fee_percent,\n",
        "    \"redemption_fee_percent\": redemption_fee_percent,\n",
        "    \"num_position_days\": num_position_days,\n",
        "    \"logging_level\": log_level,\n",
        "}\n",
        "\n",
        "# override the vault_apr, which is based on some variables set above\n",
        "\n",
        "# override_dict[\"vault_apr\"] = lambda: poisson_vault_apr(\n",
        "#     config=config,\n",
        "#     initial_apr=vault_apr_init,\n",
        "#     jump_size=vault_apr_jump_size,\n",
        "#     vault_jumps_per_year=vault_jumps_per_year,\n",
        "#     direction=vault_apr_jump_direction,\n",
        "#     lower_bound=vault_apr_lower_bound,\n",
        "#     upper_bound=vault_apr_upper_bound,\n",
        "# )\n",
        "override_dict[\"vault_apr\"] = DSR_historical(num_dates=num_trading_days)\n",
        "\n",
        "# config variables that match keys in override_dict are overridden\n",
        "config = config_utils.override_config_variables(config_utils.parse_simulation_config(config_dict), override_dict)"
      ]
    },
    {
      "cell_type": "markdown",
      "metadata": {
        "id": "zKf-kSthMJSa"
      },
      "source": [
        "### Setup simulation objects"
      ]
    },
    {
      "cell_type": "code",
      "execution_count": null,
      "metadata": {
        "id": "xpagOoPAMJvv"
      },
      "outputs": [],
      "source": [
        "# define root logging parameters\n",
        "output_utils.setup_logging(\n",
        "    log_filename=log_filename,\n",
        "    max_bytes=max_bytes,\n",
        "    log_level=config_utils.text_to_logging_level(config.simulator.logging_level),\n",
        ")\n",
        "\n",
        "# random sim variables that match keys in override_dict are overridden\n",
        "# this includes the target pool apr & target vault apr\n",
        "random_sim_vars = sim_utils.override_random_variables(sim_utils.get_random_variables(config), override_dict)\n",
        "\n",
        "# instantiate the pricing model\n",
        "pricing_model = sim_utils.get_pricing_model(config.amm.pricing_model_name)\n",
        "\n",
        "# instantiate the market\n",
        "position_duration = StretchedTime(\n",
        "    days=config.simulator.num_position_days * 365,\n",
        "    time_stretch=pricing_model.calc_time_stretch(random_sim_vars.target_pool_apr),\n",
        ")\n",
        "\n",
        "init_target_liquidity = 1 # tiny amount for setting up apr\n",
        "share_reserves_direct, bond_reserves_direct = pricing_model.calc_liquidity(\n",
        "    market_state=MarketState(\n",
        "        share_price=random_sim_vars.init_share_price,\n",
        "        init_share_price=random_sim_vars.init_share_price\n",
        "    ),\n",
        "    target_liquidity=init_target_liquidity,\n",
        "    target_apr=random_sim_vars.target_pool_apr,\n",
        "    position_duration=position_duration,\n",
        ")\n",
        "market = Market(\n",
        "    pricing_model=pricing_model,\n",
        "    market_state=MarketState(\n",
        "        share_reserves=share_reserves_direct,\n",
        "        bond_reserves=bond_reserves_direct,\n",
        "        base_buffer=0,\n",
        "        bond_buffer=0,\n",
        "        lp_reserves=init_target_liquidity / random_sim_vars.init_share_price,\n",
        "        init_share_price=random_sim_vars.init_share_price,  # u from YieldSpace w/ Yield Baring Vaults\n",
        "        share_price=random_sim_vars.init_share_price,  # c from YieldSpace w/ Yield Baring Vaults\n",
        "        vault_apr=random_sim_vars.vault_apr[0],  # yield bearing source apr\n",
        "        trade_fee_percent=random_sim_vars.trade_fee_percent,  # g\n",
        "        redemption_fee_percent=random_sim_vars.redemption_fee_percent,\n",
        "    ),\n",
        "    position_duration=position_duration\n",
        ")\n",
        "\n",
        "# Instantiate the initial LP agent.\n",
        "current_market_liquidity = market.pricing_model.calc_total_liquidity_from_reserves_and_price(\n",
        "    market_state=market.market_state, share_price=market.market_state.share_price\n",
        ")\n",
        "lp_amount = target_liquidity - current_market_liquidity\n",
        "init_agents = [LPAgent(wallet_address=0, budget=lp_amount)]\n",
        "\n",
        "# initialize the simulator using only the initial LP.\n",
        "simulator = Simulator(\n",
        "    config=config,\n",
        "    market=market,\n",
        "    random_simulation_variables=random_sim_vars,\n",
        ")\n",
        "simulator.add_agents(init_agents)\n",
        "simulator.collect_and_execute_trades()\n"
      ]
    },
    {
      "cell_type": "markdown",
      "metadata": {
        "id": "s7MvElrkMY4M"
      },
      "source": [
        "### Run the simulation"
      ]
    },
    {
      "cell_type": "code",
      "execution_count": null,
      "metadata": {
        "id": "YEeRha47MX8I"
      },
      "outputs": [],
      "source": [
        "# add the random agents\n",
        "short_agents = get_example_agents(rng=simulator.rng, budget=agent_budget, new_agents=num_agents, existing_agents=1, direction=\"short\")\n",
        "long_agents = get_example_agents(rng=simulator.rng, budget=agent_budget, new_agents=num_agents, existing_agents=1+num_agents, direction=\"long\")\n",
        "simulator.add_agents(short_agents + long_agents)\n",
        "print(f\"Simulator has {len(simulator.agents)} agents\")\n",
        "\n",
        "# run the simulation\n",
        "simulator.run_simulation()\n",
        "\n",
        "# convert simulation state to a pandas dataframe\n",
        "trades = post_processing.compute_derived_variables(simulator)"
      ]
    },
    {
      "cell_type": "markdown",
      "metadata": {
        "id": "N7sOn6dYPJos"
      },
      "source": [
        "### Plot simulation results"
      ]
    },
    {
      "cell_type": "code",
      "execution_count": null,
      "metadata": {
        "id": "Xq9XmwLxPNVF"
      },
      "outputs": [],
      "source": [
        "exclude_first_day = False\n",
        "xtick_step = 73\n",
        "\n",
        "start_idx = 1 if exclude_first_day else 0\n",
        "ax = get_gridspec_subplots()[1][0]\n",
        "#ax = trades.iloc[start_idx:len(trades)-1].plot(x=\"run_trade_number\", y=\"vault_apr\", ax=ax, label=\"vault\", c='blue')\n",
        "ax = trades.iloc[start_idx:len(trades)-1].plot(x=\"day\", y=\"pool_apr\", ax=ax, label=\"pool\", c='black')\n",
        "ax.set_title(\"Random Agents\")\n",
        "ax.set_xlabel(\"day\")\n",
        "ax.set_ylabel(\"APR\")\n",
        "#ax.set_ylim([0.0075, 0.0125])\n",
        "ax.legend()\n",
        "ax.set_xticks([x for x in range(start_idx, trades[\"day\"].max() + 1, xtick_step)]);\n",
        "ax.set_xticklabels([str(x+1) for x in range(start_idx, trades[\"day\"].max() + 1, xtick_step)]);"
      ]
    },
    {
      "cell_type": "code",
      "execution_count": null,
      "metadata": {
        "id": "hfwElUKJPQyC"
      },
      "outputs": [],
      "source": [
        "exclude_first_day = False\n",
        "xtick_step = 73\n",
        "\n",
        "trades_agg = trades.groupby(\"day\").agg(\n",
        "    {\n",
        "        \"vault_apr\": [\"mean\"],\n",
        "        \"pool_apr\": [\"mean\"],\n",
        "    }\n",
        ")\n",
        "trades_agg.columns = [\"_\".join(col).strip() for col in trades_agg.columns.values]\n",
        "trades_agg = trades_agg.reset_index()\n",
        "start_idx = 1 if exclude_first_day else 0\n",
        "ax = get_gridspec_subplots()[1][0]\n",
        "ax = trades_agg.iloc[start_idx:].plot(x=\"day\", y=\"vault_apr_mean\", ax=ax, label=\"vault\", c='blue')\n",
        "ax = trades_agg.iloc[start_idx:].plot(x=\"day\", y=\"pool_apr_mean\", ax=ax, label=\"pool\", c='black')\n",
        "ax.set_title(\"Random Agents\")\n",
        "ax.set_xlabel(\"Day\")\n",
        "ax.set_ylabel(\"APR\")\n",
        "ax.legend()\n",
        "ax.set_xticks([x for x in range(start_idx, simulator.config.simulator.num_trading_days + 1, xtick_step)]);\n",
        "ax.set_xticklabels([str(x+1) for x in range(start_idx, simulator.config.simulator.num_trading_days + 1, xtick_step)]);"
      ]
    },
    {
      "cell_type": "code",
      "execution_count": null,
      "metadata": {
        "id": "t8YGuHwUP4Jc"
      },
      "outputs": [],
      "source": [
        "exclude_first_trade = True\n",
        "exclude_first_agent = False\n",
        "\n",
        "fig, axes, _ = get_gridspec_subplots(nrows=1, ncols=2, wspace=0.3)\n",
        "start_idx = 1 if exclude_first_trade else 0\n",
        "addresses = []\n",
        "for column in trades.columns:\n",
        "    splits = column.split(\"_\")\n",
        "    if splits[0] == \"agent\":\n",
        "        addresses.append(int(splits[1]))\n",
        "agents = set(addresses)\n",
        "#for address in agents:\n",
        "address = 0\n",
        "if (exclude_first_agent and address > 0) or (not exclude_first_agent):\n",
        "    dict_key = f\"agent_{address}\"\n",
        "    _ = trades.iloc[start_idx:].plot(\n",
        "        x=\"run_trade_number\", y=f\"{dict_key}_base\", label=f\"0x{address}\", ax=axes[0]\n",
        "    )\n",
        "    _ = trades.iloc[start_idx:].plot(\n",
        "        x=\"run_trade_number\", y=f\"{dict_key}_lp_tokens\", label=f\"0x{address}\", ax=axes[1]\n",
        "    )\n",
        "axes[0].set_ylabel(\"Base asset in wallet\")\n",
        "axes[1].set_ylabel(\"LP tokens in wallet\")\n",
        "axes[0].legend()\n",
        "trade_labels = trades.loc[:, \"run_trade_number\"][::xtick_step][start_idx:]\n",
        "for axis in axes:\n",
        "    axis.set_xlabel(\"Trade number\")\n",
        "    axis.set_xticks(trade_labels[start_idx:])\n",
        "    axis.set_xticklabels([str(x + 1) for x in trade_labels][start_idx:])\n",
        "fig_size = fig.get_size_inches()  # [width (or cols), height (or rows)]\n",
        "fig.set_size_inches([2 * fig_size[0], fig_size[1]])\n",
        "_ = fig.suptitle(\"LP Agent wallet reserves\", y=1.00)"
      ]
    },
    {
      "cell_type": "code",
      "execution_count": null,
      "metadata": {
        "id": "N-YlWeWkP6VR"
      },
      "outputs": [],
      "source": [
        "#fig = output_utils.plot_wallet_reserves(trades, exclude_first_agent=True, exclude_first_trade=True, xtick_step=50)"
      ]
    },
    {
      "cell_type": "code",
      "execution_count": null,
      "metadata": {
        "id": "Ck8diWMeP8RR"
      },
      "outputs": [],
      "source": [
        "fig = output_utils.plot_pool_apr(trades, exclude_first_day=True, exclude_last_day = True)"
      ]
    },
    {
      "cell_type": "code",
      "execution_count": null,
      "metadata": {},
      "outputs": [],
      "source": [
        "def plot_pnl(pnl, ax, label, last_day):\n",
        "    ax.plot(pnl.iloc[1:,:], linestyle='-', linewidth=0.5, alpha=0.5)\n",
        "    # seprate first half of agents, which are set to trade short\n",
        "    # from second half of agents, which are set to trade long\n",
        "    columns = pnl.columns.to_list()\n",
        "    n = int(len(columns)/2)\n",
        "    short_pnl = pnl.loc[1:, columns[:n]].mean(axis=1)\n",
        "    long_pnl = pnl.loc[1:, columns[n:]].mean(axis=1)\n",
        "    ax.plot(short_pnl, c='red', label=f\"Short {label}, final value={short_pnl[len(short_pnl)]}\", linewidth=2)\n",
        "    ax.plot(long_pnl, c='black', label=f\"Long {label}, final_value={long_pnl[len(long_pnl)]}\", linewidth=2)\n",
        "    ylim = ax.get_ylim()\n",
        "    # grey area where day is last day\n",
        "    ax.axvspan(last_day, len(short_pnl), color='grey', alpha=0.2, label=\"Last day\")\n",
        "    ax.legend()\n",
        "\n",
        "fig, ax = plt.subplots(2, 1, figsize=(6, 10), sharex=True, gridspec_kw={'wspace': 0.0, 'hspace': 0.0})\n",
        "first_trade_that_is_on_last_day = min(trades.index[trades.day == max(trades.day)])\n",
        "print(f\"{first_trade_that_is_on_last_day=}\")\n",
        "data_mock = post_processing.get_pnl_excluding_agent_0(trades)\n",
        "data_no_mock = post_processing.get_pnl_excluding_agent_0_no_mock(trades)\n",
        "plot_pnl(pnl=data_mock,label='Mock',ax=ax[0],last_day=first_trade_that_is_on_last_day)\n",
        "plot_pnl(pnl=data_no_mock,label='No Mock',ax=ax[1],last_day=first_trade_that_is_on_last_day)\n",
        "combined = pd.concat([data_mock, data_no_mock], axis=1)\n",
        "combined.to_csv('yes_short_interest.csv')\n",
        "plt.show()"
      ]
    },
    {
      "cell_type": "code",
      "execution_count": null,
      "metadata": {},
      "outputs": [],
      "source": [
        "fig = output_utils.plot_lp_pnl(trades, exclude_last_day = True)"
      ]
    },
    {
      "cell_type": "code",
      "execution_count": null,
      "metadata": {},
      "outputs": [],
      "source": [
        "trades_agg = post_processing.aggregate_trade_data(trades)\n",
        "fig = output_utils.plot_pool_volume(trades_agg)"
      ]
    },
    {
      "cell_type": "code",
      "execution_count": null,
      "metadata": {
        "id": "P920AMJQP9JW"
      },
      "outputs": [],
      "source": [
        "# This is a test change to see if stuff syncs"
      ]
    }
  ],
  "metadata": {
    "colab": {
      "include_colab_link": true,
      "private_outputs": true,
      "provenance": []
    },
    "kernelspec": {
      "display_name": "elf-env",
      "language": "python",
      "name": "python3"
    },
    "language_info": {
      "codemirror_mode": {
        "name": "ipython",
        "version": 3
      },
      "file_extension": ".py",
      "mimetype": "text/x-python",
      "name": "python",
      "nbconvert_exporter": "python",
      "pygments_lexer": "ipython3",
      "version": "3.8.16"
    },
    "vscode": {
      "interpreter": {
        "hash": "e0b3e7cfdbb0701533a1bd673e72a5f0b8ba7990b124dd57bd4db430b23dce81"
      }
    }
  },
  "nbformat": 4,
  "nbformat_minor": 0
}
