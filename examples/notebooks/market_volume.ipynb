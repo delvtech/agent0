{
 "cells": [
  {
   "attachments": {},
   "cell_type": "markdown",
   "metadata": {
    "colab_type": "text",
    "id": "view-in-github"
   },
   "source": [
    "<a href=\"https://colab.research.google.com/github/element-fi/elf-simulations/blob/dp_mart_agents/examples/notebooks/fred_louie_simulation.ipynb\" target=\"_parent\"><img src=\"https://colab.research.google.com/assets/colab-badge.svg\" alt=\"Open In Colab\"/></a>"
   ]
  },
  {
   "cell_type": "markdown",
   "metadata": {},
   "source": [
    "## Hyperdrive [NAME] simulation\n",
    "We use the following setup:\n",
    "- TBD\n",
    "* variable rate:\n",
    "    * step function\n",
    "    * rate changes every 3 months\n",
    "    * \n",
    "\n",
    "For details on the simulation framework, please see our <a href=\"https://elfpy.element.fi/\">simulation documentation</a>"
   ]
  },
  {
   "cell_type": "markdown",
   "metadata": {
    "id": "EITUXDh8Rtif"
   },
   "source": [
    "### Install repo requirements & import packages"
   ]
  },
  {
   "cell_type": "code",
   "execution_count": null,
   "metadata": {
    "id": "fb7TjkLw4bHR"
   },
   "outputs": [],
   "source": [
    "# test: skip-cell\n",
    "try: # install dependencies only if running on google colab\n",
    "    import google.colab # check if running in colab\n",
    "    !pip install -r https://raw.githubusercontent.com/element-fi/elf-simulations/main/requirements-3.8.txt \n",
    "    !pip install git+https://github.com/element-fi/elf-simulations.git\n",
    "except:\n",
    "    print(\"running locally & trusting that you have the dependencies installed\")"
   ]
  },
  {
   "cell_type": "code",
   "execution_count": null,
   "metadata": {
    "id": "efreB4W-4u1q",
    "tags": []
   },
   "outputs": [],
   "source": [
    "from __future__ import annotations\n",
    "\n",
    "import time as time\n",
    "\n",
    "import numpy as np\n",
    "from numpy.random._generator import Generator\n",
    "import matplotlib.pyplot as plt\n",
    "import matplotlib.ticker as ticker\n",
    "\n",
    "from elfpy import WEI\n",
    "from elfpy.types import MarketActionType, MarketAction, Quantity, TokenType, MarketDeltas\n",
    "from elfpy.simulators import Simulator\n",
    "from elfpy.agent import Agent\n",
    "from elfpy.markets import Market\n",
    "from elfpy.utils import sim_utils\n",
    "import elfpy.utils.time as time_utils\n",
    "import elfpy.utils.outputs as output_utils\n",
    "import elfpy.utils.post_processing as post_processing\n",
    "from elfpy.types import MarketState, StretchedTime, Config\n",
    "from elfpy.utils.outputs import get_gridspec_subplots"
   ]
  },
  {
   "cell_type": "markdown",
   "metadata": {
    "id": "MMgaUflvLPnq"
   },
   "source": [
    "### Setup experiment parameters"
   ]
  },
  {
   "cell_type": "code",
   "execution_count": null,
   "metadata": {
    "id": "_PY2dAov5nxy",
    "tags": []
   },
   "outputs": [],
   "source": [
    "config = Config()\n",
    "\n",
    "# General config parameters\n",
    "config.title = \"Hyperdrive smart agent demo\"\n",
    "config.pricing_model_name = \"Hyperdrive\" # can be yieldspace or hyperdrive\n",
    "\n",
    "config.num_trading_days = 200#365*2 # Number of simulated trading days\n",
    "config.num_blocks_per_day = 1#2 # Blocks in a given day (7200 means ~12 sec per block)\n",
    "config.num_position_days = 40#90 # How long a token reaches maturity\n",
    "\n",
    "config.trade_fee_percent = 0.05 # fee percent collected on trades\n",
    "config.redemption_fee_percent = 0.05 # fee collected on the spread of the flat portion\n",
    "\n",
    "config.target_pool_apr = 0.01 # target pool APR of the initial market after the LP\n",
    "config.target_liquidity = 500_000_000 # target total liquidity of the initial market, before any trades\n",
    "\n",
    "config.log_level = output_utils.text_to_log_level(\"INFO\") # Logging level, should be in [\"DEBUG\", \"INFO\", \"WARNING\"]\n",
    "config.log_filename = \"./frida_n_louie.log\" # Output filename for logging\n",
    "\n",
    "config.shuffle_users = False\n",
    "\n",
    "# Notebook specific parameters\n",
    "num_fridas = 1\n",
    "num_louies = 1\n",
    "num_agents = num_fridas + num_louies # int specifying how many agents you want to simulate\n",
    "trade_chance = 1 # 1 / (config.num_trading_days * num_agents) # on a given block, an agent will trade with probability `trade_chance`\n",
    "daily_volume = 1_000_000\n",
    "daily_trade_size = 1_000_000 / num_agents"
   ]
  },
  {
   "cell_type": "markdown",
   "metadata": {
    "id": "gMKQLsMiLd-_"
   },
   "source": [
    "### Setup agents"
   ]
  },
  {
   "cell_type": "code",
   "execution_count": null,
   "metadata": {
    "id": "kroJESetLW3l",
    "tags": []
   },
   "outputs": [],
   "source": [
    "class FixedFrida(Agent):\n",
    "    \"\"\"\n",
    "    Agent that paints & opens fixed rate borrow positions\n",
    "    She hedges her loan\n",
    "    \"\"\"\n",
    "\n",
    "    def __init__(self, rng: Generator, wallet_address: int, budget: int = daily_volume) -> None:\n",
    "        \"\"\"Add custom stuff then call basic policy init\"\"\"\n",
    "        self.rng = rng\n",
    "        super().__init__(wallet_address, budget)\n",
    "        self.name = \"FixedFrida\"\n",
    "\n",
    "    def action(self, market: Market) -> list[MarketAction]:\n",
    "        \"\"\"Implement a Fixed Frida user strategy\n",
    "\n",
    "        I'm an actor with a high risk threshold\n",
    "        I'm willing to open up a fixed-rate borrow (aka a short) if the fixed rate is ~2% higher than the variable rate\n",
    "            approx means gauss mean=0.02; std=0.005, clipped at 0, 5\n",
    "        I will never close my short until the simulation stops\n",
    "            UNLESS my short reaches the token duration mark (e.g. 6mo)\n",
    "            realistically, people might leave them hanging\n",
    "        I have total budget of 2k -> 250k (gauss mean=75k; std=50k, i.e. 68% values are within 75k +/- 50k)\n",
    "        I only open one short at a time\n",
    "\n",
    "        Parameters\n",
    "        ----------\n",
    "        market : Market\n",
    "            the trading market\n",
    "\n",
    "        Returns\n",
    "        -------\n",
    "        action_list : list[MarketAction]\n",
    "        \"\"\"\n",
    "        action_list = []\n",
    "        for short_time in self.wallet.shorts: # loop over shorts\n",
    "            if (market.time - short_time) >= market.annualized_position_duration: # if any short is mature\n",
    "                trade_amount = self.wallet.shorts[short_time].balance # close the whole thing\n",
    "                trade_amount_in_base = trade_amount * market.spot_price\n",
    "                years_remaining = time_utils.get_years_remaining(\n",
    "                    market_time=market.time, mint_time=short_time, position_duration_years=market.position_duration.days / 365\n",
    "                )\n",
    "                minimum_price_accepted = 1 / ( 1 + market.market_state.vault_apr * years_remaining) # between 0 and 1\n",
    "                minimum_amount_accepted = (\n",
    "                    trade_amount # in PTs\n",
    "                    * minimum_price_accepted # between 0 and 1\n",
    "                ) # result is between 0 and trade_amount\n",
    "                action_list += [\n",
    "                    self.create_agent_action(\n",
    "                        action_type=MarketActionType.CLOSE_SHORT,\n",
    "                        trade_amount=trade_amount, # in PTs\n",
    "                        mint_time=short_time,\n",
    "                        minimum_amount_accepted=minimum_amount_accepted # in base\n",
    "                    )\n",
    "                ]\n",
    "\n",
    "        short_balances = [short.balance for short in self.wallet.shorts.values()]\n",
    "        has_opened_short = bool(any(short_balance > 0 for short_balance in short_balances))\n",
    "        # only open a short if the fixed rate is 0.02 or more lower than variable rate\n",
    "        # if (market.rate - market.market_state.vault_apr) < 0:\n",
    "        if 0 < 1:\n",
    "            trade_amount = self.get_max_short(market) # maximum amount the agent can short given the market and the agent's wallet\n",
    "            trade_amount = np.minimum(daily_trade_size, trade_amount) # limit the trade size to 50k\n",
    "            if trade_amount >= daily_trade_size:\n",
    "                action_list += [\n",
    "                    self.create_agent_action(\n",
    "                        action_type=MarketActionType.OPEN_SHORT,\n",
    "                        trade_amount=trade_amount,\n",
    "                        mint_time=market.time,\n",
    "                    )\n",
    "                ]\n",
    "\n",
    "        return action_list"
   ]
  },
  {
   "cell_type": "code",
   "execution_count": null,
   "metadata": {
    "tags": []
   },
   "outputs": [],
   "source": [
    "class LongLouie(Agent):\n",
    "    \"\"\"\n",
    "    Long-nosed agent that opens longs\n",
    "    \"\"\"\n",
    "\n",
    "    def __init__(self, rng: Generator, wallet_address: int, budget: int = daily_volume) -> None:\n",
    "        \"\"\"Add custom stuff then call basic policy init\"\"\"\n",
    "        self.rng = rng\n",
    "        super().__init__(wallet_address, budget)\n",
    "        self.name = \"LongLouie\"\n",
    "\n",
    "    def action(self, market: Market) -> list[MarketAction]:\n",
    "        \"\"\"Implement a Long Louie user strategy\n",
    "\n",
    "        I'm not willing to open a long if it will cause the fixed-rate apr to go below the variable rate\n",
    "            I simulate the outcome of my trade, and only execute on this condition\n",
    "        I only close if the position has matured\n",
    "        I have total budget of 2k -> 250k (gauss mean=75k; std=50k, i.e. 68% values are within 75k +/- 50k)\n",
    "        I only open one long at a time\n",
    "\n",
    "        Parameters\n",
    "        ----------\n",
    "        market : Market\n",
    "            the trading market\n",
    "\n",
    "        Returns\n",
    "        -------\n",
    "        action_list : list[MarketAction]\n",
    "        \"\"\"\n",
    "        \n",
    "        action_list = []\n",
    "        for long_time in self.wallet.longs: # loop over longs\n",
    "            if (market.time - long_time) >= market.annualized_position_duration: # if any long is mature\n",
    "                trade_amount = self.wallet.longs[long_time].balance # close the whole thing\n",
    "                action_list += [\n",
    "                    self.create_agent_action(\n",
    "                        action_type=MarketActionType.CLOSE_LONG,\n",
    "                        trade_amount=trade_amount,\n",
    "                        mint_time=long_time\n",
    "                    )\n",
    "                ]\n",
    "\n",
    "        long_balances = [long.balance for long in self.wallet.longs.values()]\n",
    "        has_opened_long = bool(any(long_balance > 0 for long_balance in long_balances))\n",
    "        # only open a long if the fixed rate is higher than variable rate\n",
    "        # if (market.rate - market.market_state.vault_apr) > 0:\n",
    "        if 1 > 0:\n",
    "            # FIXME: get_max_long should be able to take an optional argument that is a max target apr\n",
    "            total_bonds_to_match_vault_apr = market.pricing_model.calc_bond_reserves(\n",
    "                target_apr=market.market_state.vault_apr, # fixed rate targets the variable rate\n",
    "                time_remaining=market.position_duration,\n",
    "                market_state=market.market_state\n",
    "            )\n",
    "            # get the delta bond amount & convert units\n",
    "            new_bonds_to_match_vault_apr = (market.market_state.bond_reserves - total_bonds_to_match_vault_apr) * market.spot_price\n",
    "            # divide by 2 to adjust for changes in share reserves when the trade is executed\n",
    "            adjusted_bonds = new_bonds_to_match_vault_apr / 2\n",
    "            adjusted_base = adjusted_bonds * market.spot_price\n",
    "            # get the maximum amount the agent can long given the market and the agent's wallet\n",
    "            max_trade_amount_in_base = self.get_max_long(market)\n",
    "            minimum_price_accepted = 1 / ( 1 + market.market_state.vault_apr * (market.position_duration.days/365)) # [0,1]\n",
    "            trade_amount_in_base = np.maximum(1e-18,np.minimum(max_trade_amount_in_base, adjusted_base)) # don't want to trade more than the agent has or more than the market can handle\n",
    "            if trade_amount_in_base >= daily_trade_size:\n",
    "                # FIXME: run Matt's function to calculate \n",
    "                # FIXME: minimum amount for buy PTs (either open long or close short) and maximum in for sell PTs (open short or close long)\n",
    "                action_list += [\n",
    "                    self.create_agent_action(\n",
    "                        action_type=MarketActionType.OPEN_LONG, # in base\n",
    "                        trade_amount=trade_amount_in_base, # $250k\n",
    "                        mint_time=market.time,\n",
    "                        minimum_amount_accepted=trade_amount_in_base/minimum_price_accepted # no slippage estimate where fixed rate = vault apr\n",
    "                        # minimum_amount_accepted=best_case_slippy  #trade_amount_in_base/minimum_price_accepted # in PTs \n",
    "                    ) \n",
    "                ]\n",
    "\n",
    "        return action_list"
   ]
  },
  {
   "cell_type": "code",
   "execution_count": null,
   "metadata": {
    "tags": []
   },
   "outputs": [],
   "source": [
    "class LPAgent(Agent):\n",
    "    \"\"\"Adds a large LP\"\"\"\n",
    "    def action(self, market: Market):\n",
    "        \"\"\"implement user strategy\"\"\"\n",
    "        if self.wallet.lp_tokens > 0: # has already opened the lp\n",
    "            action_list = []\n",
    "        else:\n",
    "            action_list = [\n",
    "                self.create_agent_action(\n",
    "                    action_type=MarketActionType.ADD_LIQUIDITY, trade_amount=self.budget\n",
    "                ),\n",
    "            ]\n",
    "        return action_list"
   ]
  },
  {
   "cell_type": "code",
   "execution_count": null,
   "metadata": {
    "tags": []
   },
   "outputs": [],
   "source": [
    "\n",
    "def get_example_agents(rng: Generator, num_fridas: int, num_louies: int, existing_agents: int = 0) -> list[Agent]:\n",
    "    \"\"\"Instantiate a set of custom agents\"\"\"\n",
    "    agents = []\n",
    "    for address in range(existing_agents, existing_agents + num_fridas):\n",
    "        agent = FixedFrida(\n",
    "            rng=rng,\n",
    "            wallet_address=address,\n",
    "            budget=np.inf,\n",
    "        )\n",
    "        agent.log_status_report()\n",
    "        agents += [agent]\n",
    "    existing_agents += len(agents)\n",
    "    for address in range(existing_agents, existing_agents + num_louies):\n",
    "        agent = LongLouie(\n",
    "            rng=rng,\n",
    "            wallet_address=address,\n",
    "            budget=np.inf,\n",
    "        )\n",
    "        agent.log_status_report()\n",
    "        agents += [agent]\n",
    "    return agents"
   ]
  },
  {
   "cell_type": "markdown",
   "metadata": {
    "id": "vedqHoVLLtKq"
   },
   "source": [
    "\n",
    "### Define vault apr process"
   ]
  },
  {
   "cell_type": "code",
   "execution_count": null,
   "metadata": {
    "id": "fqS3ean1LqNm",
    "tags": []
   },
   "outputs": [],
   "source": [
    "# Define the vault apr\n",
    "vault_apr = np.array([0.01]*config.num_trading_days)\n",
    "#vault_apr[config.num_trading_days//2:] = 0.05\n",
    "config.vault_apr = vault_apr.tolist()\n",
    "config.freeze()"
   ]
  },
  {
   "cell_type": "markdown",
   "metadata": {
    "id": "zKf-kSthMJSa"
   },
   "source": [
    "### Setup simulation objects"
   ]
  },
  {
   "cell_type": "code",
   "execution_count": null,
   "metadata": {
    "id": "xpagOoPAMJvv",
    "tags": []
   },
   "outputs": [],
   "source": [
    "# define root logging parameters\n",
    "output_utils.setup_logging(log_filename=config.log_filename, log_level=config.log_level)\n",
    "\n",
    "# instantiate the pricing model\n",
    "pricing_model = sim_utils.get_pricing_model(config.pricing_model_name)\n",
    "\n",
    "# instantiate the market\n",
    "position_duration = StretchedTime(\n",
    "    days=config.num_position_days,\n",
    "    time_stretch=pricing_model.calc_time_stretch(config.target_pool_apr),\n",
    "    normalizing_constant=config.num_position_days,\n",
    ")\n",
    "\n",
    "init_target_liquidity = 1 # tiny amount for setting up apr\n",
    "share_reserves_direct, bond_reserves_direct = pricing_model.calc_liquidity(\n",
    "    market_state=MarketState(\n",
    "        share_price=config.init_share_price,\n",
    "        init_share_price=config.init_share_price\n",
    "    ),\n",
    "    target_liquidity=init_target_liquidity,\n",
    "    target_apr=config.target_pool_apr * config.num_position_days / 365,\n",
    "    position_duration=position_duration,\n",
    ")\n",
    "market = Market(\n",
    "    pricing_model=pricing_model,\n",
    "    market_state=MarketState(\n",
    "        share_reserves=share_reserves_direct,\n",
    "        bond_reserves=bond_reserves_direct,\n",
    "        base_buffer=0,\n",
    "        bond_buffer=0,\n",
    "        lp_reserves=init_target_liquidity / config.init_share_price,\n",
    "        init_share_price=config.init_share_price,  # u from YieldSpace w/ Yield Baring Vaults\n",
    "        share_price=config.init_share_price,  # c from YieldSpace w/ Yield Baring Vaults\n",
    "        vault_apr=config.vault_apr[0],  # yield bearing source apr\n",
    "        trade_fee_percent=config.trade_fee_percent,  # g\n",
    "        redemption_fee_percent=config.redemption_fee_percent,\n",
    "    ),\n",
    "    position_duration=position_duration\n",
    ")\n",
    "\n",
    "# Instantiate the initial LP agent.\n",
    "current_market_liquidity = market.pricing_model.calc_total_liquidity_from_reserves_and_price(\n",
    "    market_state=market.market_state, share_price=market.market_state.share_price\n",
    ")\n",
    "lp_amount = config.target_liquidity - current_market_liquidity\n",
    "init_agents = [LPAgent(wallet_address=0, budget=lp_amount)]\n",
    "\n",
    "# initialize the simulator using only the initial LP.\n",
    "simulator = Simulator(config=config, market=market)\n",
    "simulator.add_agents(init_agents)\n",
    "simulator.collect_and_execute_trades()"
   ]
  },
  {
   "cell_type": "markdown",
   "metadata": {
    "id": "s7MvElrkMY4M"
   },
   "source": [
    "### Run the simulation"
   ]
  },
  {
   "cell_type": "code",
   "execution_count": null,
   "metadata": {
    "id": "YEeRha47MX8I",
    "tags": []
   },
   "outputs": [],
   "source": [
    "# add the random agents\n",
    "trading_agents = get_example_agents(\n",
    "    rng=simulator.rng,\n",
    "    num_fridas=num_fridas,\n",
    "    num_louies=num_louies,\n",
    "    existing_agents=len(simulator.agents)\n",
    ")\n",
    "simulator.add_agents(trading_agents)\n",
    "print(f\"Simulator has {len(simulator.agents)} agents\")\n",
    "\n",
    "# run the simulation\n",
    "simulator.run_simulation()"
   ]
  },
  {
   "cell_type": "code",
   "execution_count": null,
   "metadata": {
    "tags": []
   },
   "outputs": [],
   "source": [
    "# convert simulation state to a pandas dataframe\n",
    "trades = post_processing.compute_derived_variables(simulator)"
   ]
  },
  {
   "cell_type": "markdown",
   "metadata": {
    "id": "N7sOn6dYPJos"
   },
   "source": [
    "### Plot simulation results"
   ]
  },
  {
   "cell_type": "markdown",
   "metadata": {},
   "source": [
    "\n",
    "### vault & pool apr"
   ]
  },
  {
   "cell_type": "code",
   "execution_count": null,
   "metadata": {},
   "outputs": [],
   "source": [
    "fig, axes, _ = get_gridspec_subplots()\n",
    "# turn off vertical gridlines\n",
    "axes[0].grid(axis=\"x\", which=\"both\", color=\"black\", alpha=0)\n",
    "ax = axes[0]\n",
    "start_index = 0\n",
    "end_index = -1\n",
    "spot_size = 2.\n",
    "ax.scatter(trades.iloc[start_index:end_index][\"run_trade_number\"], trades.iloc[start_index:end_index][\"vault_apr\"], label=\"vault\", c=\"blue\", s=spot_size)\n",
    "ax.scatter(trades.iloc[start_index:end_index][\"run_trade_number\"], trades.iloc[start_index:end_index][\"pool_apr\"], label=\"pool\", c=\"orange\", s=spot_size)\n",
    "\n",
    "ax.set_title(\"Interest rates over time\")\n",
    "ax.set_xlabel(\"trade number\")\n",
    "ax.set_ylabel(\"APR\")\n",
    "ax.legend()\n",
    "# draw vertical line on days\n",
    "# day_data=np.nonzero(np.array(trades.iloc[start_index:end_index][\"day\"].diff())==1)[0]\n",
    "# for x in day_data:\n",
    "#     ax.axvline(x, c=\"black\", alpha=0.2)\n",
    "\n",
    "ax.xaxis.set_major_locator(ticker.MaxNLocator(integer=True))\n",
    "fig.set_size_inches((5, 5))"
   ]
  },
  {
   "cell_type": "code",
   "execution_count": null,
   "metadata": {
    "id": "hfwElUKJPQyC"
   },
   "outputs": [],
   "source": [
    "trades_agg = trades.groupby(\"day\").agg(\n",
    "    {\n",
    "        \"vault_apr\": [\"mean\"],\n",
    "        \"pool_apr\": [\"mean\"],\n",
    "    }\n",
    ")\n",
    "trades_agg.columns = [\"_\".join(col).strip() for col in trades_agg.columns.values]\n",
    "trades_agg = trades_agg.reset_index()\n",
    "\n",
    "fig, axes, _ = get_gridspec_subplots()\n",
    "ax = axes[0]\n",
    "start_index = 0\n",
    "end_index = -1\n",
    "spot_size = 2.\n",
    "ax.scatter(trades.iloc[start_index:end_index][\"run_trade_number\"], trades.iloc[start_index:end_index][\"vault_apr\"], label=\"vault\", c=\"blue\", s=spot_size)\n",
    "ax.scatter(trades.iloc[start_index:end_index][\"run_trade_number\"], trades.iloc[start_index:end_index][\"pool_apr\"], label=\"pool\", c=\"orange\", s=spot_size)\n",
    "ax.set_title(\"Interest rates over time\")\n",
    "ax.set_xlabel(\"trade number\")\n",
    "ax.set_ylabel(\"APR\")\n",
    "ax.legend()\n",
    "plt.show()"
   ]
  },
  {
   "cell_type": "code",
   "execution_count": null,
   "metadata": {},
   "outputs": [],
   "source": [
    "import pandas as pd\n",
    "num_longs_and_shorts = {\n",
    "    f\"agent_{agent_id}_num_longs\": [\"sum\"]\n",
    "    for agent_id in range(len(simulator.agents))\n",
    "}\n",
    "num_longs_and_shorts.update({\n",
    "    f\"agent_{agent_id}_num_shorts\": [\"sum\"]\n",
    "    for agent_id in range(len(simulator.agents))\n",
    "})\n",
    "trades_agg = trades.groupby(\"day\").agg(num_longs_and_shorts)\n",
    "trades_agg.columns = [\"_\".join(col).strip() for col in trades_agg.columns.values]\n",
    "trades_agg = trades_agg.reset_index()\n",
    "longs = trades_agg.filter(regex=\"num_longs\").sum(axis=1)\n",
    "shorts = trades_agg.filter(regex=\"num_shorts\").sum(axis=1)\n",
    "fix, axes, _ = output_utils.get_gridspec_subplots(nrows=1, ncols=1)\n",
    "ax = axes[0]\n",
    "spot_size = 2\n",
    "ax.scatter(trades_agg[\"day\"][:-1], longs[:-1], label=\"num longs\", c=\"blue\", s=spot_size)\n",
    "ax.scatter(trades_agg[\"day\"][:-1], shorts[:-1], label=\"num shorts\", c=\"orange\", s=spot_size)\n",
    "ax.legend()\n",
    "ax.set_xlabel(\"day\")\n",
    "ax.set_ylabel(\"number of positions\")\n",
    "text_handle = ax.set_title(\"Open positions\")\n",
    "fig.set_size_inches((5, 5))\n"
   ]
  },
  {
   "cell_type": "code",
   "execution_count": null,
   "metadata": {},
   "outputs": [],
   "source": [
    "fig, axes, _ = output_utils.get_gridspec_subplots(nrows=1, ncols=1)\n",
    "ax = trades.iloc[:-1].plot(x=\"run_trade_number\", y=\"share_reserves\", ax=axes[0], c=\"blue\")\n",
    "ax = trades.iloc[:-1].plot(x=\"run_trade_number\", y=\"bond_reserves\", ax=axes[0], c=\"orange\")\n",
    "ax.set_xlabel(\"trade number\")\n",
    "ax.set_ylabel(\"reserve amount\")\n",
    "ax.set_title(\"Market reserves\")\n",
    "fig.set_size_inches((5, 5))"
   ]
  },
  {
   "cell_type": "code",
   "execution_count": null,
   "metadata": {},
   "outputs": [],
   "source": [
    "lp_trades = trades.groupby(\"day\").agg(\n",
    "    {\n",
    "        f\"agent_{0}_pnl\": [\"mean\"]\n",
    "    }\n",
    ")\n",
    "lp_trades.columns = [\"_\".join(col).strip() for col in lp_trades.columns.values]\n",
    "lp_trades = lp_trades.reset_index()\n",
    "\n",
    "fridas = [agent_id for agent_id in range(len(simulator.agents)) if simulator.agents[agent_id].__class__.__name__ == \"FixedFrida\"]\n",
    "frida_trades = trades.groupby(\"day\").agg(\n",
    "    {\n",
    "        f\"agent_{agent_id}_pnl\": [\"mean\"]\n",
    "        for agent_id in fridas\n",
    "    }\n",
    ")\n",
    "frida_trades.columns = [\"_\".join(col).strip() for col in frida_trades.columns.values]\n",
    "frida_trades = frida_trades.reset_index()\n",
    "\n",
    "louies = [agent_id for agent_id in range(len(simulator.agents)) if simulator.agents[agent_id].__class__.__name__ == \"LongLouie\"]\n",
    "louies_trades = trades.groupby(\"day\").agg(\n",
    "    {\n",
    "        f\"agent_{agent_id}_pnl\": [\"mean\"]\n",
    "        for agent_id in louies\n",
    "    }\n",
    ")\n",
    "louies_trades.columns = [\"_\".join(col).strip() for col in louies_trades.columns.values]\n",
    "louies_trades = louies_trades.reset_index()\n",
    "\n",
    "fig, axes, _ = output_utils.get_gridspec_subplots(nrows=1, ncols=2, wspace=0.3)\n",
    "\n",
    "ax = axes[0]\n",
    "ax.plot(trades_agg[\"day\"][:-1], lp_trades.sum(axis=1)[:-1], label=\"LP pnl\", c=\"blue\")\n",
    "ax.set_ylabel(\"base\")\n",
    "\n",
    "ax = axes[1]\n",
    "ax.plot(trades_agg[\"day\"][:-1], frida_trades.sum(axis=1)[:-1], label=\"Frida pnl\", c=\"orange\")\n",
    "ax.plot(trades_agg[\"day\"][:-1], louies_trades.sum(axis=1)[:-1], label=\"Louie pnl\", c=\"black\")\n",
    "\n",
    "for ax in axes:\n",
    "    ax.set_xlabel(\"day\")\n",
    "    ax.legend()\n",
    "text_handle = fig.suptitle(\"Agent profitability\")\n",
    "fig.set_size_inches((10, 5))"
   ]
  },
  {
   "cell_type": "code",
   "execution_count": null,
   "metadata": {},
   "outputs": [],
   "source": [
    "trades_agg = trades.groupby(\"day\").agg(\n",
    "    {\n",
    "        \"share_reserves\": [\"mean\"],\n",
    "        \"bond_reserves\": [\"mean\"]\n",
    "    }\n",
    ")\n",
    "trades_agg.columns = [\"_\".join(col).strip() for col in trades_agg.columns.values]\n",
    "trades_agg = trades_agg.reset_index()\n",
    "fix, axes, _ = output_utils.get_gridspec_subplots(nrows=1, ncols=1)\n",
    "ax = trades_agg.iloc[:-1].plot(x=\"day\", y=\"share_reserves_mean\", ax=axes[0], label=\"share reserves\", c=\"blue\")\n",
    "ax = trades_agg.iloc[:-1].plot(x=\"day\", y=\"bond_reserves_mean\", ax=axes[0], label=\"bond reserves\", c=\"orange\")\n",
    "ax.set_xlabel(\"day\")\n",
    "ax.set_ylabel(\"number of tokenx\")\n",
    "text_handle = ax.set_title(\"Reserve levels\")\n",
    "fig.set_size_inches((5, 5))"
   ]
  },
  {
   "cell_type": "code",
   "execution_count": null,
   "metadata": {},
   "outputs": [],
   "source": [
    "total_longs_and_shorts = { \n",
    "    f\"agent_{agent_id}_total_longs\": [\"mean\"] # total_longs is an aggregate value recomputed each trade\n",
    "    for agent_id in range(len(simulator.agents))\n",
    "}\n",
    "total_longs_and_shorts.update({\n",
    "    f\"agent_{agent_id}_total_shorts\": [\"mean\"] # total_shorts is an aggregate value recomputed each trade\n",
    "    for agent_id in range(len(simulator.agents))\n",
    "})\n",
    "total_longs_and_shorts.update({\n",
    "    f\"agent_{agent_id}_total_shorts_balance\": [\"mean\"] # shorts_balance is an aggregate value recomputed each trade\n",
    "    for agent_id in range(len(simulator.agents))\n",
    "})\n",
    "trades_agg = trades.groupby(\"day\").agg(total_longs_and_shorts)\n",
    "trades_agg.columns = [\"_\".join(col).strip() for col in trades_agg.columns.values]\n",
    "trades_agg = trades_agg.reset_index()\n",
    "longs = trades_agg.filter(regex=\"total_longs\").sum(axis=1)\n",
    "shorts = trades_agg.filter(regex=\"total_shorts$\").sum(axis=1)\n",
    "shorts_balance = trades_agg.filter(regex=\"total_shorts_balance\").sum(axis=1)\n",
    "fix, axes, _ = output_utils.get_gridspec_subplots(nrows=1, ncols=1)\n",
    "ax = axes[0]\n",
    "ax.plot(trades_agg[\"day\"][:-1], longs[:-1], label=\"total longs\", c=\"blue\")\n",
    "ax.plot(trades_agg[\"day\"][:-1], shorts[:-1], label=\"total shorts\", c=\"orange\")\n",
    "ax.plot(trades_agg[\"day\"][:-1], shorts_balance[:-1], label=\"total shorts balance\", c=\"red\")\n",
    "ax.legend()\n",
    "ax.set_xlabel(\"day\")\n",
    "ax.set_ylabel(\"base\")\n",
    "text_handle = ax.set_title(\"Value of open positions\")\n",
    "fig.set_size_inches((5, 5))"
   ]
  },
  {
   "cell_type": "code",
   "execution_count": null,
   "metadata": {},
   "outputs": [],
   "source": [
    "trades_agg = trades.groupby(\"day\").agg(\n",
    "    {\n",
    "        \"base_buffer\": [\"mean\"],\n",
    "        \"bond_buffer\": [\"mean\"],\n",
    "        \"spot_price\": [\"mean\"],\n",
    "    }\n",
    ")\n",
    "trades_agg.columns = [\"_\".join(col).strip() for col in trades_agg.columns.values]\n",
    "trades_agg = trades_agg.reset_index()\n",
    "trades_agg[\"bond_buffer_mean_in_base\"] = trades_agg[\"bond_buffer_mean\"] / trades_agg[\"spot_price_mean\"]\n",
    "\n",
    "fig, axes, _ = output_utils.get_gridspec_subplots()\n",
    "ax = trades_agg.iloc[:-1].plot(x=\"day\", y=\"base_buffer_mean\", ax=axes[0], c=\"blue\")\n",
    "ax = trades_agg.iloc[:-1].plot(x=\"day\", y=\"bond_buffer_mean_in_base\", ax=axes[0], c=\"orange\")\n",
    "text_handle = ax.set_title(\"amount locked\")\n",
    "ax.set_xlabel(\"day\")\n",
    "ax.set_ylabel(\"buffer quantities (in base units)\")\n",
    "fig.set_size_inches((5, 5))"
   ]
  },
  {
   "cell_type": "code",
   "execution_count": null,
   "metadata": {},
   "outputs": [],
   "source": [
    "trades_agg = trades.groupby(\"day\").agg(\n",
    "    {\n",
    "        \"spot_price\": [\"mean\"]\n",
    "    }\n",
    ")\n",
    "trades_agg.columns = [\"_\".join(col).strip() for col in trades_agg.columns.values]\n",
    "trades_agg = trades_agg.reset_index()\n",
    "trades_agg[\"leverage\"] = 1 / (1 - trades_agg[\"spot_price_mean\"])\n",
    "\n",
    "fig, axes, _ = output_utils.get_gridspec_subplots()\n",
    "ax = axes[0]\n",
    "ax.plot(trades_agg[\"day\"][:-1], trades_agg[\"leverage\"][:-1])\n",
    "ax.legend([\"leverage\"],loc=\"upper left\")\n",
    "# plot on secondary axis\n",
    "ax2 = ax.twinx()\n",
    "ax2.plot(trades_agg[\"day\"][:-1], trades_agg[\"spot_price_mean\"][:-1], c=\"orange\")\n",
    "ax2.legend([\"spot price\"], loc=\"upper right\")\n",
    "text_handle = ax.set_title(\"Teapot graph\")\n",
    "ax.set_xlabel(\"day\")\n",
    "ax.set_ylabel(\"1/(1-p)\")\n",
    "fig.set_size_inches((5, 5))"
   ]
  },
  {
   "cell_type": "code",
   "execution_count": null,
   "metadata": {},
   "outputs": [],
   "source": [
    "# === GET THE DATA ===\n",
    "# aggregate data\n",
    "keep_columns = [\n",
    "    \"day\",\n",
    "]\n",
    "trades_agg = trades.groupby(keep_columns).agg(\n",
    "    {\n",
    "        'spot_price': ['mean'],\n",
    "        'delta_base_abs': ['sum','count'],\n",
    "        'share_reserves': ['mean'],\n",
    "        'bond_reserves': ['mean'],\n",
    "        'lp_reserves': ['mean'],\n",
    "        'agent_0_pnl_no_mock': ['mean'],\n",
    "    }\n",
    ")\n",
    "trades_agg.columns = [\"_\".join(col).strip() for col in trades_agg.columns.values]\n",
    "trades_agg = trades_agg.reset_index()\n",
    "# display(trades_agg.head(5))\n",
    "# display(trades_agg.columns)\n",
    "\n",
    "# === PLOT THE GRAPH ===\n",
    "fig, ax = plt.subplots(1,3,figsize=(20,6))\n",
    "exclude_last_day = True\n",
    "exclude_first_day = True\n",
    "num_agents = 1\n",
    "start_idx = 0 if exclude_first_day is False else 1\n",
    "first_trade_that_is_on_last_day = min(trades_agg.index[trades_agg.day == max(trades_agg.day)])\n",
    "end_idx = len(trades_agg) - 2 if exclude_last_day is True else len(trades_agg)-1\n",
    "data = trades_agg.loc[start_idx:end_idx,\"agent_0_pnl_no_mock_mean\"]\n",
    "\n",
    "# first subplot\n",
    "ax[0].plot(trades_agg.loc[start_idx:end_idx,\"day\"], data, label=f\"mean = {trades_agg.loc[end_idx,'agent_0_pnl_no_mock_mean']:.3f}\")\n",
    "ax[0].set_title(\"LP PNL Over Time\")\n",
    "ax[0].set_ylabel(\"PNL\")\n",
    "ax[0].set_xlabel(\"Day\")\n",
    "xtick_step = 10\n",
    "ax[0].set_xticks([0]+[x for x in range(9, config.num_trading_days + 1, xtick_step)])\n",
    "ax[0].set_xticklabels(['1']+[str(x+1) for x in range(9, config.num_trading_days + 1, xtick_step)])\n",
    "final_value = data.values[len(data)-1]\n",
    "starting_value = data.values[0]\n",
    "ax[0].legend({f\"final value = {final_value:,.0f} return of {final_value/starting_value-1:.2%} in {config.num_trading_days} days\"})\n",
    "ax[0].set_ylabel(\"PnL in millions\")\n",
    "\n",
    "# second subplot\n",
    "divisor = 1e6\n",
    "ydata = trades_agg.loc[start_idx:end_idx,\"delta_base_abs_sum\"]/divisor\n",
    "ax[1].bar(trades_agg.loc[start_idx:end_idx,\"day\"],\\\n",
    "    ydata,\\\n",
    "    label=f\"mean = {ydata.mean():,.1f}\")\n",
    "ax[1].plot(trades_agg.loc[start_idx:end_idx,\"day\"],\\\n",
    "    ydata.cumsum(),\\\n",
    "    label=f\"sum = {ydata.sum():,.1f}\")\n",
    "ax[1].legend(loc='best')\n",
    "ax[1].set_title(\"Market Volume\")\n",
    "ax[1].set_ylabel(\"Base in millions\")\n",
    "ax[1].set_xlabel(\"Day\")\n",
    "xtick_step = 10\n",
    "ax[1].set_xticks([0]+[x for x in range(9, config.num_trading_days + 1, xtick_step)])\n",
    "ax[1].set_xticklabels(['1']+[str(x+1) for x in range(9, config.num_trading_days + 1, xtick_step)])\n",
    "ylim = ax[1].get_ylim()\n",
    "ax[1].set_ylim(0, ylim[1])\n",
    "\n",
    "# third subplot\n",
    "ax[2].bar(trades_agg.loc[start_idx:end_idx,\"day\"],\\\n",
    "    trades_agg.loc[start_idx:end_idx,\"delta_base_abs_count\"],\\\n",
    "    label=f\"mean = {trades_agg.loc[start_idx:end_idx,'delta_base_abs_count'].mean():,.1f}\")\n",
    "ax[2].legend(loc='best')\n",
    "ax[2].set_title(\"# of trades\")\n",
    "ax[2].set_xlabel(\"Day\")\n",
    "xtick_step = 10\n",
    "ax[2].set_xticks([0]+[x for x in range(9, config.num_trading_days + 1, xtick_step)])\n",
    "ax[2].set_xticklabels(['1']+[str(x+1) for x in range(9, config.num_trading_days + 1, xtick_step)])\n",
    "ylim = ax[2].get_ylim()\n",
    "ax[2].set_ylim(0, ylim[1])\n",
    "\n",
    "plt.show()"
   ]
  },
  {
   "cell_type": "code",
   "execution_count": null,
   "metadata": {},
   "outputs": [],
   "source": []
  },
  {
   "cell_type": "code",
   "execution_count": null,
   "metadata": {},
   "outputs": [],
   "source": []
  },
  {
   "cell_type": "code",
   "execution_count": null,
   "metadata": {},
   "outputs": [],
   "source": []
  }
 ],
 "metadata": {
  "colab": {
   "include_colab_link": true,
   "private_outputs": true,
   "provenance": []
  },
  "kernelspec": {
   "display_name": "elf-env-3.11",
   "language": "python",
   "name": "python3"
  },
  "language_info": {
   "codemirror_mode": {
    "name": "ipython",
    "version": 3
   },
   "file_extension": ".py",
   "mimetype": "text/x-python",
   "name": "python",
   "nbconvert_exporter": "python",
   "pygments_lexer": "ipython3",
   "version": "3.11.1"
  },
  "vscode": {
   "interpreter": {
    "hash": "c5d2c6119c56bb6ee8800af392fefd9822dd75dbd861150440c37a69b7854c11"
   }
  }
 },
 "nbformat": 4,
 "nbformat_minor": 4
}
