{
  "cells": [
    {
      "cell_type": "markdown",
      "metadata": {
        "id": "QhRy2ybG7IV8"
      },
      "source": [
        "# Automatic parameter sweeping & result visualizaiton\n",
        "This notebook demonstrates our ability to sweep over a set of parameters for markets and pricing models. The final results are displayed via a [parallel coordinates plot](https://arxiv.org/abs/1705.00368), which illustrates how each parameter influences a final metric, such as net fees earned."
      ]
    },
    {
      "cell_type": "code",
      "execution_count": null,
      "metadata": {
        "id": "vm63VvwRD1aU"
      },
      "outputs": [],
      "source": [
        "import time\n",
        "\n",
        "import numpy as np\n",
        "import pandas as pd\n",
        "import itertools\n",
        "import plotly.graph_objects as go\n",
        "\n",
        "from elfpy.simulators import YieldSimulator\n",
        "from elfpy.utils.data import format_trades"
      ]
    },
    {
      "cell_type": "code",
      "execution_count": null,
      "metadata": {
        "id": "TuYjZab4D5i_"
      },
      "outputs": [],
      "source": [
        "start_time = time.time()\n",
        "num_runs = 0\n",
        "\n",
        "config_file = \"../../config/example_config.toml\"\n",
        "simulator = YieldSimulator(config_file)\n",
        "simulator_rng = np.random.default_rng(simulator.config.simulator.random_seed)\n",
        "simulator.reset_rng(simulator_rng)\n",
        "simulator.set_random_variables()\n",
        "\n",
        "pricing_models = ['Element']#, 'YieldSpacev2']\n",
        "floor_fees = [0, 5, 10] #bps\n",
        "vault_ages = [0.1, 0.3, 0.5] # normalized year\n",
        "init_pool_apys = [0.02, 0.05, 0.20] # decimal percent\n",
        "vault_apys = [[i,]*simulator.config.simulator.num_trading_days for i in [0.03, 0.05, 0.09]] # multiple constant vault apy\n",
        "\n",
        "for (\n",
        "    pricing_model,\n",
        "    vault_age,\n",
        "    vault_apy,\n",
        "    init_pool_apy,\n",
        "    floor_fee\n",
        ") in itertools.product(\n",
        "    pricing_models,\n",
        "    vault_ages,\n",
        "    vault_apys,\n",
        "    init_pool_apys,\n",
        "    floor_fees\n",
        "):\n",
        "    if pricing_model == 'Element' and floor_fee > 0:\n",
        "        pass\n",
        "    override_dict = {\n",
        "        'pricing_model_name': pricing_model,\n",
        "        'vault_apy': vault_apy,\n",
        "        'init_vault_age': vault_age,\n",
        "        'init_pool_apy': init_pool_apy,\n",
        "        'floor_fee': floor_fee\n",
        "    }\n",
        "    simulator.run_simulation(override_dict)\n",
        "    num_runs += 1\n",
        "\n",
        "end_time = time.time()\n",
        "print(f'Total time for {num_runs} runs was {end_time-start_time:.3f} seconds; which is {(end_time-start_time)/num_runs:.3f} seconds per run')"
      ]
    },
    {
      "cell_type": "code",
      "execution_count": null,
      "metadata": {
        "id": "58cnhm1Bv9KG"
      },
      "outputs": [],
      "source": [
        "[trades, df_fees_volume] = format_trades(simulator.analysis_dict)\n",
        "model_numbers = []\n",
        "for name in trades['model_name']:\n",
        "    if name == 'Element':\n",
        "        model_numbers.append(0)\n",
        "    elif name == 'YieldSpacev2':\n",
        "        model_numbers.append(1)\n",
        "    elif name == 'YieldSpacev2MinFee':\n",
        "        model_numbers.append(2)\n",
        "trades['model_number'] = model_numbers\n",
        "\n",
        "preserved_columns = [\n",
        "    'day',\n",
        "    'model_name',\n",
        "    'model_number',\n",
        "    'init_vault_age',\n",
        "    'price_total_return_scaled_to_share_price',\n",
        "]\n",
        "trades_reduced = trades.groupby(preserved_columns).agg({\n",
        "    'trade_volume_usd': ['sum'],\n",
        "    'fee_in_usd': ['mean', 'sum'],\n",
        "    'fee_in_bps': ['mean', 'sum'],\n",
        "    'pool_apy': ['mean'],\n",
        "    'vault_apy': ['mean'],\n",
        "})\n",
        "trades_reduced.columns = ['_'.join(col).strip() for col in trades_reduced.columns.values]\n",
        "trades_reduced = trades_reduced.reset_index()\n",
        "#trades_reduced['spot_price_growth'] = (trades_reduced.groupby(['day'])['price_total_return_scaled_to_share_price'].apply(pd.Series.pct_change) + 1)\n",
        "#trades_reduced['spot_price_growth_sum'] = trades_reduced.groupby(['day']).agg({'spot_price_growth':['sum']})\n",
        "\n",
        "trades_reduced"
      ]
    },
    {
      "cell_type": "code",
      "execution_count": null,
      "metadata": {
        "id": "nBi1I1DX1aDa"
      },
      "outputs": [],
      "source": [
        "fig = go.Figure(data=\n",
        "    go.Parcoords(\n",
        "        line = dict(color = trades_reduced.fee_in_usd_sum,\n",
        "                   #colorscale = 'Electric',\n",
        "                   colorscale = 'viridis',\n",
        "                   #colorscale = 'tealrose',\n",
        "                   showscale = True,\n",
        "                   cmin = trades_reduced.fee_in_usd_sum.min(),\n",
        "                   cmax = trades_reduced.fee_in_usd_sum.max()),\n",
        "        dimensions = list([\n",
        "            dict(tickvals = [0, 1, 2],\n",
        "                 ticktext = ['Element', 'YieldSpacev2', 'YieldSpacev2MinFee'],\n",
        "                 label = 'Model Type',\n",
        "                 values = trades_reduced.model_number),\n",
        "            dict(range = [trades_reduced.init_vault_age.min(), trades_reduced.init_vault_age.max()],\n",
        "                 #tickvals = list(range(trades_reduced.init_vault_age.min(), trades_reduced.init_vault_age.max()+2, 5)),\n",
        "                 label = 'Initial Vault Age',\n",
        "                 values = trades_reduced.init_vault_age),\n",
        "            dict(range = [trades_reduced.vault_apy_mean.min(), trades_reduced.vault_apy_mean.max()],\n",
        "                 label = \"Vault APY\",\n",
        "                 values = trades_reduced.vault_apy_mean),\n",
        "            dict(range = [trades_reduced.pool_apy_mean.min(), trades_reduced.pool_apy_mean.max()],\n",
        "                 label = 'Mean Pool APY',\n",
        "                 values = trades_reduced.pool_apy_mean),\n",
        "            dict(range = [trades_reduced.fee_in_usd_sum.min(), trades_reduced.fee_in_usd_sum.max()],\n",
        "                 label = 'Fee (USD)',\n",
        "                 values = trades_reduced.fee_in_usd_sum),\n",
        "        ])\n",
        "    )\n",
        ")\n",
        "\n",
        "fig.show()"
      ]
    }
  ],
  "metadata": {
    "colab": {
      "collapsed_sections": [],
      "private_outputs": true,
      "provenance": []
    },
    "kernelspec": {
      "display_name": "Python 3.9.6 64-bit",
      "language": "python",
      "name": "python3"
    },
    "language_info": {
      "codemirror_mode": {
        "name": "ipython",
        "version": 3
      },
      "file_extension": ".py",
      "mimetype": "text/x-python",
      "name": "python",
      "nbconvert_exporter": "python",
      "pygments_lexer": "ipython3",
      "version": "3.9.6"
    },
    "vscode": {
      "interpreter": {
        "hash": "31f2aee4e71d21fbe5cf8b01ff0e069b9275f58929596ceb00d14d90e3e16cd6"
      }
    }
  },
  "nbformat": 4,
  "nbformat_minor": 0
}
