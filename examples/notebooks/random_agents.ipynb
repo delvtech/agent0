{
  "cells": [
    {
      "attachments": {},
      "cell_type": "markdown",
      "metadata": {},
      "source": [
        "## Random agents with stepped vault APR"
      ]
    },
    {
      "attachments": {},
      "cell_type": "markdown",
      "metadata": {},
      "source": [
        "### Step 1: Setup experiment parameters"
      ]
    },
    {
      "cell_type": "code",
      "execution_count": 1,
      "metadata": {},
      "outputs": [],
      "source": [
        "from elfpy import DEFAULT_LOG_MAXBYTES\n",
        "\n",
        "log_filename = \"../../.logging/random_agent_demo.log\" # Output filename for logging\n",
        "config_file = \"../../config/example_config.toml\" # Config file to start from (overrides are specified below)\n",
        "\n",
        "log_level = \"DEBUG\" # Logging level, should be in [\"DEBUG\", \"INFO\", \"WARNING\"]\n",
        "max_bytes = DEFAULT_LOG_MAXBYTES # Maximum log file output size, in bytes. More than 100 files will cause overwrites.\n",
        "pricing_model = \"Hyperdrive\" # can be yieldspace or hyperdrive\n",
        "\n",
        "num_agents = 5 # int specifying how many agents you want to simulate\n",
        "agent_budget = 10_000 # max money an agent can spend\n",
        "\n",
        "num_trading_days = 3#100  # Number of simulated trading days\n",
        "blocks_per_day = 20 # Initial vault APR\n",
        "target_liquidity = 1e7 # target total liquidity of the initial market, before any trades\n",
        "target_pool_apr = 0.05 # target pool APR of the initial market after the LP\n",
        "fee_percent = 0.1 # fee percent collected on trades\n",
        "\n",
        "vault_apr_init = 0.01 # Initial vault APR\n",
        "vault_apr_jump_size = 0.01 # Size the vault APR can jump\n",
        "vault_apr_num_jumps = 5 # The average number of jumps to accur in num_trading_days\n",
        "vault_apr_jump_direction = \"random\" # The direction of a jump. Can be 'up', 'down', or 'random'."
      ]
    },
    {
      "attachments": {},
      "cell_type": "markdown",
      "metadata": {},
      "source": [
        "### Step 2: Setup random agent"
      ]
    },
    {
      "cell_type": "code",
      "execution_count": 2,
      "metadata": {},
      "outputs": [],
      "source": [
        "from typing import Generator\n",
        "import numpy as np\n",
        "from elfpy.types import MarketActionType, MarketAction, WEI\n",
        "from elfpy.agent import Agent\n",
        "from elfpy.markets import Market\n",
        "\n",
        "class RandomAgent(Agent):\n",
        "    \"\"\"\n",
        "    Agent that randomly opens or closes longs or shorts\n",
        "    \"\"\"\n",
        "\n",
        "    def __init__(self, rng: Generator, wallet_address: int, budget: int = 10_000) -> None:\n",
        "        \"\"\"Add custom stuff then call basic policy init\"\"\"\n",
        "        self.rng = rng\n",
        "        super().__init__(wallet_address, budget)\n",
        "\n",
        "    def action(self, market: Market) -> list[MarketAction]:\n",
        "        \"\"\"Implement a random user strategy\n",
        "\n",
        "        The agent performs one of four possible trades:\n",
        "            [OPEN_LONG, OPEN_SHORT, CLOSE_LONG, CLOSE_SHORT]\n",
        "            with the condition that close actions can only be performed after open actions\n",
        "\n",
        "        The amount opened and closed is random, within constraints given by agent budget & market reserve levels\n",
        "\n",
        "        Parameters\n",
        "        ----------\n",
        "        market : Market\n",
        "            the trading market\n",
        "\n",
        "        Returns\n",
        "        -------\n",
        "        action_list : list[MarketAction]\n",
        "        \"\"\"\n",
        "        available_actions = [MarketActionType.OPEN_SHORT, MarketActionType.OPEN_LONG]\n",
        "        has_opened_short = bool(any((short.balance > 0 for short in self.wallet.shorts.values())))\n",
        "        if has_opened_short:\n",
        "            available_actions.append(MarketActionType.CLOSE_SHORT)\n",
        "        has_opened_long = bool(any((long.balance > 0 for long in self.wallet.longs.values())))\n",
        "        if has_opened_long:\n",
        "            available_actions.append(MarketActionType.CLOSE_LONG)\n",
        "        action_type = self.rng.choice(available_actions, size=1)\n",
        "        match action_type:\n",
        "            case MarketActionType.OPEN_SHORT:\n",
        "                random_normal = self.rng.normal(loc=self.budget * 0.1, scale=self.budget * 0.01)\n",
        "                trade_amount = np.maximum(WEI, np.minimum(self.get_max_short(market), random_normal))\n",
        "                action_list = [\n",
        "                    self.create_agent_action(action_type=action_type, trade_amount=trade_amount, mint_time=market.time),\n",
        "                ]\n",
        "            case MarketActionType.OPEN_LONG:\n",
        "                random_normal = self.rng.normal(loc=self.budget * 0.1, scale=self.budget * 0.01)\n",
        "                trade_amount = np.maximum(WEI, np.minimum(self.get_max_long(market), random_normal))\n",
        "                action_list = [\n",
        "                    self.create_agent_action(action_type=action_type, trade_amount=trade_amount, mint_time=market.time),\n",
        "                ]\n",
        "            case MarketActionType.CLOSE_SHORT:\n",
        "                short_time = self.rng.choice(list(self.wallet.shorts))\n",
        "                trade_amount = self.rng.uniform(low=WEI, high=self.wallet.shorts[short_time].balance)\n",
        "                action_list = [\n",
        "                    self.create_agent_action(action_type=action_type, trade_amount=trade_amount, mint_time=short_time),\n",
        "                ]\n",
        "            case MarketActionType.CLOSE_LONG:\n",
        "                long_time = self.rng.choice(list(self.wallet.longs))\n",
        "                trade_amount = self.rng.uniform(low=WEI, high=self.wallet.longs[long_time].balance)\n",
        "                action_list = [\n",
        "                    self.create_agent_action(action_type=action_type, trade_amount=trade_amount, mint_time=long_time),\n",
        "                ]\n",
        "        return action_list\n",
        "\n",
        "\n",
        "def get_example_agents(rng: Generator, budget: float, new_agents: int, existing_agents: int = 0) -> list[Agent]:\n",
        "    \"\"\"Instantiate a set of custom agents\"\"\"\n",
        "    agents = []\n",
        "    for address in range(existing_agents, existing_agents + new_agents):\n",
        "        agent = RandomAgent(\n",
        "            rng=rng,\n",
        "            wallet_address=address,\n",
        "            budget=budget,\n",
        "        )\n",
        "        agent.log_status_report()\n",
        "        agents += [agent]\n",
        "    return agents"
      ]
    },
    {
      "attachments": {},
      "cell_type": "markdown",
      "metadata": {},
      "source": [
        "### Step 3: Define vault apr process"
      ]
    },
    {
      "cell_type": "code",
      "execution_count": 3,
      "metadata": {},
      "outputs": [],
      "source": [
        "from elfpy.utils.config import Config\n",
        "\n",
        "def poisson_vault_apr(\n",
        "    config: Config, initial_apr: float, jump_size: float, number_of_jumps: int, direction: str\n",
        ") -> Generator:\n",
        "    poisson_jumps = config.simulator.rng.poisson(\n",
        "        lam=number_of_jumps, size=config.simulator.num_trading_days - 1\n",
        "    ).tolist()\n",
        "    match direction:\n",
        "        case \"up\":\n",
        "            sign = 1\n",
        "        case \"down\":\n",
        "            sign = -1\n",
        "        case \"random\":\n",
        "            sign = config.simulator.rng.choice([-1, 1], size=1).item() # flip a coin\n",
        "        case _:\n",
        "            raise ValueError(f\"Direction must be 'up', 'down', or 'random'; not {direction}\")\n",
        "    vault_apr = np.array([initial_apr] * config.simulator.num_trading_days)\n",
        "    for jump_location in poisson_jumps:\n",
        "        step = sign * jump_size\n",
        "        vault_apr[jump_location:] += step\n",
        "    for apr in vault_apr:\n",
        "        yield apr"
      ]
    },
    {
      "attachments": {},
      "cell_type": "markdown",
      "metadata": {},
      "source": [
        "### Step 4: Setup experiment configuration using parameters specified above"
      ]
    },
    {
      "cell_type": "code",
      "execution_count": 4,
      "metadata": {
        "id": "gJSUC5pSHr6l"
      },
      "outputs": [],
      "source": [
        "import elfpy.utils.parse_config as config_utils\n",
        "\n",
        "# parameters set at the top of the notebook\n",
        "override_dict = {\n",
        "    \"pricing_model_name\": pricing_model,\n",
        "    \"num_trading_days\": num_trading_days,\n",
        "    \"num_blocks_per_day\": blocks_per_day,\n",
        "    \"pricing_model_name\": pricing_model,\n",
        "    \"target_liquidity\": target_liquidity,\n",
        "    \"target_pool_apr\": target_pool_apr,\n",
        "    \"fee_percent\": fee_percent,\n",
        "    \"logging_level\": log_level,\n",
        "}\n",
        "config = config_utils.override_config_variables(config_utils.load_and_parse_config_file(config_file), override_dict)\n",
        "\n",
        "# override the vault_apr, which is based on some variables set above\n",
        "override_dict[\"vault_apr\"] = lambda: poisson_vault_apr(\n",
        "    config=config,\n",
        "    initial_apr=vault_apr_init,\n",
        "    jump_size=vault_apr_jump_size,\n",
        "    number_of_jumps=vault_apr_num_jumps,\n",
        "    direction=vault_apr_jump_direction,\n",
        ")\n",
        "config = config_utils.override_config_variables(config, override_dict)"
      ]
    },
    {
      "attachments": {},
      "cell_type": "markdown",
      "metadata": {},
      "source": [
        "### Step 5: Run the simulation"
      ]
    },
    {
      "cell_type": "code",
      "execution_count": 5,
      "metadata": {},
      "outputs": [
        {
          "ename": "AssertionError",
          "evalue": "pricing_models.calc_lp_out_given_tokens_in: ERROR: Expected base_buffer >= 0, not -5.189848651370714e-11!",
          "output_type": "error",
          "traceback": [
            "\u001b[0;31m---------------------------------------------------------------------------\u001b[0m",
            "\u001b[0;31mAssertionError\u001b[0m                            Traceback (most recent call last)",
            "Cell \u001b[0;32mIn[5], line 16\u001b[0m\n\u001b[1;32m     13\u001b[0m simulator \u001b[39m=\u001b[39m sim_utils\u001b[39m.\u001b[39mget_simulator(config, random_agents)\n\u001b[1;32m     15\u001b[0m \u001b[39m# run the simulation\u001b[39;00m\n\u001b[0;32m---> 16\u001b[0m simulator\u001b[39m.\u001b[39;49mrun_simulation()\n",
            "File \u001b[0;32m~/code/element/elf-simulations/src/elfpy/simulators.py:257\u001b[0m, in \u001b[0;36mSimulator.run_simulation\u001b[0;34m(self)\u001b[0m\n\u001b[1;32m    253\u001b[0m \u001b[39mself\u001b[39m\u001b[39m.\u001b[39mdaily_block_number \u001b[39m=\u001b[39m daily_block_number\n\u001b[1;32m    254\u001b[0m last_block_in_sim \u001b[39m=\u001b[39m (\u001b[39mself\u001b[39m\u001b[39m.\u001b[39mday \u001b[39m==\u001b[39m \u001b[39mself\u001b[39m\u001b[39m.\u001b[39mconfig\u001b[39m.\u001b[39msimulator\u001b[39m.\u001b[39mnum_trading_days \u001b[39m-\u001b[39m \u001b[39m1\u001b[39m) \u001b[39mand\u001b[39;00m (\n\u001b[1;32m    255\u001b[0m     \u001b[39mself\u001b[39m\u001b[39m.\u001b[39mdaily_block_number \u001b[39m==\u001b[39m \u001b[39mself\u001b[39m\u001b[39m.\u001b[39mconfig\u001b[39m.\u001b[39msimulator\u001b[39m.\u001b[39mnum_blocks_per_day \u001b[39m-\u001b[39m \u001b[39m1\u001b[39m\n\u001b[1;32m    256\u001b[0m )\n\u001b[0;32m--> 257\u001b[0m \u001b[39mself\u001b[39;49m\u001b[39m.\u001b[39;49mcollect_and_execute_trades(last_block_in_sim)\n\u001b[1;32m    258\u001b[0m logging\u001b[39m.\u001b[39mdebug(\u001b[39m\"\u001b[39m\u001b[39mday = \u001b[39m\u001b[39m%d\u001b[39;00m\u001b[39m, daily_block_number = \u001b[39m\u001b[39m%d\u001b[39;00m\u001b[39m\\n\u001b[39;00m\u001b[39m\"\u001b[39m, \u001b[39mself\u001b[39m\u001b[39m.\u001b[39mday, \u001b[39mself\u001b[39m\u001b[39m.\u001b[39mdaily_block_number)\n\u001b[1;32m    259\u001b[0m \u001b[39mself\u001b[39m\u001b[39m.\u001b[39mmarket\u001b[39m.\u001b[39mlog_market_step_string()\n",
            "File \u001b[0;32m~/code/element/elf-simulations/src/elfpy/simulators.py:164\u001b[0m, in \u001b[0;36mSimulator.collect_and_execute_trades\u001b[0;34m(self, last_block_in_sim)\u001b[0m\n\u001b[1;32m    161\u001b[0m     trades \u001b[39m=\u001b[39m \u001b[39mself\u001b[39m\u001b[39m.\u001b[39mcollect_trades(agent_ids)\n\u001b[1;32m    163\u001b[0m \u001b[39m# Execute the trades.\u001b[39;00m\n\u001b[0;32m--> 164\u001b[0m \u001b[39mself\u001b[39;49m\u001b[39m.\u001b[39;49mexecute_trades(trades)\n",
            "File \u001b[0;32m~/code/element/elf-simulations/src/elfpy/simulators.py:209\u001b[0m, in \u001b[0;36mSimulator.execute_trades\u001b[0;34m(self, trades)\u001b[0m\n\u001b[1;32m    207\u001b[0m agent \u001b[39m=\u001b[39m \u001b[39mself\u001b[39m\u001b[39m.\u001b[39magents[agent_id]\n\u001b[1;32m    208\u001b[0m \u001b[39mfor\u001b[39;00m trade \u001b[39min\u001b[39;00m agent_trades:\n\u001b[0;32m--> 209\u001b[0m     agent_deltas \u001b[39m=\u001b[39m \u001b[39mself\u001b[39;49m\u001b[39m.\u001b[39;49mmarket\u001b[39m.\u001b[39;49mtrade_and_update(trade)\n\u001b[1;32m    210\u001b[0m     agent\u001b[39m.\u001b[39mupdate_wallet(agent_deltas, \u001b[39mself\u001b[39m\u001b[39m.\u001b[39mmarket)\n\u001b[1;32m    211\u001b[0m     logging\u001b[39m.\u001b[39mdebug(\n\u001b[1;32m    212\u001b[0m         \u001b[39m\"\u001b[39m\u001b[39magent #\u001b[39m\u001b[39m%g\u001b[39;00m\u001b[39m wallet deltas = \u001b[39m\u001b[39m\\n\u001b[39;00m\u001b[39m%s\u001b[39;00m\u001b[39m\"\u001b[39m,\n\u001b[1;32m    213\u001b[0m         agent\u001b[39m.\u001b[39mwallet\u001b[39m.\u001b[39maddress,\n\u001b[1;32m    214\u001b[0m         agent_deltas\u001b[39m.\u001b[39m\u001b[39m__dict__\u001b[39m,\n\u001b[1;32m    215\u001b[0m     )\n",
            "File \u001b[0;32m~/code/element/elf-simulations/src/elfpy/markets.py:147\u001b[0m, in \u001b[0;36mMarket.trade_and_update\u001b[0;34m(self, agent_action)\u001b[0m\n\u001b[1;32m    142\u001b[0m     market_deltas, agent_deltas \u001b[39m=\u001b[39m \u001b[39mself\u001b[39m\u001b[39m.\u001b[39madd_liquidity(\n\u001b[1;32m    143\u001b[0m         wallet_address\u001b[39m=\u001b[39magent_action\u001b[39m.\u001b[39mwallet_address,\n\u001b[1;32m    144\u001b[0m         trade_amount\u001b[39m=\u001b[39magent_action\u001b[39m.\u001b[39mtrade_amount,\n\u001b[1;32m    145\u001b[0m     )\n\u001b[1;32m    146\u001b[0m \u001b[39melif\u001b[39;00m agent_action\u001b[39m.\u001b[39maction_type \u001b[39m==\u001b[39m MarketActionType\u001b[39m.\u001b[39mREMOVE_LIQUIDITY:\n\u001b[0;32m--> 147\u001b[0m     market_deltas, agent_deltas \u001b[39m=\u001b[39m \u001b[39mself\u001b[39;49m\u001b[39m.\u001b[39;49mremove_liquidity(\n\u001b[1;32m    148\u001b[0m         wallet_address\u001b[39m=\u001b[39;49magent_action\u001b[39m.\u001b[39;49mwallet_address,\n\u001b[1;32m    149\u001b[0m         trade_amount\u001b[39m=\u001b[39;49magent_action\u001b[39m.\u001b[39;49mtrade_amount,\n\u001b[1;32m    150\u001b[0m     )\n\u001b[1;32m    151\u001b[0m \u001b[39melse\u001b[39;00m:\n\u001b[1;32m    152\u001b[0m     \u001b[39mraise\u001b[39;00m \u001b[39mValueError\u001b[39;00m(\u001b[39mf\u001b[39m\u001b[39m'\u001b[39m\u001b[39mERROR: Unknown trade type \u001b[39m\u001b[39m\"\u001b[39m\u001b[39m{\u001b[39;00magent_action\u001b[39m.\u001b[39maction_type\u001b[39m}\u001b[39;00m\u001b[39m\"\u001b[39m\u001b[39m.\u001b[39m\u001b[39m'\u001b[39m)\n",
            "File \u001b[0;32m~/code/element/elf-simulations/src/elfpy/markets.py:463\u001b[0m, in \u001b[0;36mMarket.remove_liquidity\u001b[0;34m(self, wallet_address, trade_amount)\u001b[0m\n\u001b[1;32m    457\u001b[0m \u001b[39mdef\u001b[39;00m \u001b[39mremove_liquidity\u001b[39m(\n\u001b[1;32m    458\u001b[0m     \u001b[39mself\u001b[39m,\n\u001b[1;32m    459\u001b[0m     wallet_address: \u001b[39mint\u001b[39m,\n\u001b[1;32m    460\u001b[0m     trade_amount: \u001b[39mfloat\u001b[39m,\n\u001b[1;32m    461\u001b[0m ) \u001b[39m-\u001b[39m\u001b[39m>\u001b[39m \u001b[39mtuple\u001b[39m[MarketDeltas, Wallet]:\n\u001b[1;32m    462\u001b[0m     \u001b[39m\"\"\"Computes new deltas for bond & share reserves after liquidity is removed\"\"\"\u001b[39;00m\n\u001b[0;32m--> 463\u001b[0m     lp_in, d_base_reserves, d_token_reserves \u001b[39m=\u001b[39m \u001b[39mself\u001b[39;49m\u001b[39m.\u001b[39;49mpricing_model\u001b[39m.\u001b[39;49mcalc_tokens_out_given_lp_in(\n\u001b[1;32m    464\u001b[0m         lp_in\u001b[39m=\u001b[39;49mtrade_amount,\n\u001b[1;32m    465\u001b[0m         rate\u001b[39m=\u001b[39;49m\u001b[39mself\u001b[39;49m\u001b[39m.\u001b[39;49mrate,\n\u001b[1;32m    466\u001b[0m         market_state\u001b[39m=\u001b[39;49m\u001b[39mself\u001b[39;49m\u001b[39m.\u001b[39;49mmarket_state,\n\u001b[1;32m    467\u001b[0m         time_remaining\u001b[39m=\u001b[39;49m\u001b[39mself\u001b[39;49m\u001b[39m.\u001b[39;49mposition_duration,\n\u001b[1;32m    468\u001b[0m     )\n\u001b[1;32m    469\u001b[0m     market_deltas \u001b[39m=\u001b[39m MarketDeltas(\n\u001b[1;32m    470\u001b[0m         d_base_asset\u001b[39m=\u001b[39m\u001b[39m-\u001b[39md_base_reserves,\n\u001b[1;32m    471\u001b[0m         d_token_asset\u001b[39m=\u001b[39m\u001b[39m-\u001b[39md_token_reserves,\n\u001b[1;32m    472\u001b[0m         d_lp_reserves\u001b[39m=\u001b[39m\u001b[39m-\u001b[39mlp_in,\n\u001b[1;32m    473\u001b[0m     )\n\u001b[1;32m    474\u001b[0m     agent_deltas \u001b[39m=\u001b[39m Wallet(\n\u001b[1;32m    475\u001b[0m         address\u001b[39m=\u001b[39mwallet_address,\n\u001b[1;32m    476\u001b[0m         base\u001b[39m=\u001b[39md_base_reserves,\n\u001b[1;32m    477\u001b[0m         lp_tokens\u001b[39m=\u001b[39m\u001b[39m-\u001b[39mlp_in,\n\u001b[1;32m    478\u001b[0m     )\n",
            "File \u001b[0;32m~/code/element/elf-simulations/src/elfpy/pricing_models/yieldspace.py:218\u001b[0m, in \u001b[0;36mYieldSpacePricingModel.calc_tokens_out_given_lp_in\u001b[0;34m(self, lp_in, rate, market_state, time_remaining)\u001b[0m\n\u001b[1;32m    210\u001b[0m \u001b[39massert\u001b[39;00m market_state\u001b[39m.\u001b[39mshare_reserves \u001b[39m>\u001b[39m\u001b[39m=\u001b[39m \u001b[39m0\u001b[39m, (\n\u001b[1;32m    211\u001b[0m     \u001b[39m\"\u001b[39m\u001b[39mpricing_models.calc_lp_out_given_tokens_in: ERROR: \u001b[39m\u001b[39m\"\u001b[39m\n\u001b[1;32m    212\u001b[0m     \u001b[39mf\u001b[39m\u001b[39m\"\u001b[39m\u001b[39mExpected share_reserves >= 0, not \u001b[39m\u001b[39m{\u001b[39;00mmarket_state\u001b[39m.\u001b[39mshare_reserves\u001b[39m}\u001b[39;00m\u001b[39m!\u001b[39m\u001b[39m\"\u001b[39m\n\u001b[1;32m    213\u001b[0m )\n\u001b[1;32m    214\u001b[0m \u001b[39massert\u001b[39;00m market_state\u001b[39m.\u001b[39mbond_reserves \u001b[39m>\u001b[39m\u001b[39m=\u001b[39m \u001b[39m0\u001b[39m, (\n\u001b[1;32m    215\u001b[0m     \u001b[39m\"\u001b[39m\u001b[39mpricing_models.calc_lp_out_given_tokens_in: ERROR: \u001b[39m\u001b[39m\"\u001b[39m\n\u001b[1;32m    216\u001b[0m     \u001b[39mf\u001b[39m\u001b[39m\"\u001b[39m\u001b[39mExpected bond_reserves >= 0, not \u001b[39m\u001b[39m{\u001b[39;00mmarket_state\u001b[39m.\u001b[39mbond_reserves\u001b[39m}\u001b[39;00m\u001b[39m!\u001b[39m\u001b[39m\"\u001b[39m\n\u001b[1;32m    217\u001b[0m )\n\u001b[0;32m--> 218\u001b[0m \u001b[39massert\u001b[39;00m market_state\u001b[39m.\u001b[39mbase_buffer \u001b[39m>\u001b[39m\u001b[39m=\u001b[39m \u001b[39m0\u001b[39m, (\n\u001b[1;32m    219\u001b[0m     \u001b[39m\"\u001b[39m\u001b[39mpricing_models.calc_lp_out_given_tokens_in: ERROR: \u001b[39m\u001b[39m\"\u001b[39m\n\u001b[1;32m    220\u001b[0m     \u001b[39mf\u001b[39m\u001b[39m\"\u001b[39m\u001b[39mExpected base_buffer >= 0, not \u001b[39m\u001b[39m{\u001b[39;00mmarket_state\u001b[39m.\u001b[39mbase_buffer\u001b[39m}\u001b[39;00m\u001b[39m!\u001b[39m\u001b[39m\"\u001b[39m\n\u001b[1;32m    221\u001b[0m )\n\u001b[1;32m    222\u001b[0m \u001b[39massert\u001b[39;00m market_state\u001b[39m.\u001b[39mlp_reserves \u001b[39m>\u001b[39m\u001b[39m=\u001b[39m \u001b[39m0\u001b[39m, (\n\u001b[1;32m    223\u001b[0m     \u001b[39m\"\u001b[39m\u001b[39mpricing_models.calc_lp_out_given_tokens_in: ERROR: \u001b[39m\u001b[39m\"\u001b[39m\n\u001b[1;32m    224\u001b[0m     \u001b[39mf\u001b[39m\u001b[39m\"\u001b[39m\u001b[39mExpected lp_reserves >= 0, not \u001b[39m\u001b[39m{\u001b[39;00mmarket_state\u001b[39m.\u001b[39mlp_reserves\u001b[39m}\u001b[39;00m\u001b[39m!\u001b[39m\u001b[39m\"\u001b[39m\n\u001b[1;32m    225\u001b[0m )\n\u001b[1;32m    226\u001b[0m \u001b[39massert\u001b[39;00m rate \u001b[39m>\u001b[39m\u001b[39m=\u001b[39m \u001b[39m0\u001b[39m, \u001b[39mf\u001b[39m\u001b[39m\"\u001b[39m\u001b[39mpricing_models.calc_lp_out_given_tokens_in: ERROR: expected rate >= 0, not \u001b[39m\u001b[39m{\u001b[39;00mrate\u001b[39m}\u001b[39;00m\u001b[39m!\u001b[39m\u001b[39m\"\u001b[39m\n",
            "\u001b[0;31mAssertionError\u001b[0m: pricing_models.calc_lp_out_given_tokens_in: ERROR: Expected base_buffer >= 0, not -5.189848651370714e-11!"
          ]
        }
      ],
      "source": [
        "from elfpy.utils import sim_utils\n",
        "import elfpy.utils.outputs as output_utils\n",
        "\n",
        "# define root logging parameters\n",
        "output_utils.setup_logging(\n",
        "    log_filename=log_filename,\n",
        "    max_bytes=max_bytes,\n",
        "    log_level=config_utils.text_to_logging_level(config.simulator.logging_level),\n",
        ")\n",
        "\n",
        "# initialize the simulator\n",
        "random_agents = get_example_agents(rng=config.simulator.rng, budget=agent_budget, new_agents=num_agents, existing_agents=1)\n",
        "simulator = sim_utils.get_simulator(config, random_agents)\n",
        "\n",
        "# run the simulation\n",
        "simulator.run_simulation()"
      ]
    },
    {
      "attachments": {},
      "cell_type": "markdown",
      "metadata": {},
      "source": [
        "### Step 6: Plot simulation results"
      ]
    },
    {
      "cell_type": "code",
      "execution_count": null,
      "metadata": {},
      "outputs": [],
      "source": [
        "import elfpy.utils.post_processing as post_processing\n",
        "trades = post_processing.compute_derived_variables(simulator)"
      ]
    },
    {
      "cell_type": "code",
      "execution_count": null,
      "metadata": {},
      "outputs": [],
      "source": [
        "import logging\n",
        "import matplotlib.pyplot as plt\n",
        "\n",
        "logging.getLogger().setLevel(logging.WARNING)  # events of this level and above will be tracked\n",
        "\n",
        "vault_spot_size = 10\n",
        "spot_colors = ['blue', 'orange']\n",
        "fig, ax = plt.subplots()\n",
        "x_data = trades.day\n",
        "ax.scatter(x_data, trades.vault_apr, label=\"Vault\", s=vault_spot_size, c=spot_colors[0])\n",
        "prev_apr = trades.loc[trades.run_trade_number==0].pool_apr\n",
        "prev_time = 0\n",
        "for day in set(x_data):\n",
        "    trade_numbers = trades.loc[trades.day==day].run_trade_number\n",
        "    spot_sizes = np.linspace(0.2, 0.9, len(trade_numbers))\n",
        "    for trade_idx, trade_number in enumerate(trade_numbers):\n",
        "        pool_apr = trades.loc[trades.run_trade_number==trade_number].pool_apr\n",
        "        pool_spot_size = vault_spot_size * 0.5 #spot_sizes[trade_idx]\n",
        "        time = day + spot_sizes[trade_idx]\n",
        "        if day == 0 and trade_idx == len(trade_numbers)-1:\n",
        "            ax.scatter(time, pool_apr, label=\"Pool\", s=pool_spot_size, c=spot_colors[1])\n",
        "        else:\n",
        "            ax.scatter(time, pool_apr, s=pool_spot_size, c=spot_colors[1])\n",
        "        ax.plot([prev_time, time], [prev_apr, pool_apr], color='k', linestyle='-', linewidth=0.1)\n",
        "        prev_time = time\n",
        "        prev_apr = pool_apr\n",
        "ax.set_xlabel(\"Day\")\n",
        "ax.set_ylabel(\"APR\")\n",
        "plt.legend()\n",
        "ax.set_xticks([x for x in range(0, simulator.config.simulator.num_trading_days + 1, 5)])\n",
        "ax.set_xticklabels([str(x+1) for x in range(0, simulator.config.simulator.num_trading_days + 1, 5)])\n",
        "ax.set_title(\"Sawtooth demo\")\n",
        "plt.grid()"
      ]
    },
    {
      "cell_type": "code",
      "execution_count": null,
      "metadata": {},
      "outputs": [],
      "source": [
        "fig = output_utils.plot_wallet_returns(simulator, exclude_first_agent=True, xtick_step=20)"
      ]
    },
    {
      "cell_type": "code",
      "execution_count": null,
      "metadata": {},
      "outputs": [],
      "source": [
        "fig = output_utils.plot_pool_apr(simulator)"
      ]
    },
    {
      "cell_type": "code",
      "execution_count": null,
      "metadata": {},
      "outputs": [],
      "source": [
        "fig = output_utils.plot_market_spot_price(simulator)"
      ]
    },
    {
      "cell_type": "code",
      "execution_count": null,
      "metadata": {},
      "outputs": [],
      "source": [
        "fig = output_utils.plot_market_lp_reserves(simulator)"
      ]
    },
    {
      "cell_type": "code",
      "execution_count": null,
      "metadata": {},
      "outputs": [],
      "source": [
        "fig = output_utils.plot_longs_and_shorts(simulator, xtick_step=20)"
      ]
    },
    {
      "cell_type": "code",
      "execution_count": null,
      "metadata": {},
      "outputs": [],
      "source": []
    }
  ],
  "metadata": {
    "colab": {
      "private_outputs": true,
      "provenance": []
    },
    "kernelspec": {
      "display_name": "Python 3.10.4 64-bit ('3.10.4')",
      "language": "python",
      "name": "python3"
    },
    "language_info": {
      "codemirror_mode": {
        "name": "ipython",
        "version": 3
      },
      "file_extension": ".py",
      "mimetype": "text/x-python",
      "name": "python",
      "nbconvert_exporter": "python",
      "pygments_lexer": "ipython3",
      "version": "3.10.4"
    },
    "vscode": {
      "interpreter": {
        "hash": "9fd25b1bc88c40dff464928772a2f7f32c0e329824b33ada66bb495d7b69e219"
      }
    }
  },
  "nbformat": 4,
  "nbformat_minor": 0
}
