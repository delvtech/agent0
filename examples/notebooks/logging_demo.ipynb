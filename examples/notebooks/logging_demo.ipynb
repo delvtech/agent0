{
  "cells": [
    {
      "cell_type": "code",
      "execution_count": null,
      "metadata": {
        "id": "4pmDE-zGf_CO"
      },
      "outputs": [],
      "source": [
        "import time\n",
        "import os\n",
        "import logging\n",
        "from pathlib import Path\n",
        "\n",
        "import numpy as np\n",
        "\n",
        "from elfpy.utils.parse_config import load_and_parse_config_file\n",
        "from elfpy.simulators import YieldSimulator"
      ]
    },
    {
      "cell_type": "code",
      "execution_count": null,
      "metadata": {},
      "outputs": [],
      "source": [
        "\"\"\"Setup logging\"\"\"\n",
        "\n",
        "parent_dir = Path(\".\").resolve().parent.parent\n",
        "log_dir = parent_dir / \".logging\"\n",
        "if not os.path.exists(log_dir):\n",
        "    os.makedirs(log_dir)\n",
        "log_level = logging.DEBUG  # 10\n",
        "#log_level = logging.INFO  # 20\n",
        "log_filename = f\"example_log_level-{log_level}.log\"\n",
        "handler = logging.FileHandler(os.path.join(log_dir, log_filename), \"w\")\n",
        "logging.getLogger().setLevel(log_level)  # events of this level and above will be tracked\n",
        "handler.setFormatter(\n",
        "    logging.Formatter(\n",
        "        \"\\n%(asctime)s: %(levelname)s: %(module)s.%(funcName)s:\\n%(message)s\", \"%y-%m-%d %H:%M:%S\"\n",
        "    )\n",
        ")\n",
        "logging.getLogger().handlers = [\n",
        "    handler,\n",
        "]"
      ]
    },
    {
      "cell_type": "code",
      "execution_count": null,
      "metadata": {
        "id": "V3HM2goD3WJF"
      },
      "outputs": [],
      "source": [
        "start_time = time.time()\n",
        "\n",
        "config_file = \"../../config/example_config.toml\"\n",
        "config = load_and_parse_config_file(config_file)\n",
        "simulator = YieldSimulator(config)\n",
        "simulator_rng = np.random.default_rng(simulator.config.simulator.random_seed)\n",
        "simulator.reset_rng(simulator_rng)\n",
        "simulator.set_random_variables()\n",
        "\n",
        "override_dict = {\n",
        "    \"pricing_model_name\": \"HyperDrive\",\n",
        "    \"num_blocks_per_day\": 1,  # 1 block a day, keep it fast for testing\n",
        "    \"num_trading_days\": 1,  # 1 block a day, keep it fast for testing\n",
        "}\n",
        "simulator.setup_simulated_entities(override_dict)\n",
        "simulator.run_simulation()\n",
        "\n",
        "end_time = time.time()\n",
        "print(f\"Total time was {end_time-start_time:.3f} seconds.\")"
      ]
    },
    {
      "cell_type": "code",
      "execution_count": null,
      "metadata": {},
      "outputs": [],
      "source": [
        "with open(handler.baseFilename, 'r') as fh:\n",
        "    print(fh.readlines())\n",
        "\n",
        "# Comment below to view the log file\n",
        "os.remove(handler.baseFilename)"
      ]
    }
  ],
  "metadata": {
    "colab": {
      "collapsed_sections": [],
      "name": "yield_sims.ipynb",
      "private_outputs": true,
      "provenance": []
    },
    "gpuClass": "standard",
    "kernelspec": {
      "display_name": "Python 3.10.4 64-bit ('3.10.4')",
      "language": "python",
      "name": "python3"
    },
    "language_info": {
      "codemirror_mode": {
        "name": "ipython",
        "version": 3
      },
      "file_extension": ".py",
      "mimetype": "text/x-python",
      "name": "python",
      "nbconvert_exporter": "python",
      "pygments_lexer": "ipython3",
      "version": "3.10.4"
    },
    "vscode": {
      "interpreter": {
        "hash": "9fd25b1bc88c40dff464928772a2f7f32c0e329824b33ada66bb495d7b69e219"
      }
    }
  },
  "nbformat": 4,
  "nbformat_minor": 0
}
