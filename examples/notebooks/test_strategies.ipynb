{
 "cells": [
  {
   "cell_type": "code",
   "execution_count": 1,
   "metadata": {},
   "outputs": [],
   "source": [
    "import os\n",
    "import numpy as np"
   ]
  },
  {
   "cell_type": "code",
   "execution_count": 2,
   "metadata": {},
   "outputs": [],
   "source": [
    "from elfpy.utils.parse_json import parse_trade, parse_action, parse\n",
    "import json"
   ]
  },
  {
   "cell_type": "code",
   "execution_count": 3,
   "metadata": {},
   "outputs": [
    {
     "name": "stdout",
     "output_type": "stream",
     "text": [
      " budget should now be initialized. budget=100\n"
     ]
    }
   ],
   "source": [
    "from elfpy.simulators import YieldSimulator\n",
    "\n",
    "random_seed = 3\n",
    "simulator_rng = np.random.default_rng(random_seed)\n",
    "config = {\n",
    "    \"min_fee\": 0.1, # decimal that assigns fee_percent\n",
    "    \"max_fee\": 0.5, # decimal that assigns fee_percent\n",
    "    \"min_target_liquidity\": 1e6, # in USD\n",
    "    \"max_target_liquidity\": 10e6, # in USD\n",
    "    \"min_target_volume\": 0.001, # fraction of pool liquidity\n",
    "    \"max_target_volume\": 0.01, # fration of pool liquidity\n",
    "    \"min_pool_apy\": 0.02, # as a decimal\n",
    "    \"max_pool_apy\": 0.9, # as a decimal\n",
    "    \"pool_apy_target_range\": [0.15,0.20], # as a decimal\n",
    "    \"pool_apy_target_range_convergence_speed\": 0.52, # as a share of trades that move in convergence direction\n",
    "    \"min_vault_age\": 0, # fraction of a year\n",
    "    \"max_vault_age\": 1, # fraction of a year\n",
    "    \"min_vault_apy\": 0.001, # as a decimal\n",
    "    \"max_vault_apy\": 0.9, # as a decimal\n",
    "    \"base_asset_price\": 2.5e3, # aka market price\n",
    "    \"pool_duration\": 180, # in days\n",
    "    \"num_trading_days\": 180, # should be <= pool_duration\n",
    "    \"floor_fee\": 0, # minimum fee percentage (bps)\n",
    "    \"tokens\": [\"base\", \"fyt\"],\n",
    "    \"trade_direction\": \"out\",\n",
    "    \"precision\": None,\n",
    "    \"rng\": simulator_rng,\n",
    "    \"verbose\": False,\n",
    "    \"pricing_model_name\": 'HyperDrive',\n",
    "    \"user_policies\": [\"single_long\"],\n",
    "    \"num_trading_days\": 90,\n",
    "    \"token_duration\": 90,\n",
    "    \"num_blocks_per_day\": int(24*60*60/13)\n",
    "}\n",
    "\n",
    "simulator = YieldSimulator(**config)\n",
    "simulator.set_random_variables()\n",
    "simulator.setup_simulated_entities()\n",
    "market = simulator.market"
   ]
  },
  {
   "cell_type": "code",
   "execution_count": 4,
   "metadata": {},
   "outputs": [
    {
     "name": "stdout",
     "output_type": "stream",
     "text": [
      "<elfpy.simulators.YieldSimulator object at 0x0000020292A33F40>\n",
      "<elfpy.markets.Market object at 0x0000020292A33E20>\n"
     ]
    }
   ],
   "source": [
    "print(simulator)\n",
    "print(market)"
   ]
  },
  {
   "cell_type": "code",
   "execution_count": 5,
   "metadata": {},
   "outputs": [
    {
     "name": "stdout",
     "output_type": "stream",
     "text": [
      " budget should now be initialized. budget=100\n",
      "num_blocks_per_day = 6646.153846153846\n"
     ]
    },
    {
     "ename": "TypeError",
     "evalue": "'float' object cannot be interpreted as an integer",
     "output_type": "error",
     "traceback": [
      "\u001b[1;31m---------------------------------------------------------------------------\u001b[0m",
      "\u001b[1;31mTypeError\u001b[0m                                 Traceback (most recent call last)",
      "Cell \u001b[1;32mIn [5], line 1\u001b[0m\n\u001b[1;32m----> 1\u001b[0m simulator\u001b[39m.\u001b[39;49mrun_simulation()\n",
      "File \u001b[1;32mD:\\code\\elfpy\\src\\elfpy\\simulators.py:299\u001b[0m, in \u001b[0;36mYieldSimulator.run_simulation\u001b[1;34m(self, override_dict)\u001b[0m\n\u001b[0;32m    292\u001b[0m     \u001b[39mself\u001b[39m\u001b[39m.\u001b[39mmarket\u001b[39m.\u001b[39mshare_price \u001b[39m+\u001b[39m\u001b[39m=\u001b[39m (\n\u001b[0;32m    293\u001b[0m         \u001b[39mself\u001b[39m\u001b[39m.\u001b[39mvault_apy[\u001b[39mself\u001b[39m\u001b[39m.\u001b[39mday] \u001b[39m# current day's apy\u001b[39;00m\n\u001b[0;32m    294\u001b[0m         \u001b[39m/\u001b[39m \u001b[39m365\u001b[39m \u001b[39m# convert annual yield to daily\u001b[39;00m\n\u001b[0;32m    295\u001b[0m         \u001b[39m*\u001b[39m \u001b[39mself\u001b[39m\u001b[39m.\u001b[39mmarket\u001b[39m.\u001b[39minit_share_price \u001b[39m# APR, apply return to starting price (no compounding)\u001b[39;00m\n\u001b[0;32m    296\u001b[0m         \u001b[39m# * self.market.share_price # APY, apply return to latest price (full compounding)\u001b[39;00m\n\u001b[0;32m    297\u001b[0m     )\n\u001b[0;32m    298\u001b[0m \u001b[39mprint\u001b[39m(\u001b[39mf\u001b[39m\u001b[39m\"\u001b[39m\u001b[39mnum_blocks_per_day = \u001b[39m\u001b[39m{\u001b[39;00m\u001b[39mself\u001b[39m\u001b[39m.\u001b[39mnum_blocks_per_day\u001b[39m}\u001b[39;00m\u001b[39m\"\u001b[39m)\n\u001b[1;32m--> 299\u001b[0m \u001b[39mfor\u001b[39;00m daily_block_number \u001b[39min\u001b[39;00m \u001b[39mrange\u001b[39;49m(\u001b[39mself\u001b[39;49m\u001b[39m.\u001b[39;49mnum_blocks_per_day):\n\u001b[0;32m    300\u001b[0m     \u001b[39mself\u001b[39m\u001b[39m.\u001b[39mdaily_block_number \u001b[39m=\u001b[39m daily_block_number\n\u001b[0;32m    301\u001b[0m     \u001b[39mfor\u001b[39;00m user \u001b[39min\u001b[39;00m np\u001b[39m.\u001b[39mshuffle(\u001b[39mself\u001b[39m\u001b[39m.\u001b[39muser_list):\n",
      "\u001b[1;31mTypeError\u001b[0m: 'float' object cannot be interpreted as an integer"
     ]
    }
   ],
   "source": [
    "simulator.run_simulation()"
   ]
  },
  {
   "cell_type": "code",
   "execution_count": null,
   "metadata": {},
   "outputs": [],
   "source": []
  }
 ],
 "metadata": {
  "kernelspec": {
   "display_name": "Python 3.10.6 64-bit",
   "language": "python",
   "name": "python3"
  },
  "language_info": {
   "codemirror_mode": {
    "name": "ipython",
    "version": 3
   },
   "file_extension": ".py",
   "mimetype": "text/x-python",
   "name": "python",
   "nbconvert_exporter": "python",
   "pygments_lexer": "ipython3",
   "version": "3.10.6"
  },
  "orig_nbformat": 4,
  "vscode": {
   "interpreter": {
    "hash": "369f2c481f4da34e4445cda3fffd2e751bd1c4d706f27375911949ba6bb62e1c"
   }
  }
 },
 "nbformat": 4,
 "nbformat_minor": 2
}
