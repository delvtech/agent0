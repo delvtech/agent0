{
 "cells": [
  {
   "cell_type": "code",
   "execution_count": 1,
   "metadata": {},
   "outputs": [],
   "source": [
    "import os, sys\n",
    "import numpy as np\n",
    "# parent_dir = os.path.join(os.getcwd(), os.pardir)\n",
    "# sys.path.insert(1, os.path.join(parent_dir, \"src\"))"
   ]
  },
  {
   "cell_type": "code",
   "execution_count": 2,
   "metadata": {},
   "outputs": [],
   "source": [
    "from elfpy.utils.parse_json import parse_trade, parse_action, parse\n",
    "import json"
   ]
  },
  {
   "cell_type": "code",
   "execution_count": 3,
   "metadata": {},
   "outputs": [],
   "source": [
    "from elfpy.simulators import YieldSimulator\n",
    "from elfpy.pricing_models import ElementPricingModel\n",
    "\n",
    "random_seed = 3\n",
    "simulator_rng = np.random.default_rng(random_seed)\n",
    "config = {\n",
    "    \"min_fee\": 0.1, # decimal that assigns fee_percent\n",
    "    \"max_fee\": 0.5, # decimal that assigns fee_percent\n",
    "    \"min_target_liquidity\": 1e6, # in USD\n",
    "    \"max_target_liquidity\": 10e6, # in USD\n",
    "    \"min_target_volume\": 0.001, # fraction of pool liquidity\n",
    "    \"max_target_volume\": 0.01, # fration of pool liquidity\n",
    "    \"min_pool_apy\": 0.02, # as a decimal\n",
    "    \"max_pool_apy\": 0.9, # as a decimal\n",
    "    \"pool_apy_target_range\": [0.15,0.20], # as a decimal\n",
    "    \"pool_apy_target_range_convergence_speed\": 0.52, # as a share of trades that move in convergence direction\n",
    "    \"min_vault_age\": 0, # fraction of a year\n",
    "    \"max_vault_age\": 1, # fraction of a year\n",
    "    \"min_vault_apy\": 0.001, # as a decimal\n",
    "    \"max_vault_apy\": 0.9, # as a decimal\n",
    "    \"base_asset_price\": 2.5e3, # aka market price\n",
    "    \"pool_duration\": 180, # in days\n",
    "    \"num_trading_days\": 180, # should be <= pool_duration\n",
    "    \"floor_fee\": 0, # minimum fee percentage (bps)\n",
    "    \"tokens\": [\"base\", \"fyt\"],\n",
    "    \"trade_direction\": \"out\",\n",
    "    \"precision\": None,\n",
    "    \"rng\": simulator_rng,\n",
    "    \"verbose\": False,\n",
    "    \"pricing_model_name\": 'HyperDrive',\n",
    "    \"user_policies\": \"WeightedRandom\",\n",
    "    \"num_trading_days\": 90,\n",
    "    \"token_duration\": 90\n",
    "}\n",
    "\n",
    "simulator = YieldSimulator(**config)\n",
    "simulator.set_random_variables()\n",
    "simulator.setup_simulated_entities()\n",
    "market = simulator.market"
   ]
  },
  {
   "cell_type": "code",
   "execution_count": 4,
   "metadata": {},
   "outputs": [
    {
     "name": "stdout",
     "output_type": "stream",
     "text": [
      "<elfpy.simulators.YieldSimulator object at 0x000002B2A917BD00>\n",
      "<elfpy.markets.Market object at 0x000002B2A917BD90>\n"
     ]
    }
   ],
   "source": [
    "print(simulator)\n",
    "print(market)"
   ]
  },
  {
   "cell_type": "code",
   "execution_count": 8,
   "metadata": {},
   "outputs": [
    {
     "name": "stdout",
     "output_type": "stream",
     "text": [
      "../src/elfpy/strategies\\simple1.json\n",
      "{\n",
      "    \"type\": \"simple_trader\",\n",
      "    \"budget\": 1000,\n",
      "    \"trade\": {\n",
      "        \"buy\": {\n",
      "            \"amount\": 100,\n",
      "            \"direction\": \"in\"\n",
      "        }\n",
      "    }\n",
      "}\n",
      "load direct: {'type': 'simple_trader', 'budget': 1000, 'trade': {'buy': {'amount': 100, 'direction': 'in'}}}\n",
      "load from string: {'type': 'simple_trader', 'budget': 1000, 'trade': {'buy': {'amount': 100, 'direction': 'in'}}}\n",
      "../src/elfpy/strategies\\simple2.json\n",
      "{\n",
      "    \"type\": \"simple_trader\",\n",
      "    \"budget\": 1000,\n",
      "    \"trade\": {\n",
      "        \"conditional\": {\n",
      "            \"wtrf\": {\n",
      "                \"operator\": \"==\",\n",
      "                \"comparator\": {\n",
      "                    \"method\": \"random\",\n",
      "                    \"distribution\": \"integers\",\n",
      "                    \"low\": 0,\n",
      "                    \"high\": 2\n",
      "                },\n",
      "                \"value\": 0\n",
      "            },\n",
      "            \"then\": {\"buy\": {\"amount\": 100}},\n",
      "            \"else\": {\"sell\": {\"amount\": 100}}\n",
      "        }\n",
      "    }\n",
      "}\n",
      "load direct: {'type': 'simple_trader', 'budget': 1000, 'trade': {'conditional': {'wtrf': {'operator': '==', 'comparator': {'method': 'random', 'distribution': 'integers', 'low': 0, 'high': 2}, 'value': 0}, 'then': {'buy': {'amount': 100}}, 'else': {'sell': {'amount': 100}}}}}\n",
      "load from string: {'type': 'simple_trader', 'budget': 1000, 'trade': {'conditional': {'wtrf': {'operator': '==', 'comparator': {'method': 'random', 'distribution': 'integers', 'low': 0, 'high': 2}, 'value': 0}, 'then': {'buy': {'amount': 100}}, 'else': {'sell': {'amount': 100}}}}}\n",
      "../src/elfpy/strategies\\simple2.py\n",
      "{\n",
      "    \"type\": \"simple_trader\",\n",
      "    \"budget\": 1000,\n",
      "    \"trade\": {\n",
      "        \"conditional\": {\n",
      "            \"if\" {\n",
      "                \"==\",\n",
      "                \"rand_variable\": {\n",
      "                    \"method\": \"random\",\n",
      "                    \"distribution\": \"integers\",\n",
      "                    \"low\": 0,\n",
      "                    \"high\": 2,\n",
      "                }\n",
      "                0\n",
      "            },\n",
      "            \"then\": {\"buy\": {\"amount\": 100}},\n",
      "            \"else\": {\"sell\": {\"amount\": 100}}\n",
      "        }\n",
      "    }\n",
      "}\n"
     ]
    },
    {
     "ename": "JSONDecodeError",
     "evalue": "Expecting ':' delimiter: line 6 column 18 (char 108)",
     "output_type": "error",
     "traceback": [
      "\u001b[1;31m---------------------------------------------------------------------------\u001b[0m",
      "\u001b[1;31mJSONDecodeError\u001b[0m                           Traceback (most recent call last)",
      "Cell \u001b[1;32mIn [8], line 9\u001b[0m\n\u001b[0;32m      7\u001b[0m s \u001b[39m=\u001b[39m \u001b[39mopen\u001b[39m(filename\u001b[39m.\u001b[39mpath)\u001b[39m.\u001b[39mread()\n\u001b[0;32m      8\u001b[0m \u001b[39mprint\u001b[39m(s)\n\u001b[1;32m----> 9\u001b[0m l \u001b[39m=\u001b[39m json\u001b[39m.\u001b[39;49mload(\u001b[39mopen\u001b[39;49m(filename\u001b[39m.\u001b[39;49mpath))\n\u001b[0;32m     10\u001b[0m \u001b[39mprint\u001b[39m(\u001b[39mf\u001b[39m\u001b[39m\"\u001b[39m\u001b[39mload direct: \u001b[39m\u001b[39m{\u001b[39;00ml\u001b[39m}\u001b[39;00m\u001b[39m\"\u001b[39m)\n\u001b[0;32m     11\u001b[0m l \u001b[39m=\u001b[39m json\u001b[39m.\u001b[39mloads(s)\n",
      "File \u001b[1;32mc:\\Python310\\lib\\json\\__init__.py:293\u001b[0m, in \u001b[0;36mload\u001b[1;34m(fp, cls, object_hook, parse_float, parse_int, parse_constant, object_pairs_hook, **kw)\u001b[0m\n\u001b[0;32m    274\u001b[0m \u001b[39mdef\u001b[39;00m \u001b[39mload\u001b[39m(fp, \u001b[39m*\u001b[39m, \u001b[39mcls\u001b[39m\u001b[39m=\u001b[39m\u001b[39mNone\u001b[39;00m, object_hook\u001b[39m=\u001b[39m\u001b[39mNone\u001b[39;00m, parse_float\u001b[39m=\u001b[39m\u001b[39mNone\u001b[39;00m,\n\u001b[0;32m    275\u001b[0m         parse_int\u001b[39m=\u001b[39m\u001b[39mNone\u001b[39;00m, parse_constant\u001b[39m=\u001b[39m\u001b[39mNone\u001b[39;00m, object_pairs_hook\u001b[39m=\u001b[39m\u001b[39mNone\u001b[39;00m, \u001b[39m*\u001b[39m\u001b[39m*\u001b[39mkw):\n\u001b[0;32m    276\u001b[0m     \u001b[39m\"\"\"Deserialize ``fp`` (a ``.read()``-supporting file-like object containing\u001b[39;00m\n\u001b[0;32m    277\u001b[0m \u001b[39m    a JSON document) to a Python object.\u001b[39;00m\n\u001b[0;32m    278\u001b[0m \n\u001b[1;32m   (...)\u001b[0m\n\u001b[0;32m    291\u001b[0m \u001b[39m    kwarg; otherwise ``JSONDecoder`` is used.\u001b[39;00m\n\u001b[0;32m    292\u001b[0m \u001b[39m    \"\"\"\u001b[39;00m\n\u001b[1;32m--> 293\u001b[0m     \u001b[39mreturn\u001b[39;00m loads(fp\u001b[39m.\u001b[39mread(),\n\u001b[0;32m    294\u001b[0m         \u001b[39mcls\u001b[39m\u001b[39m=\u001b[39m\u001b[39mcls\u001b[39m, object_hook\u001b[39m=\u001b[39mobject_hook,\n\u001b[0;32m    295\u001b[0m         parse_float\u001b[39m=\u001b[39mparse_float, parse_int\u001b[39m=\u001b[39mparse_int,\n\u001b[0;32m    296\u001b[0m         parse_constant\u001b[39m=\u001b[39mparse_constant, object_pairs_hook\u001b[39m=\u001b[39mobject_pairs_hook, \u001b[39m*\u001b[39m\u001b[39m*\u001b[39mkw)\n",
      "File \u001b[1;32mc:\\Python310\\lib\\json\\__init__.py:346\u001b[0m, in \u001b[0;36mloads\u001b[1;34m(s, cls, object_hook, parse_float, parse_int, parse_constant, object_pairs_hook, **kw)\u001b[0m\n\u001b[0;32m    341\u001b[0m     s \u001b[39m=\u001b[39m s\u001b[39m.\u001b[39mdecode(detect_encoding(s), \u001b[39m'\u001b[39m\u001b[39msurrogatepass\u001b[39m\u001b[39m'\u001b[39m)\n\u001b[0;32m    343\u001b[0m \u001b[39mif\u001b[39;00m (\u001b[39mcls\u001b[39m \u001b[39mis\u001b[39;00m \u001b[39mNone\u001b[39;00m \u001b[39mand\u001b[39;00m object_hook \u001b[39mis\u001b[39;00m \u001b[39mNone\u001b[39;00m \u001b[39mand\u001b[39;00m\n\u001b[0;32m    344\u001b[0m         parse_int \u001b[39mis\u001b[39;00m \u001b[39mNone\u001b[39;00m \u001b[39mand\u001b[39;00m parse_float \u001b[39mis\u001b[39;00m \u001b[39mNone\u001b[39;00m \u001b[39mand\u001b[39;00m\n\u001b[0;32m    345\u001b[0m         parse_constant \u001b[39mis\u001b[39;00m \u001b[39mNone\u001b[39;00m \u001b[39mand\u001b[39;00m object_pairs_hook \u001b[39mis\u001b[39;00m \u001b[39mNone\u001b[39;00m \u001b[39mand\u001b[39;00m \u001b[39mnot\u001b[39;00m kw):\n\u001b[1;32m--> 346\u001b[0m     \u001b[39mreturn\u001b[39;00m _default_decoder\u001b[39m.\u001b[39;49mdecode(s)\n\u001b[0;32m    347\u001b[0m \u001b[39mif\u001b[39;00m \u001b[39mcls\u001b[39m \u001b[39mis\u001b[39;00m \u001b[39mNone\u001b[39;00m:\n\u001b[0;32m    348\u001b[0m     \u001b[39mcls\u001b[39m \u001b[39m=\u001b[39m JSONDecoder\n",
      "File \u001b[1;32mc:\\Python310\\lib\\json\\decoder.py:337\u001b[0m, in \u001b[0;36mJSONDecoder.decode\u001b[1;34m(self, s, _w)\u001b[0m\n\u001b[0;32m    332\u001b[0m \u001b[39mdef\u001b[39;00m \u001b[39mdecode\u001b[39m(\u001b[39mself\u001b[39m, s, _w\u001b[39m=\u001b[39mWHITESPACE\u001b[39m.\u001b[39mmatch):\n\u001b[0;32m    333\u001b[0m     \u001b[39m\"\"\"Return the Python representation of ``s`` (a ``str`` instance\u001b[39;00m\n\u001b[0;32m    334\u001b[0m \u001b[39m    containing a JSON document).\u001b[39;00m\n\u001b[0;32m    335\u001b[0m \n\u001b[0;32m    336\u001b[0m \u001b[39m    \"\"\"\u001b[39;00m\n\u001b[1;32m--> 337\u001b[0m     obj, end \u001b[39m=\u001b[39m \u001b[39mself\u001b[39;49m\u001b[39m.\u001b[39;49mraw_decode(s, idx\u001b[39m=\u001b[39;49m_w(s, \u001b[39m0\u001b[39;49m)\u001b[39m.\u001b[39;49mend())\n\u001b[0;32m    338\u001b[0m     end \u001b[39m=\u001b[39m _w(s, end)\u001b[39m.\u001b[39mend()\n\u001b[0;32m    339\u001b[0m     \u001b[39mif\u001b[39;00m end \u001b[39m!=\u001b[39m \u001b[39mlen\u001b[39m(s):\n",
      "File \u001b[1;32mc:\\Python310\\lib\\json\\decoder.py:353\u001b[0m, in \u001b[0;36mJSONDecoder.raw_decode\u001b[1;34m(self, s, idx)\u001b[0m\n\u001b[0;32m    344\u001b[0m \u001b[39m\"\"\"Decode a JSON document from ``s`` (a ``str`` beginning with\u001b[39;00m\n\u001b[0;32m    345\u001b[0m \u001b[39ma JSON document) and return a 2-tuple of the Python\u001b[39;00m\n\u001b[0;32m    346\u001b[0m \u001b[39mrepresentation and the index in ``s`` where the document ended.\u001b[39;00m\n\u001b[1;32m   (...)\u001b[0m\n\u001b[0;32m    350\u001b[0m \n\u001b[0;32m    351\u001b[0m \u001b[39m\"\"\"\u001b[39;00m\n\u001b[0;32m    352\u001b[0m \u001b[39mtry\u001b[39;00m:\n\u001b[1;32m--> 353\u001b[0m     obj, end \u001b[39m=\u001b[39m \u001b[39mself\u001b[39;49m\u001b[39m.\u001b[39;49mscan_once(s, idx)\n\u001b[0;32m    354\u001b[0m \u001b[39mexcept\u001b[39;00m \u001b[39mStopIteration\u001b[39;00m \u001b[39mas\u001b[39;00m err:\n\u001b[0;32m    355\u001b[0m     \u001b[39mraise\u001b[39;00m JSONDecodeError(\u001b[39m\"\u001b[39m\u001b[39mExpecting value\u001b[39m\u001b[39m\"\u001b[39m, s, err\u001b[39m.\u001b[39mvalue) \u001b[39mfrom\u001b[39;00m \u001b[39mNone\u001b[39m\n",
      "\u001b[1;31mJSONDecodeError\u001b[0m: Expecting ':' delimiter: line 6 column 18 (char 108)"
     ]
    }
   ],
   "source": [
    "# assign directory\n",
    "directory = '../src/elfpy/strategies'\n",
    "\n",
    "for filename in os.scandir(directory):\n",
    "    if filename.is_file():\n",
    "        print(filename.path)\n",
    "        s = open(filename.path).read()\n",
    "        print(s)\n",
    "        l = json.load(open(filename.path))\n",
    "        print(f\"load direct:      {l}\")\n",
    "        l = json.loads(s)\n",
    "        print(f\"load from string: {l}\")"
   ]
  },
  {
   "cell_type": "code",
   "execution_count": 11,
   "metadata": {},
   "outputs": [
    {
     "name": "stdout",
     "output_type": "stream",
     "text": [
      "type: simple_trader <class 'str'>\n",
      "budget: 1000 <class 'int'>\n",
      "trade:\n",
      " buy:\n",
      "  amount: 100 <class 'int'>\n",
      "  direction: in <class 'str'>\n",
      "just the trade key, which is the trade_spec:\n",
      "buy:\n",
      " amount: 100 <class 'int'>\n",
      " direction: in <class 'str'>\n"
     ]
    }
   ],
   "source": [
    "def parse_dict(d,prefix=''):\n",
    "    for (k,v) in d.items():\n",
    "        if isinstance(v, dict):\n",
    "            print(f\"{prefix}{k}:\")\n",
    "            parse_dict(v,f\"{prefix} \")\n",
    "        else:\n",
    "            print(f\"{prefix}{k}: {v} {type(v)}\")\n",
    "parse_dict(l)\n",
    "print('just the trade key, which is the trade_spec:')\n",
    "parse_dict(l[\"trade\"])"
   ]
  },
  {
   "cell_type": "code",
   "execution_count": 6,
   "metadata": {},
   "outputs": [
    {
     "data": {
      "text/plain": [
       "{'amount': 100, 'direction': 'in'}"
      ]
     },
     "execution_count": 6,
     "metadata": {},
     "output_type": "execute_result"
    }
   ],
   "source": [
    "policy = l[\"trade\"]\n",
    "root = list(policy)[0]\n",
    "policy[root]"
   ]
  },
  {
   "cell_type": "code",
   "execution_count": 7,
   "metadata": {},
   "outputs": [
    {
     "name": "stdout",
     "output_type": "stream",
     "text": [
      "action_spec: {'buy': {'amount': 100, 'direction': 'in'}}\n",
      "('base', 'pt', 100)\n"
     ]
    }
   ],
   "source": [
    "from elfpy.user import User\n",
    "policy = l\n",
    "user = User(policy, rng)\n",
    "t = user.get_trade(market)\n",
    "print(t)"
   ]
  },
  {
   "cell_type": "code",
   "execution_count": 9,
   "metadata": {},
   "outputs": [
    {
     "ename": "ValueError",
     "evalue": "Unrecognized operation buy",
     "output_type": "error",
     "traceback": [
      "\u001b[1;31m---------------------------------------------------------------------------\u001b[0m",
      "\u001b[1;31mValueError\u001b[0m                                Traceback (most recent call last)",
      "Cell \u001b[1;32mIn [9], line 1\u001b[0m\n\u001b[1;32m----> 1\u001b[0m parse(l[\u001b[39m\"\u001b[39;49m\u001b[39mtrade\u001b[39;49m\u001b[39m\"\u001b[39;49m],market,rng)\n",
      "File \u001b[1;32md:\\code\\elfpy\\examples\\..\\src\\elfpy\\utils\\parse_json.py:157\u001b[0m, in \u001b[0;36mparse\u001b[1;34m(tests, market, rng)\u001b[0m\n\u001b[0;32m    154\u001b[0m     \u001b[39mreturn\u001b[39;00m values\n\u001b[0;32m    156\u001b[0m \u001b[39mif\u001b[39;00m operator \u001b[39mnot\u001b[39;00m \u001b[39min\u001b[39;00m operations:\n\u001b[1;32m--> 157\u001b[0m     \u001b[39mraise\u001b[39;00m \u001b[39mValueError\u001b[39;00m(\u001b[39mf\u001b[39m\u001b[39m\"\u001b[39m\u001b[39mUnrecognized operation \u001b[39m\u001b[39m{\u001b[39;00moperator\u001b[39m}\u001b[39;00m\u001b[39m\"\u001b[39m)\n\u001b[0;32m    159\u001b[0m \u001b[39mreturn\u001b[39;00m operations[operator](\u001b[39m*\u001b[39mvalues)\n",
      "\u001b[1;31mValueError\u001b[0m: Unrecognized operation buy"
     ]
    }
   ],
   "source": [
    "parse(l[\"trade\"],market,rng)"
   ]
  },
  {
   "cell_type": "code",
   "execution_count": null,
   "metadata": {},
   "outputs": [],
   "source": []
  }
 ],
 "metadata": {
  "kernelspec": {
   "display_name": "Python 3.10.6 64-bit",
   "language": "python",
   "name": "python3"
  },
  "language_info": {
   "codemirror_mode": {
    "name": "ipython",
    "version": 3
   },
   "file_extension": ".py",
   "mimetype": "text/x-python",
   "name": "python",
   "nbconvert_exporter": "python",
   "pygments_lexer": "ipython3",
   "version": "3.10.6"
  },
  "orig_nbformat": 4,
  "vscode": {
   "interpreter": {
    "hash": "369f2c481f4da34e4445cda3fffd2e751bd1c4d706f27375911949ba6bb62e1c"
   }
  }
 },
 "nbformat": 4,
 "nbformat_minor": 2
}
