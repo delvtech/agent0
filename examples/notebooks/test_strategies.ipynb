{
 "cells": [
  {
   "cell_type": "code",
   "execution_count": null,
   "metadata": {},
   "outputs": [],
   "source": [
    "import numpy as np"
   ]
  },
  {
   "cell_type": "code",
   "execution_count": null,
   "metadata": {},
   "outputs": [],
   "source": [
    "from elfpy.simulators import YieldSimulator\n",
    "\n",
    "random_seed = 3\n",
    "simulator_rng = np.random.default_rng(random_seed)\n",
    "config = {\n",
    "    \"min_fee\": 0.1, # decimal that assigns fee_percent\n",
    "    \"max_fee\": 0.5, # decimal that assigns fee_percent\n",
    "    \"min_target_liquidity\": 1e6, # in USD\n",
    "    \"max_target_liquidity\": 10e6, # in USD\n",
    "    \"min_target_volume\": 0.001, # fraction of pool liquidity\n",
    "    \"max_target_volume\": 0.01, # fration of pool liquidity\n",
    "    \"min_pool_apy\": 0.02, # as a decimal\n",
    "    \"max_pool_apy\": 0.9, # as a decimal\n",
    "    \"pool_apy_target_range\": [0.15,0.20], # as a decimal\n",
    "    \"pool_apy_target_range_convergence_speed\": 0.52, # as a share of trades that move in convergence direction\n",
    "    \"min_vault_age\": 0, # fraction of a year\n",
    "    \"max_vault_age\": 1, # fraction of a year\n",
    "    \"min_vault_apy\": 0.001, # as a decimal\n",
    "    \"max_vault_apy\": 0.9, # as a decimal\n",
    "    \"base_asset_price\": 2.5e3, # aka market price\n",
    "    \"pool_duration\": 180, # in days\n",
    "    \"num_trading_days\": 180, # should be <= pool_duration\n",
    "    \"floor_fee\": 0, # minimum fee percentage (bps)\n",
    "    \"tokens\": [\"base\", \"fyt\"],\n",
    "    \"trade_direction\": \"out\",\n",
    "    \"precision\": None,\n",
    "    \"rng\": simulator_rng,\n",
    "    \"verbose\": False,\n",
    "    \"pricing_model_name\": 'HyperDrive',\n",
    "    \"user_policies\": [\"single_long\"],\n",
    "    \"num_trading_days\": 90,\n",
    "    \"token_duration\": 90,\n",
    "    \"num_blocks_per_day\": int(24*60*60/13)\n",
    "}\n",
    "\n",
    "simulator = YieldSimulator(**config)\n",
    "simulator.set_random_variables()\n",
    "simulator.setup_simulated_entities()\n",
    "market = simulator.market"
   ]
  },
  {
   "cell_type": "code",
   "execution_count": null,
   "metadata": {},
   "outputs": [],
   "source": [
    "print(simulator)\n",
    "print(market)"
   ]
  },
  {
   "cell_type": "code",
   "execution_count": null,
   "metadata": {},
   "outputs": [],
   "source": [
    "simulator.run_simulation()"
   ]
  },
  {
   "cell_type": "code",
   "execution_count": null,
   "metadata": {},
   "outputs": [],
   "source": []
  }
 ],
 "metadata": {
  "kernelspec": {
   "display_name": "Python 3.10.6 64-bit",
   "language": "python",
   "name": "python3"
  },
  "language_info": {
   "codemirror_mode": {
    "name": "ipython",
    "version": 3
   },
   "file_extension": ".py",
   "mimetype": "text/x-python",
   "name": "python",
   "nbconvert_exporter": "python",
   "pygments_lexer": "ipython3",
   "version": "3.10.6"
  },
  "orig_nbformat": 4,
  "vscode": {
   "interpreter": {
    "hash": "369f2c481f4da34e4445cda3fffd2e751bd1c4d706f27375911949ba6bb62e1c"
   }
  }
 },
 "nbformat": 4,
 "nbformat_minor": 2
}
