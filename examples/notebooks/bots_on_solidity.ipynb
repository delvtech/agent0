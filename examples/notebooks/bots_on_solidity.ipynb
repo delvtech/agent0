{
 "cells": [
  {
   "cell_type": "markdown",
   "id": "cdb34217-df5c-4649-b781-2de46aef56b9",
   "metadata": {},
   "source": [
    "# Bot Trades on Hyperdrive Contracts"
   ]
  },
  {
   "cell_type": "code",
   "execution_count": null,
   "id": "5dfd18cc-5a03-489d-9d23-9607ad5e58b7",
   "metadata": {},
   "outputs": [],
   "source": [
    "# test: skip-notebook\n",
    "from __future__ import annotations\n",
    "import logging\n",
    "\n",
    "from numpy.random._generator import Generator as NumpyGenerator\n",
    "\n",
    "import elfpy.agents.agent as agent\n",
    "import elfpy.agents.policies.random_agent as random_agent\n",
    "import elfpy.markets.hyperdrive.hyperdrive_market as hyperdrive_market\n",
    "import elfpy.simulators as simulators\n",
    "import elfpy.utils.sim_utils as sim_utils\n",
    "import elfpy.utils.outputs as output_utils\n",
    "import elfpy.utils.apeworx_integrations as ape_utils\n",
    "import elfpy.utils.post_processing as post_utils\n",
    "\n",
    "import ape\n",
    "from pathlib import Path\n",
    "import pandas as pd\n",
    "import matplotlib.pyplot as plt"
   ]
  },
  {
   "cell_type": "markdown",
   "id": "d8464f27-d1e0-4f4e-9d9b-e36afcdeddbe",
   "metadata": {},
   "source": [
    " ### Setup experiment parameters"
   ]
  },
  {
   "cell_type": "code",
   "execution_count": null,
   "id": "55f27348-bd92-488e-840e-4b75691db924",
   "metadata": {},
   "outputs": [],
   "source": [
    "config = simulators.Config()\n",
    "\n",
    "config.title = \"random bot demo\"\n",
    "config.pricing_model_name = \"Hyperdrive\"  # can be yieldspace or hyperdrive\n",
    "\n",
    "config.num_trading_days = 5  # Number of simulated trading days\n",
    "config.num_blocks_per_day = 10  # Blocks in a given day (7200 means ~12 sec per block)\n",
    "config.num_position_days = 8\n",
    "config.trade_fee_percent = 0.10  # fee percent collected on trades\n",
    "config.redemption_fee_percent = 0.005  # 5 bps\n",
    "\n",
    "num_agents = 4  # int specifying how many agents you want to simulate\n",
    "agent_budget = 1_000_000  # max money an agent can spend\n",
    "trade_chance = 5 / (\n",
    "    config.num_trading_days * config.num_blocks_per_day\n",
    ")  # on a given block, an agent will trade with probability `trade_chance`\n",
    "\n",
    "config.target_fixed_apr = 0.01  # target fixed APR of the initial market after the LP\n",
    "config.target_liquidity = 500_000_000  # target total liquidity of the initial market, before any trades\n",
    "\n",
    "# Define the variable apr\n",
    "config.variable_apr = [0.03] * config.num_trading_days\n",
    "\n",
    "config.do_dataframe_states = True\n",
    "\n",
    "config.log_level = output_utils.text_to_log_level(\"INFO\")  # Logging level, should be in [\"DEBUG\", \"INFO\", \"WARNING\"]\n",
    "config.log_filename = \"random_bots\"  # Output filename for logging\n",
    "\n",
    "config.freeze()  # type: ignore"
   ]
  },
  {
   "cell_type": "markdown",
   "id": "3e344bb5-b51d-485d-9149-9607d910babb",
   "metadata": {},
   "source": [
    "### Setup agents"
   ]
  },
  {
   "cell_type": "code",
   "execution_count": null,
   "id": "b59109f5-3223-49e6-b95c-8853a0f8e3c8",
   "metadata": {},
   "outputs": [],
   "source": [
    "def get_example_agents(\n",
    "    rng: NumpyGenerator, budget: int, new_agents: int, existing_agents: int = 0\n",
    ") -> list[agent.Agent]:\n",
    "    \"\"\"Instantiate a set of custom agents\"\"\"\n",
    "    agents = []\n",
    "    for address in range(existing_agents, existing_agents + new_agents):\n",
    "        agent = random_agent.Policy(\n",
    "            rng=rng,\n",
    "            trade_chance=trade_chance,\n",
    "            wallet_address=address,\n",
    "            budget=budget,\n",
    "        )\n",
    "        agent.log_status_report()\n",
    "        agents += [agent]\n",
    "    return agents\n"
   ]
  },
  {
   "cell_type": "markdown",
   "id": "83726aca-cb01-4f9d-ac1d-9a7d39767c5f",
   "metadata": {},
   "source": [
    "### Setup simulation objects"
   ]
  },
  {
   "cell_type": "code",
   "execution_count": null,
   "id": "04e8f48b-e07a-4a8e-8b6f-7676409120ba",
   "metadata": {},
   "outputs": [],
   "source": [
    "# define root logging parameters\n",
    "output_utils.setup_logging(log_filename=config.log_filename, log_level=config.log_level)\n",
    "\n",
    "# get an instantiated simulator object\n",
    "simulator = sim_utils.get_simulator(config)"
   ]
  },
  {
   "cell_type": "markdown",
   "id": "c0abd4e7-eec2-45ac-8613-b61764faa7ee",
   "metadata": {},
   "source": [
    "### Run the simulation"
   ]
  },
  {
   "cell_type": "code",
   "execution_count": null,
   "id": "48900a07-a7c2-4f70-a081-3b025c265048",
   "metadata": {},
   "outputs": [],
   "source": [
    "# add the random agents\n",
    "rnd_agents = get_example_agents(\n",
    "    rng=simulator.rng,\n",
    "    budget=agent_budget,\n",
    "    new_agents=num_agents,\n",
    "    existing_agents=1,\n",
    ")\n",
    "simulator.add_agents(rnd_agents)\n",
    "logging.info(\n",
    "    \"Simulator has %d agents with budgets =%s.\",\n",
    "    len(simulator.agents),\n",
    "    [sim_agent.budget for sim_agent in simulator.agents.values()],\n",
    ")"
   ]
  },
  {
   "cell_type": "code",
   "execution_count": null,
   "id": "728c5e2d-0e60-4296-9e4a-767561bbe1eb",
   "metadata": {
    "tags": []
   },
   "outputs": [],
   "source": [
    "# run the simulation\n",
    "simulator.run_simulation()\n",
    "\n",
    "# get the trade tape\n",
    "sim_trades = simulator.new_simulation_state.trade_updates.trade_action.tolist()\n",
    "logging.info(\n",
    "    \"User trades:\\n%s\", \n",
    "    \"\\n\\n\".join([f\"{trade}\" for trade in sim_trades]),\n",
    ")"
   ]
  },
  {
   "cell_type": "code",
   "execution_count": null,
   "id": "ab28937f-2ad4-40e9-914f-3d97fb27eb95",
   "metadata": {
    "tags": []
   },
   "outputs": [],
   "source": [
    "sim_trades_df = post_utils.compute_derived_variables(simulator)"
   ]
  },
  {
   "cell_type": "code",
   "execution_count": null,
   "id": "ff521adf-74b9-46ff-80b8-1a262a19a837",
   "metadata": {
    "tags": []
   },
   "outputs": [],
   "source": [
    "for trade_idx in range(1, len(sim_trades_df)):\n",
    "    fig, axs, _ = output_utils.get_gridspec_subplots()\n",
    "    ax = axs[0]\n",
    "    ax.step(sim_trades_df[\"trade_number\"].iloc[1:trade_idx], sim_trades_df[\"shorts_outstanding\"].iloc[1:trade_idx], label=\"Shorts outstanding\")\n",
    "    ax.step(sim_trades_df[\"trade_number\"].iloc[1:trade_idx], sim_trades_df[\"longs_outstanding\"].iloc[1:trade_idx], label=\"Longs outstanding\")\n",
    "    ax.set_xlabel(\"Trade number\")\n",
    "    ax.set_ylabel(\"Outstanding open positions\")\n",
    "    ax.set_title(\"Random longs & shorts\")\n",
    "    ax.set_xlim([1, sim_trades_df[\"trade_number\"].iloc[-1]-2])\n",
    "    y_max = round(max(max(sim_trades_df[\"shorts_outstanding\"]), max(sim_trades_df[\"longs_outstanding\"])))\n",
    "    ax.set_ylim([0, y_max])\n",
    "    ax.ticklabel_format(axis=\"both\", style=\"sci\")\n",
    "    ax.legend();\n",
    "    fig.savefig(f\"./figs/sim_trade_balances/sim_random_trades_{trade_idx:02g}.png\", bbox_inches=\"tight\")\n",
    "    plt.close(fig)"
   ]
  },
  {
   "cell_type": "code",
   "execution_count": null,
   "id": "502b0af4-bff8-40e6-a4ea-cb01503f3edb",
   "metadata": {
    "tags": []
   },
   "outputs": [],
   "source": [
    "fig, axs, _ = output_utils.get_gridspec_subplots()\n",
    "ax = axs[0]\n",
    "ax.step(sim_trades_df[\"trade_number\"].iloc[1:-1], sim_trades_df[\"fixed_apr\"].iloc[1:-1], label=\"APR\")\n",
    "ax.set_xlabel(\"Trade number\")\n",
    "ax.set_ylabel(\"Fixed APR\")\n",
    "ax.set_title(\"Random longs & shorts\")\n",
    "fig.savefig(f\"./figs/fixed_apr.png\", bbox_inches=\"tight\")"
   ]
  },
  {
   "cell_type": "code",
   "execution_count": null,
   "id": "8d89cf6f-ec24-4c91-bc01-d8bd32a836ad",
   "metadata": {
    "tags": []
   },
   "outputs": [],
   "source": [
    "lp_trades = sim_trades_df.groupby(\"trade_number\").agg(\n",
    "    {\n",
    "        f\"agent_{0}_pnl\": [\"sum\"]\n",
    "    }\n",
    ")\n",
    "lp_trades.columns = [\"_\".join(col).strip() for col in lp_trades.columns.values]\n",
    "lp_trades = lp_trades.reset_index()"
   ]
  },
  {
   "cell_type": "code",
   "execution_count": null,
   "id": "1d2636a9-463a-41d3-b25c-7142793073b7",
   "metadata": {
    "tags": []
   },
   "outputs": [],
   "source": [
    "fig, axs, _ = output_utils.get_gridspec_subplots()\n",
    "ax = axs[0]\n",
    "ax.step(lp_trades[\"trade_number\"].iloc[1:-1], lp_trades[\"agent_0_pnl_sum\"].iloc[1:-1], label=\"PNL\")\n",
    "ax.set_xlabel(\"Trade number\")\n",
    "ax.set_ylabel(\"Agent 0 PNL share proceeds\")\n",
    "ax.set_title(\"Random longs & shorts\")\n",
    "fig.savefig(f\"./figs/LP_PNL.png\", bbox_inches=\"tight\")"
   ]
  },
  {
   "cell_type": "markdown",
   "id": "77c7bccc-c02e-4066-8af3-f6d9b2dcd93e",
   "metadata": {
    "tags": []
   },
   "source": [
    "### Apeworx Network setup"
   ]
  },
  {
   "cell_type": "code",
   "execution_count": null,
   "id": "11fa3b43-48ac-4781-8285-5d6484e7c839",
   "metadata": {},
   "outputs": [],
   "source": [
    "provider = ape.networks.parse_network_choice(\"ethereum:local:foundry\").__enter__()\n",
    "project_root = Path.cwd().parent.parent\n",
    "project = ape.Project(path=project_root)"
   ]
  },
  {
   "cell_type": "markdown",
   "id": "22dbff77-6a06-4f56-ae99-feb342f5965d",
   "metadata": {},
   "source": [
    "### Generate agent accounts"
   ]
  },
  {
   "cell_type": "code",
   "execution_count": null,
   "id": "9ced33a9-92c8-404a-b7df-d8804995d969",
   "metadata": {},
   "outputs": [],
   "source": [
    "governance = ape.accounts.test_accounts.generate_test_account()\n",
    "sol_agents = {\"governance\": governance}\n",
    "for agent_address, sim_agent in simulator.agents.items():\n",
    "    sol_agent = ape.accounts.test_accounts.generate_test_account()  # make a fake agent with its own wallet\n",
    "    sol_agent.balance = int(sim_agent.budget * 10**18)\n",
    "    sol_agents[f\"agent_{agent_address}\"] = sol_agent"
   ]
  },
  {
   "cell_type": "markdown",
   "id": "eeeca88d-aed7-4bef-8fd5-26a37207b3b3",
   "metadata": {},
   "source": [
    "### Deploy contracts"
   ]
  },
  {
   "cell_type": "code",
   "execution_count": null,
   "id": "14181522-f278-41d4-a9f4-d7d964d14d37",
   "metadata": {},
   "outputs": [],
   "source": [
    "# use agent 0 to initialize the market\n",
    "base_address = sol_agents[\"agent_0\"].deploy(project.ERC20Mintable)\n",
    "base_ERC20 = project.ERC20Mintable.at(base_address)\n",
    "\n",
    "fixed_math_address = sol_agents[\"agent_0\"].deploy(project.MockFixedPointMath)\n",
    "fixed_math = project.MockFixedPointMath.at(fixed_math_address)\n",
    "\n",
    "base_ERC20.mint(int(config.target_liquidity * 10**18), sender=sol_agents[\"agent_0\"])\n",
    "\n",
    "initial_supply = int(config.target_liquidity * 10**18)\n",
    "initial_apr = int(config.target_fixed_apr * 10**18)\n",
    "initial_share_price = int(config.init_share_price * 10**18)\n",
    "checkpoint_duration = 86400  # seconds = 1 day\n",
    "checkpoints_per_term = 365\n",
    "position_duration_seconds = checkpoint_duration * checkpoints_per_term\n",
    "time_stretch = int(1 / simulator.market.time_stretch_constant * 10**18)\n",
    "curve_fee = int(config.trade_fee_percent * 10**18)\n",
    "flat_fee = int(config.redemption_fee_percent * 10**18)\n",
    "gov_fee = 0\n",
    "\n",
    "hyperdrive_address = sol_agents[\"agent_0\"].deploy(\n",
    "    project.MockHyperdriveTestnet,\n",
    "    base_ERC20,\n",
    "    initial_apr,\n",
    "    initial_share_price,\n",
    "    checkpoints_per_term,\n",
    "    checkpoint_duration,\n",
    "    time_stretch,\n",
    "    (curve_fee, flat_fee, gov_fee),\n",
    "    governance,\n",
    ")\n",
    "hyperdrive = project.MockHyperdriveTestnet.at(hyperdrive_address)\n",
    "\n",
    "with ape.accounts.use_sender(sol_agents[\"agent_0\"]):\n",
    "    base_ERC20.approve(hyperdrive, initial_supply)\n",
    "    hyperdrive.initialize(initial_supply, initial_apr, sol_agents[\"agent_0\"], False)\n"
   ]
  },
  {
   "cell_type": "markdown",
   "id": "7a2f06f9-193e-4daf-b2bf-75c8111e292f",
   "metadata": {
    "tags": []
   },
   "source": [
    "### Execute trades"
   ]
  },
  {
   "cell_type": "code",
   "execution_count": null,
   "id": "3d90c5d2-6f95-4422-a945-7ecdb0c8e843",
   "metadata": {
    "scrolled": true,
    "tags": []
   },
   "outputs": [],
   "source": [
    "# get current block\n",
    "genesis_block_number = ape.chain.blocks[-1].number\n",
    "genesis_timestamp = ape.chain.provider.get_block(genesis_block_number).timestamp\n",
    "\n",
    "# set the current block?\n",
    "pool_state = [hyperdrive.getPoolInfo().__dict__]\n",
    "pool_state[0][\"block_number_\"] = genesis_block_number\n",
    "logging.info(\"pool_state=%s\\n\", pool_state)\n",
    "\n",
    "sim_to_block_time = {}\n",
    "trade_receipts = []\n",
    "for trade in sim_trades:\n",
    "    agent_key = f\"agent_{trade.wallet.address}\"\n",
    "    trade_amount = int(trade.trade_amount * 10**18)\n",
    "    logging.info(\n",
    "        \"agent_key=%s, action=%s, mint_time=%s\",\n",
    "        agent_key,\n",
    "        trade.action_type.name,\n",
    "        trade.mint_time,\n",
    "    )\n",
    "    if trade.action_type.name in [\"ADD_LIQUIDITY\", \"REMOVE_LIQUIDITY\"]:\n",
    "        continue  # todo\n",
    "    if trade.action_type.name == \"OPEN_SHORT\":\n",
    "        with ape.accounts.use_sender(sol_agents[agent_key]):  # sender for contract calls \n",
    "            # Mint DAI & approve ERC20 usage by contract\n",
    "            base_ERC20.mint(trade_amount)\n",
    "            base_ERC20.approve(hyperdrive.address, trade_amount)\n",
    "        new_state, trade_details = ape_utils.ape_open_position(\n",
    "            hyperdrive_market.AssetIdPrefix.SHORT,\n",
    "            hyperdrive,\n",
    "            sol_agents[agent_key],\n",
    "            trade_amount,\n",
    "        )\n",
    "        sim_to_block_time[trade.mint_time] = new_state[\"maturity_timestamp_\"]\n",
    "    elif trade.action_type.name == \"CLOSE_SHORT\":\n",
    "        maturity_time = int(sim_to_block_time[trade.mint_time])\n",
    "        new_state, trade_details = ape_utils.ape_close_position(\n",
    "            hyperdrive_market.AssetIdPrefix.SHORT,\n",
    "            hyperdrive,\n",
    "            sol_agents[agent_key],\n",
    "            trade_amount,\n",
    "            maturity_time,\n",
    "        )\n",
    "    elif trade.action_type.name == \"OPEN_LONG\":\n",
    "        with ape.accounts.use_sender(sol_agents[agent_key]):  # sender for contract calls \n",
    "            # Mint DAI & approve ERC20 usage by contract\n",
    "            base_ERC20.mint(trade_amount)\n",
    "            base_ERC20.approve(hyperdrive.address, trade_amount)\n",
    "        new_state, trade_details = ape_utils.ape_open_position(\n",
    "            hyperdrive_market.AssetIdPrefix.LONG,\n",
    "            hyperdrive,\n",
    "            sol_agents[agent_key],\n",
    "            trade_amount,\n",
    "        )\n",
    "        sim_to_block_time[trade.mint_time] = new_state[\"maturity_timestamp_\"]\n",
    "    elif trade.action_type.name == \"CLOSE_LONG\":\n",
    "        maturity_time = int(sim_to_block_time[trade.mint_time])\n",
    "        new_state, trade_details = ape_utils.ape_close_position(\n",
    "            hyperdrive_market.AssetIdPrefix.LONG,\n",
    "            hyperdrive,\n",
    "            sol_agents[agent_key],\n",
    "            trade_amount,\n",
    "            maturity_time,\n",
    "        )\n",
    "    else:\n",
    "        raise ValueError(f\"{trade.action_type=} must be opening or closing a long or short\")\n",
    "    trade_receipts.append(trade_details)\n",
    "    new_state[\"action_type\"] = trade.action_type.name\n",
    "    new_state[\"trade_amount\"] = trade_amount / 1e18\n",
    "    new_state[\"agent_key\"] = agent_key\n",
    "    pool_state.append(new_state)"
   ]
  },
  {
   "cell_type": "code",
   "execution_count": null,
   "id": "ca36fae5-c60b-4dff-b91d-6fa340ebf49b",
   "metadata": {
    "tags": []
   },
   "outputs": [],
   "source": [
    "trades_df = pd.DataFrame(pool_state)"
   ]
  },
  {
   "cell_type": "code",
   "execution_count": null,
   "id": "1b3441b8-da40-4e09-a18c-ea94557102f4",
   "metadata": {
    "tags": []
   },
   "outputs": [],
   "source": [
    "trades_df.columns"
   ]
  },
  {
   "cell_type": "code",
   "execution_count": null,
   "id": "06c0e33d-8500-48cc-8b3a-398d0d91495e",
   "metadata": {
    "tags": []
   },
   "outputs": [],
   "source": [
    "for trade_idx in range(1, len(trades_df)):\n",
    "    fig, axs, _ = output_utils.get_gridspec_subplots()\n",
    "    ax = axs[0]\n",
    "    ax.step(range(1, trade_idx), trades_df[\"shortsOutstanding_\"].iloc[1:trade_idx] / 1e18, label=\"Shorts outstanding\")\n",
    "    ax.step(range(1, trade_idx), trades_df[\"longsOutstanding_\"].iloc[1:trade_idx] / 1e18, label=\"Longs outstanding\")\n",
    "    ax.set_xlabel(\"Trade number\")\n",
    "    ax.set_ylabel(\"Outstanding open positions\")\n",
    "    ax.set_title(\"Random longs & shorts\")\n",
    "    ax.set_xlim([1, len(trades_df)])\n",
    "    y_max = round(max(max(trades_df[\"shortsOutstanding_\"]) / 1e18, max(trades_df[\"longsOutstanding_\"]) / 1e18))\n",
    "    ax.set_ylim([0, y_max])\n",
    "    ax.ticklabel_format(axis=\"both\", style=\"sci\")\n",
    "    ax.legend();\n",
    "    fig.savefig(f\"./figs/trade_balances/random_trades_{trade_idx:02g}.png\", bbox_inches=\"tight\")\n",
    "    plt.close(fig)"
   ]
  },
  {
   "cell_type": "code",
   "execution_count": null,
   "id": "8a8c94f1-df7a-4f6c-b2e2-ff1b9f28a614",
   "metadata": {
    "tags": []
   },
   "outputs": [],
   "source": [
    "trades_df[[\"agent_key\", \"action_type\", \"trade_amount\"]].iloc[1:]"
   ]
  }
 ],
 "metadata": {
  "kernelspec": {
   "display_name": "Python 3 (ipykernel)",
   "language": "python",
   "name": "python3"
  },
  "language_info": {
   "codemirror_mode": {
    "name": "ipython",
    "version": 3
   },
   "file_extension": ".py",
   "mimetype": "text/x-python",
   "name": "python",
   "nbconvert_exporter": "python",
   "pygments_lexer": "ipython3",
   "version": "3.8.16"
  }
 },
 "nbformat": 4,
 "nbformat_minor": 5
}
