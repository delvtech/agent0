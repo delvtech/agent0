{
  "cells": [
    {
      "attachments": {},
      "cell_type": "markdown",
      "metadata": {
        "colab_type": "text",
        "id": "view-in-github"
      },
      "source": [
        "<a href=\"https://colab.research.google.com/github/element-fi/elf-simulations/blob/main/examples/notebooks/hyperdrive.ipynb\" target=\"_parent\"><img src=\"https://colab.research.google.com/assets/colab-badge.svg\" alt=\"Open In Colab\"/></a>"
      ]
    },
    {
      "attachments": {},
      "cell_type": "markdown",
      "metadata": {},
      "source": [
        "## Hyperdrive [NAME] simulation\n",
        "We use the following setup:\n",
        "- TBD\n",
        "* variable rate:\n",
        "    * step function\n",
        "    * rate changes every 3 months\n",
        "    * \n",
        "\n",
        "For details on the simulation framework, please see our <a href=\"https://elfpy.element.fi/\">simulation documentation</a>"
      ]
    },
    {
      "cell_type": "markdown",
      "metadata": {
        "id": "EITUXDh8Rtif"
      },
      "source": [
        "### Install repo requirements & import packages"
      ]
    },
    {
      "cell_type": "code",
      "execution_count": null,
      "metadata": {
        "id": "fb7TjkLw4bHR"
      },
      "outputs": [],
      "source": [
        "# test: skip-cell\n",
        "try: # install dependencies only if running on google colab\n",
        "    import google.colab # check if running in colab\n",
        "    !pip install -r https://raw.githubusercontent.com/element-fi/elf-simulations/main/requirements-3.8.txt \n",
        "    !pip install git+https://github.com/element-fi/elf-simulations.git\n",
        "except:\n",
        "    print(\"running locally & trusting that you have the dependencies installed\")"
      ]
    },
    {
      "cell_type": "code",
      "execution_count": null,
      "metadata": {
        "id": "efreB4W-4u1q"
      },
      "outputs": [],
      "source": [
        "from __future__ import annotations\n",
        "\n",
        "import numpy as np\n",
        "from numpy.random._generator import Generator\n",
        "import matplotlib.pyplot as plt\n",
        "import pandas as pd\n",
        "\n",
        "from elfpy import WEI\n",
        "from elfpy.types import MarketActionType, MarketAction, Quantity, TokenType, MarketDeltas\n",
        "from elfpy.simulators import Simulator\n",
        "from elfpy.agent import Agent\n",
        "from elfpy.markets import Market\n",
        "from elfpy.utils import sim_utils\n",
        "import elfpy.utils.outputs as output_utils\n",
        "import elfpy.utils.post_processing as post_processing\n",
        "from elfpy.types import MarketState, StretchedTime, Config\n",
        "from elfpy.utils.outputs import get_gridspec_subplots"
      ]
    },
    {
      "cell_type": "markdown",
      "metadata": {
        "id": "MMgaUflvLPnq"
      },
      "source": [
        "### Setup experiment parameters"
      ]
    },
    {
      "cell_type": "code",
      "execution_count": null,
      "metadata": {
        "id": "_PY2dAov5nxy"
      },
      "outputs": [],
      "source": [
        "config = Config()\n",
        "\n",
        "# General config parameters\n",
        "config.title = \"Hyperdrive smart agent demo\"\n",
        "config.pricing_model_name = \"Hyperdrive\" # can be yieldspace or hyperdrive\n",
        "\n",
        "config.num_trading_days = 90#1095 # Number of simulated trading days\n",
        "config.num_blocks_per_day = 5#7200 # Blocks in a given day (7200 means ~12 sec per block)\n",
        "config.num_position_days = 10#90 # How long a token reaches maturity\n",
        "\n",
        "config.trade_fee_percent = 0.05 # fee percent collected on trades\n",
        "config.redemption_fee_percent = 0.05 # fee collected on the spread of the flat portion\n",
        "\n",
        "config.target_pool_apr = 0.01 # target pool APR of the initial market after the LP\n",
        "config.target_liquidity = 500_000_000 # target total liquidity of the initial market, before any trades\n",
        "\n",
        "config.log_level = output_utils.text_to_log_level(\"INFO\") # Logging level, should be in [\"DEBUG\", \"INFO\", \"WARNING\"]\n",
        "config.log_filename = \"./frida_n_louie.log\" # Output filename for logging\n",
        "\n",
        "config.shuffle_users = False\n",
        "\n",
        "# Notebook specific parameters\n",
        "num_fridas = 50\n",
        "num_louies = 3 * num_fridas\n",
        "num_agents = num_fridas + num_louies # int specifying how many agents you want to simulate\n",
        "trade_chance = 0.1 # 1 / (config.num_trading_days * num_agents) # on a given block, an agent will trade with probability `trade_chance`\n",
        "\n",
        "budget_min = 5_000\n",
        "budget_max = 250_000\n",
        "budget_mean = 75_000\n",
        "budget_std = 50_000\n",
        "\n",
        "frida_risk_min = 0.0\n",
        "frida_risk_max = 0.06\n",
        "frida_risk_mean = 0.02\n",
        "frida_risk_std = 0.01"
      ]
    },
    {
      "cell_type": "markdown",
      "metadata": {
        "id": "gMKQLsMiLd-_"
      },
      "source": [
        "### Setup agents"
      ]
    },
    {
      "cell_type": "code",
      "execution_count": null,
      "metadata": {
        "id": "kroJESetLW3l"
      },
      "outputs": [],
      "source": [
        "class FixedFrida(Agent):\n",
        "    \"\"\"\n",
        "    Agent that paints & opens fixed rate borrow positions\n",
        "    \"\"\"\n",
        "\n",
        "    def __init__(self, rng: Generator, trade_chance: float, risk_threshold: float, wallet_address: int, budget: int = 10_000) -> None:\n",
        "        \"\"\"Add custom stuff then call basic policy init\"\"\"\n",
        "        self.trade_chance = trade_chance\n",
        "        self.risk_threshold = risk_threshold\n",
        "        self.rng = rng\n",
        "        super().__init__(wallet_address, budget)\n",
        "\n",
        "    def action(self, market: Market) -> list[MarketAction]:\n",
        "        \"\"\"Implement a Fixed Frida user strategy\n",
        "\n",
        "        I'm an actor with a high risk threshold\n",
        "        I'm willing to open up a fixed-rate borrow (aka a short) if the fixed rate is ~2% higher than the variable rate\n",
        "            approx means gauss mean=0.02; std=0.005, clipped at 0, 5\n",
        "        I will never close my short until the simulation stops\n",
        "            UNLESS my short reaches the token duration mark (e.g. 6mo)\n",
        "            realistically, people might leave them hanging\n",
        "        I have total budget of 2k -> 250k (gauss mean=75k; std=50k, i.e. 68% values are within 75k +/- 50k)\n",
        "        I only open one short at a time\n",
        "\n",
        "        Parameters\n",
        "        ----------\n",
        "        market : Market\n",
        "            the trading market\n",
        "\n",
        "        Returns\n",
        "        -------\n",
        "        action_list : list[MarketAction]\n",
        "        \"\"\"\n",
        "        # Any trading at all is based on a weighted coin flip -- they have a trade_chance% chance of executing a trade\n",
        "        gonna_trade = self.rng.choice([True, False], p=[self.trade_chance, 1-self.trade_chance])\n",
        "        if not gonna_trade:\n",
        "            return []\n",
        "        \n",
        "        action_list = []\n",
        "        for short_time in self.wallet.shorts: # loop over shorts\n",
        "            if market.time - short_time >= market.position_duration.days: # if any short is mature\n",
        "                trade_amount = self.wallet.shorts[short_time] # close the whole thing\n",
        "                action_list += [\n",
        "                    self.create_agent_action(action_type=MarketActionType.CLOSE_SHORT, trade_amount=trade_amount, mint_time=short_time)\n",
        "                ]\n",
        "\n",
        "        short_balances = [short.balance for short in self.wallet.shorts.values()]\n",
        "        has_opened_short = bool(any(short_balance > 0 for short_balance in short_balances))\n",
        "        if (market.rate - market.market_state.vault_apr) > self.risk_threshold and not has_opened_short: # approx 2% higher\n",
        "            trade_amount = self.get_max_short(market) # maximum amount the agent can short given the market and the agent's wallet\n",
        "            if trade_amount > WEI:\n",
        "                action_list += [\n",
        "                    self.create_agent_action(action_type=MarketActionType.OPEN_SHORT, trade_amount=trade_amount, mint_time=market.time)\n",
        "                ]\n",
        "\n",
        "        return action_list"
      ]
    },
    {
      "cell_type": "code",
      "execution_count": null,
      "metadata": {},
      "outputs": [],
      "source": [
        "class LongLouie(Agent):\n",
        "    \"\"\"\n",
        "    Long-nosed agent that opens longs\n",
        "    \"\"\"\n",
        "\n",
        "    def __init__(self, rng: Generator, trade_chance: float, risk_threshold: float, wallet_address: int, budget: int = 10_000) -> None:\n",
        "        \"\"\"Add custom stuff then call basic policy init\"\"\"\n",
        "        self.trade_chance = trade_chance\n",
        "        self.risk_threshold = risk_threshold\n",
        "        self.rng = rng\n",
        "        super().__init__(wallet_address, budget)\n",
        "\n",
        "    def action(self, market: Market) -> list[MarketAction]:\n",
        "        \"\"\"Implement a Long Louie user strategy\n",
        "\n",
        "        I'm not willing to open a long if it will cause the fixed-rate apr to go below the variable rate\n",
        "            I simulate the outcome of my trade, and only execute on this condition\n",
        "        I only close if the position has matured\n",
        "        I have total budget of 2k -> 250k (gauss mean=75k; std=50k, i.e. 68% values are within 75k +/- 50k)\n",
        "        I only open one long at a time\n",
        "\n",
        "        Parameters\n",
        "        ----------\n",
        "        market : Market\n",
        "            the trading market\n",
        "\n",
        "        Returns\n",
        "        -------\n",
        "        action_list : list[MarketAction]\n",
        "        \"\"\"\n",
        "        # Any trading at all is based on a weighted coin flip -- they have a trade_chance% chance of executing a trade\n",
        "        gonna_trade = self.rng.choice([True, False], p=[self.trade_chance, 1-self.trade_chance])\n",
        "        if not gonna_trade:\n",
        "            return []\n",
        "        \n",
        "        action_list = []\n",
        "        for long_time in self.wallet.longs: # loop over longs\n",
        "            if market.time - long_time >= market.position_duration.days: # if any long is mature\n",
        "                trade_amount = self.wallet.longs[long_time] # close the whole thing\n",
        "                action_list += [\n",
        "                    self.create_agent_action(action_type=MarketActionType.CLOSE_LONG, trade_amount=trade_amount, mint_time=long_time)\n",
        "                ]\n",
        "\n",
        "        long_balances = [long.balance for long in self.wallet.longs.values()]\n",
        "        has_opened_long = bool(any(long_balance > 0 for long_balance in long_balances))\n",
        "        if (market.rate - market.market_state.vault_apr) > self.risk_threshold and not has_opened_long: # risk_threshold = 0\n",
        "            # FIXME: get_max_long_given_rate(rate) returns max long such that the market_state.fixed_rate == rate\n",
        "            trade_amount = self.get_max_long(market) # maximum amount the agent can long given the market and the agent's wallet\n",
        "            if trade_amount > WEI:\n",
        "                # simulate the trade\n",
        "                trade_result = market.pricing_model.calc_out_given_in(\n",
        "                    in_=Quantity(amount=trade_amount, unit=TokenType.BASE),\n",
        "                    market_state=market.market_state,\n",
        "                    time_remaining=market.position_duration,\n",
        "                )\n",
        "                # apply the trade to a fake market state\n",
        "                market_state_post_trade = market.market_state.copy()\n",
        "                market_deltas = MarketDeltas(\n",
        "                    d_base_asset=trade_result.market_result.d_base,\n",
        "                    d_token_asset=trade_result.market_result.d_bonds,\n",
        "                    d_base_buffer=trade_result.breakdown.with_fee,\n",
        "                )\n",
        "                market_state_post_trade.apply_delta(market_deltas)\n",
        "                # get the new fixed rate from the fake market state\n",
        "                new_fixed_rate = market.pricing_model.calc_apr_from_reserves(market_state_post_trade, market.position_duration)\n",
        "                if new_fixed_rate > market.market_state.vault_apr:\n",
        "                    action_list += [\n",
        "                        self.create_agent_action(action_type=MarketActionType.OPEN_LONG, trade_amount=trade_amount, mint_time=market.time)\n",
        "                    ]\n",
        "\n",
        "        return action_list"
      ]
    },
    {
      "cell_type": "code",
      "execution_count": null,
      "metadata": {},
      "outputs": [],
      "source": [
        "\n",
        "class LPAgent(Agent):\n",
        "    \"\"\"Adds a large LP\"\"\"\n",
        "    def action(self, market: Market):\n",
        "        \"\"\"implement user strategy\"\"\"\n",
        "        if self.wallet.lp_tokens > 0: # has already opened the lp\n",
        "            action_list = []\n",
        "        else:\n",
        "            action_list = [\n",
        "                self.create_agent_action(\n",
        "                    action_type=MarketActionType.ADD_LIQUIDITY, trade_amount=self.budget\n",
        "                ),\n",
        "            ]\n",
        "        return action_list"
      ]
    },
    {
      "cell_type": "code",
      "execution_count": null,
      "metadata": {},
      "outputs": [],
      "source": [
        "\n",
        "def get_example_agents(rng: Generator, num_fridas: int, num_louies: int, existing_agents: int = 0) -> list[Agent]:\n",
        "    \"\"\"Instantiate a set of custom agents\"\"\"\n",
        "    agents = []\n",
        "    for address in range(existing_agents, existing_agents + num_fridas):\n",
        "        risk_threshold = np.maximum(frida_risk_min, np.minimum(frida_risk_max, rng.normal(loc=frida_risk_mean, scale=frida_risk_std)))\n",
        "        budget = np.maximum(budget_min, np.minimum(250_000, rng.normal(loc=budget_mean, scale=budget_std)))\n",
        "        agent = FixedFrida(\n",
        "            rng=rng,\n",
        "            trade_chance=trade_chance,\n",
        "            risk_threshold=risk_threshold,\n",
        "            wallet_address=address,\n",
        "            budget=budget,\n",
        "        )\n",
        "        agent.log_status_report()\n",
        "        agents += [agent]\n",
        "    existing_agents += len(agents)\n",
        "    for address in range(existing_agents, existing_agents + num_louies):\n",
        "        risk_threshold = 0.0\n",
        "        budget = np.maximum(budget_min, np.minimum(250_000, rng.normal(loc=budget_mean, scale=budget_std)))\n",
        "        agent = LongLouie(\n",
        "            rng=rng,\n",
        "            trade_chance=trade_chance,\n",
        "            risk_threshold=risk_threshold,\n",
        "            wallet_address=address,\n",
        "            budget=budget,\n",
        "        )\n",
        "        agent.log_status_report()\n",
        "        agents += [agent]\n",
        "    return agents"
      ]
    },
    {
      "cell_type": "markdown",
      "metadata": {
        "id": "vedqHoVLLtKq"
      },
      "source": [
        "\n",
        "### Define vault apr process"
      ]
    },
    {
      "cell_type": "code",
      "execution_count": null,
      "metadata": {
        "id": "fqS3ean1LqNm"
      },
      "outputs": [],
      "source": [
        "# Define the vault apr\n",
        "vault_apr = np.array([0.01]*config.num_trading_days)\n",
        "vault_apr[30:] = 0.05\n",
        "config.vault_apr = vault_apr.tolist()\n",
        "config.freeze()"
      ]
    },
    {
      "cell_type": "markdown",
      "metadata": {
        "id": "zKf-kSthMJSa"
      },
      "source": [
        "### Setup simulation objects"
      ]
    },
    {
      "cell_type": "code",
      "execution_count": null,
      "metadata": {
        "id": "xpagOoPAMJvv"
      },
      "outputs": [],
      "source": [
        "# define root logging parameters\n",
        "output_utils.setup_logging(log_filename=config.log_filename, log_level=config.log_level)\n",
        "\n",
        "# instantiate the pricing model\n",
        "pricing_model = sim_utils.get_pricing_model(config.pricing_model_name)\n",
        "\n",
        "# instantiate the market\n",
        "position_duration = StretchedTime(\n",
        "    days=config.num_position_days,\n",
        "    time_stretch=pricing_model.calc_time_stretch(config.target_pool_apr),\n",
        "    normalizing_constant=config.num_position_days,\n",
        ")\n",
        "\n",
        "init_target_liquidity = 1 # tiny amount for setting up apr\n",
        "share_reserves_direct, bond_reserves_direct = pricing_model.calc_liquidity(\n",
        "    market_state=MarketState(\n",
        "        share_price=config.init_share_price,\n",
        "        init_share_price=config.init_share_price\n",
        "    ),\n",
        "    target_liquidity=init_target_liquidity,\n",
        "    target_apr=config.target_pool_apr * config.num_position_days / 365,\n",
        "    position_duration=position_duration,\n",
        ")\n",
        "market = Market(\n",
        "    pricing_model=pricing_model,\n",
        "    market_state=MarketState(\n",
        "        share_reserves=share_reserves_direct,\n",
        "        bond_reserves=bond_reserves_direct,\n",
        "        base_buffer=0,\n",
        "        bond_buffer=0,\n",
        "        lp_reserves=init_target_liquidity / config.init_share_price,\n",
        "        init_share_price=config.init_share_price,  # u from YieldSpace w/ Yield Baring Vaults\n",
        "        share_price=config.init_share_price,  # c from YieldSpace w/ Yield Baring Vaults\n",
        "        vault_apr=config.vault_apr[0],  # yield bearing source apr\n",
        "        trade_fee_percent=config.trade_fee_percent,  # g\n",
        "        redemption_fee_percent=config.redemption_fee_percent,\n",
        "    ),\n",
        "    position_duration=position_duration\n",
        ")\n",
        "\n",
        "# Instantiate the initial LP agent.\n",
        "current_market_liquidity = market.pricing_model.calc_total_liquidity_from_reserves_and_price(\n",
        "    market_state=market.market_state, share_price=market.market_state.share_price\n",
        ")\n",
        "lp_amount = config.target_liquidity - current_market_liquidity\n",
        "init_agents = [LPAgent(wallet_address=0, budget=lp_amount)]\n",
        "\n",
        "# initialize the simulator using only the initial LP.\n",
        "simulator = Simulator(config=config, market=market)\n",
        "simulator.add_agents(init_agents)\n",
        "simulator.collect_and_execute_trades()"
      ]
    },
    {
      "cell_type": "markdown",
      "metadata": {
        "id": "s7MvElrkMY4M"
      },
      "source": [
        "### Run the simulation"
      ]
    },
    {
      "cell_type": "code",
      "execution_count": null,
      "metadata": {
        "id": "YEeRha47MX8I"
      },
      "outputs": [],
      "source": [
        "# add the random agents\n",
        "trading_agents = get_example_agents(rng=simulator.rng, num_fridas=num_fridas, num_louies=num_louies, existing_agents=len(simulator.agents))\n",
        "simulator.add_agents(trading_agents)\n",
        "print(f\"Simulator has {len(simulator.agents)} agents\")\n",
        "\n",
        "# run the simulation\n",
        "simulator.run_simulation()"
      ]
    },
    {
      "cell_type": "code",
      "execution_count": null,
      "metadata": {},
      "outputs": [],
      "source": [
        "# convert simulation state to a pandas dataframe\n",
        "trades = post_processing.compute_derived_variables(simulator)\n",
        "for col in trades:\n",
        "    if col.startswith(\"agent\"):\n",
        "        divisor = 1e6 # 1 million divisor for everyone\n",
        "        trades[col] = trades[col] / divisor"
      ]
    },
    {
      "cell_type": "markdown",
      "metadata": {
        "id": "N7sOn6dYPJos"
      },
      "source": [
        "### Plot simulation results"
      ]
    },
    {
      "attachments": {},
      "cell_type": "markdown",
      "metadata": {},
      "source": [
        "\n",
        "### vault & pool apr"
      ]
    },
    {
      "cell_type": "code",
      "execution_count": null,
      "metadata": {
        "id": "hfwElUKJPQyC"
      },
      "outputs": [],
      "source": [
        "trades_agg = trades.groupby(\"day\").agg(\n",
        "    {\n",
        "        \"vault_apr\": [\"mean\"],\n",
        "        \"pool_apr\": [\"mean\"],\n",
        "        \"delta_base_abs\": [\"sum\"],\n",
        "        \"vault_apr\": [\"mean\"],\n",
        "        \"agent_0_pnl\": [\"mean\"],\n",
        "    }\n",
        ")\n",
        "trades_agg.columns = [\"_\".join(col).strip() for col in trades_agg.columns.values]\n",
        "trades_agg = trades_agg.reset_index()\n",
        "ax = get_gridspec_subplots()[1][0]\n",
        "plt.gcf().set_size_inches(6,5)\n",
        "ax = trades_agg.iloc[0:].plot(x=\"day\", y=\"vault_apr_mean\", ax=ax, label=\"vault\", c='blue')\n",
        "ax = trades_agg.iloc[0:].plot(x=\"day\", y=\"pool_apr_mean\", ax=ax, label=\"pool\", c='black')\n",
        "ax.set_title(\"Interest rates over time\")\n",
        "ax.set_xlabel(\"Day\")\n",
        "ax.set_ylabel(\"APR\")\n",
        "ax.legend()\n",
        "\n",
        "xtick_step = 10\n",
        "ax.set_xticks([0]+[x for x in range(9, simulator.config.num_trading_days + 1, xtick_step)])\n",
        "ax.set_xticklabels(['1']+[str(x+1) for x in range(9, simulator.config.num_trading_days + 1, xtick_step)])\n",
        "\n",
        "ylim = ax.get_ylim()\n",
        "ax.set_ylim(0, ylim[1])\n",
        "ax.set_yticks([i for i in np.arange(ylim[0], ylim[1], 0.1)])\n",
        "ax.set_yticklabels([f\"{(i):.0%}\" for i in ax.get_yticks()])\n",
        "\n",
        "plt.show() "
      ]
    },
    {
      "attachments": {},
      "cell_type": "markdown",
      "metadata": {},
      "source": [
        "analysis goes here"
      ]
    },
    {
      "attachments": {},
      "cell_type": "markdown",
      "metadata": {},
      "source": [
        "## TODO:\n",
        "* plot market reserves\n",
        "* capital locked (as an LP)\n",
        "* agent pnl\n",
        "* what is the leverage that each Frida is getting\n",
        "* how many open long & short positions there are\n",
        "* total long balances & total short balances"
      ]
    },
    {
      "cell_type": "code",
      "execution_count": null,
      "metadata": {},
      "outputs": [],
      "source": [
        "trades"
      ]
    },
    {
      "cell_type": "code",
      "execution_count": null,
      "metadata": {},
      "outputs": [],
      "source": [
        "# total long & short positions open\n",
        "exclude_first_trade = True\n",
        "\n",
        "fig, axes, _ = output_utils.get_gridspec_subplots(nrows=1, ncols=1, wspace=0.5)\n",
        "start_idx = 1 if exclude_first_trade else 0\n",
        "addresses = range(len(simulator.agents))\n",
        "for address in addresses:\n",
        "    dict_key = f\"agent_{address}\"\n",
        "    _ = trades.iloc[start_idx:].plot(\n",
        "        x=\"run_trade_number\", y=f\"{dict_key}_total_longs\", label=f\"0x{address}\", ax=axes[0]\n",
        "    )\n",
        "    _ = trades.iloc[start_idx:].plot(\n",
        "        x=\"run_trade_number\", y=f\"{dict_key}_total_shorts\", label=f\"0x{address}\", ax=axes[1]\n",
        "    )\n",
        "axes[0].set_ylabel(\"Total long balances\")\n",
        "axes[1].set_ylabel(\"Total short balances\")\n",
        "axes[0].legend()\n",
        "trade_labels = trades.loc[:, \"run_trade_number\"][::xtick_step][:start_idx:]\n",
        "for axis in axes:\n",
        "    axis.set_xlabel(\"Trade number\")\n",
        "    axis.set_xticks(trade_labels)\n",
        "    axis.set_xticklabels([str(x + 1) for x in trade_labels])\n",
        "    axis.set_box_aspect(1)\n",
        "fig_size = fig.get_size_inches()  # [width (or cols), height (or rows)]\n",
        "fig.set_size_inches([2 * fig_size[0], fig_size[1]])\n",
        "_ = fig.suptitle(\"Longs and shorts per agent\", y=0.90)"
      ]
    },
    {
      "cell_type": "code",
      "execution_count": null,
      "metadata": {},
      "outputs": [],
      "source": [
        "fig = output_utils.plot_longs_and_shorts(trades, exclude_first_agent=True, exclude_first_trade=False, xtick_step=10)\n",
        "fig.legend(visible=False)"
      ]
    },
    {
      "cell_type": "code",
      "execution_count": null,
      "metadata": {},
      "outputs": [],
      "source": [
        "fig = output_utils.plot_pool_apr(trades, exclude_first_day=True, exclude_last_day = True)\n",
        "fig.set_size_inches(6,5)\n",
        "ax = plt.gca()\n",
        "ax.properties()['children'][0].set_color('black')\n",
        "ax.set_yticklabels([f\"{(i/100):.3%}\" for i in ax.get_yticks()])\n",
        "ax.set_ylabel(\"APR\")\n",
        "\n",
        "xtick_step = 10\n",
        "ax.set_xticks([0]+[x for x in range(9, simulator.config.num_trading_days + 1, xtick_step)])\n",
        "ax.set_xticklabels(['1']+[str(x+1) for x in range(9, simulator.config.num_trading_days + 1, xtick_step)])\n",
        "\n",
        "plt.show()"
      ]
    },
    {
      "attachments": {},
      "cell_type": "markdown",
      "metadata": {},
      "source": [
        "analysis goes here"
      ]
    },
    {
      "cell_type": "code",
      "execution_count": null,
      "metadata": {},
      "outputs": [],
      "source": [
        "fig, ax = plt.subplots(2,1,figsize=(6, 10))\n",
        "exclude_last_day = True\n",
        "num_agents = 1\n",
        "start_idx = 0\n",
        "first_trade_that_is_on_last_day = min(trades_agg.index[trades_agg.day == max(trades_agg.day)])\n",
        "end_idx = first_trade_that_is_on_last_day - 1 if exclude_last_day is True else len(trades_agg)\n",
        "ax[0].plot(trades_agg.loc[start_idx:end_idx,\"day\"], trades_agg.loc[start_idx:end_idx,\"agent_0_pnl_mean\"], label=f\"mean = {trades_agg.loc[end_idx,'agent_0_pnl_mean']:.3f}\")\n",
        "ax[0].set_title(\"LP PNL Over Time\")\n",
        "ax[0].set_ylabel(\"PNL\")\n",
        "ax[0].set_xlabel(\"Day\")\n",
        "data = trades.loc[0:first_trade_that_is_on_last_day-1,\"agent_0_pnl\"]\n",
        "xtick_step = 10\n",
        "ax[0].set_xticks([0]+[x for x in range(9, simulator.config.num_trading_days + 1, xtick_step)])\n",
        "ax[0].set_xticklabels(['1']+[str(x+1) for x in range(9, simulator.config.num_trading_days + 1, xtick_step)])\n",
        "ax[0].legend({f\"final value = {data.values[len(data)-1]:,.3f}\"})\n",
        "ax[0].set_ylabel(\"PnL in millions\")\n",
        "\n",
        "exclude_first_trade = True\n",
        "exclude_last_trade = True\n",
        "start_idx = 1 if exclude_first_trade else 0\n",
        "end_idx = first_trade_that_is_on_last_day - 1 if exclude_last_trade is True else None\n",
        "ax[1].bar(trades_agg.loc[start_idx:end_idx,\"day\"], trades_agg.loc[start_idx:end_idx,\"delta_base_abs_sum\"], label=f\"mean = {trades_agg.loc[end_idx,'delta_base_abs_sum']:.3f}\")\n",
        "ax[1].set_title(\"Market Volume\")\n",
        "ax[1].set_ylabel(\"Base\")\n",
        "ax[1].set_xlabel(\"Day\")\n",
        "xtick_step = 10\n",
        "ax[1].set_xticks([0]+[x for x in range(9, simulator.config.num_trading_days + 1, xtick_step)])\n",
        "ax[1].set_xticklabels(['1']+[str(x+1) for x in range(9, simulator.config.num_trading_days + 1, xtick_step)])\n",
        "ylim = ax[1].get_ylim()\n",
        "ax[1].set_ylim(0, ylim[1])\n",
        "plt.show()"
      ]
    },
    {
      "attachments": {},
      "cell_type": "markdown",
      "metadata": {},
      "source": [
        "Analysis goes here"
      ]
    }
  ],
  "metadata": {
    "colab": {
      "include_colab_link": true,
      "private_outputs": true,
      "provenance": []
    },
    "kernelspec": {
      "display_name": "elf-env",
      "language": "python",
      "name": "python3"
    },
    "language_info": {
      "codemirror_mode": {
        "name": "ipython",
        "version": 3
      },
      "file_extension": ".py",
      "mimetype": "text/x-python",
      "name": "python",
      "nbconvert_exporter": "python",
      "pygments_lexer": "ipython3",
      "version": "3.8.16"
    },
    "vscode": {
      "interpreter": {
        "hash": "de650408e15adc8fb9b84ade33ab785e8e4285d1ab866a37f256293a74a6afc8"
      }
    }
  },
  "nbformat": 4,
  "nbformat_minor": 0
}
