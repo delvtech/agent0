{
 "cells": [
  {
   "attachments": {},
   "cell_type": "markdown",
   "metadata": {
    "colab_type": "text",
    "id": "view-in-github"
   },
   "source": [
    "<a href=\"https://colab.research.google.com/github/element-fi/elf-simulations/blob/dp_mart_agents/examples/notebooks/fred_louie_simulation.ipynb\" target=\"_parent\"><img src=\"https://colab.research.google.com/assets/colab-badge.svg\" alt=\"Open In Colab\"/></a>"
   ]
  },
  {
   "cell_type": "markdown",
   "metadata": {},
   "source": [
    "## Hyperdrive [NAME] simulation\n",
    "We use the following setup:\n",
    "- TBD\n",
    "* variable rate:\n",
    "    * step function\n",
    "    * rate changes every 3 months\n",
    "    * \n",
    "\n",
    "For details on the simulation framework, please see our <a href=\"https://elfpy.element.fi/\">simulation documentation</a>"
   ]
  },
  {
   "cell_type": "markdown",
   "metadata": {
    "id": "EITUXDh8Rtif"
   },
   "source": [
    "### Install repo requirements & import packages"
   ]
  },
  {
   "cell_type": "code",
   "execution_count": null,
   "metadata": {
    "id": "fb7TjkLw4bHR"
   },
   "outputs": [],
   "source": [
    "# test: skip-cell\n",
    "try: # install dependencies only if running on google colab\n",
    "    import google.colab # check if running in colab\n",
    "    !pip install -r https://raw.githubusercontent.com/element-fi/elf-simulations/main/requirements-3.8.txt \n",
    "    !pip install git+https://github.com/element-fi/elf-simulations.git\n",
    "except:\n",
    "    print(\"running locally & trusting that you have the dependencies installed\")"
   ]
  },
  {
   "cell_type": "code",
   "execution_count": null,
   "metadata": {
    "id": "efreB4W-4u1q",
    "tags": []
   },
   "outputs": [],
   "source": [
    "from __future__ import annotations\n",
    "\n",
    "import numpy as np\n",
    "from numpy.random._generator import Generator\n",
    "import matplotlib.ticker as ticker\n",
    "\n",
    "from elfpy import WEI\n",
    "from elfpy.agents.agent import Agent\n",
    "from elfpy.utils import sim_utils\n",
    "from elfpy.simulators import Config\n",
    "\n",
    "import elfpy.markets.hyperdrive as hyperdrive\n",
    "import elfpy.utils.outputs as output_utils\n",
    "import elfpy.utils.post_processing as post_processing\n",
    "import elfpy.types as types"
   ]
  },
  {
   "cell_type": "markdown",
   "metadata": {
    "id": "MMgaUflvLPnq"
   },
   "source": [
    "### Setup experiment parameters"
   ]
  },
  {
   "cell_type": "code",
   "execution_count": null,
   "metadata": {
    "id": "_PY2dAov5nxy",
    "tags": []
   },
   "outputs": [],
   "source": [
    "config = Config()\n",
    "\n",
    "# General config parameters\n",
    "config.title = \"Hyperdrive smart agent demo\"\n",
    "config.pricing_model_name = \"Hyperdrive\" # can be yieldspace or hyperdrive\n",
    "\n",
    "config.num_trading_days = 20#1095 # Number of simulated trading days\n",
    "config.num_blocks_per_day = 5#7200 # Blocks in a given day (7200 means ~12 sec per block)\n",
    "config.num_position_days = 10#90 # How long a token reaches maturity\n",
    "\n",
    "config.trade_fee_percent = 0.05 # fee percent collected on trades\n",
    "config.redemption_fee_percent = 0.05 # fee collected on the spread of the flat portion\n",
    "\n",
    "config.target_fixed_apr = 0.01 # target fixed APR of the initial market after the LP\n",
    "config.target_liquidity = 500_000_000 # target total liquidity of the initial market, before any trades\n",
    "\n",
    "config.log_level = output_utils.text_to_log_level(\"INFO\") # Logging level, should be in [\"DEBUG\", \"INFO\", \"WARNING\"]\n",
    "config.log_filename = \"frida_n_louie\" # Output filename for logging\n",
    "\n",
    "config.shuffle_users = True\n",
    "\n",
    "# Notebook specific parameters\n",
    "num_fridas = 15\n",
    "num_louies = 20 * num_fridas\n",
    "num_agents = num_fridas + num_louies # int specifying how many agents you want to simulate\n",
    "trade_chance = 0.1 # 1 / (config.num_trading_days * num_agents) # on a given block, an agent will trade with probability `trade_chance`\n",
    "\n",
    "louie_budget_mean = 375_000\n",
    "louie_budget_std = 25_000\n",
    "\n",
    "louie_budget_max = 1_00_000\n",
    "louie_budget_min = 1_000\n",
    "\n",
    "frida_budget_mean = 1_000\n",
    "frida_budget_std = 500\n",
    "\n",
    "frida_budget_max = 1_00_000\n",
    "frida_budget_min = 1_000\n",
    "\n",
    "frida_risk_min = 0.0\n",
    "frida_risk_max = 0.06\n",
    "frida_risk_mean = 0.02\n",
    "frida_risk_std = 0.01\n",
    "\n",
    "# Define the vault apr\n",
    "vault_apr = np.array([0.01]*config.num_trading_days)\n",
    "#vault_apr[config.num_trading_days//2:] = 0.05\n",
    "config.variable_apr = vault_apr.tolist()\n",
    "config.freeze()\n",
    "\n",
    "fig_size = (5, 5)"
   ]
  },
  {
   "cell_type": "markdown",
   "metadata": {
    "id": "gMKQLsMiLd-_"
   },
   "source": [
    "### Setup agents"
   ]
  },
  {
   "cell_type": "code",
   "execution_count": null,
   "metadata": {
    "id": "kroJESetLW3l",
    "tags": []
   },
   "outputs": [],
   "source": [
    "class FixedFrida(Agent):\n",
    "    \"\"\"\n",
    "    Agent that paints & opens fixed rate borrow positions\n",
    "    \"\"\"\n",
    "\n",
    "    def __init__(self, rng: Generator, trade_chance: float, risk_threshold: float, wallet_address: int, budget: int = 10_000) -> None:\n",
    "        \"\"\"Add custom stuff then call basic policy init\"\"\"\n",
    "        self.trade_chance = trade_chance\n",
    "        self.risk_threshold = risk_threshold\n",
    "        self.rng = rng\n",
    "        super().__init__(wallet_address, budget)\n",
    "\n",
    "    def action(self, market: hyperdrive.Market) -> list[types.Trade]:\n",
    "        \"\"\"Implement a Fixed Frida user strategy\n",
    "\n",
    "        I'm an actor with a high risk threshold\n",
    "        I'm willing to open up a fixed-rate borrow (aka a short) if the fixed rate is ~2% higher than the variable rate\n",
    "            approx means gauss mean=0.02; std=0.005, clipped at 0, 5\n",
    "        I will never close my short until the simulation stops\n",
    "            UNLESS my short reaches the token duration mark (e.g. 6mo)\n",
    "            realistically, people might leave them hanging\n",
    "        I have total budget of 2k -> 250k (gauss mean=75k; std=50k, i.e. 68% values are within 75k +/- 50k)\n",
    "        I only open one short at a time\n",
    "\n",
    "        Parameters\n",
    "        ----------\n",
    "        market : Market\n",
    "            the trading market\n",
    "\n",
    "        Returns\n",
    "        -------\n",
    "        action_list : list[MarketAction]\n",
    "        \"\"\"\n",
    "        # Any trading at all is based on a weighted coin flip -- they have a trade_chance% chance of executing a trade\n",
    "        gonna_trade = self.rng.choice([True, False], p=[self.trade_chance, 1-self.trade_chance])\n",
    "        if not gonna_trade:\n",
    "            return []\n",
    "        \n",
    "        action_list = []\n",
    "        for short_time in self.wallet.shorts: # loop over shorts\n",
    "            if (market.time - short_time) >= market.annualized_position_duration: # if any short is mature\n",
    "                trade_amount = self.wallet.shorts[short_time].balance # close the whole thing\n",
    "                action_list += [\n",
    "                    types.Trade(\n",
    "                        market=types.MarketType.HYPERDRIVE,\n",
    "                        trade=hyperdrive.MarketAction(\n",
    "                            action_type=hyperdrive.MarketActionType.CLOSE_SHORT,\n",
    "                            trade_amount=trade_amount,\n",
    "                            wallet=self.wallet,\n",
    "                            mint_time=short_time,\n",
    "                        ),\n",
    "                    )\n",
    "                ]\n",
    "\n",
    "        short_balances = [short.balance for short in self.wallet.shorts.values()]\n",
    "        has_opened_short = bool(any(short_balance > 0 for short_balance in short_balances))\n",
    "        # only open a short if the fixed rate is 0.02 or more lower than variable rate\n",
    "        if (market.fixed_apr - market.market_state.variable_apr) < self.risk_threshold and not has_opened_short: \n",
    "            trade_amount = self.get_max_short(market) # maximum amount the agent can short given the market and the agent's wallet\n",
    "            if trade_amount > WEI:\n",
    "                action_list += [\n",
    "                    types.Trade(\n",
    "                        market=types.MarketType.HYPERDRIVE,\n",
    "                        trade=hyperdrive.MarketAction(\n",
    "                            action_type=hyperdrive.MarketActionType.OPEN_SHORT,\n",
    "                            trade_amount=trade_amount,\n",
    "                            wallet=self.wallet,\n",
    "                            mint_time=market.time,\n",
    "                        )\n",
    "                    )\n",
    "                ]\n",
    "\n",
    "        return action_list"
   ]
  },
  {
   "cell_type": "code",
   "execution_count": null,
   "metadata": {
    "tags": []
   },
   "outputs": [],
   "source": [
    "class LongLouie(Agent):\n",
    "    \"\"\"\n",
    "    Long-nosed agent that opens longs\n",
    "    \"\"\"\n",
    "\n",
    "    def __init__(self, rng: Generator, trade_chance: float, risk_threshold: float, wallet_address: int, budget: int = 10_000) -> None:\n",
    "        \"\"\"Add custom stuff then call basic policy init\"\"\"\n",
    "        self.trade_chance = trade_chance\n",
    "        self.risk_threshold = risk_threshold\n",
    "        self.rng = rng\n",
    "        super().__init__(wallet_address, budget)\n",
    "\n",
    "    def action(self, market: Market) -> list[types.Trade]:\n",
    "        \"\"\"Implement a Long Louie user strategy\n",
    "\n",
    "        I'm not willing to open a long if it will cause the fixed-rate apr to go below the variable rate\n",
    "            I simulate the outcome of my trade, and only execute on this condition\n",
    "        I only close if the position has matured\n",
    "        I have total budget of 2k -> 250k (gauss mean=75k; std=50k, i.e. 68% values are within 75k +/- 50k)\n",
    "        I only open one long at a time\n",
    "\n",
    "        Parameters\n",
    "        ----------\n",
    "        market : Market\n",
    "            the trading market\n",
    "\n",
    "        Returns\n",
    "        -------\n",
    "        action_list : list[MarketAction]\n",
    "        \"\"\"\n",
    "        # Any trading at all is based on a weighted coin flip -- they have a trade_chance% chance of executing a trade\n",
    "        gonna_trade = self.rng.choice([True, False], p=[self.trade_chance, 1-self.trade_chance])\n",
    "        if not gonna_trade:\n",
    "            return []\n",
    "        \n",
    "        action_list = []\n",
    "        for long_time in self.wallet.longs: # loop over longs\n",
    "            if (market.time - long_time) >= market.annualized_position_duration: # if any long is mature\n",
    "                trade_amount = self.wallet.longs[long_time].balance # close the whole thing\n",
    "                action_list += [\n",
    "                    types.Trade(\n",
    "                        market=types.MarketType.HYPERDRIVE,\n",
    "                        trade=hyperdrive.MarketAction(\n",
    "                            action_type=hyperdrive.MarketActionType.CLOSE_LONG,\n",
    "                            trade_amount=trade_amount,\n",
    "                            wallet=self.wallet,\n",
    "                            mint_time=long_time,\n",
    "                        )\n",
    "                    )\n",
    "                ]\n",
    "\n",
    "        long_balances = [long.balance for long in self.wallet.longs.values()]\n",
    "        has_opened_long = bool(any(long_balance > 0 for long_balance in long_balances))\n",
    "        # only open a long if the fixed rate is higher than variable rate\n",
    "        if (market.fixed_apr - market.market_state.variable_apr) > self.risk_threshold and not has_opened_long: # risk_threshold = 0\n",
    "            total_bonds_to_match_variable_apr = market.pricing_model.calc_bond_reserves(\n",
    "                target_apr=market.market_state.variable_apr, # fixed rate targets the variable rate\n",
    "                time_remaining=market.position_duration,\n",
    "                market_state=market.market_state\n",
    "            )\n",
    "            # get the delta bond amount & convert units\n",
    "            new_bonds_to_match_variable_apr = (market.market_state.bond_reserves - total_bonds_to_match_variable_apr) * market.spot_price\n",
    "            # divide by 2 to adjust for changes in share reserves when the trade is executed\n",
    "            adjusted_bonds = new_bonds_to_match_variable_apr / 2\n",
    "            # get the maximum amount the agent can long given the market and the agent's wallet\n",
    "            max_trade_amount = self.get_max_long(market) \n",
    "            trade_amount = np.minimum(max_trade_amount, adjusted_bonds) # don't want to trade more than the agent has or more than the market can handle\n",
    "            if trade_amount > WEI:\n",
    "                action_list += [\n",
    "                    types.Trade(\n",
    "                        market=types.MarketType.HYPERDRIVE,\n",
    "                        trade=hyperdrive.MarketAction(\n",
    "                            action_type=hyperdrive.MarketActionType.OPEN_LONG,\n",
    "                            trade_amount=trade_amount,\n",
    "                            wallet=self.wallet,\n",
    "                            mint_time=market.time,\n",
    "                        )\n",
    "                    )\n",
    "                ]\n",
    "        return action_list"
   ]
  },
  {
   "cell_type": "code",
   "execution_count": null,
   "metadata": {
    "tags": []
   },
   "outputs": [],
   "source": [
    "class LPAgent(Agent):\n",
    "    \"\"\"Adds a large LP\"\"\"\n",
    "    def action(self, market: hyperdrive.Market):\n",
    "        \"\"\"implement user strategy\"\"\"\n",
    "        if self.wallet.lp_tokens > 0: # has already opened the lp\n",
    "            action_list = []\n",
    "        else:\n",
    "            action_list = [\n",
    "                types.Trade(\n",
    "                    market=types.MarketType.HYPERDRIVE,\n",
    "                    trade=hyperdrive.MarketAction(\n",
    "                        action_type=hyperdrive.MarketActionType.ADD_LIQUIDITY,\n",
    "                        trade_amount=self.budget,\n",
    "                        wallet=self.wallet,\n",
    "                    ),\n",
    "                )\n",
    "            ]\n",
    "        return action_list"
   ]
  },
  {
   "cell_type": "code",
   "execution_count": null,
   "metadata": {
    "tags": []
   },
   "outputs": [],
   "source": [
    "\n",
    "def get_example_agents(rng: Generator, num_fridas: int, num_louies: int, existing_agents: int = 0) -> list[Agent]:\n",
    "    \"\"\"Instantiate a set of custom agents\"\"\"\n",
    "    agents = []\n",
    "    for address in range(existing_agents, existing_agents + num_fridas):\n",
    "        risk_threshold = np.maximum(frida_risk_min, np.minimum(frida_risk_max, rng.normal(loc=frida_risk_mean, scale=frida_risk_std)))\n",
    "        budget = np.maximum(frida_budget_min, np.minimum(250_000, rng.normal(loc=frida_budget_mean, scale=frida_budget_std)))\n",
    "        agent = FixedFrida(\n",
    "            rng=rng,\n",
    "            trade_chance=trade_chance,\n",
    "            risk_threshold=risk_threshold,\n",
    "            wallet_address=address,\n",
    "            budget=budget,\n",
    "        )\n",
    "        agent.log_status_report()\n",
    "        agents += [agent]\n",
    "    existing_agents += len(agents)\n",
    "    for address in range(existing_agents, existing_agents + num_louies):\n",
    "        risk_threshold = 0.0\n",
    "        budget = np.maximum(louie_budget_min, np.minimum(250_000, rng.normal(loc=louie_budget_mean, scale=louie_budget_std)))\n",
    "        agent = LongLouie(\n",
    "            rng=rng,\n",
    "            trade_chance=trade_chance,\n",
    "            risk_threshold=risk_threshold,\n",
    "            wallet_address=address,\n",
    "            budget=budget,\n",
    "        )\n",
    "        agent.log_status_report()\n",
    "        agents += [agent]\n",
    "    return agents"
   ]
  },
  {
   "cell_type": "markdown",
   "metadata": {
    "id": "zKf-kSthMJSa"
   },
   "source": [
    "### Setup simulation objects"
   ]
  },
  {
   "cell_type": "code",
   "execution_count": null,
   "metadata": {
    "id": "xpagOoPAMJvv",
    "tags": []
   },
   "outputs": [],
   "source": [
    "# define root logging parameters\n",
    "output_utils.setup_logging(log_filename=config.log_filename, log_level=config.log_level)\n",
    "\n",
    "# get an instantiated simulator object\n",
    "simulator = sim_utils.get_simulator(config)"
   ]
  },
  {
   "cell_type": "markdown",
   "metadata": {
    "id": "s7MvElrkMY4M"
   },
   "source": [
    "### Run the simulation"
   ]
  },
  {
   "cell_type": "code",
   "execution_count": null,
   "metadata": {
    "id": "YEeRha47MX8I",
    "tags": []
   },
   "outputs": [],
   "source": [
    "# add the random agents\n",
    "trading_agents = get_example_agents(\n",
    "    rng=simulator.rng,\n",
    "    num_fridas=num_fridas,\n",
    "    num_louies=num_louies,\n",
    "    existing_agents=len(simulator.agents)\n",
    ")\n",
    "simulator.add_agents(trading_agents)\n",
    "print(f\"Simulator has {len(simulator.agents)} agents\")\n",
    "\n",
    "# run the simulation\n",
    "simulator.run_simulation()"
   ]
  },
  {
   "cell_type": "code",
   "execution_count": null,
   "metadata": {
    "tags": []
   },
   "outputs": [],
   "source": [
    "# convert simulation state to a pandas dataframe\n",
    "trades = post_processing.compute_derived_variables(simulator)"
   ]
  },
  {
   "cell_type": "markdown",
   "metadata": {
    "id": "N7sOn6dYPJos"
   },
   "source": [
    "### Plot simulation results"
   ]
  },
  {
   "attachments": {},
   "cell_type": "markdown",
   "metadata": {},
   "source": [
    "\n",
    "### variable & fixed apr"
   ]
  },
  {
   "cell_type": "code",
   "execution_count": null,
   "metadata": {},
   "outputs": [],
   "source": [
    "fig, axes, _ = output_utils.get_gridspec_subplots()\n",
    "ax = axes[0]\n",
    "start_index = 0\n",
    "end_index = -1\n",
    "spot_size = 2.\n",
    "ax.scatter(trades.iloc[start_index:end_index][\"trade_number\"], trades.iloc[start_index:end_index][\"variable_apr\"], label=\"variable\", c=\"blue\", s=spot_size)\n",
    "ax.scatter(trades.iloc[start_index:end_index][\"trade_number\"], trades.iloc[start_index:end_index][\"fixed_apr\"], label=\"fixed\", c=\"orange\", s=spot_size)\n",
    "\n",
    "ax.set_title(\"Interest rates over time\")\n",
    "ax.set_xlabel(\"trade number\")\n",
    "ax.set_ylabel(\"APR\")\n",
    "ax.legend()\n",
    "\n",
    "ax.grid(axis=\"x\", which=\"both\", color=\"black\", alpha=0)\n",
    "day_data=np.nonzero(np.array(trades.iloc[start_index:end_index][\"day\"].diff())==1)[0]\n",
    "for x in day_data:\n",
    "    ax.axvline(x, c=\"black\", alpha=0.2)\n",
    "\n",
    "ax.xaxis.set_major_locator(ticker.MaxNLocator(integer=True))\n",
    "fig.set_size_inches(fig_size)"
   ]
  },
  {
   "cell_type": "code",
   "execution_count": null,
   "metadata": {
    "id": "hfwElUKJPQyC"
   },
   "outputs": [],
   "source": [
    "\n",
    "fig, axes, _ = output_utils.get_gridspec_subplots()\n",
    "ax = axes[0]\n",
    "start_index = 0\n",
    "end_index = -1\n",
    "spot_size = 2.\n",
    "ax.scatter(trades.iloc[start_index:end_index][\"trade_number\"], trades.iloc[start_index:end_index][\"variable_apr\"], label=\"variable\", c=\"blue\", s=spot_size)\n",
    "ax.scatter(trades.iloc[start_index:end_index][\"trade_number\"], trades.iloc[start_index:end_index][\"fixed_apr\"], label=\"fixed\", c=\"orange\", s=spot_size)\n",
    "ax.set_title(\"Interest rates over time\")\n",
    "ax.set_xlabel(\"trade number\")\n",
    "ax.set_ylabel(\"APR\")\n",
    "ax.legend()\n",
    "\n",
    "ax.grid(axis=\"x\", which=\"both\", color=\"black\", alpha=0)\n",
    "day_data=np.nonzero(np.array(trades.iloc[start_index:end_index][\"day\"].diff())==1)[0]\n",
    "for x in day_data:\n",
    "    ax.axvline(x, c=\"black\", alpha=0.2)\n",
    "\n",
    "ax.xaxis.set_major_locator(ticker.MaxNLocator(integer=True))\n",
    "ylim = ax.get_ylim()\n",
    "fig.set_size_inches(fig_size)"
   ]
  },
  {
   "cell_type": "code",
   "execution_count": null,
   "metadata": {},
   "outputs": [],
   "source": [
    "import pandas as pd\n",
    "num_longs_and_shorts = {\n",
    "    f\"agent_{agent_id}_num_longs\": [\"sum\"]\n",
    "    for agent_id in range(len(simulator.agents))\n",
    "}\n",
    "num_longs_and_shorts.update({\n",
    "    f\"agent_{agent_id}_num_shorts\": [\"sum\"]\n",
    "    for agent_id in range(len(simulator.agents))\n",
    "})\n",
    "trades_agg = trades.groupby(\"day\").agg(num_longs_and_shorts)\n",
    "trades_agg.columns = [\"_\".join(col).strip() for col in trades_agg.columns.values]\n",
    "trades_agg = trades_agg.reset_index()\n",
    "longs = trades_agg.filter(regex=\"num_longs\").sum(axis=1)\n",
    "shorts = trades_agg.filter(regex=\"num_shorts\").sum(axis=1)\n",
    "\n",
    "fix, axes, _ = output_utils.get_gridspec_subplots(nrows=1, ncols=1)\n",
    "ax = axes[0]\n",
    "spot_size = 2\n",
    "ax.scatter(trades_agg[\"day\"][:-1], longs[:-1], label=\"num longs\", c=\"blue\", s=spot_size)\n",
    "ax.scatter(trades_agg[\"day\"][:-1], shorts[:-1], label=\"num shorts\", c=\"orange\", s=spot_size)\n",
    "ax.legend()\n",
    "ax.set_xlabel(\"day\")\n",
    "ax.set_ylabel(\"number of positions\")\n",
    "text_handle = ax.set_title(\"Open positions\")\n",
    "fig.set_size_inches(fig_size)\n"
   ]
  },
  {
   "cell_type": "code",
   "execution_count": null,
   "metadata": {},
   "outputs": [],
   "source": [
    "fig, axes, _ = output_utils.get_gridspec_subplots(nrows=1, ncols=1)\n",
    "ax = trades.iloc[:-1].plot(x=\"trade_number\", y=\"share_reserves\", ax=axes[0], c=\"blue\")\n",
    "ax = trades.iloc[:-1].plot(x=\"trade_number\", y=\"bond_reserves\", ax=axes[0], c=\"orange\")\n",
    "ax.set_xlabel(\"trade number\")\n",
    "ax.set_ylabel(\"reserve amount\")\n",
    "ax.set_title(\"Market reserves\")\n",
    "fig.set_size_inches(fig_size)"
   ]
  },
  {
   "cell_type": "code",
   "execution_count": null,
   "metadata": {},
   "outputs": [],
   "source": [
    "lp_trades = trades.groupby(\"day\").agg(\n",
    "    {\n",
    "        f\"agent_{0}_pnl\": [\"sum\"]\n",
    "    }\n",
    ")\n",
    "lp_trades.columns = [\"_\".join(col).strip() for col in lp_trades.columns.values]\n",
    "lp_trades = lp_trades.reset_index()\n",
    "\n",
    "fridas = [agent_id for agent_id in range(len(simulator.agents)) if simulator.agents[agent_id].__class__.__name__ == \"FixedFrida\"]\n",
    "frida_trades = trades.groupby(\"day\").agg(\n",
    "    {\n",
    "        f\"agent_{agent_id}_pnl\": [\"sum\"]\n",
    "        for agent_id in fridas\n",
    "    }\n",
    ")\n",
    "frida_trades.columns = [\"_\".join(col).strip() for col in frida_trades.columns.values]\n",
    "frida_trades = frida_trades.reset_index()\n",
    "\n",
    "louies = [agent_id for agent_id in range(len(simulator.agents)) if simulator.agents[agent_id].__class__.__name__ == \"LongLouie\"]\n",
    "louies_trades = trades.groupby(\"day\").agg(\n",
    "    {\n",
    "        f\"agent_{agent_id}_pnl\": [\"sum\"]\n",
    "        for agent_id in louies\n",
    "    }\n",
    ")\n",
    "louies_trades.columns = [\"_\".join(col).strip() for col in louies_trades.columns.values]\n",
    "louies_trades = louies_trades.reset_index()\n",
    "\n",
    "fig, axes, _ = output_utils.get_gridspec_subplots(nrows=1, ncols=2, wspace=0.3)\n",
    "\n",
    "ax = axes[0]\n",
    "ax.plot(trades_agg[\"day\"][:-1], lp_trades.sum(axis=1)[:-1], label=\"LP pnl\", c=\"blue\")\n",
    "ax.set_ylabel(\"base\")\n",
    "\n",
    "ax = axes[1]\n",
    "ax.plot(trades_agg[\"day\"][:-1], frida_trades.sum(axis=1)[:-1], label=\"Frida pnl\", c=\"orange\")\n",
    "ax.plot(trades_agg[\"day\"][:-1], louies_trades.sum(axis=1)[:-1], label=\"Louie pnl\", c=\"black\")\n",
    "\n",
    "for ax in axes:\n",
    "    ax.set_xlabel(\"day\")\n",
    "    ax.legend()\n",
    "text_handle = fig.suptitle(\"Agent profitability\")\n",
    "fig.set_size_inches((fig_size[0]*2, fig_size[1]))"
   ]
  },
  {
   "cell_type": "code",
   "execution_count": null,
   "metadata": {},
   "outputs": [],
   "source": [
    "trades_agg = trades.groupby(\"day\").agg(\n",
    "    {\n",
    "        \"share_reserves\": [\"sum\"],\n",
    "        \"bond_reserves\": [\"sum\"]\n",
    "    }\n",
    ")\n",
    "trades_agg.columns = [\"_\".join(col).strip() for col in trades_agg.columns.values]\n",
    "trades_agg = trades_agg.reset_index()\n",
    "\n",
    "fix, axes, _ = output_utils.get_gridspec_subplots(nrows=1, ncols=1)\n",
    "ax = trades_agg.iloc[:-1].plot(x=\"day\", y=\"share_reserves_sum\", ax=axes[0], label=\"share reserves\", c=\"blue\")\n",
    "ax = trades_agg.iloc[:-1].plot(x=\"day\", y=\"bond_reserves_sum\", ax=axes[0], label=\"bond reserves\", c=\"orange\")\n",
    "ax.set_xlabel(\"day\")\n",
    "ax.set_ylabel(\"number of tokenx\")\n",
    "text_handle = ax.set_title(\"Reserve levels\")\n",
    "fig.set_size_inches(fig_size)"
   ]
  },
  {
   "cell_type": "code",
   "execution_count": null,
   "metadata": {},
   "outputs": [],
   "source": [
    "total_longs_and_shorts = { \n",
    "    f\"agent_{agent_id}_total_longs\": [\"mean\"] # total_longs is an aggregate value recomputed each trade\n",
    "    for agent_id in range(len(simulator.agents))\n",
    "}\n",
    "total_longs_and_shorts.update({\n",
    "    f\"agent_{agent_id}_total_shorts\": [\"mean\"] # total_shorts is an aggregate value recomputed each trade\n",
    "    for agent_id in range(len(simulator.agents))\n",
    "})\n",
    "trades_agg = trades.groupby(\"day\").agg(total_longs_and_shorts)\n",
    "trades_agg.columns = [\"_\".join(col).strip() for col in trades_agg.columns.values]\n",
    "trades_agg = trades_agg.reset_index()\n",
    "longs = trades_agg.filter(regex=\"total_longs\").sum(axis=1)\n",
    "shorts = trades_agg.filter(regex=\"total_shorts\").sum(axis=1)\n",
    "\n",
    "fix, axes, _ = output_utils.get_gridspec_subplots(nrows=1, ncols=1)\n",
    "ax = axes[0]\n",
    "ax.plot(trades_agg[\"day\"][:-1], longs[:-1], label=\"total longs\", c=\"blue\")\n",
    "ax.plot(trades_agg[\"day\"][:-1], shorts[:-1], label=\"total shorts\", c=\"orange\")\n",
    "ax.legend()\n",
    "ax.set_xlabel(\"day\")\n",
    "ax.set_ylabel(\"base\")\n",
    "text_handle = ax.set_title(\"Value of open positions\")\n",
    "fig.set_size_inches(fig_size)"
   ]
  },
  {
   "cell_type": "code",
   "execution_count": null,
   "metadata": {},
   "outputs": [],
   "source": [
    "trades_agg = trades.groupby(\"day\").agg(\n",
    "    {\n",
    "        \"base_buffer\": [\"mean\"],\n",
    "        \"bond_buffer\": [\"mean\"],\n",
    "        \"spot_price\": [\"mean\"],\n",
    "    }\n",
    ")\n",
    "trades_agg.columns = [\"_\".join(col).strip() for col in trades_agg.columns.values]\n",
    "trades_agg = trades_agg.reset_index()\n",
    "trades_agg[\"bond_buffer_mean_in_base\"] = trades_agg[\"bond_buffer_mean\"] / trades_agg[\"spot_price_mean\"]\n",
    "\n",
    "fig, axes, _ = output_utils.get_gridspec_subplots()\n",
    "ax = trades_agg.iloc[:-1].plot(x=\"day\", y=\"base_buffer_mean\", ax=axes[0], c=\"blue\")\n",
    "ax = trades_agg.iloc[:-1].plot(x=\"day\", y=\"bond_buffer_mean_in_base\", ax=axes[0], c=\"orange\")\n",
    "text_handle = ax.set_title(\"amount locked\")\n",
    "ax.set_xlabel(\"day\")\n",
    "ax.set_ylabel(\"buffer quantities (in base units)\")\n",
    "fig.set_size_inches(fig_size)"
   ]
  },
  {
   "cell_type": "code",
   "execution_count": null,
   "metadata": {},
   "outputs": [],
   "source": [
    "trades_agg = trades.groupby(\"day\").agg(\n",
    "    {\n",
    "        \"spot_price\": [\"mean\"]\n",
    "    }\n",
    ")\n",
    "trades_agg.columns = [\"_\".join(col).strip() for col in trades_agg.columns.values]\n",
    "trades_agg = trades_agg.reset_index()\n",
    "trades_agg[\"leverage\"] = 1 / (1 - trades_agg[\"spot_price_mean\"])\n",
    "\n",
    "fig, axes, _ = output_utils.get_gridspec_subplots()\n",
    "ax = axes[0]\n",
    "ax.plot(trades_agg[\"day\"][:-1], trades_agg[\"leverage\"][:-1])\n",
    "text_handle = ax.set_title(\"Short leverage\")\n",
    "ax.set_xlabel(\"day\")\n",
    "ax.set_ylabel(\"1/(1-p)\")\n",
    "fig.set_size_inches(fig_size)"
   ]
  },
  {
   "cell_type": "code",
   "execution_count": null,
   "metadata": {},
   "outputs": [],
   "source": []
  }
 ],
 "metadata": {
  "colab": {
   "include_colab_link": true,
   "private_outputs": true,
   "provenance": []
  },
  "kernelspec": {
   "display_name": "elf-env",
   "language": "python",
   "name": "python3"
  },
  "language_info": {
   "codemirror_mode": {
    "name": "ipython",
    "version": 3
   },
   "file_extension": ".py",
   "mimetype": "text/x-python",
   "name": "python",
   "nbconvert_exporter": "python",
   "pygments_lexer": "ipython3",
   "version": "3.8.16"
  },
  "vscode": {
   "interpreter": {
    "hash": "e0b3e7cfdbb0701533a1bd673e72a5f0b8ba7990b124dd57bd4db430b23dce81"
   }
  }
 },
 "nbformat": 4,
 "nbformat_minor": 4
}
