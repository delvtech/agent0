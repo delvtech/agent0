{
 "cells": [
  {
   "attachments": {},
   "cell_type": "markdown",
   "metadata": {},
   "source": [
    "# Hyperdrive Contract Integration"
   ]
  },
  {
   "cell_type": "code",
   "execution_count": 18,
   "metadata": {},
   "outputs": [],
   "source": [
    "from ape import accounts, chain, networks, Project\n",
    "from pathlib import Path\n",
    "import pandas as pd\n",
    "import matplotlib.pyplot as plt"
   ]
  },
  {
   "attachments": {},
   "cell_type": "markdown",
   "metadata": {},
   "source": [
    "## Compilation and Network Setup"
   ]
  },
  {
   "cell_type": "code",
   "execution_count": 19,
   "metadata": {},
   "outputs": [
    {
     "name": "stdout",
     "output_type": "stream",
     "text": [
      "INFO: Connecting to existing 'anvil' process.\n"
     ]
    }
   ],
   "source": [
    "networks.parse_network_choice('ethereum:local:foundry').__enter__()\n",
    "project_root = Path.cwd().parent.parent\n",
    "project = Project(path=project_root)"
   ]
  },
  {
   "attachments": {},
   "cell_type": "markdown",
   "metadata": {},
   "source": [
    "## Deploy Config"
   ]
  },
  {
   "cell_type": "code",
   "execution_count": 20,
   "metadata": {},
   "outputs": [],
   "source": [
    "# deployment config values\n",
    "\n",
    "base_supply = int(1e24) # 100 million\n",
    "t_stretch = int(22.186877016851916266e18)\n",
    "initial_rate = int(5e18) # share rate\n",
    "initial_apr = int(.05e18)\n",
    "share_price = int(1e18)\n",
    "checkpoints = int(365)\n",
    "checkpoint_duration = int(86400)\n",
    "curve_fee = int(0)\n",
    "flat_fee = int(0)"
   ]
  },
  {
   "attachments": {},
   "cell_type": "markdown",
   "metadata": {},
   "source": [
    "## Deploy Contracts"
   ]
  },
  {
   "cell_type": "code",
   "execution_count": 21,
   "metadata": {},
   "outputs": [
    {
     "name": "stdout",
     "output_type": "stream",
     "text": [
      "INFO: Confirmed 0x5a913ce499b3b4293306ab705c245f035ec04764d1dff2894e37048234a1f540 (total fees paid = 2095680000000000)\n",
      "SUCCESS: Contract 'ERC20Mintable' deployed to: \u001b[1m0x2cfF6c349E591F7D0F312bCBF9e07E6d51953561\u001b[0m\n",
      "INFO: Confirmed 0x3d97eef5898c15abbdb79703ed7372ea18367e6d3744ce9ac97be7ec80dceb60 (total fees paid = 1641477591436735)\n",
      "SUCCESS: Contract 'MockFixedPointMath' deployed to: \u001b[1m0xCC9c7ddCCfa265A9561cbf8Fb1e36e48792671fe\u001b[0m\n",
      "INFO: Confirmed 0x94252dc80de6d586515c8c4bd99a18101022e9f3f0b826d49c42a3a8819f801e (total fees paid = 188132742201476)\n",
      "INFO: Confirmed 0x302f4b44fada0134b1da8079344bb0cda0d6ccc2e85d1d4849baa296998563b5 (total fees paid = 13465444649738330)\n",
      "SUCCESS: Contract 'MockHyperdriveTestnet' deployed to: \u001b[1m0x0A2E4E22537bf48e89ae566F582A7ee3Dd19B251\u001b[0m\n",
      "INFO: Confirmed 0x3916fc51695b9983a623e7cfbeee7b64dc9c6df0939821e96e78d5986ac304e3 (total fees paid = 121332006524121)\n",
      "INFO: Confirmed 0xa37ee29480b18d488a0d9ec440009d1aedccd0f127c6d3456f028b03178885ea (total fees paid = 537323978979645)\n"
     ]
    }
   ],
   "source": [
    "# generate deployer account\n",
    "deployer = accounts.test_accounts.generate_test_account()\n",
    "\n",
    "# give deployer 3 eth\n",
    "deployer.balance += int(3e18)\n",
    "\n",
    "base_address = deployer.deploy(project.ERC20Mintable)\n",
    "base_ERC20 = project.ERC20Mintable.at(base_address)\n",
    "\n",
    "\n",
    "fixed_math_address = deployer.deploy(project.MockFixedPointMath)\n",
    "fixed_math = project.MockFixedPointMath.at(fixed_math_address)\n",
    "\n",
    "base_ERC20.mint(base_supply, sender=deployer)\n",
    "time_stretch = fixed_math.divDown(int(1e18), t_stretch)\n",
    "\n",
    "hyperdrive_address = deployer.deploy(project.MockHyperdriveTestnet, base_ERC20,\n",
    "                                     initial_rate, share_price, checkpoints,\n",
    "                                     checkpoint_duration, int(time_stretch), curve_fee,\n",
    "                                     flat_fee)\n",
    "hyperdrive = project.MockHyperdriveTestnet.at(hyperdrive_address)\n",
    "\n",
    "with accounts.use_sender(deployer):\n",
    "    base_ERC20.approve(hyperdrive, base_supply)\n",
    "    hyperdrive.initialize(base_supply, initial_rate, deployer, False)\n"
   ]
  },
  {
   "attachments": {},
   "cell_type": "markdown",
   "metadata": {},
   "source": [
    "## User Config"
   ]
  },
  {
   "cell_type": "code",
   "execution_count": 22,
   "metadata": {},
   "outputs": [],
   "source": [
    "# User Config Values\n",
    "\n",
    "user_balance = int(1e24)\n",
    "long_amount = int(1e21) # 1000 base amount\n",
    "min_out = int(1e21)\n",
    "num_longs = 50"
   ]
  },
  {
   "cell_type": "code",
   "execution_count": 26,
   "metadata": {},
   "outputs": [
    {
     "name": "stdout",
     "output_type": "stream",
     "text": [
      "INFO: Confirmed 0x6b3f8ec907a9299738a6642b3751909e8b2fed57ebc137bbff27139c361505b6 (total fees paid = 108712252613644)\n",
      "INFO: Confirmed 0x7030bba00fe631196b37de0050c3a974932cffff9198f743c388cba69b72b26c (total fees paid = 98391790111901)\n",
      "hello\n"
     ]
    },
    {
     "ename": "ContractLogicError",
     "evalue": "Transaction failed.",
     "output_type": "error",
     "traceback": [
      "\u001b[0;31m---------------------------------------------------------------------------\u001b[0m",
      "\u001b[0;31mContractLogicError\u001b[0m                        Traceback (most recent call last)",
      "File \u001b[0;32m~/.pyenv/versions/3.8.16/lib/python3.8/site-packages/ape_foundry/provider.py:403\u001b[0m, in \u001b[0;36mFoundryProvider.send_transaction\u001b[0;34m(self, txn)\u001b[0m\n\u001b[1;32m    402\u001b[0m \u001b[39mtry\u001b[39;00m:\n\u001b[0;32m--> 403\u001b[0m     \u001b[39mself\u001b[39;49m\u001b[39m.\u001b[39;49mweb3\u001b[39m.\u001b[39;49meth\u001b[39m.\u001b[39;49mcall(txn_params)\n\u001b[1;32m    404\u001b[0m \u001b[39mexcept\u001b[39;00m \u001b[39mException\u001b[39;00m \u001b[39mas\u001b[39;00m err:\n",
      "File \u001b[0;32m~/.pyenv/versions/3.8.16/lib/python3.8/site-packages/web3/eth.py:864\u001b[0m, in \u001b[0;36mEth.call\u001b[0;34m(self, transaction, block_identifier, state_override, ccip_read_enabled)\u001b[0m\n\u001b[1;32m    855\u001b[0m \u001b[39mif\u001b[39;00m (\n\u001b[1;32m    856\u001b[0m     \u001b[39m# default conditions:\u001b[39;00m\n\u001b[1;32m    857\u001b[0m     ccip_read_enabled_on_provider\n\u001b[0;32m   (...)\u001b[0m\n\u001b[1;32m    862\u001b[0m     \u001b[39mand\u001b[39;00m ccip_read_enabled \u001b[39mis\u001b[39;00m \u001b[39mTrue\u001b[39;00m\n\u001b[1;32m    863\u001b[0m ):\n\u001b[0;32m--> 864\u001b[0m     \u001b[39mreturn\u001b[39;00m \u001b[39mself\u001b[39;49m\u001b[39m.\u001b[39;49m_durin_call(transaction, block_identifier, state_override)\n\u001b[1;32m    866\u001b[0m \u001b[39mreturn\u001b[39;00m \u001b[39mself\u001b[39m\u001b[39m.\u001b[39m_call(transaction, block_identifier, state_override)\n",
      "File \u001b[0;32m~/.pyenv/versions/3.8.16/lib/python3.8/site-packages/web3/eth.py:883\u001b[0m, in \u001b[0;36mEth._durin_call\u001b[0;34m(self, transaction, block_identifier, state_override)\u001b[0m\n\u001b[1;32m    882\u001b[0m \u001b[39mtry\u001b[39;00m:\n\u001b[0;32m--> 883\u001b[0m     \u001b[39mreturn\u001b[39;00m \u001b[39mself\u001b[39;49m\u001b[39m.\u001b[39;49m_call(transaction, block_identifier, state_override)\n\u001b[1;32m    884\u001b[0m \u001b[39mexcept\u001b[39;00m OffchainLookup \u001b[39mas\u001b[39;00m offchain_lookup:\n",
      "File \u001b[0;32m~/.pyenv/versions/3.8.16/lib/python3.8/site-packages/web3/module.py:64\u001b[0m, in \u001b[0;36mretrieve_blocking_method_call_fn.<locals>.caller\u001b[0;34m(*args, **kwargs)\u001b[0m\n\u001b[1;32m     59\u001b[0m (\n\u001b[1;32m     60\u001b[0m     result_formatters,\n\u001b[1;32m     61\u001b[0m     error_formatters,\n\u001b[1;32m     62\u001b[0m     null_result_formatters,\n\u001b[1;32m     63\u001b[0m ) \u001b[39m=\u001b[39m response_formatters\n\u001b[0;32m---> 64\u001b[0m result \u001b[39m=\u001b[39m w3\u001b[39m.\u001b[39;49mmanager\u001b[39m.\u001b[39;49mrequest_blocking(\n\u001b[1;32m     65\u001b[0m     method_str, params, error_formatters, null_result_formatters\n\u001b[1;32m     66\u001b[0m )\n\u001b[1;32m     67\u001b[0m \u001b[39mreturn\u001b[39;00m apply_result_formatters(result_formatters, result)\n",
      "File \u001b[0;32m~/.pyenv/versions/3.8.16/lib/python3.8/site-packages/web3/manager.py:199\u001b[0m, in \u001b[0;36mRequestManager.request_blocking\u001b[0;34m(self, method, params, error_formatters, null_result_formatters)\u001b[0m\n\u001b[1;32m    198\u001b[0m response \u001b[39m=\u001b[39m \u001b[39mself\u001b[39m\u001b[39m.\u001b[39m_make_request(method, params)\n\u001b[0;32m--> 199\u001b[0m \u001b[39mreturn\u001b[39;00m \u001b[39mself\u001b[39;49m\u001b[39m.\u001b[39;49mformatted_response(\n\u001b[1;32m    200\u001b[0m     response, params, error_formatters, null_result_formatters\n\u001b[1;32m    201\u001b[0m )\n",
      "File \u001b[0;32m~/.pyenv/versions/3.8.16/lib/python3.8/site-packages/web3/manager.py:171\u001b[0m, in \u001b[0;36mRequestManager.formatted_response\u001b[0;34m(response, params, error_formatters, null_result_formatters)\u001b[0m\n\u001b[1;32m    170\u001b[0m \u001b[39mif\u001b[39;00m \u001b[39m\"\u001b[39m\u001b[39merror\u001b[39m\u001b[39m\"\u001b[39m \u001b[39min\u001b[39;00m response:\n\u001b[0;32m--> 171\u001b[0m     apply_error_formatters(error_formatters, response)\n\u001b[1;32m    172\u001b[0m     \u001b[39mraise\u001b[39;00m \u001b[39mValueError\u001b[39;00m(response[\u001b[39m\"\u001b[39m\u001b[39merror\u001b[39m\u001b[39m\"\u001b[39m])\n",
      "File \u001b[0;32m~/.pyenv/versions/3.8.16/lib/python3.8/site-packages/web3/manager.py:74\u001b[0m, in \u001b[0;36mapply_error_formatters\u001b[0;34m(error_formatters, response)\u001b[0m\n\u001b[1;32m     73\u001b[0m \u001b[39mif\u001b[39;00m error_formatters:\n\u001b[0;32m---> 74\u001b[0m     formatted_resp \u001b[39m=\u001b[39m pipe(response, error_formatters)\n\u001b[1;32m     75\u001b[0m     \u001b[39mreturn\u001b[39;00m formatted_resp\n",
      "File \u001b[0;32m~/.pyenv/versions/3.8.16/lib/python3.8/site-packages/cytoolz/functoolz.pyx:666\u001b[0m, in \u001b[0;36mcytoolz.functoolz.pipe\u001b[0;34m()\u001b[0m\n",
      "File \u001b[0;32m~/.pyenv/versions/3.8.16/lib/python3.8/site-packages/cytoolz/functoolz.pyx:641\u001b[0m, in \u001b[0;36mcytoolz.functoolz.c_pipe\u001b[0;34m()\u001b[0m\n",
      "File \u001b[0;32m~/.pyenv/versions/3.8.16/lib/python3.8/site-packages/web3/_utils/method_formatters.py:636\u001b[0m, in \u001b[0;36mraise_solidity_error_on_revert\u001b[0;34m(response)\u001b[0m\n\u001b[1;32m    635\u001b[0m \u001b[39mif\u001b[39;00m \u001b[39m\"\u001b[39m\u001b[39mmessage\u001b[39m\u001b[39m\"\u001b[39m \u001b[39min\u001b[39;00m response[\u001b[39m\"\u001b[39m\u001b[39merror\u001b[39m\u001b[39m\"\u001b[39m] \u001b[39mand\u001b[39;00m response[\u001b[39m\"\u001b[39m\u001b[39merror\u001b[39m\u001b[39m\"\u001b[39m]\u001b[39m.\u001b[39mget(\u001b[39m\"\u001b[39m\u001b[39mcode\u001b[39m\u001b[39m\"\u001b[39m, \u001b[39m\"\u001b[39m\u001b[39m\"\u001b[39m) \u001b[39m==\u001b[39m \u001b[39m3\u001b[39m:\n\u001b[0;32m--> 636\u001b[0m     \u001b[39mraise\u001b[39;00m ContractLogicError(response[\u001b[39m\"\u001b[39m\u001b[39merror\u001b[39m\u001b[39m\"\u001b[39m][\u001b[39m\"\u001b[39m\u001b[39mmessage\u001b[39m\u001b[39m\"\u001b[39m])\n\u001b[1;32m    638\u001b[0m \u001b[39m# Geth Revert without error message case:\u001b[39;00m\n",
      "\u001b[0;31mContractLogicError\u001b[0m: execution reverted",
      "\nThe above exception was the direct cause of the following exception:\n",
      "\u001b[0;31mContractLogicError\u001b[0m                        Traceback (most recent call last)",
      "Cell \u001b[0;32mIn[26], line 39\u001b[0m\n\u001b[1;32m     35\u001b[0m         \u001b[39mreturn\u001b[39;00m pool_info\n\u001b[1;32m     38\u001b[0m \u001b[39mfor\u001b[39;00m x \u001b[39min\u001b[39;00m \u001b[39mrange\u001b[39m(num_longs):        \n\u001b[0;32m---> 39\u001b[0m     pool_info \u001b[39m+\u001b[39m\u001b[39m=\u001b[39m [open_longs()]\n",
      "Cell \u001b[0;32mIn[26], line 26\u001b[0m, in \u001b[0;36mopen_longs\u001b[0;34m()\u001b[0m\n\u001b[1;32m     24\u001b[0m \u001b[39m# Open Long on 10,000 DAI\u001b[39;00m\n\u001b[1;32m     25\u001b[0m \u001b[39mprint\u001b[39m(\u001b[39m\"\u001b[39m\u001b[39mhello\u001b[39m\u001b[39m\"\u001b[39m)\n\u001b[0;32m---> 26\u001b[0m tx_receipt \u001b[39m=\u001b[39m hyperdrive\u001b[39m.\u001b[39;49mopenLong(long_amount, min_out, hyperdrive_user, \u001b[39mFalse\u001b[39;49;00m)\n\u001b[1;32m     27\u001b[0m pt_balance \u001b[39m=\u001b[39m tx_receipt\u001b[39m.\u001b[39mreturn_value\n\u001b[1;32m     29\u001b[0m \u001b[39mprint\u001b[39m(\u001b[39m\"\u001b[39m\u001b[39muser input \u001b[39m\u001b[39m%s\u001b[39;00m\u001b[39m base\u001b[39m\u001b[39m\"\u001b[39m \u001b[39m%\u001b[39m(long_amount))\n",
      "File \u001b[0;32m~/.pyenv/versions/3.8.16/lib/python3.8/site-packages/ape/contracts/base.py:354\u001b[0m, in \u001b[0;36mContractTransactionHandler.__call__\u001b[0;34m(self, *args, **kwargs)\u001b[0m\n\u001b[1;32m    351\u001b[0m \u001b[39mif\u001b[39;00m \u001b[39m\"\u001b[39m\u001b[39msender\u001b[39m\u001b[39m\"\u001b[39m \u001b[39mnot\u001b[39;00m \u001b[39min\u001b[39;00m kwargs \u001b[39mand\u001b[39;00m \u001b[39mself\u001b[39m\u001b[39m.\u001b[39maccount_manager\u001b[39m.\u001b[39mdefault_sender \u001b[39mis\u001b[39;00m \u001b[39mnot\u001b[39;00m \u001b[39mNone\u001b[39;00m:\n\u001b[1;32m    352\u001b[0m     kwargs[\u001b[39m\"\u001b[39m\u001b[39msender\u001b[39m\u001b[39m\"\u001b[39m] \u001b[39m=\u001b[39m \u001b[39mself\u001b[39m\u001b[39m.\u001b[39maccount_manager\u001b[39m.\u001b[39mdefault_sender\n\u001b[0;32m--> 354\u001b[0m \u001b[39mreturn\u001b[39;00m contract_transaction(\u001b[39m*\u001b[39;49margs, \u001b[39m*\u001b[39;49m\u001b[39m*\u001b[39;49mkwargs)\n",
      "File \u001b[0;32m~/.pyenv/versions/3.8.16/lib/python3.8/site-packages/ape/contracts/base.py:292\u001b[0m, in \u001b[0;36mContractTransaction.__call__\u001b[0;34m(self, *args, **kwargs)\u001b[0m\n\u001b[1;32m    289\u001b[0m txn \u001b[39m=\u001b[39m \u001b[39mself\u001b[39m\u001b[39m.\u001b[39mserialize_transaction(\u001b[39m*\u001b[39margs, \u001b[39m*\u001b[39m\u001b[39m*\u001b[39mkwargs)\n\u001b[1;32m    291\u001b[0m \u001b[39mif\u001b[39;00m \u001b[39m\"\u001b[39m\u001b[39msender\u001b[39m\u001b[39m\"\u001b[39m \u001b[39min\u001b[39;00m kwargs \u001b[39mand\u001b[39;00m \u001b[39misinstance\u001b[39m(kwargs[\u001b[39m\"\u001b[39m\u001b[39msender\u001b[39m\u001b[39m\"\u001b[39m], AccountAPI):\n\u001b[0;32m--> 292\u001b[0m     \u001b[39mreturn\u001b[39;00m kwargs[\u001b[39m\"\u001b[39;49m\u001b[39msender\u001b[39;49m\u001b[39m\"\u001b[39;49m]\u001b[39m.\u001b[39;49mcall(txn, \u001b[39m*\u001b[39;49m\u001b[39m*\u001b[39;49mkwargs)\n\u001b[1;32m    294\u001b[0m \u001b[39mreturn\u001b[39;00m \u001b[39mself\u001b[39m\u001b[39m.\u001b[39mprovider\u001b[39m.\u001b[39msend_transaction(txn)\n",
      "File \u001b[0;32m~/.pyenv/versions/3.8.16/lib/python3.8/site-packages/ape/api/accounts.py:142\u001b[0m, in \u001b[0;36mAccountAPI.call\u001b[0;34m(self, txn, send_everything, **signer_options)\u001b[0m\n\u001b[1;32m    139\u001b[0m \u001b[39mif\u001b[39;00m \u001b[39mnot\u001b[39;00m txn\u001b[39m.\u001b[39msender:\n\u001b[1;32m    140\u001b[0m     txn\u001b[39m.\u001b[39msender \u001b[39m=\u001b[39m \u001b[39mself\u001b[39m\u001b[39m.\u001b[39maddress\n\u001b[0;32m--> 142\u001b[0m \u001b[39mreturn\u001b[39;00m \u001b[39mself\u001b[39;49m\u001b[39m.\u001b[39;49mprovider\u001b[39m.\u001b[39;49msend_transaction(signed_txn)\n",
      "File \u001b[0;32m~/.pyenv/versions/3.8.16/lib/python3.8/site-packages/ape_foundry/provider.py:407\u001b[0m, in \u001b[0;36mFoundryProvider.send_transaction\u001b[0;34m(self, txn)\u001b[0m\n\u001b[1;32m    405\u001b[0m         vm_err \u001b[39m=\u001b[39m \u001b[39mself\u001b[39m\u001b[39m.\u001b[39mget_virtual_machine_error(err, txn\u001b[39m=\u001b[39mtxn)\n\u001b[1;32m    406\u001b[0m         vm_err\u001b[39m.\u001b[39mtxn \u001b[39m=\u001b[39m txn\n\u001b[0;32m--> 407\u001b[0m         \u001b[39mraise\u001b[39;00m vm_err \u001b[39mfrom\u001b[39;00m \u001b[39merr\u001b[39;00m\n\u001b[1;32m    409\u001b[0m logger\u001b[39m.\u001b[39minfo(\u001b[39mf\u001b[39m\u001b[39m\"\u001b[39m\u001b[39mConfirmed \u001b[39m\u001b[39m{\u001b[39;00mreceipt\u001b[39m.\u001b[39mtxn_hash\u001b[39m}\u001b[39;00m\u001b[39m (total fees paid = \u001b[39m\u001b[39m{\u001b[39;00mreceipt\u001b[39m.\u001b[39mtotal_fees_paid\u001b[39m}\u001b[39;00m\u001b[39m)\u001b[39m\u001b[39m\"\u001b[39m)\n\u001b[1;32m    410\u001b[0m \u001b[39mself\u001b[39m\u001b[39m.\u001b[39mchain_manager\u001b[39m.\u001b[39mhistory\u001b[39m.\u001b[39mappend(receipt)\n",
      "\u001b[0;31mContractLogicError\u001b[0m: Transaction failed."
     ]
    }
   ],
   "source": [
    "# Generate hyperdrive user\n",
    "hyperdrive_user = accounts.test_accounts.generate_test_account()\n",
    "\n",
    "# Give user 1 eth balance\n",
    "hyperdrive_user.balance += int(1e18)\n",
    "\n",
    "# get current block\n",
    "current_block = chain.blocks[-1].number\n",
    "\n",
    "pool_info = [hyperdrive.getPoolInfo().__dict__]\n",
    "pool_info[0][\"block_number_\"] = current_block\n",
    "\n",
    "def open_longs():\n",
    "    # with notation avoids passing in sender each time\n",
    "    with accounts.use_sender(hyperdrive_user):\n",
    "        # Mint 1 million DAI\n",
    "        base_ERC20.mint(user_balance)\n",
    "\n",
    "        # Approve ERC20 usage by contract\n",
    "        base_ERC20.approve(hyperdrive, user_balance)\n",
    "\n",
    "        pool_info = hyperdrive.getPoolInfo().__dict__\n",
    "\n",
    "        # Open Long on 10,000 DAI\n",
    "        tx_receipt = hyperdrive.openLong(long_amount, min_out, hyperdrive_user, False)\n",
    "        pt_balance = tx_receipt.return_value\n",
    "        \n",
    "        print(\"user input %s base\" %(long_amount))\n",
    "        print(\"user received %s PTs\" %(pt_balance))\n",
    "        \n",
    "        current_block = chain.blocks[-1]\n",
    "        pool_info[\"block_number_\"] = current_block.number\n",
    "\n",
    "        return pool_info\n",
    "\n",
    "\n",
    "for x in range(num_longs):        \n",
    "    pool_info += [open_longs()]\n"
   ]
  },
  {
   "cell_type": "code",
   "execution_count": null,
   "metadata": {},
   "outputs": [],
   "source": [
    "df = pd.DataFrame(pool_info)\n",
    "\n",
    "plt.figure(1)\n",
    "plt.plot(df['block_number_'], df['shareReserves_'], label='Share Reserves')\n",
    "plt.plot(df['block_number_'], df['bondReserves_'], label='Bond Reserves')\n",
    "plt.plot(df['block_number_'], df['lpTotalSupply'], label='LP Supply')\n",
    "plt.xlabel('Block Number')\n",
    "plt.ylabel('Reserves & Supply')\n",
    "plt.title('Local Longs Opened Consecutively')\n",
    "plt.legend()\n",
    "plt.show()"
   ]
  }
 ],
 "metadata": {
  "kernelspec": {
   "display_name": "Python 3",
   "language": "python",
   "name": "python3"
  },
  "language_info": {
   "codemirror_mode": {
    "name": "ipython",
    "version": 3
   },
   "file_extension": ".py",
   "mimetype": "text/x-python",
   "name": "python",
   "nbconvert_exporter": "python",
   "pygments_lexer": "ipython3",
   "version": "3.8.16"
  },
  "orig_nbformat": 4,
  "vscode": {
   "interpreter": {
    "hash": "b693f92758614481f4be07b99263f847ed7e304f7d4380d4d1becf7c14656bbb"
   }
  }
 },
 "nbformat": 4,
 "nbformat_minor": 2
}
