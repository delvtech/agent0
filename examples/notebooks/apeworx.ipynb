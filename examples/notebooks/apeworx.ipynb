{
 "cells": [
  {
   "attachments": {},
   "cell_type": "markdown",
   "metadata": {},
   "source": [
    "# Hyperdrive Contract Integration"
   ]
  },
  {
   "cell_type": "code",
   "execution_count": null,
   "metadata": {},
   "outputs": [],
   "source": [
    "from ape import accounts, chain, networks, Project\n",
    "from pathlib import Path\n",
    "import pandas as pd\n",
    "import matplotlib.pyplot as plt"
   ]
  },
  {
   "attachments": {},
   "cell_type": "markdown",
   "metadata": {},
   "source": [
    "## Compilation and Network Setup"
   ]
  },
  {
   "cell_type": "code",
   "execution_count": null,
   "metadata": {},
   "outputs": [],
   "source": [
    "networks.parse_network_choice('ethereum:local:foundry').__enter__()\n",
    "project_root = Path.cwd().parent.parent\n",
    "project = Project(path=project_root)"
   ]
  },
  {
   "attachments": {},
   "cell_type": "markdown",
   "metadata": {},
   "source": [
    "## Deploy Config"
   ]
  },
  {
   "cell_type": "code",
   "execution_count": null,
   "metadata": {},
   "outputs": [],
   "source": [
    "# deployment config values\n",
    "\n",
    "base_supply = int(1e23) # 100k\n",
    "t_stretch = int(22.186877016851916266e18)\n",
    "initial_rate = int(5e18) # share rate\n",
    "initial_apr = int(.05e18)\n",
    "share_price = int(1e18)\n",
    "checkpoints = int(365)\n",
    "checkpoint_duration = int(86400)\n",
    "curve_fee = int(0)\n",
    "flat_fee = int(0)"
   ]
  },
  {
   "attachments": {},
   "cell_type": "markdown",
   "metadata": {},
   "source": [
    "## Deploy Contracts"
   ]
  },
  {
   "cell_type": "code",
   "execution_count": null,
   "metadata": {},
   "outputs": [],
   "source": [
    "# generate deployer account\n",
    "deployer = accounts.test_accounts.generate_test_account()\n",
    "\n",
    "# give deployer 3 eth\n",
    "deployer.balance += int(3e18)\n",
    "\n",
    "base_address = deployer.deploy(project.ERC20Mintable)\n",
    "base_ERC20 = project.ERC20Mintable.at(base_address)\n",
    "\n",
    "\n",
    "fixed_math_address = deployer.deploy(project.MockFixedPointMath)\n",
    "fixed_math = project.MockFixedPointMath.at(fixed_math_address)\n",
    "\n",
    "base_ERC20.mint(base_supply, sender=deployer)\n",
    "time_stretch = fixed_math.divDown(int(1e18), t_stretch)\n",
    "\n",
    "hyperdrive_address = deployer.deploy(project.MockHyperdriveTestnet, base_ERC20,\n",
    "                                     initial_rate, share_price, checkpoints,\n",
    "                                     checkpoint_duration, int(time_stretch), curve_fee,\n",
    "                                     flat_fee)\n",
    "hyperdrive = project.MockHyperdriveTestnet.at(hyperdrive_address)\n",
    "\n",
    "with accounts.use_sender(deployer):\n",
    "    base_ERC20.approve(hyperdrive, base_supply)\n",
    "    hyperdrive.initialize(base_supply, initial_apr, deployer, False)\n"
   ]
  },
  {
   "attachments": {},
   "cell_type": "markdown",
   "metadata": {},
   "source": [
    "## User Config"
   ]
  },
  {
   "cell_type": "code",
   "execution_count": null,
   "metadata": {},
   "outputs": [],
   "source": [
    "# User Config Values\n",
    "\n",
    "user_balance = int(1e24)\n",
    "long_amount = int(1e21) # 1000 base amount\n",
    "min_out = int(1e21)\n",
    "num_longs = 50"
   ]
  },
  {
   "cell_type": "code",
   "execution_count": null,
   "metadata": {},
   "outputs": [],
   "source": [
    "# Generate hyperdrive user\n",
    "hyperdrive_user = accounts.test_accounts.generate_test_account()\n",
    "\n",
    "# Give user 1 eth balance\n",
    "hyperdrive_user.balance += int(1e18)\n",
    "\n",
    "# get current block\n",
    "current_block = chain.blocks[-1].number\n",
    "\n",
    "pool_info = [hyperdrive.getPoolInfo().__dict__]\n",
    "pool_info[0][\"block_number_\"] = current_block\n",
    "\n",
    "def open_longs():\n",
    "    # with notation avoids passing in sender each time\n",
    "    with accounts.use_sender(hyperdrive_user):\n",
    "        # Mint 1 million DAI\n",
    "        base_ERC20.mint(user_balance)\n",
    "\n",
    "        # Approve ERC20 usage by contract\n",
    "        base_ERC20.approve(hyperdrive, user_balance)\n",
    "\n",
    "        pool_info = hyperdrive.getPoolInfo().__dict__\n",
    "\n",
    "        # Open Long on 10,000 DAI\n",
    "        tx_receipt = hyperdrive.openLong(long_amount, min_out, hyperdrive_user, False)\n",
    "        pt_balance = tx_receipt.return_value\n",
    "        \n",
    "        print(\"user input %s base\" %(long_amount))\n",
    "        print(\"user received %s PTs\" %(pt_balance))\n",
    "        \n",
    "        current_block = chain.blocks[-1]\n",
    "        pool_info[\"block_number_\"] = current_block.number\n",
    "\n",
    "        return pool_info\n",
    "\n",
    "\n",
    "for x in range(num_longs):        \n",
    "    pool_info += [open_longs()]\n"
   ]
  },
  {
   "cell_type": "code",
   "execution_count": null,
   "metadata": {},
   "outputs": [],
   "source": [
    "df = pd.DataFrame(pool_info)\n",
    "\n",
    "plt.figure(1)\n",
    "plt.plot(df['block_number_'], df['shareReserves_'], label='Share Reserves')\n",
    "plt.plot(df['block_number_'], df['bondReserves_'], label='Bond Reserves')\n",
    "plt.plot(df['block_number_'], df['lpTotalSupply'], label='LP Supply')\n",
    "plt.xlabel('Block Number')\n",
    "plt.ylabel('Reserves & Supply')\n",
    "plt.title('Local Longs Opened Consecutively')\n",
    "plt.legend()\n",
    "plt.show()"
   ]
  }
 ],
 "metadata": {
  "kernelspec": {
   "display_name": "Python 3",
   "language": "python",
   "name": "python3"
  },
  "language_info": {
   "codemirror_mode": {
    "name": "ipython",
    "version": 3
   },
   "file_extension": ".py",
   "mimetype": "text/x-python",
   "name": "python",
   "nbconvert_exporter": "python",
   "pygments_lexer": "ipython3",
   "version": "3.8.16"
  },
  "orig_nbformat": 4,
  "vscode": {
   "interpreter": {
    "hash": "b693f92758614481f4be07b99263f847ed7e304f7d4380d4d1becf7c14656bbb"
   }
  }
 },
 "nbformat": 4,
 "nbformat_minor": 2
}
