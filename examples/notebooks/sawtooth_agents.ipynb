{
  "cells": [
    {
      "cell_type": "code",
      "execution_count": null,
      "metadata": {
        "id": "7XP-FHbl5d1k"
      },
      "outputs": [],
      "source": [
        "import sys\n",
        "import logging\n",
        "\n",
        "handler = logging.StreamHandler(sys.stdout)\n",
        "logging.getLogger().setLevel(logging.DEBUG)  # events of this level and above will be tracked\n",
        "handler.setFormatter(\n",
        "    logging.Formatter(\"\\n%(asctime)s: %(levelname)s: %(module)s.%(funcName)s:\\n%(message)s\", \"%y-%m-%d %H:%M:%S\")\n",
        ")\n",
        "logging.getLogger().handlers = [handler,]"
      ]
    },
    {
      "cell_type": "code",
      "execution_count": null,
      "metadata": {
        "id": "7l-8wd4c5zgH"
      },
      "outputs": [],
      "source": [
        "from elfpy.strategies.basic import BasicPolicy\n",
        "\n",
        "class Shorter(BasicPolicy):\n",
        "    \"\"\"\n",
        "    Agent that is trying to optimize on a rising vault APR via shorts\n",
        "    \"\"\"\n",
        "\n",
        "    def __init__(self, market, rng, wallet_address, budget=10_000):\n",
        "        \"\"\"call basic policy init then add custom stuff\"\"\"\n",
        "        self.pt_to_short = 1_000\n",
        "        super().__init__(market, rng, wallet_address, budget)\n",
        "\n",
        "    def action(self):\n",
        "        \"\"\"\n",
        "        implement user strategy\n",
        "        short if you can, only once\n",
        "        \"\"\"\n",
        "        block_position_list = list(self.wallet.token_in_protocol.values())\n",
        "        has_opened_short = bool(any((x < -1 for x in block_position_list)))\n",
        "        can_open_short = self.get_max_pt_short() >= self.pt_to_short\n",
        "        action_list = []\n",
        "        if can_open_short:\n",
        "            if self.market.vault_apy > self.market.get_rate():\n",
        "                action_list.append(self.create_agent_action(\n",
        "                    action_type=\"open_short\", trade_amount=self.pt_to_short)\n",
        "                )\n",
        "            elif self.market.vault_apy < self.market.get_rate():\n",
        "                if has_opened_short:\n",
        "                    action_list.append(\n",
        "                        self.create_agent_action(action_type=\"close_short\", trade_amount=self.pt_to_short)\n",
        "                    )\n",
        "        return action_list"
      ]
    },
    {
      "cell_type": "code",
      "execution_count": null,
      "metadata": {
        "id": "xyJitL2d5MXD"
      },
      "outputs": [],
      "source": [
        "import numpy as np\n",
        "\n",
        "from elfpy.utils.parse_config import parse_simulation_config\n",
        "from elfpy.simulators import YieldSimulator"
      ]
    },
    {
      "cell_type": "code",
      "execution_count": null,
      "metadata": {
        "id": "WYtwkS6dKXUF"
      },
      "outputs": [],
      "source": [
        "config = parse_simulation_config(config_dict={\n",
        "    'title': 'demo simulation config',\n",
        "    'market': {\n",
        "        'min_target_liquidity': 1_000_000.0,\n",
        "        'max_target_liquidity': 10_000_000.0,\n",
        "        'min_target_volume': 0.001,\n",
        "        'max_target_volume': 0.01,\n",
        "        'min_vault_age': 0,\n",
        "        'max_vault_age': 1,\n",
        "        'min_vault_apy': 0.001,\n",
        "        'max_vault_apy': 0.9,\n",
        "        'base_asset_price': 1\n",
        "    },\n",
        "    'amm': {\n",
        "        'min_fee': 0.1,\n",
        "        'max_fee': 0.5,\n",
        "        'min_pool_apy': 0.02,\n",
        "        'max_pool_apy': 0.9,\n",
        "        'floor_fee': 0,\n",
        "        'verbose': False\n",
        "    },\n",
        "    'simulator': {\n",
        "        'num_trading_days': 10,#180,\n",
        "        'num_blocks_per_day': 100,#7_200,\n",
        "        'token_duration': 0.2465753424657534,\n",
        "        'precision': 64,\n",
        "        'pricing_model_name': 'Hyperdrive',\n",
        "        'user_policies': [],\n",
        "        'shuffle_users': True,\n",
        "        'init_lp': True,\n",
        "        'random_seed': 123,\n",
        "        'logging_level': 'info'\n",
        "    }\n",
        "})"
      ]
    },
    {
      "cell_type": "code",
      "execution_count": null,
      "metadata": {
        "id": "gJSUC5pSHr6l"
      },
      "outputs": [],
      "source": [
        "simulator = YieldSimulator(config)\n",
        "simulator.reset_rng(\n",
        "    np.random.default_rng(simulator.config.simulator.random_seed)\n",
        ")\n",
        "simulator.set_random_variables()\n",
        "\n",
        "ramp = np.linspace(start=0.05, stop=0.1, num=config.simulator.num_trading_days)\n",
        "override_dict = {\n",
        "    \"pricing_model_name\": \"HyperDrive\",\n",
        "    \"target_liquidity\": 10e6,\n",
        "    \"fee_percent\": 0.1,\n",
        "    \"init_pool_apy\": 0.05,\n",
        "    \"vault_apy\": ramp,\n",
        "    \"num_blocks_per_day\": 1,  # 1 block a day, keep it fast for testing\n",
        "}\n",
        "\n",
        "simulator.setup_simulated_entities(override_dict)\n",
        "simulator.agents.update(\n",
        "    {1: Shorter(\n",
        "            market=simulator.market,\n",
        "            rng=simulator.rng,\n",
        "            wallet_address=1\n",
        "        )\n",
        "    }\n",
        ")\n",
        "simulator.agents.update(\n",
        "    {2: Shorter(\n",
        "        market=simulator.market,\n",
        "        rng=simulator.rng,\n",
        "        wallet_address=2\n",
        "    )\n",
        "    }\n",
        ")\n",
        "simulator.run_simulation()"
      ]
    },
    {
      "cell_type": "code",
      "execution_count": null,
      "metadata": {
        "id": "qN9Hp_xgcLFG"
      },
      "outputs": [],
      "source": [
        "from elfpy.utils.data import format_trades\n",
        "\n",
        "[trades, trades_agg] = format_trades(simulator.analysis_dict)"
      ]
    },
    {
      "cell_type": "code",
      "execution_count": null,
      "metadata": {},
      "outputs": [],
      "source": [
        "import matplotlib.pyplot as plt\n",
        "\n",
        "logging.getLogger().setLevel(logging.WARNING)  # events of this level and above will be tracked\n",
        "\n",
        "fig, ax = plt.subplots()\n",
        "ax = trades.plot(x=\"day\", y=\"vault_apy\", ax=ax)\n",
        "ax = trades.plot(x=\"day\", y=\"pool_apy\", ax=ax)"
      ]
    },
    {
      "cell_type": "code",
      "execution_count": null,
      "metadata": {},
      "outputs": [],
      "source": []
    }
  ],
  "metadata": {
    "colab": {
      "private_outputs": true,
      "provenance": []
    },
    "kernelspec": {
      "display_name": "Python 3.10.4 64-bit ('3.10.4')",
      "language": "python",
      "name": "python3"
    },
    "language_info": {
      "codemirror_mode": {
        "name": "ipython",
        "version": 3
      },
      "file_extension": ".py",
      "mimetype": "text/x-python",
      "name": "python",
      "nbconvert_exporter": "python",
      "pygments_lexer": "ipython3",
      "version": "3.10.4"
    },
    "vscode": {
      "interpreter": {
        "hash": "9fd25b1bc88c40dff464928772a2f7f32c0e329824b33ada66bb495d7b69e219"
      }
    }
  },
  "nbformat": 4,
  "nbformat_minor": 0
}
