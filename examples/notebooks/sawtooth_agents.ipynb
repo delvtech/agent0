{
  "cells": [
    {
      "cell_type": "markdown",
      "metadata": {},
      "source": [
        "## Sawtooth demo"
      ]
    },
    {
      "cell_type": "code",
      "execution_count": null,
      "metadata": {
        "id": "7XP-FHbl5d1k"
      },
      "outputs": [],
      "source": [
        "# setup logging\n",
        "\n",
        "import elfpy.utils.outputs as output_utils\n",
        "\n",
        "output_utils.setup_logging(log_filename=\"../../.logging/sawtooth_demo.log\")"
      ]
    },
    {
      "cell_type": "code",
      "execution_count": null,
      "metadata": {
        "id": "7l-8wd4c5zgH"
      },
      "outputs": [],
      "source": [
        "# setup custom agent\n",
        "\n",
        "from elfpy.types import MarketActionType\n",
        "from elfpy.agent import Agent\n",
        "\n",
        "class Shorter(Agent):\n",
        "    \"\"\"\n",
        "    Agent that is trying to optimize on a rising vault APR via shorts\n",
        "    \"\"\"\n",
        "\n",
        "    def __init__(self, wallet_address, budget=10_000, pt_to_short=1_000):\n",
        "        \"\"\"call basic policy init then add custom stuff\"\"\"\n",
        "        self.pt_to_short = pt_to_short\n",
        "        super().__init__(wallet_address, budget)\n",
        "\n",
        "    def action(self, market, pricing_model):\n",
        "        \"\"\"\n",
        "        implement user strategy\n",
        "        short if you can, only once\n",
        "        \"\"\"\n",
        "        block_position_list = list(self.wallet.shorts.values())\n",
        "        has_opened_short = bool(any((x < -1 for x in block_position_list)))\n",
        "        can_open_short = self.get_max_pt_short(market, pricing_model) >= self.pt_to_short\n",
        "        current_vault_apr = market.market_state.vault_apr\n",
        "        current_pool_apr = market.get_rate(pricing_model)\n",
        "        action_list = []\n",
        "        if can_open_short:\n",
        "            if current_vault_apr > current_pool_apr:\n",
        "                action_list.append(self.create_agent_action(\n",
        "                    action_type=MarketActionType.OPEN_SHORT, trade_amount=self.pt_to_short)\n",
        "                )\n",
        "            elif current_vault_apr < current_pool_apr:\n",
        "                if has_opened_short:\n",
        "                    action_list.append(\n",
        "                        self.create_agent_action(action_type=MarketActionType.CLOSE_SHORT, trade_amount=self.pt_to_short)\n",
        "                    )\n",
        "        return action_list"
      ]
    },
    {
      "cell_type": "code",
      "execution_count": null,
      "metadata": {
        "id": "xyJitL2d5MXD"
      },
      "outputs": [],
      "source": [
        "import numpy as np\n",
        "\n",
        "from elfpy.utils.parse_config import parse_simulation_config\n",
        "from elfpy.simulators import Simulator"
      ]
    },
    {
      "cell_type": "code",
      "execution_count": null,
      "metadata": {
        "id": "WYtwkS6dKXUF"
      },
      "outputs": [],
      "source": [
        "config = config_dict={\n",
        "    'title': 'demo simulation config',\n",
        "    'market': {\n",
        "        'min_target_liquidity': 1_000_000.0,\n",
        "        'max_target_liquidity': 10_000_000.0,\n",
        "        'min_vault_age': 0,\n",
        "        'max_vault_age': 1,\n",
        "        'vault_apr': {\"type\": \"uniform\", \"low\": 0.001, \"high\": 0.9},\n",
        "        'base_asset_price': 1\n",
        "    },\n",
        "    'amm': {\n",
        "        'pricing_model_name': 'Hyperdrive',\n",
        "        'min_fee': 0.1,\n",
        "        'max_fee': 0.5,\n",
        "        'min_pool_apr': 0.02,\n",
        "        'max_pool_apr': 0.9,\n",
        "        'floor_fee': 0,\n",
        "    },\n",
        "    'simulator': {\n",
        "        'num_trading_days': 10,#180, # TODO: overriding this is broken\n",
        "        'num_blocks_per_day': 7_200,\n",
        "        'token_duration': 0.2465753424657534,\n",
        "        'precision': 64,\n",
        "        'agent_policies': [],\n",
        "        'shuffle_users': True,\n",
        "        'init_lp': True,\n",
        "        'random_seed': 123,\n",
        "        'logging_level': 'debug'\n",
        "    }\n",
        "}"
      ]
    },
    {
      "cell_type": "code",
      "execution_count": null,
      "metadata": {
        "id": "gJSUC5pSHr6l"
      },
      "outputs": [],
      "source": [
        "ramp = np.linspace(start=0.05, stop=0.1, num=config['simulator']['num_trading_days'])\n",
        "override_dict = {\n",
        "    \"target_liquidity\": 1e7,\n",
        "    \"fee_percent\": 0.1,\n",
        "    \"target_pool_apr\": 0.05,\n",
        "    \"vault_apr\": ramp.tolist(),\n",
        "    \"num_trading_days\": 10,\n",
        "    \"num_blocks_per_day\": 1,  # temporarily set it to 1 block a day for testing\n",
        "}"
      ]
    },
    {
      "cell_type": "code",
      "execution_count": null,
      "metadata": {},
      "outputs": [],
      "source": [
        "from elfpy.utils import sim_utils\n",
        "\n",
        "# instantiate config object\n",
        "config = sim_utils.override_config_variables(parse_simulation_config(config), override_dict)\n",
        "# instantiate random number generator\n",
        "rng = np.random.default_rng(config.simulator.random_seed)\n",
        "# run random number generators to get random simulation arguments\n",
        "random_sim_vars = sim_utils.override_random_variables(\n",
        "    sim_utils.get_random_variables(config, rng), override_dict\n",
        ")\n",
        "# instantiate the pricing model\n",
        "pricing_model = sim_utils.get_pricing_model(model_name=config.amm.pricing_model_name)\n",
        "# instantiate the market\n",
        "market = sim_utils.get_market(\n",
        "    pricing_model,\n",
        "    random_sim_vars.target_pool_apr,\n",
        "    random_sim_vars.fee_percent,\n",
        "    config.simulator.token_duration,\n",
        "    random_sim_vars.vault_apr,\n",
        "    random_sim_vars.init_share_price,\n",
        ")\n",
        "# instantiate the init_lp agent\n",
        "init_agents = {\n",
        "    0: sim_utils.get_init_lp_agent(\n",
        "        market,\n",
        "        pricing_model,\n",
        "        random_sim_vars.target_liquidity,\n",
        "        random_sim_vars.target_pool_apr,\n",
        "        random_sim_vars.fee_percent,\n",
        "    )\n",
        "}\n",
        "# set up simulator with only the init_lp_agent\n",
        "simulator = Simulator(\n",
        "    config=config,\n",
        "    pricing_model=pricing_model,\n",
        "    market=market,\n",
        "    agents=init_agents,\n",
        "    rng=rng,\n",
        "    random_simulation_variables=random_sim_vars,\n",
        ")\n",
        "simulator.collect_and_execute_trades()"
      ]
    },
    {
      "cell_type": "code",
      "execution_count": null,
      "metadata": {},
      "outputs": [],
      "source": [
        "# initialize the market using the LP agent\n",
        "num_additional_agents = 5\n",
        "budget = 1_000_000_000\n",
        "pt_to_short = 500_000\n",
        "for agent_address in range(1, num_additional_agents+1):\n",
        "    simulator.agents.update(\n",
        "        {\n",
        "            agent_address: Shorter(\n",
        "                wallet_address=agent_address,\n",
        "                budget=budget,\n",
        "                pt_to_short=pt_to_short\n",
        "            )\n",
        "        }\n",
        "    )\n",
        "\n",
        "# run the simulation\n",
        "simulator.run_simulation()"
      ]
    },
    {
      "cell_type": "code",
      "execution_count": null,
      "metadata": {},
      "outputs": [],
      "source": [
        "import logging\n",
        "import pandas as pd\n",
        "import matplotlib.pyplot as plt\n",
        "from elfpy.utils.post_processing import analysis_dict_to_dataframe\n",
        "logging.getLogger().setLevel(logging.WARNING)  # events of this level and above will be tracked\n",
        "\n",
        "trades, agent_wallets = analysis_dict_to_dataframe(simulator.analysis_dict)\n",
        "\n",
        "spot_size = 15\n",
        "spot_colors = ['blue', 'orange']\n",
        "fig, ax = plt.subplots()\n",
        "trades = pd.DataFrame.from_dict(simulator.analysis_dict)\n",
        "x_data = trades.day\n",
        "ax.scatter(x_data, trades.vault_apr, label=\"Vault\", s=spot_size, c=spot_colors[0])\n",
        "prev_apr = trades.loc[trades.run_trade_number==0].pool_apr\n",
        "prev_time = 0\n",
        "for day in set(x_data):\n",
        "    trade_numbers = trades.loc[trades.day==day].run_trade_number\n",
        "    spot_sizes = np.linspace(0.2, 0.9, len(trade_numbers))\n",
        "    for trade_idx, trade_number in enumerate(trade_numbers):\n",
        "        pool_apr = trades.loc[trades.run_trade_number==trade_number].pool_apr\n",
        "        pool_spot_size = spot_size * 0.5 #spot_sizes[trade_idx]\n",
        "        time = day + spot_sizes[trade_idx]\n",
        "        if day == 0 and trade_idx == len(trade_numbers)-1:\n",
        "            ax.scatter(time, pool_apr, label=\"Pool\", s=pool_spot_size, c=spot_colors[1])\n",
        "        else:\n",
        "            ax.scatter(time, pool_apr, s=pool_spot_size, c=spot_colors[1])\n",
        "        ax.plot([prev_time, time], [prev_apr, pool_apr], color='k', linestyle='-', linewidth=0.1)\n",
        "        prev_time = time\n",
        "        prev_apr = pool_apr\n",
        "ax.set_xlabel(\"Day\")\n",
        "ax.set_ylabel(\"APR\")\n",
        "plt.legend()\n",
        "plt.xticks([x for x in range(override_dict[\"num_trading_days\"]+1)])\n",
        "ax.set_xticklabels([str(x+1) for x in range(override_dict[\"num_trading_days\"]+1)])\n",
        "ax.set_title(\"Sawtooth demo\")\n",
        "plt.grid()"
      ]
    },
    {
      "cell_type": "code",
      "execution_count": null,
      "metadata": {},
      "outputs": [],
      "source": [
        "trades.columns"
      ]
    }
  ],
  "metadata": {
    "colab": {
      "private_outputs": true,
      "provenance": []
    },
    "kernelspec": {
      "display_name": "Python 3.10.4 64-bit ('3.10.4')",
      "language": "python",
      "name": "python3"
    },
    "language_info": {
      "codemirror_mode": {
        "name": "ipython",
        "version": 3
      },
      "file_extension": ".py",
      "mimetype": "text/x-python",
      "name": "python",
      "nbconvert_exporter": "python",
      "pygments_lexer": "ipython3",
      "version": "3.10.4"
    },
    "vscode": {
      "interpreter": {
        "hash": "9fd25b1bc88c40dff464928772a2f7f32c0e329824b33ada66bb495d7b69e219"
      }
    }
  },
  "nbformat": 4,
  "nbformat_minor": 0
}
