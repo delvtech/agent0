{
  "cells": [
    {
      "cell_type": "markdown",
      "metadata": {},
      "source": [
        "## Sawtooth demo"
      ]
    },
    {
      "cell_type": "code",
      "execution_count": null,
      "metadata": {
        "id": "7XP-FHbl5d1k"
      },
      "outputs": [],
      "source": [
        "# setup logging\n",
        "\n",
        "import elfpy.utils.outputs as output_utils\n",
        "\n",
        "output_utils.setup_logging(log_filename=\"../../.logging/sawtooth_demo.log\")"
      ]
    },
    {
      "cell_type": "code",
      "execution_count": null,
      "metadata": {
        "id": "WYtwkS6dKXUF"
      },
      "outputs": [],
      "source": [
        "from elfpy.utils.parse_config import parse_simulation_config\n",
        "from elfpy.simulators import Simulator\n",
        "\n",
        "config_dict = {\n",
        "    'title': 'demo simulation config',\n",
        "    'market': {\n",
        "        'min_target_liquidity': 1_000_000.0,\n",
        "        'max_target_liquidity': 10_000_000.0,\n",
        "        'min_vault_age': 0,\n",
        "        'max_vault_age': 1,\n",
        "        'vault_apr': {\"type\": \"uniform\", \"low\": 0.001, \"high\": 0.9},\n",
        "        'base_asset_price': 1\n",
        "    },\n",
        "    'amm': {\n",
        "        'pricing_model_name': 'Hyperdrive',\n",
        "        'min_fee': 0.1,\n",
        "        'max_fee': 0.5,\n",
        "        'min_pool_apr': 0.02,\n",
        "        'max_pool_apr': 0.9,\n",
        "        'floor_fee': 0,\n",
        "    },\n",
        "    'simulator': {\n",
        "        'num_trading_days': 180,\n",
        "        'num_blocks_per_day': 7_200,\n",
        "        'token_duration': 0.2465753424657534,\n",
        "        'precision': 64,\n",
        "        'agent_policies': [],\n",
        "        'shuffle_users': True,\n",
        "        'init_lp': True,\n",
        "        'random_seed': 123,\n",
        "        'logging_level': 'debug'\n",
        "    }\n",
        "}"
      ]
    },
    {
      "cell_type": "code",
      "execution_count": null,
      "metadata": {
        "id": "gJSUC5pSHr6l"
      },
      "outputs": [],
      "source": [
        "import numpy as np\n",
        "\n",
        "import elfpy.utils.parse_config as config_utils\n",
        "\n",
        "override_dict = {\n",
        "    \"target_liquidity\": 1e7,\n",
        "    \"fee_percent\": 0.1,\n",
        "    \"target_pool_apr\": 0.05,\n",
        "    \"num_trading_days\": 20,\n",
        "    \"num_blocks_per_day\": 1,  # temporarily set it to 1 block a day for testing\n",
        "}\n",
        "ramp = [0.05,] * 10 # constant for a bit\n",
        "ramp.extend(np.linspace(start=0.05, stop=0.1, num=5).tolist()) # jump up quickly\n",
        "ramp.extend([0.1,] * int(override_dict['num_trading_days'] - 15)) # constant the rest of the time\n",
        "override_dict[\"vault_apr\"] = ramp"
      ]
    },
    {
      "cell_type": "code",
      "execution_count": null,
      "metadata": {
        "id": "7l-8wd4c5zgH"
      },
      "outputs": [],
      "source": [
        "# setup custom agent\n",
        "\n",
        "from elfpy.types import MarketActionType\n",
        "from elfpy.agent import Agent\n",
        "from elfpy.types import WEI\n",
        "\n",
        "class Shorter(Agent):\n",
        "    \"\"\"\n",
        "    Agent that is trying to optimize on a rising vault APR via shorts\n",
        "    \"\"\"\n",
        "\n",
        "    def __init__(self, wallet_address, budget=10_000, pt_to_short=1_000):\n",
        "        \"\"\"call basic policy init then add custom stuff\"\"\"\n",
        "        self.pt_to_short = pt_to_short\n",
        "        super().__init__(wallet_address, budget)\n",
        "\n",
        "    def action(self, market):\n",
        "        \"\"\"\n",
        "        implement user strategy\n",
        "        short if you can\n",
        "        \"\"\"\n",
        "        block_position_list = list(self.wallet.shorts.values())\n",
        "        has_opened_short = bool(any((x > 0 for x in block_position_list)))\n",
        "        can_open_short = self.get_max_short(market, market.pricing_model) >= self.pt_to_short\n",
        "        current_vault_apr = market.market_state.vault_apr\n",
        "        current_pool_apr = market.rate\n",
        "        action_list = []\n",
        "        if can_open_short:\n",
        "            if current_vault_apr > current_pool_apr:\n",
        "                action_list.append(self.create_agent_action(\n",
        "                    action_type=MarketActionType.OPEN_SHORT, trade_amount=self.pt_to_short)\n",
        "                )\n",
        "            elif current_vault_apr < current_pool_apr:\n",
        "                if has_opened_short:\n",
        "                    action_list.append(\n",
        "                        self.create_agent_action(action_type=MarketActionType.CLOSE_SHORT, trade_amount=self.pt_to_short)\n",
        "                    )\n",
        "        return action_list\n",
        "\n",
        "class RandomShorter(Agent):\n",
        "    \"\"\"\n",
        "    Agent that is trying to optimize on a rising vault APR via shorts\n",
        "    \"\"\"\n",
        "\n",
        "    def __init__(self, wallet_address, rng, budget=10_000, max_pt_to_short=1_000):\n",
        "        \"\"\"call basic policy init then add custom stuff\"\"\"\n",
        "        self.max_pt_to_short = max_pt_to_short\n",
        "        self.rng = rng\n",
        "        self.amount_shorted = 0\n",
        "        super().__init__(wallet_address, budget)\n",
        "\n",
        "    def action(self, market):\n",
        "        \"\"\"\n",
        "        implement user strategy\n",
        "        short if you can\n",
        "        \"\"\"\n",
        "        #block_position_list = list(self.wallet.shorts.values())\n",
        "        #has_opened_short = bool(any((x < -1 for x in block_position_list)))\n",
        "        #has_opened_short = self.wallet.shorts\n",
        "        can_open_short = True # self.get_max_short(market, market.pricing_model) >= self.pt_to_short\n",
        "        current_vault_apr = market.market_state.vault_apr\n",
        "        current_pool_apr = market.rate\n",
        "        minimum_apr_diff = 0.001\n",
        "        action_list = []\n",
        "        random_short_amount = self.rng.uniform(low=WEI, high=self.max_pt_to_short)\n",
        "        if can_open_short:\n",
        "            random_min_apr = minimum_apr_diff#self.rng.uniform(low=0, high=minimum_apr_diff)\n",
        "            apr_diff = current_vault_apr - current_pool_apr # positive indiciates vault > pool\n",
        "            if apr_diff > random_min_apr:\n",
        "                action_list.append(self.create_agent_action(\n",
        "                    action_type=MarketActionType.OPEN_SHORT, trade_amount=random_short_amount)\n",
        "                )\n",
        "                self.amount_shorted += random_short_amount\n",
        "            elif -apr_diff > random_min_apr:\n",
        "                if self.amount_shorted > 0: \n",
        "                    #amount_shorted = np.sum([short_amount for short_amount in self.wallet.shorts.values()])\n",
        "                    #assert self.amount_shorted == amount_shorted\n",
        "                    action_list.append(\n",
        "                        self.create_agent_action(action_type=MarketActionType.CLOSE_SHORT, trade_amount=self.amount_shorted)\n",
        "                    )\n",
        "                    self.amount_shorted = 0\n",
        "        return action_list"
      ]
    },
    {
      "cell_type": "code",
      "execution_count": null,
      "metadata": {},
      "outputs": [],
      "source": [
        "from elfpy.utils import sim_utils\n",
        "\n",
        "# instantiate the simulator\n",
        "config = config_utils.override_config_variables(parse_simulation_config(config_dict), override_dict)\n",
        "rng = np.random.default_rng(config.simulator.random_seed)\n",
        "pricing_model = sim_utils.get_pricing_model(model_name=config.amm.pricing_model_name)\n",
        "simulator = sim_utils.get_simulator(config)"
      ]
    },
    {
      "cell_type": "code",
      "execution_count": null,
      "metadata": {},
      "outputs": [],
      "source": [
        "# initialize the market using the LP agent\n",
        "num_additional_agents = 5\n",
        "budget = 1_000_000_000\n",
        "pt_to_short = 500_000\n",
        "random_shorter = True\n",
        "for agent_address in range(1, num_additional_agents+1):\n",
        "    if random_shorter:\n",
        "        simulator.add_agents([RandomShorter(\n",
        "            wallet_address=agent_address,\n",
        "            rng=simulator.rng,\n",
        "            budget=budget,\n",
        "            max_pt_to_short=pt_to_short\n",
        "        )])\n",
        "    else:\n",
        "        simulator.add_agents([Shorter(\n",
        "            wallet_address=agent_address,\n",
        "            budget=budget,\n",
        "            pt_to_short=pt_to_short\n",
        "        )])\n",
        "\n",
        "# run the simulation\n",
        "simulator.run_simulation()"
      ]
    },
    {
      "cell_type": "code",
      "execution_count": null,
      "metadata": {},
      "outputs": [],
      "source": [
        "import elfpy.utils.post_processing as post_processing\n",
        "trades = post_processing.compute_derived_variables(simulator)"
      ]
    },
    {
      "cell_type": "code",
      "execution_count": null,
      "metadata": {},
      "outputs": [],
      "source": [
        "import logging\n",
        "import matplotlib.pyplot as plt\n",
        "\n",
        "logging.getLogger().setLevel(logging.WARNING)  # events of this level and above will be tracked\n",
        "\n",
        "vault_spot_size = 10\n",
        "spot_colors = ['blue', 'orange']\n",
        "fig, ax = plt.subplots()\n",
        "x_data = trades.day\n",
        "ax.scatter(x_data, trades.vault_apr, label=\"Vault\", s=vault_spot_size, c=spot_colors[0])\n",
        "prev_apr = trades.loc[trades.run_trade_number==0].pool_apr\n",
        "prev_time = 0\n",
        "for day in set(x_data):\n",
        "    trade_numbers = trades.loc[trades.day==day].run_trade_number\n",
        "    spot_sizes = np.linspace(0.2, 0.9, len(trade_numbers))\n",
        "    for trade_idx, trade_number in enumerate(trade_numbers):\n",
        "        pool_apr = trades.loc[trades.run_trade_number==trade_number].pool_apr\n",
        "        pool_spot_size = vault_spot_size * 0.5 #spot_sizes[trade_idx]\n",
        "        time = day + spot_sizes[trade_idx]\n",
        "        if day == 0 and trade_idx == len(trade_numbers)-1:\n",
        "            ax.scatter(time, pool_apr, label=\"Pool\", s=pool_spot_size, c=spot_colors[1])\n",
        "        else:\n",
        "            ax.scatter(time, pool_apr, s=pool_spot_size, c=spot_colors[1])\n",
        "        ax.plot([prev_time, time], [prev_apr, pool_apr], color='k', linestyle='-', linewidth=0.1)\n",
        "        prev_time = time\n",
        "        prev_apr = pool_apr\n",
        "ax.set_xlabel(\"Day\")\n",
        "ax.set_ylabel(\"APR\")\n",
        "plt.legend()\n",
        "ax.set_xticks([x for x in range(0, simulator.config.simulator.num_trading_days + 1, 5)])\n",
        "ax.set_xticklabels([str(x+1) for x in range(0, simulator.config.simulator.num_trading_days + 1, 5)])\n",
        "ax.set_title(\"Sawtooth demo\")\n",
        "plt.grid()"
      ]
    },
    {
      "cell_type": "code",
      "execution_count": null,
      "metadata": {},
      "outputs": [],
      "source": [
        "fig = output_utils.plot_wallet_reserves(trades, exclude_first_agent=True, xtick_step=20)"
      ]
    },
    {
      "cell_type": "code",
      "execution_count": null,
      "metadata": {},
      "outputs": [],
      "source": [
        "fig = output_utils.plot_pool_apr(trades)"
      ]
    },
    {
      "cell_type": "code",
      "execution_count": null,
      "metadata": {},
      "outputs": [],
      "source": [
        "fig = output_utils.plot_market_spot_price(trades)"
      ]
    },
    {
      "cell_type": "code",
      "execution_count": null,
      "metadata": {},
      "outputs": [],
      "source": [
        "fig = output_utils.plot_market_lp_reserves(trades)"
      ]
    },
    {
      "cell_type": "code",
      "execution_count": null,
      "metadata": {},
      "outputs": [],
      "source": [
        "fig = output_utils.plot_longs_and_shorts(trades, xtick_step=20)"
      ]
    },
    {
      "cell_type": "code",
      "execution_count": null,
      "metadata": {},
      "outputs": [],
      "source": []
    }
  ],
  "metadata": {
    "colab": {
      "private_outputs": true,
      "provenance": []
    },
    "kernelspec": {
      "display_name": "Python 3.10.4 64-bit ('3.10.4')",
      "language": "python",
      "name": "python3"
    },
    "language_info": {
      "codemirror_mode": {
        "name": "ipython",
        "version": 3
      },
      "file_extension": ".py",
      "mimetype": "text/x-python",
      "name": "python",
      "nbconvert_exporter": "python",
      "pygments_lexer": "ipython3",
      "version": "3.10.4"
    },
    "vscode": {
      "interpreter": {
        "hash": "9fd25b1bc88c40dff464928772a2f7f32c0e329824b33ada66bb495d7b69e219"
      }
    }
  },
  "nbformat": 4,
  "nbformat_minor": 0
}
