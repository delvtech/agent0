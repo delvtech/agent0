{
 "cells": [
  {
   "attachments": {},
   "cell_type": "markdown",
   "metadata": {
    "colab_type": "text",
    "id": "view-in-github"
   },
   "source": [
    "<a href=\"https://colab.research.google.com/github/element-fi/elf-simulations/blob/dp_mart_agents/examples/notebooks/fred_louie_simulation.ipynb\" target=\"_parent\"><img src=\"https://colab.research.google.com/assets/colab-badge.svg\" alt=\"Open In Colab\"/></a>"
   ]
  },
  {
   "cell_type": "markdown",
   "metadata": {},
   "source": [
    "## Hyperdrive [NAME] simulation\n",
    "We use the following setup:\n",
    "- TBD\n",
    "* variable rate:\n",
    "    * step function\n",
    "    * rate changes every 3 months\n",
    "    * \n",
    "\n",
    "For details on the simulation framework, please see our <a href=\"https://elfpy.element.fi/\">simulation documentation</a>"
   ]
  },
  {
   "cell_type": "markdown",
   "metadata": {
    "id": "EITUXDh8Rtif"
   },
   "source": [
    "### Install repo requirements & import packages"
   ]
  },
  {
   "cell_type": "code",
   "execution_count": 1,
   "metadata": {
    "id": "fb7TjkLw4bHR"
   },
   "outputs": [
    {
     "name": "stdout",
     "output_type": "stream",
     "text": [
      "running locally & trusting that you have the dependencies installed\n"
     ]
    }
   ],
   "source": [
    "# test: skip-cell\n",
    "try: # install dependencies only if running on google colab\n",
    "    import google.colab # check if running in colab\n",
    "    !pip install -r https://raw.githubusercontent.com/element-fi/elf-simulations/main/requirements-3.8.txt \n",
    "    !pip install git+https://github.com/element-fi/elf-simulations.git\n",
    "except:\n",
    "    print(\"running locally & trusting that you have the dependencies installed\")"
   ]
  },
  {
   "cell_type": "code",
   "execution_count": 2,
   "metadata": {
    "id": "efreB4W-4u1q",
    "tags": []
   },
   "outputs": [],
   "source": [
    "from __future__ import annotations\n",
    "from dataclasses import dataclass, field\n",
    "\n",
    "import pandas as pd\n",
    "import numpy as np\n",
    "from numpy.random._generator import Generator\n",
    "\n",
    "from elfpy.agents.agent import Agent\n",
    "from elfpy.simulators import Config\n",
    "\n",
    "import elfpy.utils.outputs as output_utils\n",
    "from elfpy.time import BlockTime\n",
    "import elfpy.types as types\n",
    "\n",
    "import elfpy.markets.borrow as borrow\n",
    "import elfpy.agents.wallet as wallet"
   ]
  },
  {
   "cell_type": "code",
   "execution_count": 3,
   "metadata": {},
   "outputs": [],
   "source": [
    "class BorrowingBeatrice(Agent):\n",
    "    \"\"\"\n",
    "    Agent that paints & opens fixed rate borrow positions\n",
    "    \"\"\"\n",
    "\n",
    "    def __init__(self, rng: Generator, trade_chance: float, risk_threshold: float, wallet_address: int, budget: int = 10_000) -> None:\n",
    "        \"\"\"Add custom stuff then call basic policy init\"\"\"\n",
    "        self.trade_chance = trade_chance\n",
    "        self.risk_threshold = risk_threshold\n",
    "        self.rng = rng\n",
    "        super().__init__(wallet_address, budget)\n",
    "\n",
    "    def action(self, market: borrow.Market) -> list[types.Trade]:\n",
    "        \"\"\"Implement a Borrowing Beatrice user strategy\n",
    "\n",
    "        I take out loans when the interest rate is below a threshold\n",
    "\n",
    "        I close them after 2 months\n",
    "\n",
    "        Parameters\n",
    "        ----------\n",
    "        market : Market\n",
    "            the trading market\n",
    "\n",
    "        Returns\n",
    "        -------\n",
    "        action_list : list[MarketAction]\n",
    "        \"\"\"\n",
    "        # Any trading at all is based on a weighted coin flip -- they have a trade_chance% chance of executing a trade\n",
    "        action_list = []\n",
    "        gonna_trade = self.rng.choice([True, False], p=[self.trade_chance, 1-self.trade_chance])\n",
    "        if not gonna_trade:\n",
    "            return action_list\n",
    "        \n",
    "        has_borrow = self.wallet.borrows\n",
    "        want_to_borrow = market.borrow_rate <= self.risk_threshold\n",
    "        #print(f\"{self.wallet.borrows=}\")\n",
    "        #print(f\"{has_borrow=}\")\n",
    "        #print(f\"{market.borrow_rate=}\\t{self.risk_threshold}\")\n",
    "        #print(f\"{want_to_borrow=}\")\n",
    "        if want_to_borrow and not has_borrow:\n",
    "            print(\"OPENING BORROW\")\n",
    "            action_list = [\n",
    "                types.Trade(\n",
    "                    market=types.MarketType.BORROW,\n",
    "                    trade=borrow.MarketAction(\n",
    "                        action_type=borrow.MarketActionType.OPEN_BORROW,\n",
    "                        wallet=self.wallet,\n",
    "                        collateral=types.Quantity(amount=self.budget, unit=types.TokenType.BASE),\n",
    "                        spot_price=1, # usdc # FIXME: Doesn't look like this is uesd?\n",
    "                    ),\n",
    "                )\n",
    "            ]\n",
    "        \n",
    "        if has_borrow:\n",
    "            print(\"CLOSING BORROW\")\n",
    "            action_list = [\n",
    "                types.Trade(\n",
    "                    market=types.MarketType.BORROW,\n",
    "                    trade=borrow.MarketAction(\n",
    "                        action_type=borrow.MarketActionType.CLOSE_BORROW,\n",
    "                        wallet=self.wallet,\n",
    "                        collateral=types.Quantity(amount=self.budget, unit=types.TokenType.BASE),\n",
    "                        spot_price=1, # usdc\n",
    "                    ),\n",
    "                )\n",
    "            ]\n",
    "\n",
    "        return action_list"
   ]
  },
  {
   "cell_type": "markdown",
   "metadata": {
    "id": "MMgaUflvLPnq"
   },
   "source": [
    "### Setup experiment parameters"
   ]
  },
  {
   "cell_type": "code",
   "execution_count": 4,
   "metadata": {
    "id": "_PY2dAov5nxy",
    "tags": []
   },
   "outputs": [],
   "source": [
    "config = Config()\n",
    "\n",
    "# General config parameters\n",
    "config.title = \"Spark smart agent demo\"\n",
    "config.pricing_model_name = \"Spark\"\n",
    "\n",
    "config.num_trading_days = 20#1095 # Number of simulated trading days\n",
    "config.num_blocks_per_day = 5#7200 # Blocks in a given day (7200 means ~12 sec per block)\n",
    "config.num_position_days = 10#90 # How long a token reaches maturity\n",
    "\n",
    "config.trade_fee_percent = 0.05 # fee percent collected on trades\n",
    "config.redemption_fee_percent = 0.05 # fee collected on the spread of the flat portion\n",
    "\n",
    "config.target_fixed_apr = 0.01 # target fixed APR of the initial market after the LP\n",
    "config.target_liquidity = 500_000_000 # target total liquidity of the initial market, before any trades\n",
    "\n",
    "config.log_level = output_utils.text_to_log_level(\"INFO\") # Logging level, should be in [\"DEBUG\", \"INFO\", \"WARNING\"]\n",
    "config.log_filename = \"borrowing_beatrice\" # Output filename for logging\n",
    "\n",
    "config.shuffle_users = True\n",
    "\n",
    "# Notebook specific parameters\n",
    "num_bea = 15\n",
    "trade_chance = 0.1 # on a given block, an agent will trade with probability `trade_chance`\n",
    "\n",
    "bea_budget_mean = 500_000\n",
    "bea_budget_std = 1_000\n",
    "bea_budget_max = 1_00_000\n",
    "bea_budget_min = 1_000\n",
    "\n",
    "# Define the vault apr\n",
    "vault_apr = np.array([0.01]*config.num_trading_days)\n",
    "#vault_apr[config.num_trading_days//2:] = 0.05\n",
    "config.variable_apr = vault_apr.tolist()\n",
    "config.freeze()\n",
    "\n",
    "fig_size = (5, 5)"
   ]
  },
  {
   "cell_type": "markdown",
   "metadata": {
    "id": "gMKQLsMiLd-_"
   },
   "source": [
    "### Setup agents"
   ]
  },
  {
   "cell_type": "markdown",
   "metadata": {
    "id": "zKf-kSthMJSa"
   },
   "source": [
    "### Setup simulation objects"
   ]
  },
  {
   "cell_type": "code",
   "execution_count": 5,
   "metadata": {
    "id": "xpagOoPAMJvv",
    "tags": []
   },
   "outputs": [],
   "source": [
    "# define root logging parameters\n",
    "output_utils.setup_logging(log_filename=config.log_filename, log_level=config.log_level)"
   ]
  },
  {
   "cell_type": "code",
   "execution_count": 6,
   "metadata": {},
   "outputs": [],
   "source": [
    "block_time = BlockTime()\n",
    "market_state = borrow.MarketState(\n",
    "    loan_to_value_ratio = 1.0,\n",
    "    borrow_shares=0,\n",
    "    collateral={types.TokenType.BASE: 0},\n",
    "    borrow_outstanding=0,\n",
    "    borrow_share_price=1,\n",
    "    borrow_closed_interest=0,\n",
    "    collateral_spot_price={types.TokenType.BASE: 1},\n",
    "    lending_rate=0.01,\n",
    "    spread_ratio=1.25\n",
    ")\n",
    "market = borrow.Market(pricing_model=borrow.PricingModel(), block_time=block_time, market_state=market_state)\n",
    "\n",
    "agents = {\n",
    "    0: BorrowingBeatrice(\n",
    "        rng=config.rng,\n",
    "        trade_chance=0.1,\n",
    "        risk_threshold=0.02,\n",
    "        wallet_address=1,\n",
    "        budget=10_000,\n",
    "    )\n",
    "}\n",
    "\n",
    "@dataclass\n",
    "class BorrowSimState:\n",
    "    day: list[int] = field(default_factory=list)\n",
    "    block: list[int] = field(default_factory=list)\n",
    "    borrows: list[dict[float, wallet.Borrow]] = field(default_factory=list)\n",
    "\n",
    "    def add_dict_entries(self, dictionary: dict) -> None:\n",
    "        for key, val in dictionary.items():\n",
    "            if key in [\"frozen\", \"no_new_attribs\"]:\n",
    "                continue\n",
    "            if hasattr(self, key):\n",
    "                attribute_state = getattr(self, key)\n",
    "                attribute_state.append(val)\n",
    "                setattr(self, key, attribute_state)\n",
    "            else:\n",
    "                setattr(self, key, [val])\n",
    "\n",
    "simulation_state = BorrowSimState()"
   ]
  },
  {
   "cell_type": "code",
   "execution_count": 7,
   "metadata": {},
   "outputs": [
    {
     "name": "stdout",
     "output_type": "stream",
     "text": [
      "OPENING BORROW\n"
     ]
    },
    {
     "ename": "AttributeError",
     "evalue": "'PricingModel' object has no attribute 'value_collateral'",
     "output_type": "error",
     "traceback": [
      "\u001b[0;31m---------------------------------------------------------------------------\u001b[0m",
      "\u001b[0;31mAttributeError\u001b[0m                            Traceback (most recent call last)",
      "Cell \u001b[0;32mIn[7], line 14\u001b[0m\n\u001b[1;32m     12\u001b[0m \u001b[39mfor\u001b[39;00m trade \u001b[39min\u001b[39;00m agents_and_trades:\n\u001b[1;32m     13\u001b[0m     action_details \u001b[39m=\u001b[39m (trade[\u001b[39m0\u001b[39m], trade[\u001b[39m1\u001b[39m]\u001b[39m.\u001b[39mtrade)\n\u001b[0;32m---> 14\u001b[0m     agent_id, agent_deltas, market_deltas \u001b[39m=\u001b[39m market\u001b[39m.\u001b[39;49mperform_action(action_details)\n\u001b[1;32m     15\u001b[0m     \u001b[39mprint\u001b[39m(\u001b[39mf\u001b[39m\u001b[39m\"\u001b[39m\u001b[39m{\u001b[39;00magent_deltas\u001b[39m=}\u001b[39;00m\u001b[39m\"\u001b[39m)\n\u001b[1;32m     16\u001b[0m     market\u001b[39m.\u001b[39mupdate_market(market_deltas)\n",
      "File \u001b[0;32m~/code/element/elf-simulations/elfpy/markets/borrow.py:255\u001b[0m, in \u001b[0;36mMarket.perform_action\u001b[0;34m(self, action_details)\u001b[0m\n\u001b[1;32m    252\u001b[0m \u001b[39m# for each position, specify how to formulate trade and then execute\u001b[39;00m\n\u001b[1;32m    253\u001b[0m \u001b[39m# current assumption is that the user will borrow the maximum LTV against the collateral they are offering\u001b[39;00m\n\u001b[1;32m    254\u001b[0m \u001b[39mif\u001b[39;00m agent_action\u001b[39m.\u001b[39maction_type \u001b[39m==\u001b[39m MarketActionType\u001b[39m.\u001b[39mOPEN_BORROW:  \u001b[39m# open a borrow position\u001b[39;00m\n\u001b[0;32m--> 255\u001b[0m     market_deltas, agent_deltas \u001b[39m=\u001b[39m \u001b[39mself\u001b[39;49m\u001b[39m.\u001b[39;49mopen_borrow(\n\u001b[1;32m    256\u001b[0m         wallet_address\u001b[39m=\u001b[39;49magent_action\u001b[39m.\u001b[39;49mwallet\u001b[39m.\u001b[39;49maddress,\n\u001b[1;32m    257\u001b[0m         collateral\u001b[39m=\u001b[39;49magent_action\u001b[39m.\u001b[39;49mcollateral,  \u001b[39m# in BASE or PT, the collateral being offered\u001b[39;49;00m\n\u001b[1;32m    258\u001b[0m     )\n\u001b[1;32m    259\u001b[0m \u001b[39melif\u001b[39;00m agent_action\u001b[39m.\u001b[39maction_type \u001b[39m==\u001b[39m MarketActionType\u001b[39m.\u001b[39mCLOSE_BORROW:  \u001b[39m# close a borrow position\u001b[39;00m\n\u001b[1;32m    260\u001b[0m     market_deltas, agent_deltas \u001b[39m=\u001b[39m \u001b[39mself\u001b[39m\u001b[39m.\u001b[39mclose_borrow(\n\u001b[1;32m    261\u001b[0m         wallet_address\u001b[39m=\u001b[39magent_action\u001b[39m.\u001b[39mwallet\u001b[39m.\u001b[39maddress,\n\u001b[1;32m    262\u001b[0m         collateral\u001b[39m=\u001b[39magent_action\u001b[39m.\u001b[39mcollateral,  \u001b[39m# in BASE or PT, the collateral being asked for\u001b[39;00m\n\u001b[1;32m    263\u001b[0m     )\n",
      "File \u001b[0;32m~/code/element/elf-simulations/elfpy/markets/borrow.py:285\u001b[0m, in \u001b[0;36mMarket.open_borrow\u001b[0;34m(self, wallet_address, collateral, spot_price)\u001b[0m\n\u001b[1;32m    275\u001b[0m \u001b[39mdef\u001b[39;00m \u001b[39mopen_borrow\u001b[39m(\n\u001b[1;32m    276\u001b[0m     \u001b[39mself\u001b[39m,\n\u001b[1;32m    277\u001b[0m     wallet_address: \u001b[39mint\u001b[39m,\n\u001b[1;32m    278\u001b[0m     collateral: types\u001b[39m.\u001b[39mQuantity,  \u001b[39m# in amount of collateral type (BASE or PT)\u001b[39;00m\n\u001b[1;32m    279\u001b[0m     spot_price: Optional[\u001b[39mfloat\u001b[39m] \u001b[39m=\u001b[39m \u001b[39mNone\u001b[39;00m,\n\u001b[1;32m    280\u001b[0m ) \u001b[39m-\u001b[39m\u001b[39m>\u001b[39m \u001b[39mtuple\u001b[39m[MarketDeltas, AgentDeltas]:\n\u001b[1;32m    281\u001b[0m \u001b[39m    \u001b[39m\u001b[39m\"\"\"\u001b[39;00m\n\u001b[1;32m    282\u001b[0m \u001b[39m    execute a borrow as requested by the agent, return the market and agent deltas\u001b[39;00m\n\u001b[1;32m    283\u001b[0m \u001b[39m    agents decides what COLLATERAL to put IN then we calculate how much BASE OUT to give them\u001b[39;00m\n\u001b[1;32m    284\u001b[0m \u001b[39m    \"\"\"\u001b[39;00m\n\u001b[0;32m--> 285\u001b[0m     _, borrow_amount_in_base \u001b[39m=\u001b[39m \u001b[39mself\u001b[39;49m\u001b[39m.\u001b[39;49mpricing_model\u001b[39m.\u001b[39;49mvalue_collateral(\n\u001b[1;32m    286\u001b[0m         loan_to_value_ratio\u001b[39m=\u001b[39m\u001b[39mself\u001b[39m\u001b[39m.\u001b[39mmarket_state\u001b[39m.\u001b[39mloan_to_value_ratio,\n\u001b[1;32m    287\u001b[0m         collateral\u001b[39m=\u001b[39mcollateral,\n\u001b[1;32m    288\u001b[0m         spot_price\u001b[39m=\u001b[39mspot_price,\n\u001b[1;32m    289\u001b[0m     )\n\u001b[1;32m    290\u001b[0m     \u001b[39m# market reserves are stored in shares, so we need to convert the amount to shares\u001b[39;00m\n\u001b[1;32m    291\u001b[0m     \u001b[39m# borrow shares increase because they're being lent out\u001b[39;00m\n\u001b[1;32m    292\u001b[0m     \u001b[39m# collateral increases because it's being deposited\u001b[39;00m\n\u001b[1;32m    293\u001b[0m     market_deltas \u001b[39m=\u001b[39m MarketDeltas(\n\u001b[1;32m    294\u001b[0m         d_borrow_shares\u001b[39m=\u001b[39mborrow_amount_in_base \u001b[39m/\u001b[39m \u001b[39mself\u001b[39m\u001b[39m.\u001b[39mmarket_state\u001b[39m.\u001b[39mborrow_share_price,\n\u001b[1;32m    295\u001b[0m         d_collateral\u001b[39m=\u001b[39mtypes\u001b[39m.\u001b[39mQuantity(\n\u001b[0;32m   (...)\u001b[0m\n\u001b[1;32m    298\u001b[0m         ),\n\u001b[1;32m    299\u001b[0m     )\n",
      "\u001b[0;31mAttributeError\u001b[0m: 'PricingModel' object has no attribute 'value_collateral'"
     ]
    }
   ],
   "source": [
    "block_number = 0\n",
    "for day in range(config.num_trading_days):\n",
    "    #print(day)\n",
    "    for _ in range(config.num_blocks_per_day):\n",
    "        #print(block_number)\n",
    "        agent_ids = [key for key in agents]\n",
    "        agents_and_trades: \"list[tuple[int, types.Trade]]\" = []\n",
    "        for agent_id in agent_ids:\n",
    "            agent = agents[agent_id]\n",
    "            trades = agent.get_trades(market)\n",
    "            agents_and_trades.extend((agent_id, trade) for trade in trades)\n",
    "        for trade in agents_and_trades:\n",
    "            action_details = (trade[0], trade[1].trade)\n",
    "            agent_id, agent_deltas, market_deltas = market.perform_action(action_details)\n",
    "            print(f\"{agent_deltas=}\")\n",
    "            market.update_market(market_deltas)\n",
    "            agents[agent_id].wallet.update(agent_deltas)\n",
    "            simulation_state.day.append(day)\n",
    "            simulation_state.block.append(block_number)\n",
    "            agent_summary = agent_deltas.__dict__\n",
    "            agent_summary[\"agent_id\"] = agent_id\n",
    "            simulation_state.add_dict_entries(agent_summary)\n",
    "            simulation_state.add_dict_entries(market_deltas.__dict__)\n",
    "            simulation_state.add_dict_entries({\"config.\"+key: val for key, val in config.__dict__.items()})\n",
    "            simulation_state.add_dict_entries(market.market_state.__dict__)\n",
    "        block_number += 1"
   ]
  },
  {
   "cell_type": "code",
   "execution_count": null,
   "metadata": {},
   "outputs": [],
   "source": [
    "df = pd.DataFrame.from_dict(simulation_state.__dict__)\n",
    "display(df)"
   ]
  }
 ],
 "metadata": {
  "colab": {
   "include_colab_link": true,
   "private_outputs": true,
   "provenance": []
  },
  "kernelspec": {
   "display_name": "elf-env",
   "language": "python",
   "name": "python3"
  },
  "language_info": {
   "codemirror_mode": {
    "name": "ipython",
    "version": 3
   },
   "file_extension": ".py",
   "mimetype": "text/x-python",
   "name": "python",
   "nbconvert_exporter": "python",
   "pygments_lexer": "ipython3",
   "version": "3.8.16"
  },
  "vscode": {
   "interpreter": {
    "hash": "de650408e15adc8fb9b84ade33ab785e8e4285d1ab866a37f256293a74a6afc8"
   }
  }
 },
 "nbformat": 4,
 "nbformat_minor": 4
}
