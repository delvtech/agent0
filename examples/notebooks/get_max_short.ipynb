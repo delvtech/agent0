{
  "cells": [
    {
      "cell_type": "markdown",
      "metadata": {
        "id": "lubc28uCtXna"
      },
      "source": [
        "# FIXME\n",
        "\n",
        "1. [x] Clean up the file\n",
        "  - [x] Clean up the imports\n",
        "  - [x] Clean up the helper functions - ultimately these should use the libraries\n",
        "  - [x] Clean up the plots\n",
        "2. [ ] Figure out exactly which variables need to be swept over\n",
        "  - [ ] The required variables are apr, time, and the percent of the bond ratio.\n",
        "  - [ ] Are share price and initial share price essential? What we can do is start without them and see how bad the approximation is with non-trivial values.\n",
        "3. [ ] Write the sweeping logic and sanity check it\n",
        "4. [ ] Write the naive interpolation logic\n",
        "5. [ ] Ensure that our approximation never overshoots. This is currently a problem, which will given inaccurate results.\n",
        "\n",
        "# Methods\n",
        "\n",
        "We desire an approximation for the maximum amount of bonds that a trader can short given the ratio of their cash balance to the AMMs cash reserve. To do this, we can calculate the maximum loss for short positions opened with a range of APRs, time remaining, and ratios of bonds to the total bond reserves. For a fixed APR and time remaining, we'll have an array of the maximum loss and the bond ratios shorted. We can find an approximation that tightly fits these points, which is a function of a max loss in base that outputs the ratio of bonds required to hit the max loss.\n",
        "\n",
        "## TODO - Add detail about the interpolation."
      ]
    },
    {
      "cell_type": "code",
      "execution_count": 175,
      "metadata": {
        "id": "R4NuwWi5vnqP"
      },
      "outputs": [],
      "source": [
        "import pandas as pd\n",
        "import matplotlib.pyplot as plt\n",
        "import numpy as np\n",
        "from scipy.linalg.special_matrices import math\n",
        "from scipy.optimize import curve_fit\n",
        "import scipy"
      ]
    },
    {
      "cell_type": "code",
      "execution_count": 176,
      "metadata": {
        "id": "aUBJHUUWARQo"
      },
      "outputs": [],
      "source": [
        "def calc_time_stretch(apr):\n",
        "    \"\"\"Returns fixed time-stretch value based on current apr (as a decimal)\"\"\"\n",
        "    apr_percent = apr * 100\n",
        "    return 3.09396 / (0.02789 * apr_percent)\n",
        "\n",
        "def stretch_time(time, time_stretch=1.0):\n",
        "    \"\"\"Returns stretched time values\"\"\"\n",
        "    return time / time_stretch\n",
        "\n",
        "def calc_k_const(share_reserves, bond_reserves, share_price, init_share_price, tau):\n",
        "    \"\"\"Returns the 'k' constant variable for trade mathematics\"\"\"\n",
        "    scale = share_price / init_share_price\n",
        "    return scale * (init_share_price * share_reserves) ** (1 - tau) + (bond_reserves) ** (\n",
        "        1 - tau\n",
        "    )\n",
        "\n",
        "def calc_bond_reserves(share_reserves, apr, share_price, init_share_price, t, tau):\n",
        "    \"\"\"Calculates the bond reserves from the share reserves and a target apr\"\"\"\n",
        "    return (init_share_price * share_reserves) * (1 + apr * t) ** (1 / tau)\n",
        "\n",
        "# FIXME: This doesn't incorporate fees\n",
        "def calc_max_loss(share_reserves, bond_reserves, d_bonds, share_price, init_share_price, tau):\n",
        "    k = calc_k_const(share_reserves, bond_reserves, share_price, init_share_price, tau)\n",
        "    d_shares = share_reserves - (1 / init_share_price) * ((init_share_price / share_price) * (k - (bond_reserves + d_bonds) ** (1 - tau))) ** (1 / (1 - tau))\n",
        "    return d_bonds - d_shares\n",
        "\n",
        "def calc_max_loss_from_apr(share_reserves, bond_percentage, apr, share_price, init_share_price, t, tau):\n",
        "    bond_reserves = calc_bond_reserves(share_reserves, apr, share_price, init_share_price, t, tau)\n",
        "    d_bonds = bond_reserves * bond_percentage\n",
        "    return calc_max_loss(share_reserves, bond_reserves, d_bonds, share_price, init_share_price, tau)\n",
        "\n",
        "# FIXME: Comment this\n",
        "# FIXME: Is there a cleaner way to accomplish this using numpy?\n",
        "def calc_chebyshev_nodes(start, end, num_points):\n",
        "    i = np.delete(np.arange(num_points + 1), 0)\n",
        "    return ((start + end) / 2) + ((end - start) / 2) * np.cos(((2 * i + 1) / (2 * num_points)) * np.pi)\n",
        "\n",
        "# FIXME: Implement polynomial interpolation\n",
        "def interpolate_polynomial(xp, yp, num_parameters):\n",
        "    a = np.vander(xp, num_parameters, True)\n",
        "    params = np.linalg.solve(a, yp)\n",
        "    return np.polynomial.Polynomial(params)\n",
        "\n",
        "# FIXME: Implmenet Remez's algorithm for polynomials\n",
        "\n",
        "# FIXME: Implement rational interpolation\n",
        "\n",
        "# FIXME: Implement Remez's algorithm for rationals\n",
        "\n",
        "\n",
        "\n",
        "# FIXME: Implement general rational curve fitting function using scipy.optimize.curvefit\n",
        "# FIXME: Document this. \n",
        "# FIXME: Try to optimize this using the dot product of the parameter list and vandermonde matrices\n",
        "def ratfit(xdata, ydata, xtest, ytest, start_degree=2, end_degree=10, verbose=False):\n",
        "    \"\"\"Finds the rational polynomial that minimizes the maximum error up to the given degree\"\"\"\n",
        "    def ratobj(num_degree):\n",
        "        return lambda x, *coeffs: np.polyval(coeffs[:num_degree], x) / (1 + np.polyval(coeffs[num_degree:], x) * x)\n",
        "    min_error = float(\"inf\")\n",
        "    min_num_degree = 1\n",
        "    min_popt = np.ones(1)\n",
        "    # Compute the least squares optimal rational polynomial over all of the possible degrees\n",
        "    for degree in range(start_degree, end_degree + 1):\n",
        "        for div_degree in range(0, degree):\n",
        "            num_degree = degree - div_degree\n",
        "            try: \n",
        "                # Compute the optimal parameters\n",
        "                p0 = tuple(np.ones(degree))\n",
        "                popt, _ = scipy.optimize.curve_fit(ratobj(num_degree), xdata, ydata, p0=p0)\n",
        "                # Compute the error and the maximum error with the objective function\n",
        "                error = ytest - ratobj(num_degree)(xtest, *popt)\n",
        "                error = max(np.amax(error), np.abs(np.amin(error)))\n",
        "                if verbose: \n",
        "                    print(f\"num_degree = {num_degree} & div_degree = {div_degree}\")\n",
        "                    print(f\"error = {error} & min_error = {min_error}\")\n",
        "                if error < min_error:\n",
        "                    if verbose:\n",
        "                        print(f\"updated best fit\")\n",
        "                    min_error = error\n",
        "                    min_num_degree = num_degree\n",
        "                    min_popt = popt\n",
        "            except RuntimeError as e:\n",
        "                if verbose:\n",
        "                    print(f\"ratfit: curve fitting failed for ({num_degree}, {div_degree}) rational with: {e}\")\n",
        "    return lambda x: ratobj(min_num_degree)(x, *min_popt)"
      ]
    },
    {
      "cell_type": "code",
      "execution_count": 177,
      "metadata": {
        "id": "ch8oCmmcAwis"
      },
      "outputs": [],
      "source": [
        "t_stretch = calc_time_stretch(0.05)\n",
        "\n",
        "# FIXME: We may not need to sweep over c, mu, and z.\n",
        "# Simulation Variables\n",
        "c = 1                                 # share price\n",
        "mu = 1                                # init share price\n",
        "z = 10**6                             # share reserves -- this is arbitrary for this analysis\n",
        "apr = 0.02                            # apr\n",
        "t = 0.5                               # unstretched time\n",
        "tau = stretch_time(0.5, t_stretch)    # stretched time\n",
        "y_percent = 0.1                       # percent of bond reserves to be shorted\n",
        "\n",
        "# Other Variables\n",
        "verbose = False"
      ]
    },
    {
      "cell_type": "code",
      "execution_count": 178,
      "metadata": {
        "id": "Wr1vUk8CCvzO",
        "colab": {
          "base_uri": "https://localhost:8080/"
        },
        "outputId": "a3fc9794-9d9d-4216-c3fe-2145f289d737"
      },
      "outputs": [
        {
          "output_type": "stream",
          "name": "stdout",
          "text": [
            "max loss = [           nan            nan            nan            nan\n",
            "            nan            nan            nan            nan\n",
            "            nan            nan            nan            nan\n",
            "            nan            nan            nan            nan\n",
            "            nan            nan            nan            nan\n",
            "            nan            nan            nan            nan\n",
            "            nan            nan            nan            nan\n",
            "            nan            nan            nan            nan\n",
            "            nan            nan            nan            nan\n",
            "            nan            nan            nan            nan\n",
            "            nan            nan            nan            nan\n",
            "            nan            nan            nan            nan\n",
            "            nan            nan            nan            nan\n",
            "            nan            nan            nan            nan\n",
            "            nan            nan            nan            nan\n",
            "            nan            nan            nan            nan\n",
            "            nan            nan            nan            nan\n",
            "            nan            nan            nan            nan\n",
            "            nan            nan            nan            nan\n",
            "            nan            nan            nan            nan\n",
            "            nan            nan 3.74158368e+00 2.79780459e+00\n",
            " 2.16039956e+00 1.67619024e+00 1.29661132e+00 9.95577156e-01\n",
            " 7.56155382e-01 5.66163285e-01 4.16267571e-01 2.99032459e-01\n",
            " 2.08397003e-01 1.39371457e-01 8.78554257e-02 5.05278551e-02\n",
            " 2.47810538e-02 8.68212477e-03 9.51417316e-04 9.51417316e-04]\n",
            "bond percentages = [9.99444937e+01 9.98458667e+01 9.96980478e+01 9.95011829e+01\n",
            " 9.92554663e+01 9.89611405e+01 9.86184960e+01 9.82278709e+01\n",
            " 9.77896507e+01 9.73042679e+01 9.67722015e+01 9.61939766e+01\n",
            " 9.55701638e+01 9.49013788e+01 9.41882815e+01 9.34315757e+01\n",
            " 9.26320082e+01 9.17903681e+01 9.09074859e+01 8.99842329e+01\n",
            " 8.90215204e+01 8.80202983e+01 8.69815547e+01 8.59063149e+01\n",
            " 8.47956398e+01 8.36506257e+01 8.24724024e+01 8.12621328e+01\n",
            " 8.00210113e+01 7.87502626e+01 7.74511409e+01 7.61249282e+01\n",
            " 7.47729334e+01 7.33964907e+01 7.19969585e+01 7.05757179e+01\n",
            " 6.91341716e+01 6.76737422e+01 6.61958709e+01 6.47020163e+01\n",
            " 6.31936525e+01 6.16722682e+01 6.01393648e+01 5.85964550e+01\n",
            " 5.70450616e+01 5.54867156e+01 5.39229548e+01 5.23553225e+01\n",
            " 5.07853659e+01 4.92146341e+01 4.76446775e+01 4.60770452e+01\n",
            " 4.45132844e+01 4.29549384e+01 4.14035450e+01 3.98606352e+01\n",
            " 3.83277318e+01 3.68063475e+01 3.52979837e+01 3.38041291e+01\n",
            " 3.23262578e+01 3.08658284e+01 2.94242821e+01 2.80030415e+01\n",
            " 2.66035093e+01 2.52270666e+01 2.38750718e+01 2.25488591e+01\n",
            " 2.12497374e+01 1.99789887e+01 1.87378672e+01 1.75275976e+01\n",
            " 1.63493743e+01 1.52043602e+01 1.40936851e+01 1.30184453e+01\n",
            " 1.19797017e+01 1.09784796e+01 1.00157671e+01 9.09251413e+00\n",
            " 8.20963193e+00 7.36799178e+00 6.56842428e+00 5.81171850e+00\n",
            " 5.09862121e+00 4.42983617e+00 3.80602337e+00 3.22779846e+00\n",
            " 2.69573206e+00 2.21034926e+00 1.77212908e+00 1.38150398e+00\n",
            " 1.03885947e+00 7.44533692e-01 4.98817114e-01 3.01952227e-01\n",
            " 1.54133313e-01 5.55062519e-02 6.16837592e-03 6.16837592e-03]\n"
          ]
        },
        {
          "output_type": "stream",
          "name": "stderr",
          "text": [
            "/usr/local/lib/python3.7/dist-packages/ipykernel_launcher.py:24: RuntimeWarning: invalid value encountered in power\n"
          ]
        }
      ],
      "source": [
        "# FIXME: This will ultimately be where the sweep code lives.\n",
        "# FIXME: We should be able to start at zero. We may need to add a constant term\n",
        "#        to the log.\n",
        " \n",
        "# Capture an array of max losses (the x component) and the bond ratios (the y component) \n",
        "# that require the max losses.\n",
        "\n",
        "# FIXME: This isn't working correctly\n",
        "y = calc_chebyshev_nodes(0, 100, 100)\n",
        "x = (calc_max_loss_from_apr(z, 0.1 * y, apr, c, mu, t, tau) / z) * 100\n",
        "if verbose:\n",
        "    print(\n",
        "        f\"max loss = {x}\"\n",
        "        f\"\\nbond percentages = {y}\"\n",
        "    )\n",
        "\n",
        "# Construct a new trace of sample data to test for the error\n",
        "y_test = np.delete(np.arange(0, 100, 0.001), 0)\n",
        "x_test = (calc_max_loss_from_apr(z, 0.1 * y_test, apr, c, mu, t, tau) / z) * 100"
      ]
    },
    {
      "cell_type": "code",
      "execution_count": 179,
      "metadata": {
        "colab": {
          "base_uri": "https://localhost:8080/",
          "height": 753
        },
        "id": "_dV0JIuN0d5c",
        "outputId": "1cf60f70-8428-42d7-8cf4-0ccbc1d045a1"
      },
      "outputs": [
        {
          "output_type": "execute_result",
          "data": {
            "text/plain": [
              "Text(0, 0.5, 'Bond Percent')"
            ]
          },
          "metadata": {},
          "execution_count": 179
        },
        {
          "output_type": "display_data",
          "data": {
            "text/plain": [
              "<Figure size 864x864 with 1 Axes>"
            ],
            "image/png": "[encoded data removed]"
          },
          "metadata": {
            "needs_background": "light"
          }
        }
      ],
      "source": [
        "# Plot the raw data output by the sweep\n",
        "plt.subplots(figsize=(12,12))\n",
        "plt.scatter(x,y,color='black')\n",
        "plt.grid(True)\n",
        "plt.title('Max Loss Percent vs Bond Percent', fontsize=14)\n",
        "plt.xlabel('Max Loss Percent', fontsize=14)\n",
        "plt.ylabel('Bond Percent', fontsize=14)"
      ]
    },
    {
      "cell_type": "markdown",
      "metadata": {
        "id": "fMPn_yRWK8IR"
      },
      "source": []
    },
    {
      "cell_type": "code",
      "source": [
        "f_approx = ratfit(x, y, x_test, y_test, start_degree=1, end_degree=20, verbose=verbose)"
      ],
      "metadata": {
        "colab": {
          "base_uri": "https://localhost:8080/",
          "height": 318
        },
        "id": "0Lsq8Ys3KhVr",
        "outputId": "6e215c57-c618-4cb2-a4cf-af00c2396ebf"
      },
      "execution_count": 180,
      "outputs": [
        {
          "output_type": "error",
          "ename": "ValueError",
          "evalue": "ignored",
          "traceback": [
            "\u001b[0;31m---------------------------------------------------------------------------\u001b[0m",
            "\u001b[0;31mValueError\u001b[0m                                Traceback (most recent call last)",
            "\u001b[0;32m<ipython-input-180-9fe53d1b39bd>\u001b[0m in \u001b[0;36m<module>\u001b[0;34m\u001b[0m\n\u001b[0;32m----> 1\u001b[0;31m \u001b[0mf_approx\u001b[0m \u001b[0;34m=\u001b[0m \u001b[0mratfit\u001b[0m\u001b[0;34m(\u001b[0m\u001b[0mx\u001b[0m\u001b[0;34m,\u001b[0m \u001b[0my\u001b[0m\u001b[0;34m,\u001b[0m \u001b[0mx_test\u001b[0m\u001b[0;34m,\u001b[0m \u001b[0my_test\u001b[0m\u001b[0;34m,\u001b[0m \u001b[0mstart_degree\u001b[0m\u001b[0;34m=\u001b[0m\u001b[0;36m1\u001b[0m\u001b[0;34m,\u001b[0m \u001b[0mend_degree\u001b[0m\u001b[0;34m=\u001b[0m\u001b[0;36m20\u001b[0m\u001b[0;34m,\u001b[0m \u001b[0mverbose\u001b[0m\u001b[0;34m=\u001b[0m\u001b[0mverbose\u001b[0m\u001b[0;34m)\u001b[0m\u001b[0;34m\u001b[0m\u001b[0;34m\u001b[0m\u001b[0m\n\u001b[0m",
            "\u001b[0;32m<ipython-input-176-2c1153e1843f>\u001b[0m in \u001b[0;36mratfit\u001b[0;34m(xdata, ydata, xtest, ytest, start_degree, end_degree, verbose)\u001b[0m\n\u001b[1;32m     67\u001b[0m                 \u001b[0;31m# Compute the optimal parameters\u001b[0m\u001b[0;34m\u001b[0m\u001b[0;34m\u001b[0m\u001b[0;34m\u001b[0m\u001b[0m\n\u001b[1;32m     68\u001b[0m                 \u001b[0mp0\u001b[0m \u001b[0;34m=\u001b[0m \u001b[0mtuple\u001b[0m\u001b[0;34m(\u001b[0m\u001b[0mnp\u001b[0m\u001b[0;34m.\u001b[0m\u001b[0mones\u001b[0m\u001b[0;34m(\u001b[0m\u001b[0mdegree\u001b[0m\u001b[0;34m)\u001b[0m\u001b[0;34m)\u001b[0m\u001b[0;34m\u001b[0m\u001b[0;34m\u001b[0m\u001b[0m\n\u001b[0;32m---> 69\u001b[0;31m                 \u001b[0mpopt\u001b[0m\u001b[0;34m,\u001b[0m \u001b[0m_\u001b[0m \u001b[0;34m=\u001b[0m \u001b[0mscipy\u001b[0m\u001b[0;34m.\u001b[0m\u001b[0moptimize\u001b[0m\u001b[0;34m.\u001b[0m\u001b[0mcurve_fit\u001b[0m\u001b[0;34m(\u001b[0m\u001b[0mratobj\u001b[0m\u001b[0;34m(\u001b[0m\u001b[0mnum_degree\u001b[0m\u001b[0;34m)\u001b[0m\u001b[0;34m,\u001b[0m \u001b[0mxdata\u001b[0m\u001b[0;34m,\u001b[0m \u001b[0mydata\u001b[0m\u001b[0;34m,\u001b[0m \u001b[0mp0\u001b[0m\u001b[0;34m=\u001b[0m\u001b[0mp0\u001b[0m\u001b[0;34m)\u001b[0m\u001b[0;34m\u001b[0m\u001b[0;34m\u001b[0m\u001b[0m\n\u001b[0m\u001b[1;32m     70\u001b[0m                 \u001b[0;31m# Compute the error and the maximum error with the objective function\u001b[0m\u001b[0;34m\u001b[0m\u001b[0;34m\u001b[0m\u001b[0;34m\u001b[0m\u001b[0m\n\u001b[1;32m     71\u001b[0m                 \u001b[0merror\u001b[0m \u001b[0;34m=\u001b[0m \u001b[0mytest\u001b[0m \u001b[0;34m-\u001b[0m \u001b[0mratobj\u001b[0m\u001b[0;34m(\u001b[0m\u001b[0mnum_degree\u001b[0m\u001b[0;34m)\u001b[0m\u001b[0;34m(\u001b[0m\u001b[0mxtest\u001b[0m\u001b[0;34m,\u001b[0m \u001b[0;34m*\u001b[0m\u001b[0mpopt\u001b[0m\u001b[0;34m)\u001b[0m\u001b[0;34m\u001b[0m\u001b[0;34m\u001b[0m\u001b[0m\n",
            "\u001b[0;32m/usr/local/lib/python3.7/dist-packages/scipy/optimize/minpack.py\u001b[0m in \u001b[0;36mcurve_fit\u001b[0;34m(f, xdata, ydata, p0, sigma, absolute_sigma, check_finite, bounds, method, jac, **kwargs)\u001b[0m\n\u001b[1;32m    741\u001b[0m         \u001b[0;31m# non-array_like `xdata`.\u001b[0m\u001b[0;34m\u001b[0m\u001b[0;34m\u001b[0m\u001b[0;34m\u001b[0m\u001b[0m\n\u001b[1;32m    742\u001b[0m         \u001b[0;32mif\u001b[0m \u001b[0mcheck_finite\u001b[0m\u001b[0;34m:\u001b[0m\u001b[0;34m\u001b[0m\u001b[0;34m\u001b[0m\u001b[0m\n\u001b[0;32m--> 743\u001b[0;31m             \u001b[0mxdata\u001b[0m \u001b[0;34m=\u001b[0m \u001b[0mnp\u001b[0m\u001b[0;34m.\u001b[0m\u001b[0masarray_chkfinite\u001b[0m\u001b[0;34m(\u001b[0m\u001b[0mxdata\u001b[0m\u001b[0;34m,\u001b[0m \u001b[0mfloat\u001b[0m\u001b[0;34m)\u001b[0m\u001b[0;34m\u001b[0m\u001b[0;34m\u001b[0m\u001b[0m\n\u001b[0m\u001b[1;32m    744\u001b[0m         \u001b[0;32melse\u001b[0m\u001b[0;34m:\u001b[0m\u001b[0;34m\u001b[0m\u001b[0;34m\u001b[0m\u001b[0m\n\u001b[1;32m    745\u001b[0m             \u001b[0mxdata\u001b[0m \u001b[0;34m=\u001b[0m \u001b[0mnp\u001b[0m\u001b[0;34m.\u001b[0m\u001b[0masarray\u001b[0m\u001b[0;34m(\u001b[0m\u001b[0mxdata\u001b[0m\u001b[0;34m,\u001b[0m \u001b[0mfloat\u001b[0m\u001b[0;34m)\u001b[0m\u001b[0;34m\u001b[0m\u001b[0;34m\u001b[0m\u001b[0m\n",
            "\u001b[0;32m/usr/local/lib/python3.7/dist-packages/numpy/lib/function_base.py\u001b[0m in \u001b[0;36masarray_chkfinite\u001b[0;34m(a, dtype, order)\u001b[0m\n\u001b[1;32m    487\u001b[0m     \u001b[0;32mif\u001b[0m \u001b[0ma\u001b[0m\u001b[0;34m.\u001b[0m\u001b[0mdtype\u001b[0m\u001b[0;34m.\u001b[0m\u001b[0mchar\u001b[0m \u001b[0;32min\u001b[0m \u001b[0mtypecodes\u001b[0m\u001b[0;34m[\u001b[0m\u001b[0;34m'AllFloat'\u001b[0m\u001b[0;34m]\u001b[0m \u001b[0;32mand\u001b[0m \u001b[0;32mnot\u001b[0m \u001b[0mnp\u001b[0m\u001b[0;34m.\u001b[0m\u001b[0misfinite\u001b[0m\u001b[0;34m(\u001b[0m\u001b[0ma\u001b[0m\u001b[0;34m)\u001b[0m\u001b[0;34m.\u001b[0m\u001b[0mall\u001b[0m\u001b[0;34m(\u001b[0m\u001b[0;34m)\u001b[0m\u001b[0;34m:\u001b[0m\u001b[0;34m\u001b[0m\u001b[0;34m\u001b[0m\u001b[0m\n\u001b[1;32m    488\u001b[0m         raise ValueError(\n\u001b[0;32m--> 489\u001b[0;31m             \"array must not contain infs or NaNs\")\n\u001b[0m\u001b[1;32m    490\u001b[0m     \u001b[0;32mreturn\u001b[0m \u001b[0ma\u001b[0m\u001b[0;34m\u001b[0m\u001b[0;34m\u001b[0m\u001b[0m\n\u001b[1;32m    491\u001b[0m \u001b[0;34m\u001b[0m\u001b[0m\n",
            "\u001b[0;31mValueError\u001b[0m: array must not contain infs or NaNs"
          ]
        }
      ]
    },
    {
      "cell_type": "code",
      "source": [
        "error = y_test - f_approx(x_test)\n",
        "\n",
        "# Calculate the error averages and extrema\n",
        "print(f\"median error = {np.median(error):.20f}\")\n",
        "print(f\"average error = {np.average(error):.20f}\")\n",
        "print(f\"min error = {np.amin(error):.20f}\")\n",
        "print(f\"max error = {np.amax(error):.20f}\")"
      ],
      "metadata": {
        "id": "kSysItnvQk4K"
      },
      "execution_count": null,
      "outputs": []
    },
    {
      "cell_type": "code",
      "execution_count": null,
      "metadata": {
        "id": "sP51iJxX4Y92"
      },
      "outputs": [],
      "source": [
        "# Plot the Chebyshev approximation against the raw data\n",
        "plt.subplots(figsize=(12,12))\n",
        "plt.scatter(x,y,color='black')\n",
        "# FIXME: It would be good to showcase the fact that we are using different sample data when testing for error.\n",
        "# plt.scatter(x_test,y_test,color='red')\n",
        "plt.grid(True)\n",
        "plt.title('Initial Approximation and Error', fontsize=14)\n",
        "plt.xlabel('Max Loss Percent', fontsize=14)\n",
        "plt.ylabel('Bond Percent', fontsize=14)\n",
        "\n",
        "plt.plot(x_test, f_approx(x_test), '--', color=\"green\")\n",
        "plt.plot(x_test, y_test - f_approx(x_test), '--', color=\"blue\")"
      ]
    },
    {
      "cell_type": "code",
      "execution_count": null,
      "metadata": {
        "id": "3CPcNkAvY6gp"
      },
      "outputs": [],
      "source": [
        "# Plot the absolute error from the initial Chebyshev polynomial\n",
        "plt.subplots(figsize=(12,12))\n",
        "plt.grid(True)\n",
        "plt.title('Approximation Error', fontsize=14)\n",
        "plt.xlabel('Max Loss Percent', fontsize=14)\n",
        "plt.ylabel('Absolute Error', fontsize=14)\n",
        "\n",
        "plt.plot(x_test, y_test - f_approx(x_test), '--', color=\"blue\")"
      ]
    },
    {
      "cell_type": "code",
      "source": [],
      "metadata": {
        "id": "utJDPI-aq77V"
      },
      "execution_count": null,
      "outputs": []
    }
  ],
  "metadata": {
    "colab": {
      "provenance": []
    },
    "kernelspec": {
      "display_name": "Python 3",
      "name": "python3"
    },
    "language_info": {
      "name": "python"
    }
  },
  "nbformat": 4,
  "nbformat_minor": 0
}