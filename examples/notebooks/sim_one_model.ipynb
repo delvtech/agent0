{
  "cells": [
    {
      "cell_type": "code",
      "execution_count": null,
      "metadata": {
        "id": "4pmDE-zGf_CO"
      },
      "outputs": [],
      "source": [
        "import time\n",
        "\n",
        "import numpy as np\n",
        "import pandas as pd\n",
        "import matplotlib.pyplot as plt\n",
        "\n",
        "from elfpy.simulators import Simulator\n",
        "from elfpy.utils.post_processing import analysis_dict_to_dataframe\n",
        "from elfpy.utils import sim_utils  # utilities for setting up a simulation\n",
        "import elfpy.utils.parse_config as config_utils\n",
        "import elfpy.utils.outputs as output_utils"
      ]
    },
    {
      "cell_type": "code",
      "execution_count": null,
      "metadata": {
        "id": "tfTl4-SGBCi9"
      },
      "outputs": [],
      "source": [
        "pd.set_option(\"float_format\",'{:,.3f}'.format)"
      ]
    },
    {
      "cell_type": "code",
      "execution_count": null,
      "metadata": {
        "id": "V3HM2goD3WJF"
      },
      "outputs": [],
      "source": [
        "start_time = time.time()\n",
        "\n",
        "config_file = \"../../config/example_config.toml\"\n",
        "override_dict = {\n",
        "    \"pricing_model_name\": \"YieldSpace\",\n",
        "}\n",
        "# get config & logging level\n",
        "config = sim_utils.override_config_variables(config_utils.load_and_parse_config_file(config_file), override_dict)\n",
        "# define root logging parameters\n",
        "output_utils.setup_logging(\n",
        "    log_filename=\"../../.logging/sim_one_model.log\", log_level=config.simulator.logging_level\n",
        ")\n",
        "# instantiate random number generator\n",
        "rng = np.random.default_rng(config.simulator.random_seed)\n",
        "pricing_model = sim_utils.get_pricing_model(model_name=config.amm.pricing_model_name)\n",
        "simulator = sim_utils.get_simulator(config, rng, pricing_model, [])\n",
        "\n",
        "num_runs = 1 # lots of runs to have high statistical power\n",
        "for run_number in range(num_runs): # run a simulation per pricing model\n",
        "    override_dict = {\n",
        "        \"pricing_model_name\": \"YieldSpace\",\n",
        "        \"num_trading_days\": 3,\n",
        "        \"num_blocks_per_day\": 5,\n",
        "        #\"vault_apr\": [0.1,]*config[\"num_trading_days\"],\n",
        "        #\"init_vault_age\": 1,\n",
        "        #\"target_pool_apy\" : 0.05,\n",
        "        #\"target_liquidity\": 3e6,\n",
        "        #\"fee_percent\" : 0.1,\n",
        "    }\n",
        "    simulator.random_variables = sim_utils.get_random_variables(config, rng) # reset random variables\n",
        "    simulator.config = sim_utils.override_config_variables(config, override_dict)\n",
        "    simulator.run_simulation()\n",
        "\n",
        "end_time = time.time()\n",
        "print(f'Total time for {num_runs} runs was {end_time-start_time:.3f} seconds; which is {(end_time-start_time)/num_runs:.3f} seconds per run')"
      ]
    },
    {
      "cell_type": "code",
      "execution_count": null,
      "metadata": {},
      "outputs": [],
      "source": [
        "trades = analysis_dict_to_dataframe(simulator.analysis_dict)"
      ]
    },
    {
      "cell_type": "code",
      "execution_count": null,
      "metadata": {
        "id": "KapSf8i2BR9o"
      },
      "outputs": [],
      "source": [
        "print(f'Simulator contains {trades.shape[1]} variables tracked over {trades.shape[0]} simulations.')\n",
        "print(f'Trades dataframe variables:\\n'+'\\t'.join(list(trades.columns)))\n",
        "print(f'\\nTrades dataframe:')\n",
        "display(pd.concat([trades.head(4), trades.tail(2)]).T)"
      ]
    }
  ],
  "metadata": {
    "colab": {
      "collapsed_sections": [],
      "name": "yield_sims.ipynb",
      "private_outputs": true,
      "provenance": []
    },
    "gpuClass": "standard",
    "kernelspec": {
      "display_name": "Python 3.10.4 64-bit ('3.10.4')",
      "language": "python",
      "name": "python3"
    },
    "language_info": {
      "codemirror_mode": {
        "name": "ipython",
        "version": 3
      },
      "file_extension": ".py",
      "mimetype": "text/x-python",
      "name": "python",
      "nbconvert_exporter": "python",
      "pygments_lexer": "ipython3",
      "version": "3.10.4"
    },
    "vscode": {
      "interpreter": {
        "hash": "9fd25b1bc88c40dff464928772a2f7f32c0e329824b33ada66bb495d7b69e219"
      }
    }
  },
  "nbformat": 4,
  "nbformat_minor": 0
}
