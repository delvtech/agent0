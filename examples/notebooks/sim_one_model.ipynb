{
  "cells": [
    {
      "cell_type": "code",
      "execution_count": null,
      "metadata": {
        "id": "4pmDE-zGf_CO"
      },
      "outputs": [],
      "source": [
        "import time\n",
        "\n",
        "import numpy as np\n",
        "import pandas as pd\n",
        "import matplotlib.pyplot as plt\n",
        "\n",
        "from elfpy.simulators import YieldSimulator\n",
        "from elfpy.utils.data import format_trades"
      ]
    },
    {
      "cell_type": "code",
      "execution_count": null,
      "metadata": {
        "id": "tfTl4-SGBCi9"
      },
      "outputs": [],
      "source": [
        "pd.set_option(\"float_format\",'{:,.3f}'.format)"
      ]
    },
    {
      "cell_type": "code",
      "execution_count": null,
      "metadata": {
        "id": "V3HM2goD3WJF"
      },
      "outputs": [],
      "source": [
        "start_time = time.time()\n",
        "\n",
        "config_file = \"../../config/simulation_config.toml\"\n",
        "simulator = YieldSimulator(config_file)\n",
        "simulator_rng = np.random.default_rng(simulator.config.simulator.random_seed)\n",
        "simulator.reset_rng(simulator_rng)\n",
        "simulator.set_random_variables()\n",
        "\n",
        "num_runs = 200 # lots of runs to have high statistical power\n",
        "for run_number in range(num_runs): # run a simulation per pricing model\n",
        "    override_dict = {\n",
        "        'pricing_model_name': 'YieldSpacev2',\n",
        "        #'vault_apy': [0.1,]*config['num_trading_days'],\n",
        "        #'init_vault_age': 1,\n",
        "        #'init_pool_apy' : 0.05,\n",
        "        #'target_liquidity': 3e6,\n",
        "        #'fee_percent' : 0.1,\n",
        "    }\n",
        "    simulator.run_simulation(override_dict)\n",
        "\n",
        "end_time = time.time()\n",
        "print(f'Total time for {num_runs} runs was {end_time-start_time:.3f} seconds; which is {(end_time-start_time)/num_runs:.3f} seconds per run')"
      ]
    },
    {
      "cell_type": "code",
      "execution_count": null,
      "metadata": {},
      "outputs": [],
      "source": [
        "[trades, trades_agg] = format_trades(simulator.analysis_dict)"
      ]
    },
    {
      "cell_type": "code",
      "execution_count": null,
      "metadata": {
        "id": "KapSf8i2BR9o"
      },
      "outputs": [],
      "source": [
        "print(f'Simulator contains {trades.shape[1]} variables tracked over {trades.shape[0]} simulations.')\n",
        "print(f'Trades dataframe variables:\\n'+'\\t'.join(list(trades.columns)))\n",
        "print(f'\\nTrades dataframe:')\n",
        "display(pd.concat([trades.head(4), trades.tail(2)]).T)\n",
        "print(f'Rows at maturity:')\n",
        "display(trades.loc[(trades.time_diff>0) | (trades.time_diff_shift>0) | (trades.index == trades.index.max()), :])"
      ]
    },
    {
      "cell_type": "code",
      "execution_count": null,
      "metadata": {},
      "outputs": [],
      "source": [
        "# create runs dataframe from the last trade in each run (using time_diff instead would pick the 1st)\n",
        "changing_columns = [ # These columns should change with run aggregation\n",
        "    'run_number',\n",
        "    'model_name',\n",
        "    'num_orders',\n",
        "    'pool_apy',\n",
        "]\n",
        "const_columns = [ # These should not change with run aggregation\n",
        "    'init_time_stretch',\n",
        "    'target_liquidity',\n",
        "    'target_daily_volume',\n",
        "    'fee_percent',\n",
        "    'init_vault_age',\n",
        "    'vault_apy',\n",
        "    'pool_duration',\n",
        "    'num_trading_days'\n",
        "] \n",
        "interesting_columns = changing_columns + const_columns\n",
        "runs = trades.loc[trades.time_diff_shift > 0, :].loc[:, interesting_columns].copy()\n",
        "# variables that change per trade represent the last value in the run, rename the useful ones\n",
        "runs.rename(columns={'current_apy':'ending_apy', 'num_orders':'total_orders'}, inplace=True)\n",
        "# there is one row per \"run\", set that as a named column\n",
        "runs.set_index('run_number', inplace=True)\n",
        "display(runs.T)"
      ]
    },
    {
      "cell_type": "code",
      "execution_count": null,
      "metadata": {},
      "outputs": [],
      "source": [
        "print('Standard deviations of constant columns (should all be zero):')\n",
        "display(trades.groupby('run_number')[[x for x in const_columns]].std().T) # check if these are really constant"
      ]
    },
    {
      "cell_type": "code",
      "execution_count": null,
      "metadata": {},
      "outputs": [],
      "source": [
        "# target columns for taking averages & sums\n",
        "mean_columns = [\n",
        "    'time_until_end',\n",
        "    'init_share_price',\n",
        "    'base_asset_price',\n",
        "    'spot_price',\n",
        "    'out_without_fee_slippage',\n",
        "    'base_asset_reserves',\n",
        "    'out_without_fee',\n",
        "    'fee',\n",
        "    'trade_amount',\n",
        "    'out_with_fee',\n",
        "    'day',\n",
        "    'fee_in_bps',\n",
        "    'token_asset_reserves',\n",
        "    'total_supply'\n",
        "]\n",
        "sum_columns = [\n",
        "    'fee',\n",
        "    'out_with_fee',\n",
        "    'out_without_fee',\n",
        "    'out_without_fee_slippage',\n",
        "    'trade_amount'\n",
        "]\n",
        "trades_mean = trades.groupby(['run_number'])[mean_columns].mean()\n",
        "trades_mean.columns = ['mean_'+col for col in trades_mean.columns]\n",
        "trades_sum = trades.groupby(['run_number'])[sum_columns].sum()\n",
        "trades_sum.columns = ['sum_'+col for col in trades_sum.columns]\n",
        "display(pd.concat([runs, trades_mean, trades_sum], axis=1).T)"
      ]
    },
    {
      "cell_type": "code",
      "execution_count": null,
      "metadata": {},
      "outputs": [],
      "source": [
        "display(trades.loc[:, ['day', 'num_orders', 'trade_amount', 'spot_price', 'price_total_return', 'price_total_return_scaled_to_share_price']])"
      ]
    },
    {
      "cell_type": "code",
      "execution_count": null,
      "metadata": {},
      "outputs": [],
      "source": [
        "display(trades.groupby(['run_number', 'token_in']).agg({\n",
        "    'trade_volume_usd': ['sum'],\n",
        "    'num_orders': ['count'],\n",
        "    'fee_in_bps': ['mean', 'std', 'min', 'max', 'sum']\n",
        "    }).rename(columns={'num_orders_sum': 'trade_number_sum'})\n",
        ")"
      ]
    },
    {
      "cell_type": "code",
      "execution_count": null,
      "metadata": {},
      "outputs": [],
      "source": [
        "# investigate distribution of direction of trades across multiple runs\n",
        "aggregated_by_one_direction=trades.loc[trades.token_in=='base',:].groupby(['run_number', 'day']).agg({'run_trade_number':'count'}).reset_index()\\\n",
        "    .rename(columns={'run_trade_number':'number_of_days_with_this_many_base_trades'})\n",
        "# display(aggregated_by_one_direction)\n",
        "aggregated_by_one_direction_historgram=pd.crosstab(index=aggregated_by_one_direction.run_number,\\\n",
        "    columns=aggregated_by_one_direction.number_of_days_with_this_many_base_trades)\n",
        "display(aggregated_by_one_direction_historgram.sort_values(by=10, ascending=False))\n",
        "plt.bar(range(1,12), aggregated_by_one_direction_historgram.sum())\n",
        "plt.title('Number of days with X base trades')\n",
        "plt.show()"
      ]
    },
    {
      "cell_type": "code",
      "execution_count": null,
      "metadata": {},
      "outputs": [],
      "source": [
        "xtab = pd.crosstab(index=trades_agg.day, columns=trades_agg.day, values=trades_agg.spot_price_mean, aggfunc='mean')\n",
        "# xtab_count = pd.crosstab(index=trades.day, columns=trades.token_in)\n",
        "xtab_count = pd.crosstab(index=trades.day, columns=trades.day, values=trades.token_in.values=='base', aggfunc='sum')\n",
        "xtab_count.quantile([.01, .05, .90, .95])\n",
        "xtab_big = xtab.mean(axis=1)\n",
        "xtab_std = xtab.std(axis=1)\n",
        "xtab_ptiles = xtab.quantile([0.05, 0.1, 0.90, 0.95], axis=1)\n",
        "xtab_all = pd.concat([xtab_big, xtab_std], axis=1)\n",
        "xtab_all.rename(columns={0: 'mean', 1: 'std'}, inplace=True)\n",
        "# xtab_count['total'] = xtab_count.loc[:,'base'] + xtab_count.loc[:,'fyt']\n",
        "# xtab_count['base_percent_of_total'] = xtab_count.loc[:,'base'] / xtab_count.loc[:,'total']\n",
        "# display(xtab_count.sort_values(by='base_percent_of_total', ascending=False))\n",
        "display(xtab_count.quantile([.01, .05, .90, .95],axis=1).T)"
      ]
    },
    {
      "cell_type": "code",
      "execution_count": null,
      "metadata": {},
      "outputs": [],
      "source": [
        "idx = np.repeat([-2,-1,1,2], [xtab_all.shape[0]]).reshape(4, xtab_all.shape[0]).T\n",
        "# display(xtab_all.loc[:,'std'].multiply([-2,1,1,2], axis=0))\n",
        "idx.T.dot(xtab_all.loc[:,'std'])"
      ]
    },
    {
      "cell_type": "code",
      "execution_count": null,
      "metadata": {},
      "outputs": [],
      "source": [
        "numPlots = 1\n",
        "\n",
        "figsize = (24, 18)\n",
        "#fig, ax = plt.subplots(ncols=1, nrows=numPlots, gridspec_kw = {'wspace':0, 'hspace':0, 'height_ratios':np.ones(numPlots)})\n",
        "fig, ax = plt.figure(figsize=figsize), plt.gca()\n",
        "fig.patch.set_facecolor('white')   # set fig background color to white\n",
        "if numPlots==1: ax = [ax,ax]\n",
        "\n",
        "# colors = list(plt.rcParams['axes.prop_cycle'].by_key()['color'])\n",
        "# model_colors = {model:colors[i] for i, model in enumerate(trades_agg.model_name.unique())}\n",
        "\n",
        "# spot_price\n",
        "current_plot = 0\n",
        "plt.plot(xtab, color = 'grey', alpha = 0.1)\n",
        "plt.plot(xtab_big, color='black', linewidth=3)\n",
        "# plt.plot(xtab_ptiles.T, color='black', linewidth=2)\n",
        "#plt.plot(xtab_all.mean + xtab_all.loc[:,'std'].mul(idx, axis=0), color='black', linewidth=2)\n",
        "# xtab_all.plot(ax=ax[current_plot], linewidth=3, y=['mean'], color='black', yerr='std', capsize=5)\n",
        "ax[current_plot].set_xlabel('')\n",
        "ax[current_plot].set_ylabel('Principal Token Price', fontsize=18)\n",
        "ax[current_plot].tick_params(axis='both', labelsize=18)\n",
        "ax[current_plot].grid(visible=True, linestyle='--', linewidth='1', color='grey', which='both', axis='y')\n",
        "ax[current_plot].xaxis.set_ticklabels([])\n",
        "title = (\n",
        "    f'Principal Token Price\\n'\n",
        "    +f'Initial pool APY: {trades[\"pool_apy\"][0]:.2f}%, Time Stretch: {trades[\"init_time_stretch\"][0]:.2f}, Maturity: {trades[\"days_until_end\"][0]} days\\n'\n",
        "    +f'Target Liquidity: {trades[\"target_liquidity\"][0]}, Target Daily Volume: {trades[\"target_daily_volume\"][0]}, Percent Fees: {trades[\"fee_percent\"][0]:.2f}%'\n",
        ")\n",
        "\n",
        "ax[current_plot].set_title(title, fontsize=20)\n",
        "ax[current_plot].legend(fontsize=18)\n",
        "\n",
        "# format axes\n",
        "ax[current_plot].tick_params(axis='both', labelsize=18)\n",
        "ax[current_plot].grid(visible=True, linestyle='--', linewidth='1', color='grey', which='both', axis='y')\n",
        "ax[current_plot].xaxis.set_ticklabels([])\n",
        "ax[current_plot].legend(fontsize=18)\n",
        "ax[current_plot].set_xlabel('Day', fontsize=18)\n",
        "\n",
        "plt.show()"
      ]
    }
  ],
  "metadata": {
    "colab": {
      "collapsed_sections": [],
      "name": "yield_sims.ipynb",
      "private_outputs": true,
      "provenance": []
    },
    "gpuClass": "standard",
    "kernelspec": {
      "display_name": "Python 3.10.4 64-bit ('3.10.4')",
      "language": "python",
      "name": "python3"
    },
    "language_info": {
      "codemirror_mode": {
        "name": "ipython",
        "version": 3
      },
      "file_extension": ".py",
      "mimetype": "text/x-python",
      "name": "python",
      "nbconvert_exporter": "python",
      "pygments_lexer": "ipython3",
      "version": "3.10.4"
    },
    "vscode": {
      "interpreter": {
        "hash": "9fd25b1bc88c40dff464928772a2f7f32c0e329824b33ada66bb495d7b69e219"
      }
    }
  },
  "nbformat": 4,
  "nbformat_minor": 0
}
