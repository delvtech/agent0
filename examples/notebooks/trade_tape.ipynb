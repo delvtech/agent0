{
  "cells": [
    {
      "cell_type": "code",
      "execution_count": null,
      "metadata": {
        "id": "efreB4W-4u1q"
      },
      "outputs": [],
      "source": [
        "from __future__ import annotations\n",
        "\n",
        "from numpy.random._generator import Generator as NumpyGenerator\n",
        "\n",
        "import elfpy.agents.agent as agent\n",
        "import elfpy.utils.sim_utils as sim_utils\n",
        "import elfpy.simulators as simulators\n",
        "import elfpy.utils.outputs as output_utils\n",
        "import elfpy.agents.policies.random_agent as random_agent"
      ]
    },
    {
      "cell_type": "markdown",
      "metadata": {
        "id": "MMgaUflvLPnq"
      },
      "source": [
        "### Setup experiment parameters"
      ]
    },
    {
      "cell_type": "code",
      "execution_count": null,
      "metadata": {
        "id": "_PY2dAov5nxy"
      },
      "outputs": [],
      "source": [
        "config = simulators.Config()\n",
        "\n",
        "config.title = \"trade tape demo\"\n",
        "config.pricing_model_name = \"Hyperdrive\" # can be yieldspace or hyperdrive\n",
        "\n",
        "config.num_trading_days = 10 # Number of simulated trading days\n",
        "config.num_blocks_per_day = 5 # Blocks in a given day (7200 means ~12 sec per block)\n",
        "config.num_position_days = 8\n",
        "config.trade_fee_percent = 0.10 # fee percent collected on trades\n",
        "config.redemption_fee_percent = 0.005 # 5 bps\n",
        "\n",
        "num_agents = 4 # int specifying how many agents you want to simulate\n",
        "agent_budget = 1_000_000 # max money an agent can spend\n",
        "trade_chance = 2 / (config.num_trading_days * config.num_blocks_per_day) # on a given block, an agent will trade with probability `trade_chance`\n",
        "\n",
        "config.target_fixed_apr = 0.01 # target fixed APR of the initial market after the LP\n",
        "config.target_liquidity = 500_000_000 # target total liquidity of the initial market, before any trades\n",
        "\n",
        "# Define the variable apr\n",
        "config.variable_apr = [0.03]*config.num_trading_days\n",
        "\n",
        "config.do_dataframe_states = True\n",
        "\n",
        "config.log_level = output_utils.text_to_log_level(\"WARNING\") # Logging level, should be in [\"DEBUG\", \"INFO\", \"WARNING\"]\n",
        "config.log_filename = \"trade_tape\" # Output filename for logging\n",
        "\n",
        "config.freeze() # type: ignore"
      ]
    },
    {
      "cell_type": "markdown",
      "metadata": {
        "id": "gMKQLsMiLd-_"
      },
      "source": [
        "### Setup agents"
      ]
    },
    {
      "cell_type": "code",
      "execution_count": null,
      "metadata": {
        "id": "kroJESetLW3l"
      },
      "outputs": [],
      "source": [
        "def get_example_agents(rng: NumpyGenerator, budget: int, new_agents: int, existing_agents: int = 0) -> list[agent.Agent]:\n",
        "    \"\"\"Instantiate a set of custom agents\"\"\"\n",
        "    agents = []\n",
        "    for address in range(existing_agents, existing_agents + new_agents):\n",
        "        agent = random_agent.Policy(\n",
        "            rng=rng,\n",
        "            trade_chance=trade_chance,\n",
        "            wallet_address=address,\n",
        "            budget=budget,\n",
        "        )\n",
        "        agent.log_status_report()\n",
        "        agents += [agent]\n",
        "    return agents"
      ]
    },
    {
      "cell_type": "markdown",
      "metadata": {
        "id": "zKf-kSthMJSa"
      },
      "source": [
        "### Setup simulation objects"
      ]
    },
    {
      "cell_type": "code",
      "execution_count": null,
      "metadata": {
        "id": "xpagOoPAMJvv"
      },
      "outputs": [],
      "source": [
        "# define root logging parameters\n",
        "output_utils.setup_logging(log_filename=config.log_filename, log_level=config.log_level)\n",
        "\n",
        "# get an instantiated simulator object\n",
        "simulator = sim_utils.get_simulator(config)"
      ]
    },
    {
      "cell_type": "markdown",
      "metadata": {
        "id": "s7MvElrkMY4M"
      },
      "source": [
        "### Run the simulation"
      ]
    },
    {
      "cell_type": "code",
      "execution_count": null,
      "metadata": {
        "id": "YEeRha47MX8I"
      },
      "outputs": [],
      "source": [
        "# add the random agents\n",
        "rnd_agents = get_example_agents(\n",
        "    rng=simulator.rng,\n",
        "    budget=agent_budget,\n",
        "    new_agents=num_agents,\n",
        "    existing_agents=1,\n",
        ")\n",
        "simulator.add_agents(rnd_agents)\n",
        "print(f\"Simulator has {len(simulator.agents)} agents\")\n",
        "print(\"With budgets = \", [sim_agent.budget for sim_agent in simulator.agents.values()])"
      ]
    },
    {
      "cell_type": "code",
      "execution_count": null,
      "metadata": {},
      "outputs": [],
      "source": [
        "# run the simulation\n",
        "simulator.run_simulation()"
      ]
    },
    {
      "cell_type": "code",
      "execution_count": null,
      "metadata": {},
      "outputs": [],
      "source": [
        "sim_trades = simulator.new_simulation_state.trade_updates.trade_action.tolist()\n",
        "print(\"User trades:\\n\")\n",
        "print(\"\\n\".join([f\"{trade}\" for trade in sim_trades]))"
      ]
    },
    {
      "cell_type": "code",
      "execution_count": null,
      "metadata": {},
      "outputs": [],
      "source": [
        "from ape import accounts, chain, networks, Project\n",
        "from pathlib import Path\n",
        "import pandas as pd\n",
        "import matplotlib.pyplot as plt"
      ]
    },
    {
      "attachments": {},
      "cell_type": "markdown",
      "metadata": {},
      "source": [
        "### Apeworx Network setup"
      ]
    },
    {
      "cell_type": "code",
      "execution_count": null,
      "metadata": {},
      "outputs": [],
      "source": [
        "networks.parse_network_choice('ethereum:local:foundry').__enter__()\n",
        "project_root = Path.cwd().parent.parent\n",
        "project = Project(path=project_root)"
      ]
    },
    {
      "attachments": {},
      "cell_type": "markdown",
      "metadata": {},
      "source": [
        "### Generate agent accounts"
      ]
    },
    {
      "cell_type": "code",
      "execution_count": null,
      "metadata": {},
      "outputs": [],
      "source": [
        "governance = accounts.test_accounts.generate_test_account()\n",
        "sol_agents = {\"governance\": governance}\n",
        "for agent_address, sim_agent in simulator.agents.items():\n",
        "    sol_agent = accounts.test_accounts.generate_test_account() # make a fake agent with its own wallet\n",
        "    sol_agent.balance = int(sim_agent.budget * 10**18)\n",
        "    sol_agents[f\"agent_{agent_address}\"] = sol_agent"
      ]
    },
    {
      "attachments": {},
      "cell_type": "markdown",
      "metadata": {},
      "source": [
        "### Deploy contracts"
      ]
    },
    {
      "cell_type": "code",
      "execution_count": null,
      "metadata": {},
      "outputs": [],
      "source": [
        "# use agent 0 to initialize the market\n",
        "base_address = sol_agents[\"agent_0\"].deploy(project.ERC20Mintable)\n",
        "base_ERC20 = project.ERC20Mintable.at(base_address)\n",
        "\n",
        "fixed_math_address = sol_agents[\"agent_0\"].deploy(project.MockFixedPointMath)\n",
        "fixed_math = project.MockFixedPointMath.at(fixed_math_address)\n",
        "\n",
        "base_ERC20.mint(int(config.target_liquidity * 10**18), sender=sol_agents[\"agent_0\"])\n",
        "\n",
        "initial_supply = int(config.target_liquidity * 10**18)\n",
        "initial_apr  = int(config.target_fixed_apr * 10**18)\n",
        "initial_share_price = int(config.init_share_price * 10**18)\n",
        "checkpoints_per_term = 365\n",
        "checkpoint_duration = 86400 # 1 day\n",
        "time_stretch = int(fixed_math.divDown(int(1e18), int(simulator.market.time_stretch_constant * 10**18)))\n",
        "curve_fee = int(config.trade_fee_percent * 10**18)\n",
        "flat_fee = int(config.redemption_fee_percent * 10**18)\n",
        "gov_fee = 0\n",
        "\n",
        "hyperdrive_address = sol_agents[\"agent_0\"].deploy(\n",
        "    project.MockHyperdriveTestnet,\n",
        "    base_ERC20,\n",
        "    initial_apr,\n",
        "    initial_share_price,\n",
        "    checkpoints_per_term,\n",
        "    checkpoint_duration,\n",
        "    time_stretch,\n",
        "    (curve_fee, flat_fee, gov_fee),\n",
        "    governance,\n",
        ")\n",
        "hyperdrive = project.MockHyperdriveTestnet.at(hyperdrive_address)\n",
        "\n",
        "with accounts.use_sender(sol_agents[\"agent_0\"]):\n",
        "    base_ERC20.approve(hyperdrive, initial_supply)\n",
        "    hyperdrive.initialize(initial_supply, initial_apr, sol_agents[\"agent_0\"], False)\n"
      ]
    },
    {
      "cell_type": "code",
      "execution_count": null,
      "metadata": {},
      "outputs": [],
      "source": [
        "def open_short(market, hyperdrive_agent, bond_amount):\n",
        "    maturity_time = hyperdrive.latestCheckpoint() + hyperdrive.POSITION_DURATION\n",
        "    with accounts.use_sender(hyperdrive_agent):\n",
        "        # Mint DAI & approve ERC20 usage by contract\n",
        "        base_ERC20.mint(bond_amount)\n",
        "        base_ERC20.approve(hyperdrive, base_amount)\n",
        "        # Open short\n",
        "        max_deposit = bond_amount\n",
        "        as_underlying = True\n",
        "        tx_receipt = hyperdrive.openShort(\n",
        "            bond_amount,\n",
        "            max_deposit,\n",
        "            hyperdrive_agent,\n",
        "            as_underlying,\n",
        "        )\n",
        "    # Return the updated pool state & transaction result\n",
        "    current_block = chain.blocks[-1]\n",
        "    pool_state = hyperdrive.getPoolInfo().__dict__\n",
        "    pool_state[\"block_number_\"] = current_block.number\n",
        "    return pool_state, tx_receipt\n",
        "\n",
        "\n",
        "def close_short(hyperdrive_agent, bond_amount, maturity_time):\n",
        "    with accounts.use_sender(hyperdrive_agent):\n",
        "        min_output = 0\n",
        "        as_underlying = True\n",
        "        tx_receipt = hyperdrive.closeShort(\n",
        "            maturity_time,\n",
        "            bond_amount,\n",
        "            min_output,\n",
        "            hyperdrive_agent,\n",
        "            as_underlying,\n",
        "        )\n",
        "    # Return the updated pool state & transaction result\n",
        "    current_block = chain.blocks[-1]\n",
        "    pool_state = hyperdrive.getPoolInfo().__dict__\n",
        "    pool_state[\"block_number_\"] = current_block.number\n",
        "    return pool_state, tx_receipt\n",
        "\n",
        "\n",
        "def open_long(hyperdrive_agent, base_amount):\n",
        "    with accounts.use_sender(hyperdrive_agent):\n",
        "        # Mint DAI & approve ERC20 usage by contract\n",
        "        base_ERC20.mint(base_amount)\n",
        "        base_ERC20.approve(hyperdrive, base_amount)\n",
        "        # Open long\n",
        "        min_output = 0\n",
        "        as_underlying = True\n",
        "        tx_receipt = hyperdrive.openLong(\n",
        "            base_amount,\n",
        "            min_output,\n",
        "            hyperdrive_agent,\n",
        "            as_underlying,\n",
        "        )\n",
        "    # Return the updated pool state & transaction result\n",
        "    current_block = chain.blocks[-1]\n",
        "    pool_state = hyperdrive.getPoolInfo().__dict__\n",
        "    pool_state[\"block_number_\"] = current_block.number\n",
        "    return pool_state, tx_receipt\n",
        "\n",
        "\n",
        "def close_long(hyperdrive_agent, maturity_time, bond_amount):\n",
        "    with accounts.use_sender(hyperdrive_agent):\n",
        "        min_output = 0\n",
        "        as_underlying = True\n",
        "        tx_receipt = hyperdrive.closeLong(\n",
        "            maturity_time,\n",
        "            bond_amount,\n",
        "            min_output,\n",
        "            hyperdrive_agent,\n",
        "            as_underlying,\n",
        "        )\n",
        "    # Return the updated pool state & transaction result\n",
        "    current_block = chain.blocks[-1]\n",
        "    pool_state = hyperdrive.getPoolInfo().__dict__\n",
        "    pool_state[\"block_number_\"] = current_block.number\n",
        "    return pool_state, tx_receipt"
      ]
    },
    {
      "cell_type": "code",
      "execution_count": null,
      "metadata": {},
      "outputs": [],
      "source": [
        "# get current block\n",
        "current_block = chain.blocks[-1].number\n",
        "\n",
        "# set the current block?\n",
        "pool_state = [hyperdrive.getPoolInfo().__dict__]\n",
        "pool_state[0][\"block_number_\"] = current_block\n",
        "\n",
        "for trade in sim_trades:\n",
        "    if trade.action_type.name == \"open_long\":\n",
        "        # do open long\n",
        "        continue\n",
        "    if trade.action_type.name == \"close_long\":\n",
        "        # do close long\n",
        "        continue"
      ]
    }
  ],
  "metadata": {
    "colab": {
      "include_colab_link": true,
      "private_outputs": true,
      "provenance": []
    },
    "kernelspec": {
      "display_name": "elf-env",
      "language": "python",
      "name": "python3"
    },
    "language_info": {
      "codemirror_mode": {
        "name": "ipython",
        "version": 3
      },
      "file_extension": ".py",
      "mimetype": "text/x-python",
      "name": "python",
      "nbconvert_exporter": "python",
      "pygments_lexer": "ipython3",
      "version": "3.8.16"
    },
    "vscode": {
      "interpreter": {
        "hash": "e0b3e7cfdbb0701533a1bd673e72a5f0b8ba7990b124dd57bd4db430b23dce81"
      }
    }
  },
  "nbformat": 4,
  "nbformat_minor": 0
}
