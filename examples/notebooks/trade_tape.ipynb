{
 "cells": [
  {
   "cell_type": "code",
   "execution_count": null,
   "metadata": {
    "id": "efreB4W-4u1q",
    "tags": []
   },
   "outputs": [],
   "source": [
    "from __future__ import annotations\n",
    "\n",
    "from numpy.random._generator import Generator as NumpyGenerator\n",
    "\n",
    "import elfpy.agents.agent as agent\n",
    "import elfpy.utils.sim_utils as sim_utils\n",
    "import elfpy.simulators as simulators\n",
    "import elfpy.utils.outputs as output_utils\n",
    "import elfpy.agents.policies.random_agent as random_agent"
   ]
  },
  {
   "cell_type": "markdown",
   "metadata": {
    "id": "MMgaUflvLPnq"
   },
   "source": [
    "### Setup experiment parameters"
   ]
  },
  {
   "cell_type": "code",
   "execution_count": null,
   "metadata": {
    "id": "_PY2dAov5nxy",
    "tags": []
   },
   "outputs": [],
   "source": [
    "config = simulators.Config()\n",
    "\n",
    "config.title = \"trade tape demo\"\n",
    "config.pricing_model_name = \"Hyperdrive\" # can be yieldspace or hyperdrive\n",
    "\n",
    "config.num_trading_days = 5 # Number of simulated trading days\n",
    "config.num_blocks_per_day = 10 # Blocks in a given day (7200 means ~12 sec per block)\n",
    "config.num_position_days = 8\n",
    "config.trade_fee_percent = 0.10 # fee percent collected on trades\n",
    "config.redemption_fee_percent = 0.005 # 5 bps\n",
    "\n",
    "num_agents = 4 # int specifying how many agents you want to simulate\n",
    "agent_budget = 1_000_000 # max money an agent can spend\n",
    "trade_chance = 5 / (config.num_trading_days * config.num_blocks_per_day) # on a given block, an agent will trade with probability `trade_chance`\n",
    "\n",
    "config.target_fixed_apr = 0.01 # target fixed APR of the initial market after the LP\n",
    "config.target_liquidity = 500_000_000 # target total liquidity of the initial market, before any trades\n",
    "\n",
    "# Define the variable apr\n",
    "config.variable_apr = [0.03]*config.num_trading_days\n",
    "\n",
    "config.do_dataframe_states = True\n",
    "\n",
    "config.log_level = output_utils.text_to_log_level(\"WARNING\") # Logging level, should be in [\"DEBUG\", \"INFO\", \"WARNING\"]\n",
    "config.log_filename = \"trade_tape\" # Output filename for logging\n",
    "\n",
    "config.freeze() # type: ignore"
   ]
  },
  {
   "cell_type": "markdown",
   "metadata": {
    "id": "gMKQLsMiLd-_"
   },
   "source": [
    "### Setup agents"
   ]
  },
  {
   "cell_type": "code",
   "execution_count": null,
   "metadata": {
    "id": "kroJESetLW3l",
    "tags": []
   },
   "outputs": [],
   "source": [
    "def get_example_agents(rng: NumpyGenerator, budget: int, new_agents: int, existing_agents: int = 0) -> list[agent.Agent]:\n",
    "    \"\"\"Instantiate a set of custom agents\"\"\"\n",
    "    agents = []\n",
    "    for address in range(existing_agents, existing_agents + new_agents):\n",
    "        agent = random_agent.Policy(\n",
    "            rng=rng,\n",
    "            trade_chance=trade_chance,\n",
    "            wallet_address=address,\n",
    "            budget=budget,\n",
    "        )\n",
    "        agent.log_status_report()\n",
    "        agents += [agent]\n",
    "    return agents"
   ]
  },
  {
   "cell_type": "markdown",
   "metadata": {
    "id": "zKf-kSthMJSa"
   },
   "source": [
    "### Setup simulation objects"
   ]
  },
  {
   "cell_type": "code",
   "execution_count": null,
   "metadata": {
    "id": "xpagOoPAMJvv",
    "tags": []
   },
   "outputs": [],
   "source": [
    "# define root logging parameters\n",
    "output_utils.setup_logging(log_filename=config.log_filename, log_level=config.log_level)\n",
    "\n",
    "# get an instantiated simulator object\n",
    "simulator = sim_utils.get_simulator(config)"
   ]
  },
  {
   "cell_type": "markdown",
   "metadata": {
    "id": "s7MvElrkMY4M"
   },
   "source": [
    "### Run the simulation"
   ]
  },
  {
   "cell_type": "code",
   "execution_count": null,
   "metadata": {
    "id": "YEeRha47MX8I",
    "tags": []
   },
   "outputs": [],
   "source": [
    "# add the random agents\n",
    "rnd_agents = get_example_agents(\n",
    "    rng=simulator.rng,\n",
    "    budget=agent_budget,\n",
    "    new_agents=num_agents,\n",
    "    existing_agents=1,\n",
    ")\n",
    "simulator.add_agents(rnd_agents)\n",
    "print(f\"Simulator has {len(simulator.agents)} agents\")\n",
    "print(\"With budgets =\", [sim_agent.budget for sim_agent in simulator.agents.values()])"
   ]
  },
  {
   "cell_type": "code",
   "execution_count": null,
   "metadata": {
    "tags": []
   },
   "outputs": [],
   "source": [
    "# run the simulation\n",
    "simulator.run_simulation()"
   ]
  },
  {
   "cell_type": "code",
   "execution_count": null,
   "metadata": {},
   "outputs": [],
   "source": [
    "sim_trades = simulator.new_simulation_state.trade_updates.trade_action.tolist()\n",
    "print(\"User trades:\\n\")\n",
    "print(\"\\n\\n\".join([f\"{trade}\" for trade in sim_trades]))"
   ]
  },
  {
   "cell_type": "code",
   "execution_count": null,
   "metadata": {},
   "outputs": [],
   "source": [
    "from ape import accounts, chain, networks, Project\n",
    "from pathlib import Path\n",
    "import pandas as pd\n",
    "import matplotlib.pyplot as plt"
   ]
  },
  {
   "cell_type": "markdown",
   "metadata": {},
   "source": [
    "### Apeworx Network setup"
   ]
  },
  {
   "cell_type": "code",
   "execution_count": null,
   "metadata": {},
   "outputs": [],
   "source": [
    "networks.parse_network_choice('ethereum:local:foundry').__enter__()\n",
    "project_root = Path.cwd().parent.parent\n",
    "project = Project(path=project_root)"
   ]
  },
  {
   "cell_type": "markdown",
   "metadata": {},
   "source": [
    "### Generate agent accounts"
   ]
  },
  {
   "cell_type": "code",
   "execution_count": null,
   "metadata": {},
   "outputs": [],
   "source": [
    "governance = accounts.test_accounts.generate_test_account()\n",
    "sol_agents = {\"governance\": governance}\n",
    "for agent_address, sim_agent in simulator.agents.items():\n",
    "    sol_agent = accounts.test_accounts.generate_test_account() # make a fake agent with its own wallet\n",
    "    sol_agent.balance = int(sim_agent.budget * 10**18)\n",
    "    sol_agents[f\"agent_{agent_address}\"] = sol_agent"
   ]
  },
  {
   "cell_type": "markdown",
   "metadata": {},
   "source": [
    "### Deploy contracts"
   ]
  },
  {
   "cell_type": "code",
   "execution_count": null,
   "metadata": {},
   "outputs": [],
   "source": [
    "# use agent 0 to initialize the market\n",
    "base_address = sol_agents[\"agent_0\"].deploy(project.ERC20Mintable)\n",
    "base_ERC20 = project.ERC20Mintable.at(base_address)\n",
    "\n",
    "fixed_math_address = sol_agents[\"agent_0\"].deploy(project.MockFixedPointMath)\n",
    "fixed_math = project.MockFixedPointMath.at(fixed_math_address)\n",
    "\n",
    "base_ERC20.mint(int(config.target_liquidity * 10**18), sender=sol_agents[\"agent_0\"])\n",
    "\n",
    "initial_supply = int(config.target_liquidity * 10**18)\n",
    "initial_apr  = int(config.target_fixed_apr * 10**18)\n",
    "initial_share_price = int(config.init_share_price * 10**18)\n",
    "checkpoint_duration = 86400 # seconds = 1 day\n",
    "checkpoints_per_term = 365\n",
    "position_duration_seconds = checkpoint_duration * checkpoints_per_term\n",
    "time_stretch = int(1 / simulator.market.time_stretch_constant * 10**18)\n",
    "curve_fee = int(config.trade_fee_percent * 10**18)\n",
    "flat_fee = int(config.redemption_fee_percent * 10**18)\n",
    "gov_fee = 0\n",
    "\n",
    "hyperdrive_address = sol_agents[\"agent_0\"].deploy(\n",
    "    project.MockHyperdriveTestnet,\n",
    "    base_ERC20,\n",
    "    initial_apr,\n",
    "    initial_share_price,\n",
    "    checkpoints_per_term,\n",
    "    checkpoint_duration,\n",
    "    time_stretch,\n",
    "    (curve_fee, flat_fee, gov_fee),\n",
    "    governance,\n",
    ")\n",
    "hyperdrive = project.MockHyperdriveTestnet.at(hyperdrive_address)\n",
    "\n",
    "with accounts.use_sender(sol_agents[\"agent_0\"]):\n",
    "    base_ERC20.approve(hyperdrive, initial_supply)\n",
    "    hyperdrive.initialize(initial_supply, initial_apr, sol_agents[\"agent_0\"], False)\n"
   ]
  },
  {
   "cell_type": "markdown",
   "metadata": {},
   "source": [
    "### Define & execute trades"
   ]
  },
  {
   "cell_type": "code",
   "execution_count": null,
   "metadata": {},
   "outputs": [],
   "source": [
    "def open_short(hyperdrive_agent, bond_amount):\n",
    "    with accounts.use_sender(hyperdrive_agent):\n",
    "        # Mint DAI & approve ERC20 usage by contract\n",
    "        base_ERC20.mint(bond_amount)\n",
    "        base_ERC20.approve(hyperdrive, bond_amount)\n",
    "        # Open short\n",
    "        max_deposit = bond_amount\n",
    "        as_underlying = False\n",
    "        print(f\"\\t{hyperdrive_agent=}\")\n",
    "        print(f\"\\t{bond_amount=}\")\n",
    "        print(f\"\\t{max_deposit=}\")\n",
    "        print(f\"\\t{as_underlying=}\")\n",
    "        print(f\"\\t{hyperdrive.getPoolInfo().__dict__=}\")\n",
    "        tx_receipt = hyperdrive.openShort(\n",
    "            bond_amount,\n",
    "            max_deposit,\n",
    "            hyperdrive_agent,\n",
    "            as_underlying,\n",
    "        )\n",
    "        print(f\"\\t{hyperdrive.getPoolInfo().__dict__=}\")\n",
    "    # Return the updated pool state & transaction result\n",
    "    pool_state = hyperdrive.getPoolInfo().__dict__\n",
    "    current_block = chain.provider.get_block(tx_receipt.block_number)\n",
    "    pool_state[\"block_number_\"] = current_block.number\n",
    "    pool_state[\"timestamp_\"] = current_block.timestamp\n",
    "    return pool_state, tx_receipt\n",
    "\n",
    "\n",
    "def close_short(hyperdrive_agent, bond_amount, maturity_time):\n",
    "    with accounts.use_sender(hyperdrive_agent):\n",
    "        min_output = 0\n",
    "        as_underlying = False\n",
    "        print(f\"\\t{hyperdrive_agent=}\")\n",
    "        print(f\"\\t{bond_amount=}\")\n",
    "        print(f\"\\t{maturity_time=}\")\n",
    "        print(f\"\\t{min_output=}\")\n",
    "        print(f\"\\t{as_underlying=}\")\n",
    "        print(f\"\\t{hyperdrive.getPoolInfo().__dict__=}\")\n",
    "        tx_receipt = hyperdrive.closeShort(\n",
    "            maturity_time,\n",
    "            bond_amount,\n",
    "            min_output,\n",
    "            hyperdrive_agent,\n",
    "            as_underlying,\n",
    "        )\n",
    "        print(f\"\\t{hyperdrive.getPoolInfo().__dict__=}\")\n",
    "    # Return the updated pool state & transaction result\n",
    "    pool_state = hyperdrive.getPoolInfo().__dict__\n",
    "    current_block = chain.provider.get_block(tx_receipt.block_number)\n",
    "    pool_state[\"block_number_\"] = current_block.number\n",
    "    pool_state[\"timestamp_\"] = current_block.timestamp\n",
    "    return pool_state, tx_receipt\n",
    "\n",
    "\n",
    "def open_long(hyperdrive_agent, base_amount):\n",
    "    with accounts.use_sender(hyperdrive_agent):\n",
    "        # Mint DAI & approve ERC20 usage by contract\n",
    "        base_ERC20.mint(base_amount)\n",
    "        base_ERC20.approve(hyperdrive, base_amount)\n",
    "        # Open long\n",
    "        min_output = 0\n",
    "        as_underlying = False\n",
    "        print(f\"\\t{hyperdrive_agent=}\")\n",
    "        print(f\"\\t{base_amount=}\")\n",
    "        print(f\"\\t{min_output=}\")\n",
    "        print(f\"\\t{as_underlying=}\")\n",
    "        print(f\"\\t{hyperdrive.getPoolInfo().__dict__=}\")\n",
    "        tx_receipt = hyperdrive.openLong(\n",
    "            base_amount,\n",
    "            min_output,\n",
    "            hyperdrive_agent,\n",
    "            as_underlying,\n",
    "        )\n",
    "        hyperdrive.query_manager.query\n",
    "        print(f\"\\t{hyperdrive.getPoolInfo().__dict__=}\")\n",
    "    # Return the updated pool state & transaction result\n",
    "    pool_state = hyperdrive.getPoolInfo().__dict__\n",
    "    current_block = chain.provider.get_block(tx_receipt.block_number)\n",
    "    pool_state[\"block_number_\"] = current_block.number\n",
    "    pool_state[\"timestamp_\"] = current_block.timestamp\n",
    "    return pool_state, tx_receipt\n",
    "\n",
    "\n",
    "def close_long(hyperdrive_agent, bond_amount, maturity_time):\n",
    "    with accounts.use_sender(hyperdrive_agent):\n",
    "        min_output = 0\n",
    "        as_underlying = False\n",
    "        print(f\"\\t{hyperdrive_agent=}\")\n",
    "        print(f\"\\t{bond_amount=}\")\n",
    "        print(f\"\\t{maturity_time=}\")\n",
    "        print(f\"\\t{min_output=}\")\n",
    "        print(f\"\\t{as_underlying=}\")\n",
    "        print(f\"\\t{hyperdrive.getPoolInfo().__dict__=}\")\n",
    "        tx_receipt = hyperdrive.closeLong(\n",
    "            maturity_time,\n",
    "            bond_amount,\n",
    "            min_output,\n",
    "            hyperdrive_agent,\n",
    "            as_underlying,\n",
    "        )\n",
    "        print(f\"\\t{hyperdrive.getPoolInfo().__dict__=}\")\n",
    "    # Return the updated pool state & transaction result\n",
    "    pool_state = hyperdrive.getPoolInfo().__dict__\n",
    "    current_block = chain.provider.get_block(tx_receipt.block_number)\n",
    "    pool_state[\"block_number_\"] = current_block.number\n",
    "    pool_state[\"timestamp_\"] = current_block.timestamp\n",
    "    return pool_state, tx_receipt"
   ]
  },
  {
   "cell_type": "code",
   "execution_count": null,
   "metadata": {},
   "outputs": [],
   "source": [
    "# get current block\n",
    "genesis_block_number = chain.blocks[-1].number\n",
    "genesis_timestamp = chain.provider.get_block(genesis_block_number).timestamp\n",
    "\n",
    "# set the current block?\n",
    "pool_state = [hyperdrive.getPoolInfo().__dict__]\n",
    "pool_state[0][\"block_number_\"] = genesis_block_number\n",
    "print(f\"{pool_state=}\\n\")\n",
    "\n",
    "sim_to_block_time = {}\n",
    "trade_receipts = []\n",
    "for trade in sim_trades:\n",
    "    \n",
    "    agent_key = f\"agent_{trade.wallet.address}\"\n",
    "    trade_amount = int(trade.trade_amount * 10**18)\n",
    "    print(\"\\n\", agent_key, trade.action_type.name)\n",
    "    print(f\"\\t{trade.mint_time=}\")\n",
    "    \n",
    "    if trade.action_type.name in [\"ADD_LIQUIDITY\", \"REMOVE_LIQUIDITY\"]:\n",
    "        continue # todo\n",
    "        \n",
    "    if trade.action_type.name == \"OPEN_SHORT\":\n",
    "        new_state, trade_details = open_short(sol_agents[agent_key], trade_amount)\n",
    "        \n",
    "    elif trade.action_type.name == \"CLOSE_SHORT\":\n",
    "        maturity_time = int(sim_to_block_time[trade.mint_time] + position_duration_seconds)\n",
    "        print(f\"\\t{sim_to_block_time[trade.mint_time]=}\")\n",
    "        print(f\"\\t{position_duration_seconds=}\")\n",
    "        new_state, trade_details = close_short(sol_agents[agent_key], trade_amount, maturity_time)\n",
    "        \n",
    "    elif trade.action_type.name == \"OPEN_LONG\":\n",
    "        new_state, trade_details = open_long(sol_agents[agent_key], trade_amount)\n",
    "        \n",
    "    elif trade.action_type.name == \"CLOSE_LONG\":\n",
    "        maturity_time = int(sim_to_block_time[trade.mint_time] + position_duration_seconds)\n",
    "        print(f\"\\t{sim_to_block_time[trade.mint_time]=}\")\n",
    "        print(f\"\\t{position_duration_seconds=}\")\n",
    "        new_state, trade_details = close_long(sol_agents[agent_key], trade_amount, maturity_time)\n",
    "        \n",
    "    trade_receipts.append(trade_details)\n",
    "    pool_state.append(new_state)\n",
    "    sim_to_block_time[trade.mint_time] = new_state[\"timestamp_\"]"
   ]
  },
  {
   "cell_type": "code",
   "execution_count": null,
   "metadata": {
    "tags": []
   },
   "outputs": [],
   "source": [
    "dir(trade_receipts[0])"
   ]
  },
  {
   "cell_type": "code",
   "execution_count": null,
   "metadata": {},
   "outputs": [],
   "source": [
    "trade_receipts[0].transaction"
   ]
  },
  {
   "cell_type": "code",
   "execution_count": null,
   "metadata": {},
   "outputs": [],
   "source": []
  },
  {
   "cell_type": "code",
   "execution_count": null,
   "metadata": {
    "tags": []
   },
   "outputs": [],
   "source": [
    "trade_receipts[2].block_number"
   ]
  }
 ],
 "metadata": {
  "colab": {
   "include_colab_link": true,
   "private_outputs": true,
   "provenance": []
  },
  "kernelspec": {
   "display_name": "Python 3 (ipykernel)",
   "language": "python",
   "name": "python3"
  },
  "language_info": {
   "codemirror_mode": {
    "name": "ipython",
    "version": 3
   },
   "file_extension": ".py",
   "mimetype": "text/x-python",
   "name": "python",
   "nbconvert_exporter": "python",
   "pygments_lexer": "ipython3",
   "version": "3.8.16"
  },
  "vscode": {
   "interpreter": {
    "hash": "e0b3e7cfdbb0701533a1bd673e72a5f0b8ba7990b124dd57bd4db430b23dce81"
   }
  }
 },
 "nbformat": 4,
 "nbformat_minor": 4
}
