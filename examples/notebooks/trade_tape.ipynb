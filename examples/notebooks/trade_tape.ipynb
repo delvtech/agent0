{
  "cells": [
    {
      "cell_type": "code",
      "execution_count": 1,
      "metadata": {
        "id": "efreB4W-4u1q"
      },
      "outputs": [],
      "source": [
        "from __future__ import annotations\n",
        "\n",
        "from numpy.random._generator import Generator as NumpyGenerator\n",
        "\n",
        "import elfpy.agents.agent as agent\n",
        "import elfpy.utils.sim_utils as sim_utils\n",
        "import elfpy.simulators as simulators\n",
        "import elfpy.utils.outputs as output_utils\n",
        "import elfpy.agents.policies.random_agent as random_agent"
      ]
    },
    {
      "cell_type": "markdown",
      "metadata": {
        "id": "MMgaUflvLPnq"
      },
      "source": [
        "### Setup experiment parameters"
      ]
    },
    {
      "cell_type": "code",
      "execution_count": 2,
      "metadata": {
        "id": "_PY2dAov5nxy"
      },
      "outputs": [],
      "source": [
        "config = simulators.Config()\n",
        "\n",
        "config.title = \"trade tape demo\"\n",
        "config.pricing_model_name = \"Hyperdrive\" # can be yieldspace or hyperdrive\n",
        "\n",
        "config.num_trading_days = 10 # Number of simulated trading days\n",
        "config.num_blocks_per_day = 5 # Blocks in a given day (7200 means ~12 sec per block)\n",
        "config.num_position_days = 8\n",
        "config.trade_fee_percent = 0.10 # fee percent collected on trades\n",
        "config.redemption_fee_percent = 0.005 # 5 bps\n",
        "\n",
        "num_agents = 4 # int specifying how many agents you want to simulate\n",
        "agent_budget = 1_000_000 # max money an agent can spend\n",
        "trade_chance = 2 / (config.num_trading_days * config.num_blocks_per_day) # on a given block, an agent will trade with probability `trade_chance`\n",
        "\n",
        "config.target_fixed_apr = 0.01 # target fixed APR of the initial market after the LP\n",
        "config.target_liquidity = 500_000_000 # target total liquidity of the initial market, before any trades\n",
        "\n",
        "# Define the variable apr\n",
        "config.variable_apr = [0.03]*config.num_trading_days\n",
        "\n",
        "config.do_dataframe_states = True\n",
        "\n",
        "config.log_level = output_utils.text_to_log_level(\"WARNING\") # Logging level, should be in [\"DEBUG\", \"INFO\", \"WARNING\"]\n",
        "config.log_filename = \"trade_tape\" # Output filename for logging\n",
        "\n",
        "config.freeze() # type: ignore"
      ]
    },
    {
      "cell_type": "markdown",
      "metadata": {
        "id": "gMKQLsMiLd-_"
      },
      "source": [
        "### Setup agents"
      ]
    },
    {
      "cell_type": "code",
      "execution_count": 3,
      "metadata": {
        "id": "kroJESetLW3l"
      },
      "outputs": [],
      "source": [
        "def get_example_agents(rng: NumpyGenerator, budget: int, new_agents: int, existing_agents: int = 0) -> list[agent.Agent]:\n",
        "    \"\"\"Instantiate a set of custom agents\"\"\"\n",
        "    agents = []\n",
        "    for address in range(existing_agents, existing_agents + new_agents):\n",
        "        agent = random_agent.Policy(\n",
        "            rng=rng,\n",
        "            trade_chance=trade_chance,\n",
        "            wallet_address=address,\n",
        "            budget=budget,\n",
        "        )\n",
        "        agent.log_status_report()\n",
        "        agents += [agent]\n",
        "    return agents"
      ]
    },
    {
      "cell_type": "markdown",
      "metadata": {
        "id": "zKf-kSthMJSa"
      },
      "source": [
        "### Setup simulation objects"
      ]
    },
    {
      "cell_type": "code",
      "execution_count": 4,
      "metadata": {
        "id": "xpagOoPAMJvv"
      },
      "outputs": [],
      "source": [
        "# define root logging parameters\n",
        "output_utils.setup_logging(log_filename=config.log_filename, log_level=config.log_level)\n",
        "\n",
        "# get an instantiated simulator object\n",
        "simulator = sim_utils.get_simulator(config)"
      ]
    },
    {
      "cell_type": "markdown",
      "metadata": {
        "id": "s7MvElrkMY4M"
      },
      "source": [
        "### Run the simulation"
      ]
    },
    {
      "cell_type": "code",
      "execution_count": 5,
      "metadata": {
        "id": "YEeRha47MX8I"
      },
      "outputs": [
        {
          "name": "stdout",
          "output_type": "stream",
          "text": [
            "Simulator has 5 agents\n"
          ]
        }
      ],
      "source": [
        "# add the random agents\n",
        "rnd_agents = get_example_agents(\n",
        "    rng=simulator.rng,\n",
        "    budget=agent_budget,\n",
        "    new_agents=num_agents,\n",
        "    existing_agents=1,\n",
        ")\n",
        "simulator.add_agents(rnd_agents)\n",
        "print(f\"Simulator has {len(simulator.agents)} agents\")\n",
        "\n",
        "# run the simulation\n",
        "simulator.run_simulation()"
      ]
    },
    {
      "cell_type": "code",
      "execution_count": 7,
      "metadata": {},
      "outputs": [
        {
          "name": "stdout",
          "output_type": "stream",
          "text": [
            "0     MarketAction(action_type=<MarketActionType.ADD...\n",
            "1     MarketAction(action_type=<MarketActionType.OPE...\n",
            "2     MarketAction(action_type=<MarketActionType.OPE...\n",
            "3     MarketAction(action_type=<MarketActionType.CLO...\n",
            "4     MarketAction(action_type=<MarketActionType.OPE...\n",
            "5     MarketAction(action_type=<MarketActionType.OPE...\n",
            "6     MarketAction(action_type=<MarketActionType.OPE...\n",
            "7     MarketAction(action_type=<MarketActionType.OPE...\n",
            "8     MarketAction(action_type=<MarketActionType.CLO...\n",
            "9     MarketAction(action_type=<MarketActionType.OPE...\n",
            "10    MarketAction(action_type=<MarketActionType.OPE...\n",
            "11    MarketAction(action_type=<MarketActionType.CLO...\n",
            "12    MarketAction(action_type=<MarketActionType.CLO...\n",
            "13    MarketAction(action_type=<MarketActionType.CLO...\n",
            "14    MarketAction(action_type=<MarketActionType.CLO...\n",
            "15    MarketAction(action_type=<MarketActionType.CLO...\n",
            "16    MarketAction(action_type=<MarketActionType.CLO...\n",
            "17    MarketAction(action_type=<MarketActionType.REM...\n",
            "Name: trade_action, dtype: object\n"
          ]
        }
      ],
      "source": [
        "sim_trades = simulator.new_simulation_state.trade_updates\n",
        "print(sim_trades.trade_action)"
      ]
    },
    {
      "cell_type": "code",
      "execution_count": 15,
      "metadata": {},
      "outputs": [
        {
          "name": "stderr",
          "output_type": "stream",
          "text": [
            "/Users/dylan/code/element/elf-simulations/venv/lib/python3.8/site-packages/tqdm/auto.py:21: TqdmWarning: IProgress not found. Please update jupyter and ipywidgets. See https://ipywidgets.readthedocs.io/en/stable/user_install.html\n",
            "  from .autonotebook import tqdm as notebook_tqdm\n"
          ]
        }
      ],
      "source": [
        "from ape import accounts, chain, networks, Project\n",
        "from pathlib import Path\n",
        "import pandas as pd\n",
        "import matplotlib.pyplot as plt"
      ]
    },
    {
      "attachments": {},
      "cell_type": "markdown",
      "metadata": {},
      "source": [
        "### Apeworx Network setup"
      ]
    },
    {
      "cell_type": "code",
      "execution_count": 16,
      "metadata": {},
      "outputs": [
        {
          "name": "stdout",
          "output_type": "stream",
          "text": [
            "INFO: Connecting to existing 'anvil' process.\n"
          ]
        }
      ],
      "source": [
        "networks.parse_network_choice('ethereum:local:foundry').__enter__()\n",
        "project_root = Path.cwd().parent.parent\n",
        "project = Project(path=project_root)"
      ]
    },
    {
      "attachments": {},
      "cell_type": "markdown",
      "metadata": {},
      "source": [
        "### Generate agent accounts"
      ]
    },
    {
      "cell_type": "code",
      "execution_count": 17,
      "metadata": {},
      "outputs": [
        {
          "data": {
            "text/plain": [
              "500000000"
            ]
          },
          "execution_count": 17,
          "metadata": {},
          "output_type": "execute_result"
        }
      ],
      "source": [
        "simulator.agents[0].budget\n",
        "config.target_liquidity"
      ]
    },
    {
      "cell_type": "code",
      "execution_count": 18,
      "metadata": {},
      "outputs": [
        {
          "name": "stdout",
          "output_type": "stream",
          "text": [
            "sol_agent.alias='dev_11'\n",
            "sol_agent.alias='dev_12'\n",
            "sol_agent.alias='dev_13'\n",
            "sol_agent.alias='dev_14'\n",
            "sol_agent.alias='dev_15'\n"
          ]
        }
      ],
      "source": [
        "governance = accounts.test_accounts.generate_test_account()\n",
        "sol_agents = [governance]\n",
        "for agent_address, sim_agent in simulator.agents.items():\n",
        "    # make a fake agent with its own wallet\n",
        "    sol_agent = accounts.test_accounts.generate_test_account()\n",
        "    print(f\"{sol_agent.alias=}\")\n",
        "    sol_agent.alias = f\"agent_{agent_address}\"\n",
        "    ## give init_agent enough money to initialize the pool\n",
        "    #sol_agent.balance += int(sim_agent.budget)\n",
        "    #sol_agents.append()"
      ]
    },
    {
      "attachments": {},
      "cell_type": "markdown",
      "metadata": {},
      "source": [
        "### Deploy contracts"
      ]
    },
    {
      "cell_type": "code",
      "execution_count": null,
      "metadata": {},
      "outputs": [],
      "source": [
        "\n",
        "base_address = init_agent.deploy(project.ERC20Mintable)\n",
        "base_ERC20 = project.ERC20Mintable.at(base_address)\n",
        "\n",
        "fixed_math_address = init_agent.deploy(project.MockFixedPointMath)\n",
        "fixed_math = project.MockFixedPointMath.at(fixed_math_address)\n",
        "\n",
        "base_ERC20.mint(base_supply, sender=init_agent)\n",
        "time_stretch = fixed_math.divDown(int(1e18), t_stretch)\n",
        "\n",
        "hyperdrive_address = init_agent.deploy(\n",
        "    project.MockHyperdriveTestnet,\n",
        "    base_ERC20,\n",
        "    initial_rate,\n",
        "    share_price,\n",
        "    checkpoints,\n",
        "    checkpoint_duration,\n",
        "    int(time_stretch),\n",
        "    (curve_fee, flat_fee, gov_fee),\n",
        "    governance,\n",
        ")\n",
        "hyperdrive = project.MockHyperdriveTestnet.at(hyperdrive_address)\n",
        "\n",
        "with accounts.use_sender(init_agent):\n",
        "    base_ERC20.approve(hyperdrive, base_supply)\n",
        "    hyperdrive.initialize(base_supply, initial_apr, init_agent, False)"
      ]
    }
  ],
  "metadata": {
    "colab": {
      "include_colab_link": true,
      "private_outputs": true,
      "provenance": []
    },
    "kernelspec": {
      "display_name": "elf-env",
      "language": "python",
      "name": "python3"
    },
    "language_info": {
      "codemirror_mode": {
        "name": "ipython",
        "version": 3
      },
      "file_extension": ".py",
      "mimetype": "text/x-python",
      "name": "python",
      "nbconvert_exporter": "python",
      "pygments_lexer": "ipython3",
      "version": "3.8.16"
    },
    "vscode": {
      "interpreter": {
        "hash": "e0b3e7cfdbb0701533a1bd673e72a5f0b8ba7990b124dd57bd4db430b23dce81"
      }
    }
  },
  "nbformat": 4,
  "nbformat_minor": 0
}
