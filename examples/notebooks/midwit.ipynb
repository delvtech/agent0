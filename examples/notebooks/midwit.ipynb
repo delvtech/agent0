{
  "cells": [
    {
      "cell_type": "markdown",
      "metadata": {
        "id": "EITUXDh8Rtif"
      },
      "source": [
        "### Install repo requirements & import packages"
      ]
    },
    {
      "cell_type": "code",
      "execution_count": null,
      "metadata": {
        "id": "efreB4W-4u1q"
      },
      "outputs": [],
      "source": [
        "from __future__ import annotations\n",
        "\n",
        "import logging\n",
        "\n",
        "import numpy as np\n",
        "from numpy.random._generator import Generator\n",
        "from scipy import special\n",
        "import matplotlib.pyplot as plt\n",
        "import pandas as pd\n",
        "import time as time\n",
        "\n",
        "from elfpy import DEFAULT_LOG_MAXBYTES, WEI\n",
        "from elfpy.types import MarketActionType, MarketAction, Config\n",
        "from elfpy.simulators import Simulator\n",
        "from elfpy.agent import Agent\n",
        "from elfpy.markets import Market\n",
        "from elfpy.utils import sim_utils\n",
        "import elfpy.utils.outputs as output_utils\n",
        "import elfpy.utils.post_processing as post_processing\n",
        "from elfpy.types import MarketState, StretchedTime, Config\n",
        "from elfpy.utils.outputs import get_gridspec_subplots"
      ]
    },
    {
      "cell_type": "markdown",
      "metadata": {
        "id": "MMgaUflvLPnq"
      },
      "source": [
        "### Setup experiment parameters"
      ]
    },
    {
      "cell_type": "code",
      "execution_count": null,
      "metadata": {
        "id": "_PY2dAov5nxy"
      },
      "outputs": [],
      "source": [
        "def DSR_historical(num_dates=90):\n",
        "    dsr = pd.read_csv('https://s3-sim-repo-0.s3.us-east-2.amazonaws.com/Data/HIST_DSR_D.csv', index_col=0, infer_datetime_format=True)\n",
        "    dsr.index = pd.to_datetime(dsr.index)\n",
        "    dsr = dsr.resample('D').mean()\n",
        "    min_date = dsr.index.min()\n",
        "    max_date = dsr.index.max()\n",
        "    date_range = max_date - min_date\n",
        "    new_date_range = min_date + date_range * np.linspace(0, 1, num_dates)\n",
        "    dsr_new = dsr.reindex(new_date_range, method='ffill')\n",
        "    dsr_new = dsr_new.reset_index(drop=True)\n",
        "    return dsr_new[\"DAI_SAV_RATE\"].to_list()\n",
        "\n",
        "config = Config()\n",
        "config.random_seed=123\n",
        "config.base_asset_price=1\n",
        "\n",
        "config.log_filename = \"./hyperdrive.log\" # Output filename for logging\n",
        "\n",
        "config.log_level = \"WARNING\" # Logging level, should be in [\"DEBUG\", \"INFO\", \"WARNING\"]. ERROR to suppress all logging.\n",
        "config.pricing_model_name = \"Hyperdrive\" # can be yieldspace or hyperdrive\n",
        "\n",
        "config.num_trading_days = 90 # Number of simulated trading days, default is 180\n",
        "config.num_position_days = config.num_trading_days # term length\n",
        "config.num_blocks_per_day = 10 #7200 # Blocks in a given day (7200 means ~12 sec per block)\n",
        "config.trade_fee_percent = 0.10 # fee percent collected on trades\n",
        "config.redemption_fee_percent = 0.005 # 5 bps\n",
        "\n",
        "num_agents = 100 # int specifying how many agents you want to simulate\n",
        "trade_chance = 2/(config.num_trading_days*config.num_blocks_per_day) # on a given block, an agent will trade with probability `trade_chance`\n",
        "\n",
        "config.target_pool_apr = 0.01 # target pool APR of the initial market after the LP\n",
        "config.target_liquidity = 5_000_000 # target total liquidity of the initial market, before any trades\n",
        "\n",
        "vault_apr_init = 0.0 # Initial vault APR\n",
        "vault_apr_jump_size = 0.001 # Scale of the vault APR change (vault_apr (+/-)= jump_size)\n",
        "vault_jumps_per_year = 0#4 # The average number of jumps per year\n",
        "vault_apr_jump_direction = \"random_weighted\" # The direction of a rate change. Can be 'up', 'down', or 'random'.\n",
        "vault_apr_lower_bound = 0.01 # minimum allowable vault apr\n",
        "vault_apr_upper_bound = 0.01 # maximum allowable vault apr\n",
        "\n",
        "config.vault_apr = DSR_historical(num_dates=config.num_trading_days)"
      ]
    },
    {
      "attachments": {},
      "cell_type": "markdown",
      "metadata": {
        "id": "vGvo0aN5Mril"
      },
      "source": [
        "Create experiment configuration"
      ]
    },
    {
      "cell_type": "markdown",
      "metadata": {
        "id": "gMKQLsMiLd-_"
      },
      "source": [
        "### Setup agents"
      ]
    },
    {
      "cell_type": "code",
      "execution_count": null,
      "metadata": {
        "id": "kroJESetLW3l"
      },
      "outputs": [],
      "source": [
        "class RegularGuy(Agent):\n",
        "    \"\"\"\n",
        "    Agent that randomly opens or closes longs or shorts\n",
        "    \"\"\"\n",
        "\n",
        "    def __init__(self, rng: Generator, trade_chance: float, wallet_address: int, budget: int = 10_000) -> None:\n",
        "        \"\"\"Add custom stuff then call basic policy init\"\"\"\n",
        "        self.trade_long = True  # default to allow easy overriding\n",
        "        self.trade_short = True  # default to allow easy overriding\n",
        "        self.trade_chance = trade_chance\n",
        "        self.rng = rng\n",
        "        self.last_think_time = None\n",
        "        self.threshold = self.rng.normal(loc=0.04, scale=0.02)\n",
        "        super().__init__(wallet_address, budget)\n",
        "\n",
        "    def action(self, market: Market) -> list[MarketAction]:\n",
        "        \"\"\"Implement a random user strategy\n",
        "\n",
        "        The agent performs one of four possible trades:\n",
        "            [OPEN_LONG, OPEN_SHORT, CLOSE_LONG, CLOSE_SHORT]\n",
        "            with the condition that close actions can only be performed after open actions\n",
        "\n",
        "        The amount opened and closed is random, within constraints given by agent budget & market reserve levels\n",
        "\n",
        "        Parameters\n",
        "        ----------\n",
        "        market : Market\n",
        "            the trading market\n",
        "\n",
        "        Returns\n",
        "        -------\n",
        "        action_list : list[MarketAction]\n",
        "        \"\"\"\n",
        "        gonna_trade = self.rng.choice([True, False], p=[self.trade_chance, 1-self.trade_chance])\n",
        "        gonna_trade = True # deterministic af\n",
        "        if not gonna_trade:\n",
        "            return []\n",
        "        # User can always open a trade, and can close a trade if one is open\n",
        "        available_actions = []\n",
        "        short_list = [short.balance for short in self.wallet.shorts.values()]\n",
        "        long_list = [long.balance for long in self.wallet.longs.values()]\n",
        "        has_opened_short = bool(any((short_balance > 0 for short_balance in short_list)))\n",
        "        has_opened_long = bool(any((long_balance > 0 for long_balance in long_list)))\n",
        "        if market.rate > market.market_state.vault_apr + self.threshold:\n",
        "            # we want to make rate to go UP, so BUY PTs\n",
        "            if has_opened_short is True:\n",
        "                available_actions = [MarketActionType.CLOSE_SHORT] # buy to close\n",
        "            elif self.trade_long is True:\n",
        "                available_actions+=[MarketActionType.OPEN_LONG] # buy to open\n",
        "        else:\n",
        "            # we want to make rate go DOWN, so SELL PTs\n",
        "            if has_opened_long is True:\n",
        "                available_actions = [MarketActionType.CLOSE_LONG]\n",
        "            elif self.trade_short is True:\n",
        "                available_actions+=[MarketActionType.OPEN_SHORT] # sell to open\n",
        "        action_type = self.rng.choice(available_actions, size=1) # choose one random trade type\n",
        "        PT_needed = abs(market.pricing_model.calc_bond_reserves(\n",
        "            target_apr=market.market_state.vault_apr,\n",
        "            time_remaining=position_duration,\n",
        "            market_state=market.market_state,\n",
        "        )-market.market_state.bond_reserves)/2\n",
        "        amount_to_trade_base = min(100_000,PT_needed*market.spot_price) if PT_needed > 0 else 0\n",
        "        amount_to_trade_pt = amount_to_trade_base/market.spot_price\n",
        "        if action_type == MarketActionType.OPEN_SHORT:\n",
        "            max_short = self.get_max_short(market)\n",
        "            if max_short > WEI: # if max_short is greater than the minimum eth amount\n",
        "                trade_amount = np.maximum(WEI, np.minimum(max_short, amount_to_trade_pt)) # WEI <= trade_amount <= max_short\n",
        "                action_list = [\n",
        "                    self.create_agent_action(action_type=action_type, trade_amount=trade_amount, mint_time=market.time),\n",
        "                ]\n",
        "            else: # no short is possible\n",
        "                action_list = []\n",
        "        elif action_type == MarketActionType.OPEN_LONG:\n",
        "            max_long = self.get_max_long(market)\n",
        "            if max_long > WEI: # if max_long is greater than the minimum eth amount\n",
        "                trade_amount = np.maximum(WEI, np.minimum(max_long, amount_to_trade_base))\n",
        "                action_list = [\n",
        "                    self.create_agent_action(action_type=action_type, trade_amount=trade_amount, mint_time=market.time),\n",
        "                ]\n",
        "            else:\n",
        "                action_list = []\n",
        "        elif action_type == MarketActionType.CLOSE_SHORT:\n",
        "            # short_time = self.rng.choice(list(self.wallet.shorts)) # pick a random short\n",
        "            biggest_short = max(short_list)\n",
        "            for key, value in self.wallet.shorts.items():\n",
        "                if (value.balance >= biggest_short) or (value.balance >= amount_to_trade_pt):\n",
        "                    short_time = key\n",
        "                    break\n",
        "            trade_amount = np.maximum(WEI, np.minimum(amount_to_trade_pt, self.wallet.shorts[short_time].balance))\n",
        "            open_share_price = self.wallet.shorts[short_time].open_share_price\n",
        "            action_list = [\n",
        "                self.create_agent_action(action_type=action_type, trade_amount=trade_amount, mint_time=short_time, open_share_price=open_share_price),\n",
        "            ]\n",
        "        elif action_type == MarketActionType.CLOSE_LONG:\n",
        "            # long_time = self.rng.choice(list(self.wallet.longs)) # pick a random long\n",
        "            biggest_long = max(long_list)\n",
        "            for key, value in self.wallet.longs.items():\n",
        "                if (value.balance >= biggest_long) or (value.balance >= amount_to_trade_pt):\n",
        "                    long_time = key\n",
        "                    break\n",
        "            trade_amount = np.maximum(WEI, np.minimum(amount_to_trade_pt, self.wallet.longs[long_time].balance))\n",
        "            action_list = [\n",
        "                self.create_agent_action(action_type=action_type, trade_amount=trade_amount, mint_time=long_time),\n",
        "            ]\n",
        "        else:\n",
        "            action_list = []\n",
        "        if action_list:\n",
        "            print(\n",
        "                f\"t={market.time*365:.0f}: F:{market.rate:.3%}V:{market.market_state.vault_apr:.3%}\"\n",
        "                +f\"agent #{self.wallet.address:03.0f} is going to {action_type} of size {trade_amount}\",\n",
        "                end=\"\"\n",
        "                )\n",
        "            if self.last_think_time is not None:\n",
        "                print(f\"in {time.time() - self.last_think_time:.3f} seconds\")\n",
        "        self.last_think_time = time.time()\n",
        "        return action_list\n",
        "\n",
        "\n",
        "class LPAgent(Agent):\n",
        "    \"\"\"\n",
        "    Adds a large LP\n",
        "    \"\"\"\n",
        "    def action(self, market: Market):\n",
        "        \"\"\"\n",
        "        implement user strategy\n",
        "        LP if you can, but only do it once\n",
        "        short if you can, but only do it once\n",
        "        \"\"\"\n",
        "        if self.wallet.lp_tokens > 0: # has already opened the lp\n",
        "            action_list = []\n",
        "        else:\n",
        "            action_list = [\n",
        "                self.create_agent_action(\n",
        "                    action_type=MarketActionType.ADD_LIQUIDITY, trade_amount=self.budget\n",
        "                ),\n",
        "            ]\n",
        "        return action_list\n",
        "\n",
        "\n",
        "def get_example_agents(rng: Generator, budget: float, new_agents: int, existing_agents: int = 0, direction: str = None) -> list[Agent]:\n",
        "    \"\"\"Instantiate a set of custom agents\"\"\"\n",
        "    agents = []\n",
        "    for address in range(existing_agents, existing_agents + new_agents):\n",
        "        agent = RegularGuy(\n",
        "            rng=rng,\n",
        "            trade_chance=trade_chance,\n",
        "            wallet_address=address,\n",
        "            budget=budget,\n",
        "        )\n",
        "        if direction is not None:\n",
        "            if direction == \"short\":\n",
        "                agent.trade_long = False\n",
        "            if direction == \"long\":\n",
        "                agent.trade_short = False\n",
        "        agent.log_status_report()\n",
        "        agents += [agent]\n",
        "    return agents"
      ]
    },
    {
      "cell_type": "markdown",
      "metadata": {
        "id": "zKf-kSthMJSa"
      },
      "source": [
        "### Setup simulation objects"
      ]
    },
    {
      "cell_type": "code",
      "execution_count": null,
      "metadata": {
        "id": "xpagOoPAMJvv"
      },
      "outputs": [],
      "source": [
        "# define root logging parameters\n",
        "output_utils.setup_logging(\n",
        "    log_filename=config.log_filename,\n",
        "    log_level=output_utils.text_to_log_level(config.log_level),\n",
        ")\n",
        "\n",
        "# instantiate the pricing model\n",
        "pricing_model = sim_utils.get_pricing_model(config.pricing_model_name)\n",
        "\n",
        "# instantiate the market\n",
        "position_duration = StretchedTime(\n",
        "    days=config.num_position_days * 365,\n",
        "    time_stretch=pricing_model.calc_time_stretch(config.target_pool_apr),\n",
        "    normalizing_constant=config.num_position_days * 365,\n",
        ")\n",
        "\n",
        "init_target_liquidity = 1 # tiny amount for setting up apr\n",
        "share_reserves_direct, bond_reserves_direct = pricing_model.calc_liquidity(\n",
        "    market_state=MarketState(\n",
        "        share_price=config.init_share_price,\n",
        "        init_share_price=config.init_share_price\n",
        "    ),\n",
        "    target_liquidity=init_target_liquidity,\n",
        "    target_apr=config.target_pool_apr,\n",
        "    position_duration=position_duration,\n",
        ")\n",
        "market = Market(\n",
        "    pricing_model=pricing_model,\n",
        "    market_state=MarketState(\n",
        "        share_reserves=share_reserves_direct,\n",
        "        bond_reserves=bond_reserves_direct,\n",
        "        base_buffer=0,\n",
        "        bond_buffer=0,\n",
        "        lp_reserves=init_target_liquidity / config.init_share_price,\n",
        "        init_share_price=config.init_share_price,  # u from YieldSpace w/ Yield Baring Vaults\n",
        "        share_price=config.init_share_price,  # c from YieldSpace w/ Yield Baring Vaults\n",
        "        vault_apr=config.vault_apr[0],  # yield bearing source apr\n",
        "        trade_fee_percent=config.trade_fee_percent,  # g\n",
        "        redemption_fee_percent=config.redemption_fee_percent,\n",
        "    ),\n",
        "    position_duration=position_duration\n",
        ")\n",
        "\n",
        "# Instantiate the initial LP agent.\n",
        "current_market_liquidity = market.pricing_model.calc_total_liquidity_from_reserves_and_price(\n",
        "    market_state=market.market_state, share_price=market.market_state.share_price\n",
        ")\n",
        "lp_amount = config.target_liquidity - current_market_liquidity\n",
        "init_agents = [LPAgent(wallet_address=0, budget=lp_amount)]\n",
        "\n",
        "# initialize the simulator using only the initial LP.\n",
        "simulator = Simulator(\n",
        "    config=config,\n",
        "    market=market,\n",
        ")\n",
        "simulator.add_agents(init_agents)\n",
        "simulator.collect_and_execute_trades()\n"
      ]
    },
    {
      "cell_type": "markdown",
      "metadata": {
        "id": "s7MvElrkMY4M"
      },
      "source": [
        "### Run the simulation"
      ]
    },
    {
      "cell_type": "code",
      "execution_count": null,
      "metadata": {
        "id": "YEeRha47MX8I"
      },
      "outputs": [],
      "source": [
        "# add the random agents\n",
        "# short_agents = get_example_agents(rng=simulator.rng, budget=agent_budget, new_agents=num_agents, existing_agents=1, direction=\"short\")\n",
        "# long_agents = get_example_agents(rng=simulator.rng, budget=agent_budget, new_agents=num_agents, existing_agents=1+num_agents, direction=\"long\")\n",
        "# simulator.add_agents(short_agents + long_agents)\n",
        "regular_guy = get_example_agents(rng=simulator.rng, budget=1_000_000_000, new_agents=1, existing_agents=1)\n",
        "simulator.add_agents(regular_guy)\n",
        "print(f\"Simulator has {len(simulator.agents)} agents\")\n",
        "\n",
        "# run the simulation\n",
        "simulator.run_simulation()"
      ]
    },
    {
      "cell_type": "code",
      "execution_count": null,
      "metadata": {},
      "outputs": [],
      "source": [
        "# convert simulation state to a pandas dataframe\n",
        "trades = post_processing.compute_derived_variables(simulator)\n",
        "for col in trades:\n",
        "    if col.startswith(\"agent\") and not col.endswith(\"lp_tokens\"):\n",
        "        divisor = 1e6 # 1 million divisor for everyone\n",
        "        trades[col] = trades[col] / divisor\n",
        "print(f\"number of trades = {len(trades)}\")\n",
        "display(trades.head(5))\n",
        "print(trades.columns)"
      ]
    },
    {
      "cell_type": "code",
      "execution_count": null,
      "metadata": {},
      "outputs": [],
      "source": [
        "# aggregate data\n",
        "keep_columns = [\n",
        "    \"day\",\n",
        "]\n",
        "trades_agg = trades.groupby(keep_columns).agg(\n",
        "    {\n",
        "        'spot_price': ['mean'],\n",
        "        'delta_base_abs': ['sum','count'],\n",
        "        'share_reserves': ['mean'],\n",
        "        'bond_reserves': ['mean'],\n",
        "        'lp_reserves': ['mean'],\n",
        "        'agent_0_pnl_no_mock': ['mean'],\n",
        "    }\n",
        ")\n",
        "trades_agg.columns = [\"_\".join(col).strip() for col in trades_agg.columns.values]\n",
        "trades_agg = trades_agg.reset_index()\n",
        "display(trades_agg.head(5))"
      ]
    },
    {
      "cell_type": "markdown",
      "metadata": {
        "id": "N7sOn6dYPJos"
      },
      "source": [
        "### Plot simulation results"
      ]
    },
    {
      "attachments": {},
      "cell_type": "markdown",
      "metadata": {},
      "source": [
        "This shows the evolution of interest rates over time. The \"vault\" APR represents a theoretical underlying variable rate. Here we've mocked it up to have the same pattern as the MakerDao DAI Saving Rate over its whole history, but condensed to a 90 day period for this simulation. The fixed rate is initialized at 1% and appears to remain unchanged."
      ]
    },
    {
      "cell_type": "code",
      "execution_count": null,
      "metadata": {
        "id": "hfwElUKJPQyC"
      },
      "outputs": [],
      "source": [
        "trades.agent_0_lp_tokens"
      ]
    },
    {
      "cell_type": "code",
      "execution_count": null,
      "metadata": {},
      "outputs": [],
      "source": [
        "exclude_first_trade = True\n",
        "exclude_last_trade = True\n",
        "fig, ax = plt.subplots(4,1, sharex=True, gridspec_kw={'wspace': 0.3, 'hspace': 0.0}, figsize=(10,10))\n",
        "start_idx = 1 if exclude_first_trade is True else 0\n",
        "first_trade_that_is_on_last_day = min(trades.index[trades.day == max(trades.day)])\n",
        "end_idx = first_trade_that_is_on_last_day - 1 if exclude_last_trade is True else len(trades)\n",
        "\n",
        "# first subplot\n",
        "trades.iloc[start_idx:end_idx].plot(x=\"index\", y=['share_reserves','bond_reserves','lp_reserves','agent_0_lp_tokens'], ax=ax[0])\n",
        "ax[0].set_ylabel(\"# of tokens\")\n",
        "ax[0].get_lines()[3].set_linestyle(\"--\")\n",
        "\n",
        "# second subplot\n",
        "ax[1] = trades.iloc[start_idx:end_idx].plot(x=\"index\", y=['pool_apr','vault_apr'], ax=ax[1])\n",
        "ax[1].legend(loc='best')\n",
        "\n",
        "# third subplot\n",
        "trades.iloc[start_idx:end_idx].plot(x=\"index\", y=['spot_price'], ax=ax[2])\n",
        "\n",
        "# fourth subplot\n",
        "l = trades.iloc[start_idx:end_idx].plot(x=\"index\", y=['agent_0_pnl_no_mock'], ax=ax[3])\n",
        "# ax[3].set_yticklabels([f\"{(i):.0%}\" for i in ax[1].get_yticks()])\n",
        "ax[3].set_xlabel(\"Trade\")\n",
        "r = trades.iloc[start_idx:end_idx].plot(x=\"index\", y=['agent_1_pnl_no_mock'], ax=ax[3], secondary_y=True)\n",
        "# axis = trades.iloc[start_idx:end_idx].plot(x=\"index\", y=['agent_0_pnl_no_mock'], ax=ax[3], linestyle='dotted', color='k')\n",
        "# axis = trades.iloc[start_idx:end_idx].plot(x=\"index\", y=['agent_1_pnl_no_mock'], ax=ax[3], linestyle='dotted', color='k', secondary_y=True)\n",
        "second_ax = ax[3].right_ax\n",
        "\n",
        "plt.show()"
      ]
    },
    {
      "attachments": {},
      "cell_type": "markdown",
      "metadata": {},
      "source": [
        "These random agents are unable to pick smart entry points. Due to trading on coinflips only, they slowdly bleed fees out of their starting position, which in this case reduces from 1.0 million down to 0.999, a loss of $1k."
      ]
    },
    {
      "cell_type": "code",
      "execution_count": null,
      "metadata": {},
      "outputs": [],
      "source": [
        "def get_pnl_excluding_agent_0_no_mock_with_day(trades_df: pd.DataFrame) -> pd.DataFrame:\n",
        "    \"\"\"Returns Profit and Loss Column for every agent except for agent 0 from post-processing\"\"\"\n",
        "    cols_to_return = ['day']+[col for col in trades_df if col.startswith(\"agent\") and col.endswith(\"pnl_no_mock\")]\n",
        "    cols_to_return.remove(\"agent_0_pnl_no_mock\")\n",
        "    return trades_df[cols_to_return]\n",
        "\n",
        "def plot_pnl(pnl, ax, label, last_day):\n",
        "    # ax.plot(pnl.iloc[1:,:], linestyle='-', linewidth=0.5, alpha=0.5)\n",
        "    # separate first half of agents, which are set to trade short\n",
        "    # from second half of agents, which are set to trade long\n",
        "    columns = pnl.columns.to_list()\n",
        "    if len(columns)==1:\n",
        "        ax.plot(pnl.iloc[1:,:], c='black', label=f\"{label}, final_value={pnl.iloc[-1,0]:.5f}\", linewidth=2)\n",
        "    else:\n",
        "        n = int(len(columns)/2)\n",
        "        short_pnl = pnl.loc[1:, columns[:n]].mean(axis=1)\n",
        "        long_pnl = pnl.loc[1:, columns[n:]].mean(axis=1)\n",
        "        ax.plot(short_pnl, c='red', label=f\"Short {label}, final value={short_pnl.iloc[-1,0]:.5f}\", linewidth=2)\n",
        "        ax.plot(long_pnl, c='black', label=f\"Long {label}, final_value={long_pnl.iloc[-1,0]:.5f}\", linewidth=2)\n",
        "    # grey area where day is last day\n",
        "    ax.set_ylabel('PNL in millions')\n",
        "    # ax.axvspan(last_day, len(short_pnl), color='grey', alpha=0.2, label=\"Last day\")\n",
        "    ax.legend()\n",
        "\n",
        "fig, ax = plt.subplots(1, 1, figsize=(6, 5), sharex=True, gridspec_kw={'wspace': 0.0, 'hspace': 0.0})\n",
        "first_trade_that_is_on_last_day = min(trades.index[trades.day == max(trades.day)])\n",
        "# data_mock = post_processing.get_pnl_excluding_agent_0(trades)\n",
        "data_no_mock = get_pnl_excluding_agent_0_no_mock_with_day(trades).groupby('day').mean()\n",
        "# plot_pnl(pnl=data_mock,label='Mock',ax=ax[0],last_day=first_trade_that_is_on_last_day)\n",
        "plot_pnl(pnl=data_no_mock,label=\"Realized Market Value\",ax=ax,last_day=first_trade_that_is_on_last_day)\n",
        "\n",
        "xtick_step = 10\n",
        "ax.set_xticks([0]+[x for x in range(9, config.num_trading_days + 1, xtick_step)])\n",
        "ax.set_xticklabels(['1']+[str(x+1) for x in range(9, config.num_trading_days + 1, xtick_step)])\n",
        "\n",
        "plt.gca().set_xlabel(\"Day\")\n",
        "plt.gca().set_title('Trader PNL over time')\n",
        "# display(data_no_mock)\n",
        "plt.show()"
      ]
    },
    {
      "attachments": {},
      "cell_type": "markdown",
      "metadata": {},
      "source": [
        "This plot shows being a Liquidity Provider (LP) is a profitable position, in this scenario where agents are trading randomly."
      ]
    },
    {
      "cell_type": "code",
      "execution_count": null,
      "metadata": {},
      "outputs": [],
      "source": [
        "display(trades_agg.columns)\n",
        "fig, ax = plt.subplots(3,1,figsize=(6, 15))\n",
        "exclude_last_day = False\n",
        "exclude_first_day = False\n",
        "num_agents = 1\n",
        "start_idx = 0 if exclude_first_day is False else 1\n",
        "first_trade_that_is_on_last_day = min(trades_agg.index[trades_agg.day == max(trades_agg.day)])\n",
        "end_idx = len(trades_agg) - 2 if exclude_last_day is True else len(trades_agg)-1\n",
        "data = trades_agg.loc[start_idx:end_idx,\"agent_0_pnl_no_mock_mean\"]\n",
        "\n",
        "# first subplot\n",
        "ax[0].plot(trades_agg.loc[start_idx:end_idx,\"day\"], data, label=f\"mean = {trades_agg.loc[end_idx,'agent_0_pnl_no_mock_mean']:.3f}\")\n",
        "ax[0].set_title(\"LP PNL Over Time\")\n",
        "ax[0].set_ylabel(\"PNL\")\n",
        "ax[0].set_xlabel(\"Day\")\n",
        "xtick_step = 10\n",
        "ax[0].set_xticks([0]+[x for x in range(9, config.num_trading_days + 1, xtick_step)])\n",
        "ax[0].set_xticklabels(['1']+[str(x+1) for x in range(9, config.num_trading_days + 1, xtick_step)])\n",
        "ax[0].legend({f\"final value = {data.values[len(data)-1]:,.3f}\"})\n",
        "ax[0].set_ylabel(\"PnL in millions\")\n",
        "\n",
        "# second subplot\n",
        "ax[1].bar(trades_agg.loc[start_idx:end_idx,\"day\"],\\\n",
        "    trades_agg.loc[start_idx:end_idx,\"delta_base_abs_sum\"],\\\n",
        "    label=f\"mean = {trades_agg.loc[start_idx:end_idx,'delta_base_abs_sum'].mean():,.0f}\")\n",
        "ax[1].legend(loc='best')\n",
        "ax[1].set_title(\"Market Volume\")\n",
        "ax[1].set_ylabel(\"Base\")\n",
        "ax[1].set_xlabel(\"Day\")\n",
        "xtick_step = 10\n",
        "ax[1].set_xticks([0]+[x for x in range(9, config.num_trading_days + 1, xtick_step)])\n",
        "ax[1].set_xticklabels(['1']+[str(x+1) for x in range(9, config.num_trading_days + 1, xtick_step)])\n",
        "ylim = ax[1].get_ylim()\n",
        "ax[1].set_ylim(0, ylim[1])\n",
        "\n",
        "# third subplot\n",
        "ax[2].bar(trades_agg.loc[start_idx:end_idx,\"day\"],\\\n",
        "    trades_agg.loc[start_idx:end_idx,\"delta_base_abs_count\"],\\\n",
        "    label=f\"mean = {trades_agg.loc[start_idx:end_idx,'delta_base_abs_count'].mean():,.1f}\")\n",
        "ax[2].legend(loc='best')\n",
        "ax[2].set_title(\"# of trades\")\n",
        "ax[2].set_xlabel(\"Day\")\n",
        "xtick_step = 10\n",
        "ax[2].set_xticks([0]+[x for x in range(9, config.num_trading_days + 1, xtick_step)])\n",
        "ax[2].set_xticklabels(['1']+[str(x+1) for x in range(9, config.num_trading_days + 1, xtick_step)])\n",
        "ylim = ax[2].get_ylim()\n",
        "ax[2].set_ylim(0, ylim[1])\n",
        "\n",
        "plt.show()"
      ]
    },
    {
      "attachments": {},
      "cell_type": "markdown",
      "metadata": {},
      "source": [
        "## We are constantly updating our research. Stay tuned for more!"
      ]
    },
    {
      "attachments": {},
      "cell_type": "markdown",
      "metadata": {},
      "source": [
        "TODO:\n",
        "- parameter optimization\n",
        "- smart agents\n",
        "- multiple simulation trial runs to evaluate LP profitability\n",
        "- simulate Aave, Compound, MakerDao, etc."
      ]
    }
  ],
  "metadata": {
    "colab": {
      "include_colab_link": true,
      "private_outputs": true,
      "provenance": []
    },
    "kernelspec": {
      "display_name": "elf-env",
      "language": "python",
      "name": "python3"
    },
    "language_info": {
      "codemirror_mode": {
        "name": "ipython",
        "version": 3
      },
      "file_extension": ".py",
      "mimetype": "text/x-python",
      "name": "python",
      "nbconvert_exporter": "python",
      "pygments_lexer": "ipython3",
      "version": "3.8.16"
    },
    "vscode": {
      "interpreter": {
        "hash": "e0b3e7cfdbb0701533a1bd673e72a5f0b8ba7990b124dd57bd4db430b23dce81"
      }
    }
  },
  "nbformat": 4,
  "nbformat_minor": 0
}
