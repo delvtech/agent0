{
 "cells": [
  {
   "cell_type": "code",
   "execution_count": null,
   "metadata": {},
   "outputs": [],
   "source": [
    "import math\n",
    "import matplotlib.pyplot as plt"
   ]
  },
  {
   "cell_type": "code",
   "execution_count": null,
   "metadata": {},
   "outputs": [],
   "source": [
    "## Outputs the amount received buying a zcb\n",
    "def yield_buy(amount, time, fee, reserve_zc, reserve_u):\n",
    "    a = 1 - time/fee\n",
    "    x_start = math.pow(reserve_u, a)\n",
    "    x_end = math.pow(reserve_u + amount, a)\n",
    "    y_start = math.pow(reserve_zc, a)\n",
    "    y_end = math.pow(x_start+y_start-x_end, 1/(1-time/fee))\n",
    "    return (reserve_zc - y_end)\n",
    "\n",
    "def yield_sell(amount, time, fee, reserve_zc, reserve_u):\n",
    "    a = 1 - time/fee\n",
    "    x_start = math.pow(reserve_u, a)\n",
    "    y_end = math.pow(reserve_zc + amount, a)\n",
    "    y_start = math.pow(reserve_zc, a)\n",
    "    x_end = math.pow(x_start+y_start-y_end, 1/(1-time/fee))\n",
    "    return (reserve_u - x_end)\n"
   ]
  },
  {
   "cell_type": "code",
   "execution_count": null,
   "metadata": {},
   "outputs": [],
   "source": [
    "print(yield_buy(100.0, 0.5, 0.95, 100.0, 100.0))"
   ]
  },
  {
   "cell_type": "code",
   "execution_count": null,
   "metadata": {},
   "outputs": [],
   "source": [
    "print(1/yield_buy(1.0, 0.25, 1, 123000.0, 100000.0))"
   ]
  },
  {
   "cell_type": "code",
   "execution_count": null,
   "metadata": {},
   "outputs": [],
   "source": [
    "months = ['Jan', 'Feb', 'Mar', 'Apr', 'May', 'Jun', 'Jul','Aug', 'Sep', 'Oct', 'Nov', 'Dec']\n",
    "\n",
    "fee = 1\n",
    "\n",
    "slippage = [[] for i in range(1,12)]\n",
    "\n",
    "for j in range(1, 11):\n",
    "    \n",
    "    real_price = []\n",
    "    price_10k = []\n",
    "    fyt_reserve = j*123000.0\n",
    "    dai_reserve = j*100000.0\n",
    "        \n",
    "    for i in range(1, 13):\n",
    "        time = 0.10 - (i/12)*0.10\n",
    "        refrence_price = 1/yield_buy(1.0, time, fee, fyt_reserve, dai_reserve)\n",
    "        amount_dai = 1000\n",
    "        amount = yield_buy(amount_dai, time, fee, fyt_reserve, dai_reserve)\n",
    "        price = amount_dai/amount\n",
    "        slippage[j].append((price - refrence_price)/refrence_price)\n",
    "        real_price.append(refrence_price)\n",
    "        price_10k.append(price)\n",
    "        \n",
    "    plt.plot(months, real_price)\n",
    "    plt.plot(months, price_10k)\n",
    "    plt.show()\n",
    "\n",
    "for j in range(1, 11):\n",
    "    plt.plot(months, slippage[j])\n",
    "plt.show()"
   ]
  },
  {
   "cell_type": "code",
   "execution_count": null,
   "metadata": {},
   "outputs": [],
   "source": [
    "months = ['Jan', 'Feb', 'Mar', 'Apr', 'May', 'Jun', 'Jul','Aug', 'Sep', 'Oct', 'Nov', 'Dec']\n",
    "\n",
    "fee = 1\n",
    "\n",
    "slippage = [[] for i in range(1,12)]\n",
    "\n",
    "for j in range(1, 11):\n",
    "    \n",
    "    real_price = []\n",
    "    price_10k = []\n",
    "    fyt_reserve = j*123000.0\n",
    "    dai_reserve = j*100000.0\n",
    "        \n",
    "    for i in range(1, 13):\n",
    "        time = 0.10 - (i/12)*0.10\n",
    "        refrence_price = yield_sell(1.0, time, fee, fyt_reserve, dai_reserve)\n",
    "        amount_dai = 1000\n",
    "        amount = yield_sell(amount_dai, time, fee, fyt_reserve, dai_reserve)\n",
    "        price = amount/amount_dai\n",
    "        slippage[j].append((price - refrence_price)/refrence_price)\n",
    "        real_price.append(refrence_price)\n",
    "        price_10k.append(price)\n",
    "        \n",
    "    plt.plot(months, real_price)\n",
    "    plt.plot(months, price_10k)\n",
    "    plt.show()\n",
    "\n",
    "for j in range(1, 11):\n",
    "    plt.plot(months, slippage[j])\n",
    "plt.show()"
   ]
  },
  {
   "cell_type": "code",
   "execution_count": null,
   "metadata": {},
   "outputs": [],
   "source": [
    "sell_slippage = []\n",
    "buy_slippage = []\n",
    "implied_price = []\n",
    "\n",
    "time = 0.10\n",
    "fee = 0.95\n",
    "\n",
    "for j in range(1, 31):\n",
    "    \n",
    "    fyt_reserve = j*100000.0\n",
    "    dai_reserve = 100000.0\n",
    "    \n",
    "    refrence_price = 1/yield_buy(1.0, time, fee, fyt_reserve, dai_reserve)\n",
    "    ## trade a fixed 5% of the reserve value\n",
    "    amount_dai = 0.05*(fyt_reserve*refrence_price + dai_reserve)\n",
    "\n",
    "    ## Calculate the buy slippage\n",
    "    refrence_price = 1/yield_buy(1.0, time, fee, fyt_reserve, dai_reserve)\n",
    "    amount = yield_buy(amount_dai, time, fee, fyt_reserve, dai_reserve)\n",
    "    price = amount_dai/amount\n",
    "    buy_slippage.append((price - refrence_price)/refrence_price)\n",
    "\n",
    "    \n",
    "    ## Calculate the sell slippage\n",
    "    ## The amount of fyt which is the same value as the dai\n",
    "    amount_fyt = amount_dai/refrence_price\n",
    "    ## Get\n",
    "    refrence_price = yield_sell(1.0, time, fee, fyt_reserve, dai_reserve)\n",
    "    amount = yield_sell(amount_fyt, time, fee, fyt_reserve, dai_reserve)\n",
    "    price = amount/amount_fyt\n",
    "    sell_slippage.append((price - refrence_price)/refrence_price)\n",
    "    \n",
    "    implied_price.append(refrence_price)\n",
    "    \n",
    "plt.plot(sell_slippage)\n",
    "plt.plot(buy_slippage)\n",
    "plt.title(\"Slippage on a 5% buy vs 5% sell\")\n",
    "plt.ylabel(\"Slippage\")\n",
    "plt.xlabel(\"FYT Reserve divided by Dai Reserve\")\n",
    "plt.show()\n",
    "\n",
    "plt.plot(implied_price)\n",
    "plt.title(\"Implied price in Unbalanced Reserves\")\n",
    "plt.ylabel(\"FYT Price\")\n",
    "plt.xlabel(\"FYT Reserve divided by Dai Reserve\")\n",
    "plt.show()"
   ]
  }
 ],
 "metadata": {
  "kernelspec": {
   "display_name": "Python 3.9.6 64-bit",
   "language": "python",
   "name": "python3"
  },
  "language_info": {
   "codemirror_mode": {
    "name": "ipython",
    "version": 3
   },
   "file_extension": ".py",
   "mimetype": "text/x-python",
   "name": "python",
   "nbconvert_exporter": "python",
   "pygments_lexer": "ipython3",
   "version": "3.9.6"
  },
  "vscode": {
   "interpreter": {
    "hash": "31f2aee4e71d21fbe5cf8b01ff0e069b9275f58929596ceb00d14d90e3e16cd6"
   }
  }
 },
 "nbformat": 4,
 "nbformat_minor": 4
}
