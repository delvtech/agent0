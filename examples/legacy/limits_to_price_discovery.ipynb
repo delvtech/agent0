{
 "cells": [
  {
   "cell_type": "code",
   "execution_count": null,
   "metadata": {
    "scrolled": true
   },
   "outputs": [],
   "source": [
    "import math\n",
    "\n",
    "def calc_x_reserves(APY,y_reserves,days_until_maturity,time_stretch):\n",
    "    t=days_until_maturity/(365*time_stretch)\n",
    "    T=days_until_maturity/365\n",
    "    return y_reserves*(-(2/((1-T*APY/100)**(1/t)-1))-2)\n",
    "\n",
    "def calc_price(x_reserves,y_reserves,total_supply,days_until_maturity,time_stretch):\n",
    "  t=days_until_maturity/(365*time_stretch)\n",
    "  return 1/((y_reserves + total_supply)/x_reserves)**t\n",
    "\n",
    "def calc_k(in_reserves,out_reserves,t):\n",
    "  return pow(in_reserves,1-t) + pow(out_reserves,1-t)\n",
    "\n",
    "def calc_apy(price,days_until_maturity):\n",
    "  T=days_until_maturity/365\n",
    "  return (1-price)/T * 100\n",
    "\n",
    "def is_trade_valid(in_,in_reserves,out_reserves,t):\n",
    "  k = pow(in_reserves,1-t) + pow(out_reserves,1-t)\n",
    "  check = math.log(k)/math.log(in_reserves + in_) + t\n",
    "  return True if check >= 1 else False\n",
    "\n",
    "def calc_max_trade(in_reserves,out_reserves,t):\n",
    "  k = pow(in_reserves,1-t) + pow(out_reserves,1-t)\n",
    "  return k**(1/(1-t)) - in_reserves\n",
    "\n",
    "def calc_out_given_in(in_,in_reserves,out_reserves,token_out,g,t):\n",
    "        k=pow(in_reserves,1-t) + pow(out_reserves,1-t)\n",
    "        without_fee = out_reserves - pow(k-pow(in_reserves+in_,1-t),1/(1-t))\n",
    "        if token_out == \"base\":\n",
    "            fee =  (in_-without_fee)*g\n",
    "            with_fee = without_fee-fee\n",
    "        elif token_out == \"fyt\":\n",
    "            fee =  (without_fee-in_)*g\n",
    "            with_fee = without_fee-fee   \n",
    "        return (with_fee,without_fee,fee)\n",
    "    "
   ]
  },
  {
   "cell_type": "code",
   "execution_count": null,
   "metadata": {
    "scrolled": false
   },
   "outputs": [],
   "source": [
    "APY = 25\n",
    "days_until_maturity = 90\n",
    "time_stretch = 4.43\n",
    "y_reserves = 100\n",
    "x_reserves = calc_x_reserves(APY,y_reserves,days_until_maturity,time_stretch)\n",
    "print(\"(APY,y_reserves,days_until_maturity,time_stretch): \"+str((APY,y_reserves,days_until_maturity,time_stretch)))\n",
    "print(\"required x_reserves: \" + str(x_reserves))\n",
    "total_supply=x_reserves+y_reserves\n",
    "price=calc_price(x_reserves,y_reserves,total_supply,days_until_maturity,time_stretch)\n",
    "print(\"resulting price: \" + str(price))\n",
    "print(\"check apy: \" + str(calc_apy(price,days_until_maturity)))\n",
    "\n",
    "amount=106\n",
    "g=0.1\n",
    "t=days_until_maturity/(365*time_stretch)\n",
    "(with_fee,without_fee,fee)=calc_out_given_in(amount,y_reserves+total_supply,x_reserves,\"base\",g,t)\n",
    "without_slippage_or_fee = price * amount\n",
    "slippage = abs(without_slippage_or_fee-without_fee)\n",
    "print(\"\\nTrade size: \" + str(amount))\n",
    "print(\"Price w/o slippage: \" + str(without_slippage_or_fee))\n",
    "print(\"Price with slippage: \" + str(without_fee))\n",
    "print(\"Price with slippage and fee: \" + str(with_fee))\n",
    "print(\"Total fee: \" + str(fee))\n",
    "print(\"Percent slippage: \" + str(slippage/without_slippage_or_fee * 100))\n",
    "print(\"check apy: \" + str(calc_apy(with_fee/amount,days_until_maturity)))\n",
    "print(\"x_reserves = {:} vs price_with_slippage_fee = {:}\".format(x_reserves, with_fee))\n",
    "print(\"is valid trade = {:}\".format(is_trade_valid(amount,y_reserves+total_supply,x_reserves,t)))\n",
    "print(\"max valid trade = {:}\".format(calc_max_trade(y_reserves+total_supply,x_reserves,t)))\n",
    "\n",
    "amount=95\n",
    "g=0.1\n",
    "t=days_until_maturity/(365*time_stretch)\n",
    "\n",
    "(with_fee,without_fee,fee)=calc_out_given_in(amount,x_reserves,y_reserves+total_supply,\"fyt\",g,t)\n",
    "price=calc_price(x_reserves+amount,y_reserves-with_fee,total_supply,days_until_maturity,time_stretch)\n",
    "without_slippage_or_fee = price * amount\n",
    "slippage = abs(without_slippage_or_fee-without_fee)\n",
    "print(\"\\nTrade size: \" + str(amount))\n",
    "print(\"Price w/o slippage: \" + str(without_slippage_or_fee))\n",
    "print(\"Price with slippage: \" + str(without_fee))\n",
    "print(\"Price with slippage and fee: \" + str(with_fee))\n",
    "print(\"Total fee: \" + str(fee))\n",
    "print(\"Percent slippage: \" + str(slippage/without_slippage_or_fee * 100))\n",
    "\n",
    "print(\"check apy: \" + str(calc_apy(price,days_until_maturity)))\n",
    "print(\"x_reserves = {:} vs price_with_slippage_fee = {:}\".format(x_reserves, with_fee))\n",
    "print(\"is valid trade = {:}\".format(is_trade_valid(amount,y_reserves+total_supply,x_reserves,t)))\n",
    "\n",
    "\n",
    "\n"
   ]
  },
  {
   "cell_type": "code",
   "execution_count": null,
   "metadata": {
    "scrolled": true
   },
   "outputs": [],
   "source": [
    "APY = 1\n",
    "tranche_length = 30\n",
    "days_until_maturity = tranche_length\n",
    "time_stretch = 5\n",
    "y_reserves = 50\n",
    "x_reserves = calc_x_reserves(APY,y_reserves,tranche_length,time_stretch)\n",
    "total_supply=x_reserves+y_reserves\n",
    "print(\"required x_reserves: \" + str(x_reserves))\n",
    "g=0.05\n",
    "t=days_until_maturity/(365*time_stretch)\n",
    "k=calc_k(y_reserves+total_supply,x_reserves,t)\n",
    "print(\"k: \" + str(k))\n",
    "print(\"k^(1/(1-t)): \" + str(k**(1/(1-t))))\n",
    "max_trade = calc_max_trade(y_reserves+total_supply,x_reserves,t) - .0001\n",
    "print(\"max valid trade = {:}\".format(max_trade))\n",
    "(with_fee,without_fee,fee)=calc_out_given_in(max_trade,y_reserves+total_supply,x_reserves,\"base\",g,t)\n",
    "print(\"Total Price after max trade: \" + str(without_fee))\n",
    "unit_price = without_fee/max_trade\n",
    "print(\"Unit Price after max trade: \" + str(unit_price))\n",
    "resulting_apy=calc_apy(unit_price,days_until_maturity)\n",
    "print(\"resulting apy: \" + str(resulting_apy))\n",
    "(resulting_apy-APY)/APY * 100\n"
   ]
  },
  {
   "cell_type": "code",
   "execution_count": null,
   "metadata": {
    "scrolled": false
   },
   "outputs": [],
   "source": [
    "import matplotlib.pyplot as plt\n",
    "import numpy as np\n",
    "fig, ax = plt.subplots(figsize=(12,12))\n",
    "time_stretch=1\n",
    "\n",
    "for tranche_length in [30,60,120]:\n",
    "    apy_data = []\n",
    "    x_reserves_data = []\n",
    "    for APY in np.arange(1, 51, 1):\n",
    "      days_until_maturity = tranche_length\n",
    "      y_reserves=100\n",
    "      x_reserves = calc_x_reserves(APY,y_reserves,days_until_maturity,time_stretch)\n",
    "      apy_data.append(APY)\n",
    "      x_reserves_data.append(x_reserves/y_reserves)\n",
    "\n",
    "    x=apy_data\n",
    "    y=x_reserves_data\n",
    "    ax.set_xlabel(\"PT APY\",fontsize=18)\n",
    "    ax.set_ylabel(\"Base Reserves to PT Reserves Ratio\",fontsize=18)\n",
    "    ax.set_xticks(np.arange(0, 51, 1))\n",
    "    ax.set_ylim(0,50)\n",
    "    ax.set_yticks(np.arange(0, 51, 5))\n",
    "    #ax.set_yticks(np.arange(0, 105, 5))\n",
    "    ax.plot(x, y,label=tranche_length)\n",
    "    ax.legend(title=\"Term Length\")\n",
    "plt.title(\"Reserves Ratio Vs PT APY\",fontsize=20 )\n",
    "plt.grid(b=True, which='major', color='#666666', linestyle='-',alpha=0.2)\n",
    "plt.show()"
   ]
  },
  {
   "cell_type": "code",
   "execution_count": null,
   "metadata": {
    "scrolled": false
   },
   "outputs": [],
   "source": [
    "import matplotlib.pyplot as plt\n",
    "import numpy as np\n",
    "fig, ax = plt.subplots(figsize=(12,12))\n",
    "\n",
    "for time_stretch in [1,3,5,10,20,30,40]:\n",
    "    apy_data = []\n",
    "    x_reserves_data = []\n",
    "    for APY in np.arange(1, 51, 1):\n",
    "      days_until_maturity = 30\n",
    "      y_reserves=100\n",
    "      x_reserves = calc_x_reserves(APY,y_reserves,days_until_maturity,time_stretch)\n",
    "      apy_data.append(APY)\n",
    "      x_reserves_data.append(x_reserves/y_reserves)\n",
    "\n",
    "    x=apy_data\n",
    "    y=x_reserves_data\n",
    "    ax.set_xlabel(\"PT APY\",fontsize=18)\n",
    "    ax.set_ylabel(\"Base Reserves to PT Reserves Ratio\",fontsize=18)\n",
    "    ax.set_xticks(np.arange(0, 51, 1))\n",
    "    ax.set_ylim(0,10)\n",
    "    ax.set_yticks(np.arange(0, 11, 1))\n",
    "    ax.plot(x, y,label=time_stretch)\n",
    "    ax.legend(title=\"Time Stretch\")\n",
    "plt.title(\"Reserves Ratio Vs PT APY\",fontsize=20 )\n",
    "plt.grid(b=True, which='major', color='#666666', linestyle='-',alpha=0.2)\n",
    "plt.show()"
   ]
  },
  {
   "cell_type": "code",
   "execution_count": null,
   "metadata": {
    "scrolled": true
   },
   "outputs": [],
   "source": [
    "import numpy as np\n",
    "import matplotlib.pyplot as plt\n",
    "\n",
    "APY = 20\n",
    "days_until_maturity = 90\n",
    "time_stretch = 5\n",
    "y_reserves = 100\n",
    "x_reserves = calc_x_reserves(APY,y_reserves,days_until_maturity,time_stretch)\n",
    "total_supply=x_reserves+y_reserves\n",
    "epsilon=.0000001\n",
    "\n",
    "times = []\n",
    "max_trade_amounts = []\n",
    "\n",
    "for t in np.arange(328, 0, -.1):\n",
    "  times.append(t/365)\n",
    "  max_trade = calc_max_trade(y_reserves+total_supply,x_reserves,t/365)-epsilon\n",
    "  max_trade_amounts.append(max_trade)\n",
    "\n",
    "\n",
    "fig, ax = plt.subplots(figsize=(12,12))\n",
    "\n",
    "x=times\n",
    "y=max_trade_amounts\n",
    "ax.set_title(\"Max Allowable Input FYT Trade Size vs t-Param\\n(base_reserves,fyt_reserves)=({:.2f},{:.2f})\".format(x_reserves,y_reserves),fontsize=18)\n",
    "ax.set_xlabel(\"t\",fontsize=18)\n",
    "ax.set_ylabel(\"Max Input FYT Trade Size\",fontsize=18)\n",
    "ax.invert_xaxis()\n",
    "ax.plot(x, y)"
   ]
  },
  {
   "cell_type": "code",
   "execution_count": null,
   "metadata": {
    "scrolled": true
   },
   "outputs": [],
   "source": [
    "import matplotlib.pyplot as plt\n",
    "import numpy as np\n",
    "APY = 20\n",
    "days_until_maturity = 90\n",
    "time_stretch = 5\n",
    "y_reserves = 100\n",
    "x_reserves = calc_x_reserves(APY,y_reserves,days_until_maturity,time_stretch)\n",
    "total_supply=x_reserves+y_reserves\n",
    "epsilon=.0000001\n",
    "g=.1\n",
    "times = []\n",
    "days_until_maturity_list = []\n",
    "max_trade_amounts = []\n",
    "resulting_apys = []\n",
    "\n",
    "for t in np.arange(days_until_maturity, 0, -.1):\n",
    "  times.append(t/(365*time_stretch))\n",
    "  days_until_maturity_list.append(t)\n",
    "  max_trade = calc_max_trade(y_reserves+total_supply,x_reserves,t/(365*time_stretch))-epsilon\n",
    "  max_trade_amounts.append(max_trade)\n",
    "  (with_fee,without_fee,fee)=calc_out_given_in(max_trade,y_reserves+total_supply,x_reserves,\"base\",g,t/(365*time_stretch))\n",
    "  resulting_apy=calc_apy(without_fee/max_trade,t)\n",
    "  resulting_apys.append((resulting_apy-APY)/APY * 100)\n",
    "\n",
    "fig, ax1 = plt.subplots(figsize=(12,12))\n",
    "ax2 = ax1.twinx()\n",
    "\n",
    "x = days_until_maturity_list\n",
    "y1 = max_trade_amounts\n",
    "ax1.set_title(\"Days Until Maturity vs Max Allowable Input FYT Trade Size vs Max % Change in Implied APY\\n\\n(base_reserves, fyt_reserves)=({:.2f}, {:.2f})\\ntime_stretch={:}\".format(x_reserves,y_reserves,time_stretch),fontsize=18)\n",
    "ax1.set_xlabel(\"Days Until Maturity\",fontsize=18)\n",
    "ax1.set_ylabel(\"Max Input FYT Trade Size\",fontsize=18,color='b')\n",
    "ax1.invert_xaxis()\n",
    "ax1.plot(x, y1,'b-')\n",
    "\n",
    "y2 = resulting_apys\n",
    "ax2.set_ylabel(\"Max % Change in Implied APY\",fontsize=18,color='g')\n",
    "ax2.plot(x, y2,'g-')"
   ]
  },
  {
   "cell_type": "code",
   "execution_count": null,
   "metadata": {
    "scrolled": false
   },
   "outputs": [],
   "source": [
    "\n",
    "import matplotlib.pyplot as plt\n",
    "import numpy as np\n",
    "\n",
    "for time_stretch in [20,30,40]:\n",
    "  fig, ax1 = plt.subplots(figsize=(12,12))\n",
    "  APY = 1.7\n",
    "  days_until_maturity = 180\n",
    "  y_reserves = 50\n",
    "  x_reserves = calc_x_reserves(APY,y_reserves,days_until_maturity,time_stretch)\n",
    "  total_supply=x_reserves+y_reserves\n",
    "  epsilon=.0000001\n",
    "  g=.1\n",
    "  times = []\n",
    "  days_until_maturity_list = []\n",
    "  max_trade_amounts = []\n",
    "  resulting_apys = []\n",
    "\n",
    "  for t in np.arange(days_until_maturity, 0, -.1):\n",
    "    times.append(t/(365*time_stretch))\n",
    "    days_until_maturity_list.append(t)\n",
    "    max_trade = calc_max_trade(y_reserves+total_supply,x_reserves,t/(365*time_stretch))-epsilon\n",
    "    max_trade_amounts.append(max_trade)\n",
    "    (with_fee,without_fee,fee)=calc_out_given_in(max_trade,y_reserves+total_supply,x_reserves,\"base\",g,t/(365*time_stretch))\n",
    "    resulting_apy=calc_apy(without_fee/max_trade,t)\n",
    "    resulting_apys.append((resulting_apy-APY)/APY * 100)\n",
    "\n",
    "\n",
    "  ax2 = ax1.twinx()\n",
    "\n",
    "  x = days_until_maturity_list\n",
    "  y1 = max_trade_amounts\n",
    "  ax1.set_title(\"Days Until Maturity vs Max Allowable Input FYT Trade Size vs Max % Change in Implied APY\\n\\nAPY={:.2f}%\\n(base_reserves, fyt_reserves)=({:.2f}, {:.2f})\\ntime_stretch={:}\".format(APY,x_reserves,y_reserves,time_stretch),fontsize=18)\n",
    "  ax1.set_xlabel(\"Days Until Maturity\",fontsize=18)\n",
    "  ax1.set_ylabel(\"Max Input FYT Trade Size\",fontsize=18,color='b')\n",
    "  ax1.invert_xaxis()\n",
    "  y2 = resulting_apys\n",
    "  ax2.set_ylabel(\"Max % Change in Implied APY\",fontsize=18,color='g')\n",
    "\n",
    "  if time_stretch == 20: \n",
    "    ax1.plot(x, y1,'b-')\n",
    "    ax2.plot(x, y2,'g-')\n",
    "  elif time_stretch == 30:\n",
    "    ax1.plot(x, y1,'b--')\n",
    "    ax2.plot(x, y2,'g--')\n",
    "  elif time_stretch == 40:\n",
    "    ax1.plot(x, y1,'b.')\n",
    "    ax2.plot(x, y2,'g.')\n",
    "\n",
    "\n"
   ]
  },
  {
   "cell_type": "code",
   "execution_count": null,
   "metadata": {
    "scrolled": true
   },
   "outputs": [],
   "source": [
    "\n",
    "import matplotlib.pyplot as plt\n",
    "import numpy as np\n",
    "\n",
    "fig, ax1 = plt.subplots(figsize=(12,12))\n",
    "\n",
    "min_apy_changes = []\n",
    "max_apy_changes = []\n",
    "time_stretches = []\n",
    "for time_stretch in np.arange(1, 51, 1):\n",
    "  APY = 1.7\n",
    "  days_until_maturity = 180\n",
    "  y_reserves = 50\n",
    "  x_reserves = calc_x_reserves(APY,y_reserves,days_until_maturity,time_stretch)\n",
    "  total_supply=x_reserves\n",
    "  epsilon=.0000001\n",
    "  g=.1\n",
    "\n",
    "  times = []\n",
    "  days_until_maturity_list = []\n",
    "  max_trade_amounts = []\n",
    "  resulting_apys = []\n",
    "\n",
    "  for t in np.arange(days_until_maturity, 0, -.1):\n",
    "    times.append(t/(365*time_stretch))\n",
    "    days_until_maturity_list.append(t)\n",
    "    max_trade = calc_max_trade(y_reserves+total_supply,x_reserves,t/(365*time_stretch))-epsilon\n",
    "    max_trade_amounts.append(max_trade)\n",
    "    (with_fee,without_fee,fee)=calc_out_given_in(max_trade,y_reserves+total_supply,x_reserves,\"base\",g,t/(365*time_stretch))\n",
    "    resulting_apy=calc_apy(without_fee/max_trade,t)\n",
    "    resulting_apys.append((resulting_apy-APY)/APY * 100)\n",
    "\n",
    "  time_stretches.append(time_stretch)\n",
    "  min_apy_changes.append(min(resulting_apys))\n",
    "  max_apy_changes.append(max(resulting_apys))\n",
    "\n",
    "ax1.scatter(time_stretches,min_apy_changes,color='g')\n",
    "ax1.scatter(time_stretches,max_apy_changes,color='r')\n",
    "#ax1.set_ylim(0,1000)\n",
    "\n",
    "# this plot tells me that the difference between the min and max % change apy isnt very much"
   ]
  },
  {
   "cell_type": "code",
   "execution_count": null,
   "metadata": {
    "scrolled": true
   },
   "outputs": [],
   "source": []
  },
  {
   "cell_type": "code",
   "execution_count": null,
   "metadata": {
    "scrolled": true
   },
   "outputs": [],
   "source": [
    "\n",
    "import matplotlib.pyplot as plt\n",
    "import numpy as np\n",
    "import pandas as pd\n",
    "\n",
    "cols = [\"apy\",\"tranche_length\",\"time_stretch\",\\\n",
    "        \"x_reserves\", \"y_reserves\",\\\n",
    "        \"min_k\",\"max_k\",\\\n",
    "        \"min_trade_amount\",\"max_trade_amount\",\\\n",
    "        \"min_resulting_fyt_unit_prices\",\"max_resulting_fyt_unit_prices\",\\\n",
    "        \"min_resulting_apy\",\"max_resulting_apy\",\\\n",
    "        \"min_apy_change\",\"max_apy_change\"]\n",
    "\n",
    "\n",
    "tests = []\n",
    "g=.1\n",
    "for y_reserves in np.arange(50, 1010, 50):\n",
    "  for tranche_length in np.arange(30, 181, 30):\n",
    "    for APY in np.arange(1, 51, 1):\n",
    "      for time_stretch in np.arange(1, 40.1, .1):\n",
    "        days_until_maturity = tranche_length\n",
    "        x_reserves = calc_x_reserves(APY,y_reserves,days_until_maturity,time_stretch)\n",
    "        total_supply=x_reserves+y_reserves\n",
    "        epsilon=.0000001\n",
    "\n",
    "        times = []\n",
    "        days_until_maturity_list = []\n",
    "        ks = []\n",
    "        max_trade_amounts = []\n",
    "        resulting_fyt_unit_prices = []\n",
    "        resulting_apys = []\n",
    "        resulting_apy_changes = []\n",
    "\n",
    "        for day in np.arange(days_until_maturity, 0, -1):\n",
    "          times.append(day/(365*time_stretch))\n",
    "          days_until_maturity_list.append(day)\n",
    "          k=calc_k(y_reserves+total_supply,x_reserves,day/(365*time_stretch))\n",
    "          ks.append(k)\n",
    "          max_trade = calc_max_trade(y_reserves+total_supply,x_reserves,day/(365*time_stretch))-epsilon\n",
    "          max_trade_amounts.append(max_trade)\n",
    "          (with_fee,without_fee,fee)=calc_out_given_in(max_trade,y_reserves+total_supply,x_reserves,\"base\",g,day/(365*time_stretch))\n",
    "          resulting_fyt_unit_price = without_fee/max_trade\n",
    "          resulting_fyt_unit_prices.append(resulting_fyt_unit_price)\n",
    "          resulting_apy=calc_apy(resulting_fyt_unit_price,day)\n",
    "          resulting_apys.append(resulting_apy)\n",
    "          resulting_apy_changes.append((resulting_apy-APY)/APY * 100)\n",
    "\n",
    "        test = [APY,tranche_length,time_stretch,x_reserves,y_reserves,\\\n",
    "                min(ks),max(ks),\\\n",
    "                min(max_trade_amounts),max(max_trade_amounts),\\\n",
    "                min(resulting_fyt_unit_prices),max(resulting_fyt_unit_prices),\\\n",
    "                min(resulting_apys), max(resulting_apys),\\\n",
    "                min(resulting_apy_changes),max(resulting_apy_changes)]\n",
    "        tests.append(test)\n",
    "\n",
    "df = pd.DataFrame(tests,columns=cols)\n",
    "#df.to_csv('apy_change.csv')\n",
    "df"
   ]
  },
  {
   "cell_type": "code",
   "execution_count": null,
   "metadata": {
    "scrolled": true
   },
   "outputs": [],
   "source": [
    "df.to_csv('apy_change_new.csv')"
   ]
  },
  {
   "cell_type": "code",
   "execution_count": null,
   "metadata": {
    "scrolled": true
   },
   "outputs": [],
   "source": [
    "import pandas as pd\n",
    "df = pd.read_csv('apy_change_new.csv') \n",
    "df = df.drop(columns=['Unnamed: 0']).reset_index()\n",
    "cols = df.columns\n",
    "for col in cols:\n",
    "    df[col] = df[col].astype(float)\n",
    "df.head()"
   ]
  },
  {
   "cell_type": "code",
   "execution_count": null,
   "metadata": {
    "scrolled": true
   },
   "outputs": [],
   "source": [
    "import numpy as np\n",
    "#df.to_csv('apy_change.csv')\n",
    "pd.set_option('display.max_rows', None)\n",
    "df['reserve_ratio']=df['x_reserves']/df['y_reserves']\n",
    "\n",
    "df['time_stretch'] = round(df['time_stretch'],5)\n",
    "\n",
    "reserve_ratio_filter=(df['reserve_ratio']>=.1)&(df['reserve_ratio']<=1)\n",
    "price_discovery_filter=(df['max_apy_change']>=50)\n",
    "df_filtered = df[reserve_ratio_filter & price_discovery_filter].reset_index()\n",
    "\n",
    "apy_t_stretches=[]\n",
    "for APY in np.arange(3, 51, 1):\n",
    "    min_ts=df_filtered[df_filtered['apy']==APY]['time_stretch'].min()\n",
    "    max_ts=df_filtered[df_filtered['apy']==APY]['time_stretch'].max()\n",
    "    min_tl=df_filtered[(df_filtered['apy']==APY)&(df_filtered['time_stretch']>=min_ts)&(df_filtered['time_stretch']<=max_ts)]['tranche_length'].min()\n",
    "    max_tl=df_filtered[(df_filtered['apy']==APY)&(df_filtered['time_stretch']>=min_ts)&(df_filtered['time_stretch']<=max_ts)]['tranche_length'].max()\n",
    "    apy_t_stretches.append((APY,min_ts,max_ts,min_tl,max_tl))\n",
    "     "
   ]
  },
  {
   "cell_type": "code",
   "execution_count": null,
   "metadata": {
    "scrolled": true
   },
   "outputs": [],
   "source": [
    "import numpy as np\n",
    "\n",
    "pd.reset_option(\"display.max_rows\")\n",
    "df['reserve_ratio']=df['x_reserves']/df['y_reserves']\n",
    "df['spot_price']=(df['x_reserves']/(2*df['y_reserves']+df['x_reserves']))**(df['tranche_length']/(365*df['time_stretch']))\n",
    "df['spot_apy']=(1-df['spot_price'])/(df['tranche_length']/365) * 100\n",
    "\n",
    "\n",
    "# we want to target the time stretch that allows the reserve ratio to be equal to the spot price\n",
    "reserve_ratio_filter=(df['reserve_ratio']-df['reserve_ratio']*0.05<=df['spot_price'])&(df['spot_price']<=df['reserve_ratio']+df['reserve_ratio']*0.05)&(df['reserve_ratio']<=1)\n",
    "df_filtered = df[reserve_ratio_filter].reset_index()\n",
    "\n",
    "apy_t_stretches=[]\n",
    "for APY in np.arange(3, 51, 1):\n",
    "    min_ts=df_filtered[df_filtered['apy']==APY]['time_stretch'].min()\n",
    "    max_ts=df_filtered[df_filtered['apy']==APY]['time_stretch'].max()\n",
    "    apy_t_stretches.append((APY,min_ts,max_ts))\n",
    "\n",
    "df_filtered"
   ]
  },
  {
   "cell_type": "code",
   "execution_count": null,
   "metadata": {
    "scrolled": true
   },
   "outputs": [],
   "source": [
    "#df['time_stretch'] = round(df['time_stretch'],1)\n",
    "#df[(df['apy']==9)&(df['tranche_length']==90)&(df['time_stretch']==9)]\n",
    "#df_filtered[(df_filtered['apy']==10)]"
   ]
  },
  {
   "cell_type": "code",
   "execution_count": null,
   "metadata": {
    "scrolled": false
   },
   "outputs": [],
   "source": [
    "import pandas as pd\n",
    "import matplotlib.pyplot as plt\n",
    "\n",
    "plt.subplots(figsize=(12,12))\n",
    "apys = [apy for apy,min_ts,max_ts in apy_t_stretches]\n",
    "mean_tss= [(min_ts+max_ts)/2 for apy,min_ts,max_ts in apy_t_stretches]\n",
    "err_tss= [max_ts-(min_ts+max_ts)/2 for apy,min_ts,max_ts in apy_t_stretches]\n",
    "plt.yticks(np.arange(0,41, 1))\n",
    "plt.xticks(np.arange(0,51, 1))\n",
    "#plt.errorbar(apys, mean_tss, yerr=err_tss, fmt='o', color='black',\n",
    "#             ecolor='red', elinewidth=3, capsize=0);\n",
    "plt.scatter(apys,mean_tss,color='black')\n",
    "plt.grid(True)\n",
    "plt.title('Suggested Time Stretch vs PT APY', fontsize=14)\n",
    "plt.xlabel('PT APY', fontsize=14)\n",
    "plt.ylabel('Time Stretch', fontsize=14)"
   ]
  },
  {
   "cell_type": "code",
   "execution_count": null,
   "metadata": {
    "scrolled": true
   },
   "outputs": [],
   "source": [
    "apy_t_stretches"
   ]
  },
  {
   "cell_type": "code",
   "execution_count": null,
   "metadata": {
    "scrolled": true
   },
   "outputs": [],
   "source": [
    "from scipy.optimize import curve_fit\n",
    "\n",
    "def objective(x,a,b):\n",
    "    return a/(b*x)\n",
    "\n",
    "x = apys\n",
    "y = mean_tss\n",
    "# curve fit\n",
    "popt, _ = curve_fit(objective, x, y)\n",
    "# summarize the parameter values\n",
    "a, b = popt\n",
    "print('y = %.5f /( %.5f * x)' % (a, b))"
   ]
  },
  {
   "cell_type": "code",
   "execution_count": null,
   "metadata": {
    "scrolled": false
   },
   "outputs": [],
   "source": [
    "import pandas as pd\n",
    "import matplotlib.pyplot as plt\n",
    "\n",
    "plt.subplots(figsize=(12,12))\n",
    "plt.yticks(np.arange(0,41, 1))\n",
    "plt.xticks(np.arange(0,51, 1))\n",
    "#plt.errorbar(apys, mean_tss, yerr=err_tss, fmt='o', color='black',\n",
    "#             ecolor='red', elinewidth=3, capsize=0);\n",
    "plt.scatter(apys,mean_tss,color='black')\n",
    "plt.grid(True)\n",
    "plt.title('Suggested Time Stretch vs PT APY', fontsize=14)\n",
    "plt.xlabel('PT APY', fontsize=14)\n",
    "plt.ylabel('Time Stretch', fontsize=14)\n",
    "\n",
    "x = np.arange(3,51,1)\n",
    "y = 3.09396 /( 0.02789 * x)\n",
    "plt.plot(x, y, '--', color=\"green\")"
   ]
  },
  {
   "cell_type": "code",
   "execution_count": null,
   "metadata": {
    "scrolled": true
   },
   "outputs": [],
   "source": [
    "APY = 1\n",
    "tranche_length = 30\n",
    "days_until_maturity = 1\n",
    "time_stretch = 5\n",
    "y_reserves = 50\n",
    "x_reserves = calc_x_reserves(APY,y_reserves,tranche_length,time_stretch)\n",
    "total_supply=x_reserves\n",
    "print(\"required x_reserves: \" + str(x_reserves))\n",
    "g=0.05\n",
    "t=days_until_maturity/(365*time_stretch)\n",
    "k=calc_k(y_reserves+total_supply,x_reserves,t)\n",
    "print(\"k: \" + str(k))\n",
    "print(\"k^(1/(1-t)): \" + str(k**(1/(1-t))))\n",
    "max_trade = calc_max_trade(y_reserves+total_supply,x_reserves,t) - .0001\n",
    "print(\"max valid trade = {:}\".format(max_trade))\n",
    "(with_fee,without_fee,fee)=calc_out_given_in(max_trade,y_reserves+total_supply,x_reserves,\"base\",g,t)\n",
    "print(\"Total Price after max trade: \" + str(without_fee))\n",
    "unit_price = without_fee/max_trade\n",
    "print(\"Unit Price after max trade: \" + str(unit_price))\n",
    "resulting_apy=calc_apy(unit_price,1)\n",
    "print(\"resulting apy: \" + str(resulting_apy))\n",
    "(resulting_apy-APY)/APY * 100"
   ]
  },
  {
   "cell_type": "code",
   "execution_count": null,
   "metadata": {
    "scrolled": true
   },
   "outputs": [],
   "source": [
    "#df = df.drop(columns=['Unnamed: 0']).reset_index()\n",
    "#df_filtered = df[(df['time_stretch']>=3)]\n",
    "#df_filtered.head()"
   ]
  },
  {
   "cell_type": "code",
   "execution_count": null,
   "metadata": {
    "scrolled": false
   },
   "outputs": [],
   "source": [
    "import pandas as pd\n",
    "import matplotlib.pyplot as plt\n",
    "\n",
    "plt.subplots(figsize=(12,12))\n",
    "\n",
    "df_filtered = df[(df['time_stretch']==3) & (df['tranche_length']<=180)]\n",
    "\n",
    "plt.scatter(df_filtered['apy'], df_filtered['max_resulting_apy'], color='orange',label= df_filtered['time_stretch'].iloc[0])\n",
    "\n",
    "df_filtered = df[(df['time_stretch']==5) & (df['tranche_length']<=180)]\n",
    "\n",
    "plt.scatter(df_filtered['apy'], df_filtered['max_resulting_apy'], color='green',label= df_filtered['time_stretch'].iloc[0])\n",
    "\n",
    "df_filtered = df[(df['time_stretch']==10) & (df['tranche_length']<=180)]\n",
    "\n",
    "plt.scatter(df_filtered['apy'], df_filtered['max_resulting_apy'], color='yellow',label= df_filtered['time_stretch'].iloc[0])\n",
    "\n",
    "df_filtered = df[(df['time_stretch']==20) & (df['tranche_length']<=180)]\n",
    "\n",
    "plt.scatter(df_filtered['apy'], df_filtered['max_resulting_apy'], color='blue',label= df_filtered['time_stretch'].iloc[0])\n",
    "\n",
    "df_filtered = df[(df['time_stretch']==30) & (df['tranche_length']<=180)]\n",
    "plt.scatter(df_filtered['apy'], df_filtered['max_resulting_apy'], color='red',label= df_filtered['time_stretch'].iloc[0])\n",
    "\n",
    "df_filtered = df[(df['time_stretch']==40) & (df['tranche_length']<=180)]\n",
    "plt.scatter(df_filtered['apy'], df_filtered['max_resulting_apy'], color='brown',label= df_filtered['time_stretch'].iloc[0])\n",
    "\n",
    "\n",
    "plt.title('PT APY Vs Max Resulting APY', fontsize=14)\n",
    "plt.xlabel('PT APY', fontsize=14)\n",
    "plt.ylabel('Max Resulting APY', fontsize=14)\n",
    "plt.grid(True)\n",
    "plt.legend(title=\"Time Stretch\")\n",
    "x = np.arange(0,51,1)\n",
    "y = x\n",
    "plt.plot(x, y, '--', color=\"black\")\n",
    "plt.yticks(np.arange(0,101, 2))\n",
    "plt.xticks(np.arange(0,51, 2))\n",
    "plt.ylim(0,100)\n",
    "plt.show()\n",
    "\n",
    "### This tells me that yield bearing asset APY does have an affect on Max % APY Change"
   ]
  },
  {
   "cell_type": "code",
   "execution_count": null,
   "metadata": {
    "scrolled": false
   },
   "outputs": [],
   "source": [
    "import pandas as pd\n",
    "import matplotlib.pyplot as plt\n",
    "\n",
    "plt.subplots(figsize=(12,12))\n",
    "\n",
    "df_filtered = df[(df['time_stretch']==3) & (df['tranche_length']==30)]\n",
    "label=(df_filtered['time_stretch'].iloc[0],df_filtered['tranche_length'].iloc[0])\n",
    "plt.scatter(df_filtered['apy'], df_filtered['max_resulting_apy'], marker='<', color='orange',label=label)\n",
    "df_filtered = df[(df['time_stretch']==3) & (df['tranche_length']==90)]\n",
    "label=(df_filtered['time_stretch'].iloc[0],df_filtered['tranche_length'].iloc[0])\n",
    "plt.scatter(df_filtered['apy'], df_filtered['max_resulting_apy'], marker='o', color='orange',label=label)\n",
    "df_filtered = df[(df['time_stretch']==3) & (df['tranche_length']==180)]\n",
    "label=(df_filtered['time_stretch'].iloc[0],df_filtered['tranche_length'].iloc[0])\n",
    "plt.scatter(df_filtered['apy'], df_filtered['max_resulting_apy'], marker='>', color='orange',label=label)\n",
    "\n",
    "df_filtered = df[(df['time_stretch']==5) & (df['tranche_length']==30)]\n",
    "label=(df_filtered['time_stretch'].iloc[0],df_filtered['tranche_length'].iloc[0])\n",
    "plt.scatter(df_filtered['apy'], df_filtered['max_resulting_apy'], marker='<', color='green',label=label)\n",
    "df_filtered = df[(df['time_stretch']==5) & (df['tranche_length']==90)]\n",
    "label=(df_filtered['time_stretch'].iloc[0],df_filtered['tranche_length'].iloc[0])\n",
    "plt.scatter(df_filtered['apy'], df_filtered['max_resulting_apy'], marker='o', color='green',label=label)\n",
    "df_filtered = df[(df['time_stretch']==5) & (df['tranche_length']==180)]\n",
    "label=(df_filtered['time_stretch'].iloc[0],df_filtered['tranche_length'].iloc[0])\n",
    "plt.scatter(df_filtered['apy'], df_filtered['max_resulting_apy'], marker='>', color='green',label=label)\n",
    "\n",
    "df_filtered = df[(df['time_stretch']==10) & (df['tranche_length']==30)]\n",
    "label=(df_filtered['time_stretch'].iloc[0],df_filtered['tranche_length'].iloc[0])\n",
    "plt.scatter(df_filtered['apy'], df_filtered['max_resulting_apy'], marker='<', color='red',label=label)\n",
    "df_filtered = df[(df['time_stretch']==10) & (df['tranche_length']==90)]\n",
    "label=(df_filtered['time_stretch'].iloc[0],df_filtered['tranche_length'].iloc[0])\n",
    "plt.scatter(df_filtered['apy'], df_filtered['max_resulting_apy'], marker='o', color='red',label=label)\n",
    "df_filtered = df[(df['time_stretch']==10) & (df['tranche_length']==180)]\n",
    "label=(df_filtered['time_stretch'].iloc[0],df_filtered['tranche_length'].iloc[0])\n",
    "plt.scatter(df_filtered['apy'], df_filtered['max_resulting_apy'], marker='>', color='red',label=label)\n",
    "\n",
    "df_filtered = df[(df['time_stretch']==20) & (df['tranche_length']==30)]\n",
    "label=(df_filtered['time_stretch'].iloc[0],df_filtered['tranche_length'].iloc[0])\n",
    "plt.scatter(df_filtered['apy'], df_filtered['max_resulting_apy'], marker='<', color='blue',label=label)\n",
    "df_filtered = df[(df['time_stretch']==20) & (df['tranche_length']==90)]\n",
    "label=(df_filtered['time_stretch'].iloc[0],df_filtered['tranche_length'].iloc[0])\n",
    "plt.scatter(df_filtered['apy'], df_filtered['max_resulting_apy'], marker='o', color='blue',label=label)\n",
    "df_filtered = df[(df['time_stretch']==20) & (df['tranche_length']==180)]\n",
    "label=(df_filtered['time_stretch'].iloc[0],df_filtered['tranche_length'].iloc[0])\n",
    "plt.scatter(df_filtered['apy'], df_filtered['max_resulting_apy'], marker='>', color='blue',label=label)\n",
    "\n",
    "\n",
    "\n",
    "df_filtered = df[(df['time_stretch']==40) & (df['tranche_length']==30)]\n",
    "label=(df_filtered['time_stretch'].iloc[0],df_filtered['tranche_length'].iloc[0])\n",
    "plt.scatter(df_filtered['apy'], df_filtered['max_resulting_apy'], marker='<',color='brown',alpha=.25,label=label)\n",
    "df_filtered = df[(df['time_stretch']==40) & (df['tranche_length']==90)]\n",
    "label=(df_filtered['time_stretch'].iloc[0],df_filtered['tranche_length'].iloc[0])\n",
    "plt.scatter(df_filtered['apy'], df_filtered['max_resulting_apy'], marker='o',color='brown',alpha=.25,label=label)\n",
    "df_filtered = df[(df['time_stretch']==40) & (df['tranche_length']==180)]\n",
    "label=(df_filtered['time_stretch'].iloc[0],df_filtered['tranche_length'].iloc[0])\n",
    "plt.scatter(df_filtered['apy'], df_filtered['max_resulting_apy'], marker='>',color='brown',alpha=.25,label=label)\n",
    "\n",
    "\n",
    "plt.title('PT APY Vs Max Resulting APY', fontsize=14)\n",
    "plt.xlabel('PT APY', fontsize=14)\n",
    "plt.ylabel('Max Resulting APY', fontsize=14)\n",
    "plt.grid(True)\n",
    "plt.legend(title=\"Time Stretch, Tranche Length\")\n",
    "x = np.arange(0,51,1)\n",
    "y = x\n",
    "plt.plot(x, y, '--', color=\"black\")\n",
    "plt.yticks(np.arange(0,101, 2))\n",
    "plt.ylim(0,100)\n",
    "plt.xticks(np.arange(0,51, 2))\n",
    "plt.show()\n",
    "\n",
    "### This tells me that yield bearing asset APY does have an affect on Max % APY Change\n"
   ]
  },
  {
   "cell_type": "code",
   "execution_count": null,
   "metadata": {
    "scrolled": true
   },
   "outputs": [],
   "source": [
    "x = np.arange(0,50,1)\n",
    "y = x\n",
    "plt.plot(x, y)"
   ]
  },
  {
   "cell_type": "code",
   "execution_count": null,
   "metadata": {
    "scrolled": true
   },
   "outputs": [],
   "source": [
    "import pandas as pd\n",
    "import matplotlib.pyplot as plt\n",
    "\n",
    "plt.subplots(figsize=(12,12))\n",
    "\n",
    "df_filtered = df[df['time_stretch']==5]\n",
    "\n",
    "plt.scatter(df_filtered['apy'], df_filtered['max_apy_change'], color='green',label= df_filtered['time_stretch'].iloc[0])\n",
    "\n",
    "df_filtered = df[df['time_stretch']==25]\n",
    "\n",
    "plt.scatter(df_filtered['apy'], df_filtered['max_apy_change'], color='blue',label= df_filtered['time_stretch'].iloc[0])\n",
    "\n",
    "df_filtered = df[df['time_stretch']==50]\n",
    "\n",
    "plt.scatter(df_filtered['apy'], df_filtered['max_apy_change'], color='red',label= df_filtered['time_stretch'].iloc[0])\n",
    "\n",
    "plt.title('APY Vs Max Percent APY Change', fontsize=14)\n",
    "plt.xlabel('APY', fontsize=14)\n",
    "plt.ylabel('Max Percent APY Change', fontsize=14)\n",
    "plt.grid(True)\n",
    "plt.legend(title=\"Time Stretch\")\n",
    "plt.show()\n",
    "\n",
    "### This tells me that yield bearing asset APY does have an affect on Max % APY Change"
   ]
  },
  {
   "cell_type": "code",
   "execution_count": null,
   "metadata": {
    "scrolled": true
   },
   "outputs": [],
   "source": [
    "import pandas as pd\n",
    "import matplotlib.pyplot as plt\n",
    "\n",
    "plt.subplots(figsize=(12,12))\n",
    "\n",
    "df_filtered = df[df['apy']==1]\n",
    "\n",
    "plt.scatter(df_filtered['time_stretch'], df_filtered['max_apy_change'], color='green',label= df_filtered['apy'].iloc[0])\n",
    "\n",
    "df_filtered = df[df['apy']==5]\n",
    "\n",
    "plt.scatter(df_filtered['time_stretch'], df_filtered['max_apy_change'], color='blue',label= df_filtered['apy'].iloc[0])\n",
    "\n",
    "df_filtered = df[df['apy']==10]\n",
    "\n",
    "plt.scatter(df_filtered['time_stretch'], df_filtered['max_apy_change'], color='red',label= df_filtered['apy'].iloc[0])\n",
    "\n",
    "plt.title('Time Stretch Vs Max Percent APY Change', fontsize=14)\n",
    "plt.xlabel('Time Stretch', fontsize=14)\n",
    "plt.ylabel('Max Percent APY Change', fontsize=14)\n",
    "plt.grid(True)\n",
    "plt.legend(title=\"APY\")\n",
    "plt.show()\n",
    "\n",
    "\n",
    "### This tells me that time stretch does have an affect on Max % APY Change"
   ]
  },
  {
   "cell_type": "code",
   "execution_count": null,
   "metadata": {
    "scrolled": true
   },
   "outputs": [],
   "source": [
    "import pandas as pd\n",
    "import matplotlib.pyplot as plt\n",
    "\n",
    "plt.subplots(figsize=(12,12))\n",
    "\n",
    "df_filtered = df[df['apy']==1]\n",
    "\n",
    "plt.scatter(df_filtered['tranche_length'], df_filtered['max_apy_change'], color='green',label= df_filtered['apy'].iloc[0])\n",
    "\n",
    "df_filtered = df[df['apy']==5]\n",
    "\n",
    "plt.scatter(df_filtered['tranche_length'], df_filtered['max_apy_change'], color='blue', label= df_filtered['apy'].iloc[0])\n",
    "\n",
    "df_filtered = df[df['apy']==10]\n",
    "\n",
    "plt.scatter(df_filtered['tranche_length'], df_filtered['max_apy_change'], color='red',label= df_filtered['apy'].iloc[0])\n",
    "\n",
    "plt.title('Tranche Length Vs Max Percent APY Change', fontsize=14)\n",
    "plt.xlabel('Tranche Length', fontsize=14)\n",
    "plt.ylabel('Max Percent APY Change', fontsize=14)\n",
    "plt.grid(True)\n",
    "plt.legend(title=\"APY\", loc='upper right')\n",
    "plt.show()\n",
    "\n",
    "## This tells me that Tranche Length has virtually no affect on Max % APY Change"
   ]
  },
  {
   "cell_type": "code",
   "execution_count": null,
   "metadata": {
    "scrolled": true
   },
   "outputs": [],
   "source": [
    "import pandas as pd\n",
    "import matplotlib.pyplot as plt\n",
    "\n",
    "plt.subplots(figsize=(12,12))\n",
    "\n",
    "df_filtered = df[df['apy']==1]\n",
    "\n",
    "plt.scatter(df_filtered['y_reserves'], df_filtered['max_apy_change'], color='green',label= df_filtered['apy'].iloc[0])\n",
    "\n",
    "df_filtered = df[df['apy']==5]\n",
    "\n",
    "plt.scatter(df_filtered['y_reserves'], df_filtered['max_apy_change'], color='blue',label= df_filtered['apy'].iloc[0])\n",
    "\n",
    "df_filtered = df[df['apy']==10]\n",
    "\n",
    "plt.scatter(df_filtered['y_reserves'], df_filtered['max_apy_change'], color='red',label= df_filtered['apy'].iloc[0])\n",
    "\n",
    "plt.title('FYT Reserves Vs Max Percent APY Change', fontsize=14)\n",
    "plt.xlabel('FYT Reserves', fontsize=14)\n",
    "plt.ylabel('Max Percent APY Change', fontsize=14)\n",
    "plt.grid(True)\n",
    "plt.legend(title=\"APY\", loc='upper right')\n",
    "plt.show()\n",
    "\n",
    "## This tells me that reserve size has virtually no affect on Max % APY Change"
   ]
  },
  {
   "cell_type": "code",
   "execution_count": null,
   "metadata": {
    "scrolled": true
   },
   "outputs": [],
   "source": [
    "import pandas as pd\n",
    "import matplotlib.pyplot as plt\n",
    "\n",
    "plt.subplots(figsize=(12,12))\n",
    "\n",
    "#df_filtered = df[(df['time_stretch']==5) & (df['y_reserves']==50) & (df['tranche_length']==30)]\n",
    "df_filtered = df[(df['time_stretch']==5)  & (df['tranche_length']==30)]\n",
    "\n",
    "plt.scatter(df_filtered['apy'], df_filtered['max_trade_amount'], color='green',label= df_filtered['tranche_length'].iloc[0])\n",
    "\n",
    "#df_filtered = df[(df['time_stretch']==5) & (df['y_reserves']==500) & (df['tranche_length']==30)]\n",
    "\n",
    "#plt.scatter(df_filtered['apy'], df_filtered['max_apy_change'], color='blue',label= df_filtered['y_reserves'].iloc[0])\n",
    "\n",
    "#df_filtered = df[(df['time_stretch']==5) & (df['y_reserves']==1000) & (df['tranche_length']==30)]\n",
    "\n",
    "#plt.scatter(df_filtered['apy'], df_filtered['max_apy_change'], color='red',label= df_filtered['y_reserves'].iloc[0])\n",
    "\n",
    "plt.title('APY Vs Max Trade Amount', fontsize=14)\n",
    "plt.xlabel('APY', fontsize=14)\n",
    "plt.ylabel('Max Trade Amount', fontsize=14)\n",
    "plt.grid(True)\n",
    "plt.legend(title=\"Tranche Length\")\n",
    "plt.ylim(0,100)\n",
    "plt.show()\n"
   ]
  },
  {
   "cell_type": "code",
   "execution_count": null,
   "metadata": {
    "scrolled": true
   },
   "outputs": [],
   "source": [
    "import pandas as pd\n",
    "import matplotlib.pyplot as plt\n",
    "\n",
    "plt.subplots(figsize=(12,12))\n",
    "\n",
    "df_filtered = df[df['time_stretch']==5]\n",
    "\n",
    "plt.scatter(df_filtered['apy'], df_filtered['min_resulting_fyt_unit_prices'], color='green',label= df_filtered['time_stretch'].iloc[0])\n",
    "\n",
    "df_filtered = df[df['time_stretch']==25]\n",
    "\n",
    "plt.scatter(df_filtered['apy'], df_filtered['min_resulting_fyt_unit_prices'], color='blue',label= df_filtered['time_stretch'].iloc[0])\n",
    "\n",
    "df_filtered = df[df['time_stretch']==50]\n",
    "\n",
    "plt.scatter(df_filtered['apy'], df_filtered['min_resulting_fyt_unit_prices'], color='red',label= df_filtered['time_stretch'].iloc[0])\n",
    "\n",
    "plt.title('APY Vs Max Percent APY Change', fontsize=14)\n",
    "plt.xlabel('APY', fontsize=14)\n",
    "plt.ylabel('Min Unit FYT Price, fontsize=14)\n",
    "plt.grid(True)\n",
    "plt.legend(title=\"Time Stretch\")\n",
    "plt.show()\n",
    "\n",
    "### This tells me that yield bearing asset APY does have an affect on Max % APY Change"
   ]
  },
  {
   "cell_type": "code",
   "execution_count": null,
   "metadata": {
    "scrolled": true
   },
   "outputs": [],
   "source": [
    "import pandas as pd\n",
    "import matplotlib.pyplot as plt\n",
    "\n",
    "plt.subplots(figsize=(12,12))\n",
    "\n",
    "df_filtered = df[df['apy']==5]\n",
    "\n",
    "plt.scatter(df_filtered['time_stretch'], df_filtered['min_resulting_fyt_unit_prices'], color='green',label= df_filtered['apy'].iloc[0])\n",
    "\n",
    "df_filtered = df[df['apy']==25]\n",
    "\n",
    "plt.scatter(df_filtered['time_stretch'], df_filtered['min_resulting_fyt_unit_prices'], color='blue',label= df_filtered['apy'].iloc[0])\n",
    "\n",
    "df_filtered = df[df['apy']==50]\n",
    "\n",
    "plt.scatter(df_filtered['time_stretch'], df_filtered['min_resulting_fyt_unit_prices'], color='red',label= df_filtered['apy'].iloc[0])\n",
    "\n",
    "plt.title('APY Vs Max Percent APY Change', fontsize=14)\n",
    "plt.xlabel('Time Stretch', fontsize=14)\n",
    "plt.ylabel('Min Unit FYT Price', fontsize=14)\n",
    "plt.grid(True)\n",
    "plt.legend(title=\"APY\")\n",
    "plt.show()\n",
    "\n"
   ]
  },
  {
   "cell_type": "code",
   "execution_count": null,
   "metadata": {
    "scrolled": true
   },
   "outputs": [],
   "source": [
    "df.to_csv('apy_change.csv')"
   ]
  },
  {
   "cell_type": "code",
   "execution_count": null,
   "metadata": {
    "scrolled": true
   },
   "outputs": [],
   "source": [
    "APY = 8.66\n",
    "term_length = 7\n",
    "days_until_maturity = 4\n",
    "time_stretch = 9\n",
    "y_reserves = 177.52\n",
    "x_reserves = 2995.64 #calc_x_reserves(APY,y_reserves,term_length-days_until_maturity,time_stretch)\n",
    "print(\"(APY,y_reserves,days_until_maturity,time_stretch): \"+str((APY,y_reserves,days_until_maturity,time_stretch)))\n",
    "print(\"required x_reserves: \" + str(x_reserves))\n",
    "total_supply=x_reserves\n",
    "price=calc_price(x_reserves,y_reserves,total_supply,days_until_maturity,time_stretch)\n",
    "print(\"resulting price: \" + str(price))\n",
    "print(\"check apy: \" + str(calc_apy(price,days_until_maturity)))"
   ]
  },
  {
   "cell_type": "code",
   "execution_count": null,
   "metadata": {
    "scrolled": true
   },
   "outputs": [],
   "source": [
    "x_reserves = 1856051.71\n",
    "y_reserves = 1425357.41\n",
    "total_supply = x_reserves+1425357.41\n",
    "APY = 11.4\n",
    "unit_price = 0.9728\n",
    "t = 85/(365*9)\n",
    "\n",
    "(x_reserves/(y_reserves+total_supply))**t"
   ]
  },
  {
   "cell_type": "code",
   "execution_count": null,
   "metadata": {
    "scrolled": true
   },
   "outputs": [],
   "source": [
    "3284587796090403818248754/10**18\n"
   ]
  },
  {
   "cell_type": "code",
   "execution_count": null,
   "metadata": {
    "scrolled": true
   },
   "outputs": [],
   "source": [
    "1856051.71 + 1425357.41"
   ]
  },
  {
   "cell_type": "code",
   "execution_count": null,
   "metadata": {
    "scrolled": true
   },
   "outputs": [],
   "source": [
    "3.09396 /( 0.02789 * 20)"
   ]
  },
  {
   "cell_type": "code",
   "execution_count": null,
   "metadata": {
    "scrolled": true
   },
   "outputs": [],
   "source": [
    "5.11436 /( 0.04610 * 10)"
   ]
  }
 ],
 "metadata": {
  "kernelspec": {
   "display_name": "Python 3.9.6 64-bit",
   "language": "python",
   "name": "python3"
  },
  "language_info": {
   "codemirror_mode": {
    "name": "ipython",
    "version": 3
   },
   "file_extension": ".py",
   "mimetype": "text/x-python",
   "name": "python",
   "nbconvert_exporter": "python",
   "pygments_lexer": "ipython3",
   "version": "3.9.6"
  },
  "vscode": {
   "interpreter": {
    "hash": "31f2aee4e71d21fbe5cf8b01ff0e069b9275f58929596ceb00d14d90e3e16cd6"
   }
  }
 },
 "nbformat": 4,
 "nbformat_minor": 2
}
