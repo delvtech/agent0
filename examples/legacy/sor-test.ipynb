{
 "cells": [
  {
   "cell_type": "code",
   "execution_count": null,
   "metadata": {},
   "outputs": [],
   "source": [
    "import os, sys\n",
    "root_dir = os.path.join(os.path.join(os.getcwd(), os.pardir), os.pardir)\n",
    "sys.path.insert(1, root_dir)\n",
    "from sim import *\n",
    "\n",
    "def calc_tokens_out_for_lp_in(lp_in, x_reserves, y_reserves, total_supply):\n",
    "    # solve for y_needed: lp_out = ((x_reserves / y_reserves) * y_needed * total_supply)/x_reserves\n",
    "    y_needed = (lp_in * x_reserves)/((x_reserves / y_reserves) * total_supply)\n",
    "    # solve for x_needed: x_reserves/y_reserves = x_needed/y_needed\n",
    "    x_needed = (x_reserves/y_reserves)*y_needed\n",
    "    return (x_needed,y_needed)\n",
    "\n",
    "def calc_token_out_for_lp_in(lp_in, x_reserves, y_reserves, total_supply,token_out,g,t):\n",
    "    y_out = (lp_in * x_reserves)/((x_reserves / y_reserves) * total_supply)\n",
    "    x_out = (x_reserves/y_reserves)*y_out\n",
    "    if token_out == \"base\":\n",
    "      (without_fee_or_slippage,with_fee,without_fee,fee) = ElementPricingModel().calc_out_given_in(y_out,y_reserves+total_supply,x_reserves,token_out,g,t)\n",
    "      x_out += with_fee\n",
    "      return x_out\n",
    "    elif token_out == \"fyt\":\n",
    "      (without_fee_or_slippage,with_fee,without_fee,fee) = ElementPricingModel().calc_out_given_in(x_out,x_reserves,y_reserves+total_supply,token_out,g,t)\n",
    "      y_out += with_fee\n",
    "      return y_out\n",
    "\n"
   ]
  },
  {
   "cell_type": "code",
   "execution_count": null,
   "metadata": {},
   "outputs": [],
   "source": [
    "x_reserves = 50\n",
    "y_reserves = 100\n",
    "total_supply = 50\n",
    "lp_in = 10\n",
    "g=.1\n",
    "t=90/(365*5)\n",
    "\n",
    "print(\"swap lp token for base\")\n",
    "fyt_unit_price_before = ElementPricingModel().calc_spot_price(x_reserves,y_reserves,total_supply,t)\n",
    "print(\"unit price before: {:}\".format(fyt_unit_price_before))\n",
    "x_out = calc_token_out_for_lp_in(lp_in,x_reserves,y_reserves,total_supply,\"base\",g,t)\n",
    "print(\"x_out: {:}\".format(x_out))\n",
    "total_supply -= lp_in\n",
    "x_reserves -= x_out\n",
    "fyt_unit_price_after = ElementPricingModel().calc_spot_price(x_reserves,y_reserves,total_supply,t)\n",
    "print(\"unit price after: {:}\".format(fyt_unit_price_after))\n",
    "print(\"delta: {:}\".format(fyt_unit_price_before-fyt_unit_price_after))"
   ]
  },
  {
   "cell_type": "code",
   "execution_count": null,
   "metadata": {},
   "outputs": [],
   "source": [
    "x_reserves = 50\n",
    "y_reserves = 100\n",
    "total_supply = 50\n",
    "lp_in = 10\n",
    "g=.1\n",
    "t=90/(365*5)\n",
    "\n",
    "print(\"swap lp token for fyt\")\n",
    "fyt_unit_price_before = ElementPricingModel().calc_spot_price(x_reserves,y_reserves,total_supply,t)\n",
    "print(\"unit price before: {:}\".format(fyt_unit_price_before))\n",
    "y_out = calc_token_out_for_lp_in(lp_in,x_reserves,y_reserves,total_supply,\"fyt\",g,t)\n",
    "print(\"y_out: {:}\".format(y_out))\n",
    "total_supply -= lp_in\n",
    "y_reserves -= y_out\n",
    "\n",
    "fyt_unit_price_after = ElementPricingModel().calc_spot_price(x_reserves,y_reserves,total_supply,t)\n",
    "print(\"unit price after: {:}\".format(fyt_unit_price_after))\n",
    "print(\"delta: {:}\".format(fyt_unit_price_after-fyt_unit_price_before))"
   ]
  },
  {
   "cell_type": "code",
   "execution_count": null,
   "metadata": {},
   "outputs": [],
   "source": [
    "x_reserves = 100\n",
    "y_reserves = 100\n",
    "total_supply = 100\n",
    "lp_in = 10\n",
    "g=.1\n",
    "t=90/(365*5)\n",
    "\n",
    "print(\"swap lp token for fyt and base\")\n",
    "fyt_unit_price_before = ElementPricingModel().calc_spot_price(x_reserves,y_reserves,total_supply,t)\n",
    "print(\"unit price before: {:}\".format(fyt_unit_price_before))\n",
    "(x_needed,y_needed) = calc_tokens_out_for_lp_in(lp_in,x_reserves,y_reserves,total_supply)\n",
    "print(\"(x_needed,y_needed): {:} , {:}\".format(x_needed,y_needed))\n",
    "\n",
    "total_supply -= lp_in\n",
    "x_reserves -= x_needed\n",
    "y_reserves -= y_needed\n",
    "fyt_unit_price_after = ElementPricingModel().calc_spot_price(x_reserves,y_reserves,total_supply,t)\n",
    "print(\"unit price after: {:}\".format(fyt_unit_price_after))\n",
    "print(\"delta: {:}\".format(fyt_unit_price_after-fyt_unit_price_before))"
   ]
  },
  {
   "cell_type": "code",
   "execution_count": null,
   "metadata": {},
   "outputs": [],
   "source": [
    "x_reserves = 100\n",
    "y_reserves = 100\n",
    "total_supply = 100\n",
    "amount=10\n",
    "g=.1\n",
    "t=90/(365*5)\n",
    "T=90/365\n",
    "\n",
    "fyt_unit_price = ElementPricingModel().calc_spot_price(x_reserves,y_reserves,total_supply,t)\n",
    "print(\"rate: {:}\".format((1-fyt_unit_price)/T))\n",
    "(without_fee_or_slippage,with_fee,without_fee,fee)=ElementPricingModel().calc_out_given_in(amount,y_reserves+total_supply,x_reserves,\"base\",g,t)\n",
    "x_reserves-=with_fee\n",
    "y_reserves+=amount\n",
    "fyt_unit_price = ElementPricingModel().calc_spot_price(x_reserves,y_reserves,total_supply,t)\n",
    "print(\"rate: {:}\".format((1-fyt_unit_price)/T))"
   ]
  },
  {
   "cell_type": "code",
   "execution_count": null,
   "metadata": {},
   "outputs": [],
   "source": [
    "x_reserves = 100\n",
    "y_reserves = 100\n",
    "total_supply = 100\n",
    "amount=10\n",
    "g=.1\n",
    "t=90/(365*5)\n",
    "T=90/365\n",
    "\n",
    "fyt_unit_price = ElementPricingModel().calc_spot_price(x_reserves,y_reserves,total_supply,t)\n",
    "print(\"rate: {:}\".format((1-fyt_unit_price)/T))\n",
    "(without_fee_or_slippage,with_fee,without_fee,fee)=ElementPricingModel().calc_out_given_in(amount,y_reserves+total_supply,x_reserves,\"base\",g,t)\n",
    "x_reserves-=without_fee\n",
    "y_reserves+=amount\n",
    "fyt_unit_price = ElementPricingModel().calc_spot_price(x_reserves,y_reserves,total_supply,t)\n",
    "print(\"rate: {:}\".format((1-fyt_unit_price)/T))"
   ]
  }
 ],
 "metadata": {
  "kernelspec": {
   "display_name": "Python 3.9.6 64-bit",
   "language": "python",
   "name": "python3"
  },
  "language_info": {
   "codemirror_mode": {
    "name": "ipython",
    "version": 3
   },
   "file_extension": ".py",
   "mimetype": "text/x-python",
   "name": "python",
   "nbconvert_exporter": "python",
   "pygments_lexer": "ipython3",
   "version": "3.9.6"
  },
  "vscode": {
   "interpreter": {
    "hash": "31f2aee4e71d21fbe5cf8b01ff0e069b9275f58929596ceb00d14d90e3e16cd6"
   }
  }
 },
 "nbformat": 4,
 "nbformat_minor": 4
}
