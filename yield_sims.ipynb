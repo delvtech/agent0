{
  "cells": [
    {
      "cell_type": "code",
      "execution_count": null,
      "metadata": {
        "id": "BcPitY03_NxU"
      },
      "outputs": [],
      "source": [
        "import os, sys\n",
        "\n",
        "# if os.path.exists('analysis'):\n",
        "#     os.system('rm -rf analysis')\n",
        "\n",
        "# !git clone https://github.com/element-fi/analysis.git\n",
        "\n",
        "# sys.path.insert(1, os.getcwd())"
      ]
    },
    {
      "cell_type": "code",
      "execution_count": null,
      "metadata": {
        "id": "4pmDE-zGf_CO"
      },
      "outputs": [],
      "source": [
        "import json, numbers, math, time\n",
        "\n",
        "import numpy as np\n",
        "import pandas as pd\n",
        "import matplotlib.pyplot as plt\n",
        "\n",
        "from sim import YieldSimulator, ElementPricingModel, Market, YieldSpacev2PricingModel, YieldSpacev2MinFeePricingModel\n",
        "\n",
        "pd.set_option(\"float_format\",'{:,.3f}'.format)\n",
        "\n",
        "seed = 3\n",
        "rng = np.random.default_rng(seed)"
      ]
    },
    {
      "cell_type": "code",
      "execution_count": null,
      "metadata": {
        "id": "tfTl4-SGBCi9"
      },
      "outputs": [],
      "source": [
        "config = {\n",
        "    'step_size': 0.001,\n",
        "    'min_fee': 0.,\n",
        "    'max_fee': 0.5,\n",
        "    't_min': 0.001,\n",
        "    't_max': 1.0,\n",
        "    'base_asset_price': 2500., # aka market price\n",
        "    'min_target_liquidity': 100000.,\n",
        "    'max_target_liquidity': 10000000.,\n",
        "    'min_target_volume': 2e5,\n",
        "    'max_target_volume': 6e5,\n",
        "    'min_pool_apy': 0.5,\n",
        "    'max_pool_apy': 50,\n",
        "    'min_vault_age': 0.,\n",
        "    'max_vault_age': 2,\n",
        "    'min_vault_apy': 0.,\n",
        "    'max_vault_apy': 10.,\n",
        "    'precision': 8,\n",
        "    'pricing_model_name': 'YieldSpace',\n",
        "    'tokens': ['base', 'fyt'],\n",
        "    'trade_direction': 'out',\n",
        "    'days_until_maturity': 90,\n",
        "    'num_trading_days': 90, # should be <= days_until_maturity\n",
        "    'rng' : rng, # random number generator\n",
        "}"
      ]
    },
    {
      "cell_type": "code",
      "execution_count": null,
      "metadata": {
        "id": "V3HM2goD3WJF"
      },
      "outputs": [],
      "source": [
        "start_time = time.time()\n",
        "num_runs = 0\n",
        "\n",
        "pricing_model_list = ['Element', 'YieldSpacev2', 'YieldSpacev2MinFee']\n",
        "vault_age_list = [1] #[0.1, 0.3, 0.5]\n",
        "target_daily_volume_list = [5*1e5]\n",
        "target_liquidity_list = [10*1e6]\n",
        "fee_percent_list = [0.1]\n",
        "#vault_apys = [[1,]*10 +[5,]*10 + [10,]*10 + [5,]*10 + [1,]*10,] # example variable vault apy\n",
        "#vault_apys = [[i,]*config['num_trading_days'] for i in [3, 5, 9]] # example constant vault apy\n",
        "# vault_apys = [[i,]*config['num_trading_days'] for i in [5]] # example constant vault apy\n",
        "vault_apy_list = [[5,]*config['num_trading_days']] # constant vault apy\n",
        "\n",
        "simulator = YieldSimulator(**config)\n",
        "simulator.set_random_variables()\n",
        "\n",
        "for pricing_model in pricing_model_list:\n",
        "    for vault_age in vault_age_list:\n",
        "        for vault_apy in vault_apy_list:\n",
        "            for target_daily_volume in target_daily_volume_list:\n",
        "                for target_liquidity in target_liquidity_list:\n",
        "                    for fee_percent in fee_percent_list:\n",
        "                        override_dict = {\n",
        "                            'vault_apy': vault_apy,\n",
        "                            'pricing_model_name': pricing_model,\n",
        "                            'init_vault_age': vault_age,\n",
        "                            'vault_apy': 5,\n",
        "                            'init_pool_apy' : 5,\n",
        "                            'target_daily_volume': target_daily_volume,\n",
        "                            'target_liquidity': target_liquidity,\n",
        "                            'fee_percent' : fee_percent,\n",
        "                        }\n",
        "                        simulator.run_simulation(override_dict)\n",
        "                        num_runs += 1\n",
        "                        print('run #{} completed'.format(num_runs))\n",
        "\n",
        "end_time = time.time()\n",
        "print(f'Total time for {num_runs} runs was {end_time-start_time:.3f} seconds; which is {(end_time-start_time)/num_runs:.3f} seconds per run')"
      ]
    },
    {
      "cell_type": "code",
      "execution_count": null,
      "metadata": {},
      "outputs": [],
      "source": [
        "trades = pd.DataFrame.from_dict(simulator.analysis_dict)\n",
        "display(trades.shape)\n",
        "trades.head(5).T"
      ]
    },
    {
      "cell_type": "code",
      "execution_count": null,
      "metadata": {
        "id": "XW3jPrNFBPqc"
      },
      "outputs": [],
      "source": [
        "display(trades.tail(1).T)"
      ]
    },
    {
      "cell_type": "code",
      "execution_count": null,
      "metadata": {
        "id": "KapSf8i2BR9o"
      },
      "outputs": [],
      "source": [
        "trades['time_diff'] = trades.time_until_end.diff()\n",
        "trades['time_diff_shift'] = trades.time_until_end.shift(-1).diff()\n",
        "trades.loc[len(trades)-1,'time_diff_shift'] = 1\n",
        "trades['fee_in_bps'] = trades.fee / trades.out_without_fee * 100 * 100\n",
        "trades.loc[(trades.time_diff>0) | (trades.time_diff_shift>0) | (trades.index == trades.index.max()),:]"
      ]
    },
    {
      "cell_type": "code",
      "execution_count": null,
      "metadata": {},
      "outputs": [],
      "source": [
        "general_columns = ['run_number','model_name','num_orders','t_stretch','target_liquidity','target_daily_volume','pool_apy','fee_percent','init_vault_age','vault_apy','days_until_maturity','num_trading_days'] \n",
        "# create runs dataframe from the last trade in each run (using time_diff instead would pick the 1st)\n",
        "runs = trades.loc[(trades.time_diff_shift>0),:].copy().loc[:,general_columns]\n",
        "# variables that change per trade represent the last value in the run, rename the useful ones\n",
        "runs.rename(columns={'current_apy':'ending_apy','num_orders':'total_orders'}, inplace=True)\n",
        "# general_columns=runs.columns.to_list()\n",
        "runs.set_index('run_number', inplace=True)\n",
        "display(runs.T)"
      ]
    },
    {
      "cell_type": "code",
      "execution_count": null,
      "metadata": {},
      "outputs": [],
      "source": [
        "do_not_aggregate = ['run_number','model_name','num_orders']\n",
        "print('inspect standard deviations to know what to aggregate or not')\n",
        "dfg_std = trades.groupby(general_columns[0])[[x for x in general_columns if x not in do_not_aggregate]].std()\n",
        "display(dfg_std.T) # check if these are really constant"
      ]
    },
    {
      "cell_type": "code",
      "execution_count": null,
      "metadata": {},
      "outputs": [],
      "source": [
        "trade_columns = list(set(trades.columns) - set(general_columns) - set(do_not_aggregate))\n",
        "display(trade_columns)"
      ]
    },
    {
      "cell_type": "code",
      "execution_count": null,
      "metadata": {},
      "outputs": [],
      "source": [
        "# do mean things\n",
        "mean_columns = ['time_until_end','init_price_per_share','base_asset_price','spot_price','out_without_fee_slippage','x_reserves',\\\n",
        "    'out_without_fee','fee','trade_amount','out_with_fee','day','fee_in_bps','y_reserves','total_supply']\n",
        "dfg_mean = trades.groupby(['run_number'])[mean_columns].mean()\n",
        "dfg_mean.columns = ['mean_'+col for col in dfg_mean.columns]\n",
        "\n",
        "# do sum things\n",
        "sum_columns = ['fee','out_with_fee','out_without_fee','out_without_fee_slippage','trade_amount']\n",
        "dfg_sum = trades.groupby(['run_number'])[sum_columns].sum()\n",
        "dfg_sum.columns = ['sum_'+col for col in dfg_sum.columns]\n",
        "\n",
        "dfg = pd.concat([runs, dfg_mean, dfg_sum], axis=1)\n",
        "dfgt = dfg.T\n",
        "display(dfgt)\n",
        "dfgt.to_csv('dfgt.csv')"
      ]
    },
    {
      "cell_type": "code",
      "execution_count": null,
      "metadata": {},
      "outputs": [],
      "source": [
        "display(trades.columns)\n",
        "# display(trades.loc[trades.run_number==1,'num_orders'])"
      ]
    },
    {
      "cell_type": "code",
      "execution_count": null,
      "metadata": {},
      "outputs": [],
      "source": [
        "debug = True\n",
        "# dfs = []\n",
        "# oldIndex = []\n",
        "\n",
        "# calculat derived variables across runs\n",
        "trades['total_liquidity']=trades.loc[:,'x_reserves']*trades.loc[:,'base_asset_price']+trades.loc[:,'y_reserves']*trades.loc[:,'base_asset_price']*trades.loc[:,'spot_price']\n",
        "trades['trade_volume_usd']=trades.loc[:,'out_with_fee']*trades.loc[:,'base_asset_price']\n",
        "# df['pu']=df.loc[:,'spot_price']*df.loc[:,'input.u']/df.loc[0,'spot_price'] # this is apr (includes compounding)\n",
        "trades['pr']=((trades.loc[:,'spot_price']-trades.loc[0,'spot_price'])/1) # this is APR (does not include compounding)\n",
        "trades['pu']=(trades.loc[:,'pr']+1)*trades.loc[:,'init_price_per_share'] # this is APR (does not include compounding)\n",
        "trades['direction'] = 'out' # we know direction is always out\n",
        "display(trades.loc[:,['day','num_orders','trade_amount','spot_price','pr','pu']])\n",
        "\n",
        "# separate results into different DFs based on run\n",
        "# for (model_name,yba,g,target_liquidity,target_daily_volume) in run_matrix:\n",
        "#   newIndex = (df['init.market_price']==yba[\"market_price\"]) & (df['init.apr']==yba[\"apr\"]) & (df['init.percent_fee']==g) & (df['init.days_until_maturity']==yba[\"days_until_maturity\"]) & (df['init.target_liquidity']==target_liquidity) & (df['init.target_daily_volume']==target_daily_volume)\n",
        "#   if len(oldIndex)==0 or not all(newIndex==oldIndex):\n",
        "#     dfs.append(df[ newIndex ].reset_index(drop=True))\n",
        "#     oldIndex = newIndex\n",
        "\n",
        "numPlots = 5\n",
        "for run_id in range(0,trades.run_number.max()+1):\n",
        "  # TODO: is trade_number identical to num_orders?\n",
        "  df = trades.loc[trades.run_number==run_id,:].reset_index().rename(columns = {'index':'trade_number'})\n",
        "  # calculate derived variables per run\n",
        "  # df['fee_sum'] = df.fee.cumsum()\n",
        "\n",
        "  fig, ax = plt.subplots(ncols=1, nrows=numPlots,gridspec_kw = {'wspace':0, 'hspace':0, 'height_ratios':np.ones(numPlots)})\n",
        "  fig.patch.set_facecolor('white')   # set fig background color to white\n",
        "  df_fees_volume = trades.groupby(['day','model_name']).agg({'trade_volume_usd':['sum']\\\n",
        "                                  ,'fee':['mean','std','min','max','sum']\\\n",
        "                                })\n",
        "  df_fees_by_trade_type = trades.groupby(['model_name','direction','token_in']).agg({'trade_volume_usd':['sum']\\\n",
        "                                  ,'num_orders':['count']\\\n",
        "                                  ,'fee_in_bps':['mean','std','min','max','sum']\\\n",
        "                                  # ,'input.amount':['mean','std','min','max','sum']\\\n",
        "                                  # ,'output.slippage':['mean','std','min','max','sum']\\\n",
        "                                  # ,'output.fee':['mean','std','min','max','sum']\\\n",
        "                                }).rename(columns={'num_orders_sum':'trade_number_sum'})\n",
        "  if debug: display(df_fees_by_trade_type)\n",
        "                            \n",
        "  df_fees_volume.columns = ['_'.join(col).strip() for col in df_fees_volume.columns.values]\n",
        "  df_fees_volume = df_fees_volume.reset_index()\n",
        "\n",
        "  for model in df_fees_volume.model_name.unique():\n",
        "    ax[0] = df_fees_volume.loc[df_fees_volume.model_name==model,:].plot(x=\"day\", y=\"fee_sum\",figsize=(24,18),ax=ax[0],label=model)\n",
        "  ax[0].set_xlabel(\"\")\n",
        "  ax[0].set_ylabel(\"Fees (US Dollars)\",fontsize=18)\n",
        "  ax[0].tick_params(axis = \"both\", labelsize=18)\n",
        "  ax[0].grid(visible=True,linestyle='--', linewidth='1', color='grey',which='both',axis='y')\n",
        "  ax[0].xaxis.set_ticklabels([])\n",
        "  title = \"Fees Collected Per Day Until Maturity\\nAPY: {:.2f}%, Time Stretch: {:.2f}, Maturity: {:} days\\n\\\n",
        "          Target Liquidity: {:.2f}, Target Daily Volume: {:.2f}, Percent Fees: {:.2f}%\"\\\n",
        "    .format(df['pool_apy'][0],df['t_stretch'][0],df['days_until_maturity'][0]\\\n",
        "      ,df[\"target_daily_volume\"][0],df[\"target_liquidity\"][0],df[\"fee_percent\"][0])\n",
        "  ax[0].set_title(title,fontsize=20)\n",
        "  ax[0].legend(fontsize=18)\n",
        "\n",
        "  currentPlot = 1\n",
        "  df_to_display = pd.DataFrame()\n",
        "  for model in df_fees_volume.model_name.unique(): # for each model (per run?)\n",
        "    ax[currentPlot] = trades.loc[trades.model_name==model,:]\\\n",
        "      .plot(x=\"num_orders\",y=\"pool_apy\",figsize=(24,18),ax=ax[currentPlot],label=model)\n",
        "    df_to_display = pd.concat([df_to_display,trades.loc[trades.model_name==model,:].head(1)])\n",
        "  df_to_display=df_to_display.set_index('model_name',drop=True)\n",
        "  df_to_display.loc['diff']=[df_to_display.iloc[1,i]-df_to_display.iloc[0,i] if isinstance(df_to_display.iloc[0,i],numbers.Number) else df_to_display.iloc[0,i] for i in range(0,df_to_display.shape[1])]\n",
        "  df_to_display.loc['ratio']=[df_to_display.iloc[1,i]/df_to_display.iloc[0,i] if isinstance(df_to_display.iloc[0,i],numbers.Number) else df_to_display.iloc[0,i] for i in range(0,df_to_display.shape[1])]\n",
        "  if debug: display(df_to_display.loc[:,(df_to_display.iloc[0,:].values!=df_to_display.iloc[1,:].values) | (df_to_display.columns.isin(['price_per_share','init_price_per_share']))].T)\n",
        "\n",
        "  ax[currentPlot] = df.plot(x=\"trade_number\",y=\"vault_apy\",figsize=(24,18),ax=ax[currentPlot],label='vault_apy {}→{}'.format(df.loc[:,'vault_apy'].values[0],df.loc[:,'vault_apy'].values[-1]))\n",
        "  ax[currentPlot].set_xlabel(\"\")\n",
        "  ax[currentPlot].set_ylabel(\"apy\",fontsize=18)\n",
        "  ax[currentPlot].tick_params(axis = \"both\", labelsize=18)\n",
        "  ax[currentPlot].grid(visible=True,linestyle='--', linewidth='1', color='grey',which='both',axis='y')\n",
        "  ax[currentPlot].xaxis.set_ticklabels([])\n",
        "  ax[currentPlot].legend(fontsize=18)\n",
        "\n",
        "  currentPlot = 2 # c and u\n",
        "  ax[currentPlot] = df.plot(x=\"trade_number\",y=\"price_per_share\",figsize=(24,18),ax=ax[currentPlot],label='c {:,.3f}→{:,.3f} r={:.3%}'.format(df.loc[:,'price_per_share'].values[0],df.loc[:,'price_per_share'].values[-1],df.loc[:,'price_per_share'].values[-1]/df.loc[:,'price_per_share'].values[0]-1))\n",
        "  ax[currentPlot] = df.plot(x=\"trade_number\",y=\"init_price_per_share\",figsize=(24,18),ax=ax[currentPlot],label='u')\n",
        "  ax[currentPlot] = df.plot(x=\"trade_number\",y=\"pu\",figsize=(24,18),ax=ax[currentPlot],label='p {:,.3f}→{:,.3f} r={:.3%}'.format(df.loc[:,'pu'].values[0],df.loc[:,'pu'].values[-1],df.loc[:,'pu'].values[-1]/df.loc[:,'pu'].values[0]-1))\n",
        "  # ax2 = df.loc[df.model_name==model,:].plot(secondary_y=True,x=\"output.trade_number\",y='spot_price',figsize=(24,18),ax=ax[currentPlot],label='p')\n",
        "  ax[currentPlot].set_ylabel(\"Price Per Share\",fontsize=18)\n",
        "  ax[currentPlot].tick_params(axis = \"both\", labelsize=18)\n",
        "  ax[currentPlot].grid(visible=True,linestyle='--', linewidth='1', color='grey',which='both',axis='y')\n",
        "  ax[currentPlot].xaxis.set_ticklabels([])\n",
        "\n",
        "  currentPlot = 3\n",
        "  for model in df_fees_volume.model_name.unique():\n",
        "    ax[currentPlot] = df_fees_volume.loc[df_fees_volume.model_name==model,:]\\\n",
        "      .plot(kind='line',x=\"day\", y=\"trade_volume_usd_sum\",ax=ax[currentPlot],label=model)\n",
        "  ax[currentPlot].set_xlabel(\"Day\",fontsize=18)\n",
        "  ax[currentPlot].set_ylabel(\"Volume (US Dollars)\",fontsize=18)\n",
        "  ax[currentPlot].tick_params(axis = \"both\", labelsize=12)\n",
        "  ax[currentPlot].grid(visible=True,linestyle='--', linewidth='1', color='grey',which='both',axis='y')\n",
        "  ax[currentPlot].legend(fontsize=18)\n",
        "  ax[currentPlot].ticklabel_format(style='plain',axis='y')\n",
        "  fig.subplots_adjust(wspace=None, hspace=None)\n",
        "\n",
        "  currentPlot = 4\n",
        "  for model in df_fees_volume.model_name.unique():\n",
        "    ax[currentPlot] = trades.loc[:,:]\\\n",
        "      .plot(kind='line',x=\"day\", y=[\"x_reserves\",\"y_reserves\"],ax=ax[currentPlot],label=[model+'x',model+'y']) # .plot(kind='line',x=\"day\", y=\"total_liquidity\",ax=ax[currentPlot],label=model)\n",
        "  # ax[currentPlot-2].plot(ax[currentPlot-2].lines[0].get_xdata()\\\n",
        "  #   ,ax[currentPlot].lines[0].get_ydata()/ax[currentPlot].lines[1].get_ydata()*ax[currentPlot-2].lines[0].get_ydata()[0]\\\n",
        "  #     ,label='liquidityDiff')\n",
        "  ax[currentPlot-2].legend(fontsize=18)\n",
        "  ax[currentPlot].set_xlabel(\"Day\",fontsize=18)\n",
        "  ax[currentPlot].set_ylabel(\"Liquidity (US Dollars)\",fontsize=18)\n",
        "  ax[currentPlot].tick_params(axis = \"both\", labelsize=12)\n",
        "  ax[currentPlot].grid(visible=True,linestyle='--', linewidth='1', color='grey',which='both',axis='y')\n",
        "  ax[currentPlot].legend(fontsize=18)\n",
        "  ax[currentPlot].ticklabel_format(style='plain',axis='y')\n",
        "  fig.subplots_adjust(wspace=None, hspace=None)\n",
        "\n",
        "  plt.show()\n",
        "  os.makedirs(os.getcwd()+\"\\\\figures\", exist_ok=True)\n",
        "  fileName = \"{}\\\\figures\\chart{}.png\".format(os.getcwd(),run_id+1)\n",
        "  fig.savefig(fname=fileName,bbox_inches='tight')"
      ]
    },
    {
      "cell_type": "code",
      "execution_count": null,
      "metadata": {},
      "outputs": [],
      "source": []
    }
  ],
  "metadata": {
    "colab": {
      "collapsed_sections": [],
      "name": "yield_sims.ipynb",
      "private_outputs": true,
      "provenance": []
    },
    "gpuClass": "standard",
    "kernelspec": {
      "display_name": "Python 3.10.1 64-bit",
      "language": "python",
      "name": "python3"
    },
    "language_info": {
      "codemirror_mode": {
        "name": "ipython",
        "version": 3
      },
      "file_extension": ".py",
      "mimetype": "text/x-python",
      "name": "python",
      "nbconvert_exporter": "python",
      "pygments_lexer": "ipython3",
      "version": "3.10.6"
    },
    "vscode": {
      "interpreter": {
        "hash": "369f2c481f4da34e4445cda3fffd2e751bd1c4d706f27375911949ba6bb62e1c"
      }
    }
  },
  "nbformat": 4,
  "nbformat_minor": 0
}
