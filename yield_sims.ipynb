{
  "cells": [
    {
      "cell_type": "code",
      "execution_count": null,
      "metadata": {
        "id": "BcPitY03_NxU"
      },
      "outputs": [],
      "source": [
        "import os, sys\n",
        "\n",
        "# if os.path.exists('analysis'):\n",
        "#     os.system('rm -rf analysis')\n",
        "\n",
        "# !git clone https://github.com/element-fi/analysis.git\n",
        "\n",
        "# sys.path.insert(1, os.getcwd())"
      ]
    },
    {
      "cell_type": "code",
      "execution_count": null,
      "metadata": {
        "id": "4pmDE-zGf_CO"
      },
      "outputs": [],
      "source": [
        "import json, numbers, math, time\n",
        "\n",
        "import numpy as np\n",
        "import pandas as pd\n",
        "import matplotlib.pyplot as plt\n",
        "\n",
        "from sim import YieldSimulator, ElementPricingModel, Market, YieldSpacev2PricingModel, YieldSpacev2MinFeePricingModel\n",
        "\n",
        "seed = 3\n",
        "rng = np.random.default_rng(seed)"
      ]
    },
    {
      "cell_type": "code",
      "execution_count": null,
      "metadata": {
        "id": "tfTl4-SGBCi9"
      },
      "outputs": [],
      "source": [
        "config = {\n",
        "    'step_size': 0.001,\n",
        "    'min_fee': 0.,\n",
        "    'max_fee': 0.5,\n",
        "    't_min': 0.001,\n",
        "    't_max': 1.0,\n",
        "    'base_asset_price': 2500., # aka market price\n",
        "    'min_target_liquidity': 100000.,\n",
        "    'max_target_liquidity': 10000000.,\n",
        "    'min_target_volume': 2e5,\n",
        "    'max_target_volume': 6e5,\n",
        "    'min_apy': 0.5,\n",
        "    'max_apy': 50,\n",
        "    'min_vault_age': 0.,\n",
        "    'max_vault_age': 2,\n",
        "    'min_vault_apy': 0.,\n",
        "    'max_vault_apy': 10.,\n",
        "    'precision': 8,\n",
        "    'pricing_model_name': 'YieldSpace',\n",
        "    'tokens': ['base', 'fyt'],\n",
        "    'trade_direction': 'out',\n",
        "    'days_until_maturity': 90,\n",
        "    'num_trading_days': 90, # should be <= days_until_maturity\n",
        "    'rng' : rng, # random number generator\n",
        "}"
      ]
    },
    {
      "cell_type": "code",
      "execution_count": null,
      "metadata": {
        "id": "V3HM2goD3WJF"
      },
      "outputs": [],
      "source": [
        "start_time = time.time()\n",
        "num_runs = 0\n",
        "\n",
        "pricing_model_list = ['Element', 'YieldSpacev2', 'YieldSpacev2MinFee']\n",
        "vault_age_list = [1] #[0.1, 0.3, 0.5]\n",
        "target_daily_volume_list = [5*1e5]\n",
        "target_liquidity_list = [10*1e6]\n",
        "fee_list = [0.1]\n",
        "#vault_apys = [[1,]*10 +[5,]*10 + [10,]*10 + [5,]*10 + [1,]*10,] # example variable vault apy\n",
        "#vault_apys = [[i,]*config['num_trading_days'] for i in [3, 5, 9]] # example constant vault apy\n",
        "# vault_apys = [[i,]*config['num_trading_days'] for i in [5]] # example constant vault apy\n",
        "vault_apy_list = [[-2,]*config['num_trading_days']] # constant vault apy\n",
        "\n",
        "simulator = YieldSimulator(**config)\n",
        "\n",
        "for pricing_model in pricing_model_list:\n",
        "    for vault_age in vault_age_list:\n",
        "        for vault_apy in vault_apy_list:\n",
        "            for target_daily_volume in target_daily_volume_list:\n",
        "                for target_liquidity in target_liquidity_list:\n",
        "                    for fee in fee_list:\n",
        "                        override_dict = {\n",
        "                            'vault_apy': vault_apy,\n",
        "                            'pricing_model_name': pricing_model,\n",
        "                            'vault_age': vault_age,\n",
        "                            'target_daily_volume': target_daily_volume,\n",
        "                            'target_liquidity': target_liquidity,\n",
        "                            'fee' : fee,\n",
        "                        }\n",
        "                    simulator.run_simulation(override_dict)\n",
        "                    num_runs += 1\n",
        "\n",
        "end_time = time.time()\n",
        "print(f'Total time for {num_runs} runs was {end_time-start_time:.3f} seconds; which is {(end_time-start_time)/num_runs:.3f} seconds per run')"
      ]
    },
    {
      "cell_type": "code",
      "execution_count": null,
      "metadata": {},
      "outputs": [],
      "source": [
        "trades = pd.DataFrame.from_dict(simulator.analysis_dict)\n",
        "display(trades.shape)\n",
        "trades.head(5).T"
      ]
    },
    {
      "cell_type": "code",
      "execution_count": null,
      "metadata": {
        "id": "XW3jPrNFBPqc"
      },
      "outputs": [],
      "source": [
        "display(trades.tail(1).T)"
      ]
    },
    {
      "cell_type": "code",
      "execution_count": null,
      "metadata": {
        "id": "KapSf8i2BR9o"
      },
      "outputs": [],
      "source": [
        "trades['time_diff'] = trades.time_until_end.diff()\n",
        "trades['time_diff_shift'] = trades.time_until_end.shift(-1).diff()\n",
        "trades['fee_in_bps'] = trades.fee / trades.out_without_fee * 100 * 100\n",
        "trades.loc[(trades.time_diff>0) | (trades.time_diff_shift>0) | (trades.index == trades.index.max()),:]"
      ]
    },
    {
      "cell_type": "code",
      "execution_count": null,
      "metadata": {},
      "outputs": [],
      "source": [
        "general_columns = ['run_number','model_name','num_orders','t_stretch','target_liquidity','target_daily_volume','start_apy','current_apy','fee_percent','init_vault_age','vault_apy','vault_age','days_until_maturity','num_trading_days'] \n",
        "# create runs dataframe from the last trade in each run (using time_diff instead would pick the 1st)\n",
        "runs = trades.loc[(trades.time_diff_shift>0),:].copy().loc[:,general_columns]\n",
        "# variables that change per trade represent the last value in the run, rename the useful ones\n",
        "runs.rename(columns={'current_apy':'ending_apy','num_orders':'total_orders'}, inplace=True)\n",
        "# general_columns=runs.columns.to_list()\n",
        "display(runs.head(1).T)"
      ]
    },
    {
      "cell_type": "code",
      "execution_count": null,
      "metadata": {},
      "outputs": [],
      "source": [
        "do_not_aggregate = ['run_number','model_name','num_orders']\n",
        "dfg = trades.groupby(general_columns[0])[[x for x in general_columns if x not in do_not_aggregate]].std()\n",
        "display(dfg.head(1).T)"
      ]
    },
    {
      "cell_type": "code",
      "execution_count": null,
      "metadata": {},
      "outputs": [],
      "source": [
        "trade_columns = list(set(trades.columns) - set(general_columns) - set(do_not_aggregate))\n",
        "display(trade_columns)"
      ]
    },
    {
      "cell_type": "code",
      "execution_count": null,
      "metadata": {},
      "outputs": [],
      "source": [
        "# do mean things\n",
        "mean_columns = ['time_until_end','normalizing_constant','conversion_rate','spot_price','out_without_fee_slippage','x_reserves','out_without_fee','fee','simulation_time'\\\n",
        "    ,'trade_amount','out_with_fee','day','fee_in_bps','y_reserves','total_supply']\n",
        "dfg_mean = trades.groupby(['run_number'])[mean_columns].mean()\n",
        "dfg_mean.columns = ['mean_'+col for col in dfg_mean.columns]\n",
        "\n",
        "# do sum things\n",
        "sum_columns = ['fee','out_with_fee','out_without_fee','out_without_fee_slippage','trade_amount']\n",
        "dfg_sum = trades.groupby(['run_number'])[sum_columns].mean()\n",
        "dfg_sum.columns = ['sum_'+col for col in dfg_sum.columns]\n",
        "\n",
        "dfg = pd.concat([dfg, dfg_mean, dfg_sum], axis=1)\n",
        "dfgt = dfg.T\n",
        "display(dfgt)\n",
        "dfgt.to_csv('dfgt.csv')"
      ]
    },
    {
      "cell_type": "code",
      "execution_count": null,
      "metadata": {},
      "outputs": [],
      "source": []
    }
  ],
  "metadata": {
    "colab": {
      "collapsed_sections": [],
      "name": "yield_sims.ipynb",
      "private_outputs": true,
      "provenance": []
    },
    "gpuClass": "standard",
    "kernelspec": {
      "display_name": "Python 3.10.1 64-bit",
      "language": "python",
      "name": "python3"
    },
    "language_info": {
      "codemirror_mode": {
        "name": "ipython",
        "version": 3
      },
      "file_extension": ".py",
      "mimetype": "text/x-python",
      "name": "python",
      "nbconvert_exporter": "python",
      "pygments_lexer": "ipython3",
      "version": "3.10.6"
    },
    "vscode": {
      "interpreter": {
        "hash": "369f2c481f4da34e4445cda3fffd2e751bd1c4d706f27375911949ba6bb62e1c"
      }
    }
  },
  "nbformat": 4,
  "nbformat_minor": 0
}
